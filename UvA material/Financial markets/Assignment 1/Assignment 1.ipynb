{
 "cells": [
  {
   "cell_type": "code",
   "execution_count": 2,
   "source": [
    "print('hidafdsdsfdsa1111fs43')"
   ],
   "outputs": [
    {
     "output_type": "stream",
     "name": "stdout",
     "text": [
      "hidafdsdsfdsa1111fs43\n"
     ]
    }
   ],
   "metadata": {}
  },
  {
   "cell_type": "code",
   "execution_count": 3,
   "source": [
    "import pandas as pd\r\n",
    "\r\n",
    "df = pd.read_excel (r'C:\\Users\\user\\Documents\\GitHub\\Python\\UvA material\\Financial markets\\KrispyKreme2021.xlsx')\r\n",
    "print (df)"
   ],
   "outputs": [
    {
     "output_type": "stream",
     "name": "stdout",
     "text": [
      "         t      Time  Trade Size (|q_t|)  Price (p_t)  Direction (d_t)  \\\n",
      "0        1  09:30:02                 200         2.99               -1   \n",
      "1        2  09:32:28                 500         3.01                1   \n",
      "2        3  09:33:35                 100         3.02               -1   \n",
      "3        4  09:33:38                 100         3.00                1   \n",
      "4        5  09:34:09                 100         3.03                1   \n",
      "...    ...       ...                 ...          ...              ...   \n",
      "1444  1445  15:59:12                 200         3.06                1   \n",
      "1445  1446  15:59:12                 200         3.06                1   \n",
      "1446  1447  15:59:12                 200         3.06                1   \n",
      "1447  1448  15:59:12                 200         3.06                1   \n",
      "1448  1449  15:59:22                 200         3.06                1   \n",
      "\n",
      "      Bid (b_t)  Ask (a_t)  Unnamed: 7  \n",
      "0          2.90       3.08         NaN  \n",
      "1          2.88       3.08         NaN  \n",
      "2          3.01       3.08         NaN  \n",
      "3          3.00       3.08         NaN  \n",
      "4          3.02       3.08         NaN  \n",
      "...         ...        ...         ...  \n",
      "1444       2.97       3.10         NaN  \n",
      "1445       2.97       3.10         NaN  \n",
      "1446       2.97       3.10         NaN  \n",
      "1447       2.97       3.10         NaN  \n",
      "1448       3.04       3.08         NaN  \n",
      "\n",
      "[1449 rows x 8 columns]\n"
     ]
    }
   ],
   "metadata": {}
  },
  {
   "cell_type": "markdown",
   "source": [
    "(a) \r\n",
    "\r\n",
    "For each transaction, compute (but do not report in your solution) \r\n",
    "(i) the quoted spread in absolute terms; \r\n",
    "(ii) the quoted spread in relative terms; \r\n",
    "(iii) the effective half-spread in absolute terms; \r\n",
    "(iv) the effective half-spread in relative terms."
   ],
   "metadata": {}
  },
  {
   "cell_type": "markdown",
   "source": [
    "# (i)\r\n",
    "# the quoted spread in absolute terms = the best ask - the best bid"
   ],
   "metadata": {}
  },
  {
   "cell_type": "code",
   "execution_count": 4,
   "source": [
    "df.columns\r\n",
    "# df_bid = df['Bid (b_t)']"
   ],
   "outputs": [
    {
     "output_type": "execute_result",
     "data": {
      "text/plain": [
       "Index(['t', 'Time', 'Trade Size (|q_t|)', 'Price (p_t)', 'Direction (d_t)',\n",
       "       'Bid (b_t)', 'Ask (a_t)', 'Unnamed: 7'],\n",
       "      dtype='object')"
      ]
     },
     "metadata": {},
     "execution_count": 4
    }
   ],
   "metadata": {}
  },
  {
   "cell_type": "code",
   "execution_count": 5,
   "source": [
    "df_bid = df['Bid (b_t)']\r\n",
    "df_ask = df['Ask (a_t)']\r\n",
    "df_bid_ask_spread = df_ask - df_bid"
   ],
   "outputs": [],
   "metadata": {}
  },
  {
   "cell_type": "code",
   "execution_count": 6,
   "source": [
    "df_bid_ask_spread\r\n"
   ],
   "outputs": [
    {
     "output_type": "execute_result",
     "data": {
      "text/plain": [
       "0       0.18\n",
       "1       0.20\n",
       "2       0.07\n",
       "3       0.08\n",
       "4       0.06\n",
       "        ... \n",
       "1444    0.13\n",
       "1445    0.13\n",
       "1446    0.13\n",
       "1447    0.13\n",
       "1448    0.04\n",
       "Length: 1449, dtype: float64"
      ]
     },
     "metadata": {},
     "execution_count": 6
    }
   ],
   "metadata": {}
  },
  {
   "cell_type": "code",
   "execution_count": 7,
   "source": [
    "print(df_bid_ask_spread.mean())"
   ],
   "outputs": [
    {
     "output_type": "stream",
     "name": "stdout",
     "text": [
      "0.024423740510696998\n"
     ]
    }
   ],
   "metadata": {}
  },
  {
   "cell_type": "markdown",
   "source": [
    "# (ii)\r\n",
    "# the quoted spread in relative terms \r\n",
    "# = (the best ask - the best bid)/midquote"
   ],
   "metadata": {}
  },
  {
   "cell_type": "code",
   "execution_count": 23,
   "source": [
    "df_bid_midquote = (df_ask + df_bid)/2\r\n",
    "df_bid_midquote.mean()"
   ],
   "outputs": [
    {
     "output_type": "execute_result",
     "data": {
      "text/plain": [
       "3.0573671497584543"
      ]
     },
     "metadata": {},
     "execution_count": 23
    }
   ],
   "metadata": {}
  },
  {
   "cell_type": "code",
   "execution_count": 24,
   "source": [
    "df_spread_relative = df_bid_ask_spread/df_bid_midquote\r\n",
    "df_spread_relative.mean()"
   ],
   "outputs": [
    {
     "output_type": "execute_result",
     "data": {
      "text/plain": [
       "0.008004676553846797"
      ]
     },
     "metadata": {},
     "execution_count": 24
    }
   ],
   "metadata": {}
  },
  {
   "cell_type": "markdown",
   "source": [
    "# (iii)\r\n",
    "# the effective half spread in absolute terms \r\n",
    "# = order direction (dt = 1: buy order, dt = -1: sell order) x ( transaction price - mid price just before execution)"
   ],
   "metadata": {}
  },
  {
   "cell_type": "code",
   "execution_count": 10,
   "source": [
    "df.columns"
   ],
   "outputs": [
    {
     "output_type": "execute_result",
     "data": {
      "text/plain": [
       "Index(['t', 'Time', 'Trade Size (|q_t|)', 'Price (p_t)', 'Direction (d_t)',\n",
       "       'Bid (b_t)', 'Ask (a_t)', 'Unnamed: 7'],\n",
       "      dtype='object')"
      ]
     },
     "metadata": {},
     "execution_count": 10
    }
   ],
   "metadata": {}
  },
  {
   "cell_type": "code",
   "execution_count": 25,
   "source": [
    "df_eff_half_abs = df['Direction (d_t)']*(df['Price (p_t)'] - (df_ask + df_bid)/2)\r\n",
    "df_eff_half_abs.mean()"
   ],
   "outputs": [
    {
     "output_type": "execute_result",
     "data": {
      "text/plain": [
       "0.006693512767425798"
      ]
     },
     "metadata": {},
     "execution_count": 25
    }
   ],
   "metadata": {}
  },
  {
   "cell_type": "markdown",
   "source": [
    "# (iiii)\r\n",
    "# the effective half spread in relative terms \r\n",
    "# = the effective half spread in absolute terms/mid price just before execution"
   ],
   "metadata": {}
  },
  {
   "cell_type": "code",
   "execution_count": 26,
   "source": [
    "df_eff_half_relative = df_eff_half_abs/ ((df_ask + df_bid)/2)\r\n",
    "df_eff_half_relative.mean()"
   ],
   "outputs": [
    {
     "output_type": "execute_result",
     "data": {
      "text/plain": [
       "0.0021900364231731964"
      ]
     },
     "metadata": {},
     "execution_count": 26
    }
   ],
   "metadata": {}
  },
  {
   "cell_type": "markdown",
   "source": [
    "## 2. For each trade, starting from the 101-th trade, compute the average of the (quoted)\r\n",
    "## relative spread for the past 100 trades. Plot a graph of your results. What kind of\r\n",
    "## pattern emerges over the day?"
   ],
   "metadata": {}
  },
  {
   "cell_type": "code",
   "execution_count": 13,
   "source": [
    "df_100th = df.iloc[0:101,::]\r\n",
    "df_100th"
   ],
   "outputs": [
    {
     "output_type": "execute_result",
     "data": {
      "text/html": [
       "<div>\n",
       "<style scoped>\n",
       "    .dataframe tbody tr th:only-of-type {\n",
       "        vertical-align: middle;\n",
       "    }\n",
       "\n",
       "    .dataframe tbody tr th {\n",
       "        vertical-align: top;\n",
       "    }\n",
       "\n",
       "    .dataframe thead th {\n",
       "        text-align: right;\n",
       "    }\n",
       "</style>\n",
       "<table border=\"1\" class=\"dataframe\">\n",
       "  <thead>\n",
       "    <tr style=\"text-align: right;\">\n",
       "      <th></th>\n",
       "      <th>t</th>\n",
       "      <th>Time</th>\n",
       "      <th>Trade Size (|q_t|)</th>\n",
       "      <th>Price (p_t)</th>\n",
       "      <th>Direction (d_t)</th>\n",
       "      <th>Bid (b_t)</th>\n",
       "      <th>Ask (a_t)</th>\n",
       "      <th>Unnamed: 7</th>\n",
       "    </tr>\n",
       "  </thead>\n",
       "  <tbody>\n",
       "    <tr>\n",
       "      <th>0</th>\n",
       "      <td>1</td>\n",
       "      <td>09:30:02</td>\n",
       "      <td>200</td>\n",
       "      <td>2.99</td>\n",
       "      <td>-1</td>\n",
       "      <td>2.90</td>\n",
       "      <td>3.08</td>\n",
       "      <td>NaN</td>\n",
       "    </tr>\n",
       "    <tr>\n",
       "      <th>1</th>\n",
       "      <td>2</td>\n",
       "      <td>09:32:28</td>\n",
       "      <td>500</td>\n",
       "      <td>3.01</td>\n",
       "      <td>1</td>\n",
       "      <td>2.88</td>\n",
       "      <td>3.08</td>\n",
       "      <td>NaN</td>\n",
       "    </tr>\n",
       "    <tr>\n",
       "      <th>2</th>\n",
       "      <td>3</td>\n",
       "      <td>09:33:35</td>\n",
       "      <td>100</td>\n",
       "      <td>3.02</td>\n",
       "      <td>-1</td>\n",
       "      <td>3.01</td>\n",
       "      <td>3.08</td>\n",
       "      <td>NaN</td>\n",
       "    </tr>\n",
       "    <tr>\n",
       "      <th>3</th>\n",
       "      <td>4</td>\n",
       "      <td>09:33:38</td>\n",
       "      <td>100</td>\n",
       "      <td>3.00</td>\n",
       "      <td>1</td>\n",
       "      <td>3.00</td>\n",
       "      <td>3.08</td>\n",
       "      <td>NaN</td>\n",
       "    </tr>\n",
       "    <tr>\n",
       "      <th>4</th>\n",
       "      <td>5</td>\n",
       "      <td>09:34:09</td>\n",
       "      <td>100</td>\n",
       "      <td>3.03</td>\n",
       "      <td>1</td>\n",
       "      <td>3.02</td>\n",
       "      <td>3.08</td>\n",
       "      <td>NaN</td>\n",
       "    </tr>\n",
       "    <tr>\n",
       "      <th>...</th>\n",
       "      <td>...</td>\n",
       "      <td>...</td>\n",
       "      <td>...</td>\n",
       "      <td>...</td>\n",
       "      <td>...</td>\n",
       "      <td>...</td>\n",
       "      <td>...</td>\n",
       "      <td>...</td>\n",
       "    </tr>\n",
       "    <tr>\n",
       "      <th>96</th>\n",
       "      <td>97</td>\n",
       "      <td>10:01:15</td>\n",
       "      <td>100</td>\n",
       "      <td>3.05</td>\n",
       "      <td>1</td>\n",
       "      <td>3.04</td>\n",
       "      <td>3.05</td>\n",
       "      <td>NaN</td>\n",
       "    </tr>\n",
       "    <tr>\n",
       "      <th>97</th>\n",
       "      <td>98</td>\n",
       "      <td>10:01:15</td>\n",
       "      <td>100</td>\n",
       "      <td>3.05</td>\n",
       "      <td>1</td>\n",
       "      <td>3.04</td>\n",
       "      <td>3.05</td>\n",
       "      <td>NaN</td>\n",
       "    </tr>\n",
       "    <tr>\n",
       "      <th>98</th>\n",
       "      <td>99</td>\n",
       "      <td>10:01:22</td>\n",
       "      <td>100</td>\n",
       "      <td>3.04</td>\n",
       "      <td>-1</td>\n",
       "      <td>3.04</td>\n",
       "      <td>3.05</td>\n",
       "      <td>NaN</td>\n",
       "    </tr>\n",
       "    <tr>\n",
       "      <th>99</th>\n",
       "      <td>100</td>\n",
       "      <td>10:02:36</td>\n",
       "      <td>800</td>\n",
       "      <td>3.04</td>\n",
       "      <td>-1</td>\n",
       "      <td>3.04</td>\n",
       "      <td>3.05</td>\n",
       "      <td>NaN</td>\n",
       "    </tr>\n",
       "    <tr>\n",
       "      <th>100</th>\n",
       "      <td>101</td>\n",
       "      <td>10:02:51</td>\n",
       "      <td>2000</td>\n",
       "      <td>3.04</td>\n",
       "      <td>-1</td>\n",
       "      <td>3.04</td>\n",
       "      <td>3.05</td>\n",
       "      <td>NaN</td>\n",
       "    </tr>\n",
       "  </tbody>\n",
       "</table>\n",
       "<p>101 rows × 8 columns</p>\n",
       "</div>"
      ],
      "text/plain": [
       "       t      Time  Trade Size (|q_t|)  Price (p_t)  Direction (d_t)  \\\n",
       "0      1  09:30:02                 200         2.99               -1   \n",
       "1      2  09:32:28                 500         3.01                1   \n",
       "2      3  09:33:35                 100         3.02               -1   \n",
       "3      4  09:33:38                 100         3.00                1   \n",
       "4      5  09:34:09                 100         3.03                1   \n",
       "..   ...       ...                 ...          ...              ...   \n",
       "96    97  10:01:15                 100         3.05                1   \n",
       "97    98  10:01:15                 100         3.05                1   \n",
       "98    99  10:01:22                 100         3.04               -1   \n",
       "99   100  10:02:36                 800         3.04               -1   \n",
       "100  101  10:02:51                2000         3.04               -1   \n",
       "\n",
       "     Bid (b_t)  Ask (a_t)  Unnamed: 7  \n",
       "0         2.90       3.08         NaN  \n",
       "1         2.88       3.08         NaN  \n",
       "2         3.01       3.08         NaN  \n",
       "3         3.00       3.08         NaN  \n",
       "4         3.02       3.08         NaN  \n",
       "..         ...        ...         ...  \n",
       "96        3.04       3.05         NaN  \n",
       "97        3.04       3.05         NaN  \n",
       "98        3.04       3.05         NaN  \n",
       "99        3.04       3.05         NaN  \n",
       "100       3.04       3.05         NaN  \n",
       "\n",
       "[101 rows x 8 columns]"
      ]
     },
     "metadata": {},
     "execution_count": 13
    }
   ],
   "metadata": {}
  },
  {
   "cell_type": "code",
   "execution_count": 14,
   "source": [
    "df_bid_100th = df_100th['Bid (b_t)']\r\n",
    "df_ask_100th = df_100th['Ask (a_t)']\r\n",
    "df_bid_ask_spread_100th = df_ask_100th - df_bid_100th\r\n",
    "df_bid_midquote_100th   = (df_ask_100th + df_bid_100th)/2\r\n",
    "df_spread_relative_100th= df_bid_ask_spread_100th/df_bid_midquote_100th \r\n",
    "df_spread_relative_100th"
   ],
   "outputs": [
    {
     "output_type": "execute_result",
     "data": {
      "text/plain": [
       "0      0.060201\n",
       "1      0.067114\n",
       "2      0.022989\n",
       "3      0.026316\n",
       "4      0.019672\n",
       "         ...   \n",
       "96     0.003284\n",
       "97     0.003284\n",
       "98     0.003284\n",
       "99     0.003284\n",
       "100    0.003284\n",
       "Length: 101, dtype: float64"
      ]
     },
     "metadata": {},
     "execution_count": 14
    }
   ],
   "metadata": {}
  },
  {
   "cell_type": "code",
   "execution_count": 15,
   "source": [
    "import matplotlib.pyplot as plt\r\n",
    "x = df_100th['t']\r\n",
    "y = df_spread_relative_100th\r\n",
    "fig = plt.figure()\r\n",
    "ax = fig.add_subplot(111)\r\n",
    "ax.plot(x, y, color='lightblue', linewidth=3)\r\n",
    "plt.savefig('foo.png')\r\n",
    "plt.show()"
   ],
   "outputs": [
    {
     "output_type": "display_data",
     "data": {
      "image/png": "[encoded data removed]",
      "text/plain": [
       "<Figure size 432x288 with 1 Axes>"
      ]
     },
     "metadata": {
      "needs_background": "light"
     }
    }
   ],
   "metadata": {}
  },
  {
   "cell_type": "markdown",
   "source": [
    "(c)\r\n",
    "Starting from the second trading round (t = 2), compute the change in the mid-price\r\n",
    "from time t − 1 to time t, ∆mt = mt − mt−1 (e.g., for the second trading round you\r\n",
    "have ∆m2 = m2 −m1), and the change in the transaction price from time t−1 to time\r\n",
    "t, ∆pt = pt − pt−1. Run two OLS regressions (e.g., in Excel):\r\n",
    "∆mt = αm + βm ∆mt−1 + \u000ft and ∆pt = αp + βp ∆pt−1 + \u000ft\r\n",
    "Report the coefficients and t-stats (note: the dataset for the regressions starts in t = 3\r\n",
    "since you have no ∆pt−1 for t = 2). What signs do the beta coefficients have, and how\r\n",
    "would you interpret/explain these findings?"
   ],
   "metadata": {}
  },
  {
   "cell_type": "markdown",
   "source": [
    "# (d)"
   ],
   "metadata": {}
  },
  {
   "cell_type": "code",
   "execution_count": 16,
   "source": [
    "df"
   ],
   "outputs": [
    {
     "output_type": "execute_result",
     "data": {
      "text/html": [
       "<div>\n",
       "<style scoped>\n",
       "    .dataframe tbody tr th:only-of-type {\n",
       "        vertical-align: middle;\n",
       "    }\n",
       "\n",
       "    .dataframe tbody tr th {\n",
       "        vertical-align: top;\n",
       "    }\n",
       "\n",
       "    .dataframe thead th {\n",
       "        text-align: right;\n",
       "    }\n",
       "</style>\n",
       "<table border=\"1\" class=\"dataframe\">\n",
       "  <thead>\n",
       "    <tr style=\"text-align: right;\">\n",
       "      <th></th>\n",
       "      <th>t</th>\n",
       "      <th>Time</th>\n",
       "      <th>Trade Size (|q_t|)</th>\n",
       "      <th>Price (p_t)</th>\n",
       "      <th>Direction (d_t)</th>\n",
       "      <th>Bid (b_t)</th>\n",
       "      <th>Ask (a_t)</th>\n",
       "      <th>Unnamed: 7</th>\n",
       "    </tr>\n",
       "  </thead>\n",
       "  <tbody>\n",
       "    <tr>\n",
       "      <th>0</th>\n",
       "      <td>1</td>\n",
       "      <td>09:30:02</td>\n",
       "      <td>200</td>\n",
       "      <td>2.99</td>\n",
       "      <td>-1</td>\n",
       "      <td>2.90</td>\n",
       "      <td>3.08</td>\n",
       "      <td>NaN</td>\n",
       "    </tr>\n",
       "    <tr>\n",
       "      <th>1</th>\n",
       "      <td>2</td>\n",
       "      <td>09:32:28</td>\n",
       "      <td>500</td>\n",
       "      <td>3.01</td>\n",
       "      <td>1</td>\n",
       "      <td>2.88</td>\n",
       "      <td>3.08</td>\n",
       "      <td>NaN</td>\n",
       "    </tr>\n",
       "    <tr>\n",
       "      <th>2</th>\n",
       "      <td>3</td>\n",
       "      <td>09:33:35</td>\n",
       "      <td>100</td>\n",
       "      <td>3.02</td>\n",
       "      <td>-1</td>\n",
       "      <td>3.01</td>\n",
       "      <td>3.08</td>\n",
       "      <td>NaN</td>\n",
       "    </tr>\n",
       "    <tr>\n",
       "      <th>3</th>\n",
       "      <td>4</td>\n",
       "      <td>09:33:38</td>\n",
       "      <td>100</td>\n",
       "      <td>3.00</td>\n",
       "      <td>1</td>\n",
       "      <td>3.00</td>\n",
       "      <td>3.08</td>\n",
       "      <td>NaN</td>\n",
       "    </tr>\n",
       "    <tr>\n",
       "      <th>4</th>\n",
       "      <td>5</td>\n",
       "      <td>09:34:09</td>\n",
       "      <td>100</td>\n",
       "      <td>3.03</td>\n",
       "      <td>1</td>\n",
       "      <td>3.02</td>\n",
       "      <td>3.08</td>\n",
       "      <td>NaN</td>\n",
       "    </tr>\n",
       "    <tr>\n",
       "      <th>...</th>\n",
       "      <td>...</td>\n",
       "      <td>...</td>\n",
       "      <td>...</td>\n",
       "      <td>...</td>\n",
       "      <td>...</td>\n",
       "      <td>...</td>\n",
       "      <td>...</td>\n",
       "      <td>...</td>\n",
       "    </tr>\n",
       "    <tr>\n",
       "      <th>1444</th>\n",
       "      <td>1445</td>\n",
       "      <td>15:59:12</td>\n",
       "      <td>200</td>\n",
       "      <td>3.06</td>\n",
       "      <td>1</td>\n",
       "      <td>2.97</td>\n",
       "      <td>3.10</td>\n",
       "      <td>NaN</td>\n",
       "    </tr>\n",
       "    <tr>\n",
       "      <th>1445</th>\n",
       "      <td>1446</td>\n",
       "      <td>15:59:12</td>\n",
       "      <td>200</td>\n",
       "      <td>3.06</td>\n",
       "      <td>1</td>\n",
       "      <td>2.97</td>\n",
       "      <td>3.10</td>\n",
       "      <td>NaN</td>\n",
       "    </tr>\n",
       "    <tr>\n",
       "      <th>1446</th>\n",
       "      <td>1447</td>\n",
       "      <td>15:59:12</td>\n",
       "      <td>200</td>\n",
       "      <td>3.06</td>\n",
       "      <td>1</td>\n",
       "      <td>2.97</td>\n",
       "      <td>3.10</td>\n",
       "      <td>NaN</td>\n",
       "    </tr>\n",
       "    <tr>\n",
       "      <th>1447</th>\n",
       "      <td>1448</td>\n",
       "      <td>15:59:12</td>\n",
       "      <td>200</td>\n",
       "      <td>3.06</td>\n",
       "      <td>1</td>\n",
       "      <td>2.97</td>\n",
       "      <td>3.10</td>\n",
       "      <td>NaN</td>\n",
       "    </tr>\n",
       "    <tr>\n",
       "      <th>1448</th>\n",
       "      <td>1449</td>\n",
       "      <td>15:59:22</td>\n",
       "      <td>200</td>\n",
       "      <td>3.06</td>\n",
       "      <td>1</td>\n",
       "      <td>3.04</td>\n",
       "      <td>3.08</td>\n",
       "      <td>NaN</td>\n",
       "    </tr>\n",
       "  </tbody>\n",
       "</table>\n",
       "<p>1449 rows × 8 columns</p>\n",
       "</div>"
      ],
      "text/plain": [
       "         t      Time  Trade Size (|q_t|)  Price (p_t)  Direction (d_t)  \\\n",
       "0        1  09:30:02                 200         2.99               -1   \n",
       "1        2  09:32:28                 500         3.01                1   \n",
       "2        3  09:33:35                 100         3.02               -1   \n",
       "3        4  09:33:38                 100         3.00                1   \n",
       "4        5  09:34:09                 100         3.03                1   \n",
       "...    ...       ...                 ...          ...              ...   \n",
       "1444  1445  15:59:12                 200         3.06                1   \n",
       "1445  1446  15:59:12                 200         3.06                1   \n",
       "1446  1447  15:59:12                 200         3.06                1   \n",
       "1447  1448  15:59:12                 200         3.06                1   \n",
       "1448  1449  15:59:22                 200         3.06                1   \n",
       "\n",
       "      Bid (b_t)  Ask (a_t)  Unnamed: 7  \n",
       "0          2.90       3.08         NaN  \n",
       "1          2.88       3.08         NaN  \n",
       "2          3.01       3.08         NaN  \n",
       "3          3.00       3.08         NaN  \n",
       "4          3.02       3.08         NaN  \n",
       "...         ...        ...         ...  \n",
       "1444       2.97       3.10         NaN  \n",
       "1445       2.97       3.10         NaN  \n",
       "1446       2.97       3.10         NaN  \n",
       "1447       2.97       3.10         NaN  \n",
       "1448       3.04       3.08         NaN  \n",
       "\n",
       "[1449 rows x 8 columns]"
      ]
     },
     "metadata": {},
     "execution_count": 16
    }
   ],
   "metadata": {}
  },
  {
   "cell_type": "code",
   "execution_count": 17,
   "source": [
    "df_100th_start = df.iloc[99:,::]\r\n",
    "df_100th_start"
   ],
   "outputs": [
    {
     "output_type": "execute_result",
     "data": {
      "text/html": [
       "<div>\n",
       "<style scoped>\n",
       "    .dataframe tbody tr th:only-of-type {\n",
       "        vertical-align: middle;\n",
       "    }\n",
       "\n",
       "    .dataframe tbody tr th {\n",
       "        vertical-align: top;\n",
       "    }\n",
       "\n",
       "    .dataframe thead th {\n",
       "        text-align: right;\n",
       "    }\n",
       "</style>\n",
       "<table border=\"1\" class=\"dataframe\">\n",
       "  <thead>\n",
       "    <tr style=\"text-align: right;\">\n",
       "      <th></th>\n",
       "      <th>t</th>\n",
       "      <th>Time</th>\n",
       "      <th>Trade Size (|q_t|)</th>\n",
       "      <th>Price (p_t)</th>\n",
       "      <th>Direction (d_t)</th>\n",
       "      <th>Bid (b_t)</th>\n",
       "      <th>Ask (a_t)</th>\n",
       "      <th>Unnamed: 7</th>\n",
       "    </tr>\n",
       "  </thead>\n",
       "  <tbody>\n",
       "    <tr>\n",
       "      <th>99</th>\n",
       "      <td>100</td>\n",
       "      <td>10:02:36</td>\n",
       "      <td>800</td>\n",
       "      <td>3.04</td>\n",
       "      <td>-1</td>\n",
       "      <td>3.04</td>\n",
       "      <td>3.05</td>\n",
       "      <td>NaN</td>\n",
       "    </tr>\n",
       "    <tr>\n",
       "      <th>100</th>\n",
       "      <td>101</td>\n",
       "      <td>10:02:51</td>\n",
       "      <td>2000</td>\n",
       "      <td>3.04</td>\n",
       "      <td>-1</td>\n",
       "      <td>3.04</td>\n",
       "      <td>3.05</td>\n",
       "      <td>NaN</td>\n",
       "    </tr>\n",
       "    <tr>\n",
       "      <th>101</th>\n",
       "      <td>102</td>\n",
       "      <td>10:04:34</td>\n",
       "      <td>100</td>\n",
       "      <td>3.04</td>\n",
       "      <td>-1</td>\n",
       "      <td>3.04</td>\n",
       "      <td>3.05</td>\n",
       "      <td>NaN</td>\n",
       "    </tr>\n",
       "    <tr>\n",
       "      <th>102</th>\n",
       "      <td>103</td>\n",
       "      <td>10:04:34</td>\n",
       "      <td>600</td>\n",
       "      <td>3.04</td>\n",
       "      <td>-1</td>\n",
       "      <td>3.04</td>\n",
       "      <td>3.05</td>\n",
       "      <td>NaN</td>\n",
       "    </tr>\n",
       "    <tr>\n",
       "      <th>103</th>\n",
       "      <td>104</td>\n",
       "      <td>10:04:34</td>\n",
       "      <td>100</td>\n",
       "      <td>3.04</td>\n",
       "      <td>-1</td>\n",
       "      <td>3.04</td>\n",
       "      <td>3.05</td>\n",
       "      <td>NaN</td>\n",
       "    </tr>\n",
       "    <tr>\n",
       "      <th>...</th>\n",
       "      <td>...</td>\n",
       "      <td>...</td>\n",
       "      <td>...</td>\n",
       "      <td>...</td>\n",
       "      <td>...</td>\n",
       "      <td>...</td>\n",
       "      <td>...</td>\n",
       "      <td>...</td>\n",
       "    </tr>\n",
       "    <tr>\n",
       "      <th>1444</th>\n",
       "      <td>1445</td>\n",
       "      <td>15:59:12</td>\n",
       "      <td>200</td>\n",
       "      <td>3.06</td>\n",
       "      <td>1</td>\n",
       "      <td>2.97</td>\n",
       "      <td>3.10</td>\n",
       "      <td>NaN</td>\n",
       "    </tr>\n",
       "    <tr>\n",
       "      <th>1445</th>\n",
       "      <td>1446</td>\n",
       "      <td>15:59:12</td>\n",
       "      <td>200</td>\n",
       "      <td>3.06</td>\n",
       "      <td>1</td>\n",
       "      <td>2.97</td>\n",
       "      <td>3.10</td>\n",
       "      <td>NaN</td>\n",
       "    </tr>\n",
       "    <tr>\n",
       "      <th>1446</th>\n",
       "      <td>1447</td>\n",
       "      <td>15:59:12</td>\n",
       "      <td>200</td>\n",
       "      <td>3.06</td>\n",
       "      <td>1</td>\n",
       "      <td>2.97</td>\n",
       "      <td>3.10</td>\n",
       "      <td>NaN</td>\n",
       "    </tr>\n",
       "    <tr>\n",
       "      <th>1447</th>\n",
       "      <td>1448</td>\n",
       "      <td>15:59:12</td>\n",
       "      <td>200</td>\n",
       "      <td>3.06</td>\n",
       "      <td>1</td>\n",
       "      <td>2.97</td>\n",
       "      <td>3.10</td>\n",
       "      <td>NaN</td>\n",
       "    </tr>\n",
       "    <tr>\n",
       "      <th>1448</th>\n",
       "      <td>1449</td>\n",
       "      <td>15:59:22</td>\n",
       "      <td>200</td>\n",
       "      <td>3.06</td>\n",
       "      <td>1</td>\n",
       "      <td>3.04</td>\n",
       "      <td>3.08</td>\n",
       "      <td>NaN</td>\n",
       "    </tr>\n",
       "  </tbody>\n",
       "</table>\n",
       "<p>1350 rows × 8 columns</p>\n",
       "</div>"
      ],
      "text/plain": [
       "         t      Time  Trade Size (|q_t|)  Price (p_t)  Direction (d_t)  \\\n",
       "99     100  10:02:36                 800         3.04               -1   \n",
       "100    101  10:02:51                2000         3.04               -1   \n",
       "101    102  10:04:34                 100         3.04               -1   \n",
       "102    103  10:04:34                 600         3.04               -1   \n",
       "103    104  10:04:34                 100         3.04               -1   \n",
       "...    ...       ...                 ...          ...              ...   \n",
       "1444  1445  15:59:12                 200         3.06                1   \n",
       "1445  1446  15:59:12                 200         3.06                1   \n",
       "1446  1447  15:59:12                 200         3.06                1   \n",
       "1447  1448  15:59:12                 200         3.06                1   \n",
       "1448  1449  15:59:22                 200         3.06                1   \n",
       "\n",
       "      Bid (b_t)  Ask (a_t)  Unnamed: 7  \n",
       "99         3.04       3.05         NaN  \n",
       "100        3.04       3.05         NaN  \n",
       "101        3.04       3.05         NaN  \n",
       "102        3.04       3.05         NaN  \n",
       "103        3.04       3.05         NaN  \n",
       "...         ...        ...         ...  \n",
       "1444       2.97       3.10         NaN  \n",
       "1445       2.97       3.10         NaN  \n",
       "1446       2.97       3.10         NaN  \n",
       "1447       2.97       3.10         NaN  \n",
       "1448       3.04       3.08         NaN  \n",
       "\n",
       "[1350 rows x 8 columns]"
      ]
     },
     "metadata": {},
     "execution_count": 17
    }
   ],
   "metadata": {}
  },
  {
   "cell_type": "code",
   "execution_count": 18,
   "source": [
    "df_100th_start['Price (p_t)']"
   ],
   "outputs": [
    {
     "output_type": "execute_result",
     "data": {
      "text/plain": [
       "99      3.04\n",
       "100     3.04\n",
       "101     3.04\n",
       "102     3.04\n",
       "103     3.04\n",
       "        ... \n",
       "1444    3.06\n",
       "1445    3.06\n",
       "1446    3.06\n",
       "1447    3.06\n",
       "1448    3.06\n",
       "Name: Price (p_t), Length: 1350, dtype: float64"
      ]
     },
     "metadata": {},
     "execution_count": 18
    }
   ],
   "metadata": {}
  },
  {
   "cell_type": "code",
   "execution_count": 19,
   "source": [
    "import matplotlib.pyplot as plt\r\n",
    "x = df_100th_start['t']\r\n",
    "y = df_100th_start['Price (p_t)']\r\n",
    "fig = plt.figure()\r\n",
    "ax = fig.add_subplot(111)\r\n",
    "ax.plot(x, y, color='lightblue', linewidth=3)\r\n",
    "plt.savefig('foo.png')\r\n",
    "plt.show()"
   ],
   "outputs": [
    {
     "output_type": "display_data",
     "data": {
      "image/png": "[encoded data removed]",
      "text/plain": [
       "<Figure size 432x288 with 1 Axes>"
      ]
     },
     "metadata": {
      "needs_background": "light"
     }
    }
   ],
   "metadata": {}
  },
  {
   "cell_type": "code",
   "execution_count": 20,
   "source": [
    "import matplotlib.pyplot as plt\r\n",
    "x = df_100th_start['t']\r\n",
    "vwap= df_100th_start['Price (p_t)']\r\n",
    "fig = plt.figure()\r\n",
    "ax = fig.add_subplot(111)\r\n",
    "ax.plot(x, vwap, color='lightblue', linewidth=3)\r\n",
    "plt.savefig('foo.png')\r\n",
    "plt.show()"
   ],
   "outputs": [
    {
     "output_type": "display_data",
     "data": {
      "image/png": "[encoded data removed]",
      "text/plain": [
       "<Figure size 432x288 with 1 Axes>"
      ]
     },
     "metadata": {
      "needs_background": "light"
     }
    }
   ],
   "metadata": {}
  },
  {
   "cell_type": "code",
   "execution_count": 21,
   "source": [
    "df_average = pd.read_excel (r'C:\\Users\\user\\Documents\\GitHub\\Python\\UvA material\\Financial markets\\vwap.xlsx')\r\n",
    "df_average"
   ],
   "outputs": [
    {
     "output_type": "execute_result",
     "data": {
      "text/html": [
       "<div>\n",
       "<style scoped>\n",
       "    .dataframe tbody tr th:only-of-type {\n",
       "        vertical-align: middle;\n",
       "    }\n",
       "\n",
       "    .dataframe tbody tr th {\n",
       "        vertical-align: top;\n",
       "    }\n",
       "\n",
       "    .dataframe thead th {\n",
       "        text-align: right;\n",
       "    }\n",
       "</style>\n",
       "<table border=\"1\" class=\"dataframe\">\n",
       "  <thead>\n",
       "    <tr style=\"text-align: right;\">\n",
       "      <th></th>\n",
       "      <th>sum(p*q)</th>\n",
       "      <th>sum(q)</th>\n",
       "      <th>vwap</th>\n",
       "    </tr>\n",
       "  </thead>\n",
       "  <tbody>\n",
       "    <tr>\n",
       "      <th>0</th>\n",
       "      <td>53454.06</td>\n",
       "      <td>17600</td>\n",
       "      <td>3.037162</td>\n",
       "    </tr>\n",
       "    <tr>\n",
       "      <th>1</th>\n",
       "      <td>58936.06</td>\n",
       "      <td>19400</td>\n",
       "      <td>3.037941</td>\n",
       "    </tr>\n",
       "    <tr>\n",
       "      <th>2</th>\n",
       "      <td>57735.06</td>\n",
       "      <td>19000</td>\n",
       "      <td>3.038687</td>\n",
       "    </tr>\n",
       "    <tr>\n",
       "      <th>3</th>\n",
       "      <td>59257.06</td>\n",
       "      <td>19500</td>\n",
       "      <td>3.038824</td>\n",
       "    </tr>\n",
       "    <tr>\n",
       "      <th>4</th>\n",
       "      <td>59261.06</td>\n",
       "      <td>19500</td>\n",
       "      <td>3.039029</td>\n",
       "    </tr>\n",
       "    <tr>\n",
       "      <th>...</th>\n",
       "      <td>...</td>\n",
       "      <td>...</td>\n",
       "      <td>...</td>\n",
       "    </tr>\n",
       "    <tr>\n",
       "      <th>1344</th>\n",
       "      <td>90147.84</td>\n",
       "      <td>29500</td>\n",
       "      <td>3.055859</td>\n",
       "    </tr>\n",
       "    <tr>\n",
       "      <th>1345</th>\n",
       "      <td>52329.84</td>\n",
       "      <td>17100</td>\n",
       "      <td>3.060225</td>\n",
       "    </tr>\n",
       "    <tr>\n",
       "      <th>1346</th>\n",
       "      <td>52635.84</td>\n",
       "      <td>17200</td>\n",
       "      <td>3.060223</td>\n",
       "    </tr>\n",
       "    <tr>\n",
       "      <th>1347</th>\n",
       "      <td>52940.84</td>\n",
       "      <td>17300</td>\n",
       "      <td>3.060164</td>\n",
       "    </tr>\n",
       "    <tr>\n",
       "      <th>1348</th>\n",
       "      <td>53245.84</td>\n",
       "      <td>17400</td>\n",
       "      <td>3.060106</td>\n",
       "    </tr>\n",
       "  </tbody>\n",
       "</table>\n",
       "<p>1349 rows × 3 columns</p>\n",
       "</div>"
      ],
      "text/plain": [
       "      sum(p*q)  sum(q)      vwap\n",
       "0     53454.06   17600  3.037162\n",
       "1     58936.06   19400  3.037941\n",
       "2     57735.06   19000  3.038687\n",
       "3     59257.06   19500  3.038824\n",
       "4     59261.06   19500  3.039029\n",
       "...        ...     ...       ...\n",
       "1344  90147.84   29500  3.055859\n",
       "1345  52329.84   17100  3.060225\n",
       "1346  52635.84   17200  3.060223\n",
       "1347  52940.84   17300  3.060164\n",
       "1348  53245.84   17400  3.060106\n",
       "\n",
       "[1349 rows x 3 columns]"
      ]
     },
     "metadata": {},
     "execution_count": 21
    }
   ],
   "metadata": {}
  },
  {
   "cell_type": "code",
   "execution_count": null,
   "source": [],
   "outputs": [],
   "metadata": {}
  },
  {
   "cell_type": "markdown",
   "source": [
    " Using the transaction price data, compute Roll’s estimate of the bid-ask spread for\r\n",
    "the day. How does this estimate compare with the average quoted spread that you\r\n",
    "computed in part (a)? How would you explain this finding?\r\n",
    "Hint: for some questions, the IF function in Excel comes in handy"
   ],
   "metadata": {}
  },
  {
   "cell_type": "code",
   "execution_count": 22,
   "source": [
    "df"
   ],
   "outputs": [
    {
     "output_type": "execute_result",
     "data": {
      "text/html": [
       "<div>\n",
       "<style scoped>\n",
       "    .dataframe tbody tr th:only-of-type {\n",
       "        vertical-align: middle;\n",
       "    }\n",
       "\n",
       "    .dataframe tbody tr th {\n",
       "        vertical-align: top;\n",
       "    }\n",
       "\n",
       "    .dataframe thead th {\n",
       "        text-align: right;\n",
       "    }\n",
       "</style>\n",
       "<table border=\"1\" class=\"dataframe\">\n",
       "  <thead>\n",
       "    <tr style=\"text-align: right;\">\n",
       "      <th></th>\n",
       "      <th>t</th>\n",
       "      <th>Time</th>\n",
       "      <th>Trade Size (|q_t|)</th>\n",
       "      <th>Price (p_t)</th>\n",
       "      <th>Direction (d_t)</th>\n",
       "      <th>Bid (b_t)</th>\n",
       "      <th>Ask (a_t)</th>\n",
       "      <th>Unnamed: 7</th>\n",
       "    </tr>\n",
       "  </thead>\n",
       "  <tbody>\n",
       "    <tr>\n",
       "      <th>0</th>\n",
       "      <td>1</td>\n",
       "      <td>09:30:02</td>\n",
       "      <td>200</td>\n",
       "      <td>2.99</td>\n",
       "      <td>-1</td>\n",
       "      <td>2.90</td>\n",
       "      <td>3.08</td>\n",
       "      <td>NaN</td>\n",
       "    </tr>\n",
       "    <tr>\n",
       "      <th>1</th>\n",
       "      <td>2</td>\n",
       "      <td>09:32:28</td>\n",
       "      <td>500</td>\n",
       "      <td>3.01</td>\n",
       "      <td>1</td>\n",
       "      <td>2.88</td>\n",
       "      <td>3.08</td>\n",
       "      <td>NaN</td>\n",
       "    </tr>\n",
       "    <tr>\n",
       "      <th>2</th>\n",
       "      <td>3</td>\n",
       "      <td>09:33:35</td>\n",
       "      <td>100</td>\n",
       "      <td>3.02</td>\n",
       "      <td>-1</td>\n",
       "      <td>3.01</td>\n",
       "      <td>3.08</td>\n",
       "      <td>NaN</td>\n",
       "    </tr>\n",
       "    <tr>\n",
       "      <th>3</th>\n",
       "      <td>4</td>\n",
       "      <td>09:33:38</td>\n",
       "      <td>100</td>\n",
       "      <td>3.00</td>\n",
       "      <td>1</td>\n",
       "      <td>3.00</td>\n",
       "      <td>3.08</td>\n",
       "      <td>NaN</td>\n",
       "    </tr>\n",
       "    <tr>\n",
       "      <th>4</th>\n",
       "      <td>5</td>\n",
       "      <td>09:34:09</td>\n",
       "      <td>100</td>\n",
       "      <td>3.03</td>\n",
       "      <td>1</td>\n",
       "      <td>3.02</td>\n",
       "      <td>3.08</td>\n",
       "      <td>NaN</td>\n",
       "    </tr>\n",
       "    <tr>\n",
       "      <th>...</th>\n",
       "      <td>...</td>\n",
       "      <td>...</td>\n",
       "      <td>...</td>\n",
       "      <td>...</td>\n",
       "      <td>...</td>\n",
       "      <td>...</td>\n",
       "      <td>...</td>\n",
       "      <td>...</td>\n",
       "    </tr>\n",
       "    <tr>\n",
       "      <th>1444</th>\n",
       "      <td>1445</td>\n",
       "      <td>15:59:12</td>\n",
       "      <td>200</td>\n",
       "      <td>3.06</td>\n",
       "      <td>1</td>\n",
       "      <td>2.97</td>\n",
       "      <td>3.10</td>\n",
       "      <td>NaN</td>\n",
       "    </tr>\n",
       "    <tr>\n",
       "      <th>1445</th>\n",
       "      <td>1446</td>\n",
       "      <td>15:59:12</td>\n",
       "      <td>200</td>\n",
       "      <td>3.06</td>\n",
       "      <td>1</td>\n",
       "      <td>2.97</td>\n",
       "      <td>3.10</td>\n",
       "      <td>NaN</td>\n",
       "    </tr>\n",
       "    <tr>\n",
       "      <th>1446</th>\n",
       "      <td>1447</td>\n",
       "      <td>15:59:12</td>\n",
       "      <td>200</td>\n",
       "      <td>3.06</td>\n",
       "      <td>1</td>\n",
       "      <td>2.97</td>\n",
       "      <td>3.10</td>\n",
       "      <td>NaN</td>\n",
       "    </tr>\n",
       "    <tr>\n",
       "      <th>1447</th>\n",
       "      <td>1448</td>\n",
       "      <td>15:59:12</td>\n",
       "      <td>200</td>\n",
       "      <td>3.06</td>\n",
       "      <td>1</td>\n",
       "      <td>2.97</td>\n",
       "      <td>3.10</td>\n",
       "      <td>NaN</td>\n",
       "    </tr>\n",
       "    <tr>\n",
       "      <th>1448</th>\n",
       "      <td>1449</td>\n",
       "      <td>15:59:22</td>\n",
       "      <td>200</td>\n",
       "      <td>3.06</td>\n",
       "      <td>1</td>\n",
       "      <td>3.04</td>\n",
       "      <td>3.08</td>\n",
       "      <td>NaN</td>\n",
       "    </tr>\n",
       "  </tbody>\n",
       "</table>\n",
       "<p>1449 rows × 8 columns</p>\n",
       "</div>"
      ],
      "text/plain": [
       "         t      Time  Trade Size (|q_t|)  Price (p_t)  Direction (d_t)  \\\n",
       "0        1  09:30:02                 200         2.99               -1   \n",
       "1        2  09:32:28                 500         3.01                1   \n",
       "2        3  09:33:35                 100         3.02               -1   \n",
       "3        4  09:33:38                 100         3.00                1   \n",
       "4        5  09:34:09                 100         3.03                1   \n",
       "...    ...       ...                 ...          ...              ...   \n",
       "1444  1445  15:59:12                 200         3.06                1   \n",
       "1445  1446  15:59:12                 200         3.06                1   \n",
       "1446  1447  15:59:12                 200         3.06                1   \n",
       "1447  1448  15:59:12                 200         3.06                1   \n",
       "1448  1449  15:59:22                 200         3.06                1   \n",
       "\n",
       "      Bid (b_t)  Ask (a_t)  Unnamed: 7  \n",
       "0          2.90       3.08         NaN  \n",
       "1          2.88       3.08         NaN  \n",
       "2          3.01       3.08         NaN  \n",
       "3          3.00       3.08         NaN  \n",
       "4          3.02       3.08         NaN  \n",
       "...         ...        ...         ...  \n",
       "1444       2.97       3.10         NaN  \n",
       "1445       2.97       3.10         NaN  \n",
       "1446       2.97       3.10         NaN  \n",
       "1447       2.97       3.10         NaN  \n",
       "1448       3.04       3.08         NaN  \n",
       "\n",
       "[1449 rows x 8 columns]"
      ]
     },
     "metadata": {},
     "execution_count": 22
    }
   ],
   "metadata": {}
  }
 ],
 "metadata": {
  "orig_nbformat": 4,
  "language_info": {
   "name": "python",
   "version": "3.9.1",
   "mimetype": "text/x-python",
   "codemirror_mode": {
    "name": "ipython",
    "version": 3
   },
   "pygments_lexer": "ipython3",
   "nbconvert_exporter": "python",
   "file_extension": ".py"
  },
  "kernelspec": {
   "name": "python3",
   "display_name": "Python 3.9.1 64-bit ('crolling': virtualenv)"
  },
  "interpreter": {
   "hash": "4624a21b9b8434bae3df04a441619bfbe200a00851628072ab16cfc646866db7"
  }
 },
 "nbformat": 4,
 "nbformat_minor": 2
}