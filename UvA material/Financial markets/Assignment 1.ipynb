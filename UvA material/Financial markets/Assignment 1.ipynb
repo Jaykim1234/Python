{
 "cells": [
  {
   "cell_type": "code",
   "execution_count": 1,
   "source": [
    "print('hi')"
   ],
   "outputs": [
    {
     "output_type": "stream",
     "name": "stdout",
     "text": [
      "hi\n"
     ]
    }
   ],
   "metadata": {}
  },
  {
   "cell_type": "code",
   "execution_count": 5,
   "source": [
    "import pandas as pd\r\n",
    "\r\n",
    "df = pd.read_excel (r'C:\\Users\\user\\Documents\\GitHub\\Python\\UvA material\\Financial markets\\KrispyKreme2021.xlsx')\r\n",
    "print (df)"
   ],
   "outputs": [
    {
     "output_type": "stream",
     "name": "stdout",
     "text": [
      "         t      Time  Trade Size (|q_t|)  Price (p_t)  Direction (d_t)  \\\n",
      "0        1  09:30:02                 200         2.99               -1   \n",
      "1        2  09:32:28                 500         3.01                1   \n",
      "2        3  09:33:35                 100         3.02               -1   \n",
      "3        4  09:33:38                 100         3.00                1   \n",
      "4        5  09:34:09                 100         3.03                1   \n",
      "...    ...       ...                 ...          ...              ...   \n",
      "1444  1445  15:59:12                 200         3.06                1   \n",
      "1445  1446  15:59:12                 200         3.06                1   \n",
      "1446  1447  15:59:12                 200         3.06                1   \n",
      "1447  1448  15:59:12                 200         3.06                1   \n",
      "1448  1449  15:59:22                 200         3.06                1   \n",
      "\n",
      "      Bid (b_t)  Ask (a_t)  Unnamed: 7  \n",
      "0          2.90       3.08         NaN  \n",
      "1          2.88       3.08         NaN  \n",
      "2          3.01       3.08         NaN  \n",
      "3          3.00       3.08         NaN  \n",
      "4          3.02       3.08         NaN  \n",
      "...         ...        ...         ...  \n",
      "1444       2.97       3.10         NaN  \n",
      "1445       2.97       3.10         NaN  \n",
      "1446       2.97       3.10         NaN  \n",
      "1447       2.97       3.10         NaN  \n",
      "1448       3.04       3.08         NaN  \n",
      "\n",
      "[1449 rows x 8 columns]\n"
     ]
    }
   ],
   "metadata": {}
  },
  {
   "cell_type": "markdown",
   "source": [
    "(a) \r\n",
    "\r\n",
    "For each transaction, compute (but do not report in your solution) \r\n",
    "(i) the quoted spread in absolute terms; \r\n",
    "(ii) the quoted spread in relative terms; \r\n",
    "(iii) the effective half-spread in absolute terms; \r\n",
    "(iv) the effective half-spread in relative terms."
   ],
   "metadata": {}
  },
  {
   "cell_type": "markdown",
   "source": [
    "# (i)\r\n",
    "# the quoted spread in absolute terms = the best ask - the best bid"
   ],
   "metadata": {}
  },
  {
   "cell_type": "code",
   "execution_count": 6,
   "source": [
    "df.columns\r\n",
    "# df_bid = df['Bid (b_t)']"
   ],
   "outputs": [
    {
     "output_type": "execute_result",
     "data": {
      "text/plain": [
       "Index(['t', 'Time', 'Trade Size (|q_t|)', 'Price (p_t)', 'Direction (d_t)',\n",
       "       'Bid (b_t)', 'Ask (a_t)', 'Unnamed: 7'],\n",
       "      dtype='object')"
      ]
     },
     "metadata": {},
     "execution_count": 6
    }
   ],
   "metadata": {}
  },
  {
   "cell_type": "code",
   "execution_count": 10,
   "source": [
    "df_bid = df['Bid (b_t)']\r\n",
    "df_ask = df['Ask (a_t)']\r\n",
    "df_bid_ask_spread = df_ask - df_bid"
   ],
   "outputs": [],
   "metadata": {}
  },
  {
   "cell_type": "code",
   "execution_count": 14,
   "source": [
    "df_bid_ask_spread\r\n"
   ],
   "outputs": [
    {
     "output_type": "execute_result",
     "data": {
      "text/plain": [
       "0       0.18\n",
       "1       0.20\n",
       "2       0.07\n",
       "3       0.08\n",
       "4       0.06\n",
       "        ... \n",
       "1444    0.13\n",
       "1445    0.13\n",
       "1446    0.13\n",
       "1447    0.13\n",
       "1448    0.04\n",
       "Length: 1449, dtype: float64"
      ]
     },
     "metadata": {},
     "execution_count": 14
    }
   ],
   "metadata": {}
  },
  {
   "cell_type": "code",
   "execution_count": 13,
   "source": [
    "print(df_bid_ask_spread.mean())"
   ],
   "outputs": [
    {
     "output_type": "stream",
     "name": "stdout",
     "text": [
      "0.024423740510696998\n"
     ]
    }
   ],
   "metadata": {}
  },
  {
   "cell_type": "markdown",
   "source": [
    "# (ii)\r\n",
    "# the quoted spread in relative terms \r\n",
    "# = (the best ask - the best bid)/midquote"
   ],
   "metadata": {}
  },
  {
   "cell_type": "code",
   "execution_count": 15,
   "source": [
    "df_bid_midquote = (df_ask - df_bid)/2\r\n",
    "df_bid_midquote"
   ],
   "outputs": [
    {
     "output_type": "execute_result",
     "data": {
      "text/plain": [
       "0       0.090\n",
       "1       0.100\n",
       "2       0.035\n",
       "3       0.040\n",
       "4       0.030\n",
       "        ...  \n",
       "1444    0.065\n",
       "1445    0.065\n",
       "1446    0.065\n",
       "1447    0.065\n",
       "1448    0.020\n",
       "Length: 1449, dtype: float64"
      ]
     },
     "metadata": {},
     "execution_count": 15
    }
   ],
   "metadata": {}
  },
  {
   "cell_type": "code",
   "execution_count": 17,
   "source": [
    "df_spread_relative = df_bid_ask_spread/df_bid_midquote\r\n",
    "df_spread_relative"
   ],
   "outputs": [
    {
     "output_type": "execute_result",
     "data": {
      "text/plain": [
       "0       2.0\n",
       "1       2.0\n",
       "2       2.0\n",
       "3       2.0\n",
       "4       2.0\n",
       "       ... \n",
       "1444    2.0\n",
       "1445    2.0\n",
       "1446    2.0\n",
       "1447    2.0\n",
       "1448    2.0\n",
       "Length: 1449, dtype: float64"
      ]
     },
     "metadata": {},
     "execution_count": 17
    }
   ],
   "metadata": {}
  },
  {
   "cell_type": "markdown",
   "source": [
    "# (iii)\r\n",
    "# the effective half spread in absolute terms \r\n",
    "# = order direction (dt = 1: buy order, dt = -1: sell order) x ( transaction price - mid price just before execution)"
   ],
   "metadata": {}
  },
  {
   "cell_type": "code",
   "execution_count": null,
   "source": [],
   "outputs": [],
   "metadata": {}
  },
  {
   "cell_type": "code",
   "execution_count": 18,
   "source": [
    "df.columns"
   ],
   "outputs": [
    {
     "output_type": "execute_result",
     "data": {
      "text/plain": [
       "Index(['t', 'Time', 'Trade Size (|q_t|)', 'Price (p_t)', 'Direction (d_t)',\n",
       "       'Bid (b_t)', 'Ask (a_t)', 'Unnamed: 7'],\n",
       "      dtype='object')"
      ]
     },
     "metadata": {},
     "execution_count": 18
    }
   ],
   "metadata": {}
  },
  {
   "cell_type": "code",
   "execution_count": 19,
   "source": [
    "df_eff_half_abs = df['Direction (d_t)']*(df['Price (p_t)'] - (df_ask - df_bid)/2)\r\n",
    "df_eff_half_abs"
   ],
   "outputs": [
    {
     "output_type": "execute_result",
     "data": {
      "text/plain": [
       "0      -2.900\n",
       "1       2.910\n",
       "2      -2.985\n",
       "3       2.960\n",
       "4       3.000\n",
       "        ...  \n",
       "1444    2.995\n",
       "1445    2.995\n",
       "1446    2.995\n",
       "1447    2.995\n",
       "1448    3.040\n",
       "Length: 1449, dtype: float64"
      ]
     },
     "metadata": {},
     "execution_count": 19
    }
   ],
   "metadata": {}
  },
  {
   "cell_type": "markdown",
   "source": [
    "# (iiii)\r\n",
    "# the effective half spread in relative terms \r\n",
    "# = the effective half spread in absolute terms/mid price just before execution"
   ],
   "metadata": {}
  },
  {
   "cell_type": "code",
   "execution_count": 20,
   "source": [
    "df_eff_half_relative = (df['Direction (d_t)']*(df['Price (p_t)'] - (df_ask - df_bid)/2))/ ((df_ask - df_bid)/2)\r\n",
    "df_eff_half_relative"
   ],
   "outputs": [
    {
     "output_type": "execute_result",
     "data": {
      "text/plain": [
       "0       -32.222222\n",
       "1        29.100000\n",
       "2       -85.285714\n",
       "3        74.000000\n",
       "4       100.000000\n",
       "           ...    \n",
       "1444     46.076923\n",
       "1445     46.076923\n",
       "1446     46.076923\n",
       "1447     46.076923\n",
       "1448    152.000000\n",
       "Length: 1449, dtype: float64"
      ]
     },
     "metadata": {},
     "execution_count": 20
    }
   ],
   "metadata": {}
  },
  {
   "cell_type": "markdown",
   "source": [
    "2. For each trade, starting from the 101-th trade, compute the average of the (quoted)\r\n",
    "relative spread for the past 100 trades. Plot a graph of your results. What kind of\r\n",
    "pattern emerges over the day?"
   ],
   "metadata": {}
  },
  {
   "cell_type": "code",
   "execution_count": 23,
   "source": [
    "df_100th = df.iloc[0:101,::]\r\n",
    "df_100th"
   ],
   "outputs": [
    {
     "output_type": "execute_result",
     "data": {
      "text/html": [
       "<div>\n",
       "<style scoped>\n",
       "    .dataframe tbody tr th:only-of-type {\n",
       "        vertical-align: middle;\n",
       "    }\n",
       "\n",
       "    .dataframe tbody tr th {\n",
       "        vertical-align: top;\n",
       "    }\n",
       "\n",
       "    .dataframe thead th {\n",
       "        text-align: right;\n",
       "    }\n",
       "</style>\n",
       "<table border=\"1\" class=\"dataframe\">\n",
       "  <thead>\n",
       "    <tr style=\"text-align: right;\">\n",
       "      <th></th>\n",
       "      <th>t</th>\n",
       "      <th>Time</th>\n",
       "      <th>Trade Size (|q_t|)</th>\n",
       "      <th>Price (p_t)</th>\n",
       "      <th>Direction (d_t)</th>\n",
       "      <th>Bid (b_t)</th>\n",
       "      <th>Ask (a_t)</th>\n",
       "      <th>Unnamed: 7</th>\n",
       "    </tr>\n",
       "  </thead>\n",
       "  <tbody>\n",
       "    <tr>\n",
       "      <th>0</th>\n",
       "      <td>1</td>\n",
       "      <td>09:30:02</td>\n",
       "      <td>200</td>\n",
       "      <td>2.99</td>\n",
       "      <td>-1</td>\n",
       "      <td>2.90</td>\n",
       "      <td>3.08</td>\n",
       "      <td>NaN</td>\n",
       "    </tr>\n",
       "    <tr>\n",
       "      <th>1</th>\n",
       "      <td>2</td>\n",
       "      <td>09:32:28</td>\n",
       "      <td>500</td>\n",
       "      <td>3.01</td>\n",
       "      <td>1</td>\n",
       "      <td>2.88</td>\n",
       "      <td>3.08</td>\n",
       "      <td>NaN</td>\n",
       "    </tr>\n",
       "    <tr>\n",
       "      <th>2</th>\n",
       "      <td>3</td>\n",
       "      <td>09:33:35</td>\n",
       "      <td>100</td>\n",
       "      <td>3.02</td>\n",
       "      <td>-1</td>\n",
       "      <td>3.01</td>\n",
       "      <td>3.08</td>\n",
       "      <td>NaN</td>\n",
       "    </tr>\n",
       "    <tr>\n",
       "      <th>3</th>\n",
       "      <td>4</td>\n",
       "      <td>09:33:38</td>\n",
       "      <td>100</td>\n",
       "      <td>3.00</td>\n",
       "      <td>1</td>\n",
       "      <td>3.00</td>\n",
       "      <td>3.08</td>\n",
       "      <td>NaN</td>\n",
       "    </tr>\n",
       "    <tr>\n",
       "      <th>4</th>\n",
       "      <td>5</td>\n",
       "      <td>09:34:09</td>\n",
       "      <td>100</td>\n",
       "      <td>3.03</td>\n",
       "      <td>1</td>\n",
       "      <td>3.02</td>\n",
       "      <td>3.08</td>\n",
       "      <td>NaN</td>\n",
       "    </tr>\n",
       "    <tr>\n",
       "      <th>...</th>\n",
       "      <td>...</td>\n",
       "      <td>...</td>\n",
       "      <td>...</td>\n",
       "      <td>...</td>\n",
       "      <td>...</td>\n",
       "      <td>...</td>\n",
       "      <td>...</td>\n",
       "      <td>...</td>\n",
       "    </tr>\n",
       "    <tr>\n",
       "      <th>96</th>\n",
       "      <td>97</td>\n",
       "      <td>10:01:15</td>\n",
       "      <td>100</td>\n",
       "      <td>3.05</td>\n",
       "      <td>1</td>\n",
       "      <td>3.04</td>\n",
       "      <td>3.05</td>\n",
       "      <td>NaN</td>\n",
       "    </tr>\n",
       "    <tr>\n",
       "      <th>97</th>\n",
       "      <td>98</td>\n",
       "      <td>10:01:15</td>\n",
       "      <td>100</td>\n",
       "      <td>3.05</td>\n",
       "      <td>1</td>\n",
       "      <td>3.04</td>\n",
       "      <td>3.05</td>\n",
       "      <td>NaN</td>\n",
       "    </tr>\n",
       "    <tr>\n",
       "      <th>98</th>\n",
       "      <td>99</td>\n",
       "      <td>10:01:22</td>\n",
       "      <td>100</td>\n",
       "      <td>3.04</td>\n",
       "      <td>-1</td>\n",
       "      <td>3.04</td>\n",
       "      <td>3.05</td>\n",
       "      <td>NaN</td>\n",
       "    </tr>\n",
       "    <tr>\n",
       "      <th>99</th>\n",
       "      <td>100</td>\n",
       "      <td>10:02:36</td>\n",
       "      <td>800</td>\n",
       "      <td>3.04</td>\n",
       "      <td>-1</td>\n",
       "      <td>3.04</td>\n",
       "      <td>3.05</td>\n",
       "      <td>NaN</td>\n",
       "    </tr>\n",
       "    <tr>\n",
       "      <th>100</th>\n",
       "      <td>101</td>\n",
       "      <td>10:02:51</td>\n",
       "      <td>2000</td>\n",
       "      <td>3.04</td>\n",
       "      <td>-1</td>\n",
       "      <td>3.04</td>\n",
       "      <td>3.05</td>\n",
       "      <td>NaN</td>\n",
       "    </tr>\n",
       "  </tbody>\n",
       "</table>\n",
       "<p>101 rows × 8 columns</p>\n",
       "</div>"
      ],
      "text/plain": [
       "       t      Time  Trade Size (|q_t|)  Price (p_t)  Direction (d_t)  \\\n",
       "0      1  09:30:02                 200         2.99               -1   \n",
       "1      2  09:32:28                 500         3.01                1   \n",
       "2      3  09:33:35                 100         3.02               -1   \n",
       "3      4  09:33:38                 100         3.00                1   \n",
       "4      5  09:34:09                 100         3.03                1   \n",
       "..   ...       ...                 ...          ...              ...   \n",
       "96    97  10:01:15                 100         3.05                1   \n",
       "97    98  10:01:15                 100         3.05                1   \n",
       "98    99  10:01:22                 100         3.04               -1   \n",
       "99   100  10:02:36                 800         3.04               -1   \n",
       "100  101  10:02:51                2000         3.04               -1   \n",
       "\n",
       "     Bid (b_t)  Ask (a_t)  Unnamed: 7  \n",
       "0         2.90       3.08         NaN  \n",
       "1         2.88       3.08         NaN  \n",
       "2         3.01       3.08         NaN  \n",
       "3         3.00       3.08         NaN  \n",
       "4         3.02       3.08         NaN  \n",
       "..         ...        ...         ...  \n",
       "96        3.04       3.05         NaN  \n",
       "97        3.04       3.05         NaN  \n",
       "98        3.04       3.05         NaN  \n",
       "99        3.04       3.05         NaN  \n",
       "100       3.04       3.05         NaN  \n",
       "\n",
       "[101 rows x 8 columns]"
      ]
     },
     "metadata": {},
     "execution_count": 23
    }
   ],
   "metadata": {}
  },
  {
   "cell_type": "code",
   "execution_count": null,
   "source": [],
   "outputs": [],
   "metadata": {}
  }
 ],
 "metadata": {
  "orig_nbformat": 4,
  "language_info": {
   "name": "python",
   "version": "3.9.1",
   "mimetype": "text/x-python",
   "codemirror_mode": {
    "name": "ipython",
    "version": 3
   },
   "pygments_lexer": "ipython3",
   "nbconvert_exporter": "python",
   "file_extension": ".py"
  },
  "kernelspec": {
   "name": "python3",
   "display_name": "Python 3.9.1 64-bit ('crolling': virtualenv)"
  },
  "interpreter": {
   "hash": "4624a21b9b8434bae3df04a441619bfbe200a00851628072ab16cfc646866db7"
  }
 },
 "nbformat": 4,
 "nbformat_minor": 2
}