{
 "metadata": {
  "language_info": {
   "codemirror_mode": {
    "name": "ipython",
    "version": 3
   },
   "file_extension": ".py",
   "mimetype": "text/x-python",
   "name": "python",
   "nbconvert_exporter": "python",
   "pygments_lexer": "ipython3",
   "version": "3.9.1"
  },
  "orig_nbformat": 4,
  "kernelspec": {
   "name": "python3",
   "display_name": "Python 3.9.1 64-bit ('crolling': virtualenvwrapper)"
  },
  "interpreter": {
   "hash": "4624a21b9b8434bae3df04a441619bfbe200a00851628072ab16cfc646866db7"
  }
 },
 "nbformat": 4,
 "nbformat_minor": 2,
 "cells": [
  {
   "cell_type": "code",
   "execution_count": 92,
   "metadata": {},
   "outputs": [],
   "source": [
    "import pandas as pd\n",
    "import numpy as np\n",
    "\n",
    "s = pd.Series([1, 3, 4, np.nan, 6, 8])\n"
   ]
  },
  {
   "cell_type": "code",
   "execution_count": 93,
   "metadata": {},
   "outputs": [
    {
     "output_type": "execute_result",
     "data": {
      "text/plain": [
       "DatetimeIndex(['2020-01-01', '2020-01-02', '2020-01-03', '2020-01-04',\n",
       "               '2020-01-05', '2020-01-06'],\n",
       "              dtype='datetime64[ns]', freq='D')"
      ]
     },
     "metadata": {},
     "execution_count": 93
    }
   ],
   "source": [
    "dates = pd.date_range('20200101', periods= 6)\n",
    "dates"
   ]
  },
  {
   "cell_type": "code",
   "execution_count": 94,
   "metadata": {},
   "outputs": [
    {
     "output_type": "execute_result",
     "data": {
      "text/plain": [
       "                   a         b         c         d         e         f\n",
       "2020-01-01  0.723955 -1.030835 -0.004460  1.086159  0.251154 -0.599071\n",
       "2020-01-02 -0.694766  1.734956  0.829838  0.273335  0.574685  1.054961\n",
       "2020-01-03  2.028360  1.255944 -0.461601  0.796749 -0.994156 -1.430733\n",
       "2020-01-04 -0.156407  0.005899  0.345648 -0.169138  0.858745 -1.111684\n",
       "2020-01-05 -2.605999 -0.072044  0.176238  0.268151  0.668806 -0.742019\n",
       "2020-01-06 -0.575980 -0.409554  2.352375  0.770565  1.215936 -2.026699"
      ],
      "text/html": "<div>\n<style scoped>\n    .dataframe tbody tr th:only-of-type {\n        vertical-align: middle;\n    }\n\n    .dataframe tbody tr th {\n        vertical-align: top;\n    }\n\n    .dataframe thead th {\n        text-align: right;\n    }\n</style>\n<table border=\"1\" class=\"dataframe\">\n  <thead>\n    <tr style=\"text-align: right;\">\n      <th></th>\n      <th>a</th>\n      <th>b</th>\n      <th>c</th>\n      <th>d</th>\n      <th>e</th>\n      <th>f</th>\n    </tr>\n  </thead>\n  <tbody>\n    <tr>\n      <th>2020-01-01</th>\n      <td>0.723955</td>\n      <td>-1.030835</td>\n      <td>-0.004460</td>\n      <td>1.086159</td>\n      <td>0.251154</td>\n      <td>-0.599071</td>\n    </tr>\n    <tr>\n      <th>2020-01-02</th>\n      <td>-0.694766</td>\n      <td>1.734956</td>\n      <td>0.829838</td>\n      <td>0.273335</td>\n      <td>0.574685</td>\n      <td>1.054961</td>\n    </tr>\n    <tr>\n      <th>2020-01-03</th>\n      <td>2.028360</td>\n      <td>1.255944</td>\n      <td>-0.461601</td>\n      <td>0.796749</td>\n      <td>-0.994156</td>\n      <td>-1.430733</td>\n    </tr>\n    <tr>\n      <th>2020-01-04</th>\n      <td>-0.156407</td>\n      <td>0.005899</td>\n      <td>0.345648</td>\n      <td>-0.169138</td>\n      <td>0.858745</td>\n      <td>-1.111684</td>\n    </tr>\n    <tr>\n      <th>2020-01-05</th>\n      <td>-2.605999</td>\n      <td>-0.072044</td>\n      <td>0.176238</td>\n      <td>0.268151</td>\n      <td>0.668806</td>\n      <td>-0.742019</td>\n    </tr>\n    <tr>\n      <th>2020-01-06</th>\n      <td>-0.575980</td>\n      <td>-0.409554</td>\n      <td>2.352375</td>\n      <td>0.770565</td>\n      <td>1.215936</td>\n      <td>-2.026699</td>\n    </tr>\n  </tbody>\n</table>\n</div>"
     },
     "metadata": {},
     "execution_count": 94
    }
   ],
   "source": [
    "values = np.random.randn(6,6)\n",
    "\n",
    "df = pd.DataFrame(values, index = dates, columns = ['a','b','c','d','e','f'])\n",
    "df"
   ]
  },
  {
   "cell_type": "code",
   "execution_count": 95,
   "metadata": {},
   "outputs": [],
   "source": [
    "In [9]: df2 = pd.DataFrame(\n",
    "{\n",
    "\"A\": 1.0,\n",
    "\"B\": pd.Timestamp(\"20130102\"),\n",
    "\"C\": pd.Series(1, index=list(range(4)), dtype=\"float32\"),\n",
    "\"D\": np.array([3] * 4, dtype=\"int32\"),\n",
    "\"E\": pd.Categorical([\"test\", \"train\", \"test\", \"train\"]),\n",
    "\"F\": \"foo\"}\n",
    ")\n",
    "\n"
   ]
  },
  {
   "cell_type": "code",
   "execution_count": 96,
   "metadata": {},
   "outputs": [
    {
     "output_type": "execute_result",
     "data": {
      "text/plain": [
       "     A          B    C  D      E    F\n",
       "0  1.0 2013-01-02  1.0  3   test  foo\n",
       "1  1.0 2013-01-02  1.0  3  train  foo\n",
       "2  1.0 2013-01-02  1.0  3   test  foo\n",
       "3  1.0 2013-01-02  1.0  3  train  foo"
      ],
      "text/html": "<div>\n<style scoped>\n    .dataframe tbody tr th:only-of-type {\n        vertical-align: middle;\n    }\n\n    .dataframe tbody tr th {\n        vertical-align: top;\n    }\n\n    .dataframe thead th {\n        text-align: right;\n    }\n</style>\n<table border=\"1\" class=\"dataframe\">\n  <thead>\n    <tr style=\"text-align: right;\">\n      <th></th>\n      <th>A</th>\n      <th>B</th>\n      <th>C</th>\n      <th>D</th>\n      <th>E</th>\n      <th>F</th>\n    </tr>\n  </thead>\n  <tbody>\n    <tr>\n      <th>0</th>\n      <td>1.0</td>\n      <td>2013-01-02</td>\n      <td>1.0</td>\n      <td>3</td>\n      <td>test</td>\n      <td>foo</td>\n    </tr>\n    <tr>\n      <th>1</th>\n      <td>1.0</td>\n      <td>2013-01-02</td>\n      <td>1.0</td>\n      <td>3</td>\n      <td>train</td>\n      <td>foo</td>\n    </tr>\n    <tr>\n      <th>2</th>\n      <td>1.0</td>\n      <td>2013-01-02</td>\n      <td>1.0</td>\n      <td>3</td>\n      <td>test</td>\n      <td>foo</td>\n    </tr>\n    <tr>\n      <th>3</th>\n      <td>1.0</td>\n      <td>2013-01-02</td>\n      <td>1.0</td>\n      <td>3</td>\n      <td>train</td>\n      <td>foo</td>\n    </tr>\n  </tbody>\n</table>\n</div>"
     },
     "metadata": {},
     "execution_count": 96
    }
   ],
   "source": [
    "df2 "
   ]
  },
  {
   "cell_type": "code",
   "execution_count": 97,
   "metadata": {},
   "outputs": [
    {
     "output_type": "execute_result",
     "data": {
      "text/plain": [
       "     A          B    C  D      E    F\n",
       "0  1.0 2013-01-02  1.0  3   test  foo\n",
       "1  1.0 2013-01-02  1.0  3  train  foo"
      ],
      "text/html": "<div>\n<style scoped>\n    .dataframe tbody tr th:only-of-type {\n        vertical-align: middle;\n    }\n\n    .dataframe tbody tr th {\n        vertical-align: top;\n    }\n\n    .dataframe thead th {\n        text-align: right;\n    }\n</style>\n<table border=\"1\" class=\"dataframe\">\n  <thead>\n    <tr style=\"text-align: right;\">\n      <th></th>\n      <th>A</th>\n      <th>B</th>\n      <th>C</th>\n      <th>D</th>\n      <th>E</th>\n      <th>F</th>\n    </tr>\n  </thead>\n  <tbody>\n    <tr>\n      <th>0</th>\n      <td>1.0</td>\n      <td>2013-01-02</td>\n      <td>1.0</td>\n      <td>3</td>\n      <td>test</td>\n      <td>foo</td>\n    </tr>\n    <tr>\n      <th>1</th>\n      <td>1.0</td>\n      <td>2013-01-02</td>\n      <td>1.0</td>\n      <td>3</td>\n      <td>train</td>\n      <td>foo</td>\n    </tr>\n  </tbody>\n</table>\n</div>"
     },
     "metadata": {},
     "execution_count": 97
    }
   ],
   "source": [
    "df2.head(2)"
   ]
  },
  {
   "cell_type": "code",
   "execution_count": 98,
   "metadata": {},
   "outputs": [
    {
     "output_type": "execute_result",
     "data": {
      "text/plain": [
       "     A          B    C  D      E    F\n",
       "2  1.0 2013-01-02  1.0  3   test  foo\n",
       "3  1.0 2013-01-02  1.0  3  train  foo"
      ],
      "text/html": "<div>\n<style scoped>\n    .dataframe tbody tr th:only-of-type {\n        vertical-align: middle;\n    }\n\n    .dataframe tbody tr th {\n        vertical-align: top;\n    }\n\n    .dataframe thead th {\n        text-align: right;\n    }\n</style>\n<table border=\"1\" class=\"dataframe\">\n  <thead>\n    <tr style=\"text-align: right;\">\n      <th></th>\n      <th>A</th>\n      <th>B</th>\n      <th>C</th>\n      <th>D</th>\n      <th>E</th>\n      <th>F</th>\n    </tr>\n  </thead>\n  <tbody>\n    <tr>\n      <th>2</th>\n      <td>1.0</td>\n      <td>2013-01-02</td>\n      <td>1.0</td>\n      <td>3</td>\n      <td>test</td>\n      <td>foo</td>\n    </tr>\n    <tr>\n      <th>3</th>\n      <td>1.0</td>\n      <td>2013-01-02</td>\n      <td>1.0</td>\n      <td>3</td>\n      <td>train</td>\n      <td>foo</td>\n    </tr>\n  </tbody>\n</table>\n</div>"
     },
     "metadata": {},
     "execution_count": 98
    }
   ],
   "source": [
    "df2.tail(2)"
   ]
  },
  {
   "cell_type": "code",
   "execution_count": 99,
   "metadata": {},
   "outputs": [
    {
     "output_type": "execute_result",
     "data": {
      "text/plain": [
       "array([[1.0, Timestamp('2013-01-02 00:00:00'), 1.0, 3, 'test', 'foo'],\n",
       "       [1.0, Timestamp('2013-01-02 00:00:00'), 1.0, 3, 'train', 'foo'],\n",
       "       [1.0, Timestamp('2013-01-02 00:00:00'), 1.0, 3, 'test', 'foo'],\n",
       "       [1.0, Timestamp('2013-01-02 00:00:00'), 1.0, 3, 'train', 'foo']],\n",
       "      dtype=object)"
      ]
     },
     "metadata": {},
     "execution_count": 99
    }
   ],
   "source": [
    "df2.to_numpy()"
   ]
  },
  {
   "cell_type": "code",
   "execution_count": 100,
   "metadata": {},
   "outputs": [
    {
     "output_type": "execute_result",
     "data": {
      "text/plain": [
       "         A    C    D\n",
       "count  4.0  4.0  4.0\n",
       "mean   1.0  1.0  3.0\n",
       "std    0.0  0.0  0.0\n",
       "min    1.0  1.0  3.0\n",
       "25%    1.0  1.0  3.0\n",
       "50%    1.0  1.0  3.0\n",
       "75%    1.0  1.0  3.0\n",
       "max    1.0  1.0  3.0"
      ],
      "text/html": "<div>\n<style scoped>\n    .dataframe tbody tr th:only-of-type {\n        vertical-align: middle;\n    }\n\n    .dataframe tbody tr th {\n        vertical-align: top;\n    }\n\n    .dataframe thead th {\n        text-align: right;\n    }\n</style>\n<table border=\"1\" class=\"dataframe\">\n  <thead>\n    <tr style=\"text-align: right;\">\n      <th></th>\n      <th>A</th>\n      <th>C</th>\n      <th>D</th>\n    </tr>\n  </thead>\n  <tbody>\n    <tr>\n      <th>count</th>\n      <td>4.0</td>\n      <td>4.0</td>\n      <td>4.0</td>\n    </tr>\n    <tr>\n      <th>mean</th>\n      <td>1.0</td>\n      <td>1.0</td>\n      <td>3.0</td>\n    </tr>\n    <tr>\n      <th>std</th>\n      <td>0.0</td>\n      <td>0.0</td>\n      <td>0.0</td>\n    </tr>\n    <tr>\n      <th>min</th>\n      <td>1.0</td>\n      <td>1.0</td>\n      <td>3.0</td>\n    </tr>\n    <tr>\n      <th>25%</th>\n      <td>1.0</td>\n      <td>1.0</td>\n      <td>3.0</td>\n    </tr>\n    <tr>\n      <th>50%</th>\n      <td>1.0</td>\n      <td>1.0</td>\n      <td>3.0</td>\n    </tr>\n    <tr>\n      <th>75%</th>\n      <td>1.0</td>\n      <td>1.0</td>\n      <td>3.0</td>\n    </tr>\n    <tr>\n      <th>max</th>\n      <td>1.0</td>\n      <td>1.0</td>\n      <td>3.0</td>\n    </tr>\n  </tbody>\n</table>\n</div>"
     },
     "metadata": {},
     "execution_count": 100
    }
   ],
   "source": [
    "df2.describe()"
   ]
  },
  {
   "cell_type": "code",
   "execution_count": 101,
   "metadata": {},
   "outputs": [
    {
     "output_type": "execute_result",
     "data": {
      "text/plain": [
       "                     0                    1                    2  \\\n",
       "A                  1.0                  1.0                  1.0   \n",
       "B  2013-01-02 00:00:00  2013-01-02 00:00:00  2013-01-02 00:00:00   \n",
       "C                  1.0                  1.0                  1.0   \n",
       "D                    3                    3                    3   \n",
       "E                 test                train                 test   \n",
       "F                  foo                  foo                  foo   \n",
       "\n",
       "                     3  \n",
       "A                  1.0  \n",
       "B  2013-01-02 00:00:00  \n",
       "C                  1.0  \n",
       "D                    3  \n",
       "E                train  \n",
       "F                  foo  "
      ],
      "text/html": "<div>\n<style scoped>\n    .dataframe tbody tr th:only-of-type {\n        vertical-align: middle;\n    }\n\n    .dataframe tbody tr th {\n        vertical-align: top;\n    }\n\n    .dataframe thead th {\n        text-align: right;\n    }\n</style>\n<table border=\"1\" class=\"dataframe\">\n  <thead>\n    <tr style=\"text-align: right;\">\n      <th></th>\n      <th>0</th>\n      <th>1</th>\n      <th>2</th>\n      <th>3</th>\n    </tr>\n  </thead>\n  <tbody>\n    <tr>\n      <th>A</th>\n      <td>1.0</td>\n      <td>1.0</td>\n      <td>1.0</td>\n      <td>1.0</td>\n    </tr>\n    <tr>\n      <th>B</th>\n      <td>2013-01-02 00:00:00</td>\n      <td>2013-01-02 00:00:00</td>\n      <td>2013-01-02 00:00:00</td>\n      <td>2013-01-02 00:00:00</td>\n    </tr>\n    <tr>\n      <th>C</th>\n      <td>1.0</td>\n      <td>1.0</td>\n      <td>1.0</td>\n      <td>1.0</td>\n    </tr>\n    <tr>\n      <th>D</th>\n      <td>3</td>\n      <td>3</td>\n      <td>3</td>\n      <td>3</td>\n    </tr>\n    <tr>\n      <th>E</th>\n      <td>test</td>\n      <td>train</td>\n      <td>test</td>\n      <td>train</td>\n    </tr>\n    <tr>\n      <th>F</th>\n      <td>foo</td>\n      <td>foo</td>\n      <td>foo</td>\n      <td>foo</td>\n    </tr>\n  </tbody>\n</table>\n</div>"
     },
     "metadata": {},
     "execution_count": 101
    }
   ],
   "source": [
    "df2.T"
   ]
  },
  {
   "cell_type": "code",
   "execution_count": 102,
   "metadata": {},
   "outputs": [],
   "source": [
    "import pandas as pd\n",
    "df = pd.DataFrame([31, 2, 28, 9, 15], index=[100, 29, 234, 1, 150], columns=['A'])\n",
    "\n",
    "# df.sort_index(inplace=True)"
   ]
  },
  {
   "cell_type": "code",
   "execution_count": 103,
   "metadata": {},
   "outputs": [],
   "source": [
    "filename = './data/all_data_total_EU_GDP_CA.csv'\n",
    "df = pd.read_csv(filename) \n"
   ]
  },
  {
   "cell_type": "code",
   "execution_count": 104,
   "metadata": {},
   "outputs": [
    {
     "output_type": "execute_result",
     "data": {
      "text/plain": [
       "    country  year     CA  inflation  education  unemployment rate  \\\n",
       "125      EU  2011 -52600        2.9   1.393386           9.933333   \n",
       "124      EU  2010 -58028        1.8   1.393386           9.925000   \n",
       "123      EU  2009 -48781        0.8   1.693330           9.200000   \n",
       "122      EU  2008 -37986        3.7   1.693330           7.258333   \n",
       "121      EU  2007 -57047        2.4   1.693330           7.516667   \n",
       "\n",
       "     GDP growth rate  \n",
       "125            1.800  \n",
       "124            2.200  \n",
       "123           -4.300  \n",
       "122            0.645  \n",
       "121            3.152  "
      ],
      "text/html": "<div>\n<style scoped>\n    .dataframe tbody tr th:only-of-type {\n        vertical-align: middle;\n    }\n\n    .dataframe tbody tr th {\n        vertical-align: top;\n    }\n\n    .dataframe thead th {\n        text-align: right;\n    }\n</style>\n<table border=\"1\" class=\"dataframe\">\n  <thead>\n    <tr style=\"text-align: right;\">\n      <th></th>\n      <th>country</th>\n      <th>year</th>\n      <th>CA</th>\n      <th>inflation</th>\n      <th>education</th>\n      <th>unemployment rate</th>\n      <th>GDP growth rate</th>\n    </tr>\n  </thead>\n  <tbody>\n    <tr>\n      <th>125</th>\n      <td>EU</td>\n      <td>2011</td>\n      <td>-52600</td>\n      <td>2.9</td>\n      <td>1.393386</td>\n      <td>9.933333</td>\n      <td>1.800</td>\n    </tr>\n    <tr>\n      <th>124</th>\n      <td>EU</td>\n      <td>2010</td>\n      <td>-58028</td>\n      <td>1.8</td>\n      <td>1.393386</td>\n      <td>9.925000</td>\n      <td>2.200</td>\n    </tr>\n    <tr>\n      <th>123</th>\n      <td>EU</td>\n      <td>2009</td>\n      <td>-48781</td>\n      <td>0.8</td>\n      <td>1.693330</td>\n      <td>9.200000</td>\n      <td>-4.300</td>\n    </tr>\n    <tr>\n      <th>122</th>\n      <td>EU</td>\n      <td>2008</td>\n      <td>-37986</td>\n      <td>3.7</td>\n      <td>1.693330</td>\n      <td>7.258333</td>\n      <td>0.645</td>\n    </tr>\n    <tr>\n      <th>121</th>\n      <td>EU</td>\n      <td>2007</td>\n      <td>-57047</td>\n      <td>2.4</td>\n      <td>1.693330</td>\n      <td>7.516667</td>\n      <td>3.152</td>\n    </tr>\n  </tbody>\n</table>\n</div>"
     },
     "metadata": {},
     "execution_count": 104
    }
   ],
   "source": [
    "dates = pd.date_range('20200301', periods =5)\n",
    "\n",
    "df2 = df.loc[df['country'] == 'EU'].iloc[1:6].sort_values(by = 'CA', ascending = False).sort_index(ascending = False)\n",
    "df2"
   ]
  },
  {
   "cell_type": "code",
   "execution_count": 109,
   "metadata": {},
   "outputs": [],
   "source": [
    "dates = pd.date_range('20200301', periods =135)\n",
    "\n",
    "df3 = df[['education','inflation']].set_index(dates)\n",
    "# df3['2020-03-04':'2020-03-30']"
   ]
  },
  {
   "cell_type": "code",
   "execution_count": 106,
   "metadata": {},
   "outputs": [
    {
     "output_type": "execute_result",
     "data": {
      "text/plain": [
       "            education  inflation\n",
       "2020-03-01   9.912729        4.2\n",
       "2020-03-02   9.912729        3.6\n",
       "2020-03-03   9.912729        5.7\n",
       "2020-03-04   9.912729        4.9\n",
       "2020-03-05   8.328785        5.0\n",
       "...               ...        ...\n",
       "2020-07-09   1.130620        0.2\n",
       "2020-07-10   1.130620        1.6\n",
       "2020-07-11   1.130620        1.8\n",
       "2020-07-12   1.130620        1.4\n",
       "2020-07-13   0.913340        0.7\n",
       "\n",
       "[135 rows x 2 columns]"
      ],
      "text/html": "<div>\n<style scoped>\n    .dataframe tbody tr th:only-of-type {\n        vertical-align: middle;\n    }\n\n    .dataframe tbody tr th {\n        vertical-align: top;\n    }\n\n    .dataframe thead th {\n        text-align: right;\n    }\n</style>\n<table border=\"1\" class=\"dataframe\">\n  <thead>\n    <tr style=\"text-align: right;\">\n      <th></th>\n      <th>education</th>\n      <th>inflation</th>\n    </tr>\n  </thead>\n  <tbody>\n    <tr>\n      <th>2020-03-01</th>\n      <td>9.912729</td>\n      <td>4.2</td>\n    </tr>\n    <tr>\n      <th>2020-03-02</th>\n      <td>9.912729</td>\n      <td>3.6</td>\n    </tr>\n    <tr>\n      <th>2020-03-03</th>\n      <td>9.912729</td>\n      <td>5.7</td>\n    </tr>\n    <tr>\n      <th>2020-03-04</th>\n      <td>9.912729</td>\n      <td>4.9</td>\n    </tr>\n    <tr>\n      <th>2020-03-05</th>\n      <td>8.328785</td>\n      <td>5.0</td>\n    </tr>\n    <tr>\n      <th>...</th>\n      <td>...</td>\n      <td>...</td>\n    </tr>\n    <tr>\n      <th>2020-07-09</th>\n      <td>1.130620</td>\n      <td>0.2</td>\n    </tr>\n    <tr>\n      <th>2020-07-10</th>\n      <td>1.130620</td>\n      <td>1.6</td>\n    </tr>\n    <tr>\n      <th>2020-07-11</th>\n      <td>1.130620</td>\n      <td>1.8</td>\n    </tr>\n    <tr>\n      <th>2020-07-12</th>\n      <td>1.130620</td>\n      <td>1.4</td>\n    </tr>\n    <tr>\n      <th>2020-07-13</th>\n      <td>0.913340</td>\n      <td>0.7</td>\n    </tr>\n  </tbody>\n</table>\n<p>135 rows × 2 columns</p>\n</div>"
     },
     "metadata": {},
     "execution_count": 106
    }
   ],
   "source": [
    "df3"
   ]
  },
  {
   "cell_type": "code",
   "execution_count": 110,
   "metadata": {},
   "outputs": [
    {
     "output_type": "execute_result",
     "data": {
      "text/plain": [
       "    country  year      CA  inflation  education  unemployment rate  \\\n",
       "0    Brazil  2006    2473        4.2   9.912729           8.640000   \n",
       "1    Brazil  2007    2451        3.6   9.912729           8.330000   \n",
       "2    Brazil  2008    3441        5.7   9.912729           7.340000   \n",
       "3    Brazil  2009    2917        4.9   9.912729           8.520000   \n",
       "4    Brazil  2010    3655        5.0   8.328785           7.740000   \n",
       "..      ...   ...     ...        ...        ...                ...   \n",
       "130      EU  2016 -108255        0.2   1.130620           9.150000   \n",
       "131      EU  2017  -99874        1.6   1.130620           8.158334   \n",
       "132      EU  2018 -111992        1.8   1.130620           7.283333   \n",
       "133      EU  2019 -113119        1.4   1.130620           6.716667   \n",
       "134      EU  2020  -72205        0.7   0.913340           7.150000   \n",
       "\n",
       "     GDP growth rate  \n",
       "0          24.226425  \n",
       "1          26.131594  \n",
       "2          21.383119  \n",
       "3          -1.698571  \n",
       "4          32.504225  \n",
       "..               ...  \n",
       "130         2.100000  \n",
       "131         2.800000  \n",
       "132         2.100000  \n",
       "133         1.600000  \n",
       "134        -6.100000  \n",
       "\n",
       "[135 rows x 7 columns]"
      ],
      "text/html": "<div>\n<style scoped>\n    .dataframe tbody tr th:only-of-type {\n        vertical-align: middle;\n    }\n\n    .dataframe tbody tr th {\n        vertical-align: top;\n    }\n\n    .dataframe thead th {\n        text-align: right;\n    }\n</style>\n<table border=\"1\" class=\"dataframe\">\n  <thead>\n    <tr style=\"text-align: right;\">\n      <th></th>\n      <th>country</th>\n      <th>year</th>\n      <th>CA</th>\n      <th>inflation</th>\n      <th>education</th>\n      <th>unemployment rate</th>\n      <th>GDP growth rate</th>\n    </tr>\n  </thead>\n  <tbody>\n    <tr>\n      <th>0</th>\n      <td>Brazil</td>\n      <td>2006</td>\n      <td>2473</td>\n      <td>4.2</td>\n      <td>9.912729</td>\n      <td>8.640000</td>\n      <td>24.226425</td>\n    </tr>\n    <tr>\n      <th>1</th>\n      <td>Brazil</td>\n      <td>2007</td>\n      <td>2451</td>\n      <td>3.6</td>\n      <td>9.912729</td>\n      <td>8.330000</td>\n      <td>26.131594</td>\n    </tr>\n    <tr>\n      <th>2</th>\n      <td>Brazil</td>\n      <td>2008</td>\n      <td>3441</td>\n      <td>5.7</td>\n      <td>9.912729</td>\n      <td>7.340000</td>\n      <td>21.383119</td>\n    </tr>\n    <tr>\n      <th>3</th>\n      <td>Brazil</td>\n      <td>2009</td>\n      <td>2917</td>\n      <td>4.9</td>\n      <td>9.912729</td>\n      <td>8.520000</td>\n      <td>-1.698571</td>\n    </tr>\n    <tr>\n      <th>4</th>\n      <td>Brazil</td>\n      <td>2010</td>\n      <td>3655</td>\n      <td>5.0</td>\n      <td>8.328785</td>\n      <td>7.740000</td>\n      <td>32.504225</td>\n    </tr>\n    <tr>\n      <th>...</th>\n      <td>...</td>\n      <td>...</td>\n      <td>...</td>\n      <td>...</td>\n      <td>...</td>\n      <td>...</td>\n      <td>...</td>\n    </tr>\n    <tr>\n      <th>130</th>\n      <td>EU</td>\n      <td>2016</td>\n      <td>-108255</td>\n      <td>0.2</td>\n      <td>1.130620</td>\n      <td>9.150000</td>\n      <td>2.100000</td>\n    </tr>\n    <tr>\n      <th>131</th>\n      <td>EU</td>\n      <td>2017</td>\n      <td>-99874</td>\n      <td>1.6</td>\n      <td>1.130620</td>\n      <td>8.158334</td>\n      <td>2.800000</td>\n    </tr>\n    <tr>\n      <th>132</th>\n      <td>EU</td>\n      <td>2018</td>\n      <td>-111992</td>\n      <td>1.8</td>\n      <td>1.130620</td>\n      <td>7.283333</td>\n      <td>2.100000</td>\n    </tr>\n    <tr>\n      <th>133</th>\n      <td>EU</td>\n      <td>2019</td>\n      <td>-113119</td>\n      <td>1.4</td>\n      <td>1.130620</td>\n      <td>6.716667</td>\n      <td>1.600000</td>\n    </tr>\n    <tr>\n      <th>134</th>\n      <td>EU</td>\n      <td>2020</td>\n      <td>-72205</td>\n      <td>0.7</td>\n      <td>0.913340</td>\n      <td>7.150000</td>\n      <td>-6.100000</td>\n    </tr>\n  </tbody>\n</table>\n<p>135 rows × 7 columns</p>\n</div>"
     },
     "metadata": {},
     "execution_count": 110
    }
   ],
   "source": [
    "df"
   ]
  },
  {
   "cell_type": "code",
   "execution_count": 113,
   "metadata": {},
   "outputs": [],
   "source": [
    "df.set_index(dates, inplace= True)"
   ]
  },
  {
   "cell_type": "code",
   "execution_count": 114,
   "metadata": {},
   "outputs": [
    {
     "output_type": "execute_result",
     "data": {
      "text/plain": [
       "           country  year      CA  inflation  education  unemployment rate  \\\n",
       "2020-03-01  Brazil  2006    2473        4.2   9.912729           8.640000   \n",
       "2020-03-02  Brazil  2007    2451        3.6   9.912729           8.330000   \n",
       "2020-03-03  Brazil  2008    3441        5.7   9.912729           7.340000   \n",
       "2020-03-04  Brazil  2009    2917        4.9   9.912729           8.520000   \n",
       "2020-03-05  Brazil  2010    3655        5.0   8.328785           7.740000   \n",
       "...            ...   ...     ...        ...        ...                ...   \n",
       "2020-07-09      EU  2016 -108255        0.2   1.130620           9.150000   \n",
       "2020-07-10      EU  2017  -99874        1.6   1.130620           8.158334   \n",
       "2020-07-11      EU  2018 -111992        1.8   1.130620           7.283333   \n",
       "2020-07-12      EU  2019 -113119        1.4   1.130620           6.716667   \n",
       "2020-07-13      EU  2020  -72205        0.7   0.913340           7.150000   \n",
       "\n",
       "            GDP growth rate  \n",
       "2020-03-01        24.226425  \n",
       "2020-03-02        26.131594  \n",
       "2020-03-03        21.383119  \n",
       "2020-03-04        -1.698571  \n",
       "2020-03-05        32.504225  \n",
       "...                     ...  \n",
       "2020-07-09         2.100000  \n",
       "2020-07-10         2.800000  \n",
       "2020-07-11         2.100000  \n",
       "2020-07-12         1.600000  \n",
       "2020-07-13        -6.100000  \n",
       "\n",
       "[135 rows x 7 columns]"
      ],
      "text/html": "<div>\n<style scoped>\n    .dataframe tbody tr th:only-of-type {\n        vertical-align: middle;\n    }\n\n    .dataframe tbody tr th {\n        vertical-align: top;\n    }\n\n    .dataframe thead th {\n        text-align: right;\n    }\n</style>\n<table border=\"1\" class=\"dataframe\">\n  <thead>\n    <tr style=\"text-align: right;\">\n      <th></th>\n      <th>country</th>\n      <th>year</th>\n      <th>CA</th>\n      <th>inflation</th>\n      <th>education</th>\n      <th>unemployment rate</th>\n      <th>GDP growth rate</th>\n    </tr>\n  </thead>\n  <tbody>\n    <tr>\n      <th>2020-03-01</th>\n      <td>Brazil</td>\n      <td>2006</td>\n      <td>2473</td>\n      <td>4.2</td>\n      <td>9.912729</td>\n      <td>8.640000</td>\n      <td>24.226425</td>\n    </tr>\n    <tr>\n      <th>2020-03-02</th>\n      <td>Brazil</td>\n      <td>2007</td>\n      <td>2451</td>\n      <td>3.6</td>\n      <td>9.912729</td>\n      <td>8.330000</td>\n      <td>26.131594</td>\n    </tr>\n    <tr>\n      <th>2020-03-03</th>\n      <td>Brazil</td>\n      <td>2008</td>\n      <td>3441</td>\n      <td>5.7</td>\n      <td>9.912729</td>\n      <td>7.340000</td>\n      <td>21.383119</td>\n    </tr>\n    <tr>\n      <th>2020-03-04</th>\n      <td>Brazil</td>\n      <td>2009</td>\n      <td>2917</td>\n      <td>4.9</td>\n      <td>9.912729</td>\n      <td>8.520000</td>\n      <td>-1.698571</td>\n    </tr>\n    <tr>\n      <th>2020-03-05</th>\n      <td>Brazil</td>\n      <td>2010</td>\n      <td>3655</td>\n      <td>5.0</td>\n      <td>8.328785</td>\n      <td>7.740000</td>\n      <td>32.504225</td>\n    </tr>\n    <tr>\n      <th>...</th>\n      <td>...</td>\n      <td>...</td>\n      <td>...</td>\n      <td>...</td>\n      <td>...</td>\n      <td>...</td>\n      <td>...</td>\n    </tr>\n    <tr>\n      <th>2020-07-09</th>\n      <td>EU</td>\n      <td>2016</td>\n      <td>-108255</td>\n      <td>0.2</td>\n      <td>1.130620</td>\n      <td>9.150000</td>\n      <td>2.100000</td>\n    </tr>\n    <tr>\n      <th>2020-07-10</th>\n      <td>EU</td>\n      <td>2017</td>\n      <td>-99874</td>\n      <td>1.6</td>\n      <td>1.130620</td>\n      <td>8.158334</td>\n      <td>2.800000</td>\n    </tr>\n    <tr>\n      <th>2020-07-11</th>\n      <td>EU</td>\n      <td>2018</td>\n      <td>-111992</td>\n      <td>1.8</td>\n      <td>1.130620</td>\n      <td>7.283333</td>\n      <td>2.100000</td>\n    </tr>\n    <tr>\n      <th>2020-07-12</th>\n      <td>EU</td>\n      <td>2019</td>\n      <td>-113119</td>\n      <td>1.4</td>\n      <td>1.130620</td>\n      <td>6.716667</td>\n      <td>1.600000</td>\n    </tr>\n    <tr>\n      <th>2020-07-13</th>\n      <td>EU</td>\n      <td>2020</td>\n      <td>-72205</td>\n      <td>0.7</td>\n      <td>0.913340</td>\n      <td>7.150000</td>\n      <td>-6.100000</td>\n    </tr>\n  </tbody>\n</table>\n<p>135 rows × 7 columns</p>\n</div>"
     },
     "metadata": {},
     "execution_count": 114
    }
   ],
   "source": [
    "df"
   ]
  },
  {
   "cell_type": "code",
   "execution_count": 117,
   "metadata": {},
   "outputs": [
    {
     "output_type": "execute_result",
     "data": {
      "text/plain": [
       "           country  year    CA  inflation  education  unemployment rate  \\\n",
       "2020-03-03  Brazil  2008  3441        5.7   9.912729               7.34   \n",
       "2020-03-04  Brazil  2009  2917        4.9   9.912729               8.52   \n",
       "2020-03-05  Brazil  2010  3655        5.0   8.328785               7.74   \n",
       "\n",
       "            GDP growth rate  \n",
       "2020-03-03        21.383119  \n",
       "2020-03-04        -1.698571  \n",
       "2020-03-05        32.504225  "
      ],
      "text/html": "<div>\n<style scoped>\n    .dataframe tbody tr th:only-of-type {\n        vertical-align: middle;\n    }\n\n    .dataframe tbody tr th {\n        vertical-align: top;\n    }\n\n    .dataframe thead th {\n        text-align: right;\n    }\n</style>\n<table border=\"1\" class=\"dataframe\">\n  <thead>\n    <tr style=\"text-align: right;\">\n      <th></th>\n      <th>country</th>\n      <th>year</th>\n      <th>CA</th>\n      <th>inflation</th>\n      <th>education</th>\n      <th>unemployment rate</th>\n      <th>GDP growth rate</th>\n    </tr>\n  </thead>\n  <tbody>\n    <tr>\n      <th>2020-03-03</th>\n      <td>Brazil</td>\n      <td>2008</td>\n      <td>3441</td>\n      <td>5.7</td>\n      <td>9.912729</td>\n      <td>7.34</td>\n      <td>21.383119</td>\n    </tr>\n    <tr>\n      <th>2020-03-04</th>\n      <td>Brazil</td>\n      <td>2009</td>\n      <td>2917</td>\n      <td>4.9</td>\n      <td>9.912729</td>\n      <td>8.52</td>\n      <td>-1.698571</td>\n    </tr>\n    <tr>\n      <th>2020-03-05</th>\n      <td>Brazil</td>\n      <td>2010</td>\n      <td>3655</td>\n      <td>5.0</td>\n      <td>8.328785</td>\n      <td>7.74</td>\n      <td>32.504225</td>\n    </tr>\n  </tbody>\n</table>\n</div>"
     },
     "metadata": {},
     "execution_count": 117
    }
   ],
   "source": [
    "df.loc[dates[2:5]]"
   ]
  },
  {
   "cell_type": "code",
   "execution_count": 118,
   "metadata": {},
   "outputs": [
    {
     "output_type": "execute_result",
     "data": {
      "text/plain": [
       "                CA  inflation\n",
       "2020-03-01    2473        4.2\n",
       "2020-03-02    2451        3.6\n",
       "2020-03-03    3441        5.7\n",
       "2020-03-04    2917        4.9\n",
       "2020-03-05    3655        5.0\n",
       "...            ...        ...\n",
       "2020-07-09 -108255        0.2\n",
       "2020-07-10  -99874        1.6\n",
       "2020-07-11 -111992        1.8\n",
       "2020-07-12 -113119        1.4\n",
       "2020-07-13  -72205        0.7\n",
       "\n",
       "[135 rows x 2 columns]"
      ],
      "text/html": "<div>\n<style scoped>\n    .dataframe tbody tr th:only-of-type {\n        vertical-align: middle;\n    }\n\n    .dataframe tbody tr th {\n        vertical-align: top;\n    }\n\n    .dataframe thead th {\n        text-align: right;\n    }\n</style>\n<table border=\"1\" class=\"dataframe\">\n  <thead>\n    <tr style=\"text-align: right;\">\n      <th></th>\n      <th>CA</th>\n      <th>inflation</th>\n    </tr>\n  </thead>\n  <tbody>\n    <tr>\n      <th>2020-03-01</th>\n      <td>2473</td>\n      <td>4.2</td>\n    </tr>\n    <tr>\n      <th>2020-03-02</th>\n      <td>2451</td>\n      <td>3.6</td>\n    </tr>\n    <tr>\n      <th>2020-03-03</th>\n      <td>3441</td>\n      <td>5.7</td>\n    </tr>\n    <tr>\n      <th>2020-03-04</th>\n      <td>2917</td>\n      <td>4.9</td>\n    </tr>\n    <tr>\n      <th>2020-03-05</th>\n      <td>3655</td>\n      <td>5.0</td>\n    </tr>\n    <tr>\n      <th>...</th>\n      <td>...</td>\n      <td>...</td>\n    </tr>\n    <tr>\n      <th>2020-07-09</th>\n      <td>-108255</td>\n      <td>0.2</td>\n    </tr>\n    <tr>\n      <th>2020-07-10</th>\n      <td>-99874</td>\n      <td>1.6</td>\n    </tr>\n    <tr>\n      <th>2020-07-11</th>\n      <td>-111992</td>\n      <td>1.8</td>\n    </tr>\n    <tr>\n      <th>2020-07-12</th>\n      <td>-113119</td>\n      <td>1.4</td>\n    </tr>\n    <tr>\n      <th>2020-07-13</th>\n      <td>-72205</td>\n      <td>0.7</td>\n    </tr>\n  </tbody>\n</table>\n<p>135 rows × 2 columns</p>\n</div>"
     },
     "metadata": {},
     "execution_count": 118
    }
   ],
   "source": [
    "df.loc[:,['CA','inflation']]"
   ]
  },
  {
   "cell_type": "code",
   "execution_count": 120,
   "metadata": {},
   "outputs": [
    {
     "output_type": "execute_result",
     "data": {
      "text/plain": [
       "              CA  inflation\n",
       "2020-03-03  3441        5.7\n",
       "2020-03-04  2917        4.9\n",
       "2020-03-05  3655        5.0\n",
       "2020-03-06  3286        6.6\n",
       "2020-03-07  3053        5.4"
      ],
      "text/html": "<div>\n<style scoped>\n    .dataframe tbody tr th:only-of-type {\n        vertical-align: middle;\n    }\n\n    .dataframe tbody tr th {\n        vertical-align: top;\n    }\n\n    .dataframe thead th {\n        text-align: right;\n    }\n</style>\n<table border=\"1\" class=\"dataframe\">\n  <thead>\n    <tr style=\"text-align: right;\">\n      <th></th>\n      <th>CA</th>\n      <th>inflation</th>\n    </tr>\n  </thead>\n  <tbody>\n    <tr>\n      <th>2020-03-03</th>\n      <td>3441</td>\n      <td>5.7</td>\n    </tr>\n    <tr>\n      <th>2020-03-04</th>\n      <td>2917</td>\n      <td>4.9</td>\n    </tr>\n    <tr>\n      <th>2020-03-05</th>\n      <td>3655</td>\n      <td>5.0</td>\n    </tr>\n    <tr>\n      <th>2020-03-06</th>\n      <td>3286</td>\n      <td>6.6</td>\n    </tr>\n    <tr>\n      <th>2020-03-07</th>\n      <td>3053</td>\n      <td>5.4</td>\n    </tr>\n  </tbody>\n</table>\n</div>"
     },
     "metadata": {},
     "execution_count": 120
    }
   ],
   "source": [
    "df.loc[dates[2:7],['CA','inflation']]"
   ]
  },
  {
   "cell_type": "code",
   "execution_count": 125,
   "metadata": {},
   "outputs": [
    {
     "output_type": "execute_result",
     "data": {
      "text/plain": [
       "            education  unemployment rate\n",
       "2020-03-01   9.912729           8.640000\n",
       "2020-03-02   9.912729           8.330000\n",
       "2020-03-03   9.912729           7.340000\n",
       "2020-03-04   9.912729           8.520000\n",
       "2020-03-05   8.328785           7.740000\n",
       "2020-03-06   8.328785           6.920000\n",
       "2020-03-07   8.328785           7.190000\n",
       "2020-03-08   8.328785           6.980000\n",
       "2020-03-09   8.328785           6.660000\n",
       "2020-03-10   6.933517           8.430000\n",
       "2020-03-11   6.933517          11.600000\n",
       "2020-03-12   6.933517          12.820000\n",
       "2020-03-13   6.933517          12.330000\n",
       "2020-03-14   6.933517          12.080000\n",
       "2020-03-15   5.720481          11.970000\n",
       "2020-03-16   0.490316           6.350000\n",
       "2020-03-17   0.490316           6.066667\n",
       "2020-03-18   0.490316           6.175000\n",
       "2020-03-19   0.490316           8.375000\n",
       "2020-03-20   0.369564           8.116667\n",
       "2020-03-21   0.369564           7.558333\n",
       "2020-03-22   0.369564           7.333333\n",
       "2020-03-23   0.369564           7.125000\n",
       "2020-03-24   0.369564           6.941667\n",
       "2020-03-25   0.279892           6.941667\n",
       "2020-03-26   0.279892           7.050000\n",
       "2020-03-27   0.279892           6.400000\n",
       "2020-03-28   0.279892           5.891667\n",
       "2020-03-29   0.279892           5.733333\n",
       "2020-03-30   0.211343           9.558333\n",
       "2020-03-31   8.975572           4.430000\n",
       "2020-04-01   8.975572           4.000000\n",
       "2020-04-02   8.975572           4.200000\n",
       "2020-04-03   8.975572           4.300000\n",
       "2020-04-04   7.055341           4.140000\n",
       "2020-04-05   7.055341           4.090000\n",
       "2020-04-06   7.055341           4.090000\n",
       "2020-04-07   7.055341           4.050000\n",
       "2020-04-08   7.055341           4.090000\n",
       "2020-04-09   5.491684           4.050000\n",
       "2020-04-10   5.491684           4.020000\n",
       "2020-04-11   5.491684           3.900000\n",
       "2020-04-12   5.491684           3.800000\n",
       "2020-04-13   5.491684           3.620000\n",
       "2020-04-14   4.288933           4.200000\n",
       "2020-04-15  37.295974           5.320000\n",
       "2020-04-16  37.295974           5.280000\n",
       "2020-04-17  37.295974           5.570000\n",
       "2020-04-18  37.295974           5.640000\n",
       "2020-04-19  33.439299           5.600000\n",
       "2020-04-20  33.439299           5.650000\n",
       "2020-04-21  33.439299           5.670000\n",
       "2020-04-22  33.439299           5.610000\n",
       "2020-04-23  33.439299           5.570000\n",
       "2020-04-24  29.922213           5.510000\n",
       "2020-04-25  29.922213           5.420000\n",
       "2020-04-26  29.922213           5.330000\n",
       "2020-04-27  29.922213           5.360000\n",
       "2020-04-28  29.922213           5.360000\n",
       "2020-04-29  26.706188           5.400000"
      ],
      "text/html": "<div>\n<style scoped>\n    .dataframe tbody tr th:only-of-type {\n        vertical-align: middle;\n    }\n\n    .dataframe tbody tr th {\n        vertical-align: top;\n    }\n\n    .dataframe thead th {\n        text-align: right;\n    }\n</style>\n<table border=\"1\" class=\"dataframe\">\n  <thead>\n    <tr style=\"text-align: right;\">\n      <th></th>\n      <th>education</th>\n      <th>unemployment rate</th>\n    </tr>\n  </thead>\n  <tbody>\n    <tr>\n      <th>2020-03-01</th>\n      <td>9.912729</td>\n      <td>8.640000</td>\n    </tr>\n    <tr>\n      <th>2020-03-02</th>\n      <td>9.912729</td>\n      <td>8.330000</td>\n    </tr>\n    <tr>\n      <th>2020-03-03</th>\n      <td>9.912729</td>\n      <td>7.340000</td>\n    </tr>\n    <tr>\n      <th>2020-03-04</th>\n      <td>9.912729</td>\n      <td>8.520000</td>\n    </tr>\n    <tr>\n      <th>2020-03-05</th>\n      <td>8.328785</td>\n      <td>7.740000</td>\n    </tr>\n    <tr>\n      <th>2020-03-06</th>\n      <td>8.328785</td>\n      <td>6.920000</td>\n    </tr>\n    <tr>\n      <th>2020-03-07</th>\n      <td>8.328785</td>\n      <td>7.190000</td>\n    </tr>\n    <tr>\n      <th>2020-03-08</th>\n      <td>8.328785</td>\n      <td>6.980000</td>\n    </tr>\n    <tr>\n      <th>2020-03-09</th>\n      <td>8.328785</td>\n      <td>6.660000</td>\n    </tr>\n    <tr>\n      <th>2020-03-10</th>\n      <td>6.933517</td>\n      <td>8.430000</td>\n    </tr>\n    <tr>\n      <th>2020-03-11</th>\n      <td>6.933517</td>\n      <td>11.600000</td>\n    </tr>\n    <tr>\n      <th>2020-03-12</th>\n      <td>6.933517</td>\n      <td>12.820000</td>\n    </tr>\n    <tr>\n      <th>2020-03-13</th>\n      <td>6.933517</td>\n      <td>12.330000</td>\n    </tr>\n    <tr>\n      <th>2020-03-14</th>\n      <td>6.933517</td>\n      <td>12.080000</td>\n    </tr>\n    <tr>\n      <th>2020-03-15</th>\n      <td>5.720481</td>\n      <td>11.970000</td>\n    </tr>\n    <tr>\n      <th>2020-03-16</th>\n      <td>0.490316</td>\n      <td>6.350000</td>\n    </tr>\n    <tr>\n      <th>2020-03-17</th>\n      <td>0.490316</td>\n      <td>6.066667</td>\n    </tr>\n    <tr>\n      <th>2020-03-18</th>\n      <td>0.490316</td>\n      <td>6.175000</td>\n    </tr>\n    <tr>\n      <th>2020-03-19</th>\n      <td>0.490316</td>\n      <td>8.375000</td>\n    </tr>\n    <tr>\n      <th>2020-03-20</th>\n      <td>0.369564</td>\n      <td>8.116667</td>\n    </tr>\n    <tr>\n      <th>2020-03-21</th>\n      <td>0.369564</td>\n      <td>7.558333</td>\n    </tr>\n    <tr>\n      <th>2020-03-22</th>\n      <td>0.369564</td>\n      <td>7.333333</td>\n    </tr>\n    <tr>\n      <th>2020-03-23</th>\n      <td>0.369564</td>\n      <td>7.125000</td>\n    </tr>\n    <tr>\n      <th>2020-03-24</th>\n      <td>0.369564</td>\n      <td>6.941667</td>\n    </tr>\n    <tr>\n      <th>2020-03-25</th>\n      <td>0.279892</td>\n      <td>6.941667</td>\n    </tr>\n    <tr>\n      <th>2020-03-26</th>\n      <td>0.279892</td>\n      <td>7.050000</td>\n    </tr>\n    <tr>\n      <th>2020-03-27</th>\n      <td>0.279892</td>\n      <td>6.400000</td>\n    </tr>\n    <tr>\n      <th>2020-03-28</th>\n      <td>0.279892</td>\n      <td>5.891667</td>\n    </tr>\n    <tr>\n      <th>2020-03-29</th>\n      <td>0.279892</td>\n      <td>5.733333</td>\n    </tr>\n    <tr>\n      <th>2020-03-30</th>\n      <td>0.211343</td>\n      <td>9.558333</td>\n    </tr>\n    <tr>\n      <th>2020-03-31</th>\n      <td>8.975572</td>\n      <td>4.430000</td>\n    </tr>\n    <tr>\n      <th>2020-04-01</th>\n      <td>8.975572</td>\n      <td>4.000000</td>\n    </tr>\n    <tr>\n      <th>2020-04-02</th>\n      <td>8.975572</td>\n      <td>4.200000</td>\n    </tr>\n    <tr>\n      <th>2020-04-03</th>\n      <td>8.975572</td>\n      <td>4.300000</td>\n    </tr>\n    <tr>\n      <th>2020-04-04</th>\n      <td>7.055341</td>\n      <td>4.140000</td>\n    </tr>\n    <tr>\n      <th>2020-04-05</th>\n      <td>7.055341</td>\n      <td>4.090000</td>\n    </tr>\n    <tr>\n      <th>2020-04-06</th>\n      <td>7.055341</td>\n      <td>4.090000</td>\n    </tr>\n    <tr>\n      <th>2020-04-07</th>\n      <td>7.055341</td>\n      <td>4.050000</td>\n    </tr>\n    <tr>\n      <th>2020-04-08</th>\n      <td>7.055341</td>\n      <td>4.090000</td>\n    </tr>\n    <tr>\n      <th>2020-04-09</th>\n      <td>5.491684</td>\n      <td>4.050000</td>\n    </tr>\n    <tr>\n      <th>2020-04-10</th>\n      <td>5.491684</td>\n      <td>4.020000</td>\n    </tr>\n    <tr>\n      <th>2020-04-11</th>\n      <td>5.491684</td>\n      <td>3.900000</td>\n    </tr>\n    <tr>\n      <th>2020-04-12</th>\n      <td>5.491684</td>\n      <td>3.800000</td>\n    </tr>\n    <tr>\n      <th>2020-04-13</th>\n      <td>5.491684</td>\n      <td>3.620000</td>\n    </tr>\n    <tr>\n      <th>2020-04-14</th>\n      <td>4.288933</td>\n      <td>4.200000</td>\n    </tr>\n    <tr>\n      <th>2020-04-15</th>\n      <td>37.295974</td>\n      <td>5.320000</td>\n    </tr>\n    <tr>\n      <th>2020-04-16</th>\n      <td>37.295974</td>\n      <td>5.280000</td>\n    </tr>\n    <tr>\n      <th>2020-04-17</th>\n      <td>37.295974</td>\n      <td>5.570000</td>\n    </tr>\n    <tr>\n      <th>2020-04-18</th>\n      <td>37.295974</td>\n      <td>5.640000</td>\n    </tr>\n    <tr>\n      <th>2020-04-19</th>\n      <td>33.439299</td>\n      <td>5.600000</td>\n    </tr>\n    <tr>\n      <th>2020-04-20</th>\n      <td>33.439299</td>\n      <td>5.650000</td>\n    </tr>\n    <tr>\n      <th>2020-04-21</th>\n      <td>33.439299</td>\n      <td>5.670000</td>\n    </tr>\n    <tr>\n      <th>2020-04-22</th>\n      <td>33.439299</td>\n      <td>5.610000</td>\n    </tr>\n    <tr>\n      <th>2020-04-23</th>\n      <td>33.439299</td>\n      <td>5.570000</td>\n    </tr>\n    <tr>\n      <th>2020-04-24</th>\n      <td>29.922213</td>\n      <td>5.510000</td>\n    </tr>\n    <tr>\n      <th>2020-04-25</th>\n      <td>29.922213</td>\n      <td>5.420000</td>\n    </tr>\n    <tr>\n      <th>2020-04-26</th>\n      <td>29.922213</td>\n      <td>5.330000</td>\n    </tr>\n    <tr>\n      <th>2020-04-27</th>\n      <td>29.922213</td>\n      <td>5.360000</td>\n    </tr>\n    <tr>\n      <th>2020-04-28</th>\n      <td>29.922213</td>\n      <td>5.360000</td>\n    </tr>\n    <tr>\n      <th>2020-04-29</th>\n      <td>26.706188</td>\n      <td>5.400000</td>\n    </tr>\n  </tbody>\n</table>\n</div>"
     },
     "metadata": {},
     "execution_count": 125
    }
   ],
   "source": [
    "df.loc['2020-03-01':'2020-04-29',['education','unemployment rate']]"
   ]
  },
  {
   "cell_type": "code",
   "execution_count": 127,
   "metadata": {},
   "outputs": [
    {
     "output_type": "execute_result",
     "data": {
      "text/plain": [
       "              CA  inflation  education\n",
       "2020-03-02  2451        3.6   9.912729\n",
       "2020-03-03  3441        5.7   9.912729"
      ],
      "text/html": "<div>\n<style scoped>\n    .dataframe tbody tr th:only-of-type {\n        vertical-align: middle;\n    }\n\n    .dataframe tbody tr th {\n        vertical-align: top;\n    }\n\n    .dataframe thead th {\n        text-align: right;\n    }\n</style>\n<table border=\"1\" class=\"dataframe\">\n  <thead>\n    <tr style=\"text-align: right;\">\n      <th></th>\n      <th>CA</th>\n      <th>inflation</th>\n      <th>education</th>\n    </tr>\n  </thead>\n  <tbody>\n    <tr>\n      <th>2020-03-02</th>\n      <td>2451</td>\n      <td>3.6</td>\n      <td>9.912729</td>\n    </tr>\n    <tr>\n      <th>2020-03-03</th>\n      <td>3441</td>\n      <td>5.7</td>\n      <td>9.912729</td>\n    </tr>\n  </tbody>\n</table>\n</div>"
     },
     "metadata": {},
     "execution_count": 127
    }
   ],
   "source": [
    "df.iloc[1:3,2:5]"
   ]
  },
  {
   "cell_type": "code",
   "execution_count": 128,
   "metadata": {},
   "outputs": [
    {
     "output_type": "execute_result",
     "data": {
      "text/plain": [
       "           country  year    CA  inflation  education  unemployment rate  \\\n",
       "2020-03-03  Brazil  2008  3441        5.7   9.912729               7.34   \n",
       "2020-03-04  Brazil  2009  2917        4.9   9.912729               8.52   \n",
       "2020-03-08  Brazil  2013  3224        6.2   8.328785               6.98   \n",
       "\n",
       "            GDP growth rate  \n",
       "2020-03-03        21.383119  \n",
       "2020-03-04        -1.698571  \n",
       "2020-03-08         0.309033  "
      ],
      "text/html": "<div>\n<style scoped>\n    .dataframe tbody tr th:only-of-type {\n        vertical-align: middle;\n    }\n\n    .dataframe tbody tr th {\n        vertical-align: top;\n    }\n\n    .dataframe thead th {\n        text-align: right;\n    }\n</style>\n<table border=\"1\" class=\"dataframe\">\n  <thead>\n    <tr style=\"text-align: right;\">\n      <th></th>\n      <th>country</th>\n      <th>year</th>\n      <th>CA</th>\n      <th>inflation</th>\n      <th>education</th>\n      <th>unemployment rate</th>\n      <th>GDP growth rate</th>\n    </tr>\n  </thead>\n  <tbody>\n    <tr>\n      <th>2020-03-03</th>\n      <td>Brazil</td>\n      <td>2008</td>\n      <td>3441</td>\n      <td>5.7</td>\n      <td>9.912729</td>\n      <td>7.34</td>\n      <td>21.383119</td>\n    </tr>\n    <tr>\n      <th>2020-03-04</th>\n      <td>Brazil</td>\n      <td>2009</td>\n      <td>2917</td>\n      <td>4.9</td>\n      <td>9.912729</td>\n      <td>8.52</td>\n      <td>-1.698571</td>\n    </tr>\n    <tr>\n      <th>2020-03-08</th>\n      <td>Brazil</td>\n      <td>2013</td>\n      <td>3224</td>\n      <td>6.2</td>\n      <td>8.328785</td>\n      <td>6.98</td>\n      <td>0.309033</td>\n    </tr>\n  </tbody>\n</table>\n</div>"
     },
     "metadata": {},
     "execution_count": 128
    }
   ],
   "source": [
    "df.iloc[[2,3,7],:]"
   ]
  },
  {
   "cell_type": "code",
   "execution_count": 136,
   "metadata": {},
   "outputs": [
    {
     "output_type": "execute_result",
     "data": {
      "text/plain": [
       "2020-03-01    4.2\n",
       "2020-03-02    3.6\n",
       "2020-03-03    5.7\n",
       "2020-03-04    4.9\n",
       "2020-03-05    5.0\n",
       "             ... \n",
       "2020-07-09    0.2\n",
       "2020-07-10    1.6\n",
       "2020-07-11    1.8\n",
       "2020-07-12    1.4\n",
       "2020-07-13    0.7\n",
       "Name: inflation, Length: 120, dtype: float64"
      ]
     },
     "metadata": {},
     "execution_count": 136
    }
   ],
   "source": [
    "df['inflation'][df['inflation']>0]"
   ]
  },
  {
   "cell_type": "code",
   "execution_count": 138,
   "metadata": {},
   "outputs": [
    {
     "output_type": "execute_result",
     "data": {
      "text/plain": [
       "           country  year      CA  inflation  education  unemployment rate  \\\n",
       "2020-03-01  Brazil  2006    2473        4.2   9.912729           8.640000   \n",
       "2020-03-02  Brazil  2007    2451        3.6   9.912729           8.330000   \n",
       "2020-03-03  Brazil  2008    3441        5.7   9.912729           7.340000   \n",
       "2020-03-04  Brazil  2009    2917        4.9   9.912729           8.520000   \n",
       "2020-03-05  Brazil  2010    3655        5.0   8.328785           7.740000   \n",
       "2020-03-06  Brazil  2011    3286        6.6   8.328785           6.920000   \n",
       "2020-03-07  Brazil  2012    3053        5.4   8.328785           7.190000   \n",
       "2020-03-08  Brazil  2013    3224        6.2   8.328785           6.980000   \n",
       "2020-03-09  Brazil  2014    2945        6.3   8.328785           6.660000   \n",
       "2020-03-10  Brazil  2015    2762        9.0   6.933517           8.430000   \n",
       "2020-03-11  Brazil  2016    2681        8.7   6.933517          11.600000   \n",
       "2020-03-12  Brazil  2017    2771        3.4   6.933517          12.820000   \n",
       "2020-03-13  Brazil  2018    3859        3.7   6.933517          12.330000   \n",
       "2020-03-14  Brazil  2019    3356        3.7   6.933517          12.080000   \n",
       "2020-03-15  Brazil  2020    2832        3.2   5.720481          11.970000   \n",
       "2020-06-29      EU  2006  -41134        2.3   1.693330           8.691667   \n",
       "2020-06-30      EU  2007  -57047        2.4   1.693330           7.516667   \n",
       "2020-07-01      EU  2008  -37986        3.7   1.693330           7.258333   \n",
       "2020-07-02      EU  2009  -48781        0.8   1.693330           9.200000   \n",
       "2020-07-03      EU  2010  -58028        1.8   1.393386           9.925000   \n",
       "2020-07-04      EU  2011  -52600        2.9   1.393386           9.933333   \n",
       "2020-07-05      EU  2012  -81354        2.6   1.393386          10.933330   \n",
       "2020-07-06      EU  2013  -97270        1.3   1.393386          11.441670   \n",
       "2020-07-07      EU  2014 -109969        0.4   1.393386          10.900000   \n",
       "2020-07-08      EU  2015 -111525        0.1   1.130620          10.066670   \n",
       "2020-07-09      EU  2016 -108255        0.2   1.130620           9.150000   \n",
       "2020-07-10      EU  2017  -99874        1.6   1.130620           8.158334   \n",
       "2020-07-11      EU  2018 -111992        1.8   1.130620           7.283333   \n",
       "2020-07-12      EU  2019 -113119        1.4   1.130620           6.716667   \n",
       "2020-07-13      EU  2020  -72205        0.7   0.913340           7.150000   \n",
       "\n",
       "            GDP growth rate  \n",
       "2020-03-01        24.226425  \n",
       "2020-03-02        26.131594  \n",
       "2020-03-03        21.383119  \n",
       "2020-03-04        -1.698571  \n",
       "2020-03-05        32.504225  \n",
       "2020-03-06        18.440607  \n",
       "2020-03-07        -5.772198  \n",
       "2020-03-08         0.309033  \n",
       "2020-03-09        -0.679928  \n",
       "2020-03-10       -26.619745  \n",
       "2020-03-11        -0.361456  \n",
       "2020-03-12        14.876140  \n",
       "2020-03-13        -8.597336  \n",
       "2020-03-14        -2.425082  \n",
       "2020-03-15         0.583997  \n",
       "2020-06-29         3.400000  \n",
       "2020-06-30         3.152000  \n",
       "2020-07-01         0.645000  \n",
       "2020-07-02        -4.300000  \n",
       "2020-07-03         2.200000  \n",
       "2020-07-04         1.800000  \n",
       "2020-07-05        -0.400000  \n",
       "2020-07-06         0.300000  \n",
       "2020-07-07         1.800000  \n",
       "2020-07-08         2.300000  \n",
       "2020-07-09         2.100000  \n",
       "2020-07-10         2.800000  \n",
       "2020-07-11         2.100000  \n",
       "2020-07-12         1.600000  \n",
       "2020-07-13        -6.100000  "
      ],
      "text/html": "<div>\n<style scoped>\n    .dataframe tbody tr th:only-of-type {\n        vertical-align: middle;\n    }\n\n    .dataframe tbody tr th {\n        vertical-align: top;\n    }\n\n    .dataframe thead th {\n        text-align: right;\n    }\n</style>\n<table border=\"1\" class=\"dataframe\">\n  <thead>\n    <tr style=\"text-align: right;\">\n      <th></th>\n      <th>country</th>\n      <th>year</th>\n      <th>CA</th>\n      <th>inflation</th>\n      <th>education</th>\n      <th>unemployment rate</th>\n      <th>GDP growth rate</th>\n    </tr>\n  </thead>\n  <tbody>\n    <tr>\n      <th>2020-03-01</th>\n      <td>Brazil</td>\n      <td>2006</td>\n      <td>2473</td>\n      <td>4.2</td>\n      <td>9.912729</td>\n      <td>8.640000</td>\n      <td>24.226425</td>\n    </tr>\n    <tr>\n      <th>2020-03-02</th>\n      <td>Brazil</td>\n      <td>2007</td>\n      <td>2451</td>\n      <td>3.6</td>\n      <td>9.912729</td>\n      <td>8.330000</td>\n      <td>26.131594</td>\n    </tr>\n    <tr>\n      <th>2020-03-03</th>\n      <td>Brazil</td>\n      <td>2008</td>\n      <td>3441</td>\n      <td>5.7</td>\n      <td>9.912729</td>\n      <td>7.340000</td>\n      <td>21.383119</td>\n    </tr>\n    <tr>\n      <th>2020-03-04</th>\n      <td>Brazil</td>\n      <td>2009</td>\n      <td>2917</td>\n      <td>4.9</td>\n      <td>9.912729</td>\n      <td>8.520000</td>\n      <td>-1.698571</td>\n    </tr>\n    <tr>\n      <th>2020-03-05</th>\n      <td>Brazil</td>\n      <td>2010</td>\n      <td>3655</td>\n      <td>5.0</td>\n      <td>8.328785</td>\n      <td>7.740000</td>\n      <td>32.504225</td>\n    </tr>\n    <tr>\n      <th>2020-03-06</th>\n      <td>Brazil</td>\n      <td>2011</td>\n      <td>3286</td>\n      <td>6.6</td>\n      <td>8.328785</td>\n      <td>6.920000</td>\n      <td>18.440607</td>\n    </tr>\n    <tr>\n      <th>2020-03-07</th>\n      <td>Brazil</td>\n      <td>2012</td>\n      <td>3053</td>\n      <td>5.4</td>\n      <td>8.328785</td>\n      <td>7.190000</td>\n      <td>-5.772198</td>\n    </tr>\n    <tr>\n      <th>2020-03-08</th>\n      <td>Brazil</td>\n      <td>2013</td>\n      <td>3224</td>\n      <td>6.2</td>\n      <td>8.328785</td>\n      <td>6.980000</td>\n      <td>0.309033</td>\n    </tr>\n    <tr>\n      <th>2020-03-09</th>\n      <td>Brazil</td>\n      <td>2014</td>\n      <td>2945</td>\n      <td>6.3</td>\n      <td>8.328785</td>\n      <td>6.660000</td>\n      <td>-0.679928</td>\n    </tr>\n    <tr>\n      <th>2020-03-10</th>\n      <td>Brazil</td>\n      <td>2015</td>\n      <td>2762</td>\n      <td>9.0</td>\n      <td>6.933517</td>\n      <td>8.430000</td>\n      <td>-26.619745</td>\n    </tr>\n    <tr>\n      <th>2020-03-11</th>\n      <td>Brazil</td>\n      <td>2016</td>\n      <td>2681</td>\n      <td>8.7</td>\n      <td>6.933517</td>\n      <td>11.600000</td>\n      <td>-0.361456</td>\n    </tr>\n    <tr>\n      <th>2020-03-12</th>\n      <td>Brazil</td>\n      <td>2017</td>\n      <td>2771</td>\n      <td>3.4</td>\n      <td>6.933517</td>\n      <td>12.820000</td>\n      <td>14.876140</td>\n    </tr>\n    <tr>\n      <th>2020-03-13</th>\n      <td>Brazil</td>\n      <td>2018</td>\n      <td>3859</td>\n      <td>3.7</td>\n      <td>6.933517</td>\n      <td>12.330000</td>\n      <td>-8.597336</td>\n    </tr>\n    <tr>\n      <th>2020-03-14</th>\n      <td>Brazil</td>\n      <td>2019</td>\n      <td>3356</td>\n      <td>3.7</td>\n      <td>6.933517</td>\n      <td>12.080000</td>\n      <td>-2.425082</td>\n    </tr>\n    <tr>\n      <th>2020-03-15</th>\n      <td>Brazil</td>\n      <td>2020</td>\n      <td>2832</td>\n      <td>3.2</td>\n      <td>5.720481</td>\n      <td>11.970000</td>\n      <td>0.583997</td>\n    </tr>\n    <tr>\n      <th>2020-06-29</th>\n      <td>EU</td>\n      <td>2006</td>\n      <td>-41134</td>\n      <td>2.3</td>\n      <td>1.693330</td>\n      <td>8.691667</td>\n      <td>3.400000</td>\n    </tr>\n    <tr>\n      <th>2020-06-30</th>\n      <td>EU</td>\n      <td>2007</td>\n      <td>-57047</td>\n      <td>2.4</td>\n      <td>1.693330</td>\n      <td>7.516667</td>\n      <td>3.152000</td>\n    </tr>\n    <tr>\n      <th>2020-07-01</th>\n      <td>EU</td>\n      <td>2008</td>\n      <td>-37986</td>\n      <td>3.7</td>\n      <td>1.693330</td>\n      <td>7.258333</td>\n      <td>0.645000</td>\n    </tr>\n    <tr>\n      <th>2020-07-02</th>\n      <td>EU</td>\n      <td>2009</td>\n      <td>-48781</td>\n      <td>0.8</td>\n      <td>1.693330</td>\n      <td>9.200000</td>\n      <td>-4.300000</td>\n    </tr>\n    <tr>\n      <th>2020-07-03</th>\n      <td>EU</td>\n      <td>2010</td>\n      <td>-58028</td>\n      <td>1.8</td>\n      <td>1.393386</td>\n      <td>9.925000</td>\n      <td>2.200000</td>\n    </tr>\n    <tr>\n      <th>2020-07-04</th>\n      <td>EU</td>\n      <td>2011</td>\n      <td>-52600</td>\n      <td>2.9</td>\n      <td>1.393386</td>\n      <td>9.933333</td>\n      <td>1.800000</td>\n    </tr>\n    <tr>\n      <th>2020-07-05</th>\n      <td>EU</td>\n      <td>2012</td>\n      <td>-81354</td>\n      <td>2.6</td>\n      <td>1.393386</td>\n      <td>10.933330</td>\n      <td>-0.400000</td>\n    </tr>\n    <tr>\n      <th>2020-07-06</th>\n      <td>EU</td>\n      <td>2013</td>\n      <td>-97270</td>\n      <td>1.3</td>\n      <td>1.393386</td>\n      <td>11.441670</td>\n      <td>0.300000</td>\n    </tr>\n    <tr>\n      <th>2020-07-07</th>\n      <td>EU</td>\n      <td>2014</td>\n      <td>-109969</td>\n      <td>0.4</td>\n      <td>1.393386</td>\n      <td>10.900000</td>\n      <td>1.800000</td>\n    </tr>\n    <tr>\n      <th>2020-07-08</th>\n      <td>EU</td>\n      <td>2015</td>\n      <td>-111525</td>\n      <td>0.1</td>\n      <td>1.130620</td>\n      <td>10.066670</td>\n      <td>2.300000</td>\n    </tr>\n    <tr>\n      <th>2020-07-09</th>\n      <td>EU</td>\n      <td>2016</td>\n      <td>-108255</td>\n      <td>0.2</td>\n      <td>1.130620</td>\n      <td>9.150000</td>\n      <td>2.100000</td>\n    </tr>\n    <tr>\n      <th>2020-07-10</th>\n      <td>EU</td>\n      <td>2017</td>\n      <td>-99874</td>\n      <td>1.6</td>\n      <td>1.130620</td>\n      <td>8.158334</td>\n      <td>2.800000</td>\n    </tr>\n    <tr>\n      <th>2020-07-11</th>\n      <td>EU</td>\n      <td>2018</td>\n      <td>-111992</td>\n      <td>1.8</td>\n      <td>1.130620</td>\n      <td>7.283333</td>\n      <td>2.100000</td>\n    </tr>\n    <tr>\n      <th>2020-07-12</th>\n      <td>EU</td>\n      <td>2019</td>\n      <td>-113119</td>\n      <td>1.4</td>\n      <td>1.130620</td>\n      <td>6.716667</td>\n      <td>1.600000</td>\n    </tr>\n    <tr>\n      <th>2020-07-13</th>\n      <td>EU</td>\n      <td>2020</td>\n      <td>-72205</td>\n      <td>0.7</td>\n      <td>0.913340</td>\n      <td>7.150000</td>\n      <td>-6.100000</td>\n    </tr>\n  </tbody>\n</table>\n</div>"
     },
     "metadata": {},
     "execution_count": 138
    }
   ],
   "source": [
    "df[df['country'].isin(['Brazil','EU'])]"
   ]
  },
  {
   "cell_type": "code",
   "execution_count": 144,
   "metadata": {},
   "outputs": [
    {
     "output_type": "execute_result",
     "data": {
      "text/plain": [
       "           country  year      CA  inflation  education  unemployment rate  \\\n",
       "2020-03-01  Brazil  2006    2473        4.2   9.912729           8.640000   \n",
       "2020-03-02  Brazil  2007    2451        3.6   9.912729           8.330000   \n",
       "2020-03-03  Brazil  2008    3441        5.7   9.912729           7.340000   \n",
       "2020-03-04  Brazil  2009    2917        4.9   9.912729           8.520000   \n",
       "2020-03-05  Brazil  2010    3655        5.0   8.328785           7.740000   \n",
       "...            ...   ...     ...        ...        ...                ...   \n",
       "2020-07-09      EU  2016 -108255        0.2   1.130620           9.150000   \n",
       "2020-07-10      EU  2017  -99874        1.6   1.130620           8.158334   \n",
       "2020-07-11      EU  2018 -111992        1.8   1.130620           7.283333   \n",
       "2020-07-12      EU  2019 -113119        1.4   1.130620           6.716667   \n",
       "2020-07-13      EU  2020  -72205        0.7   0.913340           7.150000   \n",
       "\n",
       "            GDP growth rate  New  \n",
       "2020-03-01        24.226425   10  \n",
       "2020-03-02        26.131594   10  \n",
       "2020-03-03        21.383119   10  \n",
       "2020-03-04        -1.698571   10  \n",
       "2020-03-05        32.504225   10  \n",
       "...                     ...  ...  \n",
       "2020-07-09         2.100000   10  \n",
       "2020-07-10         2.800000   10  \n",
       "2020-07-11         2.100000   10  \n",
       "2020-07-12         1.600000   10  \n",
       "2020-07-13        -6.100000   10  \n",
       "\n",
       "[135 rows x 8 columns]"
      ],
      "text/html": "<div>\n<style scoped>\n    .dataframe tbody tr th:only-of-type {\n        vertical-align: middle;\n    }\n\n    .dataframe tbody tr th {\n        vertical-align: top;\n    }\n\n    .dataframe thead th {\n        text-align: right;\n    }\n</style>\n<table border=\"1\" class=\"dataframe\">\n  <thead>\n    <tr style=\"text-align: right;\">\n      <th></th>\n      <th>country</th>\n      <th>year</th>\n      <th>CA</th>\n      <th>inflation</th>\n      <th>education</th>\n      <th>unemployment rate</th>\n      <th>GDP growth rate</th>\n      <th>New</th>\n    </tr>\n  </thead>\n  <tbody>\n    <tr>\n      <th>2020-03-01</th>\n      <td>Brazil</td>\n      <td>2006</td>\n      <td>2473</td>\n      <td>4.2</td>\n      <td>9.912729</td>\n      <td>8.640000</td>\n      <td>24.226425</td>\n      <td>10</td>\n    </tr>\n    <tr>\n      <th>2020-03-02</th>\n      <td>Brazil</td>\n      <td>2007</td>\n      <td>2451</td>\n      <td>3.6</td>\n      <td>9.912729</td>\n      <td>8.330000</td>\n      <td>26.131594</td>\n      <td>10</td>\n    </tr>\n    <tr>\n      <th>2020-03-03</th>\n      <td>Brazil</td>\n      <td>2008</td>\n      <td>3441</td>\n      <td>5.7</td>\n      <td>9.912729</td>\n      <td>7.340000</td>\n      <td>21.383119</td>\n      <td>10</td>\n    </tr>\n    <tr>\n      <th>2020-03-04</th>\n      <td>Brazil</td>\n      <td>2009</td>\n      <td>2917</td>\n      <td>4.9</td>\n      <td>9.912729</td>\n      <td>8.520000</td>\n      <td>-1.698571</td>\n      <td>10</td>\n    </tr>\n    <tr>\n      <th>2020-03-05</th>\n      <td>Brazil</td>\n      <td>2010</td>\n      <td>3655</td>\n      <td>5.0</td>\n      <td>8.328785</td>\n      <td>7.740000</td>\n      <td>32.504225</td>\n      <td>10</td>\n    </tr>\n    <tr>\n      <th>...</th>\n      <td>...</td>\n      <td>...</td>\n      <td>...</td>\n      <td>...</td>\n      <td>...</td>\n      <td>...</td>\n      <td>...</td>\n      <td>...</td>\n    </tr>\n    <tr>\n      <th>2020-07-09</th>\n      <td>EU</td>\n      <td>2016</td>\n      <td>-108255</td>\n      <td>0.2</td>\n      <td>1.130620</td>\n      <td>9.150000</td>\n      <td>2.100000</td>\n      <td>10</td>\n    </tr>\n    <tr>\n      <th>2020-07-10</th>\n      <td>EU</td>\n      <td>2017</td>\n      <td>-99874</td>\n      <td>1.6</td>\n      <td>1.130620</td>\n      <td>8.158334</td>\n      <td>2.800000</td>\n      <td>10</td>\n    </tr>\n    <tr>\n      <th>2020-07-11</th>\n      <td>EU</td>\n      <td>2018</td>\n      <td>-111992</td>\n      <td>1.8</td>\n      <td>1.130620</td>\n      <td>7.283333</td>\n      <td>2.100000</td>\n      <td>10</td>\n    </tr>\n    <tr>\n      <th>2020-07-12</th>\n      <td>EU</td>\n      <td>2019</td>\n      <td>-113119</td>\n      <td>1.4</td>\n      <td>1.130620</td>\n      <td>6.716667</td>\n      <td>1.600000</td>\n      <td>10</td>\n    </tr>\n    <tr>\n      <th>2020-07-13</th>\n      <td>EU</td>\n      <td>2020</td>\n      <td>-72205</td>\n      <td>0.7</td>\n      <td>0.913340</td>\n      <td>7.150000</td>\n      <td>-6.100000</td>\n      <td>10</td>\n    </tr>\n  </tbody>\n</table>\n<p>135 rows × 8 columns</p>\n</div>"
     },
     "metadata": {},
     "execution_count": 144
    }
   ],
   "source": [
    "df"
   ]
  },
  {
   "cell_type": "code",
   "execution_count": 146,
   "metadata": {},
   "outputs": [
    {
     "output_type": "execute_result",
     "data": {
      "text/plain": [
       "           country  year      CA  inflation  education  unemployment rate  \\\n",
       "2020-03-01  Brazil  2006    2473        4.2   9.912729           8.640000   \n",
       "2020-03-02  Brazil  2007    2451        3.6   9.912729           8.330000   \n",
       "2020-03-03  Brazil  2008    3441        5.7   9.912729           7.340000   \n",
       "2020-03-04  Brazil  2009    2917        4.9   9.912729           8.520000   \n",
       "2020-03-05  Brazil  2010    3655        5.0   8.328785           7.740000   \n",
       "...            ...   ...     ...        ...        ...                ...   \n",
       "2020-07-09      EU  2016 -108255        0.2   1.130620           9.150000   \n",
       "2020-07-10      EU  2017  -99874        1.6   1.130620           8.158334   \n",
       "2020-07-11      EU  2018 -111992        1.8   1.130620           7.283333   \n",
       "2020-07-12      EU  2019 -113119        1.4   1.130620           6.716667   \n",
       "2020-07-13      EU  2020  -72205        0.7   0.913340           7.150000   \n",
       "\n",
       "            GDP growth rate  New  \n",
       "2020-03-01        24.226425   10  \n",
       "2020-03-02        26.131594   10  \n",
       "2020-03-03        21.383119   10  \n",
       "2020-03-04        -1.698571   10  \n",
       "2020-03-05        32.504225   10  \n",
       "...                     ...  ...  \n",
       "2020-07-09         2.100000   10  \n",
       "2020-07-10         2.800000   10  \n",
       "2020-07-11         2.100000   10  \n",
       "2020-07-12         1.600000   10  \n",
       "2020-07-13        -6.100000   10  \n",
       "\n",
       "[135 rows x 8 columns]"
      ],
      "text/html": "<div>\n<style scoped>\n    .dataframe tbody tr th:only-of-type {\n        vertical-align: middle;\n    }\n\n    .dataframe tbody tr th {\n        vertical-align: top;\n    }\n\n    .dataframe thead th {\n        text-align: right;\n    }\n</style>\n<table border=\"1\" class=\"dataframe\">\n  <thead>\n    <tr style=\"text-align: right;\">\n      <th></th>\n      <th>country</th>\n      <th>year</th>\n      <th>CA</th>\n      <th>inflation</th>\n      <th>education</th>\n      <th>unemployment rate</th>\n      <th>GDP growth rate</th>\n      <th>New</th>\n    </tr>\n  </thead>\n  <tbody>\n    <tr>\n      <th>2020-03-01</th>\n      <td>Brazil</td>\n      <td>2006</td>\n      <td>2473</td>\n      <td>4.2</td>\n      <td>9.912729</td>\n      <td>8.640000</td>\n      <td>24.226425</td>\n      <td>10</td>\n    </tr>\n    <tr>\n      <th>2020-03-02</th>\n      <td>Brazil</td>\n      <td>2007</td>\n      <td>2451</td>\n      <td>3.6</td>\n      <td>9.912729</td>\n      <td>8.330000</td>\n      <td>26.131594</td>\n      <td>10</td>\n    </tr>\n    <tr>\n      <th>2020-03-03</th>\n      <td>Brazil</td>\n      <td>2008</td>\n      <td>3441</td>\n      <td>5.7</td>\n      <td>9.912729</td>\n      <td>7.340000</td>\n      <td>21.383119</td>\n      <td>10</td>\n    </tr>\n    <tr>\n      <th>2020-03-04</th>\n      <td>Brazil</td>\n      <td>2009</td>\n      <td>2917</td>\n      <td>4.9</td>\n      <td>9.912729</td>\n      <td>8.520000</td>\n      <td>-1.698571</td>\n      <td>10</td>\n    </tr>\n    <tr>\n      <th>2020-03-05</th>\n      <td>Brazil</td>\n      <td>2010</td>\n      <td>3655</td>\n      <td>5.0</td>\n      <td>8.328785</td>\n      <td>7.740000</td>\n      <td>32.504225</td>\n      <td>10</td>\n    </tr>\n    <tr>\n      <th>...</th>\n      <td>...</td>\n      <td>...</td>\n      <td>...</td>\n      <td>...</td>\n      <td>...</td>\n      <td>...</td>\n      <td>...</td>\n      <td>...</td>\n    </tr>\n    <tr>\n      <th>2020-07-09</th>\n      <td>EU</td>\n      <td>2016</td>\n      <td>-108255</td>\n      <td>0.2</td>\n      <td>1.130620</td>\n      <td>9.150000</td>\n      <td>2.100000</td>\n      <td>10</td>\n    </tr>\n    <tr>\n      <th>2020-07-10</th>\n      <td>EU</td>\n      <td>2017</td>\n      <td>-99874</td>\n      <td>1.6</td>\n      <td>1.130620</td>\n      <td>8.158334</td>\n      <td>2.800000</td>\n      <td>10</td>\n    </tr>\n    <tr>\n      <th>2020-07-11</th>\n      <td>EU</td>\n      <td>2018</td>\n      <td>-111992</td>\n      <td>1.8</td>\n      <td>1.130620</td>\n      <td>7.283333</td>\n      <td>2.100000</td>\n      <td>10</td>\n    </tr>\n    <tr>\n      <th>2020-07-12</th>\n      <td>EU</td>\n      <td>2019</td>\n      <td>-113119</td>\n      <td>1.4</td>\n      <td>1.130620</td>\n      <td>6.716667</td>\n      <td>1.600000</td>\n      <td>10</td>\n    </tr>\n    <tr>\n      <th>2020-07-13</th>\n      <td>EU</td>\n      <td>2020</td>\n      <td>-72205</td>\n      <td>0.7</td>\n      <td>0.913340</td>\n      <td>7.150000</td>\n      <td>-6.100000</td>\n      <td>10</td>\n    </tr>\n  </tbody>\n</table>\n<p>135 rows × 8 columns</p>\n</div>"
     },
     "metadata": {},
     "execution_count": 146
    }
   ],
   "source": [
    "df['New'] = np.array([10]*len(df))\n",
    "df"
   ]
  },
  {
   "cell_type": "code",
   "execution_count": 152,
   "metadata": {},
   "outputs": [],
   "source": [
    "df_all2 = df.reindex(index = [i for i in range(135)], columns=list(df.columns))"
   ]
  },
  {
   "cell_type": "code",
   "execution_count": 154,
   "metadata": {},
   "outputs": [
    {
     "output_type": "execute_result",
     "data": {
      "text/plain": [
       "Empty DataFrame\n",
       "Columns: [country, year, CA, inflation, education, unemployment rate, GDP growth rate, New]\n",
       "Index: []"
      ],
      "text/html": "<div>\n<style scoped>\n    .dataframe tbody tr th:only-of-type {\n        vertical-align: middle;\n    }\n\n    .dataframe tbody tr th {\n        vertical-align: top;\n    }\n\n    .dataframe thead th {\n        text-align: right;\n    }\n</style>\n<table border=\"1\" class=\"dataframe\">\n  <thead>\n    <tr style=\"text-align: right;\">\n      <th></th>\n      <th>country</th>\n      <th>year</th>\n      <th>CA</th>\n      <th>inflation</th>\n      <th>education</th>\n      <th>unemployment rate</th>\n      <th>GDP growth rate</th>\n      <th>New</th>\n    </tr>\n  </thead>\n  <tbody>\n  </tbody>\n</table>\n</div>"
     },
     "metadata": {},
     "execution_count": 154
    }
   ],
   "source": [
    "df_all2.dropna(how='any')"
   ]
  },
  {
   "cell_type": "code",
   "execution_count": 155,
   "metadata": {},
   "outputs": [
    {
     "output_type": "execute_result",
     "data": {
      "text/plain": [
       "     country  year    CA  inflation  education  unemployment rate  \\\n",
       "0         10  10.0  10.0       10.0       10.0               10.0   \n",
       "1         10  10.0  10.0       10.0       10.0               10.0   \n",
       "2         10  10.0  10.0       10.0       10.0               10.0   \n",
       "3         10  10.0  10.0       10.0       10.0               10.0   \n",
       "4         10  10.0  10.0       10.0       10.0               10.0   \n",
       "..       ...   ...   ...        ...        ...                ...   \n",
       "130       10  10.0  10.0       10.0       10.0               10.0   \n",
       "131       10  10.0  10.0       10.0       10.0               10.0   \n",
       "132       10  10.0  10.0       10.0       10.0               10.0   \n",
       "133       10  10.0  10.0       10.0       10.0               10.0   \n",
       "134       10  10.0  10.0       10.0       10.0               10.0   \n",
       "\n",
       "     GDP growth rate   New  \n",
       "0               10.0  10.0  \n",
       "1               10.0  10.0  \n",
       "2               10.0  10.0  \n",
       "3               10.0  10.0  \n",
       "4               10.0  10.0  \n",
       "..               ...   ...  \n",
       "130             10.0  10.0  \n",
       "131             10.0  10.0  \n",
       "132             10.0  10.0  \n",
       "133             10.0  10.0  \n",
       "134             10.0  10.0  \n",
       "\n",
       "[135 rows x 8 columns]"
      ],
      "text/html": "<div>\n<style scoped>\n    .dataframe tbody tr th:only-of-type {\n        vertical-align: middle;\n    }\n\n    .dataframe tbody tr th {\n        vertical-align: top;\n    }\n\n    .dataframe thead th {\n        text-align: right;\n    }\n</style>\n<table border=\"1\" class=\"dataframe\">\n  <thead>\n    <tr style=\"text-align: right;\">\n      <th></th>\n      <th>country</th>\n      <th>year</th>\n      <th>CA</th>\n      <th>inflation</th>\n      <th>education</th>\n      <th>unemployment rate</th>\n      <th>GDP growth rate</th>\n      <th>New</th>\n    </tr>\n  </thead>\n  <tbody>\n    <tr>\n      <th>0</th>\n      <td>10</td>\n      <td>10.0</td>\n      <td>10.0</td>\n      <td>10.0</td>\n      <td>10.0</td>\n      <td>10.0</td>\n      <td>10.0</td>\n      <td>10.0</td>\n    </tr>\n    <tr>\n      <th>1</th>\n      <td>10</td>\n      <td>10.0</td>\n      <td>10.0</td>\n      <td>10.0</td>\n      <td>10.0</td>\n      <td>10.0</td>\n      <td>10.0</td>\n      <td>10.0</td>\n    </tr>\n    <tr>\n      <th>2</th>\n      <td>10</td>\n      <td>10.0</td>\n      <td>10.0</td>\n      <td>10.0</td>\n      <td>10.0</td>\n      <td>10.0</td>\n      <td>10.0</td>\n      <td>10.0</td>\n    </tr>\n    <tr>\n      <th>3</th>\n      <td>10</td>\n      <td>10.0</td>\n      <td>10.0</td>\n      <td>10.0</td>\n      <td>10.0</td>\n      <td>10.0</td>\n      <td>10.0</td>\n      <td>10.0</td>\n    </tr>\n    <tr>\n      <th>4</th>\n      <td>10</td>\n      <td>10.0</td>\n      <td>10.0</td>\n      <td>10.0</td>\n      <td>10.0</td>\n      <td>10.0</td>\n      <td>10.0</td>\n      <td>10.0</td>\n    </tr>\n    <tr>\n      <th>...</th>\n      <td>...</td>\n      <td>...</td>\n      <td>...</td>\n      <td>...</td>\n      <td>...</td>\n      <td>...</td>\n      <td>...</td>\n      <td>...</td>\n    </tr>\n    <tr>\n      <th>130</th>\n      <td>10</td>\n      <td>10.0</td>\n      <td>10.0</td>\n      <td>10.0</td>\n      <td>10.0</td>\n      <td>10.0</td>\n      <td>10.0</td>\n      <td>10.0</td>\n    </tr>\n    <tr>\n      <th>131</th>\n      <td>10</td>\n      <td>10.0</td>\n      <td>10.0</td>\n      <td>10.0</td>\n      <td>10.0</td>\n      <td>10.0</td>\n      <td>10.0</td>\n      <td>10.0</td>\n    </tr>\n    <tr>\n      <th>132</th>\n      <td>10</td>\n      <td>10.0</td>\n      <td>10.0</td>\n      <td>10.0</td>\n      <td>10.0</td>\n      <td>10.0</td>\n      <td>10.0</td>\n      <td>10.0</td>\n    </tr>\n    <tr>\n      <th>133</th>\n      <td>10</td>\n      <td>10.0</td>\n      <td>10.0</td>\n      <td>10.0</td>\n      <td>10.0</td>\n      <td>10.0</td>\n      <td>10.0</td>\n      <td>10.0</td>\n    </tr>\n    <tr>\n      <th>134</th>\n      <td>10</td>\n      <td>10.0</td>\n      <td>10.0</td>\n      <td>10.0</td>\n      <td>10.0</td>\n      <td>10.0</td>\n      <td>10.0</td>\n      <td>10.0</td>\n    </tr>\n  </tbody>\n</table>\n<p>135 rows × 8 columns</p>\n</div>"
     },
     "metadata": {},
     "execution_count": 155
    }
   ],
   "source": [
    "df_all2.fillna(value=10)"
   ]
  },
  {
   "cell_type": "code",
   "execution_count": 156,
   "metadata": {},
   "outputs": [
    {
     "output_type": "execute_result",
     "data": {
      "text/plain": [
       "     country  year    CA  inflation  education  unemployment rate  \\\n",
       "0       True  True  True       True       True               True   \n",
       "1       True  True  True       True       True               True   \n",
       "2       True  True  True       True       True               True   \n",
       "3       True  True  True       True       True               True   \n",
       "4       True  True  True       True       True               True   \n",
       "..       ...   ...   ...        ...        ...                ...   \n",
       "130     True  True  True       True       True               True   \n",
       "131     True  True  True       True       True               True   \n",
       "132     True  True  True       True       True               True   \n",
       "133     True  True  True       True       True               True   \n",
       "134     True  True  True       True       True               True   \n",
       "\n",
       "     GDP growth rate   New  \n",
       "0               True  True  \n",
       "1               True  True  \n",
       "2               True  True  \n",
       "3               True  True  \n",
       "4               True  True  \n",
       "..               ...   ...  \n",
       "130             True  True  \n",
       "131             True  True  \n",
       "132             True  True  \n",
       "133             True  True  \n",
       "134             True  True  \n",
       "\n",
       "[135 rows x 8 columns]"
      ],
      "text/html": "<div>\n<style scoped>\n    .dataframe tbody tr th:only-of-type {\n        vertical-align: middle;\n    }\n\n    .dataframe tbody tr th {\n        vertical-align: top;\n    }\n\n    .dataframe thead th {\n        text-align: right;\n    }\n</style>\n<table border=\"1\" class=\"dataframe\">\n  <thead>\n    <tr style=\"text-align: right;\">\n      <th></th>\n      <th>country</th>\n      <th>year</th>\n      <th>CA</th>\n      <th>inflation</th>\n      <th>education</th>\n      <th>unemployment rate</th>\n      <th>GDP growth rate</th>\n      <th>New</th>\n    </tr>\n  </thead>\n  <tbody>\n    <tr>\n      <th>0</th>\n      <td>True</td>\n      <td>True</td>\n      <td>True</td>\n      <td>True</td>\n      <td>True</td>\n      <td>True</td>\n      <td>True</td>\n      <td>True</td>\n    </tr>\n    <tr>\n      <th>1</th>\n      <td>True</td>\n      <td>True</td>\n      <td>True</td>\n      <td>True</td>\n      <td>True</td>\n      <td>True</td>\n      <td>True</td>\n      <td>True</td>\n    </tr>\n    <tr>\n      <th>2</th>\n      <td>True</td>\n      <td>True</td>\n      <td>True</td>\n      <td>True</td>\n      <td>True</td>\n      <td>True</td>\n      <td>True</td>\n      <td>True</td>\n    </tr>\n    <tr>\n      <th>3</th>\n      <td>True</td>\n      <td>True</td>\n      <td>True</td>\n      <td>True</td>\n      <td>True</td>\n      <td>True</td>\n      <td>True</td>\n      <td>True</td>\n    </tr>\n    <tr>\n      <th>4</th>\n      <td>True</td>\n      <td>True</td>\n      <td>True</td>\n      <td>True</td>\n      <td>True</td>\n      <td>True</td>\n      <td>True</td>\n      <td>True</td>\n    </tr>\n    <tr>\n      <th>...</th>\n      <td>...</td>\n      <td>...</td>\n      <td>...</td>\n      <td>...</td>\n      <td>...</td>\n      <td>...</td>\n      <td>...</td>\n      <td>...</td>\n    </tr>\n    <tr>\n      <th>130</th>\n      <td>True</td>\n      <td>True</td>\n      <td>True</td>\n      <td>True</td>\n      <td>True</td>\n      <td>True</td>\n      <td>True</td>\n      <td>True</td>\n    </tr>\n    <tr>\n      <th>131</th>\n      <td>True</td>\n      <td>True</td>\n      <td>True</td>\n      <td>True</td>\n      <td>True</td>\n      <td>True</td>\n      <td>True</td>\n      <td>True</td>\n    </tr>\n    <tr>\n      <th>132</th>\n      <td>True</td>\n      <td>True</td>\n      <td>True</td>\n      <td>True</td>\n      <td>True</td>\n      <td>True</td>\n      <td>True</td>\n      <td>True</td>\n    </tr>\n    <tr>\n      <th>133</th>\n      <td>True</td>\n      <td>True</td>\n      <td>True</td>\n      <td>True</td>\n      <td>True</td>\n      <td>True</td>\n      <td>True</td>\n      <td>True</td>\n    </tr>\n    <tr>\n      <th>134</th>\n      <td>True</td>\n      <td>True</td>\n      <td>True</td>\n      <td>True</td>\n      <td>True</td>\n      <td>True</td>\n      <td>True</td>\n      <td>True</td>\n    </tr>\n  </tbody>\n</table>\n<p>135 rows × 8 columns</p>\n</div>"
     },
     "metadata": {},
     "execution_count": 156
    }
   ],
   "source": [
    "pd.isna(df_all2)"
   ]
  },
  {
   "cell_type": "code",
   "execution_count": 157,
   "metadata": {},
   "outputs": [
    {
     "output_type": "execute_result",
     "data": {
      "text/plain": [
       "year                  2013.000000\n",
       "CA                   16416.674074\n",
       "inflation                3.197778\n",
       "education                6.094824\n",
       "unemployment rate        6.126633\n",
       "GDP growth rate          5.209086\n",
       "New                     10.000000\n",
       "dtype: float64"
      ]
     },
     "metadata": {},
     "execution_count": 157
    }
   ],
   "source": [
    "df.mean()"
   ]
  },
  {
   "cell_type": "code",
   "execution_count": 162,
   "metadata": {},
   "outputs": [
    {
     "output_type": "execute_result",
     "data": {
      "text/plain": [
       "year                  2013.000000\n",
       "CA                   16416.674074\n",
       "inflation                3.197778\n",
       "education                6.094824\n",
       "unemployment rate        6.126633\n",
       "GDP growth rate          5.209086\n",
       "New                     10.000000\n",
       "dtype: float64"
      ]
     },
     "metadata": {},
     "execution_count": 162
    }
   ],
   "source": [
    "df.mean(0)"
   ]
  },
  {
   "cell_type": "code",
   "execution_count": 165,
   "metadata": {},
   "outputs": [
    {
     "output_type": "execute_result",
     "data": {
      "text/plain": [
       "           country  year      CA  inflation  education  unemployment rate  \\\n",
       "2020-03-01  Brazil  2006    2473        4.2   9.912729           8.640000   \n",
       "2020-03-02  Brazil  2007    2451        3.6   9.912729           8.330000   \n",
       "2020-03-03  Brazil  2008    3441        5.7   9.912729           7.340000   \n",
       "2020-03-04  Brazil  2009    2917        4.9   9.912729           8.520000   \n",
       "2020-03-05  Brazil  2010    3655        5.0   8.328785           7.740000   \n",
       "...            ...   ...     ...        ...        ...                ...   \n",
       "2020-07-09      EU  2016 -108255        0.2   1.130620           9.150000   \n",
       "2020-07-10      EU  2017  -99874        1.6   1.130620           8.158334   \n",
       "2020-07-11      EU  2018 -111992        1.8   1.130620           7.283333   \n",
       "2020-07-12      EU  2019 -113119        1.4   1.130620           6.716667   \n",
       "2020-07-13      EU  2020  -72205        0.7   0.913340           7.150000   \n",
       "\n",
       "            GDP growth rate  New  \n",
       "2020-03-01        24.226425   10  \n",
       "2020-03-02        26.131594   10  \n",
       "2020-03-03        21.383119   10  \n",
       "2020-03-04        -1.698571   10  \n",
       "2020-03-05        32.504225   10  \n",
       "...                     ...  ...  \n",
       "2020-07-09         2.100000   10  \n",
       "2020-07-10         2.800000   10  \n",
       "2020-07-11         2.100000   10  \n",
       "2020-07-12         1.600000   10  \n",
       "2020-07-13        -6.100000   10  \n",
       "\n",
       "[135 rows x 8 columns]"
      ],
      "text/html": "<div>\n<style scoped>\n    .dataframe tbody tr th:only-of-type {\n        vertical-align: middle;\n    }\n\n    .dataframe tbody tr th {\n        vertical-align: top;\n    }\n\n    .dataframe thead th {\n        text-align: right;\n    }\n</style>\n<table border=\"1\" class=\"dataframe\">\n  <thead>\n    <tr style=\"text-align: right;\">\n      <th></th>\n      <th>country</th>\n      <th>year</th>\n      <th>CA</th>\n      <th>inflation</th>\n      <th>education</th>\n      <th>unemployment rate</th>\n      <th>GDP growth rate</th>\n      <th>New</th>\n    </tr>\n  </thead>\n  <tbody>\n    <tr>\n      <th>2020-03-01</th>\n      <td>Brazil</td>\n      <td>2006</td>\n      <td>2473</td>\n      <td>4.2</td>\n      <td>9.912729</td>\n      <td>8.640000</td>\n      <td>24.226425</td>\n      <td>10</td>\n    </tr>\n    <tr>\n      <th>2020-03-02</th>\n      <td>Brazil</td>\n      <td>2007</td>\n      <td>2451</td>\n      <td>3.6</td>\n      <td>9.912729</td>\n      <td>8.330000</td>\n      <td>26.131594</td>\n      <td>10</td>\n    </tr>\n    <tr>\n      <th>2020-03-03</th>\n      <td>Brazil</td>\n      <td>2008</td>\n      <td>3441</td>\n      <td>5.7</td>\n      <td>9.912729</td>\n      <td>7.340000</td>\n      <td>21.383119</td>\n      <td>10</td>\n    </tr>\n    <tr>\n      <th>2020-03-04</th>\n      <td>Brazil</td>\n      <td>2009</td>\n      <td>2917</td>\n      <td>4.9</td>\n      <td>9.912729</td>\n      <td>8.520000</td>\n      <td>-1.698571</td>\n      <td>10</td>\n    </tr>\n    <tr>\n      <th>2020-03-05</th>\n      <td>Brazil</td>\n      <td>2010</td>\n      <td>3655</td>\n      <td>5.0</td>\n      <td>8.328785</td>\n      <td>7.740000</td>\n      <td>32.504225</td>\n      <td>10</td>\n    </tr>\n    <tr>\n      <th>...</th>\n      <td>...</td>\n      <td>...</td>\n      <td>...</td>\n      <td>...</td>\n      <td>...</td>\n      <td>...</td>\n      <td>...</td>\n      <td>...</td>\n    </tr>\n    <tr>\n      <th>2020-07-09</th>\n      <td>EU</td>\n      <td>2016</td>\n      <td>-108255</td>\n      <td>0.2</td>\n      <td>1.130620</td>\n      <td>9.150000</td>\n      <td>2.100000</td>\n      <td>10</td>\n    </tr>\n    <tr>\n      <th>2020-07-10</th>\n      <td>EU</td>\n      <td>2017</td>\n      <td>-99874</td>\n      <td>1.6</td>\n      <td>1.130620</td>\n      <td>8.158334</td>\n      <td>2.800000</td>\n      <td>10</td>\n    </tr>\n    <tr>\n      <th>2020-07-11</th>\n      <td>EU</td>\n      <td>2018</td>\n      <td>-111992</td>\n      <td>1.8</td>\n      <td>1.130620</td>\n      <td>7.283333</td>\n      <td>2.100000</td>\n      <td>10</td>\n    </tr>\n    <tr>\n      <th>2020-07-12</th>\n      <td>EU</td>\n      <td>2019</td>\n      <td>-113119</td>\n      <td>1.4</td>\n      <td>1.130620</td>\n      <td>6.716667</td>\n      <td>1.600000</td>\n      <td>10</td>\n    </tr>\n    <tr>\n      <th>2020-07-13</th>\n      <td>EU</td>\n      <td>2020</td>\n      <td>-72205</td>\n      <td>0.7</td>\n      <td>0.913340</td>\n      <td>7.150000</td>\n      <td>-6.100000</td>\n      <td>10</td>\n    </tr>\n  </tbody>\n</table>\n<p>135 rows × 8 columns</p>\n</div>"
     },
     "metadata": {},
     "execution_count": 165
    }
   ],
   "source": [
    "df"
   ]
  },
  {
   "cell_type": "code",
   "execution_count": 171,
   "metadata": {},
   "outputs": [
    {
     "output_type": "execute_result",
     "data": {
      "text/plain": [
       "2020-03-01    4.2\n",
       "2020-03-02    3.6\n",
       "2020-03-03    5.7\n",
       "2020-03-04    4.9\n",
       "2020-03-05    5.0\n",
       "             ... \n",
       "2020-07-09    0.2\n",
       "2020-07-10    1.6\n",
       "2020-07-11    1.8\n",
       "2020-07-12    1.4\n",
       "2020-07-13    0.7\n",
       "Freq: D, Name: inflation, Length: 135, dtype: float64"
      ]
     },
     "metadata": {},
     "execution_count": 171
    }
   ],
   "source": [
    "df_test = df['inflation']\n",
    "df_test"
   ]
  },
  {
   "cell_type": "code",
   "execution_count": 170,
   "metadata": {},
   "outputs": [
    {
     "output_type": "error",
     "ename": "AttributeError",
     "evalue": "'float' object has no attribute 'max'",
     "traceback": [
      "\u001b[1;31m---------------------------------------------------------------------------\u001b[0m",
      "\u001b[1;31mAttributeError\u001b[0m                            Traceback (most recent call last)",
      "\u001b[1;32m<ipython-input-170-915c74eac5e3>\u001b[0m in \u001b[0;36m<module>\u001b[1;34m\u001b[0m\n\u001b[1;32m----> 1\u001b[1;33m \u001b[0mdf_test\u001b[0m\u001b[1;33m.\u001b[0m\u001b[0mapply\u001b[0m\u001b[1;33m(\u001b[0m\u001b[1;32mlambda\u001b[0m \u001b[0mx\u001b[0m\u001b[1;33m:\u001b[0m\u001b[0mx\u001b[0m\u001b[1;33m.\u001b[0m\u001b[0mmax\u001b[0m\u001b[1;33m(\u001b[0m\u001b[1;33m)\u001b[0m\u001b[1;33m-\u001b[0m\u001b[0mx\u001b[0m\u001b[1;33m.\u001b[0m\u001b[0mmin\u001b[0m\u001b[1;33m(\u001b[0m\u001b[1;33m)\u001b[0m\u001b[1;33m)\u001b[0m\u001b[1;33m\u001b[0m\u001b[1;33m\u001b[0m\u001b[0m\n\u001b[0m",
      "\u001b[1;32m~\\Envs\\crolling\\lib\\site-packages\\pandas\\core\\series.py\u001b[0m in \u001b[0;36mapply\u001b[1;34m(self, func, convert_dtype, args, **kwds)\u001b[0m\n\u001b[0;32m   4136\u001b[0m             \u001b[1;32melse\u001b[0m\u001b[1;33m:\u001b[0m\u001b[1;33m\u001b[0m\u001b[1;33m\u001b[0m\u001b[0m\n\u001b[0;32m   4137\u001b[0m                 \u001b[0mvalues\u001b[0m \u001b[1;33m=\u001b[0m \u001b[0mself\u001b[0m\u001b[1;33m.\u001b[0m\u001b[0mastype\u001b[0m\u001b[1;33m(\u001b[0m\u001b[0mobject\u001b[0m\u001b[1;33m)\u001b[0m\u001b[1;33m.\u001b[0m\u001b[0m_values\u001b[0m\u001b[1;33m\u001b[0m\u001b[1;33m\u001b[0m\u001b[0m\n\u001b[1;32m-> 4138\u001b[1;33m                 \u001b[0mmapped\u001b[0m \u001b[1;33m=\u001b[0m \u001b[0mlib\u001b[0m\u001b[1;33m.\u001b[0m\u001b[0mmap_infer\u001b[0m\u001b[1;33m(\u001b[0m\u001b[0mvalues\u001b[0m\u001b[1;33m,\u001b[0m \u001b[0mf\u001b[0m\u001b[1;33m,\u001b[0m \u001b[0mconvert\u001b[0m\u001b[1;33m=\u001b[0m\u001b[0mconvert_dtype\u001b[0m\u001b[1;33m)\u001b[0m\u001b[1;33m\u001b[0m\u001b[1;33m\u001b[0m\u001b[0m\n\u001b[0m\u001b[0;32m   4139\u001b[0m \u001b[1;33m\u001b[0m\u001b[0m\n\u001b[0;32m   4140\u001b[0m         \u001b[1;32mif\u001b[0m \u001b[0mlen\u001b[0m\u001b[1;33m(\u001b[0m\u001b[0mmapped\u001b[0m\u001b[1;33m)\u001b[0m \u001b[1;32mand\u001b[0m \u001b[0misinstance\u001b[0m\u001b[1;33m(\u001b[0m\u001b[0mmapped\u001b[0m\u001b[1;33m[\u001b[0m\u001b[1;36m0\u001b[0m\u001b[1;33m]\u001b[0m\u001b[1;33m,\u001b[0m \u001b[0mSeries\u001b[0m\u001b[1;33m)\u001b[0m\u001b[1;33m:\u001b[0m\u001b[1;33m\u001b[0m\u001b[1;33m\u001b[0m\u001b[0m\n",
      "\u001b[1;32mpandas\\_libs\\lib.pyx\u001b[0m in \u001b[0;36mpandas._libs.lib.map_infer\u001b[1;34m()\u001b[0m\n",
      "\u001b[1;32m<ipython-input-170-915c74eac5e3>\u001b[0m in \u001b[0;36m<lambda>\u001b[1;34m(x)\u001b[0m\n\u001b[1;32m----> 1\u001b[1;33m \u001b[0mdf_test\u001b[0m\u001b[1;33m.\u001b[0m\u001b[0mapply\u001b[0m\u001b[1;33m(\u001b[0m\u001b[1;32mlambda\u001b[0m \u001b[0mx\u001b[0m\u001b[1;33m:\u001b[0m\u001b[0mx\u001b[0m\u001b[1;33m.\u001b[0m\u001b[0mmax\u001b[0m\u001b[1;33m(\u001b[0m\u001b[1;33m)\u001b[0m\u001b[1;33m-\u001b[0m\u001b[0mx\u001b[0m\u001b[1;33m.\u001b[0m\u001b[0mmin\u001b[0m\u001b[1;33m(\u001b[0m\u001b[1;33m)\u001b[0m\u001b[1;33m)\u001b[0m\u001b[1;33m\u001b[0m\u001b[1;33m\u001b[0m\u001b[0m\n\u001b[0m",
      "\u001b[1;31mAttributeError\u001b[0m: 'float' object has no attribute 'max'"
     ]
    }
   ],
   "source": [
    "df_test.apply(lambda x:x.max()-x.min())"
   ]
  },
  {
   "cell_type": "code",
   "execution_count": 174,
   "metadata": {},
   "outputs": [
    {
     "output_type": "execute_result",
     "data": {
      "text/plain": [
       "2020-03-01    brazil\n",
       "2020-03-02    brazil\n",
       "2020-03-03    brazil\n",
       "2020-03-04    brazil\n",
       "2020-03-05    brazil\n",
       "               ...  \n",
       "2020-07-09        eu\n",
       "2020-07-10        eu\n",
       "2020-07-11        eu\n",
       "2020-07-12        eu\n",
       "2020-07-13        eu\n",
       "Freq: D, Name: country, Length: 135, dtype: object"
      ]
     },
     "metadata": {},
     "execution_count": 174
    }
   ],
   "source": [
    "df['country'].str.lower()"
   ]
  },
  {
   "cell_type": "code",
   "execution_count": 177,
   "metadata": {},
   "outputs": [
    {
     "output_type": "execute_result",
     "data": {
      "text/plain": [
       "2020-03-01     4.2\n",
       "2020-03-02     3.6\n",
       "2020-03-03     5.7\n",
       "2020-03-04     4.9\n",
       "2020-03-05     5.0\n",
       "              ... \n",
       "2020-07-09    2016\n",
       "2020-07-10    2017\n",
       "2020-07-11    2018\n",
       "2020-07-12    2019\n",
       "2020-07-13    2020\n",
       "Length: 405, dtype: object"
      ]
     },
     "metadata": {},
     "execution_count": 177
    }
   ],
   "source": [
    "df_inf = df['inflation']\n",
    "df_con = df['country']\n",
    "df_year = df['year']\n",
    "\n",
    "pd.concat([df_inf,df_con, df_year])"
   ]
  },
  {
   "cell_type": "code",
   "execution_count": 178,
   "metadata": {},
   "outputs": [],
   "source": [
    "left = pd.DataFrame({\"key\": [\"foo\", \"foo\"], \"lval\": [1, 2]})\n",
    "\n",
    "right = pd.DataFrame({\"key\": [\"foo\", \"foo\"], \"rval\": [4, 5]})"
   ]
  },
  {
   "cell_type": "code",
   "execution_count": 179,
   "metadata": {},
   "outputs": [
    {
     "output_type": "execute_result",
     "data": {
      "text/plain": [
       "   key  lval\n",
       "0  foo     1\n",
       "1  foo     2"
      ],
      "text/html": "<div>\n<style scoped>\n    .dataframe tbody tr th:only-of-type {\n        vertical-align: middle;\n    }\n\n    .dataframe tbody tr th {\n        vertical-align: top;\n    }\n\n    .dataframe thead th {\n        text-align: right;\n    }\n</style>\n<table border=\"1\" class=\"dataframe\">\n  <thead>\n    <tr style=\"text-align: right;\">\n      <th></th>\n      <th>key</th>\n      <th>lval</th>\n    </tr>\n  </thead>\n  <tbody>\n    <tr>\n      <th>0</th>\n      <td>foo</td>\n      <td>1</td>\n    </tr>\n    <tr>\n      <th>1</th>\n      <td>foo</td>\n      <td>2</td>\n    </tr>\n  </tbody>\n</table>\n</div>"
     },
     "metadata": {},
     "execution_count": 179
    }
   ],
   "source": [
    "left"
   ]
  },
  {
   "cell_type": "code",
   "execution_count": 180,
   "metadata": {},
   "outputs": [
    {
     "output_type": "execute_result",
     "data": {
      "text/plain": [
       "   key  rval\n",
       "0  foo     4\n",
       "1  foo     5"
      ],
      "text/html": "<div>\n<style scoped>\n    .dataframe tbody tr th:only-of-type {\n        vertical-align: middle;\n    }\n\n    .dataframe tbody tr th {\n        vertical-align: top;\n    }\n\n    .dataframe thead th {\n        text-align: right;\n    }\n</style>\n<table border=\"1\" class=\"dataframe\">\n  <thead>\n    <tr style=\"text-align: right;\">\n      <th></th>\n      <th>key</th>\n      <th>rval</th>\n    </tr>\n  </thead>\n  <tbody>\n    <tr>\n      <th>0</th>\n      <td>foo</td>\n      <td>4</td>\n    </tr>\n    <tr>\n      <th>1</th>\n      <td>foo</td>\n      <td>5</td>\n    </tr>\n  </tbody>\n</table>\n</div>"
     },
     "metadata": {},
     "execution_count": 180
    }
   ],
   "source": [
    "right"
   ]
  },
  {
   "cell_type": "code",
   "execution_count": 181,
   "metadata": {},
   "outputs": [
    {
     "output_type": "execute_result",
     "data": {
      "text/plain": [
       "   key  lval  rval\n",
       "0  foo     1     4\n",
       "1  foo     1     5\n",
       "2  foo     2     4\n",
       "3  foo     2     5"
      ],
      "text/html": "<div>\n<style scoped>\n    .dataframe tbody tr th:only-of-type {\n        vertical-align: middle;\n    }\n\n    .dataframe tbody tr th {\n        vertical-align: top;\n    }\n\n    .dataframe thead th {\n        text-align: right;\n    }\n</style>\n<table border=\"1\" class=\"dataframe\">\n  <thead>\n    <tr style=\"text-align: right;\">\n      <th></th>\n      <th>key</th>\n      <th>lval</th>\n      <th>rval</th>\n    </tr>\n  </thead>\n  <tbody>\n    <tr>\n      <th>0</th>\n      <td>foo</td>\n      <td>1</td>\n      <td>4</td>\n    </tr>\n    <tr>\n      <th>1</th>\n      <td>foo</td>\n      <td>1</td>\n      <td>5</td>\n    </tr>\n    <tr>\n      <th>2</th>\n      <td>foo</td>\n      <td>2</td>\n      <td>4</td>\n    </tr>\n    <tr>\n      <th>3</th>\n      <td>foo</td>\n      <td>2</td>\n      <td>5</td>\n    </tr>\n  </tbody>\n</table>\n</div>"
     },
     "metadata": {},
     "execution_count": 181
    }
   ],
   "source": [
    "pd.merge(left, right, on='key')"
   ]
  },
  {
   "cell_type": "code",
   "execution_count": 182,
   "metadata": {},
   "outputs": [],
   "source": [
    "left = pd.DataFrame({\"key\": [\"foo\", \"bar\"], \"lval\": [1, 2]})\n",
    "\n",
    "right = pd.DataFrame({\"key\": [\"bar\", \"foo\"], \"rval\": [4, 5]})"
   ]
  },
  {
   "cell_type": "code",
   "execution_count": 183,
   "metadata": {},
   "outputs": [
    {
     "output_type": "execute_result",
     "data": {
      "text/plain": [
       "   key  lval  rval\n",
       "0  foo     1     5\n",
       "1  bar     2     4"
      ],
      "text/html": "<div>\n<style scoped>\n    .dataframe tbody tr th:only-of-type {\n        vertical-align: middle;\n    }\n\n    .dataframe tbody tr th {\n        vertical-align: top;\n    }\n\n    .dataframe thead th {\n        text-align: right;\n    }\n</style>\n<table border=\"1\" class=\"dataframe\">\n  <thead>\n    <tr style=\"text-align: right;\">\n      <th></th>\n      <th>key</th>\n      <th>lval</th>\n      <th>rval</th>\n    </tr>\n  </thead>\n  <tbody>\n    <tr>\n      <th>0</th>\n      <td>foo</td>\n      <td>1</td>\n      <td>5</td>\n    </tr>\n    <tr>\n      <th>1</th>\n      <td>bar</td>\n      <td>2</td>\n      <td>4</td>\n    </tr>\n  </tbody>\n</table>\n</div>"
     },
     "metadata": {},
     "execution_count": 183
    }
   ],
   "source": [
    "pd.merge(left,right, on='key')"
   ]
  },
  {
   "cell_type": "code",
   "execution_count": 188,
   "metadata": {},
   "outputs": [
    {
     "output_type": "execute_result",
     "data": {
      "text/plain": [
       "country  year                   \n",
       "Brazil   2006  CA                   2473.000000\n",
       "               inflation               4.200000\n",
       "               education               9.912729\n",
       "               unemployment rate       8.640000\n",
       "               GDP growth rate        24.226425\n",
       "                                       ...     \n",
       "USA      2020  inflation               1.200000\n",
       "               education               0.204699\n",
       "               unemployment rate       8.091666\n",
       "               GDP growth rate        -2.317277\n",
       "               New                    10.000000\n",
       "Length: 810, dtype: float64"
      ]
     },
     "metadata": {},
     "execution_count": 188
    }
   ],
   "source": [
    "df.groupby(['country','year']).sum().stack()"
   ]
  },
  {
   "cell_type": "code",
   "execution_count": 192,
   "metadata": {},
   "outputs": [
    {
     "output_type": "execute_result",
     "data": {
      "text/plain": [
       "           country  year       CA inflation education unemployment rate  \\\n",
       "2020-03-01  Brazil  2006     2473       4.2  9.912729              8.64   \n",
       "2020-03-02  Brazil  2007     2451       3.6  9.912729              8.33   \n",
       "2020-03-03  Brazil  2008     3441       5.7  9.912729              7.34   \n",
       "2020-03-04  Brazil  2009     2917       4.9  9.912729              8.52   \n",
       "2020-03-05  Brazil  2010     3655       5.0  8.328785              7.74   \n",
       "...            ...   ...      ...       ...       ...               ...   \n",
       "2020-07-09      EU  2016  -108255       0.2   1.13062              9.15   \n",
       "2020-07-10      EU  2017   -99874       1.6   1.13062          8.158334   \n",
       "2020-07-11      EU  2018  -111992       1.8   1.13062          7.283333   \n",
       "2020-07-12      EU  2019  -113119       1.4   1.13062          6.716667   \n",
       "2020-07-13      EU  2020   -72205       0.7   0.91334              7.15   \n",
       "\n",
       "           GDP growth rate New  \n",
       "2020-03-01       24.226425  10  \n",
       "2020-03-02       26.131594  10  \n",
       "2020-03-03       21.383119  10  \n",
       "2020-03-04       -1.698571  10  \n",
       "2020-03-05       32.504225  10  \n",
       "...                    ...  ..  \n",
       "2020-07-09             2.1  10  \n",
       "2020-07-10             2.8  10  \n",
       "2020-07-11             2.1  10  \n",
       "2020-07-12             1.6  10  \n",
       "2020-07-13            -6.1  10  \n",
       "\n",
       "[135 rows x 8 columns]"
      ],
      "text/html": "<div>\n<style scoped>\n    .dataframe tbody tr th:only-of-type {\n        vertical-align: middle;\n    }\n\n    .dataframe tbody tr th {\n        vertical-align: top;\n    }\n\n    .dataframe thead th {\n        text-align: right;\n    }\n</style>\n<table border=\"1\" class=\"dataframe\">\n  <thead>\n    <tr style=\"text-align: right;\">\n      <th></th>\n      <th>country</th>\n      <th>year</th>\n      <th>CA</th>\n      <th>inflation</th>\n      <th>education</th>\n      <th>unemployment rate</th>\n      <th>GDP growth rate</th>\n      <th>New</th>\n    </tr>\n  </thead>\n  <tbody>\n    <tr>\n      <th>2020-03-01</th>\n      <td>Brazil</td>\n      <td>2006</td>\n      <td>2473</td>\n      <td>4.2</td>\n      <td>9.912729</td>\n      <td>8.64</td>\n      <td>24.226425</td>\n      <td>10</td>\n    </tr>\n    <tr>\n      <th>2020-03-02</th>\n      <td>Brazil</td>\n      <td>2007</td>\n      <td>2451</td>\n      <td>3.6</td>\n      <td>9.912729</td>\n      <td>8.33</td>\n      <td>26.131594</td>\n      <td>10</td>\n    </tr>\n    <tr>\n      <th>2020-03-03</th>\n      <td>Brazil</td>\n      <td>2008</td>\n      <td>3441</td>\n      <td>5.7</td>\n      <td>9.912729</td>\n      <td>7.34</td>\n      <td>21.383119</td>\n      <td>10</td>\n    </tr>\n    <tr>\n      <th>2020-03-04</th>\n      <td>Brazil</td>\n      <td>2009</td>\n      <td>2917</td>\n      <td>4.9</td>\n      <td>9.912729</td>\n      <td>8.52</td>\n      <td>-1.698571</td>\n      <td>10</td>\n    </tr>\n    <tr>\n      <th>2020-03-05</th>\n      <td>Brazil</td>\n      <td>2010</td>\n      <td>3655</td>\n      <td>5.0</td>\n      <td>8.328785</td>\n      <td>7.74</td>\n      <td>32.504225</td>\n      <td>10</td>\n    </tr>\n    <tr>\n      <th>...</th>\n      <td>...</td>\n      <td>...</td>\n      <td>...</td>\n      <td>...</td>\n      <td>...</td>\n      <td>...</td>\n      <td>...</td>\n      <td>...</td>\n    </tr>\n    <tr>\n      <th>2020-07-09</th>\n      <td>EU</td>\n      <td>2016</td>\n      <td>-108255</td>\n      <td>0.2</td>\n      <td>1.13062</td>\n      <td>9.15</td>\n      <td>2.1</td>\n      <td>10</td>\n    </tr>\n    <tr>\n      <th>2020-07-10</th>\n      <td>EU</td>\n      <td>2017</td>\n      <td>-99874</td>\n      <td>1.6</td>\n      <td>1.13062</td>\n      <td>8.158334</td>\n      <td>2.8</td>\n      <td>10</td>\n    </tr>\n    <tr>\n      <th>2020-07-11</th>\n      <td>EU</td>\n      <td>2018</td>\n      <td>-111992</td>\n      <td>1.8</td>\n      <td>1.13062</td>\n      <td>7.283333</td>\n      <td>2.1</td>\n      <td>10</td>\n    </tr>\n    <tr>\n      <th>2020-07-12</th>\n      <td>EU</td>\n      <td>2019</td>\n      <td>-113119</td>\n      <td>1.4</td>\n      <td>1.13062</td>\n      <td>6.716667</td>\n      <td>1.6</td>\n      <td>10</td>\n    </tr>\n    <tr>\n      <th>2020-07-13</th>\n      <td>EU</td>\n      <td>2020</td>\n      <td>-72205</td>\n      <td>0.7</td>\n      <td>0.91334</td>\n      <td>7.15</td>\n      <td>-6.1</td>\n      <td>10</td>\n    </tr>\n  </tbody>\n</table>\n<p>135 rows × 8 columns</p>\n</div>"
     },
     "metadata": {},
     "execution_count": 192
    }
   ],
   "source": [
    "df.stack().unstack(1)"
   ]
  },
  {
   "cell_type": "code",
   "execution_count": 190,
   "metadata": {},
   "outputs": [
    {
     "output_type": "execute_result",
     "data": {
      "text/plain": [
       "           country  year      CA  inflation  education  unemployment rate  \\\n",
       "2020-03-01  Brazil  2006    2473        4.2   9.912729           8.640000   \n",
       "2020-03-02  Brazil  2007    2451        3.6   9.912729           8.330000   \n",
       "2020-03-03  Brazil  2008    3441        5.7   9.912729           7.340000   \n",
       "2020-03-04  Brazil  2009    2917        4.9   9.912729           8.520000   \n",
       "2020-03-05  Brazil  2010    3655        5.0   8.328785           7.740000   \n",
       "...            ...   ...     ...        ...        ...                ...   \n",
       "2020-07-09      EU  2016 -108255        0.2   1.130620           9.150000   \n",
       "2020-07-10      EU  2017  -99874        1.6   1.130620           8.158334   \n",
       "2020-07-11      EU  2018 -111992        1.8   1.130620           7.283333   \n",
       "2020-07-12      EU  2019 -113119        1.4   1.130620           6.716667   \n",
       "2020-07-13      EU  2020  -72205        0.7   0.913340           7.150000   \n",
       "\n",
       "            GDP growth rate  New  \n",
       "2020-03-01        24.226425   10  \n",
       "2020-03-02        26.131594   10  \n",
       "2020-03-03        21.383119   10  \n",
       "2020-03-04        -1.698571   10  \n",
       "2020-03-05        32.504225   10  \n",
       "...                     ...  ...  \n",
       "2020-07-09         2.100000   10  \n",
       "2020-07-10         2.800000   10  \n",
       "2020-07-11         2.100000   10  \n",
       "2020-07-12         1.600000   10  \n",
       "2020-07-13        -6.100000   10  \n",
       "\n",
       "[135 rows x 8 columns]"
      ],
      "text/html": "<div>\n<style scoped>\n    .dataframe tbody tr th:only-of-type {\n        vertical-align: middle;\n    }\n\n    .dataframe tbody tr th {\n        vertical-align: top;\n    }\n\n    .dataframe thead th {\n        text-align: right;\n    }\n</style>\n<table border=\"1\" class=\"dataframe\">\n  <thead>\n    <tr style=\"text-align: right;\">\n      <th></th>\n      <th>country</th>\n      <th>year</th>\n      <th>CA</th>\n      <th>inflation</th>\n      <th>education</th>\n      <th>unemployment rate</th>\n      <th>GDP growth rate</th>\n      <th>New</th>\n    </tr>\n  </thead>\n  <tbody>\n    <tr>\n      <th>2020-03-01</th>\n      <td>Brazil</td>\n      <td>2006</td>\n      <td>2473</td>\n      <td>4.2</td>\n      <td>9.912729</td>\n      <td>8.640000</td>\n      <td>24.226425</td>\n      <td>10</td>\n    </tr>\n    <tr>\n      <th>2020-03-02</th>\n      <td>Brazil</td>\n      <td>2007</td>\n      <td>2451</td>\n      <td>3.6</td>\n      <td>9.912729</td>\n      <td>8.330000</td>\n      <td>26.131594</td>\n      <td>10</td>\n    </tr>\n    <tr>\n      <th>2020-03-03</th>\n      <td>Brazil</td>\n      <td>2008</td>\n      <td>3441</td>\n      <td>5.7</td>\n      <td>9.912729</td>\n      <td>7.340000</td>\n      <td>21.383119</td>\n      <td>10</td>\n    </tr>\n    <tr>\n      <th>2020-03-04</th>\n      <td>Brazil</td>\n      <td>2009</td>\n      <td>2917</td>\n      <td>4.9</td>\n      <td>9.912729</td>\n      <td>8.520000</td>\n      <td>-1.698571</td>\n      <td>10</td>\n    </tr>\n    <tr>\n      <th>2020-03-05</th>\n      <td>Brazil</td>\n      <td>2010</td>\n      <td>3655</td>\n      <td>5.0</td>\n      <td>8.328785</td>\n      <td>7.740000</td>\n      <td>32.504225</td>\n      <td>10</td>\n    </tr>\n    <tr>\n      <th>...</th>\n      <td>...</td>\n      <td>...</td>\n      <td>...</td>\n      <td>...</td>\n      <td>...</td>\n      <td>...</td>\n      <td>...</td>\n      <td>...</td>\n    </tr>\n    <tr>\n      <th>2020-07-09</th>\n      <td>EU</td>\n      <td>2016</td>\n      <td>-108255</td>\n      <td>0.2</td>\n      <td>1.130620</td>\n      <td>9.150000</td>\n      <td>2.100000</td>\n      <td>10</td>\n    </tr>\n    <tr>\n      <th>2020-07-10</th>\n      <td>EU</td>\n      <td>2017</td>\n      <td>-99874</td>\n      <td>1.6</td>\n      <td>1.130620</td>\n      <td>8.158334</td>\n      <td>2.800000</td>\n      <td>10</td>\n    </tr>\n    <tr>\n      <th>2020-07-11</th>\n      <td>EU</td>\n      <td>2018</td>\n      <td>-111992</td>\n      <td>1.8</td>\n      <td>1.130620</td>\n      <td>7.283333</td>\n      <td>2.100000</td>\n      <td>10</td>\n    </tr>\n    <tr>\n      <th>2020-07-12</th>\n      <td>EU</td>\n      <td>2019</td>\n      <td>-113119</td>\n      <td>1.4</td>\n      <td>1.130620</td>\n      <td>6.716667</td>\n      <td>1.600000</td>\n      <td>10</td>\n    </tr>\n    <tr>\n      <th>2020-07-13</th>\n      <td>EU</td>\n      <td>2020</td>\n      <td>-72205</td>\n      <td>0.7</td>\n      <td>0.913340</td>\n      <td>7.150000</td>\n      <td>-6.100000</td>\n      <td>10</td>\n    </tr>\n  </tbody>\n</table>\n<p>135 rows × 8 columns</p>\n</div>"
     },
     "metadata": {},
     "execution_count": 190
    }
   ],
   "source": [
    "df"
   ]
  },
  {
   "cell_type": "code",
   "execution_count": 196,
   "metadata": {},
   "outputs": [
    {
     "output_type": "error",
     "ename": "AttributeError",
     "evalue": "'Series' object has no attribute 'categories'",
     "traceback": [
      "\u001b[1;31m---------------------------------------------------------------------------\u001b[0m",
      "\u001b[1;31mAttributeError\u001b[0m                            Traceback (most recent call last)",
      "\u001b[1;32m<ipython-input-196-c3de0fbf2d1b>\u001b[0m in \u001b[0;36m<module>\u001b[1;34m\u001b[0m\n\u001b[1;32m----> 1\u001b[1;33m \u001b[0mdf\u001b[0m\u001b[1;33m[\u001b[0m\u001b[1;34m'country'\u001b[0m\u001b[1;33m]\u001b[0m\u001b[1;33m.\u001b[0m\u001b[0mcategories\u001b[0m\u001b[1;33m\u001b[0m\u001b[1;33m\u001b[0m\u001b[0m\n\u001b[0m",
      "\u001b[1;32m~\\Envs\\crolling\\lib\\site-packages\\pandas\\core\\generic.py\u001b[0m in \u001b[0;36m__getattr__\u001b[1;34m(self, name)\u001b[0m\n\u001b[0;32m   5463\u001b[0m             \u001b[1;32mif\u001b[0m \u001b[0mself\u001b[0m\u001b[1;33m.\u001b[0m\u001b[0m_info_axis\u001b[0m\u001b[1;33m.\u001b[0m\u001b[0m_can_hold_identifiers_and_holds_name\u001b[0m\u001b[1;33m(\u001b[0m\u001b[0mname\u001b[0m\u001b[1;33m)\u001b[0m\u001b[1;33m:\u001b[0m\u001b[1;33m\u001b[0m\u001b[1;33m\u001b[0m\u001b[0m\n\u001b[0;32m   5464\u001b[0m                 \u001b[1;32mreturn\u001b[0m \u001b[0mself\u001b[0m\u001b[1;33m[\u001b[0m\u001b[0mname\u001b[0m\u001b[1;33m]\u001b[0m\u001b[1;33m\u001b[0m\u001b[1;33m\u001b[0m\u001b[0m\n\u001b[1;32m-> 5465\u001b[1;33m             \u001b[1;32mreturn\u001b[0m \u001b[0mobject\u001b[0m\u001b[1;33m.\u001b[0m\u001b[0m__getattribute__\u001b[0m\u001b[1;33m(\u001b[0m\u001b[0mself\u001b[0m\u001b[1;33m,\u001b[0m \u001b[0mname\u001b[0m\u001b[1;33m)\u001b[0m\u001b[1;33m\u001b[0m\u001b[1;33m\u001b[0m\u001b[0m\n\u001b[0m\u001b[0;32m   5466\u001b[0m \u001b[1;33m\u001b[0m\u001b[0m\n\u001b[0;32m   5467\u001b[0m     \u001b[1;32mdef\u001b[0m \u001b[0m__setattr__\u001b[0m\u001b[1;33m(\u001b[0m\u001b[0mself\u001b[0m\u001b[1;33m,\u001b[0m \u001b[0mname\u001b[0m\u001b[1;33m:\u001b[0m \u001b[0mstr\u001b[0m\u001b[1;33m,\u001b[0m \u001b[0mvalue\u001b[0m\u001b[1;33m)\u001b[0m \u001b[1;33m->\u001b[0m \u001b[1;32mNone\u001b[0m\u001b[1;33m:\u001b[0m\u001b[1;33m\u001b[0m\u001b[1;33m\u001b[0m\u001b[0m\n",
      "\u001b[1;31mAttributeError\u001b[0m: 'Series' object has no attribute 'categories'"
     ]
    }
   ],
   "source": [
    "df['country'].categories"
   ]
  },
  {
   "cell_type": "code",
   "execution_count": null,
   "metadata": {},
   "outputs": [],
   "source": []
  }
 ]
}