{
 "metadata": {
  "language_info": {
   "codemirror_mode": {
    "name": "ipython",
    "version": 3
   },
   "file_extension": ".py",
   "mimetype": "text/x-python",
   "name": "python",
   "nbconvert_exporter": "python",
   "pygments_lexer": "ipython3",
   "version": "3.8.3"
  },
  "orig_nbformat": 2,
  "kernelspec": {
   "name": "python383jvsc74a57bd055190f1d6766997e6fe66a2d967c7e368e4d70591b2d2de457c9046bb29ecf93",
   "display_name": "Python 3.8.3 64-bit ('base': conda)"
  }
 },
 "nbformat": 4,
 "nbformat_minor": 2,
 "cells": [
  {
   "cell_type": "code",
   "execution_count": 5,
   "metadata": {},
   "outputs": [],
   "source": [
    "import pandas as pd\n",
    "# Read csv file\n",
    "\n",
    "data =pd.read_csv(\"./concisedata.csv\")"
   ]
  },
  {
   "cell_type": "code",
   "execution_count": 27,
   "metadata": {},
   "outputs": [
    {
     "output_type": "execute_result",
     "data": {
      "text/plain": [
       "   COMMUNITY WALL STREET PREDICTION\n",
       "0     Defect         NaN     Defect\n",
       "1        NaN      Defect     Defect\n",
       "2        NaN      Defect     Defect\n",
       "3     Defect         NaN     Defect\n",
       "4        NaN   Cooperate  Cooperate\n",
       "..       ...         ...        ...\n",
       "72       NaN      Defect  Cooperate\n",
       "73       NaN      Defect     Defect\n",
       "74    Defect         NaN  Cooperate\n",
       "75    Defect         NaN     Defect\n",
       "76       NaN      Defect     Defect\n",
       "\n",
       "[77 rows x 3 columns]"
      ],
      "text/html": "<div>\n<style scoped>\n    .dataframe tbody tr th:only-of-type {\n        vertical-align: middle;\n    }\n\n    .dataframe tbody tr th {\n        vertical-align: top;\n    }\n\n    .dataframe thead th {\n        text-align: right;\n    }\n</style>\n<table border=\"1\" class=\"dataframe\">\n  <thead>\n    <tr style=\"text-align: right;\">\n      <th></th>\n      <th>COMMUNITY</th>\n      <th>WALL STREET</th>\n      <th>PREDICTION</th>\n    </tr>\n  </thead>\n  <tbody>\n    <tr>\n      <th>0</th>\n      <td>Defect</td>\n      <td>NaN</td>\n      <td>Defect</td>\n    </tr>\n    <tr>\n      <th>1</th>\n      <td>NaN</td>\n      <td>Defect</td>\n      <td>Defect</td>\n    </tr>\n    <tr>\n      <th>2</th>\n      <td>NaN</td>\n      <td>Defect</td>\n      <td>Defect</td>\n    </tr>\n    <tr>\n      <th>3</th>\n      <td>Defect</td>\n      <td>NaN</td>\n      <td>Defect</td>\n    </tr>\n    <tr>\n      <th>4</th>\n      <td>NaN</td>\n      <td>Cooperate</td>\n      <td>Cooperate</td>\n    </tr>\n    <tr>\n      <th>...</th>\n      <td>...</td>\n      <td>...</td>\n      <td>...</td>\n    </tr>\n    <tr>\n      <th>72</th>\n      <td>NaN</td>\n      <td>Defect</td>\n      <td>Cooperate</td>\n    </tr>\n    <tr>\n      <th>73</th>\n      <td>NaN</td>\n      <td>Defect</td>\n      <td>Defect</td>\n    </tr>\n    <tr>\n      <th>74</th>\n      <td>Defect</td>\n      <td>NaN</td>\n      <td>Cooperate</td>\n    </tr>\n    <tr>\n      <th>75</th>\n      <td>Defect</td>\n      <td>NaN</td>\n      <td>Defect</td>\n    </tr>\n    <tr>\n      <th>76</th>\n      <td>NaN</td>\n      <td>Defect</td>\n      <td>Defect</td>\n    </tr>\n  </tbody>\n</table>\n<p>77 rows × 3 columns</p>\n</div>"
     },
     "metadata": {},
     "execution_count": 27
    }
   ],
   "source": [
    "# Change the csv file into Dataframe\n",
    "\n",
    "df = pd.DataFrame(data)\n",
    "df"
   ]
  },
  {
   "cell_type": "code",
   "execution_count": 6,
   "metadata": {},
   "outputs": [
    {
     "output_type": "execute_result",
     "data": {
      "text/plain": [
       "   COMMUNITY WALL STREET PREDICTION\n",
       "0     Defect         NaN     Defect\n",
       "1        NaN      Defect     Defect\n",
       "2        NaN      Defect     Defect\n",
       "3     Defect         NaN     Defect\n",
       "4        NaN   Cooperate  Cooperate\n",
       "..       ...         ...        ...\n",
       "72       NaN      Defect  Cooperate\n",
       "73       NaN      Defect     Defect\n",
       "74    Defect         NaN  Cooperate\n",
       "75    Defect         NaN     Defect\n",
       "76       NaN      Defect     Defect\n",
       "\n",
       "[77 rows x 3 columns]"
      ],
      "text/html": "<div>\n<style scoped>\n    .dataframe tbody tr th:only-of-type {\n        vertical-align: middle;\n    }\n\n    .dataframe tbody tr th {\n        vertical-align: top;\n    }\n\n    .dataframe thead th {\n        text-align: right;\n    }\n</style>\n<table border=\"1\" class=\"dataframe\">\n  <thead>\n    <tr style=\"text-align: right;\">\n      <th></th>\n      <th>COMMUNITY</th>\n      <th>WALL STREET</th>\n      <th>PREDICTION</th>\n    </tr>\n  </thead>\n  <tbody>\n    <tr>\n      <th>0</th>\n      <td>Defect</td>\n      <td>NaN</td>\n      <td>Defect</td>\n    </tr>\n    <tr>\n      <th>1</th>\n      <td>NaN</td>\n      <td>Defect</td>\n      <td>Defect</td>\n    </tr>\n    <tr>\n      <th>2</th>\n      <td>NaN</td>\n      <td>Defect</td>\n      <td>Defect</td>\n    </tr>\n    <tr>\n      <th>3</th>\n      <td>Defect</td>\n      <td>NaN</td>\n      <td>Defect</td>\n    </tr>\n    <tr>\n      <th>4</th>\n      <td>NaN</td>\n      <td>Cooperate</td>\n      <td>Cooperate</td>\n    </tr>\n    <tr>\n      <th>...</th>\n      <td>...</td>\n      <td>...</td>\n      <td>...</td>\n    </tr>\n    <tr>\n      <th>72</th>\n      <td>NaN</td>\n      <td>Defect</td>\n      <td>Cooperate</td>\n    </tr>\n    <tr>\n      <th>73</th>\n      <td>NaN</td>\n      <td>Defect</td>\n      <td>Defect</td>\n    </tr>\n    <tr>\n      <th>74</th>\n      <td>Defect</td>\n      <td>NaN</td>\n      <td>Cooperate</td>\n    </tr>\n    <tr>\n      <th>75</th>\n      <td>Defect</td>\n      <td>NaN</td>\n      <td>Defect</td>\n    </tr>\n    <tr>\n      <th>76</th>\n      <td>NaN</td>\n      <td>Defect</td>\n      <td>Defect</td>\n    </tr>\n  </tbody>\n</table>\n<p>77 rows × 3 columns</p>\n</div>"
     },
     "metadata": {},
     "execution_count": 6
    }
   ],
   "source": [
    "# Show data\n",
    "\n",
    "data"
   ]
  },
  {
   "cell_type": "code",
   "execution_count": 12,
   "metadata": {},
   "outputs": [
    {
     "output_type": "execute_result",
     "data": {
      "text/plain": [
       "0     Defect\n",
       "1        NaN\n",
       "2        NaN\n",
       "3     Defect\n",
       "4        NaN\n",
       "       ...  \n",
       "72       NaN\n",
       "73       NaN\n",
       "74    Defect\n",
       "75    Defect\n",
       "76       NaN\n",
       "Name: COMMUNITY, Length: 77, dtype: object"
      ]
     },
     "metadata": {},
     "execution_count": 12
    }
   ],
   "source": [
    "# Select data from 'COMMUNITY' column only\r\n",
    "\r\n",
    "data['COMMUNITY']"
   ]
  },
  {
   "cell_type": "code",
   "execution_count": 17,
   "metadata": {},
   "outputs": [
    {
     "output_type": "execute_result",
     "data": {
      "text/plain": [
       "0        Defect\n",
       "3        Defect\n",
       "5        Defect\n",
       "13       Defect\n",
       "15       Defect\n",
       "17    Cooperate\n",
       "18    Cooperate\n",
       "21       Defect\n",
       "22       Defect\n",
       "23       Defect\n",
       "24       Defect\n",
       "25       Defect\n",
       "27    Cooperate\n",
       "29       Defect\n",
       "30       Defect\n",
       "32       Defect\n",
       "37    Cooperate\n",
       "40       Defect\n",
       "43       Defect\n",
       "46       Defect\n",
       "50       Defect\n",
       "55    Cooperate\n",
       "56    Cooperate\n",
       "61       Defect\n",
       "62    Cooperate\n",
       "63       Defect\n",
       "64       Defect\n",
       "67    Cooperate\n",
       "68       Defect\n",
       "69    Cooperate\n",
       "74       Defect\n",
       "75       Defect\n",
       "Name: COMMUNITY, dtype: object"
      ]
     },
     "metadata": {},
     "execution_count": 17
    }
   ],
   "source": [
    "# Drop Empty space\n",
    "\n",
    "community_data= data['COMMUNITY'].dropna()\n",
    "community_data\n"
   ]
  },
  {
   "cell_type": "code",
   "execution_count": 20,
   "metadata": {},
   "outputs": [
    {
     "output_type": "execute_result",
     "data": {
      "text/plain": [
       "    Cooperate  Defect\n",
       "0           0       1\n",
       "3           0       1\n",
       "5           0       1\n",
       "13          0       1\n",
       "15          0       1\n",
       "17          1       0\n",
       "18          1       0\n",
       "21          0       1\n",
       "22          0       1\n",
       "23          0       1\n",
       "24          0       1\n",
       "25          0       1\n",
       "27          1       0\n",
       "29          0       1\n",
       "30          0       1\n",
       "32          0       1\n",
       "37          1       0\n",
       "40          0       1\n",
       "43          0       1\n",
       "46          0       1\n",
       "50          0       1\n",
       "55          1       0\n",
       "56          1       0\n",
       "61          0       1\n",
       "62          1       0\n",
       "63          0       1\n",
       "64          0       1\n",
       "67          1       0\n",
       "68          0       1\n",
       "69          1       0\n",
       "74          0       1\n",
       "75          0       1"
      ],
      "text/html": "<div>\n<style scoped>\n    .dataframe tbody tr th:only-of-type {\n        vertical-align: middle;\n    }\n\n    .dataframe tbody tr th {\n        vertical-align: top;\n    }\n\n    .dataframe thead th {\n        text-align: right;\n    }\n</style>\n<table border=\"1\" class=\"dataframe\">\n  <thead>\n    <tr style=\"text-align: right;\">\n      <th></th>\n      <th>Cooperate</th>\n      <th>Defect</th>\n    </tr>\n  </thead>\n  <tbody>\n    <tr>\n      <th>0</th>\n      <td>0</td>\n      <td>1</td>\n    </tr>\n    <tr>\n      <th>3</th>\n      <td>0</td>\n      <td>1</td>\n    </tr>\n    <tr>\n      <th>5</th>\n      <td>0</td>\n      <td>1</td>\n    </tr>\n    <tr>\n      <th>13</th>\n      <td>0</td>\n      <td>1</td>\n    </tr>\n    <tr>\n      <th>15</th>\n      <td>0</td>\n      <td>1</td>\n    </tr>\n    <tr>\n      <th>17</th>\n      <td>1</td>\n      <td>0</td>\n    </tr>\n    <tr>\n      <th>18</th>\n      <td>1</td>\n      <td>0</td>\n    </tr>\n    <tr>\n      <th>21</th>\n      <td>0</td>\n      <td>1</td>\n    </tr>\n    <tr>\n      <th>22</th>\n      <td>0</td>\n      <td>1</td>\n    </tr>\n    <tr>\n      <th>23</th>\n      <td>0</td>\n      <td>1</td>\n    </tr>\n    <tr>\n      <th>24</th>\n      <td>0</td>\n      <td>1</td>\n    </tr>\n    <tr>\n      <th>25</th>\n      <td>0</td>\n      <td>1</td>\n    </tr>\n    <tr>\n      <th>27</th>\n      <td>1</td>\n      <td>0</td>\n    </tr>\n    <tr>\n      <th>29</th>\n      <td>0</td>\n      <td>1</td>\n    </tr>\n    <tr>\n      <th>30</th>\n      <td>0</td>\n      <td>1</td>\n    </tr>\n    <tr>\n      <th>32</th>\n      <td>0</td>\n      <td>1</td>\n    </tr>\n    <tr>\n      <th>37</th>\n      <td>1</td>\n      <td>0</td>\n    </tr>\n    <tr>\n      <th>40</th>\n      <td>0</td>\n      <td>1</td>\n    </tr>\n    <tr>\n      <th>43</th>\n      <td>0</td>\n      <td>1</td>\n    </tr>\n    <tr>\n      <th>46</th>\n      <td>0</td>\n      <td>1</td>\n    </tr>\n    <tr>\n      <th>50</th>\n      <td>0</td>\n      <td>1</td>\n    </tr>\n    <tr>\n      <th>55</th>\n      <td>1</td>\n      <td>0</td>\n    </tr>\n    <tr>\n      <th>56</th>\n      <td>1</td>\n      <td>0</td>\n    </tr>\n    <tr>\n      <th>61</th>\n      <td>0</td>\n      <td>1</td>\n    </tr>\n    <tr>\n      <th>62</th>\n      <td>1</td>\n      <td>0</td>\n    </tr>\n    <tr>\n      <th>63</th>\n      <td>0</td>\n      <td>1</td>\n    </tr>\n    <tr>\n      <th>64</th>\n      <td>0</td>\n      <td>1</td>\n    </tr>\n    <tr>\n      <th>67</th>\n      <td>1</td>\n      <td>0</td>\n    </tr>\n    <tr>\n      <th>68</th>\n      <td>0</td>\n      <td>1</td>\n    </tr>\n    <tr>\n      <th>69</th>\n      <td>1</td>\n      <td>0</td>\n    </tr>\n    <tr>\n      <th>74</th>\n      <td>0</td>\n      <td>1</td>\n    </tr>\n    <tr>\n      <th>75</th>\n      <td>0</td>\n      <td>1</td>\n    </tr>\n  </tbody>\n</table>\n</div>"
     },
     "metadata": {},
     "execution_count": 20
    }
   ],
   "source": [
    "# Change the string variable into Dummy variable\n",
    "\n",
    "dummy_community_data= pd.get_dummies(data['COMMUNITY'].dropna())\n",
    "dummy_community_data"
   ]
  },
  {
   "cell_type": "code",
   "execution_count": 19,
   "metadata": {},
   "outputs": [
    {
     "output_type": "execute_result",
     "data": {
      "text/plain": [
       "1        Defect\n",
       "2        Defect\n",
       "4     Cooperate\n",
       "6     Cooperate\n",
       "7        Defect\n",
       "8     Cooperate\n",
       "9        Defect\n",
       "10       Defect\n",
       "11       Defect\n",
       "12       Defect\n",
       "14       Defect\n",
       "16    Cooperate\n",
       "19       Defect\n",
       "20       Defect\n",
       "26    Cooperate\n",
       "28       Defect\n",
       "31       Defect\n",
       "33       Defect\n",
       "34    Cooperate\n",
       "35       Defect\n",
       "36       Defect\n",
       "38       Defect\n",
       "39       Defect\n",
       "41    Cooperate\n",
       "42       Defect\n",
       "44    Cooperate\n",
       "45    Cooperate\n",
       "47    Cooperate\n",
       "48       Defect\n",
       "49    Cooperate\n",
       "51       Defect\n",
       "52    Cooperate\n",
       "53       Defect\n",
       "54       Defect\n",
       "57       Defect\n",
       "58       Defect\n",
       "59    Cooperate\n",
       "60       Defect\n",
       "65       Defect\n",
       "66    Cooperate\n",
       "70       Defect\n",
       "71    Cooperate\n",
       "72       Defect\n",
       "73       Defect\n",
       "76       Defect\n",
       "Name: WALL STREET, dtype: object"
      ]
     },
     "metadata": {},
     "execution_count": 19
    }
   ],
   "source": [
    "# Collect data from 'WALL STREET' game\n",
    "\n",
    "wallstreet_data= data['WALL STREET'].dropna()\n",
    "wallstreet_data"
   ]
  },
  {
   "cell_type": "code",
   "execution_count": 21,
   "metadata": {},
   "outputs": [
    {
     "output_type": "execute_result",
     "data": {
      "text/plain": [
       "    Cooperate  Defect\n",
       "1           0       1\n",
       "2           0       1\n",
       "4           1       0\n",
       "6           1       0\n",
       "7           0       1\n",
       "8           1       0\n",
       "9           0       1\n",
       "10          0       1\n",
       "11          0       1\n",
       "12          0       1\n",
       "14          0       1\n",
       "16          1       0\n",
       "19          0       1\n",
       "20          0       1\n",
       "26          1       0\n",
       "28          0       1\n",
       "31          0       1\n",
       "33          0       1\n",
       "34          1       0\n",
       "35          0       1\n",
       "36          0       1\n",
       "38          0       1\n",
       "39          0       1\n",
       "41          1       0\n",
       "42          0       1\n",
       "44          1       0\n",
       "45          1       0\n",
       "47          1       0\n",
       "48          0       1\n",
       "49          1       0\n",
       "51          0       1\n",
       "52          1       0\n",
       "53          0       1\n",
       "54          0       1\n",
       "57          0       1\n",
       "58          0       1\n",
       "59          1       0\n",
       "60          0       1\n",
       "65          0       1\n",
       "66          1       0\n",
       "70          0       1\n",
       "71          1       0\n",
       "72          0       1\n",
       "73          0       1\n",
       "76          0       1"
      ],
      "text/html": "<div>\n<style scoped>\n    .dataframe tbody tr th:only-of-type {\n        vertical-align: middle;\n    }\n\n    .dataframe tbody tr th {\n        vertical-align: top;\n    }\n\n    .dataframe thead th {\n        text-align: right;\n    }\n</style>\n<table border=\"1\" class=\"dataframe\">\n  <thead>\n    <tr style=\"text-align: right;\">\n      <th></th>\n      <th>Cooperate</th>\n      <th>Defect</th>\n    </tr>\n  </thead>\n  <tbody>\n    <tr>\n      <th>1</th>\n      <td>0</td>\n      <td>1</td>\n    </tr>\n    <tr>\n      <th>2</th>\n      <td>0</td>\n      <td>1</td>\n    </tr>\n    <tr>\n      <th>4</th>\n      <td>1</td>\n      <td>0</td>\n    </tr>\n    <tr>\n      <th>6</th>\n      <td>1</td>\n      <td>0</td>\n    </tr>\n    <tr>\n      <th>7</th>\n      <td>0</td>\n      <td>1</td>\n    </tr>\n    <tr>\n      <th>8</th>\n      <td>1</td>\n      <td>0</td>\n    </tr>\n    <tr>\n      <th>9</th>\n      <td>0</td>\n      <td>1</td>\n    </tr>\n    <tr>\n      <th>10</th>\n      <td>0</td>\n      <td>1</td>\n    </tr>\n    <tr>\n      <th>11</th>\n      <td>0</td>\n      <td>1</td>\n    </tr>\n    <tr>\n      <th>12</th>\n      <td>0</td>\n      <td>1</td>\n    </tr>\n    <tr>\n      <th>14</th>\n      <td>0</td>\n      <td>1</td>\n    </tr>\n    <tr>\n      <th>16</th>\n      <td>1</td>\n      <td>0</td>\n    </tr>\n    <tr>\n      <th>19</th>\n      <td>0</td>\n      <td>1</td>\n    </tr>\n    <tr>\n      <th>20</th>\n      <td>0</td>\n      <td>1</td>\n    </tr>\n    <tr>\n      <th>26</th>\n      <td>1</td>\n      <td>0</td>\n    </tr>\n    <tr>\n      <th>28</th>\n      <td>0</td>\n      <td>1</td>\n    </tr>\n    <tr>\n      <th>31</th>\n      <td>0</td>\n      <td>1</td>\n    </tr>\n    <tr>\n      <th>33</th>\n      <td>0</td>\n      <td>1</td>\n    </tr>\n    <tr>\n      <th>34</th>\n      <td>1</td>\n      <td>0</td>\n    </tr>\n    <tr>\n      <th>35</th>\n      <td>0</td>\n      <td>1</td>\n    </tr>\n    <tr>\n      <th>36</th>\n      <td>0</td>\n      <td>1</td>\n    </tr>\n    <tr>\n      <th>38</th>\n      <td>0</td>\n      <td>1</td>\n    </tr>\n    <tr>\n      <th>39</th>\n      <td>0</td>\n      <td>1</td>\n    </tr>\n    <tr>\n      <th>41</th>\n      <td>1</td>\n      <td>0</td>\n    </tr>\n    <tr>\n      <th>42</th>\n      <td>0</td>\n      <td>1</td>\n    </tr>\n    <tr>\n      <th>44</th>\n      <td>1</td>\n      <td>0</td>\n    </tr>\n    <tr>\n      <th>45</th>\n      <td>1</td>\n      <td>0</td>\n    </tr>\n    <tr>\n      <th>47</th>\n      <td>1</td>\n      <td>0</td>\n    </tr>\n    <tr>\n      <th>48</th>\n      <td>0</td>\n      <td>1</td>\n    </tr>\n    <tr>\n      <th>49</th>\n      <td>1</td>\n      <td>0</td>\n    </tr>\n    <tr>\n      <th>51</th>\n      <td>0</td>\n      <td>1</td>\n    </tr>\n    <tr>\n      <th>52</th>\n      <td>1</td>\n      <td>0</td>\n    </tr>\n    <tr>\n      <th>53</th>\n      <td>0</td>\n      <td>1</td>\n    </tr>\n    <tr>\n      <th>54</th>\n      <td>0</td>\n      <td>1</td>\n    </tr>\n    <tr>\n      <th>57</th>\n      <td>0</td>\n      <td>1</td>\n    </tr>\n    <tr>\n      <th>58</th>\n      <td>0</td>\n      <td>1</td>\n    </tr>\n    <tr>\n      <th>59</th>\n      <td>1</td>\n      <td>0</td>\n    </tr>\n    <tr>\n      <th>60</th>\n      <td>0</td>\n      <td>1</td>\n    </tr>\n    <tr>\n      <th>65</th>\n      <td>0</td>\n      <td>1</td>\n    </tr>\n    <tr>\n      <th>66</th>\n      <td>1</td>\n      <td>0</td>\n    </tr>\n    <tr>\n      <th>70</th>\n      <td>0</td>\n      <td>1</td>\n    </tr>\n    <tr>\n      <th>71</th>\n      <td>1</td>\n      <td>0</td>\n    </tr>\n    <tr>\n      <th>72</th>\n      <td>0</td>\n      <td>1</td>\n    </tr>\n    <tr>\n      <th>73</th>\n      <td>0</td>\n      <td>1</td>\n    </tr>\n    <tr>\n      <th>76</th>\n      <td>0</td>\n      <td>1</td>\n    </tr>\n  </tbody>\n</table>\n</div>"
     },
     "metadata": {},
     "execution_count": 21
    }
   ],
   "source": [
    "# Change the string variable into Dummy variable\n",
    "\n",
    "dummy_wallstreet_data= pd.get_dummies(data['WALL STREET'].dropna())\n",
    "dummy_wallstreet_data"
   ]
  },
  {
   "cell_type": "code",
   "execution_count": 34,
   "metadata": {},
   "outputs": [
    {
     "output_type": "stream",
     "name": "stdout",
     "text": [
      "0.28125\n0.71875\n"
     ]
    }
   ],
   "source": [
    "# In community game\n",
    "\n",
    "print(dummy_community_data['Cooperate'].mean()) # This is the mean of 'Cooperate' \n",
    "print(dummy_community_data['Defect'].mean())    # This is the mean of 'Defect' "
   ]
  },
  {
   "cell_type": "code",
   "execution_count": 35,
   "metadata": {},
   "outputs": [
    {
     "output_type": "stream",
     "name": "stdout",
     "text": [
      "0.3333333333333333\n0.6666666666666666\n"
     ]
    }
   ],
   "source": [
    "# To check mean at Wallstreet game\n",
    "\n",
    "print(dummy_wallstreet_data['Cooperate'].mean()) # This is the mean of 'Cooperate' \n",
    "print(dummy_wallstreet_data['Defect'].mean())    # This is the mean of 'Defect' "
   ]
  },
  {
   "cell_type": "code",
   "execution_count": 36,
   "metadata": {},
   "outputs": [
    {
     "output_type": "execute_result",
     "data": {
      "text/plain": [
       "Ttest_indResult(statistic=-0.48417838543600356, pvalue=0.6298011255741538)"
      ]
     },
     "metadata": {},
     "execution_count": 36
    }
   ],
   "source": [
    "# To check whether the mean difference between Community game and wall street game is significant\n",
    "# We use t-test\n",
    "# Here we check the significance of 'Cooperate'  value difference between 'Community game' and 'wall street game' \n",
    "\n",
    "import scipy.stats\n",
    "\n",
    "scipy.stats.ttest_ind(dummy_community_data['Cooperate'], dummy_wallstreet_data['Cooperate'], equal_var=False)"
   ]
  },
  {
   "source": [
    "Interpretation: P- value is over 0.05 So there is no significant difference"
   ],
   "cell_type": "markdown",
   "metadata": {}
  },
  {
   "cell_type": "code",
   "execution_count": 37,
   "metadata": {},
   "outputs": [
    {
     "output_type": "execute_result",
     "data": {
      "text/plain": [
       "Ttest_indResult(statistic=0.48417838543600406, pvalue=0.6298011255741535)"
      ]
     },
     "metadata": {},
     "execution_count": 37
    }
   ],
   "source": [
    "# Here we check the significance of 'Defect'  value difference between 'Community game' and 'wall street game' \n",
    "\n",
    "\n",
    "scipy.stats.ttest_ind(dummy_community_data['Defect'], dummy_wallstreet_data['Defect'], equal_var=False)"
   ]
  },
  {
   "cell_type": "code",
   "execution_count": null,
   "metadata": {},
   "outputs": [],
   "source": [
    "Interpretation: P- value is over 0.05 So there is no significant difference"
   ]
  },
  {
   "source": [
    "# From now on we will divide our data based on the personality"
   ],
   "cell_type": "markdown",
   "metadata": {}
  },
  {
   "cell_type": "code",
   "execution_count": 38,
   "metadata": {},
   "outputs": [
    {
     "output_type": "execute_result",
     "data": {
      "text/plain": [
       "   COMMUNITY WALL STREET PREDICTION\n",
       "0     Defect         NaN     Defect\n",
       "1        NaN      Defect     Defect\n",
       "2        NaN      Defect     Defect\n",
       "3     Defect         NaN     Defect\n",
       "4        NaN   Cooperate  Cooperate\n",
       "..       ...         ...        ...\n",
       "72       NaN      Defect  Cooperate\n",
       "73       NaN      Defect     Defect\n",
       "74    Defect         NaN  Cooperate\n",
       "75    Defect         NaN     Defect\n",
       "76       NaN      Defect     Defect\n",
       "\n",
       "[77 rows x 3 columns]"
      ],
      "text/html": "<div>\n<style scoped>\n    .dataframe tbody tr th:only-of-type {\n        vertical-align: middle;\n    }\n\n    .dataframe tbody tr th {\n        vertical-align: top;\n    }\n\n    .dataframe thead th {\n        text-align: right;\n    }\n</style>\n<table border=\"1\" class=\"dataframe\">\n  <thead>\n    <tr style=\"text-align: right;\">\n      <th></th>\n      <th>COMMUNITY</th>\n      <th>WALL STREET</th>\n      <th>PREDICTION</th>\n    </tr>\n  </thead>\n  <tbody>\n    <tr>\n      <th>0</th>\n      <td>Defect</td>\n      <td>NaN</td>\n      <td>Defect</td>\n    </tr>\n    <tr>\n      <th>1</th>\n      <td>NaN</td>\n      <td>Defect</td>\n      <td>Defect</td>\n    </tr>\n    <tr>\n      <th>2</th>\n      <td>NaN</td>\n      <td>Defect</td>\n      <td>Defect</td>\n    </tr>\n    <tr>\n      <th>3</th>\n      <td>Defect</td>\n      <td>NaN</td>\n      <td>Defect</td>\n    </tr>\n    <tr>\n      <th>4</th>\n      <td>NaN</td>\n      <td>Cooperate</td>\n      <td>Cooperate</td>\n    </tr>\n    <tr>\n      <th>...</th>\n      <td>...</td>\n      <td>...</td>\n      <td>...</td>\n    </tr>\n    <tr>\n      <th>72</th>\n      <td>NaN</td>\n      <td>Defect</td>\n      <td>Cooperate</td>\n    </tr>\n    <tr>\n      <th>73</th>\n      <td>NaN</td>\n      <td>Defect</td>\n      <td>Defect</td>\n    </tr>\n    <tr>\n      <th>74</th>\n      <td>Defect</td>\n      <td>NaN</td>\n      <td>Cooperate</td>\n    </tr>\n    <tr>\n      <th>75</th>\n      <td>Defect</td>\n      <td>NaN</td>\n      <td>Defect</td>\n    </tr>\n    <tr>\n      <th>76</th>\n      <td>NaN</td>\n      <td>Defect</td>\n      <td>Defect</td>\n    </tr>\n  </tbody>\n</table>\n<p>77 rows × 3 columns</p>\n</div>"
     },
     "metadata": {},
     "execution_count": 38
    }
   ],
   "source": [
    "\n",
    "\n",
    "data"
   ]
  },
  {
   "cell_type": "code",
   "execution_count": 39,
   "metadata": {},
   "outputs": [],
   "source": [
    "\n",
    "most_likely_to_cooperate = data['PREDICTION'] == 'Cooperate' # Select people that have tendency to cooperate\n",
    "most_likely_to_defect    = data['PREDICTION'] == 'Defect'    # Select people that have tendency to defect\n"
   ]
  },
  {
   "source": [
    "# Here we start with 'COMMUNITY' game"
   ],
   "cell_type": "markdown",
   "metadata": {}
  },
  {
   "cell_type": "code",
   "execution_count": 50,
   "metadata": {},
   "outputs": [],
   "source": [
    "\n",
    "is_community_game = data['COMMUNITY'] # Select data that are from 'COMMUNITY' game\n",
    "\n",
    "# Select data that are from Community game and people who have tendency to cooperate\n",
    "likely_to_cooperate_community= data[most_likely_to_cooperate & is_community_game] "
   ]
  },
  {
   "cell_type": "code",
   "execution_count": 51,
   "metadata": {},
   "outputs": [
    {
     "output_type": "execute_result",
     "data": {
      "text/plain": [
       "    COMMUNITY WALL STREET PREDICTION\n",
       "17  Cooperate         NaN  Cooperate\n",
       "18  Cooperate         NaN  Cooperate\n",
       "27  Cooperate         NaN  Cooperate\n",
       "29     Defect         NaN  Cooperate\n",
       "37  Cooperate         NaN  Cooperate\n",
       "40     Defect         NaN  Cooperate\n",
       "55  Cooperate         NaN  Cooperate\n",
       "56  Cooperate         NaN  Cooperate\n",
       "62  Cooperate         NaN  Cooperate\n",
       "64     Defect         NaN  Cooperate\n",
       "67  Cooperate         NaN  Cooperate\n",
       "74     Defect         NaN  Cooperate"
      ],
      "text/html": "<div>\n<style scoped>\n    .dataframe tbody tr th:only-of-type {\n        vertical-align: middle;\n    }\n\n    .dataframe tbody tr th {\n        vertical-align: top;\n    }\n\n    .dataframe thead th {\n        text-align: right;\n    }\n</style>\n<table border=\"1\" class=\"dataframe\">\n  <thead>\n    <tr style=\"text-align: right;\">\n      <th></th>\n      <th>COMMUNITY</th>\n      <th>WALL STREET</th>\n      <th>PREDICTION</th>\n    </tr>\n  </thead>\n  <tbody>\n    <tr>\n      <th>17</th>\n      <td>Cooperate</td>\n      <td>NaN</td>\n      <td>Cooperate</td>\n    </tr>\n    <tr>\n      <th>18</th>\n      <td>Cooperate</td>\n      <td>NaN</td>\n      <td>Cooperate</td>\n    </tr>\n    <tr>\n      <th>27</th>\n      <td>Cooperate</td>\n      <td>NaN</td>\n      <td>Cooperate</td>\n    </tr>\n    <tr>\n      <th>29</th>\n      <td>Defect</td>\n      <td>NaN</td>\n      <td>Cooperate</td>\n    </tr>\n    <tr>\n      <th>37</th>\n      <td>Cooperate</td>\n      <td>NaN</td>\n      <td>Cooperate</td>\n    </tr>\n    <tr>\n      <th>40</th>\n      <td>Defect</td>\n      <td>NaN</td>\n      <td>Cooperate</td>\n    </tr>\n    <tr>\n      <th>55</th>\n      <td>Cooperate</td>\n      <td>NaN</td>\n      <td>Cooperate</td>\n    </tr>\n    <tr>\n      <th>56</th>\n      <td>Cooperate</td>\n      <td>NaN</td>\n      <td>Cooperate</td>\n    </tr>\n    <tr>\n      <th>62</th>\n      <td>Cooperate</td>\n      <td>NaN</td>\n      <td>Cooperate</td>\n    </tr>\n    <tr>\n      <th>64</th>\n      <td>Defect</td>\n      <td>NaN</td>\n      <td>Cooperate</td>\n    </tr>\n    <tr>\n      <th>67</th>\n      <td>Cooperate</td>\n      <td>NaN</td>\n      <td>Cooperate</td>\n    </tr>\n    <tr>\n      <th>74</th>\n      <td>Defect</td>\n      <td>NaN</td>\n      <td>Cooperate</td>\n    </tr>\n  </tbody>\n</table>\n</div>"
     },
     "metadata": {},
     "execution_count": 51
    }
   ],
   "source": [
    "\n",
    "# Show data that are from Community game with personality cooperate only\n",
    "\n",
    "likely_to_cooperate_community"
   ]
  },
  {
   "cell_type": "code",
   "execution_count": 61,
   "metadata": {},
   "outputs": [
    {
     "output_type": "execute_result",
     "data": {
      "text/plain": [
       "    COMMUNITY WALL STREET PREDICTION\n",
       "0      Defect         NaN     Defect\n",
       "3      Defect         NaN     Defect\n",
       "5      Defect         NaN     Defect\n",
       "13     Defect         NaN     Defect\n",
       "15     Defect         NaN     Defect\n",
       "21     Defect         NaN     Defect\n",
       "22     Defect         NaN     Defect\n",
       "23     Defect         NaN     Defect\n",
       "24     Defect         NaN     Defect\n",
       "25     Defect         NaN     Defect\n",
       "30     Defect         NaN     Defect\n",
       "32     Defect         NaN     Defect\n",
       "43     Defect         NaN     Defect\n",
       "46     Defect         NaN     Defect\n",
       "50     Defect         NaN     Defect\n",
       "61     Defect         NaN     Defect\n",
       "63     Defect         NaN     Defect\n",
       "68     Defect         NaN     Defect\n",
       "69  Cooperate         NaN     Defect\n",
       "75     Defect         NaN     Defect"
      ],
      "text/html": "<div>\n<style scoped>\n    .dataframe tbody tr th:only-of-type {\n        vertical-align: middle;\n    }\n\n    .dataframe tbody tr th {\n        vertical-align: top;\n    }\n\n    .dataframe thead th {\n        text-align: right;\n    }\n</style>\n<table border=\"1\" class=\"dataframe\">\n  <thead>\n    <tr style=\"text-align: right;\">\n      <th></th>\n      <th>COMMUNITY</th>\n      <th>WALL STREET</th>\n      <th>PREDICTION</th>\n    </tr>\n  </thead>\n  <tbody>\n    <tr>\n      <th>0</th>\n      <td>Defect</td>\n      <td>NaN</td>\n      <td>Defect</td>\n    </tr>\n    <tr>\n      <th>3</th>\n      <td>Defect</td>\n      <td>NaN</td>\n      <td>Defect</td>\n    </tr>\n    <tr>\n      <th>5</th>\n      <td>Defect</td>\n      <td>NaN</td>\n      <td>Defect</td>\n    </tr>\n    <tr>\n      <th>13</th>\n      <td>Defect</td>\n      <td>NaN</td>\n      <td>Defect</td>\n    </tr>\n    <tr>\n      <th>15</th>\n      <td>Defect</td>\n      <td>NaN</td>\n      <td>Defect</td>\n    </tr>\n    <tr>\n      <th>21</th>\n      <td>Defect</td>\n      <td>NaN</td>\n      <td>Defect</td>\n    </tr>\n    <tr>\n      <th>22</th>\n      <td>Defect</td>\n      <td>NaN</td>\n      <td>Defect</td>\n    </tr>\n    <tr>\n      <th>23</th>\n      <td>Defect</td>\n      <td>NaN</td>\n      <td>Defect</td>\n    </tr>\n    <tr>\n      <th>24</th>\n      <td>Defect</td>\n      <td>NaN</td>\n      <td>Defect</td>\n    </tr>\n    <tr>\n      <th>25</th>\n      <td>Defect</td>\n      <td>NaN</td>\n      <td>Defect</td>\n    </tr>\n    <tr>\n      <th>30</th>\n      <td>Defect</td>\n      <td>NaN</td>\n      <td>Defect</td>\n    </tr>\n    <tr>\n      <th>32</th>\n      <td>Defect</td>\n      <td>NaN</td>\n      <td>Defect</td>\n    </tr>\n    <tr>\n      <th>43</th>\n      <td>Defect</td>\n      <td>NaN</td>\n      <td>Defect</td>\n    </tr>\n    <tr>\n      <th>46</th>\n      <td>Defect</td>\n      <td>NaN</td>\n      <td>Defect</td>\n    </tr>\n    <tr>\n      <th>50</th>\n      <td>Defect</td>\n      <td>NaN</td>\n      <td>Defect</td>\n    </tr>\n    <tr>\n      <th>61</th>\n      <td>Defect</td>\n      <td>NaN</td>\n      <td>Defect</td>\n    </tr>\n    <tr>\n      <th>63</th>\n      <td>Defect</td>\n      <td>NaN</td>\n      <td>Defect</td>\n    </tr>\n    <tr>\n      <th>68</th>\n      <td>Defect</td>\n      <td>NaN</td>\n      <td>Defect</td>\n    </tr>\n    <tr>\n      <th>69</th>\n      <td>Cooperate</td>\n      <td>NaN</td>\n      <td>Defect</td>\n    </tr>\n    <tr>\n      <th>75</th>\n      <td>Defect</td>\n      <td>NaN</td>\n      <td>Defect</td>\n    </tr>\n  </tbody>\n</table>\n</div>"
     },
     "metadata": {},
     "execution_count": 61
    }
   ],
   "source": [
    "\n",
    "is_community_game = data['COMMUNITY'] # Select data that are from 'COMMUNITY' game\n",
    "\n",
    "# Select data that are from Community game and people who have tendency to 'defect'\n",
    "likely_to_defect_community= data[most_likely_to_defect & is_community_game]  \n",
    "likely_to_defect_community"
   ]
  },
  {
   "cell_type": "code",
   "execution_count": 62,
   "metadata": {},
   "outputs": [],
   "source": [
    "# Change the string variable into Dummy variable\n",
    "\n",
    "dummy_likely_to_cooperate_community = pd.get_dummies(likely_to_cooperate_community['COMMUNITY'])\n",
    "dummy_likely_to_defect_community    = pd.get_dummies(likely_to_defect_community['COMMUNITY']) \n",
    "\n",
    "\n"
   ]
  },
  {
   "cell_type": "code",
   "execution_count": 63,
   "metadata": {},
   "outputs": [
    {
     "output_type": "execute_result",
     "data": {
      "text/plain": [
       "    Cooperate  Defect\n",
       "17          1       0\n",
       "18          1       0\n",
       "27          1       0\n",
       "29          0       1\n",
       "37          1       0\n",
       "40          0       1\n",
       "55          1       0\n",
       "56          1       0\n",
       "62          1       0\n",
       "64          0       1\n",
       "67          1       0\n",
       "74          0       1"
      ],
      "text/html": "<div>\n<style scoped>\n    .dataframe tbody tr th:only-of-type {\n        vertical-align: middle;\n    }\n\n    .dataframe tbody tr th {\n        vertical-align: top;\n    }\n\n    .dataframe thead th {\n        text-align: right;\n    }\n</style>\n<table border=\"1\" class=\"dataframe\">\n  <thead>\n    <tr style=\"text-align: right;\">\n      <th></th>\n      <th>Cooperate</th>\n      <th>Defect</th>\n    </tr>\n  </thead>\n  <tbody>\n    <tr>\n      <th>17</th>\n      <td>1</td>\n      <td>0</td>\n    </tr>\n    <tr>\n      <th>18</th>\n      <td>1</td>\n      <td>0</td>\n    </tr>\n    <tr>\n      <th>27</th>\n      <td>1</td>\n      <td>0</td>\n    </tr>\n    <tr>\n      <th>29</th>\n      <td>0</td>\n      <td>1</td>\n    </tr>\n    <tr>\n      <th>37</th>\n      <td>1</td>\n      <td>0</td>\n    </tr>\n    <tr>\n      <th>40</th>\n      <td>0</td>\n      <td>1</td>\n    </tr>\n    <tr>\n      <th>55</th>\n      <td>1</td>\n      <td>0</td>\n    </tr>\n    <tr>\n      <th>56</th>\n      <td>1</td>\n      <td>0</td>\n    </tr>\n    <tr>\n      <th>62</th>\n      <td>1</td>\n      <td>0</td>\n    </tr>\n    <tr>\n      <th>64</th>\n      <td>0</td>\n      <td>1</td>\n    </tr>\n    <tr>\n      <th>67</th>\n      <td>1</td>\n      <td>0</td>\n    </tr>\n    <tr>\n      <th>74</th>\n      <td>0</td>\n      <td>1</td>\n    </tr>\n  </tbody>\n</table>\n</div>"
     },
     "metadata": {},
     "execution_count": 63
    }
   ],
   "source": [
    "# Show data that changed into dummy variable ( 'Community game','likely to Cooperate')\n",
    "\n",
    "dummy_likely_to_cooperate_community"
   ]
  },
  {
   "cell_type": "code",
   "execution_count": 65,
   "metadata": {},
   "outputs": [
    {
     "output_type": "execute_result",
     "data": {
      "text/plain": [
       "    Cooperate  Defect\n",
       "0           0       1\n",
       "3           0       1\n",
       "5           0       1\n",
       "13          0       1\n",
       "15          0       1\n",
       "21          0       1\n",
       "22          0       1\n",
       "23          0       1\n",
       "24          0       1\n",
       "25          0       1\n",
       "30          0       1\n",
       "32          0       1\n",
       "43          0       1\n",
       "46          0       1\n",
       "50          0       1\n",
       "61          0       1\n",
       "63          0       1\n",
       "68          0       1\n",
       "69          1       0\n",
       "75          0       1"
      ],
      "text/html": "<div>\n<style scoped>\n    .dataframe tbody tr th:only-of-type {\n        vertical-align: middle;\n    }\n\n    .dataframe tbody tr th {\n        vertical-align: top;\n    }\n\n    .dataframe thead th {\n        text-align: right;\n    }\n</style>\n<table border=\"1\" class=\"dataframe\">\n  <thead>\n    <tr style=\"text-align: right;\">\n      <th></th>\n      <th>Cooperate</th>\n      <th>Defect</th>\n    </tr>\n  </thead>\n  <tbody>\n    <tr>\n      <th>0</th>\n      <td>0</td>\n      <td>1</td>\n    </tr>\n    <tr>\n      <th>3</th>\n      <td>0</td>\n      <td>1</td>\n    </tr>\n    <tr>\n      <th>5</th>\n      <td>0</td>\n      <td>1</td>\n    </tr>\n    <tr>\n      <th>13</th>\n      <td>0</td>\n      <td>1</td>\n    </tr>\n    <tr>\n      <th>15</th>\n      <td>0</td>\n      <td>1</td>\n    </tr>\n    <tr>\n      <th>21</th>\n      <td>0</td>\n      <td>1</td>\n    </tr>\n    <tr>\n      <th>22</th>\n      <td>0</td>\n      <td>1</td>\n    </tr>\n    <tr>\n      <th>23</th>\n      <td>0</td>\n      <td>1</td>\n    </tr>\n    <tr>\n      <th>24</th>\n      <td>0</td>\n      <td>1</td>\n    </tr>\n    <tr>\n      <th>25</th>\n      <td>0</td>\n      <td>1</td>\n    </tr>\n    <tr>\n      <th>30</th>\n      <td>0</td>\n      <td>1</td>\n    </tr>\n    <tr>\n      <th>32</th>\n      <td>0</td>\n      <td>1</td>\n    </tr>\n    <tr>\n      <th>43</th>\n      <td>0</td>\n      <td>1</td>\n    </tr>\n    <tr>\n      <th>46</th>\n      <td>0</td>\n      <td>1</td>\n    </tr>\n    <tr>\n      <th>50</th>\n      <td>0</td>\n      <td>1</td>\n    </tr>\n    <tr>\n      <th>61</th>\n      <td>0</td>\n      <td>1</td>\n    </tr>\n    <tr>\n      <th>63</th>\n      <td>0</td>\n      <td>1</td>\n    </tr>\n    <tr>\n      <th>68</th>\n      <td>0</td>\n      <td>1</td>\n    </tr>\n    <tr>\n      <th>69</th>\n      <td>1</td>\n      <td>0</td>\n    </tr>\n    <tr>\n      <th>75</th>\n      <td>0</td>\n      <td>1</td>\n    </tr>\n  </tbody>\n</table>\n</div>"
     },
     "metadata": {},
     "execution_count": 65
    }
   ],
   "source": [
    "# Show data that changed into dummy variable ( 'Community game','likely to Defect')\n",
    "\n",
    "dummy_likely_to_defect_community"
   ]
  },
  {
   "cell_type": "code",
   "execution_count": 68,
   "metadata": {},
   "outputs": [
    {
     "output_type": "stream",
     "name": "stdout",
     "text": [
      "0.6666666666666666\n0.3333333333333333\n"
     ]
    }
   ],
   "source": [
    "# Show the probabilty about what people choose with 'cooperative' personality\n",
    "\n",
    "print(dummy_likely_to_cooperate_community['Cooperate'].mean()) \n",
    "print(dummy_likely_to_cooperate_community['Defect'].mean())\n",
    "\n"
   ]
  },
  {
   "cell_type": "code",
   "execution_count": 69,
   "metadata": {},
   "outputs": [
    {
     "output_type": "stream",
     "name": "stdout",
     "text": [
      "0.05\n0.95\n"
     ]
    }
   ],
   "source": [
    "# Show the probabilty about what people choose with 'defective' personality\n",
    "\n",
    "print(dummy_likely_to_defect_community['Cooperate'].mean())\n",
    "print(dummy_likely_to_defect_community['Defect'].mean())"
   ]
  },
  {
   "source": [
    "# Now we check data from 'Wall street' game"
   ],
   "cell_type": "markdown",
   "metadata": {}
  },
  {
   "cell_type": "code",
   "execution_count": 81,
   "metadata": {},
   "outputs": [],
   "source": [
    "\n",
    "is_wall_street_game = data['WALL STREET'] # Select data that are from 'WALL STREET' game\n",
    "\n",
    "# Select data that are from Community game and people who have tendency to 'defect'\n",
    "\n",
    "likely_to_cooperate_wall_street = data[most_likely_to_cooperate & is_wall_street_game] \n",
    "likely_to_defect_wall_street    = data[most_likely_to_defect & is_wall_street_game] "
   ]
  },
  {
   "cell_type": "code",
   "execution_count": 74,
   "metadata": {},
   "outputs": [
    {
     "output_type": "execute_result",
     "data": {
      "text/plain": [
       "   COMMUNITY WALL STREET PREDICTION\n",
       "4        NaN   Cooperate  Cooperate\n",
       "6        NaN   Cooperate  Cooperate\n",
       "8        NaN   Cooperate  Cooperate\n",
       "16       NaN   Cooperate  Cooperate\n",
       "26       NaN   Cooperate  Cooperate\n",
       "33       NaN      Defect  Cooperate\n",
       "34       NaN   Cooperate  Cooperate\n",
       "41       NaN   Cooperate  Cooperate\n",
       "44       NaN   Cooperate  Cooperate\n",
       "45       NaN   Cooperate  Cooperate\n",
       "47       NaN   Cooperate  Cooperate\n",
       "49       NaN   Cooperate  Cooperate\n",
       "52       NaN   Cooperate  Cooperate\n",
       "59       NaN   Cooperate  Cooperate\n",
       "66       NaN   Cooperate  Cooperate\n",
       "70       NaN      Defect  Cooperate\n",
       "71       NaN   Cooperate  Cooperate\n",
       "72       NaN      Defect  Cooperate"
      ],
      "text/html": "<div>\n<style scoped>\n    .dataframe tbody tr th:only-of-type {\n        vertical-align: middle;\n    }\n\n    .dataframe tbody tr th {\n        vertical-align: top;\n    }\n\n    .dataframe thead th {\n        text-align: right;\n    }\n</style>\n<table border=\"1\" class=\"dataframe\">\n  <thead>\n    <tr style=\"text-align: right;\">\n      <th></th>\n      <th>COMMUNITY</th>\n      <th>WALL STREET</th>\n      <th>PREDICTION</th>\n    </tr>\n  </thead>\n  <tbody>\n    <tr>\n      <th>4</th>\n      <td>NaN</td>\n      <td>Cooperate</td>\n      <td>Cooperate</td>\n    </tr>\n    <tr>\n      <th>6</th>\n      <td>NaN</td>\n      <td>Cooperate</td>\n      <td>Cooperate</td>\n    </tr>\n    <tr>\n      <th>8</th>\n      <td>NaN</td>\n      <td>Cooperate</td>\n      <td>Cooperate</td>\n    </tr>\n    <tr>\n      <th>16</th>\n      <td>NaN</td>\n      <td>Cooperate</td>\n      <td>Cooperate</td>\n    </tr>\n    <tr>\n      <th>26</th>\n      <td>NaN</td>\n      <td>Cooperate</td>\n      <td>Cooperate</td>\n    </tr>\n    <tr>\n      <th>33</th>\n      <td>NaN</td>\n      <td>Defect</td>\n      <td>Cooperate</td>\n    </tr>\n    <tr>\n      <th>34</th>\n      <td>NaN</td>\n      <td>Cooperate</td>\n      <td>Cooperate</td>\n    </tr>\n    <tr>\n      <th>41</th>\n      <td>NaN</td>\n      <td>Cooperate</td>\n      <td>Cooperate</td>\n    </tr>\n    <tr>\n      <th>44</th>\n      <td>NaN</td>\n      <td>Cooperate</td>\n      <td>Cooperate</td>\n    </tr>\n    <tr>\n      <th>45</th>\n      <td>NaN</td>\n      <td>Cooperate</td>\n      <td>Cooperate</td>\n    </tr>\n    <tr>\n      <th>47</th>\n      <td>NaN</td>\n      <td>Cooperate</td>\n      <td>Cooperate</td>\n    </tr>\n    <tr>\n      <th>49</th>\n      <td>NaN</td>\n      <td>Cooperate</td>\n      <td>Cooperate</td>\n    </tr>\n    <tr>\n      <th>52</th>\n      <td>NaN</td>\n      <td>Cooperate</td>\n      <td>Cooperate</td>\n    </tr>\n    <tr>\n      <th>59</th>\n      <td>NaN</td>\n      <td>Cooperate</td>\n      <td>Cooperate</td>\n    </tr>\n    <tr>\n      <th>66</th>\n      <td>NaN</td>\n      <td>Cooperate</td>\n      <td>Cooperate</td>\n    </tr>\n    <tr>\n      <th>70</th>\n      <td>NaN</td>\n      <td>Defect</td>\n      <td>Cooperate</td>\n    </tr>\n    <tr>\n      <th>71</th>\n      <td>NaN</td>\n      <td>Cooperate</td>\n      <td>Cooperate</td>\n    </tr>\n    <tr>\n      <th>72</th>\n      <td>NaN</td>\n      <td>Defect</td>\n      <td>Cooperate</td>\n    </tr>\n  </tbody>\n</table>\n</div>"
     },
     "metadata": {},
     "execution_count": 74
    }
   ],
   "source": [
    "# Show data that are from 'WALL STREET' game with personality cooperate only\n",
    "\n",
    "likely_to_cooperate_wall_street"
   ]
  },
  {
   "cell_type": "code",
   "execution_count": 82,
   "metadata": {},
   "outputs": [
    {
     "output_type": "execute_result",
     "data": {
      "text/plain": [
       "   COMMUNITY WALL STREET PREDICTION\n",
       "1        NaN      Defect     Defect\n",
       "2        NaN      Defect     Defect\n",
       "7        NaN      Defect     Defect\n",
       "9        NaN      Defect     Defect\n",
       "10       NaN      Defect     Defect\n",
       "11       NaN      Defect     Defect\n",
       "12       NaN      Defect     Defect\n",
       "14       NaN      Defect     Defect\n",
       "19       NaN      Defect     Defect\n",
       "20       NaN      Defect     Defect\n",
       "28       NaN      Defect     Defect\n",
       "31       NaN      Defect     Defect\n",
       "35       NaN      Defect     Defect\n",
       "36       NaN      Defect     Defect\n",
       "38       NaN      Defect     Defect\n",
       "39       NaN      Defect     Defect\n",
       "42       NaN      Defect     Defect\n",
       "48       NaN      Defect     Defect\n",
       "51       NaN      Defect     Defect\n",
       "53       NaN      Defect     Defect\n",
       "54       NaN      Defect     Defect\n",
       "57       NaN      Defect     Defect\n",
       "58       NaN      Defect     Defect\n",
       "60       NaN      Defect     Defect\n",
       "65       NaN      Defect     Defect\n",
       "73       NaN      Defect     Defect\n",
       "76       NaN      Defect     Defect"
      ],
      "text/html": "<div>\n<style scoped>\n    .dataframe tbody tr th:only-of-type {\n        vertical-align: middle;\n    }\n\n    .dataframe tbody tr th {\n        vertical-align: top;\n    }\n\n    .dataframe thead th {\n        text-align: right;\n    }\n</style>\n<table border=\"1\" class=\"dataframe\">\n  <thead>\n    <tr style=\"text-align: right;\">\n      <th></th>\n      <th>COMMUNITY</th>\n      <th>WALL STREET</th>\n      <th>PREDICTION</th>\n    </tr>\n  </thead>\n  <tbody>\n    <tr>\n      <th>1</th>\n      <td>NaN</td>\n      <td>Defect</td>\n      <td>Defect</td>\n    </tr>\n    <tr>\n      <th>2</th>\n      <td>NaN</td>\n      <td>Defect</td>\n      <td>Defect</td>\n    </tr>\n    <tr>\n      <th>7</th>\n      <td>NaN</td>\n      <td>Defect</td>\n      <td>Defect</td>\n    </tr>\n    <tr>\n      <th>9</th>\n      <td>NaN</td>\n      <td>Defect</td>\n      <td>Defect</td>\n    </tr>\n    <tr>\n      <th>10</th>\n      <td>NaN</td>\n      <td>Defect</td>\n      <td>Defect</td>\n    </tr>\n    <tr>\n      <th>11</th>\n      <td>NaN</td>\n      <td>Defect</td>\n      <td>Defect</td>\n    </tr>\n    <tr>\n      <th>12</th>\n      <td>NaN</td>\n      <td>Defect</td>\n      <td>Defect</td>\n    </tr>\n    <tr>\n      <th>14</th>\n      <td>NaN</td>\n      <td>Defect</td>\n      <td>Defect</td>\n    </tr>\n    <tr>\n      <th>19</th>\n      <td>NaN</td>\n      <td>Defect</td>\n      <td>Defect</td>\n    </tr>\n    <tr>\n      <th>20</th>\n      <td>NaN</td>\n      <td>Defect</td>\n      <td>Defect</td>\n    </tr>\n    <tr>\n      <th>28</th>\n      <td>NaN</td>\n      <td>Defect</td>\n      <td>Defect</td>\n    </tr>\n    <tr>\n      <th>31</th>\n      <td>NaN</td>\n      <td>Defect</td>\n      <td>Defect</td>\n    </tr>\n    <tr>\n      <th>35</th>\n      <td>NaN</td>\n      <td>Defect</td>\n      <td>Defect</td>\n    </tr>\n    <tr>\n      <th>36</th>\n      <td>NaN</td>\n      <td>Defect</td>\n      <td>Defect</td>\n    </tr>\n    <tr>\n      <th>38</th>\n      <td>NaN</td>\n      <td>Defect</td>\n      <td>Defect</td>\n    </tr>\n    <tr>\n      <th>39</th>\n      <td>NaN</td>\n      <td>Defect</td>\n      <td>Defect</td>\n    </tr>\n    <tr>\n      <th>42</th>\n      <td>NaN</td>\n      <td>Defect</td>\n      <td>Defect</td>\n    </tr>\n    <tr>\n      <th>48</th>\n      <td>NaN</td>\n      <td>Defect</td>\n      <td>Defect</td>\n    </tr>\n    <tr>\n      <th>51</th>\n      <td>NaN</td>\n      <td>Defect</td>\n      <td>Defect</td>\n    </tr>\n    <tr>\n      <th>53</th>\n      <td>NaN</td>\n      <td>Defect</td>\n      <td>Defect</td>\n    </tr>\n    <tr>\n      <th>54</th>\n      <td>NaN</td>\n      <td>Defect</td>\n      <td>Defect</td>\n    </tr>\n    <tr>\n      <th>57</th>\n      <td>NaN</td>\n      <td>Defect</td>\n      <td>Defect</td>\n    </tr>\n    <tr>\n      <th>58</th>\n      <td>NaN</td>\n      <td>Defect</td>\n      <td>Defect</td>\n    </tr>\n    <tr>\n      <th>60</th>\n      <td>NaN</td>\n      <td>Defect</td>\n      <td>Defect</td>\n    </tr>\n    <tr>\n      <th>65</th>\n      <td>NaN</td>\n      <td>Defect</td>\n      <td>Defect</td>\n    </tr>\n    <tr>\n      <th>73</th>\n      <td>NaN</td>\n      <td>Defect</td>\n      <td>Defect</td>\n    </tr>\n    <tr>\n      <th>76</th>\n      <td>NaN</td>\n      <td>Defect</td>\n      <td>Defect</td>\n    </tr>\n  </tbody>\n</table>\n</div>"
     },
     "metadata": {},
     "execution_count": 82
    }
   ],
   "source": [
    "# Show data that are from 'WALL STREET' game with defective personality  only\n",
    "\n",
    "likely_to_defect_wall_street"
   ]
  },
  {
   "cell_type": "code",
   "execution_count": 88,
   "metadata": {},
   "outputs": [],
   "source": [
    "# Change the string variable into Dummy variable\n",
    "\n",
    "dummy_likely_to_cooperate_wall_street = pd.get_dummies(likely_to_cooperate_wall_street['WALL STREET'])\n",
    "dummy_likely_to_defect_wall_street = pd.get_dummies(likely_to_defect_wall_street['WALL STREET']) \n",
    "\n"
   ]
  },
  {
   "cell_type": "code",
   "execution_count": 89,
   "metadata": {},
   "outputs": [
    {
     "output_type": "execute_result",
     "data": {
      "text/plain": [
       "    Cooperate  Defect\n",
       "4           1       0\n",
       "6           1       0\n",
       "8           1       0\n",
       "16          1       0\n",
       "26          1       0\n",
       "33          0       1\n",
       "34          1       0\n",
       "41          1       0\n",
       "44          1       0\n",
       "45          1       0\n",
       "47          1       0\n",
       "49          1       0\n",
       "52          1       0\n",
       "59          1       0\n",
       "66          1       0\n",
       "70          0       1\n",
       "71          1       0\n",
       "72          0       1"
      ],
      "text/html": "<div>\n<style scoped>\n    .dataframe tbody tr th:only-of-type {\n        vertical-align: middle;\n    }\n\n    .dataframe tbody tr th {\n        vertical-align: top;\n    }\n\n    .dataframe thead th {\n        text-align: right;\n    }\n</style>\n<table border=\"1\" class=\"dataframe\">\n  <thead>\n    <tr style=\"text-align: right;\">\n      <th></th>\n      <th>Cooperate</th>\n      <th>Defect</th>\n    </tr>\n  </thead>\n  <tbody>\n    <tr>\n      <th>4</th>\n      <td>1</td>\n      <td>0</td>\n    </tr>\n    <tr>\n      <th>6</th>\n      <td>1</td>\n      <td>0</td>\n    </tr>\n    <tr>\n      <th>8</th>\n      <td>1</td>\n      <td>0</td>\n    </tr>\n    <tr>\n      <th>16</th>\n      <td>1</td>\n      <td>0</td>\n    </tr>\n    <tr>\n      <th>26</th>\n      <td>1</td>\n      <td>0</td>\n    </tr>\n    <tr>\n      <th>33</th>\n      <td>0</td>\n      <td>1</td>\n    </tr>\n    <tr>\n      <th>34</th>\n      <td>1</td>\n      <td>0</td>\n    </tr>\n    <tr>\n      <th>41</th>\n      <td>1</td>\n      <td>0</td>\n    </tr>\n    <tr>\n      <th>44</th>\n      <td>1</td>\n      <td>0</td>\n    </tr>\n    <tr>\n      <th>45</th>\n      <td>1</td>\n      <td>0</td>\n    </tr>\n    <tr>\n      <th>47</th>\n      <td>1</td>\n      <td>0</td>\n    </tr>\n    <tr>\n      <th>49</th>\n      <td>1</td>\n      <td>0</td>\n    </tr>\n    <tr>\n      <th>52</th>\n      <td>1</td>\n      <td>0</td>\n    </tr>\n    <tr>\n      <th>59</th>\n      <td>1</td>\n      <td>0</td>\n    </tr>\n    <tr>\n      <th>66</th>\n      <td>1</td>\n      <td>0</td>\n    </tr>\n    <tr>\n      <th>70</th>\n      <td>0</td>\n      <td>1</td>\n    </tr>\n    <tr>\n      <th>71</th>\n      <td>1</td>\n      <td>0</td>\n    </tr>\n    <tr>\n      <th>72</th>\n      <td>0</td>\n      <td>1</td>\n    </tr>\n  </tbody>\n</table>\n</div>"
     },
     "metadata": {},
     "execution_count": 89
    }
   ],
   "source": [
    "# Show data that changed into dummy variable ( 'WALL STREET','likely to Cooperate')\n",
    "\n",
    "dummy_likely_to_cooperate_wall_street "
   ]
  },
  {
   "cell_type": "code",
   "execution_count": 95,
   "metadata": {},
   "outputs": [
    {
     "output_type": "execute_result",
     "data": {
      "text/plain": [
       "    Defect\n",
       "1        1\n",
       "2        1\n",
       "7        1\n",
       "9        1\n",
       "10       1\n",
       "11       1\n",
       "12       1\n",
       "14       1\n",
       "19       1\n",
       "20       1\n",
       "28       1\n",
       "31       1\n",
       "35       1\n",
       "36       1\n",
       "38       1\n",
       "39       1\n",
       "42       1\n",
       "48       1\n",
       "51       1\n",
       "53       1\n",
       "54       1\n",
       "57       1\n",
       "58       1\n",
       "60       1\n",
       "65       1\n",
       "73       1\n",
       "76       1"
      ],
      "text/html": "<div>\n<style scoped>\n    .dataframe tbody tr th:only-of-type {\n        vertical-align: middle;\n    }\n\n    .dataframe tbody tr th {\n        vertical-align: top;\n    }\n\n    .dataframe thead th {\n        text-align: right;\n    }\n</style>\n<table border=\"1\" class=\"dataframe\">\n  <thead>\n    <tr style=\"text-align: right;\">\n      <th></th>\n      <th>Defect</th>\n    </tr>\n  </thead>\n  <tbody>\n    <tr>\n      <th>1</th>\n      <td>1</td>\n    </tr>\n    <tr>\n      <th>2</th>\n      <td>1</td>\n    </tr>\n    <tr>\n      <th>7</th>\n      <td>1</td>\n    </tr>\n    <tr>\n      <th>9</th>\n      <td>1</td>\n    </tr>\n    <tr>\n      <th>10</th>\n      <td>1</td>\n    </tr>\n    <tr>\n      <th>11</th>\n      <td>1</td>\n    </tr>\n    <tr>\n      <th>12</th>\n      <td>1</td>\n    </tr>\n    <tr>\n      <th>14</th>\n      <td>1</td>\n    </tr>\n    <tr>\n      <th>19</th>\n      <td>1</td>\n    </tr>\n    <tr>\n      <th>20</th>\n      <td>1</td>\n    </tr>\n    <tr>\n      <th>28</th>\n      <td>1</td>\n    </tr>\n    <tr>\n      <th>31</th>\n      <td>1</td>\n    </tr>\n    <tr>\n      <th>35</th>\n      <td>1</td>\n    </tr>\n    <tr>\n      <th>36</th>\n      <td>1</td>\n    </tr>\n    <tr>\n      <th>38</th>\n      <td>1</td>\n    </tr>\n    <tr>\n      <th>39</th>\n      <td>1</td>\n    </tr>\n    <tr>\n      <th>42</th>\n      <td>1</td>\n    </tr>\n    <tr>\n      <th>48</th>\n      <td>1</td>\n    </tr>\n    <tr>\n      <th>51</th>\n      <td>1</td>\n    </tr>\n    <tr>\n      <th>53</th>\n      <td>1</td>\n    </tr>\n    <tr>\n      <th>54</th>\n      <td>1</td>\n    </tr>\n    <tr>\n      <th>57</th>\n      <td>1</td>\n    </tr>\n    <tr>\n      <th>58</th>\n      <td>1</td>\n    </tr>\n    <tr>\n      <th>60</th>\n      <td>1</td>\n    </tr>\n    <tr>\n      <th>65</th>\n      <td>1</td>\n    </tr>\n    <tr>\n      <th>73</th>\n      <td>1</td>\n    </tr>\n    <tr>\n      <th>76</th>\n      <td>1</td>\n    </tr>\n  </tbody>\n</table>\n</div>"
     },
     "metadata": {},
     "execution_count": 95
    }
   ],
   "source": [
    "# Show data that changed into dummy variable ( 'WALL STREET', 'likely to defect')\n",
    "\n",
    "dummy_likely_to_defect_wall_street"
   ]
  },
  {
   "cell_type": "code",
   "execution_count": 93,
   "metadata": {},
   "outputs": [
    {
     "output_type": "stream",
     "name": "stdout",
     "text": [
      "0.8333333333333334\n0.16666666666666666\n"
     ]
    }
   ],
   "source": [
    "# Show the probabilty about what people choose with 'cooperative' personality\n",
    "\n",
    "print(dummy_likely_to_cooperate_wall_street ['Cooperate'].mean()) \n",
    "print(dummy_likely_to_cooperate_wall_street ['Defect'].mean())"
   ]
  },
  {
   "cell_type": "code",
   "execution_count": 96,
   "metadata": {},
   "outputs": [
    {
     "output_type": "stream",
     "name": "stdout",
     "text": [
      "1.0\n"
     ]
    }
   ],
   "source": [
    "# Show the probabilty about what people choose with 'defective' personality\n",
    "\n",
    "# print(dummy_likely_to_defect_wall_street['Cooperate'].mean()) \n",
    "print(dummy_likely_to_defect_wall_street['Defect'].mean())"
   ]
  },
  {
   "source": [
    "Summary\n",
    "\n",
    "In community game\n",
    "\n",
    "- Cooperative people tend to cooperate with 66.666% probability\n",
    "- Cooperative people tend to defect with 33.333% probability\n",
    "\n",
    "- Defective people tend to cooperate with 5% probability\n",
    "- Defective people tend to defect with 95% probability\n",
    "\n",
    "\n",
    "In wall street game\n",
    "\n",
    "- Cooperative people tend to cooperate with 83.33% probability\n",
    "- Cooperative people tend to defect with 16.66% probability\n",
    "\n",
    "- Defective people tend to cooperate with 0% probability\n",
    "- Defective people tend to defect with 100% probability"
   ],
   "cell_type": "markdown",
   "metadata": {}
  },
  {
   "source": [
    "From now on, we will also consider personality. We will check whether the difference between community game and wall street game is significant. \n"
   ],
   "cell_type": "markdown",
   "metadata": {}
  },
  {
   "source": [
    "Case 1 Cooperative people\n",
    "\n",
    "\n"
   ],
   "cell_type": "markdown",
   "metadata": {}
  },
  {
   "cell_type": "code",
   "execution_count": 97,
   "metadata": {},
   "outputs": [
    {
     "output_type": "execute_result",
     "data": {
      "text/plain": [
       "Ttest_indResult(statistic=-0.9894733910636695, pvalue=0.3344783337961946)"
      ]
     },
     "metadata": {},
     "execution_count": 97
    }
   ],
   "source": [
    "# t-test for checking whether the difference between cooperative people in Community game and Wall street game\n",
    "\n",
    "\n",
    "\n",
    "scipy.stats.ttest_ind(dummy_likely_to_cooperate_community['Cooperate'], dummy_likely_to_cooperate_wall_street ['Cooperate'], equal_var=False)\n"
   ]
  },
  {
   "cell_type": "code",
   "execution_count": 98,
   "metadata": {},
   "outputs": [
    {
     "output_type": "execute_result",
     "data": {
      "text/plain": [
       "Ttest_indResult(statistic=0.9894733910636689, pvalue=0.33447833379619507)"
      ]
     },
     "metadata": {},
     "execution_count": 98
    }
   ],
   "source": [
    "# t-test for checking whether the difference between cooperative people in Community game and Wall street game\n",
    "\n",
    "scipy.stats.ttest_ind(dummy_likely_to_cooperate_community['Defect'], dummy_likely_to_cooperate_wall_street ['Defect'], equal_var=False)\n"
   ]
  },
  {
   "source": [
    "Case 2 Defective people"
   ],
   "cell_type": "markdown",
   "metadata": {}
  },
  {
   "cell_type": "code",
   "execution_count": 99,
   "metadata": {},
   "outputs": [
    {
     "output_type": "execute_result",
     "data": {
      "text/plain": [
       "Ttest_indResult(statistic=-19.0, pvalue=8.07462417263228e-14)"
      ]
     },
     "metadata": {},
     "execution_count": 99
    }
   ],
   "source": [
    "# t-test for checking whether the difference between defective people in Community game and Wall street game\n",
    "\n",
    "scipy.stats.ttest_ind(dummy_likely_to_defect_community['Cooperate'], dummy_likely_to_defect_wall_street['Defect'], equal_var=False)"
   ]
  },
  {
   "source": [
    "Interpretation\n",
    "\n",
    "We have further divided people based on their personality. After the division, we have checked whether labeling affect people's choice. \n",
    "\n",
    "The p-value from t-tests were over 0.05, which means the labeling had no significance"
   ],
   "cell_type": "markdown",
   "metadata": {}
  }
 ]
}