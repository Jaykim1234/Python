{
 "metadata": {
  "language_info": {
   "codemirror_mode": {
    "name": "ipython",
    "version": 3
   },
   "file_extension": ".py",
   "mimetype": "text/x-python",
   "name": "python",
   "nbconvert_exporter": "python",
   "pygments_lexer": "ipython3",
   "version": "3.8.3"
  },
  "orig_nbformat": 4,
  "kernelspec": {
   "name": "python3",
   "display_name": "Python 3.8.3 64-bit ('base': conda)"
  },
  "interpreter": {
   "hash": "55190f1d6766997e6fe66a2d967c7e368e4d70591b2d2de457c9046bb29ecf93"
  }
 },
 "nbformat": 4,
 "nbformat_minor": 2,
 "cells": [
  {
   "cell_type": "code",
   "execution_count": 7,
   "metadata": {},
   "outputs": [],
   "source": [
    "import pandas as pd\n",
    "# Read csv file\n",
    "\n",
    "data2 =pd.read_csv(\"./concisedataV2.csv\")\n",
    "\n",
    "# "
   ]
  },
  {
   "cell_type": "code",
   "execution_count": 8,
   "metadata": {},
   "outputs": [
    {
     "output_type": "execute_result",
     "data": {
      "text/plain": [
       "    Gender                             Major Country  COMMUNITY  WALL STREET  \\\n",
       "0     Male  Economics and Business Economics  Europe        1.0          NaN   \n",
       "1     Male           Business Administration  Europe        NaN          1.0   \n",
       "2   Female  Economics and Business Economics  Europe        NaN          1.0   \n",
       "3     Male           Business Administration  Europe        1.0          NaN   \n",
       "4   Female           Business Administration  Europe        NaN          1.0   \n",
       "..     ...                               ...     ...        ...          ...   \n",
       "72  Female           Business Administration  Europe        NaN          1.0   \n",
       "73  Female  Economics and Business Economics    Asia        NaN          1.0   \n",
       "74  Female           Business Administration  Europe        1.0          NaN   \n",
       "75  Female  Economics and Business Economics    Asia        1.0          NaN   \n",
       "76    Male  Economics and Business Economics    Asia        NaN          1.0   \n",
       "\n",
       "    Result  \n",
       "0        1  \n",
       "1        1  \n",
       "2        1  \n",
       "3        1  \n",
       "4        0  \n",
       "..     ...  \n",
       "72       1  \n",
       "73       1  \n",
       "74       1  \n",
       "75       1  \n",
       "76       1  \n",
       "\n",
       "[77 rows x 6 columns]"
      ],
      "text/html": "<div>\n<style scoped>\n    .dataframe tbody tr th:only-of-type {\n        vertical-align: middle;\n    }\n\n    .dataframe tbody tr th {\n        vertical-align: top;\n    }\n\n    .dataframe thead th {\n        text-align: right;\n    }\n</style>\n<table border=\"1\" class=\"dataframe\">\n  <thead>\n    <tr style=\"text-align: right;\">\n      <th></th>\n      <th>Gender</th>\n      <th>Major</th>\n      <th>Country</th>\n      <th>COMMUNITY</th>\n      <th>WALL STREET</th>\n      <th>Result</th>\n    </tr>\n  </thead>\n  <tbody>\n    <tr>\n      <th>0</th>\n      <td>Male</td>\n      <td>Economics and Business Economics</td>\n      <td>Europe</td>\n      <td>1.0</td>\n      <td>NaN</td>\n      <td>1</td>\n    </tr>\n    <tr>\n      <th>1</th>\n      <td>Male</td>\n      <td>Business Administration</td>\n      <td>Europe</td>\n      <td>NaN</td>\n      <td>1.0</td>\n      <td>1</td>\n    </tr>\n    <tr>\n      <th>2</th>\n      <td>Female</td>\n      <td>Economics and Business Economics</td>\n      <td>Europe</td>\n      <td>NaN</td>\n      <td>1.0</td>\n      <td>1</td>\n    </tr>\n    <tr>\n      <th>3</th>\n      <td>Male</td>\n      <td>Business Administration</td>\n      <td>Europe</td>\n      <td>1.0</td>\n      <td>NaN</td>\n      <td>1</td>\n    </tr>\n    <tr>\n      <th>4</th>\n      <td>Female</td>\n      <td>Business Administration</td>\n      <td>Europe</td>\n      <td>NaN</td>\n      <td>1.0</td>\n      <td>0</td>\n    </tr>\n    <tr>\n      <th>...</th>\n      <td>...</td>\n      <td>...</td>\n      <td>...</td>\n      <td>...</td>\n      <td>...</td>\n      <td>...</td>\n    </tr>\n    <tr>\n      <th>72</th>\n      <td>Female</td>\n      <td>Business Administration</td>\n      <td>Europe</td>\n      <td>NaN</td>\n      <td>1.0</td>\n      <td>1</td>\n    </tr>\n    <tr>\n      <th>73</th>\n      <td>Female</td>\n      <td>Economics and Business Economics</td>\n      <td>Asia</td>\n      <td>NaN</td>\n      <td>1.0</td>\n      <td>1</td>\n    </tr>\n    <tr>\n      <th>74</th>\n      <td>Female</td>\n      <td>Business Administration</td>\n      <td>Europe</td>\n      <td>1.0</td>\n      <td>NaN</td>\n      <td>1</td>\n    </tr>\n    <tr>\n      <th>75</th>\n      <td>Female</td>\n      <td>Economics and Business Economics</td>\n      <td>Asia</td>\n      <td>1.0</td>\n      <td>NaN</td>\n      <td>1</td>\n    </tr>\n    <tr>\n      <th>76</th>\n      <td>Male</td>\n      <td>Economics and Business Economics</td>\n      <td>Asia</td>\n      <td>NaN</td>\n      <td>1.0</td>\n      <td>1</td>\n    </tr>\n  </tbody>\n</table>\n<p>77 rows × 6 columns</p>\n</div>"
     },
     "metadata": {},
     "execution_count": 8
    }
   ],
   "source": [
    "\n",
    "# 1 means defect\n",
    "# 0 menas cooperate\n",
    "\n",
    "data2"
   ]
  },
  {
   "cell_type": "code",
   "execution_count": 9,
   "metadata": {},
   "outputs": [
    {
     "output_type": "execute_result",
     "data": {
      "text/plain": [
       "    Gender                             Major Country  COMMUNITY  WALL STREET  \\\n",
       "0     Male  Economics and Business Economics  Europe        1.0          0.0   \n",
       "1     Male           Business Administration  Europe        0.0          1.0   \n",
       "2   Female  Economics and Business Economics  Europe        0.0          1.0   \n",
       "3     Male           Business Administration  Europe        1.0          0.0   \n",
       "4   Female           Business Administration  Europe        0.0          1.0   \n",
       "..     ...                               ...     ...        ...          ...   \n",
       "72  Female           Business Administration  Europe        0.0          1.0   \n",
       "73  Female  Economics and Business Economics    Asia        0.0          1.0   \n",
       "74  Female           Business Administration  Europe        1.0          0.0   \n",
       "75  Female  Economics and Business Economics    Asia        1.0          0.0   \n",
       "76    Male  Economics and Business Economics    Asia        0.0          1.0   \n",
       "\n",
       "    Result  \n",
       "0        1  \n",
       "1        1  \n",
       "2        1  \n",
       "3        1  \n",
       "4        0  \n",
       "..     ...  \n",
       "72       1  \n",
       "73       1  \n",
       "74       1  \n",
       "75       1  \n",
       "76       1  \n",
       "\n",
       "[77 rows x 6 columns]"
      ],
      "text/html": "<div>\n<style scoped>\n    .dataframe tbody tr th:only-of-type {\n        vertical-align: middle;\n    }\n\n    .dataframe tbody tr th {\n        vertical-align: top;\n    }\n\n    .dataframe thead th {\n        text-align: right;\n    }\n</style>\n<table border=\"1\" class=\"dataframe\">\n  <thead>\n    <tr style=\"text-align: right;\">\n      <th></th>\n      <th>Gender</th>\n      <th>Major</th>\n      <th>Country</th>\n      <th>COMMUNITY</th>\n      <th>WALL STREET</th>\n      <th>Result</th>\n    </tr>\n  </thead>\n  <tbody>\n    <tr>\n      <th>0</th>\n      <td>Male</td>\n      <td>Economics and Business Economics</td>\n      <td>Europe</td>\n      <td>1.0</td>\n      <td>0.0</td>\n      <td>1</td>\n    </tr>\n    <tr>\n      <th>1</th>\n      <td>Male</td>\n      <td>Business Administration</td>\n      <td>Europe</td>\n      <td>0.0</td>\n      <td>1.0</td>\n      <td>1</td>\n    </tr>\n    <tr>\n      <th>2</th>\n      <td>Female</td>\n      <td>Economics and Business Economics</td>\n      <td>Europe</td>\n      <td>0.0</td>\n      <td>1.0</td>\n      <td>1</td>\n    </tr>\n    <tr>\n      <th>3</th>\n      <td>Male</td>\n      <td>Business Administration</td>\n      <td>Europe</td>\n      <td>1.0</td>\n      <td>0.0</td>\n      <td>1</td>\n    </tr>\n    <tr>\n      <th>4</th>\n      <td>Female</td>\n      <td>Business Administration</td>\n      <td>Europe</td>\n      <td>0.0</td>\n      <td>1.0</td>\n      <td>0</td>\n    </tr>\n    <tr>\n      <th>...</th>\n      <td>...</td>\n      <td>...</td>\n      <td>...</td>\n      <td>...</td>\n      <td>...</td>\n      <td>...</td>\n    </tr>\n    <tr>\n      <th>72</th>\n      <td>Female</td>\n      <td>Business Administration</td>\n      <td>Europe</td>\n      <td>0.0</td>\n      <td>1.0</td>\n      <td>1</td>\n    </tr>\n    <tr>\n      <th>73</th>\n      <td>Female</td>\n      <td>Economics and Business Economics</td>\n      <td>Asia</td>\n      <td>0.0</td>\n      <td>1.0</td>\n      <td>1</td>\n    </tr>\n    <tr>\n      <th>74</th>\n      <td>Female</td>\n      <td>Business Administration</td>\n      <td>Europe</td>\n      <td>1.0</td>\n      <td>0.0</td>\n      <td>1</td>\n    </tr>\n    <tr>\n      <th>75</th>\n      <td>Female</td>\n      <td>Economics and Business Economics</td>\n      <td>Asia</td>\n      <td>1.0</td>\n      <td>0.0</td>\n      <td>1</td>\n    </tr>\n    <tr>\n      <th>76</th>\n      <td>Male</td>\n      <td>Economics and Business Economics</td>\n      <td>Asia</td>\n      <td>0.0</td>\n      <td>1.0</td>\n      <td>1</td>\n    </tr>\n  </tbody>\n</table>\n<p>77 rows × 6 columns</p>\n</div>"
     },
     "metadata": {},
     "execution_count": 9
    }
   ],
   "source": [
    "data2[['COMMUNITY', 'WALL STREET']] = data2[['COMMUNITY','WALL STREET']].fillna(0)\n",
    "data2"
   ]
  },
  {
   "cell_type": "code",
   "execution_count": 11,
   "metadata": {},
   "outputs": [
    {
     "output_type": "execute_result",
     "data": {
      "text/plain": [
       "    COMMUNITY  WALL STREET  Result  Gender_Female  Gender_Male  \\\n",
       "0         1.0          0.0       1              0            1   \n",
       "1         0.0          1.0       1              0            1   \n",
       "2         0.0          1.0       1              1            0   \n",
       "3         1.0          0.0       1              0            1   \n",
       "4         0.0          1.0       0              1            0   \n",
       "..        ...          ...     ...            ...          ...   \n",
       "72        0.0          1.0       1              1            0   \n",
       "73        0.0          1.0       1              1            0   \n",
       "74        1.0          0.0       1              1            0   \n",
       "75        1.0          0.0       1              1            0   \n",
       "76        0.0          1.0       1              0            1   \n",
       "\n",
       "    Major_Business Administration  Major_Econometrics  \\\n",
       "0                               0                   0   \n",
       "1                               1                   0   \n",
       "2                               0                   0   \n",
       "3                               1                   0   \n",
       "4                               1                   0   \n",
       "..                            ...                 ...   \n",
       "72                              1                   0   \n",
       "73                              0                   0   \n",
       "74                              1                   0   \n",
       "75                              0                   0   \n",
       "76                              0                   0   \n",
       "\n",
       "    Major_Economics and Business Economics  Country_Africa  Country_America  \\\n",
       "0                                        1               0                0   \n",
       "1                                        0               0                0   \n",
       "2                                        1               0                0   \n",
       "3                                        0               0                0   \n",
       "4                                        0               0                0   \n",
       "..                                     ...             ...              ...   \n",
       "72                                       0               0                0   \n",
       "73                                       1               0                0   \n",
       "74                                       0               0                0   \n",
       "75                                       1               0                0   \n",
       "76                                       1               0                0   \n",
       "\n",
       "    Country_Asia  Country_Europe  \n",
       "0              0               1  \n",
       "1              0               1  \n",
       "2              0               1  \n",
       "3              0               1  \n",
       "4              0               1  \n",
       "..           ...             ...  \n",
       "72             0               1  \n",
       "73             1               0  \n",
       "74             0               1  \n",
       "75             1               0  \n",
       "76             1               0  \n",
       "\n",
       "[77 rows x 12 columns]"
      ],
      "text/html": "<div>\n<style scoped>\n    .dataframe tbody tr th:only-of-type {\n        vertical-align: middle;\n    }\n\n    .dataframe tbody tr th {\n        vertical-align: top;\n    }\n\n    .dataframe thead th {\n        text-align: right;\n    }\n</style>\n<table border=\"1\" class=\"dataframe\">\n  <thead>\n    <tr style=\"text-align: right;\">\n      <th></th>\n      <th>COMMUNITY</th>\n      <th>WALL STREET</th>\n      <th>Result</th>\n      <th>Gender_Female</th>\n      <th>Gender_Male</th>\n      <th>Major_Business Administration</th>\n      <th>Major_Econometrics</th>\n      <th>Major_Economics and Business Economics</th>\n      <th>Country_Africa</th>\n      <th>Country_America</th>\n      <th>Country_Asia</th>\n      <th>Country_Europe</th>\n    </tr>\n  </thead>\n  <tbody>\n    <tr>\n      <th>0</th>\n      <td>1.0</td>\n      <td>0.0</td>\n      <td>1</td>\n      <td>0</td>\n      <td>1</td>\n      <td>0</td>\n      <td>0</td>\n      <td>1</td>\n      <td>0</td>\n      <td>0</td>\n      <td>0</td>\n      <td>1</td>\n    </tr>\n    <tr>\n      <th>1</th>\n      <td>0.0</td>\n      <td>1.0</td>\n      <td>1</td>\n      <td>0</td>\n      <td>1</td>\n      <td>1</td>\n      <td>0</td>\n      <td>0</td>\n      <td>0</td>\n      <td>0</td>\n      <td>0</td>\n      <td>1</td>\n    </tr>\n    <tr>\n      <th>2</th>\n      <td>0.0</td>\n      <td>1.0</td>\n      <td>1</td>\n      <td>1</td>\n      <td>0</td>\n      <td>0</td>\n      <td>0</td>\n      <td>1</td>\n      <td>0</td>\n      <td>0</td>\n      <td>0</td>\n      <td>1</td>\n    </tr>\n    <tr>\n      <th>3</th>\n      <td>1.0</td>\n      <td>0.0</td>\n      <td>1</td>\n      <td>0</td>\n      <td>1</td>\n      <td>1</td>\n      <td>0</td>\n      <td>0</td>\n      <td>0</td>\n      <td>0</td>\n      <td>0</td>\n      <td>1</td>\n    </tr>\n    <tr>\n      <th>4</th>\n      <td>0.0</td>\n      <td>1.0</td>\n      <td>0</td>\n      <td>1</td>\n      <td>0</td>\n      <td>1</td>\n      <td>0</td>\n      <td>0</td>\n      <td>0</td>\n      <td>0</td>\n      <td>0</td>\n      <td>1</td>\n    </tr>\n    <tr>\n      <th>...</th>\n      <td>...</td>\n      <td>...</td>\n      <td>...</td>\n      <td>...</td>\n      <td>...</td>\n      <td>...</td>\n      <td>...</td>\n      <td>...</td>\n      <td>...</td>\n      <td>...</td>\n      <td>...</td>\n      <td>...</td>\n    </tr>\n    <tr>\n      <th>72</th>\n      <td>0.0</td>\n      <td>1.0</td>\n      <td>1</td>\n      <td>1</td>\n      <td>0</td>\n      <td>1</td>\n      <td>0</td>\n      <td>0</td>\n      <td>0</td>\n      <td>0</td>\n      <td>0</td>\n      <td>1</td>\n    </tr>\n    <tr>\n      <th>73</th>\n      <td>0.0</td>\n      <td>1.0</td>\n      <td>1</td>\n      <td>1</td>\n      <td>0</td>\n      <td>0</td>\n      <td>0</td>\n      <td>1</td>\n      <td>0</td>\n      <td>0</td>\n      <td>1</td>\n      <td>0</td>\n    </tr>\n    <tr>\n      <th>74</th>\n      <td>1.0</td>\n      <td>0.0</td>\n      <td>1</td>\n      <td>1</td>\n      <td>0</td>\n      <td>1</td>\n      <td>0</td>\n      <td>0</td>\n      <td>0</td>\n      <td>0</td>\n      <td>0</td>\n      <td>1</td>\n    </tr>\n    <tr>\n      <th>75</th>\n      <td>1.0</td>\n      <td>0.0</td>\n      <td>1</td>\n      <td>1</td>\n      <td>0</td>\n      <td>0</td>\n      <td>0</td>\n      <td>1</td>\n      <td>0</td>\n      <td>0</td>\n      <td>1</td>\n      <td>0</td>\n    </tr>\n    <tr>\n      <th>76</th>\n      <td>0.0</td>\n      <td>1.0</td>\n      <td>1</td>\n      <td>0</td>\n      <td>1</td>\n      <td>0</td>\n      <td>0</td>\n      <td>1</td>\n      <td>0</td>\n      <td>0</td>\n      <td>1</td>\n      <td>0</td>\n    </tr>\n  </tbody>\n</table>\n<p>77 rows × 12 columns</p>\n</div>"
     },
     "metadata": {},
     "execution_count": 11
    }
   ],
   "source": [
    "data2 = pd.get_dummies(data2, prefix=['Gender', 'Major','Country'])\n",
    "data2"
   ]
  },
  {
   "cell_type": "code",
   "execution_count": 14,
   "metadata": {},
   "outputs": [
    {
     "output_type": "stream",
     "name": "stdout",
     "text": [
      "Warning: Maximum number of iterations has been exceeded.\n",
      "         Current function value: 0.487199\n",
      "         Iterations: 35\n",
      "                                               Results: Logit\n",
      "============================================================================================================\n",
      "Model:                              Logit                          Pseudo R-squared:               0.215    \n",
      "Dependent Variable:                 Result                         AIC:                            91.0286  \n",
      "Date:                               2021-07-02 13:33               BIC:                            109.7790 \n",
      "No. Observations:                   77                             Log-Likelihood:                 -37.514  \n",
      "Df Model:                           7                              LL-Null:                        -47.774  \n",
      "Df Residuals:                       69                             LLR p-value:                    0.0045496\n",
      "Converged:                          0.0000                         Scale:                          1.0000   \n",
      "No. Iterations:                     35.0000                                                                 \n",
      "------------------------------------------------------------------------------------------------------------\n",
      "                                        Coef.      Std.Err.       z    P>|z|       [0.025         0.975]    \n",
      "------------------------------------------------------------------------------------------------------------\n",
      "COMMUNITY                               -1.1427 209063549.6377 -0.0000 1.0000 -409757028.9127 409757026.6273\n",
      "WALL STREET                             -1.4761 188731011.0940 -0.0000 1.0000 -369905985.9860 369905983.0339\n",
      "Gender_Female                           -1.2013 208432302.5542 -0.0000 1.0000 -408519807.4223 408519805.0197\n",
      "Gender_Male                             -1.4174 212163003.9225 -0.0000 1.0000 -415831847.9574 415831845.1225\n",
      "Major_Business Administration           -2.0490            nan     nan    nan             nan            nan\n",
      "Major_Econometrics                      -0.8508            nan     nan    nan             nan            nan\n",
      "Major_Economics and Business Economics   0.2810            nan     nan    nan             nan            nan\n",
      "Country_Africa                         -15.0834            nan     nan    nan             nan            nan\n",
      "Country_America                          3.4508            nan     nan    nan             nan            nan\n",
      "Country_Asia                             4.4346            nan     nan    nan             nan            nan\n",
      "Country_Europe                           4.5792            nan     nan    nan             nan            nan\n",
      "============================================================================================================\n",
      "\n",
      "C:\\Users\\user\\anaconda uva\\lib\\site-packages\\statsmodels\\base\\model.py:567: ConvergenceWarning: Maximum Likelihood optimization failed to converge. Check mle_retvals\n",
      "  warn(\"Maximum Likelihood optimization failed to converge. \"\n",
      "C:\\Users\\user\\anaconda uva\\lib\\site-packages\\statsmodels\\base\\model.py:1354: RuntimeWarning: invalid value encountered in sqrt\n",
      "  bse_ = np.sqrt(np.diag(self.cov_params()))\n",
      "C:\\Users\\user\\anaconda uva\\lib\\site-packages\\scipy\\stats\\_distn_infrastructure.py:1932: RuntimeWarning: invalid value encountered in less_equal\n",
      "  cond2 = cond0 & (x <= _a)\n"
     ]
    }
   ],
   "source": [
    "import statsmodels.api as sm\n",
    "from sklearn.linear_model import LogisticRegression\n",
    "X=data2.drop(columns=['Result'])\n",
    "y=data2['Result']\n",
    "logit_model=sm.Logit(y,X)\n",
    "result=logit_model.fit()\n",
    "print(result.summary2())"
   ]
  },
  {
   "cell_type": "code",
   "execution_count": null,
   "metadata": {},
   "outputs": [],
   "source": []
  }
 ]
}