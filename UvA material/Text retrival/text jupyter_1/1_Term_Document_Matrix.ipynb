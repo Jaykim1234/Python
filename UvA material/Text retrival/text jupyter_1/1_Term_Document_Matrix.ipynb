{
 "cells": [
  {
   "cell_type": "markdown",
   "metadata": {
    "id": "N49WgiEkUfGp"
   },
   "source": [
    "# Term-Document Matrix"
   ]
  },
  {
   "cell_type": "markdown",
   "metadata": {
    "id": "zv6Nl3_1Un2o"
   },
   "source": [
    "## Definition"
   ]
  },
  {
   "cell_type": "markdown",
   "metadata": {
    "id": "UI37dHPlUqzE"
   },
   "source": [
    "Matrix with **N** rows and **V** columns:\n",
    "* **N** is the number of documents\n",
    "* **V** is the size of the vocabulary\n",
    "\n",
    "Each row is the Bag of Word vector of one document in the corpus.\n",
    "\n",
    "Each column represents a single term of the vocabulary."
   ]
  },
  {
   "cell_type": "code",
   "execution_count": 1,
   "metadata": {
    "id": "fHwwqlQilMZB"
   },
   "outputs": [],
   "source": [
    "import numpy as np"
   ]
  },
  {
   "cell_type": "markdown",
   "metadata": {
    "id": "Sf7vW2ovVWMi"
   },
   "source": [
    "## Build a Term-Document Matrix"
   ]
  },
  {
   "cell_type": "code",
   "execution_count": 2,
   "metadata": {
    "colab": {
     "base_uri": "https://localhost:8080/"
    },
    "id": "iiV5xmYkYMkN",
    "outputId": "c23a2aa6-5bd1-46fd-a0e7-9d5b9647a2dc"
   },
   "outputs": [
    {
     "name": "stderr",
     "output_type": "stream",
     "text": [
      "[nltk_data] Downloading package punkt to\n",
      "[nltk_data]     C:\\Users\\user\\AppData\\Roaming\\nltk_data...\n",
      "[nltk_data]   Package punkt is already up-to-date!\n"
     ]
    },
    {
     "data": {
      "text/plain": [
       "True"
      ]
     },
     "execution_count": 2,
     "metadata": {},
     "output_type": "execute_result"
    }
   ],
   "source": [
    "import nltk\n",
    "nltk.download('punkt')"
   ]
  },
  {
   "cell_type": "code",
   "execution_count": 3,
   "metadata": {
    "id": "8-uUj0wUWjwM"
   },
   "outputs": [],
   "source": [
    "import requests\n",
    "\n",
    "r = requests.get('https://sherlock-holm.es/stories/plain-text/scan.txt')\n",
    "\n",
    "assert r.status_code == 200\n",
    "\n",
    "with open('scandal_in_bohemia.txt', 'w') as out:\n",
    "    out.write(r.content.decode('utf-8'))\n",
    "lines = [txt for txt in open('scandal_in_bohemia.txt') if len(txt.strip()) > 0]"
   ]
  },
  {
   "cell_type": "code",
   "execution_count": 4,
   "metadata": {
    "id": "_vuVqaLSWjwM"
   },
   "outputs": [],
   "source": [
    "from nltk.tokenize import sent_tokenize\n",
    "\n",
    "book = ' '.join([x.strip() for x in lines[7:]])\n",
    "sentences = sent_tokenize(book)"
   ]
  },
  {
   "cell_type": "code",
   "execution_count": 5,
   "metadata": {
    "id": "Sze0EbrEjTVs"
   },
   "outputs": [],
   "source": [
    "corpus = sentences[:10]"
   ]
  },
  {
   "cell_type": "code",
   "execution_count": 6,
   "metadata": {
    "id": "Z6f33g2yjWAR"
   },
   "outputs": [],
   "source": [
    "from sklearn.feature_extraction.text import CountVectorizer\n",
    "\n",
    "count = CountVectorizer(\n",
    "    stop_words='english',\n",
    "    ngram_range=(1, 2),\n",
    ")"
   ]
  },
  {
   "cell_type": "code",
   "execution_count": 7,
   "metadata": {
    "id": "BwLEqDQpjgcP"
   },
   "outputs": [],
   "source": [
    "term_doc = count.fit_transform(corpus)"
   ]
  },
  {
   "cell_type": "code",
   "execution_count": 12,
   "metadata": {},
   "outputs": [
    {
     "name": "stdout",
     "output_type": "stream",
     "text": [
      "['abhorrent', 'abhorrent cold', 'actions', 'adjusted', 'adjusted temperament', 'adler', 'admirable', 'admirable things', 'admirably', 'admirably balanced', 'admit', 'admit intrusions', 'akin', 'akin love', 'balanced', 'balanced mind', 'cold', 'cold precise', 'crack', 'crack high', 'delicate', 'delicate finely', 'distracting', 'distracting factor', 'disturbing', 'disturbing strong', 'doubt', 'doubt mental', 'drawing', 'drawing veil', 'eclipses', 'eclipses predominates', 'emotion', 'emotion akin', 'emotion nature', 'emotions', 'emotions particularly', 'excellent', 'excellent drawing', 'eyes', 'eyes eclipses', 'factor', 'factor throw', 'false', 'false position', 'felt', 'felt emotion', 'finely', 'finely adjusted', 'gibe', 'gibe sneer', 'grit', 'grit sensitive', 'heard', 'heard mention', 'high', 'high power', 'holmes', 'holmes woman', 'instrument', 'instrument crack', 'introduce', 'introduce distracting', 'intrusions', 'intrusions delicate', 'irene', 'irene adler', 'lenses', 'lenses disturbing', 'love', 'love irene', 'lover', 'lover placed', 'machine', 'machine world', 'men', 'men motives', 'mental', 'mental results', 'mention', 'mind', 'motives', 'motives actions', 'nature', 'observer', 'observer excellent', 'observing', 'observing machine', 'particularly', 'particularly abhorrent', 'passions', 'passions save', 'perfect', 'perfect reasoning', 'placed', 'placed false', 'position', 'power', 'power lenses', 'precise', 'precise admirably', 'predominates', 'predominates sex', 'reasoner', 'reasoner admit', 'reasoning', 'reasoning observing', 'results', 'save', 'save gibe', 'seen', 'seen lover', 'seldom', 'seldom heard', 'sensitive', 'sensitive instrument', 'sex', 'sherlock', 'sherlock holmes', 'sneer', 'softer', 'softer passions', 'spoke', 'spoke softer', 'strong', 'strong emotion', 'temperament', 'temperament introduce', 'things', 'things observer', 'throw', 'throw doubt', 'trained', 'trained reasoner', 'veil', 'veil men', 'woman', 'world', 'world seen']\n"
     ]
    }
   ],
   "source": [
    "print(vocab)"
   ]
  },
  {
   "cell_type": "code",
   "execution_count": 13,
   "metadata": {},
   "outputs": [
    {
     "name": "stdout",
     "output_type": "stream",
     "text": [
      "['To Sherlock Holmes she is always the woman.', 'I have seldom heard him mention her under any other name.', 'In his eyes she eclipses and predominates the whole of her sex.', 'It was not that he felt any emotion akin to love for Irene Adler.', 'All emotions, and that one particularly, were abhorrent to his cold, precise but admirably balanced mind.', 'He was, I take it, the most perfect reasoning and observing machine that the world has seen, but as a lover he would have placed himself in a false position.', 'He never spoke of the softer passions, save with a gibe and a sneer.', \"They were admirable things for the observer--excellent for drawing the veil from men's motives and actions.\", 'But for the trained reasoner to admit such intrusions into his own delicate and finely adjusted temperament was to introduce a distracting factor which might throw a doubt upon all his mental results.', 'Grit in a sensitive instrument, or a crack in one of his own high-power lenses, would not be more disturbing than a strong emotion in a nature such as his.']\n"
     ]
    }
   ],
   "source": [
    "print(corpus)"
   ]
  },
  {
   "cell_type": "code",
   "execution_count": 8,
   "metadata": {
    "colab": {
     "base_uri": "https://localhost:8080/"
    },
    "id": "wAoof8ZKjvKE",
    "outputId": "9b98c8bc-be58-4d56-c718-a0e53f29cb5d"
   },
   "outputs": [
    {
     "name": "stdout",
     "output_type": "stream",
     "text": [
      "Size of vocabulary: 139\n",
      "Size of corpus    : 10\n",
      "Shape of Term-Document Matrix: (10, 139) - 10 Rows x 139 Columns\n"
     ]
    }
   ],
   "source": [
    "vocab = count.get_feature_names()\n",
    "print(f'Size of vocabulary: {len(vocab)}')\n",
    "print(f'Size of corpus    : {len(corpus)}')\n",
    "\n",
    "print(f'Shape of Term-Document Matrix: {term_doc.shape} - {term_doc.shape[0]} Rows x {term_doc.shape[1]} Columns')"
   ]
  },
  {
   "cell_type": "markdown",
   "metadata": {
    "id": "lDXT04UJoJDr"
   },
   "source": [
    "## Understand Sparse Matrices"
   ]
  },
  {
   "cell_type": "markdown",
   "metadata": {
    "id": "rBnBB6RqkYQp"
   },
   "source": [
    "The type of `term_doc` is `CSR Matrix`. This is a type of **Sparse** matrix, it is a special data structure where we do not store every cell of the matrix in memory, as in fact there are not a lot of cells that have a value different than 0.\n",
    "\n",
    "We use `to_array()` to transform it into a **dense** matrix, which will use a lot more memory, as it allocates memory for each cell in the matrix."
   ]
  },
  {
   "cell_type": "code",
   "execution_count": 9,
   "metadata": {
    "colab": {
     "base_uri": "https://localhost:8080/"
    },
    "id": "QjVIBrKGjxE8",
    "outputId": "c4a49352-d26b-4d8c-d7dc-fe9399234a0f"
   },
   "outputs": [
    {
     "name": "stdout",
     "output_type": "stream",
     "text": [
      "Number of non-zero cells: 140\n",
      "Total number of cells   : 1390\n",
      "Density                 : 0.10\n"
     ]
    }
   ],
   "source": [
    "print(f'Number of non-zero cells: {term_doc.nnz}')\n",
    "print(f'Total number of cells   : {np.prod(term_doc.shape)}')\n",
    "print(f'Density                 : {term_doc.nnz / np.prod(term_doc.shape):0.2f}')"
   ]
  },
  {
   "cell_type": "markdown",
   "metadata": {
    "id": "8-z8mlvZoP1A"
   },
   "source": [
    "## View Term-Document Matrix"
   ]
  },
  {
   "cell_type": "code",
   "execution_count": 10,
   "metadata": {
    "id": "2EOlGRBDkRnu"
   },
   "outputs": [],
   "source": [
    "import pandas as pd\n",
    "\n",
    "term_doc_df = pd.DataFrame(term_doc.toarray(), columns=vocab, index=corpus)"
   ]
  },
  {
   "cell_type": "code",
   "execution_count": 11,
   "metadata": {
    "colab": {
     "base_uri": "https://localhost:8080/",
     "height": 1000
    },
    "id": "UrabRDLlleAL",
    "outputId": "f22e1938-8714-4d1e-bce8-5aa4f692929e"
   },
   "outputs": [
    {
     "data": {
      "text/html": [
       "<div>\n",
       "<style scoped>\n",
       "    .dataframe tbody tr th:only-of-type {\n",
       "        vertical-align: middle;\n",
       "    }\n",
       "\n",
       "    .dataframe tbody tr th {\n",
       "        vertical-align: top;\n",
       "    }\n",
       "\n",
       "    .dataframe thead th {\n",
       "        text-align: right;\n",
       "    }\n",
       "</style>\n",
       "<table border=\"1\" class=\"dataframe\">\n",
       "  <thead>\n",
       "    <tr style=\"text-align: right;\">\n",
       "      <th></th>\n",
       "      <th>abhorrent</th>\n",
       "      <th>abhorrent cold</th>\n",
       "      <th>actions</th>\n",
       "      <th>adjusted</th>\n",
       "      <th>adjusted temperament</th>\n",
       "      <th>adler</th>\n",
       "      <th>admirable</th>\n",
       "      <th>admirable things</th>\n",
       "      <th>admirably</th>\n",
       "      <th>admirably balanced</th>\n",
       "      <th>...</th>\n",
       "      <th>things observer</th>\n",
       "      <th>throw</th>\n",
       "      <th>throw doubt</th>\n",
       "      <th>trained</th>\n",
       "      <th>trained reasoner</th>\n",
       "      <th>veil</th>\n",
       "      <th>veil men</th>\n",
       "      <th>woman</th>\n",
       "      <th>world</th>\n",
       "      <th>world seen</th>\n",
       "    </tr>\n",
       "  </thead>\n",
       "  <tbody>\n",
       "    <tr>\n",
       "      <th>To Sherlock Holmes she is always the woman.</th>\n",
       "      <td>0</td>\n",
       "      <td>0</td>\n",
       "      <td>0</td>\n",
       "      <td>0</td>\n",
       "      <td>0</td>\n",
       "      <td>0</td>\n",
       "      <td>0</td>\n",
       "      <td>0</td>\n",
       "      <td>0</td>\n",
       "      <td>0</td>\n",
       "      <td>...</td>\n",
       "      <td>0</td>\n",
       "      <td>0</td>\n",
       "      <td>0</td>\n",
       "      <td>0</td>\n",
       "      <td>0</td>\n",
       "      <td>0</td>\n",
       "      <td>0</td>\n",
       "      <td>1</td>\n",
       "      <td>0</td>\n",
       "      <td>0</td>\n",
       "    </tr>\n",
       "    <tr>\n",
       "      <th>I have seldom heard him mention her under any other name.</th>\n",
       "      <td>0</td>\n",
       "      <td>0</td>\n",
       "      <td>0</td>\n",
       "      <td>0</td>\n",
       "      <td>0</td>\n",
       "      <td>0</td>\n",
       "      <td>0</td>\n",
       "      <td>0</td>\n",
       "      <td>0</td>\n",
       "      <td>0</td>\n",
       "      <td>...</td>\n",
       "      <td>0</td>\n",
       "      <td>0</td>\n",
       "      <td>0</td>\n",
       "      <td>0</td>\n",
       "      <td>0</td>\n",
       "      <td>0</td>\n",
       "      <td>0</td>\n",
       "      <td>0</td>\n",
       "      <td>0</td>\n",
       "      <td>0</td>\n",
       "    </tr>\n",
       "    <tr>\n",
       "      <th>In his eyes she eclipses and predominates the whole of her sex.</th>\n",
       "      <td>0</td>\n",
       "      <td>0</td>\n",
       "      <td>0</td>\n",
       "      <td>0</td>\n",
       "      <td>0</td>\n",
       "      <td>0</td>\n",
       "      <td>0</td>\n",
       "      <td>0</td>\n",
       "      <td>0</td>\n",
       "      <td>0</td>\n",
       "      <td>...</td>\n",
       "      <td>0</td>\n",
       "      <td>0</td>\n",
       "      <td>0</td>\n",
       "      <td>0</td>\n",
       "      <td>0</td>\n",
       "      <td>0</td>\n",
       "      <td>0</td>\n",
       "      <td>0</td>\n",
       "      <td>0</td>\n",
       "      <td>0</td>\n",
       "    </tr>\n",
       "    <tr>\n",
       "      <th>It was not that he felt any emotion akin to love for Irene Adler.</th>\n",
       "      <td>0</td>\n",
       "      <td>0</td>\n",
       "      <td>0</td>\n",
       "      <td>0</td>\n",
       "      <td>0</td>\n",
       "      <td>1</td>\n",
       "      <td>0</td>\n",
       "      <td>0</td>\n",
       "      <td>0</td>\n",
       "      <td>0</td>\n",
       "      <td>...</td>\n",
       "      <td>0</td>\n",
       "      <td>0</td>\n",
       "      <td>0</td>\n",
       "      <td>0</td>\n",
       "      <td>0</td>\n",
       "      <td>0</td>\n",
       "      <td>0</td>\n",
       "      <td>0</td>\n",
       "      <td>0</td>\n",
       "      <td>0</td>\n",
       "    </tr>\n",
       "    <tr>\n",
       "      <th>All emotions, and that one particularly, were abhorrent to his cold, precise but admirably balanced mind.</th>\n",
       "      <td>1</td>\n",
       "      <td>1</td>\n",
       "      <td>0</td>\n",
       "      <td>0</td>\n",
       "      <td>0</td>\n",
       "      <td>0</td>\n",
       "      <td>0</td>\n",
       "      <td>0</td>\n",
       "      <td>1</td>\n",
       "      <td>1</td>\n",
       "      <td>...</td>\n",
       "      <td>0</td>\n",
       "      <td>0</td>\n",
       "      <td>0</td>\n",
       "      <td>0</td>\n",
       "      <td>0</td>\n",
       "      <td>0</td>\n",
       "      <td>0</td>\n",
       "      <td>0</td>\n",
       "      <td>0</td>\n",
       "      <td>0</td>\n",
       "    </tr>\n",
       "    <tr>\n",
       "      <th>He was, I take it, the most perfect reasoning and observing machine that the world has seen, but as a lover he would have placed himself in a false position.</th>\n",
       "      <td>0</td>\n",
       "      <td>0</td>\n",
       "      <td>0</td>\n",
       "      <td>0</td>\n",
       "      <td>0</td>\n",
       "      <td>0</td>\n",
       "      <td>0</td>\n",
       "      <td>0</td>\n",
       "      <td>0</td>\n",
       "      <td>0</td>\n",
       "      <td>...</td>\n",
       "      <td>0</td>\n",
       "      <td>0</td>\n",
       "      <td>0</td>\n",
       "      <td>0</td>\n",
       "      <td>0</td>\n",
       "      <td>0</td>\n",
       "      <td>0</td>\n",
       "      <td>0</td>\n",
       "      <td>1</td>\n",
       "      <td>1</td>\n",
       "    </tr>\n",
       "    <tr>\n",
       "      <th>He never spoke of the softer passions, save with a gibe and a sneer.</th>\n",
       "      <td>0</td>\n",
       "      <td>0</td>\n",
       "      <td>0</td>\n",
       "      <td>0</td>\n",
       "      <td>0</td>\n",
       "      <td>0</td>\n",
       "      <td>0</td>\n",
       "      <td>0</td>\n",
       "      <td>0</td>\n",
       "      <td>0</td>\n",
       "      <td>...</td>\n",
       "      <td>0</td>\n",
       "      <td>0</td>\n",
       "      <td>0</td>\n",
       "      <td>0</td>\n",
       "      <td>0</td>\n",
       "      <td>0</td>\n",
       "      <td>0</td>\n",
       "      <td>0</td>\n",
       "      <td>0</td>\n",
       "      <td>0</td>\n",
       "    </tr>\n",
       "    <tr>\n",
       "      <th>They were admirable things for the observer--excellent for drawing the veil from men's motives and actions.</th>\n",
       "      <td>0</td>\n",
       "      <td>0</td>\n",
       "      <td>1</td>\n",
       "      <td>0</td>\n",
       "      <td>0</td>\n",
       "      <td>0</td>\n",
       "      <td>1</td>\n",
       "      <td>1</td>\n",
       "      <td>0</td>\n",
       "      <td>0</td>\n",
       "      <td>...</td>\n",
       "      <td>1</td>\n",
       "      <td>0</td>\n",
       "      <td>0</td>\n",
       "      <td>0</td>\n",
       "      <td>0</td>\n",
       "      <td>1</td>\n",
       "      <td>1</td>\n",
       "      <td>0</td>\n",
       "      <td>0</td>\n",
       "      <td>0</td>\n",
       "    </tr>\n",
       "    <tr>\n",
       "      <th>But for the trained reasoner to admit such intrusions into his own delicate and finely adjusted temperament was to introduce a distracting factor which might throw a doubt upon all his mental results.</th>\n",
       "      <td>0</td>\n",
       "      <td>0</td>\n",
       "      <td>0</td>\n",
       "      <td>1</td>\n",
       "      <td>1</td>\n",
       "      <td>0</td>\n",
       "      <td>0</td>\n",
       "      <td>0</td>\n",
       "      <td>0</td>\n",
       "      <td>0</td>\n",
       "      <td>...</td>\n",
       "      <td>0</td>\n",
       "      <td>1</td>\n",
       "      <td>1</td>\n",
       "      <td>1</td>\n",
       "      <td>1</td>\n",
       "      <td>0</td>\n",
       "      <td>0</td>\n",
       "      <td>0</td>\n",
       "      <td>0</td>\n",
       "      <td>0</td>\n",
       "    </tr>\n",
       "    <tr>\n",
       "      <th>Grit in a sensitive instrument, or a crack in one of his own high-power lenses, would not be more disturbing than a strong emotion in a nature such as his.</th>\n",
       "      <td>0</td>\n",
       "      <td>0</td>\n",
       "      <td>0</td>\n",
       "      <td>0</td>\n",
       "      <td>0</td>\n",
       "      <td>0</td>\n",
       "      <td>0</td>\n",
       "      <td>0</td>\n",
       "      <td>0</td>\n",
       "      <td>0</td>\n",
       "      <td>...</td>\n",
       "      <td>0</td>\n",
       "      <td>0</td>\n",
       "      <td>0</td>\n",
       "      <td>0</td>\n",
       "      <td>0</td>\n",
       "      <td>0</td>\n",
       "      <td>0</td>\n",
       "      <td>0</td>\n",
       "      <td>0</td>\n",
       "      <td>0</td>\n",
       "    </tr>\n",
       "  </tbody>\n",
       "</table>\n",
       "<p>10 rows × 139 columns</p>\n",
       "</div>"
      ],
      "text/plain": [
       "                                                    abhorrent  abhorrent cold  \\\n",
       "To Sherlock Holmes she is always the woman.                 0               0   \n",
       "I have seldom heard him mention her under any o...          0               0   \n",
       "In his eyes she eclipses and predominates the w...          0               0   \n",
       "It was not that he felt any emotion akin to lov...          0               0   \n",
       "All emotions, and that one particularly, were a...          1               1   \n",
       "He was, I take it, the most perfect reasoning a...          0               0   \n",
       "He never spoke of the softer passions, save wit...          0               0   \n",
       "They were admirable things for the observer--ex...          0               0   \n",
       "But for the trained reasoner to admit such intr...          0               0   \n",
       "Grit in a sensitive instrument, or a crack in o...          0               0   \n",
       "\n",
       "                                                    actions  adjusted  \\\n",
       "To Sherlock Holmes she is always the woman.               0         0   \n",
       "I have seldom heard him mention her under any o...        0         0   \n",
       "In his eyes she eclipses and predominates the w...        0         0   \n",
       "It was not that he felt any emotion akin to lov...        0         0   \n",
       "All emotions, and that one particularly, were a...        0         0   \n",
       "He was, I take it, the most perfect reasoning a...        0         0   \n",
       "He never spoke of the softer passions, save wit...        0         0   \n",
       "They were admirable things for the observer--ex...        1         0   \n",
       "But for the trained reasoner to admit such intr...        0         1   \n",
       "Grit in a sensitive instrument, or a crack in o...        0         0   \n",
       "\n",
       "                                                    adjusted temperament  \\\n",
       "To Sherlock Holmes she is always the woman.                            0   \n",
       "I have seldom heard him mention her under any o...                     0   \n",
       "In his eyes she eclipses and predominates the w...                     0   \n",
       "It was not that he felt any emotion akin to lov...                     0   \n",
       "All emotions, and that one particularly, were a...                     0   \n",
       "He was, I take it, the most perfect reasoning a...                     0   \n",
       "He never spoke of the softer passions, save wit...                     0   \n",
       "They were admirable things for the observer--ex...                     0   \n",
       "But for the trained reasoner to admit such intr...                     1   \n",
       "Grit in a sensitive instrument, or a crack in o...                     0   \n",
       "\n",
       "                                                    adler  admirable  \\\n",
       "To Sherlock Holmes she is always the woman.             0          0   \n",
       "I have seldom heard him mention her under any o...      0          0   \n",
       "In his eyes she eclipses and predominates the w...      0          0   \n",
       "It was not that he felt any emotion akin to lov...      1          0   \n",
       "All emotions, and that one particularly, were a...      0          0   \n",
       "He was, I take it, the most perfect reasoning a...      0          0   \n",
       "He never spoke of the softer passions, save wit...      0          0   \n",
       "They were admirable things for the observer--ex...      0          1   \n",
       "But for the trained reasoner to admit such intr...      0          0   \n",
       "Grit in a sensitive instrument, or a crack in o...      0          0   \n",
       "\n",
       "                                                    admirable things  \\\n",
       "To Sherlock Holmes she is always the woman.                        0   \n",
       "I have seldom heard him mention her under any o...                 0   \n",
       "In his eyes she eclipses and predominates the w...                 0   \n",
       "It was not that he felt any emotion akin to lov...                 0   \n",
       "All emotions, and that one particularly, were a...                 0   \n",
       "He was, I take it, the most perfect reasoning a...                 0   \n",
       "He never spoke of the softer passions, save wit...                 0   \n",
       "They were admirable things for the observer--ex...                 1   \n",
       "But for the trained reasoner to admit such intr...                 0   \n",
       "Grit in a sensitive instrument, or a crack in o...                 0   \n",
       "\n",
       "                                                    admirably  \\\n",
       "To Sherlock Holmes she is always the woman.                 0   \n",
       "I have seldom heard him mention her under any o...          0   \n",
       "In his eyes she eclipses and predominates the w...          0   \n",
       "It was not that he felt any emotion akin to lov...          0   \n",
       "All emotions, and that one particularly, were a...          1   \n",
       "He was, I take it, the most perfect reasoning a...          0   \n",
       "He never spoke of the softer passions, save wit...          0   \n",
       "They were admirable things for the observer--ex...          0   \n",
       "But for the trained reasoner to admit such intr...          0   \n",
       "Grit in a sensitive instrument, or a crack in o...          0   \n",
       "\n",
       "                                                    admirably balanced  ...  \\\n",
       "To Sherlock Holmes she is always the woman.                          0  ...   \n",
       "I have seldom heard him mention her under any o...                   0  ...   \n",
       "In his eyes she eclipses and predominates the w...                   0  ...   \n",
       "It was not that he felt any emotion akin to lov...                   0  ...   \n",
       "All emotions, and that one particularly, were a...                   1  ...   \n",
       "He was, I take it, the most perfect reasoning a...                   0  ...   \n",
       "He never spoke of the softer passions, save wit...                   0  ...   \n",
       "They were admirable things for the observer--ex...                   0  ...   \n",
       "But for the trained reasoner to admit such intr...                   0  ...   \n",
       "Grit in a sensitive instrument, or a crack in o...                   0  ...   \n",
       "\n",
       "                                                    things observer  throw  \\\n",
       "To Sherlock Holmes she is always the woman.                       0      0   \n",
       "I have seldom heard him mention her under any o...                0      0   \n",
       "In his eyes she eclipses and predominates the w...                0      0   \n",
       "It was not that he felt any emotion akin to lov...                0      0   \n",
       "All emotions, and that one particularly, were a...                0      0   \n",
       "He was, I take it, the most perfect reasoning a...                0      0   \n",
       "He never spoke of the softer passions, save wit...                0      0   \n",
       "They were admirable things for the observer--ex...                1      0   \n",
       "But for the trained reasoner to admit such intr...                0      1   \n",
       "Grit in a sensitive instrument, or a crack in o...                0      0   \n",
       "\n",
       "                                                    throw doubt  trained  \\\n",
       "To Sherlock Holmes she is always the woman.                   0        0   \n",
       "I have seldom heard him mention her under any o...            0        0   \n",
       "In his eyes she eclipses and predominates the w...            0        0   \n",
       "It was not that he felt any emotion akin to lov...            0        0   \n",
       "All emotions, and that one particularly, were a...            0        0   \n",
       "He was, I take it, the most perfect reasoning a...            0        0   \n",
       "He never spoke of the softer passions, save wit...            0        0   \n",
       "They were admirable things for the observer--ex...            0        0   \n",
       "But for the trained reasoner to admit such intr...            1        1   \n",
       "Grit in a sensitive instrument, or a crack in o...            0        0   \n",
       "\n",
       "                                                    trained reasoner  veil  \\\n",
       "To Sherlock Holmes she is always the woman.                        0     0   \n",
       "I have seldom heard him mention her under any o...                 0     0   \n",
       "In his eyes she eclipses and predominates the w...                 0     0   \n",
       "It was not that he felt any emotion akin to lov...                 0     0   \n",
       "All emotions, and that one particularly, were a...                 0     0   \n",
       "He was, I take it, the most perfect reasoning a...                 0     0   \n",
       "He never spoke of the softer passions, save wit...                 0     0   \n",
       "They were admirable things for the observer--ex...                 0     1   \n",
       "But for the trained reasoner to admit such intr...                 1     0   \n",
       "Grit in a sensitive instrument, or a crack in o...                 0     0   \n",
       "\n",
       "                                                    veil men  woman  world  \\\n",
       "To Sherlock Holmes she is always the woman.                0      1      0   \n",
       "I have seldom heard him mention her under any o...         0      0      0   \n",
       "In his eyes she eclipses and predominates the w...         0      0      0   \n",
       "It was not that he felt any emotion akin to lov...         0      0      0   \n",
       "All emotions, and that one particularly, were a...         0      0      0   \n",
       "He was, I take it, the most perfect reasoning a...         0      0      1   \n",
       "He never spoke of the softer passions, save wit...         0      0      0   \n",
       "They were admirable things for the observer--ex...         1      0      0   \n",
       "But for the trained reasoner to admit such intr...         0      0      0   \n",
       "Grit in a sensitive instrument, or a crack in o...         0      0      0   \n",
       "\n",
       "                                                    world seen  \n",
       "To Sherlock Holmes she is always the woman.                  0  \n",
       "I have seldom heard him mention her under any o...           0  \n",
       "In his eyes she eclipses and predominates the w...           0  \n",
       "It was not that he felt any emotion akin to lov...           0  \n",
       "All emotions, and that one particularly, were a...           0  \n",
       "He was, I take it, the most perfect reasoning a...           1  \n",
       "He never spoke of the softer passions, save wit...           0  \n",
       "They were admirable things for the observer--ex...           0  \n",
       "But for the trained reasoner to admit such intr...           0  \n",
       "Grit in a sensitive instrument, or a crack in o...           0  \n",
       "\n",
       "[10 rows x 139 columns]"
      ]
     },
     "execution_count": 11,
     "metadata": {},
     "output_type": "execute_result"
    }
   ],
   "source": [
    "term_doc_df"
   ]
  },
  {
   "cell_type": "markdown",
   "metadata": {
    "id": "n2xRq-MqnUrR"
   },
   "source": [
    "When using a bigger corpus, the matrix density goes down quite fast."
   ]
  },
  {
   "cell_type": "code",
   "execution_count": null,
   "metadata": {
    "colab": {
     "base_uri": "https://localhost:8080/"
    },
    "id": "GMRfbNajnIuQ",
    "outputId": "2c4de7cf-d4f6-40e4-a6bd-909e9e3561dd"
   },
   "outputs": [
    {
     "name": "stdout",
     "output_type": "stream",
     "text": [
      "Size of vocabulary: 4282\n",
      "Size of corpus    : 673\n",
      "Shape of Term-Document Matrix: (673, 4282) - 673 Rows x 4282 Columns\n",
      "Number of non-zero cells: 5960\n",
      "Total number of cells   : 2881786\n",
      "Density                 : 0.0021\n"
     ]
    }
   ],
   "source": [
    "term_doc_book = count.fit_transform(sentences)\n",
    "\n",
    "vocab_book = count.get_feature_names()\n",
    "print(f'Size of vocabulary: {len(vocab_book)}')\n",
    "print(f'Size of corpus    : {len(sentences)}')\n",
    "print(f'Shape of Term-Document Matrix: {term_doc_book.shape} - {term_doc_book.shape[0]} Rows x {term_doc_book.shape[1]} Columns')\n",
    "\n",
    "print(f'Number of non-zero cells: {term_doc_book.nnz}')\n",
    "print(f'Total number of cells   : {np.prod(term_doc_book.shape)}')\n",
    "print(f'Density                 : {term_doc_book.nnz / np.prod(term_doc_book.shape):0.4f}')"
   ]
  },
  {
   "cell_type": "markdown",
   "metadata": {
    "id": "ULSQRXj5ofcj"
   },
   "source": [
    "## Explore Term-Document Matrix"
   ]
  },
  {
   "cell_type": "markdown",
   "metadata": {
    "id": "x1CUxxkKoiKT"
   },
   "source": [
    "In which documents does one term appear?\n",
    "* Find the column for this term\n",
    "* Read at which indices are the non-zero elements"
   ]
  },
  {
   "cell_type": "code",
   "execution_count": null,
   "metadata": {
    "colab": {
     "base_uri": "https://localhost:8080/"
    },
    "id": "xWyUudKAnlUL",
    "outputId": "5cdb9cbc-071e-4961-e729-5ff2352fd451"
   },
   "outputs": [
    {
     "name": "stdout",
     "output_type": "stream",
     "text": [
      "Number of documents with term \"sherlock holmes\": 11\n",
      "1 times in document with index 0: \"To Sherlock Holmes she is always the woman.\"\n",
      "1 times in document with index 437: \"The house was just such as I had pictured it from Sherlock Holmes' succinct description, but the locality appeared to be less private than I expected.\"\n",
      "1 times in document with index 564: \"He was searching his pockets for the key when someone passing said: \"Good-night, Mister Sherlock Holmes.\"\"\n",
      "1 times in document with index 570: \"he cried, grasping Sherlock Holmes by either shoulder and looking eagerly into his face.\"\n",
      "1 times in document with index 599: \"\"Mr. Sherlock Holmes, I believe?\"\"\n",
      "1 times in document with index 606: \"Sherlock Holmes staggered back, white with chagrin and surprise.\"\n",
      "1 times in document with index 616: \"The photograph was of Irene Adler herself in evening dress, the letter was superscribed to \"Sherlock Holmes, Esq.\"\n",
      "1 times in document with index 619: \"It was dated at midnight of the preceding night and ran in this way: \"My dear Mr. Sherlock Holmes: \"You really did it very well.\"\n",
      "1 times in document with index 632: \"\"Well, I followed you to your door, and so made sure that I was really an object of interest to the celebrated Mr. Sherlock Holmes.\"\n",
      "1 times in document with index 639: \"I leave a photograph which he might care to possess; and I remain, dear Mr. Sherlock Holmes, \"Very truly yours, \"Irene Norton, née Adler.\"\"\n",
      "1 times in document with index 665: \"And that was how a great scandal threatened to affect the kingdom of Bohemia, and how the best plans of Mr. Sherlock Holmes were beaten by a woman's wit.\"\n"
     ]
    }
   ],
   "source": [
    "term = 'sherlock holmes'\n",
    "index_in_vocab = vocab_book.index(term)\n",
    "\n",
    "column = term_doc_book[:, index_in_vocab]  # Still a sparse matrix, with only 1 column\n",
    "print(f'Number of documents with term \"{term}\": {column.nnz}')\n",
    "\n",
    "rows, _ = column.nonzero()\n",
    "for r in rows:\n",
    "    print(f'{column[r, 0]} times in document with index {r}: \"{sentences[r]}\"')"
   ]
  },
  {
   "cell_type": "markdown",
   "metadata": {
    "id": "_WP6hrI8ryvW"
   },
   "source": [
    "Which terms appear in one document?\n",
    "* Find the row for this document\n",
    "* Read at which indices there are non-zero elements"
   ]
  },
  {
   "cell_type": "code",
   "execution_count": null,
   "metadata": {
    "colab": {
     "base_uri": "https://localhost:8080/"
    },
    "id": "YfZZ_zVQqxR1",
    "outputId": "32e57b8e-2b9c-4bcd-e957-f0b832dbe4c3"
   },
   "outputs": [
    {
     "name": "stdout",
     "output_type": "stream",
     "text": [
      "Document: \"And that was how a great scandal threatened to affect the kingdom of Bohemia, and how the best plans of Mr. Sherlock Holmes were beaten by a woman's wit.\"\n",
      "Number of terms in the document: 27\n",
      "sherlock                 :  1\n",
      "holmes                   :  1\n",
      "woman                    :  1\n",
      "sherlock holmes          :  1\n",
      "bohemia                  :  1\n",
      "great                    :  1\n",
      "best                     :  1\n",
      "scandal                  :  1\n",
      "kingdom                  :  1\n",
      "mr                       :  1\n",
      "plans                    :  1\n",
      "mr sherlock              :  1\n",
      "threatened               :  1\n",
      "affect                   :  1\n",
      "beaten                   :  1\n",
      "wit                      :  1\n",
      "great scandal            :  1\n",
      "scandal threatened       :  1\n",
      "threatened affect        :  1\n",
      "affect kingdom           :  1\n",
      "kingdom bohemia          :  1\n",
      "bohemia best             :  1\n",
      "best plans               :  1\n",
      "plans mr                 :  1\n",
      "holmes beaten            :  1\n",
      "beaten woman             :  1\n",
      "woman wit                :  1\n"
     ]
    }
   ],
   "source": [
    "index = 665\n",
    "document = sentences[index]\n",
    "\n",
    "print(f'Document: \"{document}\"')\n",
    "\n",
    "row = term_doc_book[index, :]    # Still a sparse matrix, with only 1 row\n",
    "print(f'Number of terms in the document: {row.nnz}')\n",
    "\n",
    "_, cols = row.nonzero()\n",
    "for c in cols:\n",
    "    print(f'{vocab_book[c]:<25}: {row[0, c]:>2}')\n"
   ]
  },
  {
   "cell_type": "markdown",
   "metadata": {
    "id": "UFuOZ3qhs80D"
   },
   "source": [
    "# Documents Similarity Matrix"
   ]
  },
  {
   "cell_type": "markdown",
   "metadata": {
    "id": "Po-Wd9Kps_Ty"
   },
   "source": [
    "This similarity matrix is a square matrix **N x N**, where N is the number of documents in the corpus.\n",
    "\n",
    "* At cell in row `i` and column `j` the value is the cosine similarity of documents in index `i` and `j`.\n",
    "* `sim[i, j] = cosine(doc[i], doc[j])`\n",
    "* This matrix is symetric. `sim[i, j] = sim[j, i]`\n",
    "* The diagonal is made of `1`.\n",
    "\n",
    "It derives from the Term-Document Matrix."
   ]
  },
  {
   "cell_type": "code",
   "execution_count": null,
   "metadata": {
    "id": "_vpIrXf-sAsG"
   },
   "outputs": [],
   "source": [
    "from sklearn.metrics.pairwise import cosine_similarity\n",
    "\n",
    "doc_sim = cosine_similarity(term_doc_book)"
   ]
  },
  {
   "cell_type": "markdown",
   "metadata": {
    "id": "OJDo5gL3uNWr"
   },
   "source": [
    "The similarity matrix is a dense matrix, it is a regular Numpy Array."
   ]
  },
  {
   "cell_type": "code",
   "execution_count": null,
   "metadata": {
    "colab": {
     "base_uri": "https://localhost:8080/"
    },
    "id": "1t7McN5st6Pi",
    "outputId": "ee3835d7-302b-4843-fca7-62f51f2bebf2"
   },
   "outputs": [
    {
     "name": "stdout",
     "output_type": "stream",
     "text": [
      "Type / Shape of Documents similarity matrix: <class 'numpy.ndarray'> (673, 673)\n"
     ]
    }
   ],
   "source": [
    "print(f'Type / Shape of Documents similarity matrix: {type(doc_sim)} {doc_sim.shape}')"
   ]
  },
  {
   "cell_type": "markdown",
   "metadata": {
    "id": "KSVXI30yupgs"
   },
   "source": [
    "Top 10 of the most similar to a document."
   ]
  },
  {
   "cell_type": "code",
   "execution_count": null,
   "metadata": {
    "colab": {
     "base_uri": "https://localhost:8080/"
    },
    "id": "pABwP-54uMVE",
    "outputId": "55618212-13c8-4c5d-b63a-c72ad912efd1"
   },
   "outputs": [
    {
     "name": "stdout",
     "output_type": "stream",
     "text": [
      "Query: \"And that was how a great scandal threatened to affect the kingdom of Bohemia, and how the best plans of Mr. Sherlock Holmes were beaten by a woman's wit.\"\"\n",
      "\n",
      "\"Mr. Sherlock Holmes, I believe?\"                                                                                                             0.363696\n",
      "To Sherlock Holmes she is always the woman.                                                                                                   0.344265\n",
      "\"Well, I followed you to your door, and so made sure that I was really an object of interest to the celebrated Mr. Sherlock Holmes.           0.233380\n",
      "It was dated at midnight of the preceding night and ran in this way: \"My dear Mr. Sherlock Holmes: \"You really did it very well.              0.200643\n",
      "I leave a photograph which he might care to possess; and I remain, dear Mr. Sherlock Holmes, \"Very truly yours, \"Irene Norton, née Adler.\"    0.185185\n",
      "Sherlock Holmes staggered back, white with chagrin and surprise.                                                                              0.174078\n",
      "he cried, grasping Sherlock Holmes by either shoulder and looking eagerly into his face.                                                      0.149071\n",
      "\"What a woman--oh, what a woman!\"                                                                                                             0.145479\n",
      "He was searching his pockets for the key when someone passing said: \"Good-night, Mister Sherlock Holmes.\"                                     0.132453\n",
      "The photograph was of Irene Adler herself in evening dress, the letter was superscribed to \"Sherlock Holmes, Esq.                             0.132453\n",
      "dtype: float64\n"
     ]
    }
   ],
   "source": [
    "import pandas as pd\n",
    "\n",
    "index = 665\n",
    "query = sentences[index]\n",
    "\n",
    "print(f'Query: \"{query}\"\"')\n",
    "print()\n",
    "\n",
    "sims = pd.Series(doc_sim[index, :], index=sentences).sort_values(ascending=False)[1:11]\n",
    "print(sims)"
   ]
  },
  {
   "cell_type": "markdown",
   "metadata": {
    "id": "yORkOf7dvdmB"
   },
   "source": [
    "# Terms Similarity Matrix"
   ]
  },
  {
   "cell_type": "markdown",
   "metadata": {
    "id": "mkto7mTqvg9K"
   },
   "source": [
    "When we transpose the Term-Document Matrix, we have terms as rows and documents as columns.\n",
    "\n",
    "If we consider these rows as term vectors, we have a vector representation for terms.\n",
    "\n",
    "After all, similar words (words with close-by meaning) will appear in similar documents.."
   ]
  },
  {
   "cell_type": "code",
   "execution_count": null,
   "metadata": {
    "id": "9mxF_xETu2on"
   },
   "outputs": [],
   "source": [
    "from sklearn.metrics.pairwise import cosine_similarity\n",
    "\n",
    "term_sim = cosine_similarity(term_doc_book.T)"
   ]
  },
  {
   "cell_type": "code",
   "execution_count": null,
   "metadata": {
    "colab": {
     "base_uri": "https://localhost:8080/"
    },
    "id": "7YzY-gMgwOiO",
    "outputId": "1f1d36cf-cbeb-4b79-f3c8-8f4bdb643d00"
   },
   "outputs": [
    {
     "name": "stdout",
     "output_type": "stream",
     "text": [
      "Type / Shape of Documents similarity matrix: <class 'numpy.ndarray'> (4282, 4282)\n"
     ]
    }
   ],
   "source": [
    "print(f'Type / Shape of Documents similarity matrix: {type(term_sim)} {term_sim.shape}')"
   ]
  },
  {
   "cell_type": "code",
   "execution_count": null,
   "metadata": {
    "colab": {
     "base_uri": "https://localhost:8080/"
    },
    "id": "8iEFMRLLwQ6o",
    "outputId": "2b504595-d04a-4ffc-ea9a-c0ed13c1f8cc"
   },
   "outputs": [
    {
     "name": "stdout",
     "output_type": "stream",
     "text": [
      "Query: \"sherlock\" appears in 12 documents\n",
      "\n",
      "sherlock holmes    0.957427\n",
      "mr sherlock        0.645497\n",
      "mr                 0.481125\n",
      "holmes             0.458333\n",
      "dear mr            0.408248\n",
      "dress letter       0.288675\n",
      "best plans         0.288675\n",
      "holmes esq         0.288675\n",
      "said good          0.288675\n",
      "remain dear        0.288675\n",
      "dtype: float64\n"
     ]
    }
   ],
   "source": [
    "import pandas as pd\n",
    "\n",
    "query = 'sherlock'\n",
    "index = vocab_book.index(query)\n",
    "\n",
    "column = term_doc_book[:, index]  # Still a sparse matrix, with only 1 column\n",
    "print(f'Query: \"{query}\" appears in {column.nnz} documents')\n",
    "print()\n",
    "\n",
    "sims = pd.Series(term_sim[index, :], index=vocab_book).sort_values(ascending=False)[1:11]\n",
    "print(sims)"
   ]
  },
  {
   "cell_type": "code",
   "execution_count": null,
   "metadata": {
    "id": "zXcA7wYrwctj"
   },
   "outputs": [],
   "source": []
  }
 ],
 "metadata": {
  "colab": {
   "collapsed_sections": [],
   "name": "Term-Document Matrix",
   "provenance": [],
   "toc_visible": true
  },
  "kernelspec": {
   "display_name": "Python 3",
   "language": "python",
   "name": "python3"
  },
  "language_info": {
   "codemirror_mode": {
    "name": "ipython",
    "version": 3
   },
   "file_extension": ".py",
   "mimetype": "text/x-python",
   "name": "python",
   "nbconvert_exporter": "python",
   "pygments_lexer": "ipython3",
   "version": "3.8.5"
  }
 },
 "nbformat": 4,
 "nbformat_minor": 1
}
