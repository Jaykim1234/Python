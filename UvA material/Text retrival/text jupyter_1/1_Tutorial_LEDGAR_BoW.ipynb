{
  "nbformat": 4,
  "nbformat_minor": 0,
  "metadata": {
    "colab": {
      "name": "01 Tutorial LEDGAR - BoW",
      "provenance": [],
      "collapsed_sections": []
    },
    "kernelspec": {
      "name": "python3",
      "display_name": "Python 3"
    }
  },
  "cells": [
    {
      "cell_type": "markdown",
      "metadata": {
        "id": "n9dhzHMWsSF2"
      },
      "source": [
        "# Tutorial 1 - Legal Clause Classification"
      ]
    },
    {
      "cell_type": "markdown",
      "metadata": {
        "id": "VZjEfsllsXqG"
      },
      "source": [
        "Our corpus today is [LEDGAR](https://www.aclweb.org/anthology/2020.lrec-1.155.pdf), a dataset proposed in 2020 by Tuggener et al.\n",
        "\n",
        "Each document is a provision from an actual contract, written in English.\n",
        "\n",
        "A typical task of automatic discovery of contracts is the labeling of each provision. Today, we will build a classifier that can predict the label of a legal provision."
      ]
    },
    {
      "cell_type": "markdown",
      "metadata": {
        "id": "lKgUNPzBKx6Z"
      },
      "source": [
        "# Pre-Requisites\n"
      ]
    },
    {
      "cell_type": "markdown",
      "metadata": {
        "id": "zXpo6bOoK0qY"
      },
      "source": [
        "* Machine Learning: \n",
        "   * `sklearn` LogisticRegression, Pipeline, GridSearchCV\n",
        "   * Train / Test split, Cross-Validation\n",
        "* Text Vectorization\n",
        "   * Count Vectorizer parameters\n",
        "   * Vocabulary\n",
        "   * Stop Words\n",
        "* Useful modules\n",
        "   * pandas\n",
        "   * numpy\n",
        "   * matplotlib\n",
        "* Platform\n",
        "   * Colab has the advantage that the downloads are quite fast, and it comes with a good amount of RAM\n",
        "   * BUT it gives only 1 CPU, so computations can be slow, and parallelism will not improve\n",
        "   * If you use your own instance of Notebook on your laptop, the download might take more time, consider this and **download in advance**"
      ]
    },
    {
      "cell_type": "markdown",
      "metadata": {
        "id": "YFVqj8oXtXiX"
      },
      "source": [
        "# Download"
      ]
    },
    {
      "cell_type": "markdown",
      "metadata": {
        "id": "p2Y38o8OO648"
      },
      "source": [
        "If you want to download it on your own:\n",
        "* Here is the [Download Page](https://drive.switch.ch/index.php/s/j9S0GRMAbGZKa1A)\n",
        "* Select `LEDGAR_2016-2019_clean.jsonl.zip`\n",
        "* Download it to your disk\n",
        "* Unzip it: it will create a file named `LEDGAR_2016-2019_clean.jsonl`\n"
      ]
    },
    {
      "cell_type": "code",
      "metadata": {
        "id": "zq5nGku9sisO",
        "colab": {
          "base_uri": "https://localhost:8080/"
        },
        "outputId": "d72eec95-b6c3-4867-ece8-62f5a199cc03"
      },
      "source": [
        "!curl --header 'Host: drive.switch.ch' --user-agent 'Mozilla/5.0 (X11; Ubuntu; Linux x86_64; rv:83.0) Gecko/20100101 Firefox/83.0' --header 'Accept: text/html,application/xhtml+xml,application/xml;q=0.9,image/webp,*/*;q=0.8' --header 'Accept-Language: en-US,en;q=0.5' --header 'DNT: 1' --referer 'https://drive.switch.ch/index.php/s/j9S0GRMAbGZKa1A' --cookie 'oc641cdd42e0=13fa9330b2ce3965b18f77fa775559a5; oc_sessionPassphrase=R8jPmBjCrGkdXvI6wU%2FsMQZUqXCizggT9Aeafu3cvoXN671zkATnNRIQDSPQ4wnI7DuS6BRugjqGEjXOASVujRWxtO8BFm%2B56mMQBKUPMPucLCzrehfVBGyP0i06dh9c' --header 'Upgrade-Insecure-Requests: 1' 'https://drive.switch.ch/index.php/s/j9S0GRMAbGZKa1A/download?path=%2F&files=LEDGAR_2016-2019_clean.jsonl.zip&downloadStartSecret=038u1w43io1e' --output 'LEDGAR_2016-2019_clean.jsonl.zip'"
      ],
      "execution_count": null,
      "outputs": [
        {
          "output_type": "stream",
          "text": [
            "  % Total    % Received % Xferd  Average Speed   Time    Time     Time  Current\n",
            "                                 Dload  Upload   Total   Spent    Left  Speed\n",
            "100  164M  100  164M    0     0  6926k      0  0:00:24  0:00:24 --:--:-- 12.4M\n"
          ],
          "name": "stdout"
        }
      ]
    },
    {
      "cell_type": "code",
      "metadata": {
        "id": "oxALqM38slEA",
        "colab": {
          "base_uri": "https://localhost:8080/"
        },
        "outputId": "5c57067d-2762-431b-a527-57451d168481"
      },
      "source": [
        "!unzip LEDGAR_2016-2019_clean.jsonl.zip -d /tmp/LEDGAR"
      ],
      "execution_count": null,
      "outputs": [
        {
          "output_type": "stream",
          "text": [
            "Archive:  LEDGAR_2016-2019_clean.jsonl.zip\n",
            "  inflating: /tmp/LEDGAR/LEDGAR_2016-2019_clean.jsonl  \n"
          ],
          "name": "stdout"
        }
      ]
    },
    {
      "cell_type": "markdown",
      "metadata": {
        "id": "b298XHzstewq"
      },
      "source": [
        "# Prepare Data"
      ]
    },
    {
      "cell_type": "markdown",
      "metadata": {
        "id": "rhW02bRcx9zw"
      },
      "source": [
        "The original dataset has a list of labels for each legal provision. In the code hereafter, we reduce our scope to the Top 20 most frequent labels, and assign only one label to each provision."
      ]
    },
    {
      "cell_type": "markdown",
      "metadata": {
        "id": "1CGrMvAOPm7Q"
      },
      "source": [
        "\n",
        "\n",
        "---\n",
        "\n",
        "\n",
        "Adjust the path to the JSONL file if needed"
      ]
    },
    {
      "cell_type": "code",
      "metadata": {
        "id": "Qdglr50auyPe"
      },
      "source": [
        "import json\n",
        "data = [json.loads(line) for line in open('/tmp/LEDGAR/LEDGAR_2016-2019_clean.jsonl')]\n"
      ],
      "execution_count": null,
      "outputs": []
    },
    {
      "cell_type": "code",
      "metadata": {
        "id": "4oEvFCgGvh1b",
        "colab": {
          "base_uri": "https://localhost:8080/"
        },
        "outputId": "6e18ef99-2b27-44f1-d83c-6d625a5226ed"
      },
      "source": [
        "import pandas as pd\n",
        "df = pd.DataFrame(data)\n",
        "df = df.drop(columns=['source'])\n",
        "print(f'Shape: {df.shape}')\n",
        "print(f'Columns: {df.columns}')"
      ],
      "execution_count": null,
      "outputs": [
        {
          "output_type": "stream",
          "text": [
            "Shape: (846274, 2)\n",
            "Columns: Index(['provision', 'label'], dtype='object')\n"
          ],
          "name": "stdout"
        }
      ]
    },
    {
      "cell_type": "code",
      "metadata": {
        "id": "h2Ms_vYpxfha",
        "colab": {
          "base_uri": "https://localhost:8080/",
          "height": 669
        },
        "outputId": "9f752425-a77b-4e41-89be-2886524c9209"
      },
      "source": [
        "df.sample(20)"
      ],
      "execution_count": null,
      "outputs": [
        {
          "output_type": "execute_result",
          "data": {
            "text/html": [
              "<div>\n",
              "<style scoped>\n",
              "    .dataframe tbody tr th:only-of-type {\n",
              "        vertical-align: middle;\n",
              "    }\n",
              "\n",
              "    .dataframe tbody tr th {\n",
              "        vertical-align: top;\n",
              "    }\n",
              "\n",
              "    .dataframe thead th {\n",
              "        text-align: right;\n",
              "    }\n",
              "</style>\n",
              "<table border=\"1\" class=\"dataframe\">\n",
              "  <thead>\n",
              "    <tr style=\"text-align: right;\">\n",
              "      <th></th>\n",
              "      <th>provision</th>\n",
              "      <th>label</th>\n",
              "    </tr>\n",
              "  </thead>\n",
              "  <tbody>\n",
              "    <tr>\n",
              "      <th>270277</th>\n",
              "      <td>Subject to Article 5, the Corporation reserves...</td>\n",
              "      <td>[adoption, amendments]</td>\n",
              "    </tr>\n",
              "    <tr>\n",
              "      <th>116841</th>\n",
              "      <td>The headings contained in this Agreement are f...</td>\n",
              "      <td>[headings]</td>\n",
              "    </tr>\n",
              "    <tr>\n",
              "      <th>281062</th>\n",
              "      <td>From and after the Effective Date and during t...</td>\n",
              "      <td>[benefits]</td>\n",
              "    </tr>\n",
              "    <tr>\n",
              "      <th>478459</th>\n",
              "      <td>The Employee and the Company agree that this T...</td>\n",
              "      <td>[interpretations]</td>\n",
              "    </tr>\n",
              "    <tr>\n",
              "      <th>673174</th>\n",
              "      <td>Subject to compliance with any applicable secu...</td>\n",
              "      <td>[transferability]</td>\n",
              "    </tr>\n",
              "    <tr>\n",
              "      <th>603324</th>\n",
              "      <td>In the event of a termination of Executive's e...</td>\n",
              "      <td>[exclusive remedy]</td>\n",
              "    </tr>\n",
              "    <tr>\n",
              "      <th>663552</th>\n",
              "      <td>Each Party hereby agrees to take all such acti...</td>\n",
              "      <td>[further assurances]</td>\n",
              "    </tr>\n",
              "    <tr>\n",
              "      <th>410889</th>\n",
              "      <td>Upon the Collateral Custodian’s receipt of a C...</td>\n",
              "      <td>[successor collateral custodian]</td>\n",
              "    </tr>\n",
              "    <tr>\n",
              "      <th>763178</th>\n",
              "      <td>Any and all notices or other communications or...</td>\n",
              "      <td>[notices]</td>\n",
              "    </tr>\n",
              "    <tr>\n",
              "      <th>725926</th>\n",
              "      <td>Other than with respect to Permitted Policy Am...</td>\n",
              "      <td>[modification of investment policies]</td>\n",
              "    </tr>\n",
              "    <tr>\n",
              "      <th>81458</th>\n",
              "      <td>The Company may, in its sole discretion, decid...</td>\n",
              "      <td>[participations, electronic delivery]</td>\n",
              "    </tr>\n",
              "    <tr>\n",
              "      <th>326739</th>\n",
              "      <td>All insurance policies shall (i) within 30 day...</td>\n",
              "      <td>[maintenance of insurance]</td>\n",
              "    </tr>\n",
              "    <tr>\n",
              "      <th>78993</th>\n",
              "      <td>Subject to Section 7.13, the payment described...</td>\n",
              "      <td>[timing]</td>\n",
              "    </tr>\n",
              "    <tr>\n",
              "      <th>837812</th>\n",
              "      <td>Notwithstanding that a Letter of Credit issued...</td>\n",
              "      <td>[letters of credit issued for subsidiaries]</td>\n",
              "    </tr>\n",
              "    <tr>\n",
              "      <th>106249</th>\n",
              "      <td>The headings in this Agreement are for the pur...</td>\n",
              "      <td>[headings]</td>\n",
              "    </tr>\n",
              "    <tr>\n",
              "      <th>816309</th>\n",
              "      <td>Landlord shall carry at all times during the T...</td>\n",
              "      <td>[required insurance]</td>\n",
              "    </tr>\n",
              "    <tr>\n",
              "      <th>381656</th>\n",
              "      <td>If the Borrower or Holdings, as applicable sha...</td>\n",
              "      <td>[default interests]</td>\n",
              "    </tr>\n",
              "    <tr>\n",
              "      <th>681389</th>\n",
              "      <td>Applicant shall maintain all required insuranc...</td>\n",
              "      <td>[insurances]</td>\n",
              "    </tr>\n",
              "    <tr>\n",
              "      <th>116078</th>\n",
              "      <td>The recitals set forth above are complete and ...</td>\n",
              "      <td>[miscellaneous]</td>\n",
              "    </tr>\n",
              "    <tr>\n",
              "      <th>839774</th>\n",
              "      <td>The Issuer at any time may deliver Notes to th...</td>\n",
              "      <td>[cancellations]</td>\n",
              "    </tr>\n",
              "  </tbody>\n",
              "</table>\n",
              "</div>"
            ],
            "text/plain": [
              "                                                provision                                        label\n",
              "270277  Subject to Article 5, the Corporation reserves...                       [adoption, amendments]\n",
              "116841  The headings contained in this Agreement are f...                                   [headings]\n",
              "281062  From and after the Effective Date and during t...                                   [benefits]\n",
              "478459  The Employee and the Company agree that this T...                            [interpretations]\n",
              "673174  Subject to compliance with any applicable secu...                            [transferability]\n",
              "603324  In the event of a termination of Executive's e...                           [exclusive remedy]\n",
              "663552  Each Party hereby agrees to take all such acti...                         [further assurances]\n",
              "410889  Upon the Collateral Custodian’s receipt of a C...             [successor collateral custodian]\n",
              "763178  Any and all notices or other communications or...                                    [notices]\n",
              "725926  Other than with respect to Permitted Policy Am...        [modification of investment policies]\n",
              "81458   The Company may, in its sole discretion, decid...        [participations, electronic delivery]\n",
              "326739  All insurance policies shall (i) within 30 day...                   [maintenance of insurance]\n",
              "78993   Subject to Section 7.13, the payment described...                                     [timing]\n",
              "837812  Notwithstanding that a Letter of Credit issued...  [letters of credit issued for subsidiaries]\n",
              "106249  The headings in this Agreement are for the pur...                                   [headings]\n",
              "816309  Landlord shall carry at all times during the T...                         [required insurance]\n",
              "381656  If the Borrower or Holdings, as applicable sha...                          [default interests]\n",
              "681389  Applicant shall maintain all required insuranc...                                 [insurances]\n",
              "116078  The recitals set forth above are complete and ...                              [miscellaneous]\n",
              "839774  The Issuer at any time may deliver Notes to th...                              [cancellations]"
            ]
          },
          "metadata": {
            "tags": []
          },
          "execution_count": 5
        }
      ]
    },
    {
      "cell_type": "code",
      "metadata": {
        "id": "5GFRjlMGx5Jt",
        "colab": {
          "base_uri": "https://localhost:8080/"
        },
        "outputId": "71d3c3a7-71fc-4104-f3da-53c713f6ba1a"
      },
      "source": [
        "type(df.iloc[0]['label'])"
      ],
      "execution_count": null,
      "outputs": [
        {
          "output_type": "execute_result",
          "data": {
            "text/plain": [
              "list"
            ]
          },
          "metadata": {
            "tags": []
          },
          "execution_count": 6
        }
      ]
    },
    {
      "cell_type": "code",
      "metadata": {
        "id": "K7OmBhakyFet",
        "colab": {
          "base_uri": "https://localhost:8080/"
        },
        "outputId": "b0d04df2-69cc-4025-ef73-2b572ffc4bef"
      },
      "source": [
        "df['nb_labels'] = df['label'].apply(len)\n",
        "print(df['nb_labels'].value_counts())"
      ],
      "execution_count": null,
      "outputs": [
        {
          "output_type": "stream",
          "text": [
            "1    707151\n",
            "2    118525\n",
            "3     17749\n",
            "4      2338\n",
            "5       408\n",
            "6        58\n",
            "7        40\n",
            "8         5\n",
            "Name: nb_labels, dtype: int64\n"
          ],
          "name": "stdout"
        }
      ]
    },
    {
      "cell_type": "markdown",
      "metadata": {
        "id": "wpcz1rj_9jJw"
      },
      "source": [
        "<a id='focus'></a>\n",
        "## Focus on some labels\n"
      ]
    },
    {
      "cell_type": "markdown",
      "metadata": {
        "id": "l3uYFjLHAyf3"
      },
      "source": [
        "Each provision is associated to a list of labels. For this tutorial, we will focus on predicting a single label for each provision, and we will restrict the list of different labels.\n",
        "\n",
        "We will focus on only the TOP N most frequent labels. \n",
        "\n",
        "Adjust the variable `FOCUS_ON_TOP_N` to the number of labels you want to consider.\n",
        "\n",
        "We start with 2.\n",
        "\n",
        "\n"
      ]
    },
    {
      "cell_type": "code",
      "metadata": {
        "id": "S9AyLcPM9u2V"
      },
      "source": [
        "FOCUS_ON_TOP_N = 2"
      ],
      "execution_count": null,
      "outputs": []
    },
    {
      "cell_type": "code",
      "metadata": {
        "id": "BMWL5k9IbvZj",
        "colab": {
          "base_uri": "https://localhost:8080/"
        },
        "outputId": "aee7e649-8709-41e2-d448-d1cdc64c6d9e"
      },
      "source": [
        "all_labels = [x for ls in df['label'] for x in ls]\n",
        "proto_labels = pd.Series(all_labels).value_counts()[:FOCUS_ON_TOP_N].index\n",
        "print(proto_labels)"
      ],
      "execution_count": null,
      "outputs": [
        {
          "output_type": "stream",
          "text": [
            "Index(['governing laws', 'amendments'], dtype='object')\n"
          ],
          "name": "stdout"
        }
      ]
    },
    {
      "cell_type": "code",
      "metadata": {
        "id": "xY-9rXgUxWW2",
        "colab": {
          "base_uri": "https://localhost:8080/"
        },
        "outputId": "928a82da-666e-4249-fe06-d5d7aa8e469e"
      },
      "source": [
        "focus = df[df['label'].apply(lambda x: any((z in x for z in proto_labels)))]\n",
        "print(f'FOCUS on {focus.shape[0]} documents')"
      ],
      "execution_count": null,
      "outputs": [
        {
          "output_type": "stream",
          "text": [
            "FOCUS on 30582 documents\n"
          ],
          "name": "stdout"
        }
      ]
    },
    {
      "cell_type": "code",
      "metadata": {
        "id": "k97mdSOScpV8"
      },
      "source": [
        "def select_label(list_labels):\n",
        "    for x in proto_labels:\n",
        "        try:\n",
        "            idx = list_labels.index(x)\n",
        "            return list_labels[idx]\n",
        "        except ValueError:\n",
        "            continue\n",
        "   \n",
        "    raise ValueError\n",
        "\n",
        "y = focus['label'].apply(select_label)\n",
        "X = focus['provision']"
      ],
      "execution_count": null,
      "outputs": []
    },
    {
      "cell_type": "code",
      "metadata": {
        "id": "pCtHicgVuBvQ",
        "colab": {
          "base_uri": "https://localhost:8080/"
        },
        "outputId": "725083e4-7b5e-4020-f5a8-7a7a80f0a899"
      },
      "source": [
        "print('Labels :')\n",
        "print(y[:10])\n",
        "print()\n",
        "print('Provisions :')\n",
        "print(X[:10])"
      ],
      "execution_count": null,
      "outputs": [
        {
          "output_type": "stream",
          "text": [
            "Labels :\n",
            "17         amendments\n",
            "61     governing laws\n",
            "81         amendments\n",
            "83     governing laws\n",
            "115        amendments\n",
            "143    governing laws\n",
            "165        amendments\n",
            "167    governing laws\n",
            "173    governing laws\n",
            "190        amendments\n",
            "Name: label, dtype: object\n",
            "\n",
            "Provisions :\n",
            "17     That Defaulting Lender’s right to approve or d...\n",
            "61     The validity, interpretation, construction and...\n",
            "81     This Agreement contains the entire agreement b...\n",
            "83     This Agreement shall be governed by and constr...\n",
            "115    The provisions of this Agreement, or any other...\n",
            "143    This Agreement shall be construed and enforced...\n",
            "165    Any term, covenant, or condition of this Note ...\n",
            "167    This Note shall be governed by and construed i...\n",
            "173    This Amendment shall be governed by and constr...\n",
            "190    The issuance by the Agent of any amendment, su...\n",
            "Name: provision, dtype: object\n"
          ],
          "name": "stdout"
        }
      ]
    },
    {
      "cell_type": "markdown",
      "metadata": {
        "id": "LMSOZlX2t3W9"
      },
      "source": [
        "# EXERCISE: Classification"
      ]
    },
    {
      "cell_type": "markdown",
      "metadata": {
        "id": "qmAXYJUlyXJN"
      },
      "source": [
        "Your task for this tutorial is to use Text Representation and Machine Learning in order to predict the label for each provision.\n",
        "\n",
        "* **IN**: the text of a provision\n",
        "* **OUT**: a predicted label\n",
        "\n",
        "The starting point is to define the terms:\n",
        "* **CORPUS**:??\n",
        "* **DOCUMENT**: ??\n",
        "* **TASK**: ??"
      ]
    },
    {
      "cell_type": "markdown",
      "metadata": {
        "id": "MlOIyhVJzR5t"
      },
      "source": [
        "Now the starting point: we split Train/Test.\n",
        "* All vectorizer, etc... will be `fit()` or `fit_transform()` on the **TRAIN** set\n",
        "* The **TEST** set will be `transform()`\n",
        "* We use `stratify` to make sure the class balance is the same in TRAIN and TEST"
      ]
    },
    {
      "cell_type": "code",
      "metadata": {
        "id": "v-RI21wuoG-b"
      },
      "source": [
        "from sklearn.model_selection import train_test_split\n",
        "X_train, X_test, y_train, y_test = train_test_split(X, y, test_size=0.1, stratify=y)"
      ],
      "execution_count": null,
      "outputs": []
    },
    {
      "cell_type": "markdown",
      "metadata": {
        "id": "UV6aI9x9zLpZ"
      },
      "source": [
        "## TODO - Vocabulary / BoW"
      ]
    },
    {
      "cell_type": "markdown",
      "metadata": {
        "id": "2-2VJIlAz7jj"
      },
      "source": [
        "Use `CountVectorizer` or `TfidfVectorizer` to create the Vocabulary\n",
        "* Use some values for `min_df`, `max_df`, `ngram_range`, `max_features`\n",
        "* Select `stop_words='english'`\n",
        "* Display the size of the vocabulary\n",
        "* Display random terms from the vocabulary"
      ]
    },
    {
      "cell_type": "code",
      "metadata": {
        "id": "J26Vus_ovj1I"
      },
      "source": [
        "# TODO - Instantiate a Vectorizer\n",
        "vect = CountVectorizer(....)\n",
        "\n",
        "# fit it to the TRAIN texts\n",
        "fit(...)\n",
        "# transform the TRAIN texts into TRAIN BoW\n",
        "\n",
        "train_bow = vect.trans\n",
        "test_bow = \n",
        "# transform the TEST texts into TEST BoW"
      ],
      "execution_count": null,
      "outputs": []
    },
    {
      "cell_type": "code",
      "metadata": {
        "id": "kKUxkP4Cvl7u"
      },
      "source": [
        "# TODO - VOCABULARY\n",
        "vocabulary = vect.feature()\n",
        "# print the vocabulary size\n",
        "# print random terms"
      ],
      "execution_count": null,
      "outputs": []
    },
    {
      "cell_type": "markdown",
      "metadata": {
        "id": "XmK3kQWv1K3P"
      },
      "source": [
        "## TODO - Machine Learning"
      ]
    },
    {
      "cell_type": "markdown",
      "metadata": {
        "id": "lKG-grFU1YYC"
      },
      "source": [
        "Train a  `LogisticRegression` model on this classification task.\n",
        "\n",
        "Remember Machine Learning 101:\n",
        "* `fit` your model on the **TRAIN** data\n",
        "* evaluate on the **TEST** data"
      ]
    },
    {
      "cell_type": "code",
      "metadata": {
        "id": "2UjoYjf2e8sb"
      },
      "source": [
        "# TODO - Instantiate a LogisticRegression\n",
        "# fit it to your TRAIN data"
      ],
      "execution_count": null,
      "outputs": []
    },
    {
      "cell_type": "code",
      "metadata": {
        "id": "y_cHDawCgAlr"
      },
      "source": [
        "# TODO - Evaluate on the TEST data\n",
        "# Use classification_report\n",
        "\n",
        "classification_report(y_true=y_test, y_pred=clf.predict(X_test_bow))"
      ],
      "execution_count": null,
      "outputs": []
    },
    {
      "cell_type": "markdown",
      "metadata": {
        "id": "NA3cW4PA2xvU"
      },
      "source": [
        "For this part, it is expected that the classifier is a variable named `clf`."
      ]
    },
    {
      "cell_type": "markdown",
      "metadata": {
        "id": "Wdju7vVyNG6k"
      },
      "source": [
        "## Visualization"
      ]
    },
    {
      "cell_type": "markdown",
      "metadata": {
        "id": "rK8AqSmw3GZB"
      },
      "source": [
        "This code will show you how to display which terms have the highest coeffs in the logistic regression. \n",
        "\n",
        "High coefficients are attributed to words that are good indicators for a class."
      ]
    },
    {
      "cell_type": "code",
      "metadata": {
        "id": "M9KRbVoNsD7c"
      },
      "source": [
        "# TODO - adjust names\n",
        "clf = yourclassifier\n",
        "words = yourvectorizer.get_feature_names()\n",
        "\n",
        "\n",
        "print(clf.coef_.shape)\n",
        "print(f'Nb Classes: {clf.coef_.shape[0]}, Nb Words: {clf.coef_.shape[1]}')"
      ],
      "execution_count": null,
      "outputs": []
    },
    {
      "cell_type": "code",
      "metadata": {
        "id": "nbF-0i5AsjS5"
      },
      "source": [
        "import numpy as np\n",
        "coefs = pd.DataFrame([{'class': clf.classes_[i], 'word': words[j], 'coef': co} for (i, j), co in np.ndenumerate(clf.coef_)])"
      ],
      "execution_count": null,
      "outputs": []
    },
    {
      "cell_type": "code",
      "metadata": {
        "id": "nuxpRkwTt-9S"
      },
      "source": [
        "coefs.shape"
      ],
      "execution_count": null,
      "outputs": []
    },
    {
      "cell_type": "code",
      "metadata": {
        "id": "FDnfJkaYujx4"
      },
      "source": [
        "sort_by_coef = coefs.groupby(['class']).apply(lambda x: x.sort_values('coef', ascending=False)).reset_index(drop=True)"
      ],
      "execution_count": null,
      "outputs": []
    },
    {
      "cell_type": "code",
      "metadata": {
        "id": "x16_oikwwY7C"
      },
      "source": [
        "import matplotlib.pyplot as plt\n",
        "\n",
        "fig, axs = plt.subplots(nrows=10, ncols=2, figsize=(20, 100))\n",
        "\n",
        "cut = 10\n",
        "\n",
        "for ((_, _), ax), (c, g) in zip(np.ndenumerate(axs), sort_by_coef.groupby('class')):\n",
        "    t_cut = g.head(cut)\n",
        "    ax.bar(x=range(cut), height=t_cut['coef'])\n",
        "    ax.set_xticks(range(cut))\n",
        "    ax.set_xticklabels(t_cut['word'], rotation=45, ha='right')\n",
        "    ax.set_title(c)\n",
        "\n",
        "plt.show()"
      ],
      "execution_count": null,
      "outputs": []
    },
    {
      "cell_type": "markdown",
      "metadata": {
        "id": "FICcZCo7Dk-R"
      },
      "source": [
        "## TODO - GridSearch"
      ]
    },
    {
      "cell_type": "markdown",
      "metadata": {
        "id": "C7sQ5YZJDqWN"
      },
      "source": [
        "* Go back to Section `Focus on some labels`\n",
        "* Adjust `FOCUS_ON_TOP_N` to 2 again\n",
        "* Create a `Pipeline` with a Vectorizer and a Logistic Regression\n",
        "* We want to run a GridSearch on different hyperparameters:\n",
        "   * coefficient `C` of the Logistic Regression\n",
        "   * parameter `ngram_range` of the Vectorizer\n",
        "\n",
        "For inspiration:\n",
        "* [SKlearn example](https://scikit-learn.org/stable/auto_examples/model_selection/grid_search_text_feature_extraction.html)\n",
        "* [Blog Post by Analytics Vidhya](https://medium.com/analytics-vidhya/ml-pipelines-using-scikit-learn-and-gridsearchcv-fe605a7f9e05)"
      ]
    },
    {
      "cell_type": "code",
      "metadata": {
        "id": "MMu-8zqom1h4"
      },
      "source": [
        "# TODO - Create the Pipeline: Vectorizer + LogisticRegression\n",
        "# Setup some of the parameters of the vectorizer (stop_words, ...) but NOT ngram_range"
      ],
      "execution_count": null,
      "outputs": []
    },
    {
      "cell_type": "code",
      "metadata": {
        "id": "HnIO2sZ_KRLg"
      },
      "source": [
        "# TODO - Create the hyperparameter search space\n",
        "# if a pipeline step is named 'step' and it has a parameter 'parameter', then the parameter dictionary must have an entry 'step__parameter'"
      ],
      "execution_count": null,
      "outputs": []
    },
    {
      "cell_type": "code",
      "metadata": {
        "id": "ELvXfrDkKhQf"
      },
      "source": [
        "# TODO - Fit the grid to the training data"
      ],
      "execution_count": null,
      "outputs": []
    },
    {
      "cell_type": "code",
      "metadata": {
        "id": "vD8XqoN-Kmyi"
      },
      "source": [
        "# TODO - Print the best score, the best params\n",
        "# TODO - Print the classification report with the TEST data"
      ],
      "execution_count": null,
      "outputs": []
    },
    {
      "cell_type": "code",
      "metadata": {
        "id": "ud6_XRueKuk0"
      },
      "source": [
        ""
      ],
      "execution_count": null,
      "outputs": []
    },
    {
      "cell_type": "markdown",
      "metadata": {
        "id": "CXaihMto_IbL"
      },
      "source": [
        "## TODO - More Labels"
      ]
    },
    {
      "cell_type": "markdown",
      "metadata": {
        "id": "FV6IyzqL_OI1"
      },
      "source": [
        "This is an exploration of the difficulty to carry out more complex tasks, by having more and more classes, more and more documents to deal with.\n",
        "\n",
        "* Go back to Section `Focus on some labels` higher up.\n",
        "* Adjust the variable `FOCUS_ON_TOP_N` to a higher value (4, 6)\n",
        "* Execute all cells of `Focus on some labels`, `Vocabulary`, `Machine Learning`\n",
        "* See how long it takes to `fit` the training data again (the `%%timeit` displays it)"
      ]
    }
  ]
}