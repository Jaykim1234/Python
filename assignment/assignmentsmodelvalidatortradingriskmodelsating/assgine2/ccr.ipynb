{
 "cells": [
  {
   "cell_type": "code",
   "execution_count": 212,
   "metadata": {},
   "outputs": [],
   "source": [
    "import numpy as np\n",
    "import pandas as pd\n",
    "from matplotlib import pyplot as plt\n",
    "from scipy import stats"
   ]
  },
  {
   "cell_type": "code",
   "execution_count": null,
   "metadata": {},
   "outputs": [],
   "source": []
  },
  {
   "cell_type": "code",
   "execution_count": 213,
   "metadata": {},
   "outputs": [
    {
     "data": {
      "text/html": [
       "<div>\n",
       "<style scoped>\n",
       "    .dataframe tbody tr th:only-of-type {\n",
       "        vertical-align: middle;\n",
       "    }\n",
       "\n",
       "    .dataframe tbody tr th {\n",
       "        vertical-align: top;\n",
       "    }\n",
       "\n",
       "    .dataframe thead th {\n",
       "        text-align: right;\n",
       "    }\n",
       "</style>\n",
       "<table border=\"1\" class=\"dataframe\">\n",
       "  <thead>\n",
       "    <tr style=\"text-align: right;\">\n",
       "      <th></th>\n",
       "      <th>DATE</th>\n",
       "      <th>EURUSD</th>\n",
       "    </tr>\n",
       "  </thead>\n",
       "  <tbody>\n",
       "    <tr>\n",
       "      <th>0</th>\n",
       "      <td>2018-08-01 23:59:59</td>\n",
       "      <td>1.16715</td>\n",
       "    </tr>\n",
       "    <tr>\n",
       "      <th>1</th>\n",
       "      <td>2018-07-31 23:59:59</td>\n",
       "      <td>1.16985</td>\n",
       "    </tr>\n",
       "    <tr>\n",
       "      <th>2</th>\n",
       "      <td>2018-07-30 23:59:59</td>\n",
       "      <td>1.17120</td>\n",
       "    </tr>\n",
       "    <tr>\n",
       "      <th>3</th>\n",
       "      <td>2018-07-27 23:59:59</td>\n",
       "      <td>1.16545</td>\n",
       "    </tr>\n",
       "    <tr>\n",
       "      <th>4</th>\n",
       "      <td>2018-07-26 23:59:59</td>\n",
       "      <td>1.16620</td>\n",
       "    </tr>\n",
       "    <tr>\n",
       "      <th>...</th>\n",
       "      <td>...</td>\n",
       "      <td>...</td>\n",
       "    </tr>\n",
       "    <tr>\n",
       "      <th>2604</th>\n",
       "      <td>2008-08-07 23:59:59</td>\n",
       "      <td>1.53770</td>\n",
       "    </tr>\n",
       "    <tr>\n",
       "      <th>2605</th>\n",
       "      <td>2008-08-06 23:59:59</td>\n",
       "      <td>1.54215</td>\n",
       "    </tr>\n",
       "    <tr>\n",
       "      <th>2606</th>\n",
       "      <td>2008-08-05 23:59:59</td>\n",
       "      <td>1.54870</td>\n",
       "    </tr>\n",
       "    <tr>\n",
       "      <th>2607</th>\n",
       "      <td>2008-08-04 23:59:59</td>\n",
       "      <td>1.56130</td>\n",
       "    </tr>\n",
       "    <tr>\n",
       "      <th>2608</th>\n",
       "      <td>2008-08-01 23:59:59</td>\n",
       "      <td>1.55605</td>\n",
       "    </tr>\n",
       "  </tbody>\n",
       "</table>\n",
       "<p>2609 rows × 2 columns</p>\n",
       "</div>"
      ],
      "text/plain": [
       "                    DATE   EURUSD\n",
       "0    2018-08-01 23:59:59  1.16715\n",
       "1    2018-07-31 23:59:59  1.16985\n",
       "2    2018-07-30 23:59:59  1.17120\n",
       "3    2018-07-27 23:59:59  1.16545\n",
       "4    2018-07-26 23:59:59  1.16620\n",
       "...                  ...      ...\n",
       "2604 2008-08-07 23:59:59  1.53770\n",
       "2605 2008-08-06 23:59:59  1.54215\n",
       "2606 2008-08-05 23:59:59  1.54870\n",
       "2607 2008-08-04 23:59:59  1.56130\n",
       "2608 2008-08-01 23:59:59  1.55605\n",
       "\n",
       "[2609 rows x 2 columns]"
      ]
     },
     "metadata": {},
     "output_type": "display_data"
    }
   ],
   "source": [
    "# Read data file\n",
    "\n",
    "df = pd.read_excel('/Users/jinhyun/Documents/GitHub/Python/assignment/assignmentsmodelvalidatortradingriskmodelsating/2. CCR FXselected.xlsx') # imports the data\n",
    "display(df)"
   ]
  },
  {
   "cell_type": "code",
   "execution_count": 214,
   "metadata": {},
   "outputs": [
    {
     "data": {
      "text/html": [
       "<div>\n",
       "<style scoped>\n",
       "    .dataframe tbody tr th:only-of-type {\n",
       "        vertical-align: middle;\n",
       "    }\n",
       "\n",
       "    .dataframe tbody tr th {\n",
       "        vertical-align: top;\n",
       "    }\n",
       "\n",
       "    .dataframe thead th {\n",
       "        text-align: right;\n",
       "    }\n",
       "</style>\n",
       "<table border=\"1\" class=\"dataframe\">\n",
       "  <thead>\n",
       "    <tr style=\"text-align: right;\">\n",
       "      <th></th>\n",
       "      <th>EURUSD</th>\n",
       "      <th>R_log</th>\n",
       "    </tr>\n",
       "    <tr>\n",
       "      <th>DATE</th>\n",
       "      <th></th>\n",
       "      <th></th>\n",
       "    </tr>\n",
       "  </thead>\n",
       "  <tbody>\n",
       "    <tr>\n",
       "      <th>2018-07-31 23:59:59</th>\n",
       "      <td>1.16985</td>\n",
       "      <td>0.002311</td>\n",
       "    </tr>\n",
       "    <tr>\n",
       "      <th>2018-07-30 23:59:59</th>\n",
       "      <td>1.17120</td>\n",
       "      <td>0.001153</td>\n",
       "    </tr>\n",
       "    <tr>\n",
       "      <th>2018-07-27 23:59:59</th>\n",
       "      <td>1.16545</td>\n",
       "      <td>-0.004922</td>\n",
       "    </tr>\n",
       "    <tr>\n",
       "      <th>2018-07-26 23:59:59</th>\n",
       "      <td>1.16620</td>\n",
       "      <td>0.000643</td>\n",
       "    </tr>\n",
       "    <tr>\n",
       "      <th>2018-07-25 23:59:59</th>\n",
       "      <td>1.16740</td>\n",
       "      <td>0.001028</td>\n",
       "    </tr>\n",
       "    <tr>\n",
       "      <th>...</th>\n",
       "      <td>...</td>\n",
       "      <td>...</td>\n",
       "    </tr>\n",
       "    <tr>\n",
       "      <th>2008-08-07 23:59:59</th>\n",
       "      <td>1.53770</td>\n",
       "      <td>0.022559</td>\n",
       "    </tr>\n",
       "    <tr>\n",
       "      <th>2008-08-06 23:59:59</th>\n",
       "      <td>1.54215</td>\n",
       "      <td>0.002890</td>\n",
       "    </tr>\n",
       "    <tr>\n",
       "      <th>2008-08-05 23:59:59</th>\n",
       "      <td>1.54870</td>\n",
       "      <td>0.004238</td>\n",
       "    </tr>\n",
       "    <tr>\n",
       "      <th>2008-08-04 23:59:59</th>\n",
       "      <td>1.56130</td>\n",
       "      <td>0.008103</td>\n",
       "    </tr>\n",
       "    <tr>\n",
       "      <th>2008-08-01 23:59:59</th>\n",
       "      <td>1.55605</td>\n",
       "      <td>-0.003368</td>\n",
       "    </tr>\n",
       "  </tbody>\n",
       "</table>\n",
       "<p>2608 rows × 2 columns</p>\n",
       "</div>"
      ],
      "text/plain": [
       "                      EURUSD     R_log\n",
       "DATE                                  \n",
       "2018-07-31 23:59:59  1.16985  0.002311\n",
       "2018-07-30 23:59:59  1.17120  0.001153\n",
       "2018-07-27 23:59:59  1.16545 -0.004922\n",
       "2018-07-26 23:59:59  1.16620  0.000643\n",
       "2018-07-25 23:59:59  1.16740  0.001028\n",
       "...                      ...       ...\n",
       "2008-08-07 23:59:59  1.53770  0.022559\n",
       "2008-08-06 23:59:59  1.54215  0.002890\n",
       "2008-08-05 23:59:59  1.54870  0.004238\n",
       "2008-08-04 23:59:59  1.56130  0.008103\n",
       "2008-08-01 23:59:59  1.55605 -0.003368\n",
       "\n",
       "[2608 rows x 2 columns]"
      ]
     },
     "metadata": {},
     "output_type": "display_data"
    }
   ],
   "source": [
    "df['DATE'] = pd.to_datetime(df['DATE'], format='%Y-%m-%d') # transform date strings to datetime \n",
    "df = df.set_index(['DATE']) # set index of DataFrame to the date column\n",
    "df['R_log'] = np.log(df[['EURUSD']]) - np.log(df[['EURUSD']]).shift(1) # calculate log returns\n",
    "df = df.dropna()\n",
    "display(df)"
   ]
  },
  {
   "cell_type": "markdown",
   "metadata": {},
   "source": [
    "Task 1: Calibration: "
   ]
  },
  {
   "cell_type": "markdown",
   "metadata": {},
   "source": [
    "1)\tDerive the closed-form formulas of the 97.5 and 2.5 quantiles of the log-returns of the GBM model."
   ]
  },
  {
   "cell_type": "code",
   "execution_count": 215,
   "metadata": {},
   "outputs": [
    {
     "data": {
      "text/html": [
       "<div>\n",
       "<style scoped>\n",
       "    .dataframe tbody tr th:only-of-type {\n",
       "        vertical-align: middle;\n",
       "    }\n",
       "\n",
       "    .dataframe tbody tr th {\n",
       "        vertical-align: top;\n",
       "    }\n",
       "\n",
       "    .dataframe thead th {\n",
       "        text-align: right;\n",
       "    }\n",
       "</style>\n",
       "<table border=\"1\" class=\"dataframe\">\n",
       "  <thead>\n",
       "    <tr style=\"text-align: right;\">\n",
       "      <th></th>\n",
       "      <th>EURUSD</th>\n",
       "      <th>R_log</th>\n",
       "    </tr>\n",
       "    <tr>\n",
       "      <th>DATE</th>\n",
       "      <th></th>\n",
       "      <th></th>\n",
       "    </tr>\n",
       "  </thead>\n",
       "  <tbody>\n",
       "    <tr>\n",
       "      <th>2018-07-31 23:59:59</th>\n",
       "      <td>1.16985</td>\n",
       "      <td>0.002311</td>\n",
       "    </tr>\n",
       "    <tr>\n",
       "      <th>2018-07-30 23:59:59</th>\n",
       "      <td>1.17120</td>\n",
       "      <td>0.001153</td>\n",
       "    </tr>\n",
       "    <tr>\n",
       "      <th>2018-07-27 23:59:59</th>\n",
       "      <td>1.16545</td>\n",
       "      <td>-0.004922</td>\n",
       "    </tr>\n",
       "    <tr>\n",
       "      <th>2018-07-26 23:59:59</th>\n",
       "      <td>1.16620</td>\n",
       "      <td>0.000643</td>\n",
       "    </tr>\n",
       "    <tr>\n",
       "      <th>2018-07-25 23:59:59</th>\n",
       "      <td>1.16740</td>\n",
       "      <td>0.001028</td>\n",
       "    </tr>\n",
       "    <tr>\n",
       "      <th>...</th>\n",
       "      <td>...</td>\n",
       "      <td>...</td>\n",
       "    </tr>\n",
       "    <tr>\n",
       "      <th>2008-08-18 23:59:59</th>\n",
       "      <td>1.47015</td>\n",
       "      <td>-0.000068</td>\n",
       "    </tr>\n",
       "    <tr>\n",
       "      <th>2008-08-15 23:59:59</th>\n",
       "      <td>1.46925</td>\n",
       "      <td>-0.000612</td>\n",
       "    </tr>\n",
       "    <tr>\n",
       "      <th>2008-08-13 23:59:59</th>\n",
       "      <td>1.48710</td>\n",
       "      <td>-0.001915</td>\n",
       "    </tr>\n",
       "    <tr>\n",
       "      <th>2008-08-12 23:59:59</th>\n",
       "      <td>1.49085</td>\n",
       "      <td>0.002519</td>\n",
       "    </tr>\n",
       "    <tr>\n",
       "      <th>2008-08-11 23:59:59</th>\n",
       "      <td>1.49970</td>\n",
       "      <td>0.005919</td>\n",
       "    </tr>\n",
       "  </tbody>\n",
       "</table>\n",
       "<p>2448 rows × 2 columns</p>\n",
       "</div>"
      ],
      "text/plain": [
       "                      EURUSD     R_log\n",
       "DATE                                  \n",
       "2018-07-31 23:59:59  1.16985  0.002311\n",
       "2018-07-30 23:59:59  1.17120  0.001153\n",
       "2018-07-27 23:59:59  1.16545 -0.004922\n",
       "2018-07-26 23:59:59  1.16620  0.000643\n",
       "2018-07-25 23:59:59  1.16740  0.001028\n",
       "...                      ...       ...\n",
       "2008-08-18 23:59:59  1.47015 -0.000068\n",
       "2008-08-15 23:59:59  1.46925 -0.000612\n",
       "2008-08-13 23:59:59  1.48710 -0.001915\n",
       "2008-08-12 23:59:59  1.49085  0.002519\n",
       "2008-08-11 23:59:59  1.49970  0.005919\n",
       "\n",
       "[2448 rows x 2 columns]"
      ]
     },
     "metadata": {},
     "output_type": "display_data"
    }
   ],
   "source": [
    "df = df[(np.abs(stats.zscore(df)) < stats.norm.ppf(0.975)).all(axis=1)] # match the 97.5th and 2.5th quantiles \n",
    "display(df)"
   ]
  },
  {
   "cell_type": "markdown",
   "metadata": {},
   "source": [
    "2) Derive μ and σ as a function of these quantiles from the formulas in 1)"
   ]
  },
  {
   "cell_type": "code",
   "execution_count": 216,
   "metadata": {},
   "outputs": [
    {
     "name": "stdout",
     "output_type": "stream",
     "text": [
      "1.265803921568628 0.11892939355237946\n"
     ]
    }
   ],
   "source": [
    "u = df['EURUSD'].mean()\n",
    "sigma = df['EURUSD'].std()\n",
    "print(u,sigma)"
   ]
  },
  {
   "cell_type": "markdown",
   "metadata": {},
   "source": [
    "3. Calibrate μ and σ using the time series data and formula from 2)"
   ]
  },
  {
   "cell_type": "code",
   "execution_count": null,
   "metadata": {},
   "outputs": [],
   "source": []
  },
  {
   "cell_type": "markdown",
   "metadata": {},
   "source": [
    "4. In step 3) we have calibrated the parameters calibrated from daily log-returns. However, in the simulation step, we want to simulate the FX spot rate on a weekly simulation grid instead of daily. So, please calculate the corresponding μ_weekly and σ_weekly , from μ_daily and σ_daily  derived in step 3), assuming 1 week = 5 days."
   ]
  },
  {
   "cell_type": "code",
   "execution_count": 217,
   "metadata": {},
   "outputs": [
    {
     "data": {
      "text/html": [
       "<div>\n",
       "<style scoped>\n",
       "    .dataframe tbody tr th:only-of-type {\n",
       "        vertical-align: middle;\n",
       "    }\n",
       "\n",
       "    .dataframe tbody tr th {\n",
       "        vertical-align: top;\n",
       "    }\n",
       "\n",
       "    .dataframe thead th {\n",
       "        text-align: right;\n",
       "    }\n",
       "</style>\n",
       "<table border=\"1\" class=\"dataframe\">\n",
       "  <thead>\n",
       "    <tr style=\"text-align: right;\">\n",
       "      <th></th>\n",
       "      <th>EURUSD</th>\n",
       "      <th>R_log</th>\n",
       "      <th>mean_w</th>\n",
       "      <th>std_w</th>\n",
       "    </tr>\n",
       "    <tr>\n",
       "      <th>DATE</th>\n",
       "      <th></th>\n",
       "      <th></th>\n",
       "      <th></th>\n",
       "      <th></th>\n",
       "    </tr>\n",
       "  </thead>\n",
       "  <tbody>\n",
       "    <tr>\n",
       "      <th>2018-07-25 23:59:59</th>\n",
       "      <td>1.16740</td>\n",
       "      <td>0.001028</td>\n",
       "      <td>0.000043</td>\n",
       "      <td>0.002844</td>\n",
       "    </tr>\n",
       "    <tr>\n",
       "      <th>2018-07-24 23:59:59</th>\n",
       "      <td>1.17050</td>\n",
       "      <td>0.002652</td>\n",
       "      <td>0.000111</td>\n",
       "      <td>0.002915</td>\n",
       "    </tr>\n",
       "    <tr>\n",
       "      <th>2018-07-23 23:59:59</th>\n",
       "      <td>1.17040</td>\n",
       "      <td>-0.000085</td>\n",
       "      <td>-0.000137</td>\n",
       "      <td>0.002857</td>\n",
       "    </tr>\n",
       "    <tr>\n",
       "      <th>2018-07-20 23:59:59</th>\n",
       "      <td>1.17065</td>\n",
       "      <td>0.000214</td>\n",
       "      <td>0.000890</td>\n",
       "      <td>0.001072</td>\n",
       "    </tr>\n",
       "    <tr>\n",
       "      <th>2018-07-19 23:59:59</th>\n",
       "      <td>1.16140</td>\n",
       "      <td>-0.007933</td>\n",
       "      <td>-0.000825</td>\n",
       "      <td>0.004113</td>\n",
       "    </tr>\n",
       "    <tr>\n",
       "      <th>...</th>\n",
       "      <td>...</td>\n",
       "      <td>...</td>\n",
       "      <td>...</td>\n",
       "      <td>...</td>\n",
       "    </tr>\n",
       "    <tr>\n",
       "      <th>2008-08-18 23:59:59</th>\n",
       "      <td>1.47015</td>\n",
       "      <td>-0.000068</td>\n",
       "      <td>-0.001052</td>\n",
       "      <td>0.005762</td>\n",
       "    </tr>\n",
       "    <tr>\n",
       "      <th>2008-08-15 23:59:59</th>\n",
       "      <td>1.46925</td>\n",
       "      <td>-0.000612</td>\n",
       "      <td>-0.001661</td>\n",
       "      <td>0.005454</td>\n",
       "    </tr>\n",
       "    <tr>\n",
       "      <th>2008-08-13 23:59:59</th>\n",
       "      <td>1.48710</td>\n",
       "      <td>-0.001915</td>\n",
       "      <td>-0.002959</td>\n",
       "      <td>0.004233</td>\n",
       "    </tr>\n",
       "    <tr>\n",
       "      <th>2008-08-12 23:59:59</th>\n",
       "      <td>1.49085</td>\n",
       "      <td>0.002519</td>\n",
       "      <td>-0.000375</td>\n",
       "      <td>0.001798</td>\n",
       "    </tr>\n",
       "    <tr>\n",
       "      <th>2008-08-11 23:59:59</th>\n",
       "      <td>1.49970</td>\n",
       "      <td>0.005919</td>\n",
       "      <td>0.001168</td>\n",
       "      <td>0.003106</td>\n",
       "    </tr>\n",
       "  </tbody>\n",
       "</table>\n",
       "<p>2444 rows × 4 columns</p>\n",
       "</div>"
      ],
      "text/plain": [
       "                      EURUSD     R_log    mean_w     std_w\n",
       "DATE                                                      \n",
       "2018-07-25 23:59:59  1.16740  0.001028  0.000043  0.002844\n",
       "2018-07-24 23:59:59  1.17050  0.002652  0.000111  0.002915\n",
       "2018-07-23 23:59:59  1.17040 -0.000085 -0.000137  0.002857\n",
       "2018-07-20 23:59:59  1.17065  0.000214  0.000890  0.001072\n",
       "2018-07-19 23:59:59  1.16140 -0.007933 -0.000825  0.004113\n",
       "...                      ...       ...       ...       ...\n",
       "2008-08-18 23:59:59  1.47015 -0.000068 -0.001052  0.005762\n",
       "2008-08-15 23:59:59  1.46925 -0.000612 -0.001661  0.005454\n",
       "2008-08-13 23:59:59  1.48710 -0.001915 -0.002959  0.004233\n",
       "2008-08-12 23:59:59  1.49085  0.002519 -0.000375  0.001798\n",
       "2008-08-11 23:59:59  1.49970  0.005919  0.001168  0.003106\n",
       "\n",
       "[2444 rows x 4 columns]"
      ]
     },
     "metadata": {},
     "output_type": "display_data"
    }
   ],
   "source": [
    "df['mean_w'] = df['R_log'].rolling(5).mean()\n",
    "df['std_w']  = df['R_log'].rolling(5).std()\n",
    "df = df.dropna()\n",
    "display(df)"
   ]
  },
  {
   "cell_type": "markdown",
   "metadata": {},
   "source": [
    "# 2. Simulation "
   ]
  },
  {
   "cell_type": "markdown",
   "metadata": {},
   "source": [
    "1)\tTest whether the daily log-returns of the underlying FX rate follows a normal distribution using any of the normality test methodologies and explain the testing results. "
   ]
  },
  {
   "cell_type": "code",
   "execution_count": 218,
   "metadata": {},
   "outputs": [
    {
     "name": "stdout",
     "output_type": "stream",
     "text": [
      "SMI : Jarque_beraResult(statistic=2.2658235212548883, pvalue=0.3220940289711951)\n"
     ]
    }
   ],
   "source": [
    "print('SMI :', stats.jarque_bera(df[\"R_log\"]))"
   ]
  },
  {
   "cell_type": "markdown",
   "metadata": {},
   "source": [
    "Jarque-Bera test is designed to test the normality (goodness of fit test). The test statistic for JB test with p = 99.5% is 10.597.\n",
    "\n",
    "The actual result of the DAX return is larger than JB test statistic. (2.266 <> 10.597)\n",
    "The p values from two types of returns are not significant (p < 0.01)\n",
    "\n",
    "Therefore we can conclude that the assumption of normally distributed reuturn is valid with 99.5% level"
   ]
  },
  {
   "cell_type": "markdown",
   "metadata": {},
   "source": [
    "2)\tSimulate 1000 independent scenarios, with S(0) equal to the latest FX rate in the time series data, t=1week, 2week,……50weeks, and use parameters derived in calibration step 4). In this step we generate S(t) for each simulation path and at each simulation time point."
   ]
  },
  {
   "cell_type": "code",
   "execution_count": 219,
   "metadata": {},
   "outputs": [],
   "source": [
    "def gen_paths(S0, r, sigma, T, M, I):\n",
    "    \"\"\"\n",
    "    GBM-path generating function from Yves Hilpisch\n",
    "    \"\"\"\n",
    "    dt = float(T) / M\n",
    "    paths = np.zeros((M + 1, I), np.float64)\n",
    "    paths[0] = S0\n",
    "    for t in range(1, M + 1):\n",
    "        rand = np.random.standard_normal(I)\n",
    "        paths[t] = paths[t - 1] * np.exp((r - 0.5 * sigma ** 2) * dt +\n",
    "                                         sigma * np.sqrt(dt) * rand)\n",
    "    return paths"
   ]
  },
  {
   "cell_type": "code",
   "execution_count": 220,
   "metadata": {},
   "outputs": [],
   "source": [
    "# Setting initial values \n",
    "\n",
    "S0 = df['EURUSD'].iloc[-1] #initial price\n",
    "K = 100\n",
    "r = 0.05\n",
    "sigma = df['R_log'].std()\n",
    "T = 1\n",
    "N = 252\n",
    "deltat = T / N\n",
    "i = 1000\n",
    "discount_factor = np.exp(-r * T)"
   ]
  },
  {
   "cell_type": "code",
   "execution_count": 221,
   "metadata": {},
   "outputs": [],
   "source": [
    "# generate the paths\n",
    "np.random.seed(123)\n",
    "# paths = gen_paths(S0, r, sigma, T, N, i)"
   ]
  },
  {
   "cell_type": "code",
   "execution_count": 222,
   "metadata": {},
   "outputs": [
    {
     "data": {
      "image/png": "[encoded data removed]",
      "text/plain": [
       "<Figure size 720x432 with 1 Axes>"
      ]
     },
     "metadata": {
      "needs_background": "light"
     },
     "output_type": "display_data"
    }
   ],
   "source": [
    "r = 0.05 #risk-free interest rate\n",
    "sigma = df['R_log'].std() #volatility in market\n",
    "T = 1 #time in years\n",
    "N = 100 #number of steps within each simulation\n",
    "deltat = T/N #time step\n",
    "i = 1000 #number of simulations\n",
    "discount_factor = np.exp(-r*T) #discount factor\n",
    "\n",
    "S = np.zeros([i,N])\n",
    "t = range(0,N,1)\n",
    "\n",
    "# st\n",
    "plt.figure(figsize=(10,6), tight_layout=True)\n",
    "for y in range(0,i-1):\n",
    "    S[y,0]=S0\n",
    "    for x in range(0,N-1):\n",
    "        S[y,x+1] = S[y,x]*(np.exp((r-(sigma**2)/2)*deltat + sigma*deltat*np.random.normal(0,1)))\n",
    "    plt.plot(t,S[y])\n",
    "\n",
    "plt.title('Simulations %d Steps %d Sigma %.2f r %.2f S0 %.2f' % (i, N, sigma, r, S0))\n",
    "plt.xlabel('Steps')\n",
    "plt.ylabel('FX rate')\n",
    "plt.show()\n",
    "\n"
   ]
  },
  {
   "cell_type": "code",
   "execution_count": null,
   "metadata": {},
   "outputs": [],
   "source": []
  }
 ],
 "metadata": {
  "interpreter": {
   "hash": "59b3f9f76e9d39472e16cf3a53ce4e989704feab3b597196af00ca205a7e526b"
  },
  "kernelspec": {
   "display_name": "Python 3.9.7 ('base')",
   "language": "python",
   "name": "python3"
  },
  "language_info": {
   "codemirror_mode": {
    "name": "ipython",
    "version": 3
   },
   "file_extension": ".py",
   "mimetype": "text/x-python",
   "name": "python",
   "nbconvert_exporter": "python",
   "pygments_lexer": "ipython3",
   "version": "3.9.7"
  },
  "orig_nbformat": 4
 },
 "nbformat": 4,
 "nbformat_minor": 2
}
