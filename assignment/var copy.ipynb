{
 "cells": [
  {
   "cell_type": "markdown",
   "metadata": {},
   "source": [
    "# Load, clean, and display data"
   ]
  },
  {
   "cell_type": "code",
   "execution_count": 226,
   "metadata": {},
   "outputs": [],
   "source": [
    "# !pip install arch             # uncomment for installing the arch package\n",
    "import numpy as np\n",
    "import os\n",
    "import pandas as pd\n",
    "import datetime as dt\n",
    "import matplotlib.pyplot as plt\n",
    "import scipy.stats as stats\n",
    "import statsmodels.api as sm\n",
    "import statsmodels.formula.api as smf\n",
    "from arch import arch_model\n",
    "from statsmodels.graphics.tsaplots import plot_acf\n",
    "import seaborn as sns"
   ]
  },
  {
   "cell_type": "code",
   "execution_count": 227,
   "metadata": {},
   "outputs": [
    {
     "data": {
      "text/html": [
       "<div>\n",
       "<style scoped>\n",
       "    .dataframe tbody tr th:only-of-type {\n",
       "        vertical-align: middle;\n",
       "    }\n",
       "\n",
       "    .dataframe tbody tr th {\n",
       "        vertical-align: top;\n",
       "    }\n",
       "\n",
       "    .dataframe thead th {\n",
       "        text-align: right;\n",
       "    }\n",
       "</style>\n",
       "<table border=\"1\" class=\"dataframe\">\n",
       "  <thead>\n",
       "    <tr style=\"text-align: right;\">\n",
       "      <th></th>\n",
       "      <th>Date</th>\n",
       "      <th>DAX</th>\n",
       "      <th>SMI</th>\n",
       "    </tr>\n",
       "  </thead>\n",
       "  <tbody>\n",
       "    <tr>\n",
       "      <th>0</th>\n",
       "      <td>2007-03-30</td>\n",
       "      <td>6917.03</td>\n",
       "      <td>8976.99</td>\n",
       "    </tr>\n",
       "    <tr>\n",
       "      <th>1</th>\n",
       "      <td>2007-04-02</td>\n",
       "      <td>6937.17</td>\n",
       "      <td>8956.31</td>\n",
       "    </tr>\n",
       "    <tr>\n",
       "      <th>2</th>\n",
       "      <td>2007-04-03</td>\n",
       "      <td>7045.56</td>\n",
       "      <td>9053.95</td>\n",
       "    </tr>\n",
       "    <tr>\n",
       "      <th>3</th>\n",
       "      <td>2007-04-04</td>\n",
       "      <td>7073.91</td>\n",
       "      <td>9057.62</td>\n",
       "    </tr>\n",
       "    <tr>\n",
       "      <th>4</th>\n",
       "      <td>2007-04-05</td>\n",
       "      <td>7099.91</td>\n",
       "      <td>9099.08</td>\n",
       "    </tr>\n",
       "    <tr>\n",
       "      <th>...</th>\n",
       "      <td>...</td>\n",
       "      <td>...</td>\n",
       "      <td>...</td>\n",
       "    </tr>\n",
       "    <tr>\n",
       "      <th>780</th>\n",
       "      <td>2010-03-26</td>\n",
       "      <td>6120.05</td>\n",
       "      <td>6838.95</td>\n",
       "    </tr>\n",
       "    <tr>\n",
       "      <th>781</th>\n",
       "      <td>2010-03-29</td>\n",
       "      <td>6156.85</td>\n",
       "      <td>6850.58</td>\n",
       "    </tr>\n",
       "    <tr>\n",
       "      <th>782</th>\n",
       "      <td>2010-03-30</td>\n",
       "      <td>6142.45</td>\n",
       "      <td>6871.42</td>\n",
       "    </tr>\n",
       "    <tr>\n",
       "      <th>783</th>\n",
       "      <td>2010-03-31</td>\n",
       "      <td>6153.55</td>\n",
       "      <td>6873.37</td>\n",
       "    </tr>\n",
       "    <tr>\n",
       "      <th>784</th>\n",
       "      <td>2010-04-01</td>\n",
       "      <td>6235.56</td>\n",
       "      <td>6888.92</td>\n",
       "    </tr>\n",
       "  </tbody>\n",
       "</table>\n",
       "<p>785 rows × 3 columns</p>\n",
       "</div>"
      ],
      "text/plain": [
       "          Date      DAX      SMI\n",
       "0   2007-03-30  6917.03  8976.99\n",
       "1   2007-04-02  6937.17  8956.31\n",
       "2   2007-04-03  7045.56  9053.95\n",
       "3   2007-04-04  7073.91  9057.62\n",
       "4   2007-04-05  7099.91  9099.08\n",
       "..         ...      ...      ...\n",
       "780 2010-03-26  6120.05  6838.95\n",
       "781 2010-03-29  6156.85  6850.58\n",
       "782 2010-03-30  6142.45  6871.42\n",
       "783 2010-03-31  6153.55  6873.37\n",
       "784 2010-04-01  6235.56  6888.92\n",
       "\n",
       "[785 rows x 3 columns]"
      ]
     },
     "metadata": {},
     "output_type": "display_data"
    }
   ],
   "source": [
    "# Read data file\n",
    "\n",
    "df = pd.read_excel('/Users/jinhyun/Documents/GitHub/Python/assignment/assignmentsmodelvalidatortradingriskmodelsating/1. IndexData.xls') # imports the data\n",
    "display(df)"
   ]
  },
  {
   "cell_type": "markdown",
   "metadata": {},
   "source": [
    "Now we transform the data "
   ]
  },
  {
   "cell_type": "code",
   "execution_count": 228,
   "metadata": {},
   "outputs": [],
   "source": [
    "df['Date'] = pd.to_datetime(df['Date'], format='%Y-%m-%d') # transform date strings to datetime \n",
    "df = df.set_index(['Date']) # set index of DataFrame to the date column"
   ]
  },
  {
   "cell_type": "code",
   "execution_count": 229,
   "metadata": {},
   "outputs": [
    {
     "data": {
      "text/html": [
       "<div>\n",
       "<style scoped>\n",
       "    .dataframe tbody tr th:only-of-type {\n",
       "        vertical-align: middle;\n",
       "    }\n",
       "\n",
       "    .dataframe tbody tr th {\n",
       "        vertical-align: top;\n",
       "    }\n",
       "\n",
       "    .dataframe thead th {\n",
       "        text-align: right;\n",
       "    }\n",
       "</style>\n",
       "<table border=\"1\" class=\"dataframe\">\n",
       "  <thead>\n",
       "    <tr style=\"text-align: right;\">\n",
       "      <th></th>\n",
       "      <th>DAX</th>\n",
       "      <th>SMI</th>\n",
       "      <th>R_DAX</th>\n",
       "      <th>R_SMI</th>\n",
       "      <th>DAX_eur</th>\n",
       "      <th>SMI_eur</th>\n",
       "    </tr>\n",
       "    <tr>\n",
       "      <th>Date</th>\n",
       "      <th></th>\n",
       "      <th></th>\n",
       "      <th></th>\n",
       "      <th></th>\n",
       "      <th></th>\n",
       "      <th></th>\n",
       "    </tr>\n",
       "  </thead>\n",
       "  <tbody>\n",
       "    <tr>\n",
       "      <th>2007-04-02</th>\n",
       "      <td>6937.17</td>\n",
       "      <td>8956.31</td>\n",
       "      <td>0.002907</td>\n",
       "      <td>-0.002306</td>\n",
       "      <td>3468585.0</td>\n",
       "      <td>4030339.5</td>\n",
       "    </tr>\n",
       "    <tr>\n",
       "      <th>2007-04-03</th>\n",
       "      <td>7045.56</td>\n",
       "      <td>9053.95</td>\n",
       "      <td>0.015504</td>\n",
       "      <td>0.010843</td>\n",
       "      <td>3522780.0</td>\n",
       "      <td>4074277.5</td>\n",
       "    </tr>\n",
       "    <tr>\n",
       "      <th>2007-04-04</th>\n",
       "      <td>7073.91</td>\n",
       "      <td>9057.62</td>\n",
       "      <td>0.004016</td>\n",
       "      <td>0.000405</td>\n",
       "      <td>3536955.0</td>\n",
       "      <td>4075929.0</td>\n",
       "    </tr>\n",
       "    <tr>\n",
       "      <th>2007-04-05</th>\n",
       "      <td>7099.91</td>\n",
       "      <td>9099.08</td>\n",
       "      <td>0.003669</td>\n",
       "      <td>0.004567</td>\n",
       "      <td>3549955.0</td>\n",
       "      <td>4094586.0</td>\n",
       "    </tr>\n",
       "    <tr>\n",
       "      <th>2007-04-06</th>\n",
       "      <td>7099.91</td>\n",
       "      <td>9099.08</td>\n",
       "      <td>0.000000</td>\n",
       "      <td>0.000000</td>\n",
       "      <td>3549955.0</td>\n",
       "      <td>4094586.0</td>\n",
       "    </tr>\n",
       "    <tr>\n",
       "      <th>...</th>\n",
       "      <td>...</td>\n",
       "      <td>...</td>\n",
       "      <td>...</td>\n",
       "      <td>...</td>\n",
       "      <td>...</td>\n",
       "      <td>...</td>\n",
       "    </tr>\n",
       "    <tr>\n",
       "      <th>2010-03-26</th>\n",
       "      <td>6120.05</td>\n",
       "      <td>6838.95</td>\n",
       "      <td>-0.002106</td>\n",
       "      <td>-0.008042</td>\n",
       "      <td>3060025.0</td>\n",
       "      <td>3077527.5</td>\n",
       "    </tr>\n",
       "    <tr>\n",
       "      <th>2010-03-29</th>\n",
       "      <td>6156.85</td>\n",
       "      <td>6850.58</td>\n",
       "      <td>0.005995</td>\n",
       "      <td>0.001699</td>\n",
       "      <td>3078425.0</td>\n",
       "      <td>3082761.0</td>\n",
       "    </tr>\n",
       "    <tr>\n",
       "      <th>2010-03-30</th>\n",
       "      <td>6142.45</td>\n",
       "      <td>6871.42</td>\n",
       "      <td>-0.002342</td>\n",
       "      <td>0.003037</td>\n",
       "      <td>3071225.0</td>\n",
       "      <td>3092139.0</td>\n",
       "    </tr>\n",
       "    <tr>\n",
       "      <th>2010-03-31</th>\n",
       "      <td>6153.55</td>\n",
       "      <td>6873.37</td>\n",
       "      <td>0.001805</td>\n",
       "      <td>0.000284</td>\n",
       "      <td>3076775.0</td>\n",
       "      <td>3093016.5</td>\n",
       "    </tr>\n",
       "    <tr>\n",
       "      <th>2010-04-01</th>\n",
       "      <td>6235.56</td>\n",
       "      <td>6888.92</td>\n",
       "      <td>0.013239</td>\n",
       "      <td>0.002260</td>\n",
       "      <td>3117780.0</td>\n",
       "      <td>3100014.0</td>\n",
       "    </tr>\n",
       "  </tbody>\n",
       "</table>\n",
       "<p>784 rows × 6 columns</p>\n",
       "</div>"
      ],
      "text/plain": [
       "                DAX      SMI     R_DAX     R_SMI    DAX_eur    SMI_eur\n",
       "Date                                                                  \n",
       "2007-04-02  6937.17  8956.31  0.002907 -0.002306  3468585.0  4030339.5\n",
       "2007-04-03  7045.56  9053.95  0.015504  0.010843  3522780.0  4074277.5\n",
       "2007-04-04  7073.91  9057.62  0.004016  0.000405  3536955.0  4075929.0\n",
       "2007-04-05  7099.91  9099.08  0.003669  0.004567  3549955.0  4094586.0\n",
       "2007-04-06  7099.91  9099.08  0.000000  0.000000  3549955.0  4094586.0\n",
       "...             ...      ...       ...       ...        ...        ...\n",
       "2010-03-26  6120.05  6838.95 -0.002106 -0.008042  3060025.0  3077527.5\n",
       "2010-03-29  6156.85  6850.58  0.005995  0.001699  3078425.0  3082761.0\n",
       "2010-03-30  6142.45  6871.42 -0.002342  0.003037  3071225.0  3092139.0\n",
       "2010-03-31  6153.55  6873.37  0.001805  0.000284  3076775.0  3093016.5\n",
       "2010-04-01  6235.56  6888.92  0.013239  0.002260  3117780.0  3100014.0\n",
       "\n",
       "[784 rows x 6 columns]"
      ]
     },
     "metadata": {},
     "output_type": "display_data"
    }
   ],
   "source": [
    "df['R_DAX'] = np.log(df[['DAX']]) - np.log(df[['DAX']]).shift(1) # calculate DAX returns\n",
    "df['R_SMI'] = np.log(df[['SMI']]) - np.log(df[['SMI']]).shift(1) # calculate SMI returns\n",
    "df = df.dropna() # drop N/A entries\n",
    "R_DAX = 100 * (df['R_DAX'])['2007-03-30':] # transform returns to percentages (recommended for GARCH package) and remove first row from returns \n",
    "R_SMI = 100 * (df['R_SMI'])['2007-03-30':] \n",
    "\n",
    "df['DAX_eur'] =  df[['DAX']]*500 # find the value of indices\n",
    "df['SMI_eur'] =  df[['SMI']]*450 \n",
    "\n",
    "display(df)\n"
   ]
  },
  {
   "cell_type": "markdown",
   "metadata": {},
   "source": [
    "Display a line graph of the returns,"
   ]
  },
  {
   "cell_type": "code",
   "execution_count": 230,
   "metadata": {},
   "outputs": [
    {
     "data": {
      "image/png": "[encoded data removed]",
      "text/plain": [
       "<Figure size 432x288 with 1 Axes>"
      ]
     },
     "metadata": {
      "needs_background": "light"
     },
     "output_type": "display_data"
    },
    {
     "data": {
      "image/png": "[encoded data removed]",
      "text/plain": [
       "<Figure size 432x288 with 1 Axes>"
      ]
     },
     "metadata": {
      "needs_background": "light"
     },
     "output_type": "display_data"
    },
    {
     "name": "stdout",
     "output_type": "stream",
     "text": [
      "Skewness\n",
      "DAX : 0.2580297683212391 / SMI: 0.18726592410554294\n",
      "Kurtosis\n",
      "DAX : 6.460467916791624 / SMI: 6.327211792289831\n"
     ]
    }
   ],
   "source": [
    "# line graph of the returns\n",
    "R_DAX.plot()\n",
    "plt.title('Figure 1: DAX Returns')\n",
    "plt.legend(['R_DAX'])\n",
    "plt.show()\n",
    "\n",
    "R_SMI.plot()\n",
    "plt.title('Figure 2: SMI Returns')\n",
    "plt.legend(['R_SMI'])\n",
    "plt.show()\n",
    "\n",
    "# Calculate the skewness and kurtosis of the returns.\n",
    "\n",
    "# returns the skewness of a series\n",
    "print(\"Skewness\")\n",
    "print('DAX :', R_DAX .skew(),'/ SMI:',R_SMI.skew())\n",
    "\n",
    "# returns the excess kurtosis of a series\n",
    "print(\"Kurtosis\")\n",
    "print('DAX :',R_DAX.kurtosis() ,'/ SMI:',R_SMI.kurtosis()) \n"
   ]
  },
  {
   "cell_type": "markdown",
   "metadata": {},
   "source": [
    "a)\tEstimate the 1-day 99% VaR of both portfolios (individually) on the situation date 1 April 2010 using the Normal VaR approach. "
   ]
  },
  {
   "cell_type": "code",
   "execution_count": 231,
   "metadata": {},
   "outputs": [
    {
     "name": "stdout",
     "output_type": "stream",
     "text": [
      "DAX, VaR_forecast (Normal distribution): 4.154196716704126\n",
      "SMI, VaR_forecast (Normal distribution): 3.5801197452025413\n",
      "DAX, Percentage of exceedence (Normal distribution): 2.5510204081632653%\n",
      "SMI, Percentage of exceedence (Normal distribution): 1.913265306122449%\n"
     ]
    }
   ],
   "source": [
    "# the pth quantile of the normal distribution \n",
    "p=0.01\n",
    "pquantile_norm = stats.norm.ppf(p)\n",
    "\n",
    "# Obtain the 'VaR forecasts' and compute the 'percentage of exceedences'. \n",
    "\n",
    "c_DAX = np.std(R_DAX) # a constantseries / cons_std = R*0 + c\n",
    "c_SMI = np.std(R_SMI) \n",
    "VaR_forecast_norm_DAX = -c_DAX *stats.norm.ppf(p)\n",
    "VaR_forecast_norm_SMI = -c_SMI *stats.norm.ppf(p)\n",
    "print('DAX, VaR_forecast (Normal distribution):', VaR_forecast_norm_DAX)\n",
    "print('SMI, VaR_forecast (Normal distribution):', VaR_forecast_norm_SMI)\n",
    "\n",
    "hit_series_norm_DAX = np.where(R_DAX< -VaR_forecast_norm_DAX, 1, 0) # Create a hit series. 1: if R < -VaR_forecast\n",
    "hit_series_norm_SMI = np.where(R_SMI< -VaR_forecast_norm_SMI, 1, 0)\n",
    "\n",
    "per_exceed_norm_DAX = sum(hit_series_norm_DAX)/len(hit_series_norm_DAX)   # Calculate the percentage of exceedence.\n",
    "per_exceed_norm_SMI = sum(hit_series_norm_SMI)/len(hit_series_norm_SMI)\n",
    "print('DAX, Percentage of exceedence (Normal distribution):', str(per_exceed_norm_DAX*100) +'%')\n",
    "print('SMI, Percentage of exceedence (Normal distribution):', str(per_exceed_norm_SMI*100) +'%')\n"
   ]
  },
  {
   "cell_type": "markdown",
   "metadata": {},
   "source": [
    "b)\tExplain if the assumption of normally distributed returns is valid. "
   ]
  },
  {
   "cell_type": "code",
   "execution_count": 232,
   "metadata": {},
   "outputs": [
    {
     "name": "stdout",
     "output_type": "stream",
     "text": [
      "DAX : Jarque_beraResult(statistic=1351.5881129202207, pvalue=0.0)\n",
      "SMI : Jarque_beraResult(statistic=1292.5938610563617, pvalue=0.0)\n"
     ]
    }
   ],
   "source": [
    "print('DAX :', stats.jarque_bera(R_DAX))\n",
    "print('SMI :', stats.jarque_bera(R_SMI))"
   ]
  },
  {
   "cell_type": "markdown",
   "metadata": {},
   "source": [
    "Jarque-Bera test is designed to test the normality (goodness of fit test). The test statistic for JB test with p = 99.5% is 10.597.\n",
    "The actual result of the DAX return is larger than JB test statistic. (1345.2635 > 10.597)\n",
    "The actual result of the SMI return is larger than JB test statistic. (1286.1795 > 10.597)\n",
    "The p values from two types of returns are also significant (p < 0.0)\n",
    "Therefore we can conclude that the assumption of normally distributed reuturn is not valid\n"
   ]
  },
  {
   "cell_type": "markdown",
   "metadata": {},
   "source": [
    "c)\tEstimate the 1-day 99% VaR for both portfolios (individually) on the situation date 1 April 2010 using the Historical Simulation approach. "
   ]
  },
  {
   "cell_type": "code",
   "execution_count": 233,
   "metadata": {},
   "outputs": [
    {
     "name": "stdout",
     "output_type": "stream",
     "text": [
      "The historical DAX 1% VaR is -5.395137508116576\n",
      "The historical SMI 1% VaR is -5.096579186276351\n"
     ]
    }
   ],
   "source": [
    "historic_var_DAX = np.percentile(R_DAX, 1, interpolation='lower')\n",
    "historic_var_SMI = np.percentile(R_SMI, 1, interpolation='lower')\n",
    "\n",
    "print(f'The historical DAX 1% VaR is {historic_var_DAX}')\n",
    "print(f'The historical SMI 1% VaR is {historic_var_SMI}')\n",
    "\n"
   ]
  },
  {
   "cell_type": "markdown",
   "metadata": {},
   "source": [
    "## 2 "
   ]
  },
  {
   "cell_type": "markdown",
   "metadata": {},
   "source": [
    "a)\tEstimate the 1-day 99% VaR of the consolidated portfolio for the situation date 1 April 2010 using the Normal Variance-Covariance VaR approach. "
   ]
  },
  {
   "cell_type": "code",
   "execution_count": 234,
   "metadata": {},
   "outputs": [],
   "source": [
    "# Declare Empty Lists\n",
    "Mean = []\n",
    "STD = []\n",
    "MAX = []\n",
    "Min = []\n",
    "abs_var = []\n",
    "re_var = []\n",
    "\n",
    "#Calculate DEAR\n",
    "ticker1 = ['DAX_eur', 'SMI_eur']\n",
    "ticker2 = ['R_DAX', 'R_SMI']\n",
    "value = df[['DAX_eur', 'SMI_eur']].iloc[-1]\n",
    "\n",
    "for i in range(2):\n",
    "    v = df[ticker2[i]].std()              # Standard Error\n",
    "    mean = df[ticker2[i]].mean()          # Mean \n",
    "    maximum = df[ticker2[i]].max()        # Maximum\n",
    "    minimum = df[ticker2[i]].min()        # Minimum\n",
    "    \n",
    "    # Calculate 99% Absolute VaR\n",
    "    var_99_ab = (abs(-2.33)*v - mean) * value[ticker1[i]]\n",
    "\n",
    "    # Calculate 99% Relative VaR\n",
    "    var_99_re = (abs(-2.33)*v) * value[ticker1[i]]      \n",
    "    \n",
    "    # Append those values in lists\n",
    "    Mean.append(mean)\n",
    "    STD.append(v)\n",
    "    MAX.append(maximum)\n",
    "    Min.append(minimum)\n",
    "    abs_var.append(var_99_ab)\n",
    "    re_var.append(var_99_re)"
   ]
  },
  {
   "cell_type": "markdown",
   "metadata": {},
   "source": [
    "Construct new Table"
   ]
  },
  {
   "cell_type": "code",
   "execution_count": 235,
   "metadata": {},
   "outputs": [
    {
     "data": {
      "text/html": [
       "<div>\n",
       "<style scoped>\n",
       "    .dataframe tbody tr th:only-of-type {\n",
       "        vertical-align: middle;\n",
       "    }\n",
       "\n",
       "    .dataframe tbody tr th {\n",
       "        vertical-align: top;\n",
       "    }\n",
       "\n",
       "    .dataframe thead th {\n",
       "        text-align: right;\n",
       "    }\n",
       "</style>\n",
       "<table border=\"1\" class=\"dataframe\">\n",
       "  <thead>\n",
       "    <tr style=\"text-align: right;\">\n",
       "      <th></th>\n",
       "      <th>Mean</th>\n",
       "      <th>STD</th>\n",
       "      <th>Maximum</th>\n",
       "      <th>Minimum</th>\n",
       "      <th>99%_abs_VaR</th>\n",
       "      <th>99%_rel_VaR</th>\n",
       "    </tr>\n",
       "  </thead>\n",
       "  <tbody>\n",
       "    <tr>\n",
       "      <th>R_DAX</th>\n",
       "      <td>-0.000132</td>\n",
       "      <td>0.017869</td>\n",
       "      <td>0.107975</td>\n",
       "      <td>-0.074335</td>\n",
       "      <td>130217.317523</td>\n",
       "      <td>129804.855526</td>\n",
       "    </tr>\n",
       "    <tr>\n",
       "      <th>R_SMI</th>\n",
       "      <td>-0.000338</td>\n",
       "      <td>0.015399</td>\n",
       "      <td>0.107876</td>\n",
       "      <td>-0.081081</td>\n",
       "      <td>112276.255907</td>\n",
       "      <td>111229.406830</td>\n",
       "    </tr>\n",
       "  </tbody>\n",
       "</table>\n",
       "</div>"
      ],
      "text/plain": [
       "           Mean       STD   Maximum   Minimum    99%_abs_VaR    99%_rel_VaR\n",
       "R_DAX -0.000132  0.017869  0.107975 -0.074335  130217.317523  129804.855526\n",
       "R_SMI -0.000338  0.015399  0.107876 -0.081081  112276.255907  111229.406830"
      ]
     },
     "metadata": {},
     "output_type": "display_data"
    }
   ],
   "source": [
    "dear = pd.DataFrame({'Mean': Mean, 'STD': STD, 'Maximum': MAX, 'Minimum': Min, '99%_abs_VaR': abs_var, '99%_rel_VaR': re_var}, index = ['R_DAX','R_SMI'])\n",
    "display(dear)"
   ]
  },
  {
   "cell_type": "markdown",
   "metadata": {},
   "source": [
    "Correlation Coefficient"
   ]
  },
  {
   "cell_type": "code",
   "execution_count": 236,
   "metadata": {},
   "outputs": [
    {
     "data": {
      "text/html": [
       "<div>\n",
       "<style scoped>\n",
       "    .dataframe tbody tr th:only-of-type {\n",
       "        vertical-align: middle;\n",
       "    }\n",
       "\n",
       "    .dataframe tbody tr th {\n",
       "        vertical-align: top;\n",
       "    }\n",
       "\n",
       "    .dataframe thead th {\n",
       "        text-align: right;\n",
       "    }\n",
       "</style>\n",
       "<table border=\"1\" class=\"dataframe\">\n",
       "  <thead>\n",
       "    <tr style=\"text-align: right;\">\n",
       "      <th></th>\n",
       "      <th>R_DAX</th>\n",
       "      <th>R_SMI</th>\n",
       "    </tr>\n",
       "  </thead>\n",
       "  <tbody>\n",
       "    <tr>\n",
       "      <th>R_DAX</th>\n",
       "      <td>1.000000</td>\n",
       "      <td>0.818536</td>\n",
       "    </tr>\n",
       "    <tr>\n",
       "      <th>R_SMI</th>\n",
       "      <td>0.818536</td>\n",
       "      <td>1.000000</td>\n",
       "    </tr>\n",
       "  </tbody>\n",
       "</table>\n",
       "</div>"
      ],
      "text/plain": [
       "          R_DAX     R_SMI\n",
       "R_DAX  1.000000  0.818536\n",
       "R_SMI  0.818536  1.000000"
      ]
     },
     "metadata": {},
     "output_type": "display_data"
    }
   ],
   "source": [
    "rho = df[['R_DAX','R_SMI']].corr() # dfis the transposed one of return data\n",
    "display(rho)\n",
    "\n",
    "#Instead of price data, we apply return data to get the correlation coefficient among stocks. \n",
    "# By doing so, we would avoid Spurious Regression and compute correct coefficient.\n"
   ]
  },
  {
   "cell_type": "markdown",
   "metadata": {},
   "source": [
    "Portfolio VaR\n"
   ]
  },
  {
   "cell_type": "markdown",
   "metadata": {},
   "source": [
    "Step 1. Concatenate Tables"
   ]
  },
  {
   "cell_type": "code",
   "execution_count": 237,
   "metadata": {},
   "outputs": [],
   "source": [
    "dear = dear.drop(columns = ['Mean', 'STD', 'Maximum', 'Minimum'])\n",
    "\n",
    "# concatenate dear and rho\n",
    "portfolio = pd.concat([dear, rho,], axis = 1) \n",
    "portfolio[['99%_abs_VaR', '99%_rel_VaR']] = portfolio[['99%_abs_VaR', '99%_rel_VaR']]"
   ]
  },
  {
   "cell_type": "code",
   "execution_count": 238,
   "metadata": {},
   "outputs": [
    {
     "data": {
      "text/html": [
       "<div>\n",
       "<style scoped>\n",
       "    .dataframe tbody tr th:only-of-type {\n",
       "        vertical-align: middle;\n",
       "    }\n",
       "\n",
       "    .dataframe tbody tr th {\n",
       "        vertical-align: top;\n",
       "    }\n",
       "\n",
       "    .dataframe thead th {\n",
       "        text-align: right;\n",
       "    }\n",
       "</style>\n",
       "<table border=\"1\" class=\"dataframe\">\n",
       "  <thead>\n",
       "    <tr style=\"text-align: right;\">\n",
       "      <th></th>\n",
       "      <th>99%_abs_VaR</th>\n",
       "      <th>99%_rel_VaR</th>\n",
       "      <th>R_DAX</th>\n",
       "      <th>R_SMI</th>\n",
       "    </tr>\n",
       "  </thead>\n",
       "  <tbody>\n",
       "    <tr>\n",
       "      <th>R_DAX</th>\n",
       "      <td>130217.317523</td>\n",
       "      <td>129804.855526</td>\n",
       "      <td>1.000000</td>\n",
       "      <td>0.818536</td>\n",
       "    </tr>\n",
       "    <tr>\n",
       "      <th>R_SMI</th>\n",
       "      <td>112276.255907</td>\n",
       "      <td>111229.406830</td>\n",
       "      <td>0.818536</td>\n",
       "      <td>1.000000</td>\n",
       "    </tr>\n",
       "  </tbody>\n",
       "</table>\n",
       "</div>"
      ],
      "text/plain": [
       "         99%_abs_VaR    99%_rel_VaR     R_DAX     R_SMI\n",
       "R_DAX  130217.317523  129804.855526  1.000000  0.818536\n",
       "R_SMI  112276.255907  111229.406830  0.818536  1.000000"
      ]
     },
     "execution_count": 238,
     "metadata": {},
     "output_type": "execute_result"
    }
   ],
   "source": [
    "portfolio"
   ]
  },
  {
   "cell_type": "markdown",
   "metadata": {},
   "source": [
    "Calculate VaR"
   ]
  },
  {
   "cell_type": "code",
   "execution_count": null,
   "metadata": {},
   "outputs": [],
   "source": [
    "# the proportion of VaR of stocks itself in portfolio\n",
    "part1 = sum(portfolio['99%_abs_VaR']**2)\n",
    "\n",
    "\n",
    "# VaR with the adjustment of correlation coefficient among different stocks\n",
    "\n",
    "\n"
   ]
  }
 ],
 "metadata": {
  "interpreter": {
   "hash": "59b3f9f76e9d39472e16cf3a53ce4e989704feab3b597196af00ca205a7e526b"
  },
  "kernelspec": {
   "display_name": "Python 3.9.7 ('base')",
   "language": "python",
   "name": "python3"
  },
  "language_info": {
   "codemirror_mode": {
    "name": "ipython",
    "version": 3
   },
   "file_extension": ".py",
   "mimetype": "text/x-python",
   "name": "python",
   "nbconvert_exporter": "python",
   "pygments_lexer": "ipython3",
   "version": "3.9.7"
  },
  "orig_nbformat": 4
 },
 "nbformat": 4,
 "nbformat_minor": 2
}
