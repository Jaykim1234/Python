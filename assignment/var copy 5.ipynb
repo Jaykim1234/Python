{
 "cells": [
  {
   "cell_type": "markdown",
   "metadata": {},
   "source": [
    "# Load, clean, and display data"
   ]
  },
  {
   "cell_type": "code",
   "execution_count": 767,
   "metadata": {},
   "outputs": [],
   "source": [
    "# !pip install arch             # uncomment for installing the arch package\n",
    "import numpy as np\n",
    "import os\n",
    "import pandas as pd\n",
    "import datetime as dt\n",
    "import matplotlib.pyplot as plt\n",
    "\n",
    "import scipy.stats as stats\n",
    "import statsmodels.api as sm\n",
    "import statsmodels.formula.api as smf\n",
    "from arch import arch_model\n",
    "from statsmodels.graphics.tsaplots import plot_acf\n",
    "import seaborn as sns"
   ]
  },
  {
   "cell_type": "code",
   "execution_count": 768,
   "metadata": {},
   "outputs": [
    {
     "data": {
      "text/html": [
       "<div>\n",
       "<style scoped>\n",
       "    .dataframe tbody tr th:only-of-type {\n",
       "        vertical-align: middle;\n",
       "    }\n",
       "\n",
       "    .dataframe tbody tr th {\n",
       "        vertical-align: top;\n",
       "    }\n",
       "\n",
       "    .dataframe thead th {\n",
       "        text-align: right;\n",
       "    }\n",
       "</style>\n",
       "<table border=\"1\" class=\"dataframe\">\n",
       "  <thead>\n",
       "    <tr style=\"text-align: right;\">\n",
       "      <th></th>\n",
       "      <th>Date</th>\n",
       "      <th>DAX</th>\n",
       "      <th>SMI</th>\n",
       "    </tr>\n",
       "  </thead>\n",
       "  <tbody>\n",
       "    <tr>\n",
       "      <th>0</th>\n",
       "      <td>2007-03-30</td>\n",
       "      <td>6917.03</td>\n",
       "      <td>8976.99</td>\n",
       "    </tr>\n",
       "    <tr>\n",
       "      <th>1</th>\n",
       "      <td>2007-04-02</td>\n",
       "      <td>6937.17</td>\n",
       "      <td>8956.31</td>\n",
       "    </tr>\n",
       "    <tr>\n",
       "      <th>2</th>\n",
       "      <td>2007-04-03</td>\n",
       "      <td>7045.56</td>\n",
       "      <td>9053.95</td>\n",
       "    </tr>\n",
       "    <tr>\n",
       "      <th>3</th>\n",
       "      <td>2007-04-04</td>\n",
       "      <td>7073.91</td>\n",
       "      <td>9057.62</td>\n",
       "    </tr>\n",
       "    <tr>\n",
       "      <th>4</th>\n",
       "      <td>2007-04-05</td>\n",
       "      <td>7099.91</td>\n",
       "      <td>9099.08</td>\n",
       "    </tr>\n",
       "    <tr>\n",
       "      <th>...</th>\n",
       "      <td>...</td>\n",
       "      <td>...</td>\n",
       "      <td>...</td>\n",
       "    </tr>\n",
       "    <tr>\n",
       "      <th>780</th>\n",
       "      <td>2010-03-26</td>\n",
       "      <td>6120.05</td>\n",
       "      <td>6838.95</td>\n",
       "    </tr>\n",
       "    <tr>\n",
       "      <th>781</th>\n",
       "      <td>2010-03-29</td>\n",
       "      <td>6156.85</td>\n",
       "      <td>6850.58</td>\n",
       "    </tr>\n",
       "    <tr>\n",
       "      <th>782</th>\n",
       "      <td>2010-03-30</td>\n",
       "      <td>6142.45</td>\n",
       "      <td>6871.42</td>\n",
       "    </tr>\n",
       "    <tr>\n",
       "      <th>783</th>\n",
       "      <td>2010-03-31</td>\n",
       "      <td>6153.55</td>\n",
       "      <td>6873.37</td>\n",
       "    </tr>\n",
       "    <tr>\n",
       "      <th>784</th>\n",
       "      <td>2010-04-01</td>\n",
       "      <td>6235.56</td>\n",
       "      <td>6888.92</td>\n",
       "    </tr>\n",
       "  </tbody>\n",
       "</table>\n",
       "<p>785 rows × 3 columns</p>\n",
       "</div>"
      ],
      "text/plain": [
       "          Date      DAX      SMI\n",
       "0   2007-03-30  6917.03  8976.99\n",
       "1   2007-04-02  6937.17  8956.31\n",
       "2   2007-04-03  7045.56  9053.95\n",
       "3   2007-04-04  7073.91  9057.62\n",
       "4   2007-04-05  7099.91  9099.08\n",
       "..         ...      ...      ...\n",
       "780 2010-03-26  6120.05  6838.95\n",
       "781 2010-03-29  6156.85  6850.58\n",
       "782 2010-03-30  6142.45  6871.42\n",
       "783 2010-03-31  6153.55  6873.37\n",
       "784 2010-04-01  6235.56  6888.92\n",
       "\n",
       "[785 rows x 3 columns]"
      ]
     },
     "metadata": {},
     "output_type": "display_data"
    }
   ],
   "source": [
    "# Read data file\n",
    "\n",
    "df = pd.read_excel('/Users/jinhyun/Documents/GitHub/Python/assignment/assignmentsmodelvalidatortradingriskmodelsating/1. IndexData.xls') # imports the data\n",
    "display(df)"
   ]
  },
  {
   "cell_type": "markdown",
   "metadata": {},
   "source": [
    "Now we transform the data "
   ]
  },
  {
   "cell_type": "code",
   "execution_count": 769,
   "metadata": {},
   "outputs": [],
   "source": [
    "df['Date'] = pd.to_datetime(df['Date'], format='%Y-%m-%d') # transform date strings to datetime \n",
    "df = df.set_index(['Date']) # set index of DataFrame to the date column"
   ]
  },
  {
   "cell_type": "code",
   "execution_count": 770,
   "metadata": {},
   "outputs": [
    {
     "data": {
      "text/html": [
       "<div>\n",
       "<style scoped>\n",
       "    .dataframe tbody tr th:only-of-type {\n",
       "        vertical-align: middle;\n",
       "    }\n",
       "\n",
       "    .dataframe tbody tr th {\n",
       "        vertical-align: top;\n",
       "    }\n",
       "\n",
       "    .dataframe thead th {\n",
       "        text-align: right;\n",
       "    }\n",
       "</style>\n",
       "<table border=\"1\" class=\"dataframe\">\n",
       "  <thead>\n",
       "    <tr style=\"text-align: right;\">\n",
       "      <th></th>\n",
       "      <th>DAX</th>\n",
       "      <th>SMI</th>\n",
       "      <th>R_DAX</th>\n",
       "      <th>R_SMI</th>\n",
       "      <th>DAX_eur</th>\n",
       "      <th>SMI_eur</th>\n",
       "    </tr>\n",
       "    <tr>\n",
       "      <th>Date</th>\n",
       "      <th></th>\n",
       "      <th></th>\n",
       "      <th></th>\n",
       "      <th></th>\n",
       "      <th></th>\n",
       "      <th></th>\n",
       "    </tr>\n",
       "  </thead>\n",
       "  <tbody>\n",
       "    <tr>\n",
       "      <th>2007-04-02</th>\n",
       "      <td>6937.17</td>\n",
       "      <td>8956.31</td>\n",
       "      <td>0.002907</td>\n",
       "      <td>-0.002306</td>\n",
       "      <td>3468585.0</td>\n",
       "      <td>4030339.5</td>\n",
       "    </tr>\n",
       "    <tr>\n",
       "      <th>2007-04-03</th>\n",
       "      <td>7045.56</td>\n",
       "      <td>9053.95</td>\n",
       "      <td>0.015504</td>\n",
       "      <td>0.010843</td>\n",
       "      <td>3522780.0</td>\n",
       "      <td>4074277.5</td>\n",
       "    </tr>\n",
       "    <tr>\n",
       "      <th>2007-04-04</th>\n",
       "      <td>7073.91</td>\n",
       "      <td>9057.62</td>\n",
       "      <td>0.004016</td>\n",
       "      <td>0.000405</td>\n",
       "      <td>3536955.0</td>\n",
       "      <td>4075929.0</td>\n",
       "    </tr>\n",
       "    <tr>\n",
       "      <th>2007-04-05</th>\n",
       "      <td>7099.91</td>\n",
       "      <td>9099.08</td>\n",
       "      <td>0.003669</td>\n",
       "      <td>0.004567</td>\n",
       "      <td>3549955.0</td>\n",
       "      <td>4094586.0</td>\n",
       "    </tr>\n",
       "    <tr>\n",
       "      <th>2007-04-06</th>\n",
       "      <td>7099.91</td>\n",
       "      <td>9099.08</td>\n",
       "      <td>0.000000</td>\n",
       "      <td>0.000000</td>\n",
       "      <td>3549955.0</td>\n",
       "      <td>4094586.0</td>\n",
       "    </tr>\n",
       "    <tr>\n",
       "      <th>...</th>\n",
       "      <td>...</td>\n",
       "      <td>...</td>\n",
       "      <td>...</td>\n",
       "      <td>...</td>\n",
       "      <td>...</td>\n",
       "      <td>...</td>\n",
       "    </tr>\n",
       "    <tr>\n",
       "      <th>2010-03-26</th>\n",
       "      <td>6120.05</td>\n",
       "      <td>6838.95</td>\n",
       "      <td>-0.002106</td>\n",
       "      <td>-0.008042</td>\n",
       "      <td>3060025.0</td>\n",
       "      <td>3077527.5</td>\n",
       "    </tr>\n",
       "    <tr>\n",
       "      <th>2010-03-29</th>\n",
       "      <td>6156.85</td>\n",
       "      <td>6850.58</td>\n",
       "      <td>0.005995</td>\n",
       "      <td>0.001699</td>\n",
       "      <td>3078425.0</td>\n",
       "      <td>3082761.0</td>\n",
       "    </tr>\n",
       "    <tr>\n",
       "      <th>2010-03-30</th>\n",
       "      <td>6142.45</td>\n",
       "      <td>6871.42</td>\n",
       "      <td>-0.002342</td>\n",
       "      <td>0.003037</td>\n",
       "      <td>3071225.0</td>\n",
       "      <td>3092139.0</td>\n",
       "    </tr>\n",
       "    <tr>\n",
       "      <th>2010-03-31</th>\n",
       "      <td>6153.55</td>\n",
       "      <td>6873.37</td>\n",
       "      <td>0.001805</td>\n",
       "      <td>0.000284</td>\n",
       "      <td>3076775.0</td>\n",
       "      <td>3093016.5</td>\n",
       "    </tr>\n",
       "    <tr>\n",
       "      <th>2010-04-01</th>\n",
       "      <td>6235.56</td>\n",
       "      <td>6888.92</td>\n",
       "      <td>0.013239</td>\n",
       "      <td>0.002260</td>\n",
       "      <td>3117780.0</td>\n",
       "      <td>3100014.0</td>\n",
       "    </tr>\n",
       "  </tbody>\n",
       "</table>\n",
       "<p>784 rows × 6 columns</p>\n",
       "</div>"
      ],
      "text/plain": [
       "                DAX      SMI     R_DAX     R_SMI    DAX_eur    SMI_eur\n",
       "Date                                                                  \n",
       "2007-04-02  6937.17  8956.31  0.002907 -0.002306  3468585.0  4030339.5\n",
       "2007-04-03  7045.56  9053.95  0.015504  0.010843  3522780.0  4074277.5\n",
       "2007-04-04  7073.91  9057.62  0.004016  0.000405  3536955.0  4075929.0\n",
       "2007-04-05  7099.91  9099.08  0.003669  0.004567  3549955.0  4094586.0\n",
       "2007-04-06  7099.91  9099.08  0.000000  0.000000  3549955.0  4094586.0\n",
       "...             ...      ...       ...       ...        ...        ...\n",
       "2010-03-26  6120.05  6838.95 -0.002106 -0.008042  3060025.0  3077527.5\n",
       "2010-03-29  6156.85  6850.58  0.005995  0.001699  3078425.0  3082761.0\n",
       "2010-03-30  6142.45  6871.42 -0.002342  0.003037  3071225.0  3092139.0\n",
       "2010-03-31  6153.55  6873.37  0.001805  0.000284  3076775.0  3093016.5\n",
       "2010-04-01  6235.56  6888.92  0.013239  0.002260  3117780.0  3100014.0\n",
       "\n",
       "[784 rows x 6 columns]"
      ]
     },
     "metadata": {},
     "output_type": "display_data"
    }
   ],
   "source": [
    "df['R_DAX'] = np.log(df[['DAX']]) - np.log(df[['DAX']]).shift(1) # calculate DAX returns\n",
    "df['R_SMI'] = np.log(df[['SMI']]) - np.log(df[['SMI']]).shift(1) # calculate SMI returns\n",
    "df = df.dropna() # drop N/A entries\n",
    "\n",
    "R_DAX =  (df['R_DAX'])['2007-03-30':] # remove first row from returns \n",
    "R_SMI =  (df['R_SMI'])['2007-03-30':] \n",
    "\n",
    "df['DAX_eur'] =  df[['DAX']]*500 # find the value of indices\n",
    "df['SMI_eur'] =  df[['SMI']]*450 \n",
    "\n",
    "display(df)\n"
   ]
  },
  {
   "cell_type": "markdown",
   "metadata": {},
   "source": [
    "Display a line graph of the returns,"
   ]
  },
  {
   "cell_type": "code",
   "execution_count": 771,
   "metadata": {},
   "outputs": [
    {
     "data": {
      "image/png": "[encoded data removed]",
      "text/plain": [
       "<Figure size 432x288 with 1 Axes>"
      ]
     },
     "metadata": {
      "needs_background": "light"
     },
     "output_type": "display_data"
    },
    {
     "data": {
      "image/png": "[encoded data removed]",
      "text/plain": [
       "<Figure size 432x288 with 1 Axes>"
      ]
     },
     "metadata": {
      "needs_background": "light"
     },
     "output_type": "display_data"
    },
    {
     "name": "stdout",
     "output_type": "stream",
     "text": [
      "Skewness\n",
      "DAX : 0.25802976832123947 / SMI: 0.18726592410554285\n",
      "Kurtosis\n",
      "DAX : 6.460467916791626 / SMI: 6.327211792289833\n"
     ]
    }
   ],
   "source": [
    "# line graph of the returns\n",
    "R_DAX.plot()\n",
    "plt.title('Figure 1: DAX Returns')\n",
    "plt.legend(['R_DAX'])\n",
    "plt.show()\n",
    "\n",
    "R_SMI.plot()\n",
    "plt.title('Figure 2: SMI Returns')\n",
    "plt.legend(['R_SMI'])\n",
    "plt.show()\n",
    "\n",
    "# Calculate the skewness and kurtosis of the returns.\n",
    "\n",
    "# returns the skewness of a series\n",
    "print(\"Skewness\")\n",
    "print('DAX :', R_DAX .skew(),'/ SMI:',R_SMI.skew())\n",
    "\n",
    "# returns the excess kurtosis of a series\n",
    "print(\"Kurtosis\")\n",
    "print('DAX :',R_DAX.kurtosis() ,'/ SMI:',R_SMI.kurtosis()) \n"
   ]
  },
  {
   "cell_type": "markdown",
   "metadata": {},
   "source": [
    "a)\tEstimate the 1-day 99% VaR of both portfolios (individually) on the situation date 1 April 2010 using the Normal VaR approach. "
   ]
  },
  {
   "cell_type": "code",
   "execution_count": 772,
   "metadata": {},
   "outputs": [
    {
     "name": "stdout",
     "output_type": "stream",
     "text": [
      "DAX, 99% VaR (Normal distribution): 20.770983583520632\n",
      "SMI, 99% VaR (Normal distribution): 16.11053885341144\n",
      "DAX, Percentage of exceedence (Normal distribution): 0.0%\n",
      "SMI, Percentage of exceedence (Normal distribution): 0.0%\n"
     ]
    }
   ],
   "source": [
    "# the pth quantile of the normal distribution \n",
    "p=0.01\n",
    "pquantile_norm = stats.norm.ppf(p)\n",
    "\n",
    "\n",
    "# Obtain the 'VaR forecasts' and compute the 'percentage of exceedences'. \n",
    "price_DAX = 500\n",
    "price_SMI = 450\n",
    "\n",
    "c_DAX = np.std(R_DAX) # a constantseries / cons_std = R*0 + c\n",
    "c_SMI = np.std(R_SMI) \n",
    "VaR_forecast_norm_DAX = -price_DAX * c_DAX * stats.norm.ppf(p)\n",
    "VaR_forecast_norm_SMI = -price_SMI * c_SMI *stats.norm.ppf(p)\n",
    "print('DAX, 99% VaR (Normal distribution):', VaR_forecast_norm_DAX)\n",
    "print('SMI, 99% VaR (Normal distribution):', VaR_forecast_norm_SMI)\n",
    "\n",
    "hit_series_norm_DAX = np.where(R_DAX< -VaR_forecast_norm_DAX, 1, 0) # Create a hit series. 1: if R < -VaR_forecast\n",
    "hit_series_norm_SMI = np.where(R_SMI< -VaR_forecast_norm_SMI, 1, 0)\n",
    "\n",
    "per_exceed_norm_DAX = sum(hit_series_norm_DAX)/len(hit_series_norm_DAX)   # Calculate the percentage of exceedence.\n",
    "per_exceed_norm_SMI = sum(hit_series_norm_SMI)/len(hit_series_norm_SMI)\n",
    "\n",
    "print('DAX, Percentage of exceedence (Normal distribution):', str(round(per_exceed_norm_DAX*100,4)) +'%')\n",
    "print('SMI, Percentage of exceedence (Normal distribution):', str(round(per_exceed_norm_SMI*100,4)) +'%')\n"
   ]
  },
  {
   "cell_type": "markdown",
   "metadata": {},
   "source": [
    "b)\tExplain if the assumption of normally distributed returns is valid. "
   ]
  },
  {
   "cell_type": "code",
   "execution_count": 773,
   "metadata": {},
   "outputs": [
    {
     "name": "stdout",
     "output_type": "stream",
     "text": [
      "DAX : Jarque_beraResult(statistic=1351.5881129202228, pvalue=0.0)\n",
      "SMI : Jarque_beraResult(statistic=1292.5938610563617, pvalue=0.0)\n"
     ]
    }
   ],
   "source": [
    "print('DAX :', stats.jarque_bera(R_DAX))\n",
    "print('SMI :', stats.jarque_bera(R_SMI))"
   ]
  },
  {
   "cell_type": "markdown",
   "metadata": {},
   "source": [
    "Jarque-Bera test is designed to test the normality (goodness of fit test). The test statistic for JB test with p = 99.5% is 10.597.\n",
    "The actual result of the DAX return is larger than JB test statistic. (1345.2635 > 10.597)\n",
    "The actual result of the SMI return is larger than JB test statistic. (1286.1795 > 10.597)\n",
    "The p values from two types of returns are also significant (p < 0.01)\n",
    "Therefore we can conclude that the assumption of normally distributed reuturn is not valid\n"
   ]
  },
  {
   "cell_type": "markdown",
   "metadata": {},
   "source": [
    "c)\tEstimate the 1-day 99% VaR for both portfolios (individually) on the situation date 1 April 2010 using the Historical Simulation approach. "
   ]
  },
  {
   "cell_type": "code",
   "execution_count": 774,
   "metadata": {},
   "outputs": [
    {
     "name": "stdout",
     "output_type": "stream",
     "text": [
      "The historical DAX 99% VaR is -5.4%\n",
      "The historical SMI 99% VaR is -5.1%\n"
     ]
    }
   ],
   "source": [
    "historic_var_DAX = np.percentile(R_DAX, 1, interpolation='lower')\n",
    "historic_var_SMI = np.percentile(R_SMI, 1, interpolation='lower')\n",
    "\n",
    "print(f'The historical DAX 99% VaR is {str(round(historic_var_DAX,4)*100)}%')\n",
    "print(f'The historical SMI 99% VaR is {str(round(historic_var_SMI,4)*100)}%')"
   ]
  },
  {
   "cell_type": "markdown",
   "metadata": {},
   "source": [
    "## 2 "
   ]
  },
  {
   "cell_type": "markdown",
   "metadata": {},
   "source": [
    "a)\tEstimate the 1-day 99% VaR of the consolidated portfolio for the situation date 1 April 2010 using the Normal Variance-Covariance VaR approach. "
   ]
  },
  {
   "cell_type": "code",
   "execution_count": 775,
   "metadata": {},
   "outputs": [],
   "source": [
    "# Declare Empty Lists\n",
    "Mean = []\n",
    "STD = []\n",
    "\n",
    "#Calculate DEAR\n",
    "ticker_R = ['R_DAX', 'R_SMI']\n",
    "value = df[['DAX', 'SMI']].iloc[-1]\n",
    "\n",
    "for i in range(2):\n",
    "    v = np.std(df[ticker_R[i]])              # Standard Error\n",
    "    mean = np.mean(df[ticker_R[i]])          # Mean \n",
    "\n",
    "    # Append those values in lists\n",
    "    Mean.append(mean)\n",
    "    STD.append(v)"
   ]
  },
  {
   "cell_type": "code",
   "execution_count": 776,
   "metadata": {},
   "outputs": [
    {
     "data": {
      "text/html": [
       "<div>\n",
       "<style scoped>\n",
       "    .dataframe tbody tr th:only-of-type {\n",
       "        vertical-align: middle;\n",
       "    }\n",
       "\n",
       "    .dataframe tbody tr th {\n",
       "        vertical-align: top;\n",
       "    }\n",
       "\n",
       "    .dataframe thead th {\n",
       "        text-align: right;\n",
       "    }\n",
       "</style>\n",
       "<table border=\"1\" class=\"dataframe\">\n",
       "  <thead>\n",
       "    <tr style=\"text-align: right;\">\n",
       "      <th></th>\n",
       "      <th>Mean</th>\n",
       "      <th>STD</th>\n",
       "    </tr>\n",
       "  </thead>\n",
       "  <tbody>\n",
       "    <tr>\n",
       "      <th>R_DAX</th>\n",
       "      <td>-0.000132</td>\n",
       "      <td>0.017857</td>\n",
       "    </tr>\n",
       "    <tr>\n",
       "      <th>R_SMI</th>\n",
       "      <td>-0.000338</td>\n",
       "      <td>0.015389</td>\n",
       "    </tr>\n",
       "  </tbody>\n",
       "</table>\n",
       "</div>"
      ],
      "text/plain": [
       "           Mean       STD\n",
       "R_DAX -0.000132  0.017857\n",
       "R_SMI -0.000338  0.015389"
      ]
     },
     "metadata": {},
     "output_type": "display_data"
    }
   ],
   "source": [
    "# Construct new Table\n",
    "dear = pd.DataFrame({'Mean': Mean, 'STD': STD}, index = ['R_DAX','R_SMI'])\n",
    "display(dear)"
   ]
  },
  {
   "cell_type": "code",
   "execution_count": 777,
   "metadata": {},
   "outputs": [
    {
     "data": {
      "text/html": [
       "<div>\n",
       "<style scoped>\n",
       "    .dataframe tbody tr th:only-of-type {\n",
       "        vertical-align: middle;\n",
       "    }\n",
       "\n",
       "    .dataframe tbody tr th {\n",
       "        vertical-align: top;\n",
       "    }\n",
       "\n",
       "    .dataframe thead th {\n",
       "        text-align: right;\n",
       "    }\n",
       "</style>\n",
       "<table border=\"1\" class=\"dataframe\">\n",
       "  <thead>\n",
       "    <tr style=\"text-align: right;\">\n",
       "      <th></th>\n",
       "      <th>R_DAX</th>\n",
       "      <th>R_SMI</th>\n",
       "    </tr>\n",
       "  </thead>\n",
       "  <tbody>\n",
       "    <tr>\n",
       "      <th>R_DAX</th>\n",
       "      <td>1.000000</td>\n",
       "      <td>0.818536</td>\n",
       "    </tr>\n",
       "    <tr>\n",
       "      <th>R_SMI</th>\n",
       "      <td>0.818536</td>\n",
       "      <td>1.000000</td>\n",
       "    </tr>\n",
       "  </tbody>\n",
       "</table>\n",
       "</div>"
      ],
      "text/plain": [
       "          R_DAX     R_SMI\n",
       "R_DAX  1.000000  0.818536\n",
       "R_SMI  0.818536  1.000000"
      ]
     },
     "metadata": {},
     "output_type": "display_data"
    }
   ],
   "source": [
    "# Correlation Coefficient\n",
    "rho = df[['R_DAX','R_SMI']].corr() # find the correlation of two returns\n",
    "display(rho)\n",
    "\n",
    "# Instead of price data, we apply return data to get the correlation coefficient among stocks. \n",
    "# By doing so, we would avoid Spurious Regression and compute correct coefficient.\n"
   ]
  },
  {
   "cell_type": "code",
   "execution_count": 778,
   "metadata": {},
   "outputs": [
    {
     "data": {
      "text/html": [
       "<div>\n",
       "<style scoped>\n",
       "    .dataframe tbody tr th:only-of-type {\n",
       "        vertical-align: middle;\n",
       "    }\n",
       "\n",
       "    .dataframe tbody tr th {\n",
       "        vertical-align: top;\n",
       "    }\n",
       "\n",
       "    .dataframe thead th {\n",
       "        text-align: right;\n",
       "    }\n",
       "</style>\n",
       "<table border=\"1\" class=\"dataframe\">\n",
       "  <thead>\n",
       "    <tr style=\"text-align: right;\">\n",
       "      <th></th>\n",
       "      <th>Mean</th>\n",
       "      <th>STD</th>\n",
       "      <th>R_DAX</th>\n",
       "      <th>R_SMI</th>\n",
       "    </tr>\n",
       "  </thead>\n",
       "  <tbody>\n",
       "    <tr>\n",
       "      <th>R_DAX</th>\n",
       "      <td>-0.000132</td>\n",
       "      <td>0.017857</td>\n",
       "      <td>1.000000</td>\n",
       "      <td>0.818536</td>\n",
       "    </tr>\n",
       "    <tr>\n",
       "      <th>R_SMI</th>\n",
       "      <td>-0.000338</td>\n",
       "      <td>0.015389</td>\n",
       "      <td>0.818536</td>\n",
       "      <td>1.000000</td>\n",
       "    </tr>\n",
       "  </tbody>\n",
       "</table>\n",
       "</div>"
      ],
      "text/plain": [
       "           Mean       STD     R_DAX     R_SMI\n",
       "R_DAX -0.000132  0.017857  1.000000  0.818536\n",
       "R_SMI -0.000338  0.015389  0.818536  1.000000"
      ]
     },
     "metadata": {},
     "output_type": "display_data"
    }
   ],
   "source": [
    "# concatenate dear and rho\n",
    "portfolio = pd.concat([dear, rho,], axis = 1) \n",
    "display(portfolio)"
   ]
  },
  {
   "cell_type": "code",
   "execution_count": 786,
   "metadata": {},
   "outputs": [
    {
     "name": "stdout",
     "output_type": "stream",
     "text": [
      "Variance of consolidate portfolio is 0.0003\n",
      "Volatility of consolidate portfolio is 0.0159\n",
      "99% relative VaR of consolidate portfolio is 17.5248%\n"
     ]
    }
   ],
   "source": [
    "# calculate weights of each portfolio (based on latest figures)\n",
    "w1 = df['DAX_eur'].iloc[-1]/(df['DAX_eur'].iloc[-1] + df['SMI_eur'].iloc[-1])\n",
    "w2 = df['SMI_eur'].iloc[-1]/(df['DAX_eur'].iloc[-1] + df['SMI_eur'].iloc[-1])\n",
    "\n",
    "# define variables\n",
    "DAX_std = portfolio.at['R_DAX','STD'] # standard deviation\n",
    "SMI_std = portfolio.at['R_SMI','STD']\n",
    "corr = portfolio.at['R_DAX','R_SMI'] # correlation\n",
    "\n",
    "# calculate the variance and volatility of the consolidated portfolio\n",
    "var_port_consol = w1**2*DAX_std**2 + w2**2*SMI_std**2 + 2*(w1*w2*DAX_std*SMI_std*corr) # variance\n",
    "vol_port_consol = var_port_consol**(1/2) # volatility\n",
    "\n",
    "\n",
    "def rel_VaR(price1,weight1,price2,weight2,sigma,Quantile):\n",
    "    \"\"\"\n",
    "    Relative VaR\n",
    "    \"\"\"\n",
    "    return (price1*weight1 + price2*weight2) * sigma * stats.norm.ppf(Quantile)\n",
    "\n",
    "\n",
    "print(f'Variance of consolidate portfolio is {str(round(var_port_consol,4))}')\n",
    "print(f'Volatility of consolidate portfolio is {str(round(vol_port_consol,4))}')\n",
    "print(f'99% relative VaR of consolidate portfolio is {str(round(rel_VaR(500,0.5,450,0.5,vol_port_consol,0.99),4))}%')\n"
   ]
  },
  {
   "cell_type": "markdown",
   "metadata": {},
   "source": [
    "Interpretation\n",
    "\n",
    "According to above calculation, we conclude that maximum loss of the portfolio in one day would not exceed 394 thousands at 99 percent chance. However, market always fluctuates. Hence, keeping the calculation of VaR regularly would make our judgement more accurately."
   ]
  },
  {
   "cell_type": "markdown",
   "metadata": {},
   "source": [
    "b)\tEstimate the 1-day 99% VaR of the consolidated portfolio for the situation date 1 April 2010 using the Historical Simulation approach. "
   ]
  },
  {
   "cell_type": "code",
   "execution_count": 781,
   "metadata": {},
   "outputs": [
    {
     "data": {
      "text/html": [
       "<div>\n",
       "<style scoped>\n",
       "    .dataframe tbody tr th:only-of-type {\n",
       "        vertical-align: middle;\n",
       "    }\n",
       "\n",
       "    .dataframe tbody tr th {\n",
       "        vertical-align: top;\n",
       "    }\n",
       "\n",
       "    .dataframe thead th {\n",
       "        text-align: right;\n",
       "    }\n",
       "</style>\n",
       "<table border=\"1\" class=\"dataframe\">\n",
       "  <thead>\n",
       "    <tr style=\"text-align: right;\">\n",
       "      <th></th>\n",
       "      <th>DAX</th>\n",
       "      <th>SMI</th>\n",
       "      <th>R_DAX</th>\n",
       "      <th>R_SMI</th>\n",
       "      <th>DAX_eur</th>\n",
       "      <th>SMI_eur</th>\n",
       "      <th>R_portf</th>\n",
       "    </tr>\n",
       "    <tr>\n",
       "      <th>Date</th>\n",
       "      <th></th>\n",
       "      <th></th>\n",
       "      <th></th>\n",
       "      <th></th>\n",
       "      <th></th>\n",
       "      <th></th>\n",
       "      <th></th>\n",
       "    </tr>\n",
       "  </thead>\n",
       "  <tbody>\n",
       "    <tr>\n",
       "      <th>2007-04-02</th>\n",
       "      <td>6937.17</td>\n",
       "      <td>8956.31</td>\n",
       "      <td>0.002907</td>\n",
       "      <td>-0.002306</td>\n",
       "      <td>3468585.0</td>\n",
       "      <td>4030339.5</td>\n",
       "      <td>0.000601</td>\n",
       "    </tr>\n",
       "    <tr>\n",
       "      <th>2007-04-03</th>\n",
       "      <td>7045.56</td>\n",
       "      <td>9053.95</td>\n",
       "      <td>0.015504</td>\n",
       "      <td>0.010843</td>\n",
       "      <td>3522780.0</td>\n",
       "      <td>4074277.5</td>\n",
       "      <td>0.026347</td>\n",
       "    </tr>\n",
       "    <tr>\n",
       "      <th>2007-04-04</th>\n",
       "      <td>7073.91</td>\n",
       "      <td>9057.62</td>\n",
       "      <td>0.004016</td>\n",
       "      <td>0.000405</td>\n",
       "      <td>3536955.0</td>\n",
       "      <td>4075929.0</td>\n",
       "      <td>0.004421</td>\n",
       "    </tr>\n",
       "    <tr>\n",
       "      <th>2007-04-05</th>\n",
       "      <td>7099.91</td>\n",
       "      <td>9099.08</td>\n",
       "      <td>0.003669</td>\n",
       "      <td>0.004567</td>\n",
       "      <td>3549955.0</td>\n",
       "      <td>4094586.0</td>\n",
       "      <td>0.008236</td>\n",
       "    </tr>\n",
       "    <tr>\n",
       "      <th>2007-04-06</th>\n",
       "      <td>7099.91</td>\n",
       "      <td>9099.08</td>\n",
       "      <td>0.000000</td>\n",
       "      <td>0.000000</td>\n",
       "      <td>3549955.0</td>\n",
       "      <td>4094586.0</td>\n",
       "      <td>0.000000</td>\n",
       "    </tr>\n",
       "    <tr>\n",
       "      <th>...</th>\n",
       "      <td>...</td>\n",
       "      <td>...</td>\n",
       "      <td>...</td>\n",
       "      <td>...</td>\n",
       "      <td>...</td>\n",
       "      <td>...</td>\n",
       "      <td>...</td>\n",
       "    </tr>\n",
       "    <tr>\n",
       "      <th>2010-03-26</th>\n",
       "      <td>6120.05</td>\n",
       "      <td>6838.95</td>\n",
       "      <td>-0.002106</td>\n",
       "      <td>-0.008042</td>\n",
       "      <td>3060025.0</td>\n",
       "      <td>3077527.5</td>\n",
       "      <td>-0.010148</td>\n",
       "    </tr>\n",
       "    <tr>\n",
       "      <th>2010-03-29</th>\n",
       "      <td>6156.85</td>\n",
       "      <td>6850.58</td>\n",
       "      <td>0.005995</td>\n",
       "      <td>0.001699</td>\n",
       "      <td>3078425.0</td>\n",
       "      <td>3082761.0</td>\n",
       "      <td>0.007694</td>\n",
       "    </tr>\n",
       "    <tr>\n",
       "      <th>2010-03-30</th>\n",
       "      <td>6142.45</td>\n",
       "      <td>6871.42</td>\n",
       "      <td>-0.002342</td>\n",
       "      <td>0.003037</td>\n",
       "      <td>3071225.0</td>\n",
       "      <td>3092139.0</td>\n",
       "      <td>0.000696</td>\n",
       "    </tr>\n",
       "    <tr>\n",
       "      <th>2010-03-31</th>\n",
       "      <td>6153.55</td>\n",
       "      <td>6873.37</td>\n",
       "      <td>0.001805</td>\n",
       "      <td>0.000284</td>\n",
       "      <td>3076775.0</td>\n",
       "      <td>3093016.5</td>\n",
       "      <td>0.002089</td>\n",
       "    </tr>\n",
       "    <tr>\n",
       "      <th>2010-04-01</th>\n",
       "      <td>6235.56</td>\n",
       "      <td>6888.92</td>\n",
       "      <td>0.013239</td>\n",
       "      <td>0.002260</td>\n",
       "      <td>3117780.0</td>\n",
       "      <td>3100014.0</td>\n",
       "      <td>0.015499</td>\n",
       "    </tr>\n",
       "  </tbody>\n",
       "</table>\n",
       "<p>784 rows × 7 columns</p>\n",
       "</div>"
      ],
      "text/plain": [
       "                DAX      SMI     R_DAX     R_SMI    DAX_eur    SMI_eur  \\\n",
       "Date                                                                     \n",
       "2007-04-02  6937.17  8956.31  0.002907 -0.002306  3468585.0  4030339.5   \n",
       "2007-04-03  7045.56  9053.95  0.015504  0.010843  3522780.0  4074277.5   \n",
       "2007-04-04  7073.91  9057.62  0.004016  0.000405  3536955.0  4075929.0   \n",
       "2007-04-05  7099.91  9099.08  0.003669  0.004567  3549955.0  4094586.0   \n",
       "2007-04-06  7099.91  9099.08  0.000000  0.000000  3549955.0  4094586.0   \n",
       "...             ...      ...       ...       ...        ...        ...   \n",
       "2010-03-26  6120.05  6838.95 -0.002106 -0.008042  3060025.0  3077527.5   \n",
       "2010-03-29  6156.85  6850.58  0.005995  0.001699  3078425.0  3082761.0   \n",
       "2010-03-30  6142.45  6871.42 -0.002342  0.003037  3071225.0  3092139.0   \n",
       "2010-03-31  6153.55  6873.37  0.001805  0.000284  3076775.0  3093016.5   \n",
       "2010-04-01  6235.56  6888.92  0.013239  0.002260  3117780.0  3100014.0   \n",
       "\n",
       "             R_portf  \n",
       "Date                  \n",
       "2007-04-02  0.000601  \n",
       "2007-04-03  0.026347  \n",
       "2007-04-04  0.004421  \n",
       "2007-04-05  0.008236  \n",
       "2007-04-06  0.000000  \n",
       "...              ...  \n",
       "2010-03-26 -0.010148  \n",
       "2010-03-29  0.007694  \n",
       "2010-03-30  0.000696  \n",
       "2010-03-31  0.002089  \n",
       "2010-04-01  0.015499  \n",
       "\n",
       "[784 rows x 7 columns]"
      ]
     },
     "execution_count": 781,
     "metadata": {},
     "output_type": "execute_result"
    }
   ],
   "source": [
    "w1_DAX = df['DAX'].iloc[-1]/(df['DAX'].iloc[-1] + df['SMI'].iloc[-1]) # weight of DAX with latest figure\n",
    "w1_SMI = df['SMI'].iloc[-1]/(df['DAX'].iloc[-1] + df['SMI'].iloc[-1])\n",
    "price_port = w1_DAX*price_DAX + w1_SMI*price_SMI\n",
    "\n",
    "df['R_portf'] = df['R_DAX'] + df['R_SMI']\n",
    "df"
   ]
  },
  {
   "cell_type": "code",
   "execution_count": 782,
   "metadata": {},
   "outputs": [
    {
     "data": {
      "text/plain": [
       "0     -0.153784\n",
       "1     -0.136517\n",
       "2     -0.128402\n",
       "3     -0.124501\n",
       "4     -0.117260\n",
       "         ...   \n",
       "779    0.113039\n",
       "780    0.113663\n",
       "781    0.124309\n",
       "782    0.159214\n",
       "783    0.215851\n",
       "Name: R_portf, Length: 784, dtype: float64"
      ]
     },
     "execution_count": 782,
     "metadata": {},
     "output_type": "execute_result"
    }
   ],
   "source": [
    "daily_return_rates = df['R_portf'].sort_values().reset_index(drop=True)\n",
    "daily_return_rates"
   ]
  },
  {
   "cell_type": "code",
   "execution_count": 783,
   "metadata": {},
   "outputs": [],
   "source": [
    "quantile = 0.01\n",
    "\n",
    "daily_return_rates = df['R_portf'].sort_values().reset_index(drop=True)\n",
    "xth = int(np.floor(quantile*len(daily_return_rates))) - 1\n",
    "xth_smallest_rate = daily_return_rates[xth]\n",
    "xth_smallest_rate\n",
    "\n",
    "mean_return_rate = daily_return_rates.mean()\n",
    "\n",
    "\n",
    "rel_VaR = price_port * (mean_return_rate - xth_smallest_rate)\n",
    "abs_VaR = price_port * xth_smallest_rate"
   ]
  },
  {
   "cell_type": "markdown",
   "metadata": {},
   "source": [
    "# have to do smt with portfolio price up"
   ]
  },
  {
   "cell_type": "markdown",
   "metadata": {},
   "source": [
    "c)\tCompare the consolidated VaR figures to the sum of individual portfolio VaRs. Can you explain the difference? How large is the diversification effect for each of the VaR models?"
   ]
  },
  {
   "cell_type": "code",
   "execution_count": null,
   "metadata": {},
   "outputs": [],
   "source": []
  }
 ],
 "metadata": {
  "interpreter": {
   "hash": "59b3f9f76e9d39472e16cf3a53ce4e989704feab3b597196af00ca205a7e526b"
  },
  "kernelspec": {
   "display_name": "Python 3.9.7 ('base')",
   "language": "python",
   "name": "python3"
  },
  "language_info": {
   "codemirror_mode": {
    "name": "ipython",
    "version": 3
   },
   "file_extension": ".py",
   "mimetype": "text/x-python",
   "name": "python",
   "nbconvert_exporter": "python",
   "pygments_lexer": "ipython3",
   "version": "3.9.7"
  },
  "orig_nbformat": 4
 },
 "nbformat": 4,
 "nbformat_minor": 2
}
