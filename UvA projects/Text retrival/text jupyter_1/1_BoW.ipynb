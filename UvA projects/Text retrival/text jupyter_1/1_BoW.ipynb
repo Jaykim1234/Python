{
 "cells": [
  {
   "cell_type": "markdown",
   "metadata": {
    "id": "igxW8k7D8l-7"
   },
   "source": [
    "# Introduction to Bag of Words"
   ]
  },
  {
   "cell_type": "markdown",
   "metadata": {
    "id": "m7os8wyd8pyG"
   },
   "source": [
    "Bag-of-Words is a family of text representations, where text vectors are built by observing and counting the words that appear in a text.\n",
    "\n",
    "We study 2 types of BoW vectors:\n",
    "* **Raw Count**: actually count the number of occurences of each word in a text\n",
    "* **TF-IDF**: adjust the raw count to favor words that appear a lot in a few documents, as opposed to those who appear a lot in all documents"
   ]
  },
  {
   "cell_type": "markdown",
   "metadata": {
    "id": "PkNx4UuJSCqr"
   },
   "source": [
    "## Definitions"
   ]
  },
  {
   "cell_type": "markdown",
   "metadata": {
    "id": "2dxmX4zvSJSN"
   },
   "source": [
    "**Document** and **Corpus**: \n",
    "* **Document** is the smallest unit of text of your use case\n",
    "* **Corpus** is your collection of documents\n",
    "* **Use case**: think of the typical question you are looking the answer to\n",
    "* **Query**: the text you will use to search in your corpus\n",
    "\n",
    "A few examples of use cases:\n",
    "* Use case 1: \"*which academic papers are about black holes?*\"\n",
    "   * Corpus: academic papers uploaded to ArXiv\n",
    "   * Document: 1 paper\n",
    "   * Query: \"black hole\"\n",
    "* Use case 2: \"*Where does Victor Hugo mention Notre-Dame?*\"\n",
    "   * Corpus: entire works from Victor Hugo\n",
    "   * Document: 1 paragraph\n",
    "   * Query: \"notre dame\"\n",
    "* Use case 3: \"*What can I cook with pasta and garlic?*\"\n",
    "   * Corpus: all recipes in multiple cook books\n",
    "   * Document: 1 recipe\n",
    "   * Query: \"pasta garlic\"\n",
    "\n",
    "**Tokenizer**\n",
    "\n",
    "A tokenizer is a program that takes in a text and splits it into smaller units. A book can be split into chapters, into paragraphs, into sentences, into words. Those are all examples of tokenization process.\n",
    "\n",
    "Once a text is tokenized into sentences, you can tokenize sentences into words.\n",
    "\n",
    "\n",
    "**Sentence**\n",
    "\n",
    "In natural language, a text is made of multiple sentences, separated by punctuation marks such as `.`. It is nonetheless a challenge to split a text into sentences as some `.` indicate abbreviations, for example.\n",
    "\n",
    "**Word**:\n",
    "\n",
    "Any text is made of words. Sometimes they are nicely separated by spaces or punctuation marks. As with sentences, some words include punctuation marks, like `U.S.A.`, or `to court-martial`.\n",
    "\n",
    "\n",
    "**Vocabulary**:\n",
    "\n",
    "The list of unique words used in the corpus.\n",
    "\n"
   ]
  },
  {
   "cell_type": "code",
   "execution_count": null,
   "metadata": {
    "id": "TiHIb5UdYmjb"
   },
   "outputs": [],
   "source": [
    "import numpy as np\n",
    "import math\n",
    "import pandas as pd"
   ]
  },
  {
   "cell_type": "markdown",
   "metadata": {
    "id": "utaw9nXe9UfO"
   },
   "source": [
    "## Download Corpus"
   ]
  },
  {
   "cell_type": "markdown",
   "metadata": {
    "id": "m4HBqOrd9Ww7"
   },
   "source": [
    "We will use some short extracts from a Sherlock Holmes story \"Scandal in Bohemia\", by Sir Arthur Conan Doyle.\n",
    "\n",
    "We will start with the first paragraph of the book.\n",
    "\n",
    "* **Corpus**: All sentences in \"Scandal in Bohemia\"\n",
    "* **Document**: 1 sentence of the book"
   ]
  },
  {
   "cell_type": "code",
   "execution_count": null,
   "metadata": {
    "colab": {
     "base_uri": "https://localhost:8080/"
    },
    "id": "OgFygmknSgGz",
    "outputId": "21a809bf-5721-4f07-8193-103873dec760"
   },
   "outputs": [
    {
     "name": "stdout",
     "output_type": "stream",
     "text": [
      "['                              A SCANDAL IN BOHEMIA\\n', '                               Arthur Conan Doyle\\n', '                                Table of contents\\n', '                                     Chapter 1\\n', '                                     Chapter 2\\n', '                                     Chapter 3\\n', '          CHAPTER I\\n', '     To Sherlock Holmes she is always the woman. I have seldom heard him\\n', '     mention her under any other name. In his eyes she eclipses and\\n', '     predominates the whole of her sex. It was not that he felt any\\n', '     emotion akin to love for Irene Adler. All emotions, and that one\\n', '     particularly, were abhorrent to his cold, precise but admirably\\n', '     balanced mind. He was, I take it, the most perfect reasoning and\\n', '     observing machine that the world has seen, but as a lover he would\\n', '     have placed himself in a false position. He never spoke of the softer\\n', '     passions, save with a gibe and a sneer. They were admirable things\\n', \"     for the observer--excellent for drawing the veil from men's motives\\n\", '     and actions. But for the trained reasoner to admit such intrusions\\n', '     into his own delicate and finely adjusted temperament was to\\n', '     introduce a distracting factor which might throw a doubt upon all his\\n']\n"
     ]
    }
   ],
   "source": [
    "import requests\n",
    "\n",
    "r = requests.get('https://sherlock-holm.es/stories/plain-text/scan.txt')\n",
    "\n",
    "assert r.status_code == 200\n",
    "\n",
    "with open('scandal_in_bohemia.txt', 'w') as out:\n",
    "    out.write(r.content.decode('utf-8'))\n",
    "lines = [txt for txt in open('scandal_in_bohemia.txt') if len(txt.strip()) > 0]\n",
    "\n",
    "print(lines[:20])"
   ]
  },
  {
   "cell_type": "code",
   "execution_count": null,
   "metadata": {
    "colab": {
     "base_uri": "https://localhost:8080/"
    },
    "id": "i4uzaTvj3DcO",
    "outputId": "bae9c9b6-e0e4-415f-e856-e13a87937ae5"
   },
   "outputs": [
    {
     "name": "stdout",
     "output_type": "stream",
     "text": [
      "To Sherlock Holmes she is always the woman. I have seldom heard him mention her\n",
      "under any other name. In his eyes she eclipses and predominates the whole of her\n",
      "sex. It was not that he felt any emotion akin to love for Irene Adler. All\n",
      "emotions, and that one particularly, were abhorrent to his cold, precise but\n",
      "admirably balanced mind. He was, I take it, the most perfect reasoning and\n",
      "observing machine that the world has seen, but as a lover he would have placed\n",
      "himself in a false position. He never spoke of the softer passions, save with a\n",
      "gibe and a sneer. They were admirable things for the observer--excellent for\n",
      "drawing the veil from men's motives and actions. But for the trained reasoner to\n",
      "admit such intrusions into his own delicate and finely adjusted temperament was\n",
      "to introduce a distracting factor which might throw a doubt upon all his mental\n",
      "results. Grit in a sensitive instrument, or a crack in one of his own high-power\n",
      "lenses, would not be more disturbing than a strong emotion in a nature such as\n",
      "his. And yet there was but one woman to him, and that woman was the late Irene\n",
      "Adler, of dubious and questionable memory.\n"
     ]
    }
   ],
   "source": [
    "# First Paragraph\n",
    "par = ' '.join([x.strip() for x in lines[7:25]])\n",
    "\n",
    "import textwrap\n",
    "print(textwrap.fill(par, width=80))"
   ]
  },
  {
   "cell_type": "markdown",
   "metadata": {
    "id": "-6aj-8EP9zk1"
   },
   "source": [
    "## NLTK"
   ]
  },
  {
   "cell_type": "markdown",
   "metadata": {
    "id": "Gy-4tp9b90_z"
   },
   "source": [
    "NLTK is a Python library for text analytics.\n",
    "\n",
    "See [Link](https://www.nltk.org)."
   ]
  },
  {
   "cell_type": "code",
   "execution_count": null,
   "metadata": {
    "colab": {
     "base_uri": "https://localhost:8080/"
    },
    "id": "5ucJUYSk3y4F",
    "outputId": "ce1138f5-0858-4350-ff3a-2ba7b8795f9d"
   },
   "outputs": [
    {
     "name": "stdout",
     "output_type": "stream",
     "text": [
      "[nltk_data] Downloading package punkt to /root/nltk_data...\n",
      "[nltk_data]   Unzipping tokenizers/punkt.zip.\n"
     ]
    },
    {
     "data": {
      "text/plain": [
       "True"
      ]
     },
     "execution_count": 4,
     "metadata": {
      "tags": []
     },
     "output_type": "execute_result"
    }
   ],
   "source": [
    "import nltk\n",
    "nltk.download('punkt')"
   ]
  },
  {
   "cell_type": "markdown",
   "metadata": {
    "id": "0z2AHyMD-Cg1"
   },
   "source": [
    "The **sentence tokenizer** takes care to split a text into sentences."
   ]
  },
  {
   "cell_type": "code",
   "execution_count": null,
   "metadata": {
    "colab": {
     "base_uri": "https://localhost:8080/"
    },
    "id": "8BHQTYmh1IiJ",
    "outputId": "b08dc8f3-fa56-4279-bba1-889671b5e2a3"
   },
   "outputs": [
    {
     "data": {
      "text/plain": [
       "['To Sherlock Holmes she is always the woman.',\n",
       " 'I have seldom heard him mention her under any other name.',\n",
       " 'In his eyes she eclipses and predominates the whole of her sex.',\n",
       " 'It was not that he felt any emotion akin to love for Irene Adler.',\n",
       " 'All emotions, and that one particularly, were abhorrent to his cold, precise but admirably balanced mind.',\n",
       " 'He was, I take it, the most perfect reasoning and observing machine that the world has seen, but as a lover he would have placed himself in a false position.',\n",
       " 'He never spoke of the softer passions, save with a gibe and a sneer.',\n",
       " \"They were admirable things for the observer--excellent for drawing the veil from men's motives and actions.\",\n",
       " 'But for the trained reasoner to admit such intrusions into his own delicate and finely adjusted temperament was to introduce a distracting factor which might throw a doubt upon all his mental results.',\n",
       " 'Grit in a sensitive instrument, or a crack in one of his own high-power lenses, would not be more disturbing than a strong emotion in a nature such as his.',\n",
       " 'And yet there was but one woman to him, and that woman was the late Irene Adler, of dubious and questionable memory.']"
      ]
     },
     "execution_count": 5,
     "metadata": {
      "tags": []
     },
     "output_type": "execute_result"
    }
   ],
   "source": [
    "from nltk.tokenize import sent_tokenize\n",
    "nltk_sentences = sent_tokenize(par)\n",
    "nltk_sentences"
   ]
  },
  {
   "cell_type": "markdown",
   "metadata": {
    "id": "1Sehd2Q1-JLG"
   },
   "source": [
    "The **word tokenizer** takes care to split a text into words."
   ]
  },
  {
   "cell_type": "code",
   "execution_count": null,
   "metadata": {
    "colab": {
     "base_uri": "https://localhost:8080/"
    },
    "id": "fafyGLil4Qnf",
    "outputId": "4b06415d-c0de-442b-d293-6760eb175577"
   },
   "outputs": [
    {
     "data": {
      "text/plain": [
       "['To', 'Sherlock', 'Holmes', 'she', 'is', 'always', 'the', 'woman', '.']"
      ]
     },
     "execution_count": 6,
     "metadata": {
      "tags": []
     },
     "output_type": "execute_result"
    }
   ],
   "source": [
    "from nltk.tokenize import word_tokenize\n",
    "nltk_tokens = word_tokenize(nltk_sentences[0])\n",
    "nltk_tokens"
   ]
  },
  {
   "cell_type": "markdown",
   "metadata": {
    "id": "ytFuVivZ-PDq"
   },
   "source": [
    "## SpaCy"
   ]
  },
  {
   "cell_type": "markdown",
   "metadata": {
    "id": "ty345RqK-Qjx"
   },
   "source": [
    "SpaCy is another Python libary for text analytics.\n",
    "\n",
    "See [Link](https://spacy.io)"
   ]
  },
  {
   "cell_type": "code",
   "execution_count": null,
   "metadata": {
    "id": "1lsRw3uu1JL9"
   },
   "outputs": [],
   "source": [
    "import spacy\n",
    "nlp = spacy.load('en_core_web_sm')"
   ]
  },
  {
   "cell_type": "code",
   "execution_count": null,
   "metadata": {
    "id": "i_b6HUoO1l5U"
   },
   "outputs": [],
   "source": [
    "doc = nlp(par)"
   ]
  },
  {
   "cell_type": "markdown",
   "metadata": {
    "id": "2n1Np6A6-aXz"
   },
   "source": [
    "It has also a **sentence tokenizer**."
   ]
  },
  {
   "cell_type": "code",
   "execution_count": null,
   "metadata": {
    "id": "H2k0L6Rm2X7d"
   },
   "outputs": [],
   "source": [
    "spacy_sentences = list(doc.sents)\n",
    "spacy_sentences"
   ]
  },
  {
   "cell_type": "markdown",
   "metadata": {
    "id": "trhm2pX8-e8L"
   },
   "source": [
    "And a **word tokenizer**"
   ]
  },
  {
   "cell_type": "code",
   "execution_count": null,
   "metadata": {
    "id": "gvJDp4Vs4Lr7"
   },
   "outputs": [],
   "source": [
    "spacy_tokens = [x for x in spacy_sentences[0]]\n",
    "spacy_tokens"
   ]
  },
  {
   "cell_type": "markdown",
   "metadata": {
    "id": "x64r_ta5-hMk"
   },
   "source": [
    "**Warning**: NLTK / SpaCy might produce different results: break sentences at different places, break words at different places, etc..."
   ]
  },
  {
   "cell_type": "code",
   "execution_count": null,
   "metadata": {
    "id": "j6DVZqO4Q8Oj"
   },
   "outputs": [],
   "source": [
    "s = nltk_sentences[0]"
   ]
  },
  {
   "cell_type": "markdown",
   "metadata": {
    "id": "bRCYWOP1RS5K"
   },
   "source": [
    "## SKLEARN Generalities"
   ]
  },
  {
   "cell_type": "markdown",
   "metadata": {
    "id": "bE4wvrdYRWnX"
   },
   "source": [
    "Classes likes `CountVectorizer` or `TfidfVectorizer` works in the following way:\n",
    "* Instantiate an object with specific parameters (`v = CountVectorizer(...)`)\n",
    "* Fit this object to your corpus = learn the vocabulary (method `v.fit(...)`)\n",
    "* Transform any piece of text you have into a vector (method `v.transform()`)\n",
    "\n"
   ]
  },
  {
   "cell_type": "code",
   "execution_count": null,
   "metadata": {
    "id": "kNuZNnD-elyo"
   },
   "outputs": [],
   "source": [
    "def show_vocabulary(vectorizer):\n",
    "    words = vectorizer.get_feature_names()\n",
    "\n",
    "    print(f'Vocabulary size: {len(words)} words')\n",
    "\n",
    "    # we can print ~10 words per line\n",
    "    for l in np.array_split(words, math.ceil(len(words) / 10)):\n",
    "        print(''.join([f'{x:<15}' for x in l]))"
   ]
  },
  {
   "cell_type": "code",
   "execution_count": null,
   "metadata": {
    "id": "fxgmPDksgFP-"
   },
   "outputs": [],
   "source": [
    "from termcolor import colored\n",
    "\n",
    "def show_bow(vectorizer, bow):\n",
    "    words = vectorizer.get_feature_names()\n",
    "\n",
    "    # we can print ~8 words + coefs per line\n",
    "    for l in np.array_split(list(zip(words, bow)), math.ceil(len(words) / 8)):\n",
    "        print(' | '.join([colored(f'{w:<15}:{n:>2}', 'grey') if int(n) == 0 else colored(f'{w:<15}:{n:>2}', on_color='on_yellow', attrs=['bold']) for w, n in l ]))\n",
    "\n",
    "def show_bow_float(vectorizer, bow):\n",
    "    words = vectorizer.get_feature_names()\n",
    "\n",
    "    # we can print ~6 words + coefs per line\n",
    "    for l in np.array_split(list(zip(words, bow)), math.ceil(len(words) / 6)):\n",
    "        print(' | '.join([colored(f'{w:<15}:{float(n):>0.2f}', 'grey') if float(n) == 0 else colored(f'{w:<15}:{float(n):>0.2f}', on_color='on_yellow', attrs=['bold']) for w, n in l ]))\n"
   ]
  },
  {
   "cell_type": "markdown",
   "metadata": {
    "id": "19FRjfBh-qXU"
   },
   "source": [
    "# Raw Count"
   ]
  },
  {
   "cell_type": "markdown",
   "metadata": {
    "id": "Jzl-bvmhXI_G"
   },
   "source": [
    "* We take a text, any text, and represent it as a vector\n",
    "* Each text is represented by a vector with **N** dimensions\n",
    "* Each dimension is representative of **1 word** of the vocabulary\n",
    "* The coefficient in dimension **k** is the number of times the word at index **k** in the vocabulary is seen in the represented text"
   ]
  },
  {
   "cell_type": "code",
   "execution_count": null,
   "metadata": {
    "id": "aBDkKOmw4ZVr"
   },
   "outputs": [],
   "source": [
    "from sklearn.feature_extraction.text import CountVectorizer"
   ]
  },
  {
   "cell_type": "markdown",
   "metadata": {
    "id": "iaZa3oL1ZM5u"
   },
   "source": [
    "## First Example - Reduced Vocabulary"
   ]
  },
  {
   "cell_type": "markdown",
   "metadata": {
    "id": "P6pZWy_cZSQH"
   },
   "source": [
    "We illustrate with a small corpus so we have a reduced vocabulary.\n",
    "\n",
    "* **Corpus**: The first paragraph of the book\n",
    "* **Document**: 1 sentence"
   ]
  },
  {
   "cell_type": "code",
   "execution_count": null,
   "metadata": {
    "colab": {
     "base_uri": "https://localhost:8080/"
    },
    "id": "E0hlL80hZMAQ",
    "outputId": "10e42d27-c100-4e24-d929-d2ac7dab12a7"
   },
   "outputs": [
    {
     "name": "stdout",
     "output_type": "stream",
     "text": [
      "Vocabulary size: 134 words\n",
      "Adler          All            And            But            Grit           He             Holmes         In             Irene          It             \n",
      "Sherlock       They           To             abhorrent      actions        adjusted       admirable      admirably      admit          akin           \n",
      "all            always         and            any            as             balanced       be             but            cold           crack          \n",
      "delicate       distracting    disturbing     doubt          drawing        dubious        eclipses       emotion        emotions       excellent      \n",
      "eyes           factor         false          felt           finely         for            from           gibe           has            have           \n",
      "he             heard          her            high           him            himself        his            in             instrument     into           \n",
      "introduce      intrusions     is             it             late           lenses         love           lover          machine        memory         \n",
      "men            mental         mention        might          mind           more           most           motives        name           nature         \n",
      "never          not            observer       observing      of             one            or             other          own            \n",
      "particularly   passions       perfect        placed         position       power          precise        predominates   questionable   \n",
      "reasoner       reasoning      results        save           seen           seldom         sensitive      sex            she            \n",
      "sneer          softer         spoke          strong         such           take           temperament    than           that           \n",
      "the            there          things         throw          to             trained        under          upon           veil           \n",
      "was            were           which          whole          with           woman          world          would          yet            \n"
     ]
    }
   ],
   "source": [
    "count_small = CountVectorizer(lowercase=False)\n",
    "count_small.fit(nltk_sentences)\n",
    "show_vocabulary(count_small)"
   ]
  },
  {
   "cell_type": "markdown",
   "metadata": {
    "id": "lVt-wZMFfRjQ"
   },
   "source": [
    "The option `lowercase` sets up one behavior of the raw count: do we consider `And` to be different than `and`?\n",
    "\n",
    "* `lowercase=False` gives 134 unique words in the vocabulary\n",
    "* `lowercase=True` gives 127 unique words"
   ]
  },
  {
   "cell_type": "code",
   "execution_count": null,
   "metadata": {
    "colab": {
     "base_uri": "https://localhost:8080/"
    },
    "id": "JgtMIwC_ebmo",
    "outputId": "55077878-9a81-4b6a-deb7-64c011f0ad77"
   },
   "outputs": [
    {
     "name": "stdout",
     "output_type": "stream",
     "text": [
      "Vocabulary size: 127 words\n",
      "abhorrent      actions        adjusted       adler          admirable      admirably      admit          akin           all            always         \n",
      "and            any            as             balanced       be             but            cold           crack          delicate       distracting    \n",
      "disturbing     doubt          drawing        dubious        eclipses       emotion        emotions       excellent      eyes           factor         \n",
      "false          felt           finely         for            from           gibe           grit           has            have           he             \n",
      "heard          her            high           him            himself        his            holmes         in             instrument     into           \n",
      "introduce      intrusions     irene          is             it             late           lenses         love           lover          machine        \n",
      "memory         men            mental         mention        might          mind           more           most           motives        name           \n",
      "nature         never          not            observer       observing      of             one            or             other          own            \n",
      "particularly   passions       perfect        placed         position       power          precise        predominates   questionable   reasoner       \n",
      "reasoning      results        save           seen           seldom         sensitive      sex            she            sherlock       sneer          \n",
      "softer         spoke          strong         such           take           temperament    than           that           the            \n",
      "there          they           things         throw          to             trained        under          upon           veil           \n",
      "was            were           which          whole          with           woman          world          would          yet            \n"
     ]
    }
   ],
   "source": [
    "count_small = CountVectorizer(lowercase=True)\n",
    "count_small.fit(nltk_sentences)\n",
    "show_vocabulary(count_small)"
   ]
  },
  {
   "cell_type": "code",
   "execution_count": null,
   "metadata": {
    "colab": {
     "base_uri": "https://localhost:8080/"
    },
    "id": "bF1tqrBN6Rek",
    "outputId": "a1d8f7e9-83e4-4f5c-acfe-43481a92c7c6"
   },
   "outputs": [
    {
     "name": "stdout",
     "output_type": "stream",
     "text": [
      "Text: \"To Sherlock Holmes she is always the woman.\"\n",
      "BoW Shape: (1, 127)\n",
      "BoW Vector: [[0 0 0 0 0 0 0 0 0 1 0 0 0 0 0 0 0 0 0 0 0 0 0 0 0 0 0 0 0 0 0 0 0 0 0 0\n",
      "  0 0 0 0 0 0 0 0 0 0 1 0 0 0 0 0 0 1 0 0 0 0 0 0 0 0 0 0 0 0 0 0 0 0 0 0\n",
      "  0 0 0 0 0 0 0 0 0 0 0 0 0 0 0 0 0 0 0 0 0 0 0 0 0 1 1 0 0 0 0 0 0 0 0 0\n",
      "  1 0 0 0 0 1 0 0 0 0 0 0 0 0 0 1 0 0 0]]\n"
     ]
    }
   ],
   "source": [
    "s = nltk_sentences[0]\n",
    "\n",
    "print(f'Text: \"{s}\"')\n",
    "bow = count_small.transform([s])\n",
    "print(f'BoW Shape: {bow.shape}')\n",
    "bow = bow.toarray()   # From sparse matrix to dense matrix (Careful with MEMORY)\n",
    "print(f'BoW Vector: {bow}')"
   ]
  },
  {
   "cell_type": "code",
   "execution_count": null,
   "metadata": {
    "colab": {
     "base_uri": "https://localhost:8080/"
    },
    "id": "ZGNO80UY6tCY",
    "outputId": "d285d371-e5e8-4493-c470-7e0719e81abb"
   },
   "outputs": [
    {
     "name": "stdout",
     "output_type": "stream",
     "text": [
      "\u001b[30mabhorrent      : 0\u001b[0m | \u001b[30mactions        : 0\u001b[0m | \u001b[30madjusted       : 0\u001b[0m | \u001b[30madler          : 0\u001b[0m | \u001b[30madmirable      : 0\u001b[0m | \u001b[30madmirably      : 0\u001b[0m | \u001b[30madmit          : 0\u001b[0m | \u001b[30makin           : 0\u001b[0m\n",
      "\u001b[30mall            : 0\u001b[0m | \u001b[1m\u001b[43malways         : 1\u001b[0m | \u001b[30mand            : 0\u001b[0m | \u001b[30many            : 0\u001b[0m | \u001b[30mas             : 0\u001b[0m | \u001b[30mbalanced       : 0\u001b[0m | \u001b[30mbe             : 0\u001b[0m | \u001b[30mbut            : 0\u001b[0m\n",
      "\u001b[30mcold           : 0\u001b[0m | \u001b[30mcrack          : 0\u001b[0m | \u001b[30mdelicate       : 0\u001b[0m | \u001b[30mdistracting    : 0\u001b[0m | \u001b[30mdisturbing     : 0\u001b[0m | \u001b[30mdoubt          : 0\u001b[0m | \u001b[30mdrawing        : 0\u001b[0m | \u001b[30mdubious        : 0\u001b[0m\n",
      "\u001b[30meclipses       : 0\u001b[0m | \u001b[30memotion        : 0\u001b[0m | \u001b[30memotions       : 0\u001b[0m | \u001b[30mexcellent      : 0\u001b[0m | \u001b[30meyes           : 0\u001b[0m | \u001b[30mfactor         : 0\u001b[0m | \u001b[30mfalse          : 0\u001b[0m | \u001b[30mfelt           : 0\u001b[0m\n",
      "\u001b[30mfinely         : 0\u001b[0m | \u001b[30mfor            : 0\u001b[0m | \u001b[30mfrom           : 0\u001b[0m | \u001b[30mgibe           : 0\u001b[0m | \u001b[30mgrit           : 0\u001b[0m | \u001b[30mhas            : 0\u001b[0m | \u001b[30mhave           : 0\u001b[0m | \u001b[30mhe             : 0\u001b[0m\n",
      "\u001b[30mheard          : 0\u001b[0m | \u001b[30mher            : 0\u001b[0m | \u001b[30mhigh           : 0\u001b[0m | \u001b[30mhim            : 0\u001b[0m | \u001b[30mhimself        : 0\u001b[0m | \u001b[30mhis            : 0\u001b[0m | \u001b[1m\u001b[43mholmes         : 1\u001b[0m | \u001b[30min             : 0\u001b[0m\n",
      "\u001b[30minstrument     : 0\u001b[0m | \u001b[30minto           : 0\u001b[0m | \u001b[30mintroduce      : 0\u001b[0m | \u001b[30mintrusions     : 0\u001b[0m | \u001b[30mirene          : 0\u001b[0m | \u001b[1m\u001b[43mis             : 1\u001b[0m | \u001b[30mit             : 0\u001b[0m | \u001b[30mlate           : 0\u001b[0m\n",
      "\u001b[30mlenses         : 0\u001b[0m | \u001b[30mlove           : 0\u001b[0m | \u001b[30mlover          : 0\u001b[0m | \u001b[30mmachine        : 0\u001b[0m | \u001b[30mmemory         : 0\u001b[0m | \u001b[30mmen            : 0\u001b[0m | \u001b[30mmental         : 0\u001b[0m | \u001b[30mmention        : 0\u001b[0m\n",
      "\u001b[30mmight          : 0\u001b[0m | \u001b[30mmind           : 0\u001b[0m | \u001b[30mmore           : 0\u001b[0m | \u001b[30mmost           : 0\u001b[0m | \u001b[30mmotives        : 0\u001b[0m | \u001b[30mname           : 0\u001b[0m | \u001b[30mnature         : 0\u001b[0m | \u001b[30mnever          : 0\u001b[0m\n",
      "\u001b[30mnot            : 0\u001b[0m | \u001b[30mobserver       : 0\u001b[0m | \u001b[30mobserving      : 0\u001b[0m | \u001b[30mof             : 0\u001b[0m | \u001b[30mone            : 0\u001b[0m | \u001b[30mor             : 0\u001b[0m | \u001b[30mother          : 0\u001b[0m | \u001b[30mown            : 0\u001b[0m\n",
      "\u001b[30mparticularly   : 0\u001b[0m | \u001b[30mpassions       : 0\u001b[0m | \u001b[30mperfect        : 0\u001b[0m | \u001b[30mplaced         : 0\u001b[0m | \u001b[30mposition       : 0\u001b[0m | \u001b[30mpower          : 0\u001b[0m | \u001b[30mprecise        : 0\u001b[0m | \u001b[30mpredominates   : 0\u001b[0m\n",
      "\u001b[30mquestionable   : 0\u001b[0m | \u001b[30mreasoner       : 0\u001b[0m | \u001b[30mreasoning      : 0\u001b[0m | \u001b[30mresults        : 0\u001b[0m | \u001b[30msave           : 0\u001b[0m | \u001b[30mseen           : 0\u001b[0m | \u001b[30mseldom         : 0\u001b[0m | \u001b[30msensitive      : 0\u001b[0m\n",
      "\u001b[30msex            : 0\u001b[0m | \u001b[1m\u001b[43mshe            : 1\u001b[0m | \u001b[1m\u001b[43msherlock       : 1\u001b[0m | \u001b[30msneer          : 0\u001b[0m | \u001b[30msofter         : 0\u001b[0m | \u001b[30mspoke          : 0\u001b[0m | \u001b[30mstrong         : 0\u001b[0m | \u001b[30msuch           : 0\u001b[0m\n",
      "\u001b[30mtake           : 0\u001b[0m | \u001b[30mtemperament    : 0\u001b[0m | \u001b[30mthan           : 0\u001b[0m | \u001b[30mthat           : 0\u001b[0m | \u001b[1m\u001b[43mthe            : 1\u001b[0m | \u001b[30mthere          : 0\u001b[0m | \u001b[30mthey           : 0\u001b[0m | \u001b[30mthings         : 0\u001b[0m\n",
      "\u001b[30mthrow          : 0\u001b[0m | \u001b[1m\u001b[43mto             : 1\u001b[0m | \u001b[30mtrained        : 0\u001b[0m | \u001b[30munder          : 0\u001b[0m | \u001b[30mupon           : 0\u001b[0m | \u001b[30mveil           : 0\u001b[0m | \u001b[30mwas            : 0\u001b[0m | \u001b[30mwere           : 0\u001b[0m\n",
      "\u001b[30mwhich          : 0\u001b[0m | \u001b[30mwhole          : 0\u001b[0m | \u001b[30mwith           : 0\u001b[0m | \u001b[1m\u001b[43mwoman          : 1\u001b[0m | \u001b[30mworld          : 0\u001b[0m | \u001b[30mwould          : 0\u001b[0m | \u001b[30myet            : 0\u001b[0m\n"
     ]
    }
   ],
   "source": [
    "show_bow(count_small, bow[0])"
   ]
  },
  {
   "cell_type": "markdown",
   "metadata": {
    "id": "goqoQQ-Tc06Z"
   },
   "source": [
    "## Second Example - Larger Corpus"
   ]
  },
  {
   "cell_type": "markdown",
   "metadata": {
    "id": "F3xgDbewc8By"
   },
   "source": [
    "* **Corpus**: entire book\n",
    "* **Document**: 1 sentence"
   ]
  },
  {
   "cell_type": "code",
   "execution_count": null,
   "metadata": {
    "id": "H_7vdg2odSdZ"
   },
   "outputs": [],
   "source": [
    "book = ' '.join([x.strip() for x in lines])\n",
    "sentences = sent_tokenize(book)"
   ]
  },
  {
   "cell_type": "code",
   "execution_count": null,
   "metadata": {
    "colab": {
     "base_uri": "https://localhost:8080/"
    },
    "id": "a2pvsks18L_D",
    "outputId": "512b1099-4ed6-43c7-b227-c08a0916d242"
   },
   "outputs": [
    {
     "name": "stdout",
     "output_type": "stream",
     "text": [
      "Vocabulary size: 1948 words\n",
      "15             1858           1888           abandoned      abhorrent      able           about          above          absolute       absolutely     \n",
      "absorb         accent         accomplice     accomplished   account        accustomed     acquaintance   across         action         actions        \n",
      "active         activity       actor          actress        acute          added          additional     address        addressing     adjusted       \n",
      "adler          admirable      admirably      admit          adopted        advantage      advantages     adventuress    advise         affairs        \n",
      "affect         after          afternoon      afterwards     again          against        agent          agitation      ago            ah             \n",
      "air            aisle          akin           alarm          all            almost         alone          aloud          already        also           \n",
      "altar          alternating    always         am             amazement      amazing        ambition       amiable        amiss          among          \n",
      "an             and            animated       annoyance      another        answered       antagonist     anxiety        any            anyone         \n",
      "anything       apart          apiece         apparent       apparently     appearance     appeared       appears        aquiline       are            \n",
      "arm            armchair       arms           arnsworth      around         arranged       arrangements   arrest         arrived        arthur         \n",
      "as             ascii          ashamed        asked          assisting      associated     assumed        assuring       astrakhan      at             \n",
      "atkinson       attempt        attempts       attend         attention      attitude       attracted      august         authenticity   authoritative  \n",
      "avenue         averse         awaiting       aware          away           baby           bachelor       back           bad            baffled        \n",
      "bag            baggy          baker          balanced       balancing      bands          banker         barbaric       be             beamed         \n",
      "bear           beaten         beauties       beautiful      beautifully    became         because        becomes        bedroom        beef           \n",
      "been           beer           before         began          begin          begins         behind         being          believe        bell           \n",
      "benevolent     beryl          beside         besides        best           betrayed       betrothal      better         between        beyond         \n",
      "bijou          binding        biographies    biography      bit            black          blackest       blackmailing   blanche        blind          \n",
      "blinds         blood          blow           blue           bohemia        bohemian       bonnet         book           books          boot           \n",
      "boots          bore           born           borne          boswell        both           bought         bound          bowed          box            \n",
      "boy            brave          breaking       breasted       breathing      bride          bridegroom     briefly        brilliantly    brimmed        \n",
      "bring          briony         broad          broke          broken         brooch         brothers       brougham       brought        brown          \n",
      "brushed        buckles        built          bulge          burglars       burgled        buried         burned         busier         business       \n",
      "busy           but            buttoned       by             cab            cabby          cabinet        cabman         call           called         \n",
      "calls          calves         came           campaign       can            cap            capable        capital        care           carefully      \n",
      "careless       carelessly     carlsbad       carriage       carried        carries        carry          carte          case           cases          \n",
      "cassel         castle         catch          caught         cause          caused         ceased         celebrated     centre         centred        \n",
      "centuries      certain        certainly      certificates   chagrin        chain          chair          chamber        chambers       chamois        \n",
      "chance         chances        change         changed        chapter        character      charing        chat           cheekbones     chest          \n",
      "child          chin           choked         chronicle      chubb          chuckled       church         cigar          cigarette      cigars         \n",
      "circumstances  civil          clapped        clasped        clear          clearing       clergyman      cleverness     client         cloak          \n",
      "clock          close          closely        closing        clothes        clotilde       cloud          clouds         clues          clumsy         \n",
      "co             coach          coachman       coat           cocaine        coffee         cold           coldly         colleague      collection     \n",
      "coloured       come           comes          comfortable    coming         commander      committed      communicate    companion      company        \n",
      "compelled      complete       completed      completely     compromise     compromised    compromising   compunction    conan          conceal        \n",
      "concealment    concerning     concerts       conclusion     condescend     conduct        confess        confidant      confide        confined       \n",
      "consisted      conspiring     construction   consult        consulting     contents       continent      continental    continue       continued      \n",
      "contraction    contralto      contrary       conveyed       copper         corner         costume        couch          could          count          \n",
      "country        course         crack          created        creature       cried          crime          crimes         cross          crowd          \n",
      "crowded        crown          cruelly        crusted        cry            curb           curiosity      curled         curve          customary      \n",
      "cuts           daily          daintiest      dark           darlington     dashed         dashing        data           dated          daughter       \n",
      "day            days           dead           deal           dear           death          deduce         deduction      deep           deepest        \n",
      "deeply         delay          delicacy       delicate       delicately     delighted      departed       departure      depended       depicted       \n",
      "descended      description    desire         desires        desirous       desperation    details        determined     deuce          devil          \n",
      "did            die            different      difficult      difficulties   dimly          dinner         direction      directions     disappeared    \n",
      "discover       discretion     discuss        disentangled   disguises      dismantled     disreputable   distinction    distracting    disturbing     \n",
      "diverted       do             docketing      doctor         does           doing          doings         don            done           donna          \n",
      "door           double         doubt          doubts         down           doyle          dozen          dr             dragged        draw           \n",
      "drawers        drawing        drawn          dreadful       dreams         dress          dressed        drew           drifted        drive          \n",
      "driven         driver         drives         driving        drop           dropped        drove          drowsiness     drug           drunken        \n",
      "dryly          dubious        duke           dull           during         dusk           each           eagerly        ear            earnestly      \n",
      "earning        ease           easily         easy           eat            eclipses       edged          edges          edgeware       effusive       \n",
      "eg             eglonitz       eglow          egria          eight          either         elbowed        elderly        electronic     else           \n",
      "emerald        emerged        emotion        emotions       employed       employing      employs        empty          end            endeavouring   \n",
      "ended          energetic      energy         engaged        england        english        enough         entangled      enter          entered        \n",
      "entirely       epistle        equalled       equally        es             escaped        esq            establishment  europe         european       \n",
      "even           evening        ever           every          everyone       evidently      evil           exactly        exaggerated    exalted        \n",
      "examined       example        excellent      except         exchange       excitedly      excuse         excuses        expected       expenses       \n",
      "experiences    explain        explained      expostulating  expressed      expression     extended       extending      extraordinary  extreme        \n",
      "eye            eyes           face           faced          factor         factories      facts          faculties      fail           failed         \n",
      "failing        fall           false          familiar       families       family         fancy          far            fare           fashion        \n",
      "fast           fasteners      faster         fathom         fear           features       feet           fell           fellow         felstein       \n",
      "felt           few            field          fierce         fifty          figure         figures        fills          finally        find           \n",
      "finds          fine           finely         finger         finished       fire           firelight      first          fishes         fists          \n",
      "fitness        fitted         five           flame          flaming        flight         flirting       floor          flurried       flushed        \n",
      "follow         followed       following      food           for            forefinger     forehead       forgery        form           formatted      \n",
      "former         formerly       formidable     fortunate      forward        found          four           free           freedom        freely         \n",
      "freemasonry    frenchman      frequently     fresh          friend         fro            from           front          fronts         funny          \n",
      "fur            furnish        furnished      furniture      future         gang           garden         gasogene       gave           gaze           \n",
      "gazetteer      general        generally      gentleman      gentlemen      german         gesellschaft   gesture        get            getting        \n",
      "gibe           gigantic       girl           give           given          gives          glad           glance         glanced        glancing       \n",
      "glass          gleam          glimpse        glimpses       go             god            godfrey        goes           gold           gone           \n",
      "good           got            gottsreich     grabs          grace          grand          grasp          grasping       grating        great          \n",
      "greeting       grim           grinder        grit           groom          gross          ground         group          grow           guardianship   \n",
      "guardsmen      guess          guessed        guinea         guineas        ha             habit          habits         had            hadn           \n",
      "half           halfway        hall           hand           handed         hands          handsome       hanging        hankey         hansom         \n",
      "happiness      hard           hardened       hardly         hare           harness        harsh          has            hat            have           \n",
      "having         he             head           heads          hear           heard          heart          heartily       heavy          hebrew         \n",
      "heels          height         held           help           helpless       hence          her            hercules       here           hereditary     \n",
      "herself        hesitated      high           highly         him            himself        hindrance      his            history        hoarsely       \n",
      "hold           holland        holm           holmes         home           honour         honourable     hoofs          hope           hopeless       \n",
      "hopes          horses         horsey         hospital       hot            hour           hours          house          houses         how            \n",
      "however        html           http           hum            hundred        hundreds       hungrily       hurled         hurried        hurriedly      \n",
      "hurry          hurt           husband        idler          if             ii             iii            ill            imagine        imitate        \n",
      "imitated       immediate      immediately    immense        immensely      impatience     impatiently    imperial       implicates     implied        \n",
      "importance     important      impression     imprudently    impulse        in             inches         incidents      incisive       inclined       \n",
      "including      incognito      incorrigible   increased      indebted       indeed         index          indicated      indirect       indiscretion   \n",
      "inextricable   inflamed       influence      informality    information    informed       injured        injuring       inner          inquiry        \n",
      "insane         insensibly     inside         insist         instance       instant        instead        instinct       instrument     intended       \n",
      "intention      interest       interested     interesting    interests      interfere      into           introduce      introspective  intrusions     \n",
      "intrusted      invariable     investigation  inviolate      iodoform       irene          is             issue          it             its            \n",
      "itself         jane           jersey         jewel          john           join           joined         journey        jumped         just           \n",
      "keen           keep           keeping        kempt          key            kind           kindliness     kindly         king           kingdom        \n",
      "kings          knew           knot           know           known          knows          kramm          la             lady           laid           \n",
      "lamps          landau         landlady       lane           langham        languid        large          last           late           lately         \n",
      "later          latter         laughed        laughing       law            lawyer         lay            lead           least          leather        \n",
      "leave          led            left           legal          legs           length         lengths        lengthy        lenses         lent           \n",
      "less           let            letter         letters        level          license        lie            life           light          lighted        \n",
      "lighting       lights         like           likely         limbs          limited        limp           line           lined          lip            \n",
      "listen         listened       lit            little         lived          lives          living         ll             loafer         loafing        \n",
      "loathed        locality       lock           lodge          lodgings       london         long           look           looked         looking        \n",
      "lose           lost           lothman        loud           lounged        loungers       lounging       love           loved          lovely         \n",
      "lover          loves          lower          lucky          luggage        lying          machine        mad            madame         made           \n",
      "mademoiselle   maid           maids          majesty        make           maker          making         male           malignant      man            \n",
      "manner         many           march          mark           marked         marm           marriage       married        marry          mary           \n",
      "mask           master         masterly       matter         matters        may            me             mean           means          measures       \n",
      "medical        medium         meet           member         memory         men            menaced        meningen       mental         mention        \n",
      "merchantablity merely         merry          mess           methods        mews           midnight       might          mills          mind           \n",
      "minded         mine           minutes        miss           mission        mistake        mistaken       mister         mistress       moist          \n",
      "moment         monday         money          monica         monogram       monograph      months         mood           moody          more           \n",
      "morning        morrow         most           motion         motioned       motives        moustached     mouth          mouths         mr             \n",
      "mrs            much           mud            mumbling       murder         murmured       must           my             myself         mysteries      \n",
      "mystery        name           named          narrowly       naturally      nature         near           nearly         neat           necessitate    \n",
      "neck           need           neighbourhood  neither        nerves         nervous        nest           neutral        never          new            \n",
      "news           next           nice           nicely         night          nitrate        no             nobleman       nod            nonconformist  \n",
      "none           nor            norton         not            note           notes          nothing        notice         noting         now            \n",
      "number         numerous       nurse          née            object         obliged        observation    observe        observed       observer       \n",
      "observing      obstinacy      obviously      occasion       occasionally   occupant       occupied       occur          odessa         of             \n",
      "off            official       often          oh             old            ominous        on             once           one            only           \n",
      "open           opened         opening        opera          operatic       operation      opulence       or             order          orders         \n",
      "ordinary       ormstein       ostlers        other          others         our            ourselves      out            outlined       outside        \n",
      "over           overpowering   own            paced          pacing         packet         paid           paint          pair           palm           \n",
      "panel          paper          papers         papier         paragraphs     parallel       park           part           particular     particularly   \n",
      "pass           passage        passed         passing        passions       past           patient        paused         pavement       pay            \n",
      "peace          peculiar       peculiarly     peering        people         perch          perfect        perfectly      perhaps        person         \n",
      "photograph     pictured       pink           piteous        pity           placed         plainly        plan           planet         plans          \n",
      "play           playing        please         pleasure       plumber        plunging       pocket         pockets        point          police         \n",
      "political      pooh           poor           position       possess        possibility    post           pounds         power          powers         \n",
      "practically    practice       prague         pray           precaution     preceding      precious       precipitance   precise        precisely      \n",
      "predominates   prefer         prefers        prepare        preposterous   present        presently      preserve       press          presumably     \n",
      "pretty         preventing     prima          prince         princess       principal      principles     private        probable       probably       \n",
      "problem        problems       proceedings    process        processes      proclaimed     produce        profession     progress       promise        \n",
      "promises       prompt         pronounce      propose        protect        prove          provided       provinces      pshaw          publicly       \n",
      "pull           pulled         purpose        purposes       purse          pursued        pushed         put            putting        quarrel        \n",
      "quarter        quarters       queen          quench         quest          question       questionable   questioning    quick          quiet          \n",
      "quietly        quite          rabbi          raise          raised         ran            rang           ransacked      rather         rattled        \n",
      "reach          reached        reaches        read           readers        really         reason         reasoner       reasoning      reasons        \n",
      "receipt        received       recent         recess         recorded       recovered      red            refers         refuse         refused        \n",
      "regain         regent         reigning       rejoiced       rejoin         relapsed       relation       rely           remain         remained       \n",
      "remains        remarkable     remarkably     remarked       remember       remembered     remove         reopened       repeated       replaced       \n",
      "reproachfully  resolute       resolution     resolve        resolved       resource       respectable    responded      responses      rest           \n",
      "result         results        retired        return         returned       returning      returns        reveal         reward         rich           \n",
      "richness       ridiculously   right          ring           ringing        rise           risen          road           rocket         role           \n",
      "roll           rolled         room           rooms          rose           rough          round          row            royal          rubbed         \n",
      "rubbing        ruin           rumble         run            running        runs           rush           rushed         rushing        russian        \n",
      "safe           safeguard      safely         safer          said           sally          same           sandwiched     sardonic       sat            \n",
      "satisfaction   savagely       save           saved          saw            saxe           say            scala          scandal        scandinavia    \n",
      "scarlet        scattered      scene          scent          science        scissors       scored         scraped        scribbled      scuffle        \n",
      "sea            seal           search         searched       searching      seat           second         secrecy        secret         secreted       \n",
      "secreting      secretive      secure         secured        see            seemed         seems          seen           seized         seldom         \n",
      "self           sell           send           sensitive      sent           sentence       separated      sequel         serious        seriously      \n",
      "serpentine     servant        services       set            settling       seven          seventeen      several        sex            shabbily       \n",
      "shabby         shadow         shag           shake          shall          shaped         shared         sharp          she            sheet          \n",
      "shelves        sherlock       shoe           shortly        shot           should         shoulder       shoulders      shouted        shouting       \n",
      "show           showed         showing        shown          shriek         shrugged       shutter        shutting       side           sides          \n",
      "sigismond      sign           signal         signature      signs          silence        silhouette     silk           silver         simple         \n",
      "simplicity     simplifies     simplify       since          single         sings          singular       sir            sit            sitting        \n",
      "situation      six            size           slashed        slavey         sleeves        slept          sliding        slim           slipped        \n",
      "slipping       slitting       slow           slowly         small          smart          smelling       smile          smoke          smoking        \n",
      "snake          sneer          so             society        sofa           softer         sole           solemnly       some           someone        \n",
      "something      soon           sooner         sorry          sort           soul           sound          sounded        sovereign      spare          \n",
      "sparkled       speak          speaking       speaks         specialist     specimen       spectacle      spectators     spinster       spirit         \n",
      "spoke          spoken         sprang         st             staff          stage          staggered      stairs         standing       stands         \n",
      "stared         staring        started        startled       state          station        stay           steaming       steel          step           \n",
      "stepped        steps          stethoscope    sticking       sticks         stiff          still          stolen         stood          stopped        \n",
      "stories        story          straight       strange        street         streets        stretched      strict         strikes        strong         \n",
      "strongly       struck         struggling     study          subject        substitution   subtle         success        successful     successfully   \n",
      "successive     succinct       such           suddenly       sufficient     suggested      suggestive     suit           suited         suits          \n",
      "summons        sunk           superb         superscribed   suppose        sure           surely         surpliced      surprise       surrounded     \n",
      "suspected      suspicion      suspicious     swiftly        sympathetic    sympathy       system         table          tags           take           \n",
      "taken          taking         talking        tall           tap            task           taste          tell           temperament    temple         \n",
      "ten            text           texture        than           thank          thanking       that           the            their          them           \n",
      "then           theories       theorize       there          therefore      these          they           thick          thing          things         \n",
      "think          thinks         thirty         this           thoroughly     those          though         thought        threatened     threatens      \n",
      "three          threw          through        throw          throwing       thrown         thursday       tie            till           time           \n",
      "times          tinted         title          to             toast          tobacco        together       told           too            took           \n",
      "top            tops           tore           tossed         towards        tragedy        train          trained        transferred    travelled      \n",
      "tray           treachery      trepoff        trick          tried          trifle         trifling       trimmed        trincomalee    triumphant     \n",
      "trousers       true           truly          trust          trusted        turn           turned         turner         turning        tweed          \n",
      "twelve         twentieth      twenty         twice          twist          two            twopence       tying          ulster         uncertain      \n",
      "uncontrollable uncourteous    undated        under          understand     unexpected     unknown        unlikely       unmarried      unpleasantness \n",
      "until          unusual        up             upon           upper          uproar         us             use            used           usual          \n",
      "vague          value          values         vanished       variants       various        vary           ve             veil           verbs          \n",
      "version        very           view           vile           villa          visible        visit          visitor        visits         vizard         \n",
      "voice          voices         volume         von            vouching       wait           waited         waiting        walk           walked         \n",
      "walking        walks          wall           wallenstein    want           wanted         warned         warranties     warranty       warsaw         \n",
      "was            watch          watched        watching       watson         waved          waving         way            waylaid        we             \n",
      "weapon         wear           wearing        weather        wedlock        week           weight         well           went           were           \n",
      "wet            what           whatever       wheel          wheels         when           whence         where          whether        which          \n",
      "while          whiskered      whispered      whistled       white          who            whole          whom           whose          why            \n",
      "widened        wife           wilhelm        will           wind           window         windows        wire           wish           wished         \n",
      "wishes         wit            with           within         without        witness        woman          women          won            wonder         \n",
      "wonderful      wondering      wood           wooing         word           wore           work           world          would          woven          \n",
      "wrist          writes         writing        written        wronged        wrote          yawn           year           years          \n",
      "yes            yesterday      yet            you            young          your           yours          yourself       youth          \n"
     ]
    }
   ],
   "source": [
    "count = CountVectorizer(lowercase=True)\n",
    "count.fit(sentences)\n",
    "show_vocabulary(count)"
   ]
  },
  {
   "cell_type": "code",
   "execution_count": null,
   "metadata": {
    "colab": {
     "base_uri": "https://localhost:8080/"
    },
    "id": "9g2dUIgjd2fy",
    "outputId": "bbfe4fd9-fd13-4281-d5a2-cd757ea8c6c9"
   },
   "outputs": [
    {
     "name": "stdout",
     "output_type": "stream",
     "text": [
      "Text: \"And yet there was but one woman to him, and that woman was the late Irene Adler, of dubious and questionable memory.\"\n",
      "BoW Shape: (1, 1948)\n",
      "BoW Vector: [[0 0 0 ... 0 0 0]]\n"
     ]
    }
   ],
   "source": [
    "s = sentences[10]\n",
    "\n",
    "print(f'Text: \"{s}\"')\n",
    "bow = count.transform([s])\n",
    "print(f'BoW Shape: {bow.shape}')\n",
    "bow = bow.toarray()   # From sparse matrix to dense matrix (Careful with MEMORY)\n",
    "print(f'BoW Vector: {bow}')"
   ]
  },
  {
   "cell_type": "code",
   "execution_count": null,
   "metadata": {
    "id": "Mn3qBOc0lz1Q"
   },
   "outputs": [],
   "source": [
    "show_bow(count, bow[0])"
   ]
  },
  {
   "cell_type": "markdown",
   "metadata": {
    "id": "GHyfUpJJmdbl"
   },
   "source": [
    "## Real-Life Corpus"
   ]
  },
  {
   "cell_type": "markdown",
   "metadata": {
    "id": "O1a6hshWoC_H"
   },
   "source": [
    "Books are very clean texts. Real-Life corpuses including user-generated material will be on the opposite of the spectrum, and will include typos, strange usernames, artefacts of all kinds...\n",
    "\n",
    "The \"20 newsgroups\" dataset is a classical NLP dataset. Newsgroups are the ancestors of reddit, people could post messages and reply in a thread.\n",
    "\n",
    "* **Corpus**: newsgroup messages\n",
    "* **Document**: full text of 1 message"
   ]
  },
  {
   "cell_type": "code",
   "execution_count": null,
   "metadata": {
    "id": "ZV7JF84EmmLO"
   },
   "outputs": [],
   "source": [
    "from sklearn.datasets import fetch_20newsgroups"
   ]
  },
  {
   "cell_type": "code",
   "execution_count": null,
   "metadata": {
    "id": "H5a-35WInID6"
   },
   "outputs": [],
   "source": [
    "newsgroups = fetch_20newsgroups()"
   ]
  },
  {
   "cell_type": "code",
   "execution_count": null,
   "metadata": {
    "id": "16Me_M00nQC6"
   },
   "outputs": [],
   "source": [
    "print(f'Number of documents: {len(newsgroups.data)}')\n",
    "print(f'Sample document:\\n{newsgroups.data[0]}')"
   ]
  },
  {
   "cell_type": "markdown",
   "metadata": {
    "id": "lMeO45zLpJQm"
   },
   "source": [
    "* Vocabulary is much larger (130107 unique words)\n",
    "* Lots of \"garbage\" in vocabulary (\"mbocjlo3\", \"mc2i\", \"mc68882rc25\")"
   ]
  },
  {
   "cell_type": "code",
   "execution_count": null,
   "metadata": {
    "id": "nrBhPPaaneBW"
   },
   "outputs": [],
   "source": [
    "count = CountVectorizer()\n",
    "count.fit(newsgroups.data)\n",
    "show_vocabulary(count)"
   ]
  },
  {
   "cell_type": "code",
   "execution_count": null,
   "metadata": {
    "id": "bIViZ5Jpo70f"
   },
   "outputs": [],
   "source": [
    "print(f'Size of vocabulary: {len(count.get_feature_names())}')"
   ]
  },
  {
   "cell_type": "markdown",
   "metadata": {
    "id": "-cW6njq6qK_y"
   },
   "source": [
    "# TF-IDF"
   ]
  },
  {
   "cell_type": "markdown",
   "metadata": {
    "id": "yfqMSdnUqPai"
   },
   "source": [
    "The basic for TF-IDF is that cosine similarity with raw count coefficients puts too much emphasis on the number of occurences of a word within a document.\n",
    "\n",
    "Repeating a word will artifically increase the cosine similarity with any text containing this word.\n",
    "\n",
    "Consider which word would be important:\n",
    "1. One that is repeated a lot and equally present in each document\n",
    "1. One that appears a lot only in a few document"
   ]
  },
  {
   "cell_type": "markdown",
   "metadata": {
    "id": "aEB4nXBawmd2"
   },
   "source": [
    "TF-IDF computes coefficients:\n",
    "* Low values for common words (ie present in the document, but quite common over the corpus)\n",
    "* High values for uncommon words (ie present in the document, but not common over the corpus)\n",
    "\n",
    "We consider one specific document, and one specific word.\n",
    "\n",
    "* **TF = Term Frequency**: the number of times the word appears in the document\n",
    "* **DF = Document Frequency**: the number of document in the corpus, in which the word appears\n",
    "* **IDF = Inverse Document Frequency**: the inverse of the Document Frequency.\n",
    "\n",
    "Logarithms are introduced, to reflect that 100 times a word does not deliver 100 times the information.\n",
    "\n",
    "Given a word **w**, a document **d** in a corpus of **D** documents:\n",
    "\n",
    "$\\textrm{TF-IDF(w, d) = TF(w, d) * IDF(w)}$\n",
    "\n",
    "$\n",
    "\\begin{align}\n",
    "\\textrm{IDF(w) = log} \\left( \\frac{1 + \\textrm{D}}{1 + \\textrm{DF(w)}} \\right) + 1\n",
    "\\end{align}\n",
    "$\n",
    "\n",
    "This is the default SKLEARN formula (see [Link](https://scikit-learn.org/stable/modules/generated/sklearn.feature_extraction.text.TfidfTransformer.html#sklearn.feature_extraction.text.TfidfTransformer))\n"
   ]
  },
  {
   "cell_type": "markdown",
   "metadata": {
    "id": "dYMJJgAE0u-f"
   },
   "source": [
    "Bag of Words vectors with TF-IDF coefficients (often called TF-IDF vectors):\n",
    "* **N** dimensions, where **N** is the size of the vocabulary\n",
    "* Coefficient at dimension **k** is the coefficient for the word at index **k** in the vocabulary\n",
    "* Coefficients are TF-IDF coefficients, instead of raw count"
   ]
  },
  {
   "cell_type": "code",
   "execution_count": null,
   "metadata": {
    "id": "iCQ_8MS1qNz1"
   },
   "outputs": [],
   "source": [
    "from sklearn.feature_extraction.text import TfidfVectorizer"
   ]
  },
  {
   "cell_type": "markdown",
   "metadata": {
    "id": "3IIVcdsO6qra"
   },
   "source": [
    "### Example"
   ]
  },
  {
   "cell_type": "markdown",
   "metadata": {
    "id": "aC7qqWhr6wTT"
   },
   "source": [
    "We continue with the Sherlock Holmes book \"Scandal in Bohemia\"\n",
    "\n",
    "* **Corpus**: full text of the book\n",
    "* **Document**: 1 sentence"
   ]
  },
  {
   "cell_type": "code",
   "execution_count": null,
   "metadata": {
    "colab": {
     "base_uri": "https://localhost:8080/"
    },
    "id": "PW6PM-Bh1q-6",
    "outputId": "e79315ed-9b8d-4076-e02d-2e782a01a4e3"
   },
   "outputs": [
    {
     "name": "stdout",
     "output_type": "stream",
     "text": [
      "Vocabulary size: 1948 words\n",
      "15             1858           1888           abandoned      abhorrent      able           about          above          absolute       absolutely     \n",
      "absorb         accent         accomplice     accomplished   account        accustomed     acquaintance   across         action         actions        \n",
      "active         activity       actor          actress        acute          added          additional     address        addressing     adjusted       \n",
      "adler          admirable      admirably      admit          adopted        advantage      advantages     adventuress    advise         affairs        \n",
      "affect         after          afternoon      afterwards     again          against        agent          agitation      ago            ah             \n",
      "air            aisle          akin           alarm          all            almost         alone          aloud          already        also           \n",
      "altar          alternating    always         am             amazement      amazing        ambition       amiable        amiss          among          \n",
      "an             and            animated       annoyance      another        answered       antagonist     anxiety        any            anyone         \n",
      "anything       apart          apiece         apparent       apparently     appearance     appeared       appears        aquiline       are            \n",
      "arm            armchair       arms           arnsworth      around         arranged       arrangements   arrest         arrived        arthur         \n",
      "as             ascii          ashamed        asked          assisting      associated     assumed        assuring       astrakhan      at             \n",
      "atkinson       attempt        attempts       attend         attention      attitude       attracted      august         authenticity   authoritative  \n",
      "avenue         averse         awaiting       aware          away           baby           bachelor       back           bad            baffled        \n",
      "bag            baggy          baker          balanced       balancing      bands          banker         barbaric       be             beamed         \n",
      "bear           beaten         beauties       beautiful      beautifully    became         because        becomes        bedroom        beef           \n",
      "been           beer           before         began          begin          begins         behind         being          believe        bell           \n",
      "benevolent     beryl          beside         besides        best           betrayed       betrothal      better         between        beyond         \n",
      "bijou          binding        biographies    biography      bit            black          blackest       blackmailing   blanche        blind          \n",
      "blinds         blood          blow           blue           bohemia        bohemian       bonnet         book           books          boot           \n",
      "boots          bore           born           borne          boswell        both           bought         bound          bowed          box            \n",
      "boy            brave          breaking       breasted       breathing      bride          bridegroom     briefly        brilliantly    brimmed        \n",
      "bring          briony         broad          broke          broken         brooch         brothers       brougham       brought        brown          \n",
      "brushed        buckles        built          bulge          burglars       burgled        buried         burned         busier         business       \n",
      "busy           but            buttoned       by             cab            cabby          cabinet        cabman         call           called         \n",
      "calls          calves         came           campaign       can            cap            capable        capital        care           carefully      \n",
      "careless       carelessly     carlsbad       carriage       carried        carries        carry          carte          case           cases          \n",
      "cassel         castle         catch          caught         cause          caused         ceased         celebrated     centre         centred        \n",
      "centuries      certain        certainly      certificates   chagrin        chain          chair          chamber        chambers       chamois        \n",
      "chance         chances        change         changed        chapter        character      charing        chat           cheekbones     chest          \n",
      "child          chin           choked         chronicle      chubb          chuckled       church         cigar          cigarette      cigars         \n",
      "circumstances  civil          clapped        clasped        clear          clearing       clergyman      cleverness     client         cloak          \n",
      "clock          close          closely        closing        clothes        clotilde       cloud          clouds         clues          clumsy         \n",
      "co             coach          coachman       coat           cocaine        coffee         cold           coldly         colleague      collection     \n",
      "coloured       come           comes          comfortable    coming         commander      committed      communicate    companion      company        \n",
      "compelled      complete       completed      completely     compromise     compromised    compromising   compunction    conan          conceal        \n",
      "concealment    concerning     concerts       conclusion     condescend     conduct        confess        confidant      confide        confined       \n",
      "consisted      conspiring     construction   consult        consulting     contents       continent      continental    continue       continued      \n",
      "contraction    contralto      contrary       conveyed       copper         corner         costume        couch          could          count          \n",
      "country        course         crack          created        creature       cried          crime          crimes         cross          crowd          \n",
      "crowded        crown          cruelly        crusted        cry            curb           curiosity      curled         curve          customary      \n",
      "cuts           daily          daintiest      dark           darlington     dashed         dashing        data           dated          daughter       \n",
      "day            days           dead           deal           dear           death          deduce         deduction      deep           deepest        \n",
      "deeply         delay          delicacy       delicate       delicately     delighted      departed       departure      depended       depicted       \n",
      "descended      description    desire         desires        desirous       desperation    details        determined     deuce          devil          \n",
      "did            die            different      difficult      difficulties   dimly          dinner         direction      directions     disappeared    \n",
      "discover       discretion     discuss        disentangled   disguises      dismantled     disreputable   distinction    distracting    disturbing     \n",
      "diverted       do             docketing      doctor         does           doing          doings         don            done           donna          \n",
      "door           double         doubt          doubts         down           doyle          dozen          dr             dragged        draw           \n",
      "drawers        drawing        drawn          dreadful       dreams         dress          dressed        drew           drifted        drive          \n",
      "driven         driver         drives         driving        drop           dropped        drove          drowsiness     drug           drunken        \n",
      "dryly          dubious        duke           dull           during         dusk           each           eagerly        ear            earnestly      \n",
      "earning        ease           easily         easy           eat            eclipses       edged          edges          edgeware       effusive       \n",
      "eg             eglonitz       eglow          egria          eight          either         elbowed        elderly        electronic     else           \n",
      "emerald        emerged        emotion        emotions       employed       employing      employs        empty          end            endeavouring   \n",
      "ended          energetic      energy         engaged        england        english        enough         entangled      enter          entered        \n",
      "entirely       epistle        equalled       equally        es             escaped        esq            establishment  europe         european       \n",
      "even           evening        ever           every          everyone       evidently      evil           exactly        exaggerated    exalted        \n",
      "examined       example        excellent      except         exchange       excitedly      excuse         excuses        expected       expenses       \n",
      "experiences    explain        explained      expostulating  expressed      expression     extended       extending      extraordinary  extreme        \n",
      "eye            eyes           face           faced          factor         factories      facts          faculties      fail           failed         \n",
      "failing        fall           false          familiar       families       family         fancy          far            fare           fashion        \n",
      "fast           fasteners      faster         fathom         fear           features       feet           fell           fellow         felstein       \n",
      "felt           few            field          fierce         fifty          figure         figures        fills          finally        find           \n",
      "finds          fine           finely         finger         finished       fire           firelight      first          fishes         fists          \n",
      "fitness        fitted         five           flame          flaming        flight         flirting       floor          flurried       flushed        \n",
      "follow         followed       following      food           for            forefinger     forehead       forgery        form           formatted      \n",
      "former         formerly       formidable     fortunate      forward        found          four           free           freedom        freely         \n",
      "freemasonry    frenchman      frequently     fresh          friend         fro            from           front          fronts         funny          \n",
      "fur            furnish        furnished      furniture      future         gang           garden         gasogene       gave           gaze           \n",
      "gazetteer      general        generally      gentleman      gentlemen      german         gesellschaft   gesture        get            getting        \n",
      "gibe           gigantic       girl           give           given          gives          glad           glance         glanced        glancing       \n",
      "glass          gleam          glimpse        glimpses       go             god            godfrey        goes           gold           gone           \n",
      "good           got            gottsreich     grabs          grace          grand          grasp          grasping       grating        great          \n",
      "greeting       grim           grinder        grit           groom          gross          ground         group          grow           guardianship   \n",
      "guardsmen      guess          guessed        guinea         guineas        ha             habit          habits         had            hadn           \n",
      "half           halfway        hall           hand           handed         hands          handsome       hanging        hankey         hansom         \n",
      "happiness      hard           hardened       hardly         hare           harness        harsh          has            hat            have           \n",
      "having         he             head           heads          hear           heard          heart          heartily       heavy          hebrew         \n",
      "heels          height         held           help           helpless       hence          her            hercules       here           hereditary     \n",
      "herself        hesitated      high           highly         him            himself        hindrance      his            history        hoarsely       \n",
      "hold           holland        holm           holmes         home           honour         honourable     hoofs          hope           hopeless       \n",
      "hopes          horses         horsey         hospital       hot            hour           hours          house          houses         how            \n",
      "however        html           http           hum            hundred        hundreds       hungrily       hurled         hurried        hurriedly      \n",
      "hurry          hurt           husband        idler          if             ii             iii            ill            imagine        imitate        \n",
      "imitated       immediate      immediately    immense        immensely      impatience     impatiently    imperial       implicates     implied        \n",
      "importance     important      impression     imprudently    impulse        in             inches         incidents      incisive       inclined       \n",
      "including      incognito      incorrigible   increased      indebted       indeed         index          indicated      indirect       indiscretion   \n",
      "inextricable   inflamed       influence      informality    information    informed       injured        injuring       inner          inquiry        \n",
      "insane         insensibly     inside         insist         instance       instant        instead        instinct       instrument     intended       \n",
      "intention      interest       interested     interesting    interests      interfere      into           introduce      introspective  intrusions     \n",
      "intrusted      invariable     investigation  inviolate      iodoform       irene          is             issue          it             its            \n",
      "itself         jane           jersey         jewel          john           join           joined         journey        jumped         just           \n",
      "keen           keep           keeping        kempt          key            kind           kindliness     kindly         king           kingdom        \n",
      "kings          knew           knot           know           known          knows          kramm          la             lady           laid           \n",
      "lamps          landau         landlady       lane           langham        languid        large          last           late           lately         \n",
      "later          latter         laughed        laughing       law            lawyer         lay            lead           least          leather        \n",
      "leave          led            left           legal          legs           length         lengths        lengthy        lenses         lent           \n",
      "less           let            letter         letters        level          license        lie            life           light          lighted        \n",
      "lighting       lights         like           likely         limbs          limited        limp           line           lined          lip            \n",
      "listen         listened       lit            little         lived          lives          living         ll             loafer         loafing        \n",
      "loathed        locality       lock           lodge          lodgings       london         long           look           looked         looking        \n",
      "lose           lost           lothman        loud           lounged        loungers       lounging       love           loved          lovely         \n",
      "lover          loves          lower          lucky          luggage        lying          machine        mad            madame         made           \n",
      "mademoiselle   maid           maids          majesty        make           maker          making         male           malignant      man            \n",
      "manner         many           march          mark           marked         marm           marriage       married        marry          mary           \n",
      "mask           master         masterly       matter         matters        may            me             mean           means          measures       \n",
      "medical        medium         meet           member         memory         men            menaced        meningen       mental         mention        \n",
      "merchantablity merely         merry          mess           methods        mews           midnight       might          mills          mind           \n",
      "minded         mine           minutes        miss           mission        mistake        mistaken       mister         mistress       moist          \n",
      "moment         monday         money          monica         monogram       monograph      months         mood           moody          more           \n",
      "morning        morrow         most           motion         motioned       motives        moustached     mouth          mouths         mr             \n",
      "mrs            much           mud            mumbling       murder         murmured       must           my             myself         mysteries      \n",
      "mystery        name           named          narrowly       naturally      nature         near           nearly         neat           necessitate    \n",
      "neck           need           neighbourhood  neither        nerves         nervous        nest           neutral        never          new            \n",
      "news           next           nice           nicely         night          nitrate        no             nobleman       nod            nonconformist  \n",
      "none           nor            norton         not            note           notes          nothing        notice         noting         now            \n",
      "number         numerous       nurse          née            object         obliged        observation    observe        observed       observer       \n",
      "observing      obstinacy      obviously      occasion       occasionally   occupant       occupied       occur          odessa         of             \n",
      "off            official       often          oh             old            ominous        on             once           one            only           \n",
      "open           opened         opening        opera          operatic       operation      opulence       or             order          orders         \n",
      "ordinary       ormstein       ostlers        other          others         our            ourselves      out            outlined       outside        \n",
      "over           overpowering   own            paced          pacing         packet         paid           paint          pair           palm           \n",
      "panel          paper          papers         papier         paragraphs     parallel       park           part           particular     particularly   \n",
      "pass           passage        passed         passing        passions       past           patient        paused         pavement       pay            \n",
      "peace          peculiar       peculiarly     peering        people         perch          perfect        perfectly      perhaps        person         \n",
      "photograph     pictured       pink           piteous        pity           placed         plainly        plan           planet         plans          \n",
      "play           playing        please         pleasure       plumber        plunging       pocket         pockets        point          police         \n",
      "political      pooh           poor           position       possess        possibility    post           pounds         power          powers         \n",
      "practically    practice       prague         pray           precaution     preceding      precious       precipitance   precise        precisely      \n",
      "predominates   prefer         prefers        prepare        preposterous   present        presently      preserve       press          presumably     \n",
      "pretty         preventing     prima          prince         princess       principal      principles     private        probable       probably       \n",
      "problem        problems       proceedings    process        processes      proclaimed     produce        profession     progress       promise        \n",
      "promises       prompt         pronounce      propose        protect        prove          provided       provinces      pshaw          publicly       \n",
      "pull           pulled         purpose        purposes       purse          pursued        pushed         put            putting        quarrel        \n",
      "quarter        quarters       queen          quench         quest          question       questionable   questioning    quick          quiet          \n",
      "quietly        quite          rabbi          raise          raised         ran            rang           ransacked      rather         rattled        \n",
      "reach          reached        reaches        read           readers        really         reason         reasoner       reasoning      reasons        \n",
      "receipt        received       recent         recess         recorded       recovered      red            refers         refuse         refused        \n",
      "regain         regent         reigning       rejoiced       rejoin         relapsed       relation       rely           remain         remained       \n",
      "remains        remarkable     remarkably     remarked       remember       remembered     remove         reopened       repeated       replaced       \n",
      "reproachfully  resolute       resolution     resolve        resolved       resource       respectable    responded      responses      rest           \n",
      "result         results        retired        return         returned       returning      returns        reveal         reward         rich           \n",
      "richness       ridiculously   right          ring           ringing        rise           risen          road           rocket         role           \n",
      "roll           rolled         room           rooms          rose           rough          round          row            royal          rubbed         \n",
      "rubbing        ruin           rumble         run            running        runs           rush           rushed         rushing        russian        \n",
      "safe           safeguard      safely         safer          said           sally          same           sandwiched     sardonic       sat            \n",
      "satisfaction   savagely       save           saved          saw            saxe           say            scala          scandal        scandinavia    \n",
      "scarlet        scattered      scene          scent          science        scissors       scored         scraped        scribbled      scuffle        \n",
      "sea            seal           search         searched       searching      seat           second         secrecy        secret         secreted       \n",
      "secreting      secretive      secure         secured        see            seemed         seems          seen           seized         seldom         \n",
      "self           sell           send           sensitive      sent           sentence       separated      sequel         serious        seriously      \n",
      "serpentine     servant        services       set            settling       seven          seventeen      several        sex            shabbily       \n",
      "shabby         shadow         shag           shake          shall          shaped         shared         sharp          she            sheet          \n",
      "shelves        sherlock       shoe           shortly        shot           should         shoulder       shoulders      shouted        shouting       \n",
      "show           showed         showing        shown          shriek         shrugged       shutter        shutting       side           sides          \n",
      "sigismond      sign           signal         signature      signs          silence        silhouette     silk           silver         simple         \n",
      "simplicity     simplifies     simplify       since          single         sings          singular       sir            sit            sitting        \n",
      "situation      six            size           slashed        slavey         sleeves        slept          sliding        slim           slipped        \n",
      "slipping       slitting       slow           slowly         small          smart          smelling       smile          smoke          smoking        \n",
      "snake          sneer          so             society        sofa           softer         sole           solemnly       some           someone        \n",
      "something      soon           sooner         sorry          sort           soul           sound          sounded        sovereign      spare          \n",
      "sparkled       speak          speaking       speaks         specialist     specimen       spectacle      spectators     spinster       spirit         \n",
      "spoke          spoken         sprang         st             staff          stage          staggered      stairs         standing       stands         \n",
      "stared         staring        started        startled       state          station        stay           steaming       steel          step           \n",
      "stepped        steps          stethoscope    sticking       sticks         stiff          still          stolen         stood          stopped        \n",
      "stories        story          straight       strange        street         streets        stretched      strict         strikes        strong         \n",
      "strongly       struck         struggling     study          subject        substitution   subtle         success        successful     successfully   \n",
      "successive     succinct       such           suddenly       sufficient     suggested      suggestive     suit           suited         suits          \n",
      "summons        sunk           superb         superscribed   suppose        sure           surely         surpliced      surprise       surrounded     \n",
      "suspected      suspicion      suspicious     swiftly        sympathetic    sympathy       system         table          tags           take           \n",
      "taken          taking         talking        tall           tap            task           taste          tell           temperament    temple         \n",
      "ten            text           texture        than           thank          thanking       that           the            their          them           \n",
      "then           theories       theorize       there          therefore      these          they           thick          thing          things         \n",
      "think          thinks         thirty         this           thoroughly     those          though         thought        threatened     threatens      \n",
      "three          threw          through        throw          throwing       thrown         thursday       tie            till           time           \n",
      "times          tinted         title          to             toast          tobacco        together       told           too            took           \n",
      "top            tops           tore           tossed         towards        tragedy        train          trained        transferred    travelled      \n",
      "tray           treachery      trepoff        trick          tried          trifle         trifling       trimmed        trincomalee    triumphant     \n",
      "trousers       true           truly          trust          trusted        turn           turned         turner         turning        tweed          \n",
      "twelve         twentieth      twenty         twice          twist          two            twopence       tying          ulster         uncertain      \n",
      "uncontrollable uncourteous    undated        under          understand     unexpected     unknown        unlikely       unmarried      unpleasantness \n",
      "until          unusual        up             upon           upper          uproar         us             use            used           usual          \n",
      "vague          value          values         vanished       variants       various        vary           ve             veil           verbs          \n",
      "version        very           view           vile           villa          visible        visit          visitor        visits         vizard         \n",
      "voice          voices         volume         von            vouching       wait           waited         waiting        walk           walked         \n",
      "walking        walks          wall           wallenstein    want           wanted         warned         warranties     warranty       warsaw         \n",
      "was            watch          watched        watching       watson         waved          waving         way            waylaid        we             \n",
      "weapon         wear           wearing        weather        wedlock        week           weight         well           went           were           \n",
      "wet            what           whatever       wheel          wheels         when           whence         where          whether        which          \n",
      "while          whiskered      whispered      whistled       white          who            whole          whom           whose          why            \n",
      "widened        wife           wilhelm        will           wind           window         windows        wire           wish           wished         \n",
      "wishes         wit            with           within         without        witness        woman          women          won            wonder         \n",
      "wonderful      wondering      wood           wooing         word           wore           work           world          would          woven          \n",
      "wrist          writes         writing        written        wronged        wrote          yawn           year           years          \n",
      "yes            yesterday      yet            you            young          your           yours          yourself       youth          \n"
     ]
    }
   ],
   "source": [
    "tfidf = TfidfVectorizer()\n",
    "tfidf.fit(sentences)\n",
    "show_vocabulary(tfidf)"
   ]
  },
  {
   "cell_type": "code",
   "execution_count": null,
   "metadata": {
    "colab": {
     "base_uri": "https://localhost:8080/"
    },
    "id": "BP5dQoJk10qM",
    "outputId": "618ccd3c-e9cb-45d3-dd4f-9e69cc647878"
   },
   "outputs": [
    {
     "name": "stdout",
     "output_type": "stream",
     "text": [
      "Text: \"And yet there was but one woman to him, and that woman was the late Irene Adler, of dubious and questionable memory.\"\n",
      "BoW Shape: (1, 1948)\n",
      "BoW Vector: [[0. 0. 0. ... 0. 0. 0.]]\n"
     ]
    }
   ],
   "source": [
    "s = sentences[10]\n",
    "\n",
    "print(f'Text: \"{s}\"')\n",
    "bow = tfidf.transform([s])\n",
    "print(f'BoW Shape: {bow.shape}')\n",
    "bow = bow.toarray()   # From sparse matrix to dense matrix (Careful with MEMORY)\n",
    "print(f'BoW Vector: {bow}')"
   ]
  },
  {
   "cell_type": "code",
   "execution_count": null,
   "metadata": {
    "colab": {
     "base_uri": "https://localhost:8080/"
    },
    "id": "wxVC0BwN2Gog",
    "outputId": "d6cc6280-e9e5-4b8c-9317-f49f28f76c88"
   },
   "outputs": [
    {
     "name": "stdout",
     "output_type": "stream",
     "text": [
      "\u001b[30m15             :0.00\u001b[0m | \u001b[30m1858           :0.00\u001b[0m | \u001b[30m1888           :0.00\u001b[0m | \u001b[30mabandoned      :0.00\u001b[0m | \u001b[30mabhorrent      :0.00\u001b[0m | \u001b[30mable           :0.00\u001b[0m\n",
      "\u001b[30mabout          :0.00\u001b[0m | \u001b[30mabove          :0.00\u001b[0m | \u001b[30mabsolute       :0.00\u001b[0m | \u001b[30mabsolutely     :0.00\u001b[0m | \u001b[30mabsorb         :0.00\u001b[0m | \u001b[30maccent         :0.00\u001b[0m\n",
      "\u001b[30maccomplice     :0.00\u001b[0m | \u001b[30maccomplished   :0.00\u001b[0m | \u001b[30maccount        :0.00\u001b[0m | \u001b[30maccustomed     :0.00\u001b[0m | \u001b[30macquaintance   :0.00\u001b[0m | \u001b[30macross         :0.00\u001b[0m\n",
      "\u001b[30maction         :0.00\u001b[0m | \u001b[30mactions        :0.00\u001b[0m | \u001b[30mactive         :0.00\u001b[0m | \u001b[30mactivity       :0.00\u001b[0m | \u001b[30mactor          :0.00\u001b[0m | \u001b[30mactress        :0.00\u001b[0m\n",
      "\u001b[30macute          :0.00\u001b[0m | \u001b[30madded          :0.00\u001b[0m | \u001b[30madditional     :0.00\u001b[0m | \u001b[30maddress        :0.00\u001b[0m | \u001b[30maddressing     :0.00\u001b[0m | \u001b[30madjusted       :0.00\u001b[0m\n",
      "\u001b[1m\u001b[43madler          :0.22\u001b[0m | \u001b[30madmirable      :0.00\u001b[0m | \u001b[30madmirably      :0.00\u001b[0m | \u001b[30madmit          :0.00\u001b[0m | \u001b[30madopted        :0.00\u001b[0m | \u001b[30madvantage      :0.00\u001b[0m\n",
      "\u001b[30madvantages     :0.00\u001b[0m | \u001b[30madventuress    :0.00\u001b[0m | \u001b[30madvise         :0.00\u001b[0m | \u001b[30maffairs        :0.00\u001b[0m | \u001b[30maffect         :0.00\u001b[0m | \u001b[30mafter          :0.00\u001b[0m\n",
      "\u001b[30mafternoon      :0.00\u001b[0m | \u001b[30mafterwards     :0.00\u001b[0m | \u001b[30magain          :0.00\u001b[0m | \u001b[30magainst        :0.00\u001b[0m | \u001b[30magent          :0.00\u001b[0m | \u001b[30magitation      :0.00\u001b[0m\n",
      "\u001b[30mago            :0.00\u001b[0m | \u001b[30mah             :0.00\u001b[0m | \u001b[30mair            :0.00\u001b[0m | \u001b[30maisle          :0.00\u001b[0m | \u001b[30makin           :0.00\u001b[0m | \u001b[30malarm          :0.00\u001b[0m\n",
      "\u001b[30mall            :0.00\u001b[0m | \u001b[30malmost         :0.00\u001b[0m | \u001b[30malone          :0.00\u001b[0m | \u001b[30maloud          :0.00\u001b[0m | \u001b[30malready        :0.00\u001b[0m | \u001b[30malso           :0.00\u001b[0m\n",
      "\u001b[30maltar          :0.00\u001b[0m | \u001b[30malternating    :0.00\u001b[0m | \u001b[30malways         :0.00\u001b[0m | \u001b[30mam             :0.00\u001b[0m | \u001b[30mamazement      :0.00\u001b[0m | \u001b[30mamazing        :0.00\u001b[0m\n",
      "\u001b[30mambition       :0.00\u001b[0m | \u001b[30mamiable        :0.00\u001b[0m | \u001b[30mamiss          :0.00\u001b[0m | \u001b[30mamong          :0.00\u001b[0m | \u001b[30man             :0.00\u001b[0m | \u001b[1m\u001b[43mand            :0.29\u001b[0m\n",
      "\u001b[30manimated       :0.00\u001b[0m | \u001b[30mannoyance      :0.00\u001b[0m | \u001b[30manother        :0.00\u001b[0m | \u001b[30manswered       :0.00\u001b[0m | \u001b[30mantagonist     :0.00\u001b[0m | \u001b[30manxiety        :0.00\u001b[0m\n",
      "\u001b[30many            :0.00\u001b[0m | \u001b[30manyone         :0.00\u001b[0m | \u001b[30manything       :0.00\u001b[0m | \u001b[30mapart          :0.00\u001b[0m | \u001b[30mapiece         :0.00\u001b[0m | \u001b[30mapparent       :0.00\u001b[0m\n",
      "\u001b[30mapparently     :0.00\u001b[0m | \u001b[30mappearance     :0.00\u001b[0m | \u001b[30mappeared       :0.00\u001b[0m | \u001b[30mappears        :0.00\u001b[0m | \u001b[30maquiline       :0.00\u001b[0m | \u001b[30mare            :0.00\u001b[0m\n",
      "\u001b[30marm            :0.00\u001b[0m | \u001b[30marmchair       :0.00\u001b[0m | \u001b[30marms           :0.00\u001b[0m | \u001b[30marnsworth      :0.00\u001b[0m | \u001b[30maround         :0.00\u001b[0m | \u001b[30marranged       :0.00\u001b[0m\n",
      "\u001b[30marrangements   :0.00\u001b[0m | \u001b[30marrest         :0.00\u001b[0m | \u001b[30marrived        :0.00\u001b[0m | \u001b[30marthur         :0.00\u001b[0m | \u001b[30mas             :0.00\u001b[0m | \u001b[30mascii          :0.00\u001b[0m\n",
      "\u001b[30mashamed        :0.00\u001b[0m | \u001b[30masked          :0.00\u001b[0m | \u001b[30massisting      :0.00\u001b[0m | \u001b[30massociated     :0.00\u001b[0m | \u001b[30massumed        :0.00\u001b[0m | \u001b[30massuring       :0.00\u001b[0m\n",
      "\u001b[30mastrakhan      :0.00\u001b[0m | \u001b[30mat             :0.00\u001b[0m | \u001b[30matkinson       :0.00\u001b[0m | \u001b[30mattempt        :0.00\u001b[0m | \u001b[30mattempts       :0.00\u001b[0m | \u001b[30mattend         :0.00\u001b[0m\n",
      "\u001b[30mattention      :0.00\u001b[0m | \u001b[30mattitude       :0.00\u001b[0m | \u001b[30mattracted      :0.00\u001b[0m | \u001b[30maugust         :0.00\u001b[0m | \u001b[30mauthenticity   :0.00\u001b[0m | \u001b[30mauthoritative  :0.00\u001b[0m\n",
      "\u001b[30mavenue         :0.00\u001b[0m | \u001b[30maverse         :0.00\u001b[0m | \u001b[30mawaiting       :0.00\u001b[0m | \u001b[30maware          :0.00\u001b[0m | \u001b[30maway           :0.00\u001b[0m | \u001b[30mbaby           :0.00\u001b[0m\n",
      "\u001b[30mbachelor       :0.00\u001b[0m | \u001b[30mback           :0.00\u001b[0m | \u001b[30mbad            :0.00\u001b[0m | \u001b[30mbaffled        :0.00\u001b[0m | \u001b[30mbag            :0.00\u001b[0m | \u001b[30mbaggy          :0.00\u001b[0m\n",
      "\u001b[30mbaker          :0.00\u001b[0m | \u001b[30mbalanced       :0.00\u001b[0m | \u001b[30mbalancing      :0.00\u001b[0m | \u001b[30mbands          :0.00\u001b[0m | \u001b[30mbanker         :0.00\u001b[0m | \u001b[30mbarbaric       :0.00\u001b[0m\n",
      "\u001b[30mbe             :0.00\u001b[0m | \u001b[30mbeamed         :0.00\u001b[0m | \u001b[30mbear           :0.00\u001b[0m | \u001b[30mbeaten         :0.00\u001b[0m | \u001b[30mbeauties       :0.00\u001b[0m | \u001b[30mbeautiful      :0.00\u001b[0m\n",
      "\u001b[30mbeautifully    :0.00\u001b[0m | \u001b[30mbecame         :0.00\u001b[0m | \u001b[30mbecause        :0.00\u001b[0m | \u001b[30mbecomes        :0.00\u001b[0m | \u001b[30mbedroom        :0.00\u001b[0m | \u001b[30mbeef           :0.00\u001b[0m\n",
      "\u001b[30mbeen           :0.00\u001b[0m | \u001b[30mbeer           :0.00\u001b[0m | \u001b[30mbefore         :0.00\u001b[0m | \u001b[30mbegan          :0.00\u001b[0m | \u001b[30mbegin          :0.00\u001b[0m | \u001b[30mbegins         :0.00\u001b[0m\n",
      "\u001b[30mbehind         :0.00\u001b[0m | \u001b[30mbeing          :0.00\u001b[0m | \u001b[30mbelieve        :0.00\u001b[0m | \u001b[30mbell           :0.00\u001b[0m | \u001b[30mbenevolent     :0.00\u001b[0m | \u001b[30mberyl          :0.00\u001b[0m\n",
      "\u001b[30mbeside         :0.00\u001b[0m | \u001b[30mbesides        :0.00\u001b[0m | \u001b[30mbest           :0.00\u001b[0m | \u001b[30mbetrayed       :0.00\u001b[0m | \u001b[30mbetrothal      :0.00\u001b[0m | \u001b[30mbetter         :0.00\u001b[0m\n",
      "\u001b[30mbetween        :0.00\u001b[0m | \u001b[30mbeyond         :0.00\u001b[0m | \u001b[30mbijou          :0.00\u001b[0m | \u001b[30mbinding        :0.00\u001b[0m | \u001b[30mbiographies    :0.00\u001b[0m | \u001b[30mbiography      :0.00\u001b[0m\n",
      "\u001b[30mbit            :0.00\u001b[0m | \u001b[30mblack          :0.00\u001b[0m | \u001b[30mblackest       :0.00\u001b[0m | \u001b[30mblackmailing   :0.00\u001b[0m | \u001b[30mblanche        :0.00\u001b[0m | \u001b[30mblind          :0.00\u001b[0m\n",
      "\u001b[30mblinds         :0.00\u001b[0m | \u001b[30mblood          :0.00\u001b[0m | \u001b[30mblow           :0.00\u001b[0m | \u001b[30mblue           :0.00\u001b[0m | \u001b[30mbohemia        :0.00\u001b[0m | \u001b[30mbohemian       :0.00\u001b[0m\n",
      "\u001b[30mbonnet         :0.00\u001b[0m | \u001b[30mbook           :0.00\u001b[0m | \u001b[30mbooks          :0.00\u001b[0m | \u001b[30mboot           :0.00\u001b[0m | \u001b[30mboots          :0.00\u001b[0m | \u001b[30mbore           :0.00\u001b[0m\n",
      "\u001b[30mborn           :0.00\u001b[0m | \u001b[30mborne          :0.00\u001b[0m | \u001b[30mboswell        :0.00\u001b[0m | \u001b[30mboth           :0.00\u001b[0m | \u001b[30mbought         :0.00\u001b[0m | \u001b[30mbound          :0.00\u001b[0m\n",
      "\u001b[30mbowed          :0.00\u001b[0m | \u001b[30mbox            :0.00\u001b[0m | \u001b[30mboy            :0.00\u001b[0m | \u001b[30mbrave          :0.00\u001b[0m | \u001b[30mbreaking       :0.00\u001b[0m | \u001b[30mbreasted       :0.00\u001b[0m\n",
      "\u001b[30mbreathing      :0.00\u001b[0m | \u001b[30mbride          :0.00\u001b[0m | \u001b[30mbridegroom     :0.00\u001b[0m | \u001b[30mbriefly        :0.00\u001b[0m | \u001b[30mbrilliantly    :0.00\u001b[0m | \u001b[30mbrimmed        :0.00\u001b[0m\n",
      "\u001b[30mbring          :0.00\u001b[0m | \u001b[30mbriony         :0.00\u001b[0m | \u001b[30mbroad          :0.00\u001b[0m | \u001b[30mbroke          :0.00\u001b[0m | \u001b[30mbroken         :0.00\u001b[0m | \u001b[30mbrooch         :0.00\u001b[0m\n",
      "\u001b[30mbrothers       :0.00\u001b[0m | \u001b[30mbrougham       :0.00\u001b[0m | \u001b[30mbrought        :0.00\u001b[0m | \u001b[30mbrown          :0.00\u001b[0m | \u001b[30mbrushed        :0.00\u001b[0m | \u001b[30mbuckles        :0.00\u001b[0m\n",
      "\u001b[30mbuilt          :0.00\u001b[0m | \u001b[30mbulge          :0.00\u001b[0m | \u001b[30mburglars       :0.00\u001b[0m | \u001b[30mburgled        :0.00\u001b[0m | \u001b[30mburied         :0.00\u001b[0m | \u001b[30mburned         :0.00\u001b[0m\n",
      "\u001b[30mbusier         :0.00\u001b[0m | \u001b[30mbusiness       :0.00\u001b[0m | \u001b[30mbusy           :0.00\u001b[0m | \u001b[1m\u001b[43mbut            :0.16\u001b[0m | \u001b[30mbuttoned       :0.00\u001b[0m | \u001b[30mby             :0.00\u001b[0m\n",
      "\u001b[30mcab            :0.00\u001b[0m | \u001b[30mcabby          :0.00\u001b[0m | \u001b[30mcabinet        :0.00\u001b[0m | \u001b[30mcabman         :0.00\u001b[0m | \u001b[30mcall           :0.00\u001b[0m | \u001b[30mcalled         :0.00\u001b[0m\n",
      "\u001b[30mcalls          :0.00\u001b[0m | \u001b[30mcalves         :0.00\u001b[0m | \u001b[30mcame           :0.00\u001b[0m | \u001b[30mcampaign       :0.00\u001b[0m | \u001b[30mcan            :0.00\u001b[0m | \u001b[30mcap            :0.00\u001b[0m\n",
      "\u001b[30mcapable        :0.00\u001b[0m | \u001b[30mcapital        :0.00\u001b[0m | \u001b[30mcare           :0.00\u001b[0m | \u001b[30mcarefully      :0.00\u001b[0m | \u001b[30mcareless       :0.00\u001b[0m | \u001b[30mcarelessly     :0.00\u001b[0m\n",
      "\u001b[30mcarlsbad       :0.00\u001b[0m | \u001b[30mcarriage       :0.00\u001b[0m | \u001b[30mcarried        :0.00\u001b[0m | \u001b[30mcarries        :0.00\u001b[0m | \u001b[30mcarry          :0.00\u001b[0m | \u001b[30mcarte          :0.00\u001b[0m\n",
      "\u001b[30mcase           :0.00\u001b[0m | \u001b[30mcases          :0.00\u001b[0m | \u001b[30mcassel         :0.00\u001b[0m | \u001b[30mcastle         :0.00\u001b[0m | \u001b[30mcatch          :0.00\u001b[0m | \u001b[30mcaught         :0.00\u001b[0m\n",
      "\u001b[30mcause          :0.00\u001b[0m | \u001b[30mcaused         :0.00\u001b[0m | \u001b[30mceased         :0.00\u001b[0m | \u001b[30mcelebrated     :0.00\u001b[0m | \u001b[30mcentre         :0.00\u001b[0m | \u001b[30mcentred        :0.00\u001b[0m\n",
      "\u001b[30mcenturies      :0.00\u001b[0m | \u001b[30mcertain        :0.00\u001b[0m | \u001b[30mcertainly      :0.00\u001b[0m | \u001b[30mcertificates   :0.00\u001b[0m | \u001b[30mchagrin        :0.00\u001b[0m | \u001b[30mchain          :0.00\u001b[0m\n",
      "\u001b[30mchair          :0.00\u001b[0m | \u001b[30mchamber        :0.00\u001b[0m | \u001b[30mchambers       :0.00\u001b[0m | \u001b[30mchamois        :0.00\u001b[0m | \u001b[30mchance         :0.00\u001b[0m | \u001b[30mchances        :0.00\u001b[0m\n",
      "\u001b[30mchange         :0.00\u001b[0m | \u001b[30mchanged        :0.00\u001b[0m | \u001b[30mchapter        :0.00\u001b[0m | \u001b[30mcharacter      :0.00\u001b[0m | \u001b[30mcharing        :0.00\u001b[0m | \u001b[30mchat           :0.00\u001b[0m\n",
      "\u001b[30mcheekbones     :0.00\u001b[0m | \u001b[30mchest          :0.00\u001b[0m | \u001b[30mchild          :0.00\u001b[0m | \u001b[30mchin           :0.00\u001b[0m | \u001b[30mchoked         :0.00\u001b[0m | \u001b[30mchronicle      :0.00\u001b[0m\n",
      "\u001b[30mchubb          :0.00\u001b[0m | \u001b[30mchuckled       :0.00\u001b[0m | \u001b[30mchurch         :0.00\u001b[0m | \u001b[30mcigar          :0.00\u001b[0m | \u001b[30mcigarette      :0.00\u001b[0m | \u001b[30mcigars         :0.00\u001b[0m\n",
      "\u001b[30mcircumstances  :0.00\u001b[0m | \u001b[30mcivil          :0.00\u001b[0m | \u001b[30mclapped        :0.00\u001b[0m | \u001b[30mclasped        :0.00\u001b[0m | \u001b[30mclear          :0.00\u001b[0m | \u001b[30mclearing       :0.00\u001b[0m\n",
      "\u001b[30mclergyman      :0.00\u001b[0m | \u001b[30mcleverness     :0.00\u001b[0m | \u001b[30mclient         :0.00\u001b[0m | \u001b[30mcloak          :0.00\u001b[0m | \u001b[30mclock          :0.00\u001b[0m | \u001b[30mclose          :0.00\u001b[0m\n",
      "\u001b[30mclosely        :0.00\u001b[0m | \u001b[30mclosing        :0.00\u001b[0m | \u001b[30mclothes        :0.00\u001b[0m | \u001b[30mclotilde       :0.00\u001b[0m | \u001b[30mcloud          :0.00\u001b[0m | \u001b[30mclouds         :0.00\u001b[0m\n",
      "\u001b[30mclues          :0.00\u001b[0m | \u001b[30mclumsy         :0.00\u001b[0m | \u001b[30mco             :0.00\u001b[0m | \u001b[30mcoach          :0.00\u001b[0m | \u001b[30mcoachman       :0.00\u001b[0m | \u001b[30mcoat           :0.00\u001b[0m\n",
      "\u001b[30mcocaine        :0.00\u001b[0m | \u001b[30mcoffee         :0.00\u001b[0m | \u001b[30mcold           :0.00\u001b[0m | \u001b[30mcoldly         :0.00\u001b[0m | \u001b[30mcolleague      :0.00\u001b[0m | \u001b[30mcollection     :0.00\u001b[0m\n",
      "\u001b[30mcoloured       :0.00\u001b[0m | \u001b[30mcome           :0.00\u001b[0m | \u001b[30mcomes          :0.00\u001b[0m | \u001b[30mcomfortable    :0.00\u001b[0m | \u001b[30mcoming         :0.00\u001b[0m | \u001b[30mcommander      :0.00\u001b[0m\n",
      "\u001b[30mcommitted      :0.00\u001b[0m | \u001b[30mcommunicate    :0.00\u001b[0m | \u001b[30mcompanion      :0.00\u001b[0m | \u001b[30mcompany        :0.00\u001b[0m | \u001b[30mcompelled      :0.00\u001b[0m | \u001b[30mcomplete       :0.00\u001b[0m\n",
      "\u001b[30mcompleted      :0.00\u001b[0m | \u001b[30mcompletely     :0.00\u001b[0m | \u001b[30mcompromise     :0.00\u001b[0m | \u001b[30mcompromised    :0.00\u001b[0m | \u001b[30mcompromising   :0.00\u001b[0m | \u001b[30mcompunction    :0.00\u001b[0m\n",
      "\u001b[30mconan          :0.00\u001b[0m | \u001b[30mconceal        :0.00\u001b[0m | \u001b[30mconcealment    :0.00\u001b[0m | \u001b[30mconcerning     :0.00\u001b[0m | \u001b[30mconcerts       :0.00\u001b[0m | \u001b[30mconclusion     :0.00\u001b[0m\n",
      "\u001b[30mcondescend     :0.00\u001b[0m | \u001b[30mconduct        :0.00\u001b[0m | \u001b[30mconfess        :0.00\u001b[0m | \u001b[30mconfidant      :0.00\u001b[0m | \u001b[30mconfide        :0.00\u001b[0m | \u001b[30mconfined       :0.00\u001b[0m\n",
      "\u001b[30mconsisted      :0.00\u001b[0m | \u001b[30mconspiring     :0.00\u001b[0m | \u001b[30mconstruction   :0.00\u001b[0m | \u001b[30mconsult        :0.00\u001b[0m | \u001b[30mconsulting     :0.00\u001b[0m | \u001b[30mcontents       :0.00\u001b[0m\n",
      "\u001b[30mcontinent      :0.00\u001b[0m | \u001b[30mcontinental    :0.00\u001b[0m | \u001b[30mcontinue       :0.00\u001b[0m | \u001b[30mcontinued      :0.00\u001b[0m | \u001b[30mcontraction    :0.00\u001b[0m | \u001b[30mcontralto      :0.00\u001b[0m\n",
      "\u001b[30mcontrary       :0.00\u001b[0m | \u001b[30mconveyed       :0.00\u001b[0m | \u001b[30mcopper         :0.00\u001b[0m | \u001b[30mcorner         :0.00\u001b[0m | \u001b[30mcostume        :0.00\u001b[0m | \u001b[30mcouch          :0.00\u001b[0m\n",
      "\u001b[30mcould          :0.00\u001b[0m | \u001b[30mcount          :0.00\u001b[0m | \u001b[30mcountry        :0.00\u001b[0m | \u001b[30mcourse         :0.00\u001b[0m | \u001b[30mcrack          :0.00\u001b[0m | \u001b[30mcreated        :0.00\u001b[0m\n",
      "\u001b[30mcreature       :0.00\u001b[0m | \u001b[30mcried          :0.00\u001b[0m | \u001b[30mcrime          :0.00\u001b[0m | \u001b[30mcrimes         :0.00\u001b[0m | \u001b[30mcross          :0.00\u001b[0m | \u001b[30mcrowd          :0.00\u001b[0m\n",
      "\u001b[30mcrowded        :0.00\u001b[0m | \u001b[30mcrown          :0.00\u001b[0m | \u001b[30mcruelly        :0.00\u001b[0m | \u001b[30mcrusted        :0.00\u001b[0m | \u001b[30mcry            :0.00\u001b[0m | \u001b[30mcurb           :0.00\u001b[0m\n",
      "\u001b[30mcuriosity      :0.00\u001b[0m | \u001b[30mcurled         :0.00\u001b[0m | \u001b[30mcurve          :0.00\u001b[0m | \u001b[30mcustomary      :0.00\u001b[0m | \u001b[30mcuts           :0.00\u001b[0m | \u001b[30mdaily          :0.00\u001b[0m\n",
      "\u001b[30mdaintiest      :0.00\u001b[0m | \u001b[30mdark           :0.00\u001b[0m | \u001b[30mdarlington     :0.00\u001b[0m | \u001b[30mdashed         :0.00\u001b[0m | \u001b[30mdashing        :0.00\u001b[0m | \u001b[30mdata           :0.00\u001b[0m\n",
      "\u001b[30mdated          :0.00\u001b[0m | \u001b[30mdaughter       :0.00\u001b[0m | \u001b[30mday            :0.00\u001b[0m | \u001b[30mdays           :0.00\u001b[0m | \u001b[30mdead           :0.00\u001b[0m | \u001b[30mdeal           :0.00\u001b[0m\n",
      "\u001b[30mdear           :0.00\u001b[0m | \u001b[30mdeath          :0.00\u001b[0m | \u001b[30mdeduce         :0.00\u001b[0m | \u001b[30mdeduction      :0.00\u001b[0m | \u001b[30mdeep           :0.00\u001b[0m | \u001b[30mdeepest        :0.00\u001b[0m\n",
      "\u001b[30mdeeply         :0.00\u001b[0m | \u001b[30mdelay          :0.00\u001b[0m | \u001b[30mdelicacy       :0.00\u001b[0m | \u001b[30mdelicate       :0.00\u001b[0m | \u001b[30mdelicately     :0.00\u001b[0m | \u001b[30mdelighted      :0.00\u001b[0m\n",
      "\u001b[30mdeparted       :0.00\u001b[0m | \u001b[30mdeparture      :0.00\u001b[0m | \u001b[30mdepended       :0.00\u001b[0m | \u001b[30mdepicted       :0.00\u001b[0m | \u001b[30mdescended      :0.00\u001b[0m | \u001b[30mdescription    :0.00\u001b[0m\n",
      "\u001b[30mdesire         :0.00\u001b[0m | \u001b[30mdesires        :0.00\u001b[0m | \u001b[30mdesirous       :0.00\u001b[0m | \u001b[30mdesperation    :0.00\u001b[0m | \u001b[30mdetails        :0.00\u001b[0m | \u001b[30mdetermined     :0.00\u001b[0m\n",
      "\u001b[30mdeuce          :0.00\u001b[0m | \u001b[30mdevil          :0.00\u001b[0m | \u001b[30mdid            :0.00\u001b[0m | \u001b[30mdie            :0.00\u001b[0m | \u001b[30mdifferent      :0.00\u001b[0m | \u001b[30mdifficult      :0.00\u001b[0m\n",
      "\u001b[30mdifficulties   :0.00\u001b[0m | \u001b[30mdimly          :0.00\u001b[0m | \u001b[30mdinner         :0.00\u001b[0m | \u001b[30mdirection      :0.00\u001b[0m | \u001b[30mdirections     :0.00\u001b[0m | \u001b[30mdisappeared    :0.00\u001b[0m\n",
      "\u001b[30mdiscover       :0.00\u001b[0m | \u001b[30mdiscretion     :0.00\u001b[0m | \u001b[30mdiscuss        :0.00\u001b[0m | \u001b[30mdisentangled   :0.00\u001b[0m | \u001b[30mdisguises      :0.00\u001b[0m | \u001b[30mdismantled     :0.00\u001b[0m\n",
      "\u001b[30mdisreputable   :0.00\u001b[0m | \u001b[30mdistinction    :0.00\u001b[0m | \u001b[30mdistracting    :0.00\u001b[0m | \u001b[30mdisturbing     :0.00\u001b[0m | \u001b[30mdiverted       :0.00\u001b[0m | \u001b[30mdo             :0.00\u001b[0m\n",
      "\u001b[30mdocketing      :0.00\u001b[0m | \u001b[30mdoctor         :0.00\u001b[0m | \u001b[30mdoes           :0.00\u001b[0m | \u001b[30mdoing          :0.00\u001b[0m | \u001b[30mdoings         :0.00\u001b[0m | \u001b[30mdon            :0.00\u001b[0m\n",
      "\u001b[30mdone           :0.00\u001b[0m | \u001b[30mdonna          :0.00\u001b[0m | \u001b[30mdoor           :0.00\u001b[0m | \u001b[30mdouble         :0.00\u001b[0m | \u001b[30mdoubt          :0.00\u001b[0m | \u001b[30mdoubts         :0.00\u001b[0m\n",
      "\u001b[30mdown           :0.00\u001b[0m | \u001b[30mdoyle          :0.00\u001b[0m | \u001b[30mdozen          :0.00\u001b[0m | \u001b[30mdr             :0.00\u001b[0m | \u001b[30mdragged        :0.00\u001b[0m | \u001b[30mdraw           :0.00\u001b[0m\n",
      "\u001b[30mdrawers        :0.00\u001b[0m | \u001b[30mdrawing        :0.00\u001b[0m | \u001b[30mdrawn          :0.00\u001b[0m | \u001b[30mdreadful       :0.00\u001b[0m | \u001b[30mdreams         :0.00\u001b[0m | \u001b[30mdress          :0.00\u001b[0m\n",
      "\u001b[30mdressed        :0.00\u001b[0m | \u001b[30mdrew           :0.00\u001b[0m | \u001b[30mdrifted        :0.00\u001b[0m | \u001b[30mdrive          :0.00\u001b[0m | \u001b[30mdriven         :0.00\u001b[0m | \u001b[30mdriver         :0.00\u001b[0m\n",
      "\u001b[30mdrives         :0.00\u001b[0m | \u001b[30mdriving        :0.00\u001b[0m | \u001b[30mdrop           :0.00\u001b[0m | \u001b[30mdropped        :0.00\u001b[0m | \u001b[30mdrove          :0.00\u001b[0m | \u001b[30mdrowsiness     :0.00\u001b[0m\n",
      "\u001b[30mdrug           :0.00\u001b[0m | \u001b[30mdrunken        :0.00\u001b[0m | \u001b[30mdryly          :0.00\u001b[0m | \u001b[1m\u001b[43mdubious        :0.30\u001b[0m | \u001b[30mduke           :0.00\u001b[0m | \u001b[30mdull           :0.00\u001b[0m\n",
      "\u001b[30mduring         :0.00\u001b[0m | \u001b[30mdusk           :0.00\u001b[0m | \u001b[30meach           :0.00\u001b[0m | \u001b[30meagerly        :0.00\u001b[0m | \u001b[30mear            :0.00\u001b[0m | \u001b[30mearnestly      :0.00\u001b[0m\n",
      "\u001b[30mearning        :0.00\u001b[0m | \u001b[30mease           :0.00\u001b[0m | \u001b[30measily         :0.00\u001b[0m | \u001b[30measy           :0.00\u001b[0m | \u001b[30meat            :0.00\u001b[0m | \u001b[30meclipses       :0.00\u001b[0m\n",
      "\u001b[30medged          :0.00\u001b[0m | \u001b[30medges          :0.00\u001b[0m | \u001b[30medgeware       :0.00\u001b[0m | \u001b[30meffusive       :0.00\u001b[0m | \u001b[30meg             :0.00\u001b[0m | \u001b[30meglonitz       :0.00\u001b[0m\n",
      "\u001b[30meglow          :0.00\u001b[0m | \u001b[30megria          :0.00\u001b[0m | \u001b[30meight          :0.00\u001b[0m | \u001b[30meither         :0.00\u001b[0m | \u001b[30melbowed        :0.00\u001b[0m | \u001b[30melderly        :0.00\u001b[0m\n",
      "\u001b[30melectronic     :0.00\u001b[0m | \u001b[30melse           :0.00\u001b[0m | \u001b[30memerald        :0.00\u001b[0m | \u001b[30memerged        :0.00\u001b[0m | \u001b[30memotion        :0.00\u001b[0m | \u001b[30memotions       :0.00\u001b[0m\n",
      "\u001b[30memployed       :0.00\u001b[0m | \u001b[30memploying      :0.00\u001b[0m | \u001b[30memploys        :0.00\u001b[0m | \u001b[30mempty          :0.00\u001b[0m | \u001b[30mend            :0.00\u001b[0m | \u001b[30mendeavouring   :0.00\u001b[0m\n",
      "\u001b[30mended          :0.00\u001b[0m | \u001b[30menergetic      :0.00\u001b[0m | \u001b[30menergy         :0.00\u001b[0m | \u001b[30mengaged        :0.00\u001b[0m | \u001b[30mengland        :0.00\u001b[0m | \u001b[30menglish        :0.00\u001b[0m\n",
      "\u001b[30menough         :0.00\u001b[0m | \u001b[30mentangled      :0.00\u001b[0m | \u001b[30menter          :0.00\u001b[0m | \u001b[30mentered        :0.00\u001b[0m | \u001b[30mentirely       :0.00\u001b[0m | \u001b[30mepistle        :0.00\u001b[0m\n",
      "\u001b[30mequalled       :0.00\u001b[0m | \u001b[30mequally        :0.00\u001b[0m | \u001b[30mes             :0.00\u001b[0m | \u001b[30mescaped        :0.00\u001b[0m | \u001b[30mesq            :0.00\u001b[0m | \u001b[30mestablishment  :0.00\u001b[0m\n",
      "\u001b[30meurope         :0.00\u001b[0m | \u001b[30meuropean       :0.00\u001b[0m | \u001b[30meven           :0.00\u001b[0m | \u001b[30mevening        :0.00\u001b[0m | \u001b[30mever           :0.00\u001b[0m | \u001b[30mevery          :0.00\u001b[0m\n",
      "\u001b[30meveryone       :0.00\u001b[0m | \u001b[30mevidently      :0.00\u001b[0m | \u001b[30mevil           :0.00\u001b[0m | \u001b[30mexactly        :0.00\u001b[0m | \u001b[30mexaggerated    :0.00\u001b[0m | \u001b[30mexalted        :0.00\u001b[0m\n",
      "\u001b[30mexamined       :0.00\u001b[0m | \u001b[30mexample        :0.00\u001b[0m | \u001b[30mexcellent      :0.00\u001b[0m | \u001b[30mexcept         :0.00\u001b[0m | \u001b[30mexchange       :0.00\u001b[0m | \u001b[30mexcitedly      :0.00\u001b[0m\n",
      "\u001b[30mexcuse         :0.00\u001b[0m | \u001b[30mexcuses        :0.00\u001b[0m | \u001b[30mexpected       :0.00\u001b[0m | \u001b[30mexpenses       :0.00\u001b[0m | \u001b[30mexperiences    :0.00\u001b[0m | \u001b[30mexplain        :0.00\u001b[0m\n",
      "\u001b[30mexplained      :0.00\u001b[0m | \u001b[30mexpostulating  :0.00\u001b[0m | \u001b[30mexpressed      :0.00\u001b[0m | \u001b[30mexpression     :0.00\u001b[0m | \u001b[30mextended       :0.00\u001b[0m | \u001b[30mextending      :0.00\u001b[0m\n",
      "\u001b[30mextraordinary  :0.00\u001b[0m | \u001b[30mextreme        :0.00\u001b[0m | \u001b[30meye            :0.00\u001b[0m | \u001b[30meyes           :0.00\u001b[0m | \u001b[30mface           :0.00\u001b[0m | \u001b[30mfaced          :0.00\u001b[0m\n",
      "\u001b[30mfactor         :0.00\u001b[0m | \u001b[30mfactories      :0.00\u001b[0m | \u001b[30mfacts          :0.00\u001b[0m | \u001b[30mfaculties      :0.00\u001b[0m | \u001b[30mfail           :0.00\u001b[0m | \u001b[30mfailed         :0.00\u001b[0m\n",
      "\u001b[30mfailing        :0.00\u001b[0m | \u001b[30mfall           :0.00\u001b[0m | \u001b[30mfalse          :0.00\u001b[0m | \u001b[30mfamiliar       :0.00\u001b[0m | \u001b[30mfamilies       :0.00\u001b[0m | \u001b[30mfamily         :0.00\u001b[0m\n",
      "\u001b[30mfancy          :0.00\u001b[0m | \u001b[30mfar            :0.00\u001b[0m | \u001b[30mfare           :0.00\u001b[0m | \u001b[30mfashion        :0.00\u001b[0m | \u001b[30mfast           :0.00\u001b[0m | \u001b[30mfasteners      :0.00\u001b[0m\n",
      "\u001b[30mfaster         :0.00\u001b[0m | \u001b[30mfathom         :0.00\u001b[0m | \u001b[30mfear           :0.00\u001b[0m | \u001b[30mfeatures       :0.00\u001b[0m | \u001b[30mfeet           :0.00\u001b[0m | \u001b[30mfell           :0.00\u001b[0m\n",
      "\u001b[30mfellow         :0.00\u001b[0m | \u001b[30mfelstein       :0.00\u001b[0m | \u001b[30mfelt           :0.00\u001b[0m | \u001b[30mfew            :0.00\u001b[0m | \u001b[30mfield          :0.00\u001b[0m | \u001b[30mfierce         :0.00\u001b[0m\n",
      "\u001b[30mfifty          :0.00\u001b[0m | \u001b[30mfigure         :0.00\u001b[0m | \u001b[30mfigures        :0.00\u001b[0m | \u001b[30mfills          :0.00\u001b[0m | \u001b[30mfinally        :0.00\u001b[0m | \u001b[30mfind           :0.00\u001b[0m\n",
      "\u001b[30mfinds          :0.00\u001b[0m | \u001b[30mfine           :0.00\u001b[0m | \u001b[30mfinely         :0.00\u001b[0m | \u001b[30mfinger         :0.00\u001b[0m | \u001b[30mfinished       :0.00\u001b[0m | \u001b[30mfire           :0.00\u001b[0m\n",
      "\u001b[30mfirelight      :0.00\u001b[0m | \u001b[30mfirst          :0.00\u001b[0m | \u001b[30mfishes         :0.00\u001b[0m | \u001b[30mfists          :0.00\u001b[0m | \u001b[30mfitness        :0.00\u001b[0m | \u001b[30mfitted         :0.00\u001b[0m\n",
      "\u001b[30mfive           :0.00\u001b[0m | \u001b[30mflame          :0.00\u001b[0m | \u001b[30mflaming        :0.00\u001b[0m | \u001b[30mflight         :0.00\u001b[0m | \u001b[30mflirting       :0.00\u001b[0m | \u001b[30mfloor          :0.00\u001b[0m\n",
      "\u001b[30mflurried       :0.00\u001b[0m | \u001b[30mflushed        :0.00\u001b[0m | \u001b[30mfollow         :0.00\u001b[0m | \u001b[30mfollowed       :0.00\u001b[0m | \u001b[30mfollowing      :0.00\u001b[0m | \u001b[30mfood           :0.00\u001b[0m\n",
      "\u001b[30mfor            :0.00\u001b[0m | \u001b[30mforefinger     :0.00\u001b[0m | \u001b[30mforehead       :0.00\u001b[0m | \u001b[30mforgery        :0.00\u001b[0m | \u001b[30mform           :0.00\u001b[0m | \u001b[30mformatted      :0.00\u001b[0m\n",
      "\u001b[30mformer         :0.00\u001b[0m | \u001b[30mformerly       :0.00\u001b[0m | \u001b[30mformidable     :0.00\u001b[0m | \u001b[30mfortunate      :0.00\u001b[0m | \u001b[30mforward        :0.00\u001b[0m | \u001b[30mfound          :0.00\u001b[0m\n",
      "\u001b[30mfour           :0.00\u001b[0m | \u001b[30mfree           :0.00\u001b[0m | \u001b[30mfreedom        :0.00\u001b[0m | \u001b[30mfreely         :0.00\u001b[0m | \u001b[30mfreemasonry    :0.00\u001b[0m | \u001b[30mfrenchman      :0.00\u001b[0m\n",
      "\u001b[30mfrequently     :0.00\u001b[0m | \u001b[30mfresh          :0.00\u001b[0m | \u001b[30mfriend         :0.00\u001b[0m | \u001b[30mfro            :0.00\u001b[0m | \u001b[30mfrom           :0.00\u001b[0m | \u001b[30mfront          :0.00\u001b[0m\n",
      "\u001b[30mfronts         :0.00\u001b[0m | \u001b[30mfunny          :0.00\u001b[0m | \u001b[30mfur            :0.00\u001b[0m | \u001b[30mfurnish        :0.00\u001b[0m | \u001b[30mfurnished      :0.00\u001b[0m | \u001b[30mfurniture      :0.00\u001b[0m\n",
      "\u001b[30mfuture         :0.00\u001b[0m | \u001b[30mgang           :0.00\u001b[0m | \u001b[30mgarden         :0.00\u001b[0m | \u001b[30mgasogene       :0.00\u001b[0m | \u001b[30mgave           :0.00\u001b[0m | \u001b[30mgaze           :0.00\u001b[0m\n",
      "\u001b[30mgazetteer      :0.00\u001b[0m | \u001b[30mgeneral        :0.00\u001b[0m | \u001b[30mgenerally      :0.00\u001b[0m | \u001b[30mgentleman      :0.00\u001b[0m | \u001b[30mgentlemen      :0.00\u001b[0m | \u001b[30mgerman         :0.00\u001b[0m\n",
      "\u001b[30mgesellschaft   :0.00\u001b[0m | \u001b[30mgesture        :0.00\u001b[0m | \u001b[30mget            :0.00\u001b[0m | \u001b[30mgetting        :0.00\u001b[0m | \u001b[30mgibe           :0.00\u001b[0m | \u001b[30mgigantic       :0.00\u001b[0m\n",
      "\u001b[30mgirl           :0.00\u001b[0m | \u001b[30mgive           :0.00\u001b[0m | \u001b[30mgiven          :0.00\u001b[0m | \u001b[30mgives          :0.00\u001b[0m | \u001b[30mglad           :0.00\u001b[0m | \u001b[30mglance         :0.00\u001b[0m\n",
      "\u001b[30mglanced        :0.00\u001b[0m | \u001b[30mglancing       :0.00\u001b[0m | \u001b[30mglass          :0.00\u001b[0m | \u001b[30mgleam          :0.00\u001b[0m | \u001b[30mglimpse        :0.00\u001b[0m | \u001b[30mglimpses       :0.00\u001b[0m\n",
      "\u001b[30mgo             :0.00\u001b[0m | \u001b[30mgod            :0.00\u001b[0m | \u001b[30mgodfrey        :0.00\u001b[0m | \u001b[30mgoes           :0.00\u001b[0m | \u001b[30mgold           :0.00\u001b[0m | \u001b[30mgone           :0.00\u001b[0m\n",
      "\u001b[30mgood           :0.00\u001b[0m | \u001b[30mgot            :0.00\u001b[0m | \u001b[30mgottsreich     :0.00\u001b[0m | \u001b[30mgrabs          :0.00\u001b[0m | \u001b[30mgrace          :0.00\u001b[0m | \u001b[30mgrand          :0.00\u001b[0m\n",
      "\u001b[30mgrasp          :0.00\u001b[0m | \u001b[30mgrasping       :0.00\u001b[0m | \u001b[30mgrating        :0.00\u001b[0m | \u001b[30mgreat          :0.00\u001b[0m | \u001b[30mgreeting       :0.00\u001b[0m | \u001b[30mgrim           :0.00\u001b[0m\n",
      "\u001b[30mgrinder        :0.00\u001b[0m | \u001b[30mgrit           :0.00\u001b[0m | \u001b[30mgroom          :0.00\u001b[0m | \u001b[30mgross          :0.00\u001b[0m | \u001b[30mground         :0.00\u001b[0m | \u001b[30mgroup          :0.00\u001b[0m\n",
      "\u001b[30mgrow           :0.00\u001b[0m | \u001b[30mguardianship   :0.00\u001b[0m | \u001b[30mguardsmen      :0.00\u001b[0m | \u001b[30mguess          :0.00\u001b[0m | \u001b[30mguessed        :0.00\u001b[0m | \u001b[30mguinea         :0.00\u001b[0m\n",
      "\u001b[30mguineas        :0.00\u001b[0m | \u001b[30mha             :0.00\u001b[0m | \u001b[30mhabit          :0.00\u001b[0m | \u001b[30mhabits         :0.00\u001b[0m | \u001b[30mhad            :0.00\u001b[0m | \u001b[30mhadn           :0.00\u001b[0m\n",
      "\u001b[30mhalf           :0.00\u001b[0m | \u001b[30mhalfway        :0.00\u001b[0m | \u001b[30mhall           :0.00\u001b[0m | \u001b[30mhand           :0.00\u001b[0m | \u001b[30mhanded         :0.00\u001b[0m | \u001b[30mhands          :0.00\u001b[0m\n",
      "\u001b[30mhandsome       :0.00\u001b[0m | \u001b[30mhanging        :0.00\u001b[0m | \u001b[30mhankey         :0.00\u001b[0m | \u001b[30mhansom         :0.00\u001b[0m | \u001b[30mhappiness      :0.00\u001b[0m | \u001b[30mhard           :0.00\u001b[0m\n",
      "\u001b[30mhardened       :0.00\u001b[0m | \u001b[30mhardly         :0.00\u001b[0m | \u001b[30mhare           :0.00\u001b[0m | \u001b[30mharness        :0.00\u001b[0m | \u001b[30mharsh          :0.00\u001b[0m | \u001b[30mhas            :0.00\u001b[0m\n",
      "\u001b[30mhat            :0.00\u001b[0m | \u001b[30mhave           :0.00\u001b[0m | \u001b[30mhaving         :0.00\u001b[0m | \u001b[30mhe             :0.00\u001b[0m | \u001b[30mhead           :0.00\u001b[0m | \u001b[30mheads          :0.00\u001b[0m\n",
      "\u001b[30mhear           :0.00\u001b[0m | \u001b[30mheard          :0.00\u001b[0m | \u001b[30mheart          :0.00\u001b[0m | \u001b[30mheartily       :0.00\u001b[0m | \u001b[30mheavy          :0.00\u001b[0m | \u001b[30mhebrew         :0.00\u001b[0m\n",
      "\u001b[30mheels          :0.00\u001b[0m | \u001b[30mheight         :0.00\u001b[0m | \u001b[30mheld           :0.00\u001b[0m | \u001b[30mhelp           :0.00\u001b[0m | \u001b[30mhelpless       :0.00\u001b[0m | \u001b[30mhence          :0.00\u001b[0m\n",
      "\u001b[30mher            :0.00\u001b[0m | \u001b[30mhercules       :0.00\u001b[0m | \u001b[30mhere           :0.00\u001b[0m | \u001b[30mhereditary     :0.00\u001b[0m | \u001b[30mherself        :0.00\u001b[0m | \u001b[30mhesitated      :0.00\u001b[0m\n",
      "\u001b[30mhigh           :0.00\u001b[0m | \u001b[30mhighly         :0.00\u001b[0m | \u001b[1m\u001b[43mhim            :0.19\u001b[0m | \u001b[30mhimself        :0.00\u001b[0m | \u001b[30mhindrance      :0.00\u001b[0m | \u001b[30mhis            :0.00\u001b[0m\n",
      "\u001b[30mhistory        :0.00\u001b[0m | \u001b[30mhoarsely       :0.00\u001b[0m | \u001b[30mhold           :0.00\u001b[0m | \u001b[30mholland        :0.00\u001b[0m | \u001b[30mholm           :0.00\u001b[0m | \u001b[30mholmes         :0.00\u001b[0m\n",
      "\u001b[30mhome           :0.00\u001b[0m | \u001b[30mhonour         :0.00\u001b[0m | \u001b[30mhonourable     :0.00\u001b[0m | \u001b[30mhoofs          :0.00\u001b[0m | \u001b[30mhope           :0.00\u001b[0m | \u001b[30mhopeless       :0.00\u001b[0m\n",
      "\u001b[30mhopes          :0.00\u001b[0m | \u001b[30mhorses         :0.00\u001b[0m | \u001b[30mhorsey         :0.00\u001b[0m | \u001b[30mhospital       :0.00\u001b[0m | \u001b[30mhot            :0.00\u001b[0m | \u001b[30mhour           :0.00\u001b[0m\n",
      "\u001b[30mhours          :0.00\u001b[0m | \u001b[30mhouse          :0.00\u001b[0m | \u001b[30mhouses         :0.00\u001b[0m | \u001b[30mhow            :0.00\u001b[0m | \u001b[30mhowever        :0.00\u001b[0m | \u001b[30mhtml           :0.00\u001b[0m\n",
      "\u001b[30mhttp           :0.00\u001b[0m | \u001b[30mhum            :0.00\u001b[0m | \u001b[30mhundred        :0.00\u001b[0m | \u001b[30mhundreds       :0.00\u001b[0m | \u001b[30mhungrily       :0.00\u001b[0m | \u001b[30mhurled         :0.00\u001b[0m\n",
      "\u001b[30mhurried        :0.00\u001b[0m | \u001b[30mhurriedly      :0.00\u001b[0m | \u001b[30mhurry          :0.00\u001b[0m | \u001b[30mhurt           :0.00\u001b[0m | \u001b[30mhusband        :0.00\u001b[0m | \u001b[30midler          :0.00\u001b[0m\n",
      "\u001b[30mif             :0.00\u001b[0m | \u001b[30mii             :0.00\u001b[0m | \u001b[30miii            :0.00\u001b[0m | \u001b[30mill            :0.00\u001b[0m | \u001b[30mimagine        :0.00\u001b[0m | \u001b[30mimitate        :0.00\u001b[0m\n",
      "\u001b[30mimitated       :0.00\u001b[0m | \u001b[30mimmediate      :0.00\u001b[0m | \u001b[30mimmediately    :0.00\u001b[0m | \u001b[30mimmense        :0.00\u001b[0m | \u001b[30mimmensely      :0.00\u001b[0m | \u001b[30mimpatience     :0.00\u001b[0m\n",
      "\u001b[30mimpatiently    :0.00\u001b[0m | \u001b[30mimperial       :0.00\u001b[0m | \u001b[30mimplicates     :0.00\u001b[0m | \u001b[30mimplied        :0.00\u001b[0m | \u001b[30mimportance     :0.00\u001b[0m | \u001b[30mimportant      :0.00\u001b[0m\n",
      "\u001b[30mimpression     :0.00\u001b[0m | \u001b[30mimprudently    :0.00\u001b[0m | \u001b[30mimpulse        :0.00\u001b[0m | \u001b[30min             :0.00\u001b[0m | \u001b[30minches         :0.00\u001b[0m | \u001b[30mincidents      :0.00\u001b[0m\n",
      "\u001b[30mincisive       :0.00\u001b[0m | \u001b[30minclined       :0.00\u001b[0m | \u001b[30mincluding      :0.00\u001b[0m | \u001b[30mincognito      :0.00\u001b[0m | \u001b[30mincorrigible   :0.00\u001b[0m | \u001b[30mincreased      :0.00\u001b[0m\n",
      "\u001b[30mindebted       :0.00\u001b[0m | \u001b[30mindeed         :0.00\u001b[0m | \u001b[30mindex          :0.00\u001b[0m | \u001b[30mindicated      :0.00\u001b[0m | \u001b[30mindirect       :0.00\u001b[0m | \u001b[30mindiscretion   :0.00\u001b[0m\n",
      "\u001b[30minextricable   :0.00\u001b[0m | \u001b[30minflamed       :0.00\u001b[0m | \u001b[30minfluence      :0.00\u001b[0m | \u001b[30minformality    :0.00\u001b[0m | \u001b[30minformation    :0.00\u001b[0m | \u001b[30minformed       :0.00\u001b[0m\n",
      "\u001b[30minjured        :0.00\u001b[0m | \u001b[30minjuring       :0.00\u001b[0m | \u001b[30minner          :0.00\u001b[0m | \u001b[30minquiry        :0.00\u001b[0m | \u001b[30minsane         :0.00\u001b[0m | \u001b[30minsensibly     :0.00\u001b[0m\n",
      "\u001b[30minside         :0.00\u001b[0m | \u001b[30minsist         :0.00\u001b[0m | \u001b[30minstance       :0.00\u001b[0m | \u001b[30minstant        :0.00\u001b[0m | \u001b[30minstead        :0.00\u001b[0m | \u001b[30minstinct       :0.00\u001b[0m\n",
      "\u001b[30minstrument     :0.00\u001b[0m | \u001b[30mintended       :0.00\u001b[0m | \u001b[30mintention      :0.00\u001b[0m | \u001b[30minterest       :0.00\u001b[0m | \u001b[30minterested     :0.00\u001b[0m | \u001b[30minteresting    :0.00\u001b[0m\n",
      "\u001b[30minterests      :0.00\u001b[0m | \u001b[30minterfere      :0.00\u001b[0m | \u001b[30minto           :0.00\u001b[0m | \u001b[30mintroduce      :0.00\u001b[0m | \u001b[30mintrospective  :0.00\u001b[0m | \u001b[30mintrusions     :0.00\u001b[0m\n",
      "\u001b[30mintrusted      :0.00\u001b[0m | \u001b[30minvariable     :0.00\u001b[0m | \u001b[30minvestigation  :0.00\u001b[0m | \u001b[30minviolate      :0.00\u001b[0m | \u001b[30miodoform       :0.00\u001b[0m | \u001b[1m\u001b[43mirene          :0.21\u001b[0m\n",
      "\u001b[30mis             :0.00\u001b[0m | \u001b[30missue          :0.00\u001b[0m | \u001b[30mit             :0.00\u001b[0m | \u001b[30mits            :0.00\u001b[0m | \u001b[30mitself         :0.00\u001b[0m | \u001b[30mjane           :0.00\u001b[0m\n",
      "\u001b[30mjersey         :0.00\u001b[0m | \u001b[30mjewel          :0.00\u001b[0m | \u001b[30mjohn           :0.00\u001b[0m | \u001b[30mjoin           :0.00\u001b[0m | \u001b[30mjoined         :0.00\u001b[0m | \u001b[30mjourney        :0.00\u001b[0m\n",
      "\u001b[30mjumped         :0.00\u001b[0m | \u001b[30mjust           :0.00\u001b[0m | \u001b[30mkeen           :0.00\u001b[0m | \u001b[30mkeep           :0.00\u001b[0m | \u001b[30mkeeping        :0.00\u001b[0m | \u001b[30mkempt          :0.00\u001b[0m\n",
      "\u001b[30mkey            :0.00\u001b[0m | \u001b[30mkind           :0.00\u001b[0m | \u001b[30mkindliness     :0.00\u001b[0m | \u001b[30mkindly         :0.00\u001b[0m | \u001b[30mking           :0.00\u001b[0m | \u001b[30mkingdom        :0.00\u001b[0m\n",
      "\u001b[30mkings          :0.00\u001b[0m | \u001b[30mknew           :0.00\u001b[0m | \u001b[30mknot           :0.00\u001b[0m | \u001b[30mknow           :0.00\u001b[0m | \u001b[30mknown          :0.00\u001b[0m | \u001b[30mknows          :0.00\u001b[0m\n",
      "\u001b[30mkramm          :0.00\u001b[0m | \u001b[30mla             :0.00\u001b[0m | \u001b[30mlady           :0.00\u001b[0m | \u001b[30mlaid           :0.00\u001b[0m | \u001b[30mlamps          :0.00\u001b[0m | \u001b[30mlandau         :0.00\u001b[0m\n",
      "\u001b[30mlandlady       :0.00\u001b[0m | \u001b[30mlane           :0.00\u001b[0m | \u001b[30mlangham        :0.00\u001b[0m | \u001b[30mlanguid        :0.00\u001b[0m | \u001b[30mlarge          :0.00\u001b[0m | \u001b[30mlast           :0.00\u001b[0m\n",
      "\u001b[1m\u001b[43mlate           :0.28\u001b[0m | \u001b[30mlately         :0.00\u001b[0m | \u001b[30mlater          :0.00\u001b[0m | \u001b[30mlatter         :0.00\u001b[0m | \u001b[30mlaughed        :0.00\u001b[0m | \u001b[30mlaughing       :0.00\u001b[0m\n",
      "\u001b[30mlaw            :0.00\u001b[0m | \u001b[30mlawyer         :0.00\u001b[0m | \u001b[30mlay            :0.00\u001b[0m | \u001b[30mlead           :0.00\u001b[0m | \u001b[30mleast          :0.00\u001b[0m | \u001b[30mleather        :0.00\u001b[0m\n",
      "\u001b[30mleave          :0.00\u001b[0m | \u001b[30mled            :0.00\u001b[0m | \u001b[30mleft           :0.00\u001b[0m | \u001b[30mlegal          :0.00\u001b[0m | \u001b[30mlegs           :0.00\u001b[0m | \u001b[30mlength         :0.00\u001b[0m\n",
      "\u001b[30mlengths        :0.00\u001b[0m | \u001b[30mlengthy        :0.00\u001b[0m | \u001b[30mlenses         :0.00\u001b[0m | \u001b[30mlent           :0.00\u001b[0m | \u001b[30mless           :0.00\u001b[0m | \u001b[30mlet            :0.00\u001b[0m\n",
      "\u001b[30mletter         :0.00\u001b[0m | \u001b[30mletters        :0.00\u001b[0m | \u001b[30mlevel          :0.00\u001b[0m | \u001b[30mlicense        :0.00\u001b[0m | \u001b[30mlie            :0.00\u001b[0m | \u001b[30mlife           :0.00\u001b[0m\n",
      "\u001b[30mlight          :0.00\u001b[0m | \u001b[30mlighted        :0.00\u001b[0m | \u001b[30mlighting       :0.00\u001b[0m | \u001b[30mlights         :0.00\u001b[0m | \u001b[30mlike           :0.00\u001b[0m | \u001b[30mlikely         :0.00\u001b[0m\n",
      "\u001b[30mlimbs          :0.00\u001b[0m | \u001b[30mlimited        :0.00\u001b[0m | \u001b[30mlimp           :0.00\u001b[0m | \u001b[30mline           :0.00\u001b[0m | \u001b[30mlined          :0.00\u001b[0m | \u001b[30mlip            :0.00\u001b[0m\n",
      "\u001b[30mlisten         :0.00\u001b[0m | \u001b[30mlistened       :0.00\u001b[0m | \u001b[30mlit            :0.00\u001b[0m | \u001b[30mlittle         :0.00\u001b[0m | \u001b[30mlived          :0.00\u001b[0m | \u001b[30mlives          :0.00\u001b[0m\n",
      "\u001b[30mliving         :0.00\u001b[0m | \u001b[30mll             :0.00\u001b[0m | \u001b[30mloafer         :0.00\u001b[0m | \u001b[30mloafing        :0.00\u001b[0m | \u001b[30mloathed        :0.00\u001b[0m | \u001b[30mlocality       :0.00\u001b[0m\n",
      "\u001b[30mlock           :0.00\u001b[0m | \u001b[30mlodge          :0.00\u001b[0m | \u001b[30mlodgings       :0.00\u001b[0m | \u001b[30mlondon         :0.00\u001b[0m | \u001b[30mlong           :0.00\u001b[0m | \u001b[30mlook           :0.00\u001b[0m\n",
      "\u001b[30mlooked         :0.00\u001b[0m | \u001b[30mlooking        :0.00\u001b[0m | \u001b[30mlose           :0.00\u001b[0m | \u001b[30mlost           :0.00\u001b[0m | \u001b[30mlothman        :0.00\u001b[0m | \u001b[30mloud           :0.00\u001b[0m\n",
      "\u001b[30mlounged        :0.00\u001b[0m | \u001b[30mloungers       :0.00\u001b[0m | \u001b[30mlounging       :0.00\u001b[0m | \u001b[30mlove           :0.00\u001b[0m | \u001b[30mloved          :0.00\u001b[0m | \u001b[30mlovely         :0.00\u001b[0m\n",
      "\u001b[30mlover          :0.00\u001b[0m | \u001b[30mloves          :0.00\u001b[0m | \u001b[30mlower          :0.00\u001b[0m | \u001b[30mlucky          :0.00\u001b[0m | \u001b[30mluggage        :0.00\u001b[0m | \u001b[30mlying          :0.00\u001b[0m\n",
      "\u001b[30mmachine        :0.00\u001b[0m | \u001b[30mmad            :0.00\u001b[0m | \u001b[30mmadame         :0.00\u001b[0m | \u001b[30mmade           :0.00\u001b[0m | \u001b[30mmademoiselle   :0.00\u001b[0m | \u001b[30mmaid           :0.00\u001b[0m\n",
      "\u001b[30mmaids          :0.00\u001b[0m | \u001b[30mmajesty        :0.00\u001b[0m | \u001b[30mmake           :0.00\u001b[0m | \u001b[30mmaker          :0.00\u001b[0m | \u001b[30mmaking         :0.00\u001b[0m | \u001b[30mmale           :0.00\u001b[0m\n",
      "\u001b[30mmalignant      :0.00\u001b[0m | \u001b[30mman            :0.00\u001b[0m | \u001b[30mmanner         :0.00\u001b[0m | \u001b[30mmany           :0.00\u001b[0m | \u001b[30mmarch          :0.00\u001b[0m | \u001b[30mmark           :0.00\u001b[0m\n",
      "\u001b[30mmarked         :0.00\u001b[0m | \u001b[30mmarm           :0.00\u001b[0m | \u001b[30mmarriage       :0.00\u001b[0m | \u001b[30mmarried        :0.00\u001b[0m | \u001b[30mmarry          :0.00\u001b[0m | \u001b[30mmary           :0.00\u001b[0m\n",
      "\u001b[30mmask           :0.00\u001b[0m | \u001b[30mmaster         :0.00\u001b[0m | \u001b[30mmasterly       :0.00\u001b[0m | \u001b[30mmatter         :0.00\u001b[0m | \u001b[30mmatters        :0.00\u001b[0m | \u001b[30mmay            :0.00\u001b[0m\n",
      "\u001b[30mme             :0.00\u001b[0m | \u001b[30mmean           :0.00\u001b[0m | \u001b[30mmeans          :0.00\u001b[0m | \u001b[30mmeasures       :0.00\u001b[0m | \u001b[30mmedical        :0.00\u001b[0m | \u001b[30mmedium         :0.00\u001b[0m\n",
      "\u001b[30mmeet           :0.00\u001b[0m | \u001b[30mmember         :0.00\u001b[0m | \u001b[1m\u001b[43mmemory         :0.28\u001b[0m | \u001b[30mmen            :0.00\u001b[0m | \u001b[30mmenaced        :0.00\u001b[0m | \u001b[30mmeningen       :0.00\u001b[0m\n",
      "\u001b[30mmental         :0.00\u001b[0m | \u001b[30mmention        :0.00\u001b[0m | \u001b[30mmerchantablity :0.00\u001b[0m | \u001b[30mmerely         :0.00\u001b[0m | \u001b[30mmerry          :0.00\u001b[0m | \u001b[30mmess           :0.00\u001b[0m\n",
      "\u001b[30mmethods        :0.00\u001b[0m | \u001b[30mmews           :0.00\u001b[0m | \u001b[30mmidnight       :0.00\u001b[0m | \u001b[30mmight          :0.00\u001b[0m | \u001b[30mmills          :0.00\u001b[0m | \u001b[30mmind           :0.00\u001b[0m\n",
      "\u001b[30mminded         :0.00\u001b[0m | \u001b[30mmine           :0.00\u001b[0m | \u001b[30mminutes        :0.00\u001b[0m | \u001b[30mmiss           :0.00\u001b[0m | \u001b[30mmission        :0.00\u001b[0m | \u001b[30mmistake        :0.00\u001b[0m\n",
      "\u001b[30mmistaken       :0.00\u001b[0m | \u001b[30mmister         :0.00\u001b[0m | \u001b[30mmistress       :0.00\u001b[0m | \u001b[30mmoist          :0.00\u001b[0m | \u001b[30mmoment         :0.00\u001b[0m | \u001b[30mmonday         :0.00\u001b[0m\n",
      "\u001b[30mmoney          :0.00\u001b[0m | \u001b[30mmonica         :0.00\u001b[0m | \u001b[30mmonogram       :0.00\u001b[0m | \u001b[30mmonograph      :0.00\u001b[0m | \u001b[30mmonths         :0.00\u001b[0m | \u001b[30mmood           :0.00\u001b[0m\n",
      "\u001b[30mmoody          :0.00\u001b[0m | \u001b[30mmore           :0.00\u001b[0m | \u001b[30mmorning        :0.00\u001b[0m | \u001b[30mmorrow         :0.00\u001b[0m | \u001b[30mmost           :0.00\u001b[0m | \u001b[30mmotion         :0.00\u001b[0m\n",
      "\u001b[30mmotioned       :0.00\u001b[0m | \u001b[30mmotives        :0.00\u001b[0m | \u001b[30mmoustached     :0.00\u001b[0m | \u001b[30mmouth          :0.00\u001b[0m | \u001b[30mmouths         :0.00\u001b[0m | \u001b[30mmr             :0.00\u001b[0m\n",
      "\u001b[30mmrs            :0.00\u001b[0m | \u001b[30mmuch           :0.00\u001b[0m | \u001b[30mmud            :0.00\u001b[0m | \u001b[30mmumbling       :0.00\u001b[0m | \u001b[30mmurder         :0.00\u001b[0m | \u001b[30mmurmured       :0.00\u001b[0m\n",
      "\u001b[30mmust           :0.00\u001b[0m | \u001b[30mmy             :0.00\u001b[0m | \u001b[30mmyself         :0.00\u001b[0m | \u001b[30mmysteries      :0.00\u001b[0m | \u001b[30mmystery        :0.00\u001b[0m | \u001b[30mname           :0.00\u001b[0m\n",
      "\u001b[30mnamed          :0.00\u001b[0m | \u001b[30mnarrowly       :0.00\u001b[0m | \u001b[30mnaturally      :0.00\u001b[0m | \u001b[30mnature         :0.00\u001b[0m | \u001b[30mnear           :0.00\u001b[0m | \u001b[30mnearly         :0.00\u001b[0m\n",
      "\u001b[30mneat           :0.00\u001b[0m | \u001b[30mnecessitate    :0.00\u001b[0m | \u001b[30mneck           :0.00\u001b[0m | \u001b[30mneed           :0.00\u001b[0m | \u001b[30mneighbourhood  :0.00\u001b[0m | \u001b[30mneither        :0.00\u001b[0m\n",
      "\u001b[30mnerves         :0.00\u001b[0m | \u001b[30mnervous        :0.00\u001b[0m | \u001b[30mnest           :0.00\u001b[0m | \u001b[30mneutral        :0.00\u001b[0m | \u001b[30mnever          :0.00\u001b[0m | \u001b[30mnew            :0.00\u001b[0m\n",
      "\u001b[30mnews           :0.00\u001b[0m | \u001b[30mnext           :0.00\u001b[0m | \u001b[30mnice           :0.00\u001b[0m | \u001b[30mnicely         :0.00\u001b[0m | \u001b[30mnight          :0.00\u001b[0m | \u001b[30mnitrate        :0.00\u001b[0m\n",
      "\u001b[30mno             :0.00\u001b[0m | \u001b[30mnobleman       :0.00\u001b[0m | \u001b[30mnod            :0.00\u001b[0m | \u001b[30mnonconformist  :0.00\u001b[0m | \u001b[30mnone           :0.00\u001b[0m | \u001b[30mnor            :0.00\u001b[0m\n",
      "\u001b[30mnorton         :0.00\u001b[0m | \u001b[30mnot            :0.00\u001b[0m | \u001b[30mnote           :0.00\u001b[0m | \u001b[30mnotes          :0.00\u001b[0m | \u001b[30mnothing        :0.00\u001b[0m | \u001b[30mnotice         :0.00\u001b[0m\n",
      "\u001b[30mnoting         :0.00\u001b[0m | \u001b[30mnow            :0.00\u001b[0m | \u001b[30mnumber         :0.00\u001b[0m | \u001b[30mnumerous       :0.00\u001b[0m | \u001b[30mnurse          :0.00\u001b[0m | \u001b[30mnée            :0.00\u001b[0m\n",
      "\u001b[30mobject         :0.00\u001b[0m | \u001b[30mobliged        :0.00\u001b[0m | \u001b[30mobservation    :0.00\u001b[0m | \u001b[30mobserve        :0.00\u001b[0m | \u001b[30mobserved       :0.00\u001b[0m | \u001b[30mobserver       :0.00\u001b[0m\n",
      "\u001b[30mobserving      :0.00\u001b[0m | \u001b[30mobstinacy      :0.00\u001b[0m | \u001b[30mobviously      :0.00\u001b[0m | \u001b[30moccasion       :0.00\u001b[0m | \u001b[30moccasionally   :0.00\u001b[0m | \u001b[30moccupant       :0.00\u001b[0m\n",
      "\u001b[30moccupied       :0.00\u001b[0m | \u001b[30moccur          :0.00\u001b[0m | \u001b[30modessa         :0.00\u001b[0m | \u001b[1m\u001b[43mof             :0.10\u001b[0m | \u001b[30moff            :0.00\u001b[0m | \u001b[30mofficial       :0.00\u001b[0m\n",
      "\u001b[30moften          :0.00\u001b[0m | \u001b[30moh             :0.00\u001b[0m | \u001b[30mold            :0.00\u001b[0m | \u001b[30mominous        :0.00\u001b[0m | \u001b[30mon             :0.00\u001b[0m | \u001b[30monce           :0.00\u001b[0m\n",
      "\u001b[1m\u001b[43mone            :0.19\u001b[0m | \u001b[30monly           :0.00\u001b[0m | \u001b[30mopen           :0.00\u001b[0m | \u001b[30mopened         :0.00\u001b[0m | \u001b[30mopening        :0.00\u001b[0m | \u001b[30mopera          :0.00\u001b[0m\n",
      "\u001b[30moperatic       :0.00\u001b[0m | \u001b[30moperation      :0.00\u001b[0m | \u001b[30mopulence       :0.00\u001b[0m | \u001b[30mor             :0.00\u001b[0m | \u001b[30morder          :0.00\u001b[0m | \u001b[30morders         :0.00\u001b[0m\n",
      "\u001b[30mordinary       :0.00\u001b[0m | \u001b[30mormstein       :0.00\u001b[0m | \u001b[30mostlers        :0.00\u001b[0m | \u001b[30mother          :0.00\u001b[0m | \u001b[30mothers         :0.00\u001b[0m | \u001b[30mour            :0.00\u001b[0m\n",
      "\u001b[30mourselves      :0.00\u001b[0m | \u001b[30mout            :0.00\u001b[0m | \u001b[30moutlined       :0.00\u001b[0m | \u001b[30moutside        :0.00\u001b[0m | \u001b[30mover           :0.00\u001b[0m | \u001b[30moverpowering   :0.00\u001b[0m\n",
      "\u001b[30mown            :0.00\u001b[0m | \u001b[30mpaced          :0.00\u001b[0m | \u001b[30mpacing         :0.00\u001b[0m | \u001b[30mpacket         :0.00\u001b[0m | \u001b[30mpaid           :0.00\u001b[0m | \u001b[30mpaint          :0.00\u001b[0m\n",
      "\u001b[30mpair           :0.00\u001b[0m | \u001b[30mpalm           :0.00\u001b[0m | \u001b[30mpanel          :0.00\u001b[0m | \u001b[30mpaper          :0.00\u001b[0m | \u001b[30mpapers         :0.00\u001b[0m | \u001b[30mpapier         :0.00\u001b[0m\n",
      "\u001b[30mparagraphs     :0.00\u001b[0m | \u001b[30mparallel       :0.00\u001b[0m | \u001b[30mpark           :0.00\u001b[0m | \u001b[30mpart           :0.00\u001b[0m | \u001b[30mparticular     :0.00\u001b[0m | \u001b[30mparticularly   :0.00\u001b[0m\n",
      "\u001b[30mpass           :0.00\u001b[0m | \u001b[30mpassage        :0.00\u001b[0m | \u001b[30mpassed         :0.00\u001b[0m | \u001b[30mpassing        :0.00\u001b[0m | \u001b[30mpassions       :0.00\u001b[0m | \u001b[30mpast           :0.00\u001b[0m\n",
      "\u001b[30mpatient        :0.00\u001b[0m | \u001b[30mpaused         :0.00\u001b[0m | \u001b[30mpavement       :0.00\u001b[0m | \u001b[30mpay            :0.00\u001b[0m | \u001b[30mpeace          :0.00\u001b[0m | \u001b[30mpeculiar       :0.00\u001b[0m\n",
      "\u001b[30mpeculiarly     :0.00\u001b[0m | \u001b[30mpeering        :0.00\u001b[0m | \u001b[30mpeople         :0.00\u001b[0m | \u001b[30mperch          :0.00\u001b[0m | \u001b[30mperfect        :0.00\u001b[0m | \u001b[30mperfectly      :0.00\u001b[0m\n",
      "\u001b[30mperhaps        :0.00\u001b[0m | \u001b[30mperson         :0.00\u001b[0m | \u001b[30mphotograph     :0.00\u001b[0m | \u001b[30mpictured       :0.00\u001b[0m | \u001b[30mpink           :0.00\u001b[0m | \u001b[30mpiteous        :0.00\u001b[0m\n",
      "\u001b[30mpity           :0.00\u001b[0m | \u001b[30mplaced         :0.00\u001b[0m | \u001b[30mplainly        :0.00\u001b[0m | \u001b[30mplan           :0.00\u001b[0m | \u001b[30mplanet         :0.00\u001b[0m | \u001b[30mplans          :0.00\u001b[0m\n",
      "\u001b[30mplay           :0.00\u001b[0m | \u001b[30mplaying        :0.00\u001b[0m | \u001b[30mplease         :0.00\u001b[0m | \u001b[30mpleasure       :0.00\u001b[0m | \u001b[30mplumber        :0.00\u001b[0m | \u001b[30mplunging       :0.00\u001b[0m\n",
      "\u001b[30mpocket         :0.00\u001b[0m | \u001b[30mpockets        :0.00\u001b[0m | \u001b[30mpoint          :0.00\u001b[0m | \u001b[30mpolice         :0.00\u001b[0m | \u001b[30mpolitical      :0.00\u001b[0m | \u001b[30mpooh           :0.00\u001b[0m\n",
      "\u001b[30mpoor           :0.00\u001b[0m | \u001b[30mposition       :0.00\u001b[0m | \u001b[30mpossess        :0.00\u001b[0m | \u001b[30mpossibility    :0.00\u001b[0m | \u001b[30mpost           :0.00\u001b[0m | \u001b[30mpounds         :0.00\u001b[0m\n",
      "\u001b[30mpower          :0.00\u001b[0m | \u001b[30mpowers         :0.00\u001b[0m | \u001b[30mpractically    :0.00\u001b[0m | \u001b[30mpractice       :0.00\u001b[0m | \u001b[30mprague         :0.00\u001b[0m | \u001b[30mpray           :0.00\u001b[0m\n",
      "\u001b[30mprecaution     :0.00\u001b[0m | \u001b[30mpreceding      :0.00\u001b[0m | \u001b[30mprecious       :0.00\u001b[0m | \u001b[30mprecipitance   :0.00\u001b[0m | \u001b[30mprecise        :0.00\u001b[0m | \u001b[30mprecisely      :0.00\u001b[0m\n",
      "\u001b[30mpredominates   :0.00\u001b[0m | \u001b[30mprefer         :0.00\u001b[0m | \u001b[30mprefers        :0.00\u001b[0m | \u001b[30mprepare        :0.00\u001b[0m | \u001b[30mpreposterous   :0.00\u001b[0m | \u001b[30mpresent        :0.00\u001b[0m\n",
      "\u001b[30mpresently      :0.00\u001b[0m | \u001b[30mpreserve       :0.00\u001b[0m | \u001b[30mpress          :0.00\u001b[0m | \u001b[30mpresumably     :0.00\u001b[0m | \u001b[30mpretty         :0.00\u001b[0m | \u001b[30mpreventing     :0.00\u001b[0m\n",
      "\u001b[30mprima          :0.00\u001b[0m | \u001b[30mprince         :0.00\u001b[0m | \u001b[30mprincess       :0.00\u001b[0m | \u001b[30mprincipal      :0.00\u001b[0m | \u001b[30mprinciples     :0.00\u001b[0m | \u001b[30mprivate        :0.00\u001b[0m\n",
      "\u001b[30mprobable       :0.00\u001b[0m | \u001b[30mprobably       :0.00\u001b[0m | \u001b[30mproblem        :0.00\u001b[0m | \u001b[30mproblems       :0.00\u001b[0m | \u001b[30mproceedings    :0.00\u001b[0m | \u001b[30mprocess        :0.00\u001b[0m\n",
      "\u001b[30mprocesses      :0.00\u001b[0m | \u001b[30mproclaimed     :0.00\u001b[0m | \u001b[30mproduce        :0.00\u001b[0m | \u001b[30mprofession     :0.00\u001b[0m | \u001b[30mprogress       :0.00\u001b[0m | \u001b[30mpromise        :0.00\u001b[0m\n",
      "\u001b[30mpromises       :0.00\u001b[0m | \u001b[30mprompt         :0.00\u001b[0m | \u001b[30mpronounce      :0.00\u001b[0m | \u001b[30mpropose        :0.00\u001b[0m | \u001b[30mprotect        :0.00\u001b[0m | \u001b[30mprove          :0.00\u001b[0m\n",
      "\u001b[30mprovided       :0.00\u001b[0m | \u001b[30mprovinces      :0.00\u001b[0m | \u001b[30mpshaw          :0.00\u001b[0m | \u001b[30mpublicly       :0.00\u001b[0m | \u001b[30mpull           :0.00\u001b[0m | \u001b[30mpulled         :0.00\u001b[0m\n",
      "\u001b[30mpurpose        :0.00\u001b[0m | \u001b[30mpurposes       :0.00\u001b[0m | \u001b[30mpurse          :0.00\u001b[0m | \u001b[30mpursued        :0.00\u001b[0m | \u001b[30mpushed         :0.00\u001b[0m | \u001b[30mput            :0.00\u001b[0m\n",
      "\u001b[30mputting        :0.00\u001b[0m | \u001b[30mquarrel        :0.00\u001b[0m | \u001b[30mquarter        :0.00\u001b[0m | \u001b[30mquarters       :0.00\u001b[0m | \u001b[30mqueen          :0.00\u001b[0m | \u001b[30mquench         :0.00\u001b[0m\n",
      "\u001b[30mquest          :0.00\u001b[0m | \u001b[30mquestion       :0.00\u001b[0m | \u001b[1m\u001b[43mquestionable   :0.30\u001b[0m | \u001b[30mquestioning    :0.00\u001b[0m | \u001b[30mquick          :0.00\u001b[0m | \u001b[30mquiet          :0.00\u001b[0m\n",
      "\u001b[30mquietly        :0.00\u001b[0m | \u001b[30mquite          :0.00\u001b[0m | \u001b[30mrabbi          :0.00\u001b[0m | \u001b[30mraise          :0.00\u001b[0m | \u001b[30mraised         :0.00\u001b[0m | \u001b[30mran            :0.00\u001b[0m\n",
      "\u001b[30mrang           :0.00\u001b[0m | \u001b[30mransacked      :0.00\u001b[0m | \u001b[30mrather         :0.00\u001b[0m | \u001b[30mrattled        :0.00\u001b[0m | \u001b[30mreach          :0.00\u001b[0m | \u001b[30mreached        :0.00\u001b[0m\n",
      "\u001b[30mreaches        :0.00\u001b[0m | \u001b[30mread           :0.00\u001b[0m | \u001b[30mreaders        :0.00\u001b[0m | \u001b[30mreally         :0.00\u001b[0m | \u001b[30mreason         :0.00\u001b[0m | \u001b[30mreasoner       :0.00\u001b[0m\n",
      "\u001b[30mreasoning      :0.00\u001b[0m | \u001b[30mreasons        :0.00\u001b[0m | \u001b[30mreceipt        :0.00\u001b[0m | \u001b[30mreceived       :0.00\u001b[0m | \u001b[30mrecent         :0.00\u001b[0m | \u001b[30mrecess         :0.00\u001b[0m\n",
      "\u001b[30mrecorded       :0.00\u001b[0m | \u001b[30mrecovered      :0.00\u001b[0m | \u001b[30mred            :0.00\u001b[0m | \u001b[30mrefers         :0.00\u001b[0m | \u001b[30mrefuse         :0.00\u001b[0m | \u001b[30mrefused        :0.00\u001b[0m\n",
      "\u001b[30mregain         :0.00\u001b[0m | \u001b[30mregent         :0.00\u001b[0m | \u001b[30mreigning       :0.00\u001b[0m | \u001b[30mrejoiced       :0.00\u001b[0m | \u001b[30mrejoin         :0.00\u001b[0m | \u001b[30mrelapsed       :0.00\u001b[0m\n",
      "\u001b[30mrelation       :0.00\u001b[0m | \u001b[30mrely           :0.00\u001b[0m | \u001b[30mremain         :0.00\u001b[0m | \u001b[30mremained       :0.00\u001b[0m | \u001b[30mremains        :0.00\u001b[0m | \u001b[30mremarkable     :0.00\u001b[0m\n",
      "\u001b[30mremarkably     :0.00\u001b[0m | \u001b[30mremarked       :0.00\u001b[0m | \u001b[30mremember       :0.00\u001b[0m | \u001b[30mremembered     :0.00\u001b[0m | \u001b[30mremove         :0.00\u001b[0m | \u001b[30mreopened       :0.00\u001b[0m\n",
      "\u001b[30mrepeated       :0.00\u001b[0m | \u001b[30mreplaced       :0.00\u001b[0m | \u001b[30mreproachfully  :0.00\u001b[0m | \u001b[30mresolute       :0.00\u001b[0m | \u001b[30mresolution     :0.00\u001b[0m | \u001b[30mresolve        :0.00\u001b[0m\n",
      "\u001b[30mresolved       :0.00\u001b[0m | \u001b[30mresource       :0.00\u001b[0m | \u001b[30mrespectable    :0.00\u001b[0m | \u001b[30mresponded      :0.00\u001b[0m | \u001b[30mresponses      :0.00\u001b[0m | \u001b[30mrest           :0.00\u001b[0m\n",
      "\u001b[30mresult         :0.00\u001b[0m | \u001b[30mresults        :0.00\u001b[0m | \u001b[30mretired        :0.00\u001b[0m | \u001b[30mreturn         :0.00\u001b[0m | \u001b[30mreturned       :0.00\u001b[0m | \u001b[30mreturning      :0.00\u001b[0m\n",
      "\u001b[30mreturns        :0.00\u001b[0m | \u001b[30mreveal         :0.00\u001b[0m | \u001b[30mreward         :0.00\u001b[0m | \u001b[30mrich           :0.00\u001b[0m | \u001b[30mrichness       :0.00\u001b[0m | \u001b[30mridiculously   :0.00\u001b[0m\n",
      "\u001b[30mright          :0.00\u001b[0m | \u001b[30mring           :0.00\u001b[0m | \u001b[30mringing        :0.00\u001b[0m | \u001b[30mrise           :0.00\u001b[0m | \u001b[30mrisen          :0.00\u001b[0m | \u001b[30mroad           :0.00\u001b[0m\n",
      "\u001b[30mrocket         :0.00\u001b[0m | \u001b[30mrole           :0.00\u001b[0m | \u001b[30mroll           :0.00\u001b[0m | \u001b[30mrolled         :0.00\u001b[0m | \u001b[30mroom           :0.00\u001b[0m | \u001b[30mrooms          :0.00\u001b[0m\n",
      "\u001b[30mrose           :0.00\u001b[0m | \u001b[30mrough          :0.00\u001b[0m | \u001b[30mround          :0.00\u001b[0m | \u001b[30mrow            :0.00\u001b[0m | \u001b[30mroyal          :0.00\u001b[0m | \u001b[30mrubbed         :0.00\u001b[0m\n",
      "\u001b[30mrubbing        :0.00\u001b[0m | \u001b[30mruin           :0.00\u001b[0m | \u001b[30mrumble         :0.00\u001b[0m | \u001b[30mrun            :0.00\u001b[0m | \u001b[30mrunning        :0.00\u001b[0m | \u001b[30mruns           :0.00\u001b[0m\n",
      "\u001b[30mrush           :0.00\u001b[0m | \u001b[30mrushed         :0.00\u001b[0m | \u001b[30mrushing        :0.00\u001b[0m | \u001b[30mrussian        :0.00\u001b[0m | \u001b[30msafe           :0.00\u001b[0m | \u001b[30msafeguard      :0.00\u001b[0m\n",
      "\u001b[30msafely         :0.00\u001b[0m | \u001b[30msafer          :0.00\u001b[0m | \u001b[30msaid           :0.00\u001b[0m | \u001b[30msally          :0.00\u001b[0m | \u001b[30msame           :0.00\u001b[0m | \u001b[30msandwiched     :0.00\u001b[0m\n",
      "\u001b[30msardonic       :0.00\u001b[0m | \u001b[30msat            :0.00\u001b[0m | \u001b[30msatisfaction   :0.00\u001b[0m | \u001b[30msavagely       :0.00\u001b[0m | \u001b[30msave           :0.00\u001b[0m | \u001b[30msaved          :0.00\u001b[0m\n",
      "\u001b[30msaw            :0.00\u001b[0m | \u001b[30msaxe           :0.00\u001b[0m | \u001b[30msay            :0.00\u001b[0m | \u001b[30mscala          :0.00\u001b[0m | \u001b[30mscandal        :0.00\u001b[0m | \u001b[30mscandinavia    :0.00\u001b[0m\n",
      "\u001b[30mscarlet        :0.00\u001b[0m | \u001b[30mscattered      :0.00\u001b[0m | \u001b[30mscene          :0.00\u001b[0m | \u001b[30mscent          :0.00\u001b[0m | \u001b[30mscience        :0.00\u001b[0m | \u001b[30mscissors       :0.00\u001b[0m\n",
      "\u001b[30mscored         :0.00\u001b[0m | \u001b[30mscraped        :0.00\u001b[0m | \u001b[30mscribbled      :0.00\u001b[0m | \u001b[30mscuffle        :0.00\u001b[0m | \u001b[30msea            :0.00\u001b[0m | \u001b[30mseal           :0.00\u001b[0m\n",
      "\u001b[30msearch         :0.00\u001b[0m | \u001b[30msearched       :0.00\u001b[0m | \u001b[30msearching      :0.00\u001b[0m | \u001b[30mseat           :0.00\u001b[0m | \u001b[30msecond         :0.00\u001b[0m | \u001b[30msecrecy        :0.00\u001b[0m\n",
      "\u001b[30msecret         :0.00\u001b[0m | \u001b[30msecreted       :0.00\u001b[0m | \u001b[30msecreting      :0.00\u001b[0m | \u001b[30msecretive      :0.00\u001b[0m | \u001b[30msecure         :0.00\u001b[0m | \u001b[30msecured        :0.00\u001b[0m\n",
      "\u001b[30msee            :0.00\u001b[0m | \u001b[30mseemed         :0.00\u001b[0m | \u001b[30mseems          :0.00\u001b[0m | \u001b[30mseen           :0.00\u001b[0m | \u001b[30mseized         :0.00\u001b[0m | \u001b[30mseldom         :0.00\u001b[0m\n",
      "\u001b[30mself           :0.00\u001b[0m | \u001b[30msell           :0.00\u001b[0m | \u001b[30msend           :0.00\u001b[0m | \u001b[30msensitive      :0.00\u001b[0m | \u001b[30msent           :0.00\u001b[0m | \u001b[30msentence       :0.00\u001b[0m\n",
      "\u001b[30mseparated      :0.00\u001b[0m | \u001b[30msequel         :0.00\u001b[0m | \u001b[30mserious        :0.00\u001b[0m | \u001b[30mseriously      :0.00\u001b[0m | \u001b[30mserpentine     :0.00\u001b[0m | \u001b[30mservant        :0.00\u001b[0m\n",
      "\u001b[30mservices       :0.00\u001b[0m | \u001b[30mset            :0.00\u001b[0m | \u001b[30msettling       :0.00\u001b[0m | \u001b[30mseven          :0.00\u001b[0m | \u001b[30mseventeen      :0.00\u001b[0m | \u001b[30mseveral        :0.00\u001b[0m\n",
      "\u001b[30msex            :0.00\u001b[0m | \u001b[30mshabbily       :0.00\u001b[0m | \u001b[30mshabby         :0.00\u001b[0m | \u001b[30mshadow         :0.00\u001b[0m | \u001b[30mshag           :0.00\u001b[0m | \u001b[30mshake          :0.00\u001b[0m\n",
      "\u001b[30mshall          :0.00\u001b[0m | \u001b[30mshaped         :0.00\u001b[0m | \u001b[30mshared         :0.00\u001b[0m | \u001b[30msharp          :0.00\u001b[0m | \u001b[30mshe            :0.00\u001b[0m | \u001b[30msheet          :0.00\u001b[0m\n",
      "\u001b[30mshelves        :0.00\u001b[0m | \u001b[30msherlock       :0.00\u001b[0m | \u001b[30mshoe           :0.00\u001b[0m | \u001b[30mshortly        :0.00\u001b[0m | \u001b[30mshot           :0.00\u001b[0m | \u001b[30mshould         :0.00\u001b[0m\n",
      "\u001b[30mshoulder       :0.00\u001b[0m | \u001b[30mshoulders      :0.00\u001b[0m | \u001b[30mshouted        :0.00\u001b[0m | \u001b[30mshouting       :0.00\u001b[0m | \u001b[30mshow           :0.00\u001b[0m | \u001b[30mshowed         :0.00\u001b[0m\n",
      "\u001b[30mshowing        :0.00\u001b[0m | \u001b[30mshown          :0.00\u001b[0m | \u001b[30mshriek         :0.00\u001b[0m | \u001b[30mshrugged       :0.00\u001b[0m | \u001b[30mshutter        :0.00\u001b[0m | \u001b[30mshutting       :0.00\u001b[0m\n",
      "\u001b[30mside           :0.00\u001b[0m | \u001b[30msides          :0.00\u001b[0m | \u001b[30msigismond      :0.00\u001b[0m | \u001b[30msign           :0.00\u001b[0m | \u001b[30msignal         :0.00\u001b[0m | \u001b[30msignature      :0.00\u001b[0m\n",
      "\u001b[30msigns          :0.00\u001b[0m | \u001b[30msilence        :0.00\u001b[0m | \u001b[30msilhouette     :0.00\u001b[0m | \u001b[30msilk           :0.00\u001b[0m | \u001b[30msilver         :0.00\u001b[0m | \u001b[30msimple         :0.00\u001b[0m\n",
      "\u001b[30msimplicity     :0.00\u001b[0m | \u001b[30msimplifies     :0.00\u001b[0m | \u001b[30msimplify       :0.00\u001b[0m | \u001b[30msince          :0.00\u001b[0m | \u001b[30msingle         :0.00\u001b[0m | \u001b[30msings          :0.00\u001b[0m\n",
      "\u001b[30msingular       :0.00\u001b[0m | \u001b[30msir            :0.00\u001b[0m | \u001b[30msit            :0.00\u001b[0m | \u001b[30msitting        :0.00\u001b[0m | \u001b[30msituation      :0.00\u001b[0m | \u001b[30msix            :0.00\u001b[0m\n",
      "\u001b[30msize           :0.00\u001b[0m | \u001b[30mslashed        :0.00\u001b[0m | \u001b[30mslavey         :0.00\u001b[0m | \u001b[30msleeves        :0.00\u001b[0m | \u001b[30mslept          :0.00\u001b[0m | \u001b[30msliding        :0.00\u001b[0m\n",
      "\u001b[30mslim           :0.00\u001b[0m | \u001b[30mslipped        :0.00\u001b[0m | \u001b[30mslipping       :0.00\u001b[0m | \u001b[30mslitting       :0.00\u001b[0m | \u001b[30mslow           :0.00\u001b[0m | \u001b[30mslowly         :0.00\u001b[0m\n",
      "\u001b[30msmall          :0.00\u001b[0m | \u001b[30msmart          :0.00\u001b[0m | \u001b[30msmelling       :0.00\u001b[0m | \u001b[30msmile          :0.00\u001b[0m | \u001b[30msmoke          :0.00\u001b[0m | \u001b[30msmoking        :0.00\u001b[0m\n",
      "\u001b[30msnake          :0.00\u001b[0m | \u001b[30msneer          :0.00\u001b[0m | \u001b[30mso             :0.00\u001b[0m | \u001b[30msociety        :0.00\u001b[0m | \u001b[30msofa           :0.00\u001b[0m | \u001b[30msofter         :0.00\u001b[0m\n",
      "\u001b[30msole           :0.00\u001b[0m | \u001b[30msolemnly       :0.00\u001b[0m | \u001b[30msome           :0.00\u001b[0m | \u001b[30msomeone        :0.00\u001b[0m | \u001b[30msomething      :0.00\u001b[0m | \u001b[30msoon           :0.00\u001b[0m\n",
      "\u001b[30msooner         :0.00\u001b[0m | \u001b[30msorry          :0.00\u001b[0m | \u001b[30msort           :0.00\u001b[0m | \u001b[30msoul           :0.00\u001b[0m | \u001b[30msound          :0.00\u001b[0m | \u001b[30msounded        :0.00\u001b[0m\n",
      "\u001b[30msovereign      :0.00\u001b[0m | \u001b[30mspare          :0.00\u001b[0m | \u001b[30msparkled       :0.00\u001b[0m | \u001b[30mspeak          :0.00\u001b[0m | \u001b[30mspeaking       :0.00\u001b[0m | \u001b[30mspeaks         :0.00\u001b[0m\n",
      "\u001b[30mspecialist     :0.00\u001b[0m | \u001b[30mspecimen       :0.00\u001b[0m | \u001b[30mspectacle      :0.00\u001b[0m | \u001b[30mspectators     :0.00\u001b[0m | \u001b[30mspinster       :0.00\u001b[0m | \u001b[30mspirit         :0.00\u001b[0m\n",
      "\u001b[30mspoke          :0.00\u001b[0m | \u001b[30mspoken         :0.00\u001b[0m | \u001b[30msprang         :0.00\u001b[0m | \u001b[30mst             :0.00\u001b[0m | \u001b[30mstaff          :0.00\u001b[0m | \u001b[30mstage          :0.00\u001b[0m\n",
      "\u001b[30mstaggered      :0.00\u001b[0m | \u001b[30mstairs         :0.00\u001b[0m | \u001b[30mstanding       :0.00\u001b[0m | \u001b[30mstands         :0.00\u001b[0m | \u001b[30mstared         :0.00\u001b[0m | \u001b[30mstaring        :0.00\u001b[0m\n",
      "\u001b[30mstarted        :0.00\u001b[0m | \u001b[30mstartled       :0.00\u001b[0m | \u001b[30mstate          :0.00\u001b[0m | \u001b[30mstation        :0.00\u001b[0m | \u001b[30mstay           :0.00\u001b[0m | \u001b[30msteaming       :0.00\u001b[0m\n",
      "\u001b[30msteel          :0.00\u001b[0m | \u001b[30mstep           :0.00\u001b[0m | \u001b[30mstepped        :0.00\u001b[0m | \u001b[30msteps          :0.00\u001b[0m | \u001b[30mstethoscope    :0.00\u001b[0m | \u001b[30msticking       :0.00\u001b[0m\n",
      "\u001b[30msticks         :0.00\u001b[0m | \u001b[30mstiff          :0.00\u001b[0m | \u001b[30mstill          :0.00\u001b[0m | \u001b[30mstolen         :0.00\u001b[0m | \u001b[30mstood          :0.00\u001b[0m | \u001b[30mstopped        :0.00\u001b[0m\n",
      "\u001b[30mstories        :0.00\u001b[0m | \u001b[30mstory          :0.00\u001b[0m | \u001b[30mstraight       :0.00\u001b[0m | \u001b[30mstrange        :0.00\u001b[0m | \u001b[30mstreet         :0.00\u001b[0m | \u001b[30mstreets        :0.00\u001b[0m\n",
      "\u001b[30mstretched      :0.00\u001b[0m | \u001b[30mstrict         :0.00\u001b[0m | \u001b[30mstrikes        :0.00\u001b[0m | \u001b[30mstrong         :0.00\u001b[0m | \u001b[30mstrongly       :0.00\u001b[0m | \u001b[30mstruck         :0.00\u001b[0m\n",
      "\u001b[30mstruggling     :0.00\u001b[0m | \u001b[30mstudy          :0.00\u001b[0m | \u001b[30msubject        :0.00\u001b[0m | \u001b[30msubstitution   :0.00\u001b[0m | \u001b[30msubtle         :0.00\u001b[0m | \u001b[30msuccess        :0.00\u001b[0m\n",
      "\u001b[30msuccessful     :0.00\u001b[0m | \u001b[30msuccessfully   :0.00\u001b[0m | \u001b[30msuccessive     :0.00\u001b[0m | \u001b[30msuccinct       :0.00\u001b[0m | \u001b[30msuch           :0.00\u001b[0m | \u001b[30msuddenly       :0.00\u001b[0m\n",
      "\u001b[30msufficient     :0.00\u001b[0m | \u001b[30msuggested      :0.00\u001b[0m | \u001b[30msuggestive     :0.00\u001b[0m | \u001b[30msuit           :0.00\u001b[0m | \u001b[30msuited         :0.00\u001b[0m | \u001b[30msuits          :0.00\u001b[0m\n",
      "\u001b[30msummons        :0.00\u001b[0m | \u001b[30msunk           :0.00\u001b[0m | \u001b[30msuperb         :0.00\u001b[0m | \u001b[30msuperscribed   :0.00\u001b[0m | \u001b[30msuppose        :0.00\u001b[0m | \u001b[30msure           :0.00\u001b[0m\n",
      "\u001b[30msurely         :0.00\u001b[0m | \u001b[30msurpliced      :0.00\u001b[0m | \u001b[30msurprise       :0.00\u001b[0m | \u001b[30msurrounded     :0.00\u001b[0m | \u001b[30msuspected      :0.00\u001b[0m | \u001b[30msuspicion      :0.00\u001b[0m\n",
      "\u001b[30msuspicious     :0.00\u001b[0m | \u001b[30mswiftly        :0.00\u001b[0m | \u001b[30msympathetic    :0.00\u001b[0m | \u001b[30msympathy       :0.00\u001b[0m | \u001b[30msystem         :0.00\u001b[0m | \u001b[30mtable          :0.00\u001b[0m\n",
      "\u001b[30mtags           :0.00\u001b[0m | \u001b[30mtake           :0.00\u001b[0m | \u001b[30mtaken          :0.00\u001b[0m | \u001b[30mtaking         :0.00\u001b[0m | \u001b[30mtalking        :0.00\u001b[0m | \u001b[30mtall           :0.00\u001b[0m\n",
      "\u001b[30mtap            :0.00\u001b[0m | \u001b[30mtask           :0.00\u001b[0m | \u001b[30mtaste          :0.00\u001b[0m | \u001b[30mtell           :0.00\u001b[0m | \u001b[30mtemperament    :0.00\u001b[0m | \u001b[30mtemple         :0.00\u001b[0m\n",
      "\u001b[30mten            :0.00\u001b[0m | \u001b[30mtext           :0.00\u001b[0m | \u001b[30mtexture        :0.00\u001b[0m | \u001b[30mthan           :0.00\u001b[0m | \u001b[30mthank          :0.00\u001b[0m | \u001b[30mthanking       :0.00\u001b[0m\n",
      "\u001b[1m\u001b[43mthat           :0.13\u001b[0m | \u001b[1m\u001b[43mthe            :0.09\u001b[0m | \u001b[30mtheir          :0.00\u001b[0m | \u001b[30mthem           :0.00\u001b[0m | \u001b[30mthen           :0.00\u001b[0m | \u001b[30mtheories       :0.00\u001b[0m\n",
      "\u001b[30mtheorize       :0.00\u001b[0m | \u001b[1m\u001b[43mthere          :0.18\u001b[0m | \u001b[30mtherefore      :0.00\u001b[0m | \u001b[30mthese          :0.00\u001b[0m | \u001b[30mthey           :0.00\u001b[0m | \u001b[30mthick          :0.00\u001b[0m\n",
      "\u001b[30mthing          :0.00\u001b[0m | \u001b[30mthings         :0.00\u001b[0m | \u001b[30mthink          :0.00\u001b[0m | \u001b[30mthinks         :0.00\u001b[0m | \u001b[30mthirty         :0.00\u001b[0m | \u001b[30mthis           :0.00\u001b[0m\n",
      "\u001b[30mthoroughly     :0.00\u001b[0m | \u001b[30mthose          :0.00\u001b[0m | \u001b[30mthough         :0.00\u001b[0m | \u001b[30mthought        :0.00\u001b[0m | \u001b[30mthreatened     :0.00\u001b[0m | \u001b[30mthreatens      :0.00\u001b[0m\n",
      "\u001b[30mthree          :0.00\u001b[0m | \u001b[30mthrew          :0.00\u001b[0m | \u001b[30mthrough        :0.00\u001b[0m | \u001b[30mthrow          :0.00\u001b[0m | \u001b[30mthrowing       :0.00\u001b[0m | \u001b[30mthrown         :0.00\u001b[0m\n",
      "\u001b[30mthursday       :0.00\u001b[0m | \u001b[30mtie            :0.00\u001b[0m | \u001b[30mtill           :0.00\u001b[0m | \u001b[30mtime           :0.00\u001b[0m | \u001b[30mtimes          :0.00\u001b[0m | \u001b[30mtinted         :0.00\u001b[0m\n",
      "\u001b[30mtitle          :0.00\u001b[0m | \u001b[1m\u001b[43mto             :0.10\u001b[0m | \u001b[30mtoast          :0.00\u001b[0m | \u001b[30mtobacco        :0.00\u001b[0m | \u001b[30mtogether       :0.00\u001b[0m | \u001b[30mtold           :0.00\u001b[0m\n",
      "\u001b[30mtoo            :0.00\u001b[0m | \u001b[30mtook           :0.00\u001b[0m | \u001b[30mtop            :0.00\u001b[0m | \u001b[30mtops           :0.00\u001b[0m | \u001b[30mtore           :0.00\u001b[0m | \u001b[30mtossed         :0.00\u001b[0m\n",
      "\u001b[30mtowards        :0.00\u001b[0m | \u001b[30mtragedy        :0.00\u001b[0m | \u001b[30mtrain          :0.00\u001b[0m | \u001b[30mtrained        :0.00\u001b[0m | \u001b[30mtransferred    :0.00\u001b[0m | \u001b[30mtravelled      :0.00\u001b[0m\n",
      "\u001b[30mtray           :0.00\u001b[0m | \u001b[30mtreachery      :0.00\u001b[0m | \u001b[30mtrepoff        :0.00\u001b[0m | \u001b[30mtrick          :0.00\u001b[0m | \u001b[30mtried          :0.00\u001b[0m | \u001b[30mtrifle         :0.00\u001b[0m\n",
      "\u001b[30mtrifling       :0.00\u001b[0m | \u001b[30mtrimmed        :0.00\u001b[0m | \u001b[30mtrincomalee    :0.00\u001b[0m | \u001b[30mtriumphant     :0.00\u001b[0m | \u001b[30mtrousers       :0.00\u001b[0m | \u001b[30mtrue           :0.00\u001b[0m\n",
      "\u001b[30mtruly          :0.00\u001b[0m | \u001b[30mtrust          :0.00\u001b[0m | \u001b[30mtrusted        :0.00\u001b[0m | \u001b[30mturn           :0.00\u001b[0m | \u001b[30mturned         :0.00\u001b[0m | \u001b[30mturner         :0.00\u001b[0m\n",
      "\u001b[30mturning        :0.00\u001b[0m | \u001b[30mtweed          :0.00\u001b[0m | \u001b[30mtwelve         :0.00\u001b[0m | \u001b[30mtwentieth      :0.00\u001b[0m | \u001b[30mtwenty         :0.00\u001b[0m | \u001b[30mtwice          :0.00\u001b[0m\n",
      "\u001b[30mtwist          :0.00\u001b[0m | \u001b[30mtwo            :0.00\u001b[0m | \u001b[30mtwopence       :0.00\u001b[0m | \u001b[30mtying          :0.00\u001b[0m | \u001b[30mulster         :0.00\u001b[0m | \u001b[30muncertain      :0.00\u001b[0m\n",
      "\u001b[30muncontrollable :0.00\u001b[0m | \u001b[30muncourteous    :0.00\u001b[0m | \u001b[30mundated        :0.00\u001b[0m | \u001b[30munder          :0.00\u001b[0m | \u001b[30munderstand     :0.00\u001b[0m | \u001b[30munexpected     :0.00\u001b[0m\n",
      "\u001b[30munknown        :0.00\u001b[0m | \u001b[30munlikely       :0.00\u001b[0m | \u001b[30munmarried      :0.00\u001b[0m | \u001b[30munpleasantness :0.00\u001b[0m | \u001b[30muntil          :0.00\u001b[0m | \u001b[30munusual        :0.00\u001b[0m\n",
      "\u001b[30mup             :0.00\u001b[0m | \u001b[30mupon           :0.00\u001b[0m | \u001b[30mupper          :0.00\u001b[0m | \u001b[30muproar         :0.00\u001b[0m | \u001b[30mus             :0.00\u001b[0m | \u001b[30muse            :0.00\u001b[0m\n",
      "\u001b[30mused           :0.00\u001b[0m | \u001b[30musual          :0.00\u001b[0m | \u001b[30mvague          :0.00\u001b[0m | \u001b[30mvalue          :0.00\u001b[0m | \u001b[30mvalues         :0.00\u001b[0m | \u001b[30mvanished       :0.00\u001b[0m\n",
      "\u001b[30mvariants       :0.00\u001b[0m | \u001b[30mvarious        :0.00\u001b[0m | \u001b[30mvary           :0.00\u001b[0m | \u001b[30mve             :0.00\u001b[0m | \u001b[30mveil           :0.00\u001b[0m | \u001b[30mverbs          :0.00\u001b[0m\n",
      "\u001b[30mversion        :0.00\u001b[0m | \u001b[30mvery           :0.00\u001b[0m | \u001b[30mview           :0.00\u001b[0m | \u001b[30mvile           :0.00\u001b[0m | \u001b[30mvilla          :0.00\u001b[0m | \u001b[30mvisible        :0.00\u001b[0m\n",
      "\u001b[30mvisit          :0.00\u001b[0m | \u001b[30mvisitor        :0.00\u001b[0m | \u001b[30mvisits         :0.00\u001b[0m | \u001b[30mvizard         :0.00\u001b[0m | \u001b[30mvoice          :0.00\u001b[0m | \u001b[30mvoices         :0.00\u001b[0m\n",
      "\u001b[30mvolume         :0.00\u001b[0m | \u001b[30mvon            :0.00\u001b[0m | \u001b[30mvouching       :0.00\u001b[0m | \u001b[30mwait           :0.00\u001b[0m | \u001b[30mwaited         :0.00\u001b[0m | \u001b[30mwaiting        :0.00\u001b[0m\n",
      "\u001b[30mwalk           :0.00\u001b[0m | \u001b[30mwalked         :0.00\u001b[0m | \u001b[30mwalking        :0.00\u001b[0m | \u001b[30mwalks          :0.00\u001b[0m | \u001b[30mwall           :0.00\u001b[0m | \u001b[30mwallenstein    :0.00\u001b[0m\n",
      "\u001b[30mwant           :0.00\u001b[0m | \u001b[30mwanted         :0.00\u001b[0m | \u001b[30mwarned         :0.00\u001b[0m | \u001b[30mwarranties     :0.00\u001b[0m | \u001b[30mwarranty       :0.00\u001b[0m | \u001b[30mwarsaw         :0.00\u001b[0m\n",
      "\u001b[1m\u001b[43mwas            :0.25\u001b[0m | \u001b[30mwatch          :0.00\u001b[0m | \u001b[30mwatched        :0.00\u001b[0m | \u001b[30mwatching       :0.00\u001b[0m | \u001b[30mwatson         :0.00\u001b[0m | \u001b[30mwaved          :0.00\u001b[0m\n",
      "\u001b[30mwaving         :0.00\u001b[0m | \u001b[30mway            :0.00\u001b[0m | \u001b[30mwaylaid        :0.00\u001b[0m | \u001b[30mwe             :0.00\u001b[0m | \u001b[30mweapon         :0.00\u001b[0m | \u001b[30mwear           :0.00\u001b[0m\n",
      "\u001b[30mwearing        :0.00\u001b[0m | \u001b[30mweather        :0.00\u001b[0m | \u001b[30mwedlock        :0.00\u001b[0m | \u001b[30mweek           :0.00\u001b[0m | \u001b[30mweight         :0.00\u001b[0m | \u001b[30mwell           :0.00\u001b[0m\n",
      "\u001b[30mwent           :0.00\u001b[0m | \u001b[30mwere           :0.00\u001b[0m | \u001b[30mwet            :0.00\u001b[0m | \u001b[30mwhat           :0.00\u001b[0m | \u001b[30mwhatever       :0.00\u001b[0m | \u001b[30mwheel          :0.00\u001b[0m\n",
      "\u001b[30mwheels         :0.00\u001b[0m | \u001b[30mwhen           :0.00\u001b[0m | \u001b[30mwhence         :0.00\u001b[0m | \u001b[30mwhere          :0.00\u001b[0m | \u001b[30mwhether        :0.00\u001b[0m | \u001b[30mwhich          :0.00\u001b[0m\n",
      "\u001b[30mwhile          :0.00\u001b[0m | \u001b[30mwhiskered      :0.00\u001b[0m | \u001b[30mwhispered      :0.00\u001b[0m | \u001b[30mwhistled       :0.00\u001b[0m | \u001b[30mwhite          :0.00\u001b[0m | \u001b[30mwho            :0.00\u001b[0m\n",
      "\u001b[30mwhole          :0.00\u001b[0m | \u001b[30mwhom           :0.00\u001b[0m | \u001b[30mwhose          :0.00\u001b[0m | \u001b[30mwhy            :0.00\u001b[0m | \u001b[30mwidened        :0.00\u001b[0m | \u001b[30mwife           :0.00\u001b[0m\n",
      "\u001b[30mwilhelm        :0.00\u001b[0m | \u001b[30mwill           :0.00\u001b[0m | \u001b[30mwind           :0.00\u001b[0m | \u001b[30mwindow         :0.00\u001b[0m | \u001b[30mwindows        :0.00\u001b[0m | \u001b[30mwire           :0.00\u001b[0m\n",
      "\u001b[30mwish           :0.00\u001b[0m | \u001b[30mwished         :0.00\u001b[0m | \u001b[30mwishes         :0.00\u001b[0m | \u001b[30mwit            :0.00\u001b[0m | \u001b[30mwith           :0.00\u001b[0m | \u001b[30mwithin         :0.00\u001b[0m\n",
      "\u001b[30mwithout        :0.00\u001b[0m | \u001b[30mwitness        :0.00\u001b[0m | \u001b[1m\u001b[43mwoman          :0.44\u001b[0m | \u001b[30mwomen          :0.00\u001b[0m | \u001b[30mwon            :0.00\u001b[0m | \u001b[30mwonder         :0.00\u001b[0m\n",
      "\u001b[30mwonderful      :0.00\u001b[0m | \u001b[30mwondering      :0.00\u001b[0m | \u001b[30mwood           :0.00\u001b[0m | \u001b[30mwooing         :0.00\u001b[0m | \u001b[30mword           :0.00\u001b[0m | \u001b[30mwore           :0.00\u001b[0m\n",
      "\u001b[30mwork           :0.00\u001b[0m | \u001b[30mworld          :0.00\u001b[0m | \u001b[30mwould          :0.00\u001b[0m | \u001b[30mwoven          :0.00\u001b[0m | \u001b[30mwrist          :0.00\u001b[0m | \u001b[30mwrites         :0.00\u001b[0m\n",
      "\u001b[30mwriting        :0.00\u001b[0m | \u001b[30mwritten        :0.00\u001b[0m | \u001b[30mwronged        :0.00\u001b[0m | \u001b[30mwrote          :0.00\u001b[0m | \u001b[30myawn           :0.00\u001b[0m | \u001b[30myear           :0.00\u001b[0m\n",
      "\u001b[30myears          :0.00\u001b[0m | \u001b[30myes            :0.00\u001b[0m | \u001b[30myesterday      :0.00\u001b[0m | \u001b[1m\u001b[43myet            :0.22\u001b[0m | \u001b[30myou            :0.00\u001b[0m\n",
      "\u001b[30myoung          :0.00\u001b[0m | \u001b[30myour           :0.00\u001b[0m | \u001b[30myours          :0.00\u001b[0m | \u001b[30myourself       :0.00\u001b[0m | \u001b[30myouth          :0.00\u001b[0m\n"
     ]
    }
   ],
   "source": [
    "show_bow_float(tfidf, bow[0])"
   ]
  },
  {
   "cell_type": "markdown",
   "metadata": {
    "id": "oGRqIeHO4NwB"
   },
   "source": [
    "Display the IDF of some words. \n",
    "\n",
    "* High IDF = word that appears in few documents\n",
    "* Low IDF = word that appears in most of documents"
   ]
  },
  {
   "cell_type": "code",
   "execution_count": null,
   "metadata": {
    "colab": {
     "base_uri": "https://localhost:8080/"
    },
    "id": "VpumkX102SNG",
    "outputId": "8820c785-4474-47f4-bf7d-bcc237a5ba17"
   },
   "outputs": [
    {
     "name": "stdout",
     "output_type": "stream",
     "text": [
      "Word: woman\n",
      "IDF(woman) = 4.948280753450771\n"
     ]
    }
   ],
   "source": [
    "words = tfidf.get_feature_names()\n",
    "word = input('Word: ').lower()\n",
    "\n",
    "if word in words:\n",
    "    k = words.index(word)\n",
    "    print(f'IDF({words[k]}) = {tfidf.idf_[k]}')\n",
    "else:\n",
    "    print('Not in vocabulary')"
   ]
  },
  {
   "cell_type": "code",
   "execution_count": null,
   "metadata": {
    "id": "3of5oQz8RGpP"
   },
   "outputs": [],
   "source": []
  },
  {
   "cell_type": "markdown",
   "metadata": {
    "id": "5G0ZIeJY6jpc"
   },
   "source": [
    "#### More than one TF-IDF"
   ]
  },
  {
   "cell_type": "markdown",
   "metadata": {
    "id": "TX3gG-0M5U8t"
   },
   "source": [
    "There is a family of TF-IDF formulas. \n",
    "\n",
    "Another example is the **sublinear TF**, which is then:\n",
    "\n",
    "$\n",
    "\\begin{align}\n",
    "\\textrm{TF(w, d) = 1 + log} \\left( raw count \\right)\n",
    "\\end{align}\n",
    "$\n"
   ]
  },
  {
   "cell_type": "code",
   "execution_count": null,
   "metadata": {
    "id": "jox4xcbG3Rwl"
   },
   "outputs": [],
   "source": [
    "tfidf_sublinear = TfidfVectorizer(sublinear_tf=True)\n",
    "tfidf_sublinear.fit(sentences)"
   ]
  },
  {
   "cell_type": "code",
   "execution_count": null,
   "metadata": {
    "id": "5QmgzAHf500o"
   },
   "outputs": [],
   "source": [
    "s = sentences[10]\n",
    "\n",
    "print(f'Text: \"{s}\"')\n",
    "bow_sl = tfidf_sublinear.transform([s])\n",
    "print(f'BoW Shape: {bow_sl.shape}')\n",
    "bow_sl = bow_sl.toarray()   # From sparse matrix to dense matrix (Careful with MEMORY)\n",
    "print(f'BoW Vector: {bow_sl}')"
   ]
  },
  {
   "cell_type": "code",
   "execution_count": null,
   "metadata": {
    "id": "6C--5o_657PO"
   },
   "outputs": [],
   "source": [
    "show_bow_float(tfidf_sublinear, bow_sl[0])"
   ]
  },
  {
   "cell_type": "code",
   "execution_count": null,
   "metadata": {
    "id": "7aOpWVyk6FlO"
   },
   "outputs": [],
   "source": [
    "word = 'yet'\n",
    "\n",
    "index = words.index(word)\n",
    "\n",
    "bow = tfidf.transform([s]).toarray()\n",
    "\n",
    "print(f'Word: \"{word}\"')\n",
    "print(f'TF-IDF with Natural TF   = {bow[0][index]:0.4f}')\n",
    "print(f'TF-IDF with Sublinear TF = {bow_sl[0][index]:0.4f}')"
   ]
  },
  {
   "cell_type": "markdown",
   "metadata": {
    "id": "yVjdRZZPDkAm"
   },
   "source": [
    "Repeating a word in a text will modify the TF-IDF coefficient for this word in the text representation."
   ]
  },
  {
   "cell_type": "code",
   "execution_count": null,
   "metadata": {
    "id": "l3alWzlf73tL"
   },
   "outputs": [],
   "source": [
    "word = 'yet'\n",
    "s = sentences[10]\n",
    "s = s + ' '.join(100 * [word])\n",
    "\n",
    "bow = tfidf.transform([s]).toarray()\n",
    "bow_sl = tfidf_sublinear.transform([s]).toarray()\n",
    "\n",
    "index = words.index(word)\n",
    "print(f'Word: \"{word}\"')\n",
    "print(f'TF-IDF with Natural TF   = {bow[0][index]:0.4f}')\n",
    "print(f'TF-IDF with Sublinear TF = {bow_sl[0][index]:0.4f}')"
   ]
  },
  {
   "cell_type": "markdown",
   "metadata": {
    "id": "xs3QZ_6zqUq1"
   },
   "source": [
    "# Search Engine"
   ]
  },
  {
   "cell_type": "markdown",
   "metadata": {
    "id": "SFCwrFKcqX6X"
   },
   "source": [
    "With these vectors, we can build a search engine.\n",
    "\n",
    "* **Query**: Let the user enter a text query\n",
    "* Search through the corpus the documents that are **similar** to the query\n",
    "* **Similarity**: we use the **cosine similary** of the BoW vectors of two texts to evaluate their similarity.\n"
   ]
  },
  {
   "cell_type": "code",
   "execution_count": null,
   "metadata": {
    "id": "pF21fhqssnNP"
   },
   "outputs": [],
   "source": [
    "corpus_bow = count.transform(newsgroups.data)"
   ]
  },
  {
   "cell_type": "code",
   "execution_count": null,
   "metadata": {
    "id": "nvy6QV7esHvK"
   },
   "outputs": [],
   "source": [
    "query = input(\"Type your query: \")\n",
    "query_bow = count.transform([query])"
   ]
  },
  {
   "cell_type": "code",
   "execution_count": null,
   "metadata": {
    "id": "BtszmsEhsQWk"
   },
   "outputs": [],
   "source": [
    "from sklearn.metrics.pairwise import cosine_similarity\n",
    "\n",
    "similarity_matrix = cosine_similarity(corpus_bow, query_bow)\n",
    "print(f'Similarity Matrix Shape: {similarity_matrix.shape}')"
   ]
  },
  {
   "cell_type": "markdown",
   "metadata": {
    "id": "669vjo2Yu8qq"
   },
   "source": [
    "The similarity matrix has **D** rows (the number of documents in the corpus) and 1 column.\n",
    "\n",
    "Coefficient at row **k** is the cosine similarity between the document at index **k** in the corpus and the query.\n"
   ]
  },
  {
   "cell_type": "code",
   "execution_count": null,
   "metadata": {
    "id": "M5HRmO4Ks7D1"
   },
   "outputs": [],
   "source": [
    "similarities = pd.Series(similarity_matrix[:, 0])\n",
    "similarities.head(10)"
   ]
  },
  {
   "cell_type": "code",
   "execution_count": null,
   "metadata": {
    "id": "KYIShCK9tQX9"
   },
   "outputs": [],
   "source": [
    "top_10 = similarities.sort_values(ascending=False)[:10]\n",
    "top_10"
   ]
  },
  {
   "cell_type": "code",
   "execution_count": null,
   "metadata": {
    "id": "NkGTSYvGtgHT"
   },
   "outputs": [],
   "source": [
    "print('Best document:')\n",
    "print(newsgroups.data[top_10.index[0]])"
   ]
  }
 ],
 "metadata": {
  "colab": {
   "collapsed_sections": [
    "PkNx4UuJSCqr",
    "ytFuVivZ-PDq",
    "bRCYWOP1RS5K",
    "iaZa3oL1ZM5u",
    "GHyfUpJJmdbl"
   ],
   "name": "BoW",
   "provenance": []
  },
  "kernelspec": {
   "display_name": "Python 3",
   "language": "python",
   "name": "python3"
  },
  "language_info": {
   "codemirror_mode": {
    "name": "ipython",
    "version": 3
   },
   "file_extension": ".py",
   "mimetype": "text/x-python",
   "name": "python",
   "nbconvert_exporter": "python",
   "pygments_lexer": "ipython3",
   "version": "3.8.5"
  }
 },
 "nbformat": 4,
 "nbformat_minor": 1
}
