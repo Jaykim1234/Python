{
 "cells": [
  {
   "cell_type": "markdown",
   "metadata": {
    "id": "LkYpFAOry3ht"
   },
   "source": [
    "# 3-Gram Language Model"
   ]
  },
  {
   "cell_type": "markdown",
   "metadata": {
    "id": "z89cA4aky6Ve"
   },
   "source": [
    "We will use the **Reuters** dataset, included in nltk.\n",
    "\n",
    "It is a collection of business-related short articles."
   ]
  },
  {
   "cell_type": "markdown",
   "metadata": {
    "id": "hc30rFGt5Err"
   },
   "source": [
    "# Import and Prepare Data"
   ]
  },
  {
   "cell_type": "markdown",
   "metadata": {
    "id": "Ii6oN2DA5Hm9"
   },
   "source": [
    "As it is a builtin dataset, it is easy to retrieve."
   ]
  },
  {
   "cell_type": "code",
   "execution_count": 4,
   "metadata": {
    "id": "6EM60WJpl7Xg"
   },
   "outputs": [
    {
     "name": "stderr",
     "output_type": "stream",
     "text": [
      "[nltk_data] Downloading package reuters to\n",
      "[nltk_data]     C:\\Users\\user\\AppData\\Roaming\\nltk_data...\n",
      "[nltk_data]   Package reuters is already up-to-date!\n",
      "[nltk_data] Downloading package punkt to\n",
      "[nltk_data]     C:\\Users\\user\\AppData\\Roaming\\nltk_data...\n",
      "[nltk_data]   Package punkt is already up-to-date!\n"
     ]
    },
    {
     "data": {
      "text/plain": [
       "True"
      ]
     },
     "execution_count": 4,
     "metadata": {},
     "output_type": "execute_result"
    }
   ],
   "source": [
    "import nltk\n",
    "nltk.download('reuters')\n",
    "nltk.download('punkt')"
   ]
  },
  {
   "cell_type": "code",
   "execution_count": 5,
   "metadata": {
    "id": "lDLOi6_F2vEV"
   },
   "outputs": [],
   "source": [
    "import pandas as pd\n",
    "\n",
    "from nltk.corpus import reuters\n",
    "\n",
    "data = [{'id': i, 'fulltext': ' '.join(s), 'nbwords': len(s), 'tokens': s} for i, s in enumerate(reuters.sents())]\n",
    "df = pd.DataFrame(data)"
   ]
  },
  {
   "cell_type": "code",
   "execution_count": 6,
   "metadata": {
    "id": "8JLAaSdI4TuR"
   },
   "outputs": [
    {
     "name": "stdout",
     "output_type": "stream",
     "text": [
      "There are 54716 documents in the corpus.\n"
     ]
    }
   ],
   "source": [
    "print(f'There are {df.shape[0]} documents in the corpus.')"
   ]
  },
  {
   "cell_type": "code",
   "execution_count": 7,
   "metadata": {
    "id": "91QcosNI3O67"
   },
   "outputs": [
    {
     "data": {
      "image/png": "[encoded data removed]",
      "text/plain": [
       "<Figure size 1728x864 with 2 Axes>"
      ]
     },
     "metadata": {
      "needs_background": "light"
     },
     "output_type": "display_data"
    }
   ],
   "source": [
    "import matplotlib.pyplot as plt\n",
    "\n",
    "fig, axs = plt.subplots(nrows=1, ncols=2, figsize=(24, 12))\n",
    "\n",
    "_ = df['nbwords'].plot.hist(bins=50, ax=axs[0])\n",
    "_ = df['nbwords'].plot.hist(cumulative=True, density=1, bins=50, ax=axs[1])\n",
    "\n",
    "_ = axs[0].set_title('PDF')\n",
    "_ = axs[1].set_title('CDF')"
   ]
  },
  {
   "cell_type": "code",
   "execution_count": 8,
   "metadata": {
    "id": "vf549YjbzZai"
   },
   "outputs": [
    {
     "name": "stdout",
     "output_type": "stream",
     "text": [
      "\u001b[1mSample text from Reuters:\u001b[0m #37668\n",
      "********************************************************************************\n",
      "\u001b[1m\u001b[34mOriginal Data:\u001b[0m\n",
      "['Late', 'yesterday', 'the', 'company', 'said'] (...)\n",
      "(...) ['all', 'Gates', 'Learjet', 'shares', '.']\n",
      "********************************************************************************\n",
      "\u001b[1m\u001b[34mFull Text:\u001b[0m\n",
      "Late yesterday the company said it has offered 7 . 07 dlrs per share for all\n",
      "Gates Learjet shares .\n"
     ]
    }
   ],
   "source": [
    "from termcolor import colored\n",
    "from textwrap import fill\n",
    "\n",
    "# Reuters corpus is already tokenized\n",
    "sample = df.sample(n=1).iloc[0]\n",
    "index = sample['id']\n",
    "document = sample['tokens']\n",
    "\n",
    "print(f'{colored(\"Sample text from Reuters:\", attrs=[\"bold\"])} #{index}')\n",
    "print('*' * 80)\n",
    "print(f'{colored(\"Original Data:\", color=\"blue\", attrs=[\"bold\"])}\\n{document[:5]} (...)\\n(...) {document[-5:]}')\n",
    "print('*' * 80)\n",
    "print(f'{colored(\"Full Text:\", color=\"blue\", attrs=[\"bold\"])}')\n",
    "print(fill(' '.join(document), width=80))\n"
   ]
  },
  {
   "cell_type": "markdown",
   "metadata": {
    "id": "0-biwm3K5MSz"
   },
   "source": [
    "# Bigrams / TriGrams"
   ]
  },
  {
   "cell_type": "markdown",
   "metadata": {
    "id": "DL_nTqOP5Qk4"
   },
   "source": [
    "NLTK has special functions that can generate the list of 2-grams and 3-grams of a document.\n",
    "\n",
    "Padded 2-grams add `(None, 'The')` as a 2-gram when the sentence starts with 'The'.\n",
    "\n",
    "As we build a 3-Gram LM, we focus on padded 3-grams from the corpus."
   ]
  },
  {
   "cell_type": "code",
   "execution_count": 9,
   "metadata": {
    "id": "LURpg7ZolxHm"
   },
   "outputs": [
    {
     "name": "stdout",
     "output_type": "stream",
     "text": [
      "\u001b[1mBIGRAMS: \u001b[0m [('Late', 'yesterday'), ('yesterday', 'the'), ('the', 'company'), ('company', 'said'), ('said', 'it'), ('it', 'has'), ('has', 'offered'), ('offered', '7'), ('7', '.'), ('.', '07'), ('07', 'dlrs'), ('dlrs', 'per'), ('per', 'share'), ('share', 'for'), ('for', 'all'), ('all', 'Gates'), ('Gates', 'Learjet'), ('Learjet', 'shares'), ('shares', '.')]\n",
      "\u001b[1mPADDED BIGRAMS: \u001b[0m [(None, 'Late'), ('Late', 'yesterday'), ('yesterday', 'the'), ('the', 'company'), ('company', 'said'), ('said', 'it'), ('it', 'has'), ('has', 'offered'), ('offered', '7'), ('7', '.'), ('.', '07'), ('07', 'dlrs'), ('dlrs', 'per'), ('per', 'share'), ('share', 'for'), ('for', 'all'), ('all', 'Gates'), ('Gates', 'Learjet'), ('Learjet', 'shares'), ('shares', '.'), ('.', None)]\n",
      "\n",
      "\u001b[1mTRIGRAMS: \u001b[0m [('Late', 'yesterday', 'the'), ('yesterday', 'the', 'company'), ('the', 'company', 'said'), ('company', 'said', 'it'), ('said', 'it', 'has'), ('it', 'has', 'offered'), ('has', 'offered', '7'), ('offered', '7', '.'), ('7', '.', '07'), ('.', '07', 'dlrs'), ('07', 'dlrs', 'per'), ('dlrs', 'per', 'share'), ('per', 'share', 'for'), ('share', 'for', 'all'), ('for', 'all', 'Gates'), ('all', 'Gates', 'Learjet'), ('Gates', 'Learjet', 'shares'), ('Learjet', 'shares', '.')]\n",
      "\u001b[1mPADDED TRIGRAMS: \u001b[0m [(None, None, 'Late'), (None, 'Late', 'yesterday'), ('Late', 'yesterday', 'the'), ('yesterday', 'the', 'company'), ('the', 'company', 'said'), ('company', 'said', 'it'), ('said', 'it', 'has'), ('it', 'has', 'offered'), ('has', 'offered', '7'), ('offered', '7', '.'), ('7', '.', '07'), ('.', '07', 'dlrs'), ('07', 'dlrs', 'per'), ('dlrs', 'per', 'share'), ('per', 'share', 'for'), ('share', 'for', 'all'), ('for', 'all', 'Gates'), ('all', 'Gates', 'Learjet'), ('Gates', 'Learjet', 'shares'), ('Learjet', 'shares', '.'), ('shares', '.', None), ('.', None, None)]\n"
     ]
    }
   ],
   "source": [
    "from nltk import bigrams, trigrams\n",
    "from collections import Counter, defaultdict\n",
    "  \n",
    "# Get the bigrams\n",
    "print(colored('BIGRAMS: ', attrs=['bold']), list(bigrams(document))) # [(u'ASIAN', u'EXPORTERS'), (u'EXPORTERS', u'FEAR'), (u'FEAR', u'DAMAGE'), (u'DAMAGE', u'FROM'), ...\n",
    " \n",
    "# Get the padded bigrams\n",
    "print(colored('PADDED BIGRAMS: ', attrs=['bold']), list(bigrams(document, pad_left=True, pad_right=True))) # [(None, u'ASIAN'), (u'ASIAN', u'EXPORTERS'), (u'EXPORTERS', u'FEAR'), (u'FEAR', u'DAMAGE'), (u'DAMAGE', u'FROM'),\n",
    "print()\n",
    "# Get the trigrams\n",
    "print(colored('TRIGRAMS: ', attrs=['bold']), list(trigrams(document))) # [(u'ASIAN', u'EXPORTERS', u'FEAR'), (u'EXPORTERS', u'FEAR', u'DAMAGE'), (u'FEAR', u'DAMAGE', u'FROM'), ...\n",
    " \n",
    "# Get the padded trigrams\n",
    "print(colored('PADDED TRIGRAMS: ', attrs=['bold']), list(trigrams(document, pad_left=True, pad_right=True))) # [(None, None, u'ASIAN'), (None, u'ASIAN', u'EXPORTERS'), (u'ASIAN', u'EXPORTERS', u'FEAR'), (u'EXPORTERS', u'FEAR', u'DAMAGE'), (u'FEAR', u'DAMAGE', u'FROM') ...\n",
    " "
   ]
  },
  {
   "cell_type": "code",
   "execution_count": 10,
   "metadata": {
    "id": "QYBCpsrcl3Jq"
   },
   "outputs": [],
   "source": [
    "model = defaultdict(lambda: defaultdict(lambda: 0))\n",
    " \n",
    "for tokens in df['tokens']:\n",
    "    for w1, w2, w3 in trigrams(tokens, pad_right=True, pad_left=True):\n",
    "        model[(w1.lower() if w1 is not None else None, w2.lower() if w2 is not None else None)][w3.lower() if w3 is not None else None] += 1"
   ]
  },
  {
   "cell_type": "code",
   "execution_count": 11,
   "metadata": {
    "id": "NJYsRnNJjO8H"
   },
   "outputs": [
    {
     "name": "stdout",
     "output_type": "stream",
     "text": [
      "Number of times \"economists\" followed \"what the\": 2\n",
      "Number of sentences starting with \"the\": 8865\n"
     ]
    }
   ],
   "source": [
    "print(f'Number of times \"economists\" followed \"what the\": {model[\"what\", \"the\"][\"economists\"]}') # \"economists\" follows \"what the\" 2 times\n",
    "print(f'Number of sentences starting with \"the\": {model[None, None][\"the\"]}') "
   ]
  },
  {
   "cell_type": "code",
   "execution_count": 12,
   "metadata": {
    "id": "1Kl-nz2at1WL"
   },
   "outputs": [
    {
     "name": "stdout",
     "output_type": "stream",
     "text": [
      "0\n"
     ]
    }
   ],
   "source": [
    "print(model[\"what\", \"the\"][\"nonexistingword\"]) # 0 times, thanks to the defaultdict definition"
   ]
  },
  {
   "cell_type": "code",
   "execution_count": 13,
   "metadata": {
    "id": "SNZhlkwyjRsw"
   },
   "outputs": [],
   "source": [
    "# Let's transform the counts to probabilities\n",
    "for w1_w2 in model:\n",
    "    total_count = float(sum(model[w1_w2].values()))\n",
    "    for w3 in model[w1_w2]:\n",
    "        model[w1_w2][w3] /= total_count"
   ]
  },
  {
   "cell_type": "code",
   "execution_count": 14,
   "metadata": {
    "id": "tXLbVq5cjHDv"
   },
   "outputs": [
    {
     "name": "stdout",
     "output_type": "stream",
     "text": [
      "Probability of \"economists\" given \"what the\": 0.041666666666666664\n",
      "Probability of \"the\" given Start_of_Sentence: 0.1620184223992982\n"
     ]
    }
   ],
   "source": [
    "print(f'Probability of \"economists\" given \"what the\": {model[\"what\", \"the\"][\"economists\"]}') # \"economists\" follows \"what the\" 2 times\n",
    "print(f'Probability of \"the\" given Start_of_Sentence: {model[None, None][\"the\"]}') # 8839 sentences start with \"The\""
   ]
  },
  {
   "cell_type": "code",
   "execution_count": 15,
   "metadata": {
    "id": "-8C9gV8jFrPm"
   },
   "outputs": [
    {
     "data": {
      "text/plain": [
       "defaultdict(<function __main__.<lambda>.<locals>.<lambda>()>,\n",
       "            {'communique': 0.020833333333333332,\n",
       "             'chance': 0.020833333333333332,\n",
       "             'manager': 0.020833333333333332,\n",
       "             'central': 0.041666666666666664,\n",
       "             'announcement': 0.020833333333333332,\n",
       "             'minister': 0.020833333333333332,\n",
       "             'minimum': 0.020833333333333332,\n",
       "             'administration': 0.041666666666666664,\n",
       "             'united': 0.020833333333333332,\n",
       "             'u': 0.0625,\n",
       "             'decision': 0.0625,\n",
       "             'japanese': 0.020833333333333332,\n",
       "             'mps': 0.020833333333333332,\n",
       "             'differential': 0.020833333333333332,\n",
       "             'british': 0.041666666666666664,\n",
       "             'paris': 0.020833333333333332,\n",
       "             'state': 0.041666666666666664,\n",
       "             'buffer': 0.020833333333333332,\n",
       "             'markets': 0.020833333333333332,\n",
       "             'fed': 0.041666666666666664,\n",
       "             'company': 0.020833333333333332,\n",
       "             'offer': 0.020833333333333332,\n",
       "             'result': 0.020833333333333332,\n",
       "             'pressure': 0.020833333333333332,\n",
       "             'outcome': 0.020833333333333332,\n",
       "             'union': 0.020833333333333332,\n",
       "             'financial': 0.020833333333333332,\n",
       "             'government': 0.041666666666666664,\n",
       "             'parameters': 0.020833333333333332,\n",
       "             'economists': 0.041666666666666664,\n",
       "             'trade': 0.020833333333333332,\n",
       "             'chief': 0.020833333333333332,\n",
       "             'group': 0.020833333333333332,\n",
       "             'equity': 0.020833333333333332,\n",
       "             'soviets': 0.020833333333333332,\n",
       "             'conversation': 0.020833333333333332,\n",
       "             'the': 0.020833333333333332,\n",
       "             'nonexistingword': 0.0})"
      ]
     },
     "execution_count": 15,
     "metadata": {},
     "output_type": "execute_result"
    }
   ],
   "source": [
    "model['what', 'the']"
   ]
  },
  {
   "cell_type": "markdown",
   "metadata": {
    "id": "jLmrJ5H96Aq3"
   },
   "source": [
    "# Text Generation"
   ]
  },
  {
   "cell_type": "markdown",
   "metadata": {
    "id": "bLETubzT6CrI"
   },
   "source": [
    "We use a greedy algorithm:\n",
    "* The first 2-gram is `(None, None)`\n",
    "* Repeat:\n",
    " * Draw 1 word from the probability distribution of the 2-gram\n",
    " * Add it to the text\n",
    " * Change the 2-gram to be the last 2 words of the text\n",
    " * if these words are `(None, None)` we have drawn the end of the sentence\n",
    " * else we repeat"
   ]
  },
  {
   "cell_type": "code",
   "execution_count": 16,
   "metadata": {
    "id": "QB2QxuYAmaBT"
   },
   "outputs": [
    {
     "name": "stdout",
     "output_type": "stream",
     "text": [
      "\u001b[1mGenerated Text\u001b[0m - \u001b[1m\u001b[34m7 words\u001b[0m - \u001b[1m\u001b[32mPr[Text]=2.7E-07\u001b[0m\n",
      "********************************************************************************\n",
      "phillips last changed its fiscal year .\n",
      "********************************************************************************\n"
     ]
    }
   ],
   "source": [
    "import random\n",
    "import numpy as np\n",
    "\n",
    "from termcolor import colored\n",
    "from textwrap import fill\n",
    "\n",
    "text = [None, None]\n",
    "prob = 1.0  # <- Init probability\n",
    " \n",
    "sentence_finished = False\n",
    " \n",
    "while not sentence_finished:\n",
    "    words_before = tuple(text[-2:])\n",
    "    word = np.random.choice(list(model[words_before].keys()), p=list(model[words_before].values()))\n",
    "\n",
    "    prob *= model[words_before][word]  # <- Update the probability with the conditional probability of the new word\n",
    "    text.append(word)\n",
    " \n",
    "    sentence_finished = text[-2:] == [None, None]\n",
    " \n",
    "words = list(filter(lambda x: x is not None, text))\n",
    "generated_text = ' '.join(words)\n",
    "text_len = len(words)\n",
    "\n",
    "print(f\"{colored('Generated Text', attrs=['bold'])} - {colored('{:d} words'.format(text_len), color='blue', attrs=['bold'])} - {colored('Pr[Text]={:.1E}'.format(prob), color='green', attrs=['bold'])}\")\n",
    "print('*' * 80)\n",
    "print(fill(generated_text, width=80))\n",
    "print('*' * 80)\n",
    "\n",
    " "
   ]
  },
  {
   "cell_type": "markdown",
   "metadata": {
    "id": "Fh7vWdXp7XDY"
   },
   "source": [
    "# Classification"
   ]
  },
  {
   "cell_type": "markdown",
   "metadata": {
    "id": "7XjoWMqY7YuE"
   },
   "source": [
    "Given 2 N-Gram Language Model:\n",
    "* Probabilities coming from observing 2 classes of documents\n",
    "* We can use them for a classification task\n",
    "* Just by observing under which model a given text has the highest probability\n",
    "* This is Naïve Bayes\n",
    "\n",
    "See also this [Link](https://web.stanford.edu/~jurafsky/slp3/4.pdf) to the Jurafsky book (also mentioned in the class additional resources)\n",
    "\n",
    "* Train a 3-Gram LM on Brown Corpus (books)\n",
    "* Use the 2 LM to predict \"Reuters or Brown\" on any text"
   ]
  },
  {
   "cell_type": "code",
   "execution_count": 17,
   "metadata": {
    "id": "u6dQjR9c92ZS"
   },
   "outputs": [
    {
     "name": "stderr",
     "output_type": "stream",
     "text": [
      "[nltk_data] Downloading package brown to\n",
      "[nltk_data]     C:\\Users\\user\\AppData\\Roaming\\nltk_data...\n",
      "[nltk_data]   Package brown is already up-to-date!\n",
      "[nltk_data] Downloading package reuters to\n",
      "[nltk_data]     C:\\Users\\user\\AppData\\Roaming\\nltk_data...\n",
      "[nltk_data]   Package reuters is already up-to-date!\n"
     ]
    },
    {
     "data": {
      "text/plain": [
       "True"
      ]
     },
     "execution_count": 17,
     "metadata": {},
     "output_type": "execute_result"
    }
   ],
   "source": [
    "import pandas as pd\n",
    "\n",
    "from nltk.corpus import brown, reuters\n",
    "\n",
    "nltk.download('brown')\n",
    "nltk.download('reuters')"
   ]
  },
  {
   "cell_type": "code",
   "execution_count": 18,
   "metadata": {
    "id": "0KKkG8amMgmm"
   },
   "outputs": [],
   "source": [
    "import random\n",
    "from tqdm.notebook import tqdm\n",
    "\n",
    "class TriGramLM:\n",
    "    \"\"\"\n",
    "    Helper class to create and manipulate a 3-Gram LM \n",
    "    \"\"\"\n",
    "    def __init__(self, label: str):\n",
    "        self.label = label\n",
    "\n",
    "    def fit(self, corpus):\n",
    "        \"\"\"\n",
    "        Assuming corpus is list of list of strings ([['I', 'love', 'tea'], ['NYC', 'rules']])\n",
    "        \"\"\"\n",
    "        self.documents = corpus\n",
    "        \n",
    "        model = defaultdict(lambda: defaultdict(lambda: 1e-6))\n",
    " \n",
    "        for tokens in tqdm(self.documents, desc='Create Dictionary'):\n",
    "            for w1, w2, w3 in trigrams(tokens, pad_right=True, pad_left=True):\n",
    "                model[(w1.lower() if w1 is not None else None, w2.lower() if w2 is not None else None)][w3.lower() if w3 is not None else None] += 1\n",
    "\n",
    "        # Let's transform the counts to probabilities\n",
    "        for w1_w2 in tqdm(model, desc='Update Probabilities'):\n",
    "            total_count = float(sum(model[w1_w2].values()))\n",
    "            for w3 in model[w1_w2]:\n",
    "                model[w1_w2][w3] /= total_count\n",
    "\n",
    "        self.model = model\n",
    "\n",
    "        return self\n",
    "\n",
    "    def corpus_sample(self):\n",
    "        sample = random.choice(self.documents)\n",
    "\n",
    "        print(f'{colored(self.label, attrs=[\"bold\"])}')\n",
    "        print('*' * 80)\n",
    "        print(f'{colored(\"Original Data:\", color=\"blue\", attrs=[\"bold\"])}\\n{sample[:5]} (...)\\n(...) {sample[-5:]}')\n",
    "        print('*' * 80)\n",
    "        print(f'{colored(\"Full Text:\", color=\"blue\", attrs=[\"bold\"])}')\n",
    "        print(fill(' '.join(sample), width=80))\n",
    "        print(flush=True)\n",
    "\n",
    "    def compute_proba(self, padded_ngrams):\n",
    "        prob = 1.0\n",
    "        for p in padded_ngrams:\n",
    "            prob *= self.model[p[:-1]][p[-1]]\n",
    "        \n",
    "        return prob\n",
    "\n",
    "\n",
    "\n"
   ]
  },
  {
   "cell_type": "code",
   "execution_count": 19,
   "metadata": {
    "id": "ZEaoDpdtRXlJ"
   },
   "outputs": [],
   "source": [
    "class NaiveClassifier:\n",
    "    \"\"\"\n",
    "    Based on 2 3-Gram models.\n",
    "    \"\"\"\n",
    "    def __init__(self, models):\n",
    "        self.models = models\n",
    "\n",
    "    def predict(self, x):\n",
    "        predictions = []\n",
    "        for sample in tqdm(x):\n",
    "            probs = np.array([m.compute_proba(trigrams(sample, pad_right=True, pad_left=True)) for m in self.models])\n",
    "            prediction = self.models[np.argmax(probs)].label\n",
    "            predictions.append(prediction)\n",
    "        return predictions\n",
    "\n"
   ]
  },
  {
   "cell_type": "code",
   "execution_count": 20,
   "metadata": {
    "id": "_XA847QSPbWu"
   },
   "outputs": [
    {
     "data": {
      "application/vnd.jupyter.widget-view+json": {
       "model_id": "c4a220ec6ad747fc89cd2066a5b0fa1a",
       "version_major": 2,
       "version_minor": 0
      },
      "text/plain": [
       "HBox(children=(HTML(value=''), FloatProgress(value=0.0, max=57340.0), HTML(value='')))"
      ]
     },
     "metadata": {},
     "output_type": "display_data"
    },
    {
     "name": "stdout",
     "output_type": "stream",
     "text": [
      "\n"
     ]
    },
    {
     "data": {
      "application/vnd.jupyter.widget-view+json": {
       "model_id": "b2b00436008b494ebc2de01f0dafd066",
       "version_major": 2,
       "version_minor": 0
      },
      "text/plain": [
       "HBox(children=(HTML(value=''), FloatProgress(value=0.0, max=54716.0), HTML(value='')))"
      ]
     },
     "metadata": {},
     "output_type": "display_data"
    },
    {
     "name": "stdout",
     "output_type": "stream",
     "text": [
      "\n"
     ]
    }
   ],
   "source": [
    "brown_all = pd.DataFrame(tqdm([{'tokens': t, 'label': 'BROWN'} for t in brown.sents()]))\n",
    "reuters_all = pd.DataFrame(tqdm([{'tokens': t, 'label': 'REUTERS'} for t in reuters.sents()]))"
   ]
  },
  {
   "cell_type": "code",
   "execution_count": 21,
   "metadata": {
    "id": "LjxJmMyRP88O"
   },
   "outputs": [],
   "source": [
    "from sklearn.model_selection import train_test_split\n",
    "\n",
    "brown_train, brown_test = train_test_split(brown_all, test_size=0.1)\n",
    "reuters_train, reuters_test = train_test_split(reuters_all, test_size=0.1)\n",
    "\n",
    "test = pd.concat([brown_test, reuters_test])\n",
    "X_test = test['tokens']\n",
    "y_test = test['label']"
   ]
  },
  {
   "cell_type": "code",
   "execution_count": 22,
   "metadata": {
    "id": "p2NPcnJpOzTV"
   },
   "outputs": [
    {
     "data": {
      "application/vnd.jupyter.widget-view+json": {
       "model_id": "468ee95071d249b7b32a08cc40ac578b",
       "version_major": 2,
       "version_minor": 0
      },
      "text/plain": [
       "HBox(children=(HTML(value='Create Dictionary'), FloatProgress(value=0.0, max=51606.0), HTML(value='')))"
      ]
     },
     "metadata": {},
     "output_type": "display_data"
    },
    {
     "name": "stdout",
     "output_type": "stream",
     "text": [
      "\n"
     ]
    },
    {
     "data": {
      "application/vnd.jupyter.widget-view+json": {
       "model_id": "f81cd8ac8415469e8707b46f305c24df",
       "version_major": 2,
       "version_minor": 0
      },
      "text/plain": [
       "HBox(children=(HTML(value='Update Probabilities'), FloatProgress(value=0.0, max=401595.0), HTML(value='')))"
      ]
     },
     "metadata": {},
     "output_type": "display_data"
    },
    {
     "name": "stdout",
     "output_type": "stream",
     "text": [
      "\n",
      "\u001b[1mBROWN\u001b[0m\n",
      "********************************************************************************\n",
      "\u001b[1m\u001b[34mOriginal Data:\u001b[0m\n",
      "['In', 'this', 'process', 'the', 'Minoan-Mycenaean'] (...)\n",
      "(...) ['or', 'finally', 'rejected', ';', ';']\n",
      "********************************************************************************\n",
      "\u001b[1m\u001b[34mFull Text:\u001b[0m\n",
      "In this process the Minoan-Mycenaean inheritance had been transmuted or finally\n",
      "rejected ; ;\n",
      "\n"
     ]
    }
   ],
   "source": [
    "brown_model = TriGramLM('BROWN')\n",
    "brown_model.fit(brown_train['tokens'])\n",
    "brown_model.corpus_sample()"
   ]
  },
  {
   "cell_type": "code",
   "execution_count": 23,
   "metadata": {
    "id": "yvDeoqrHSStB"
   },
   "outputs": [
    {
     "data": {
      "application/vnd.jupyter.widget-view+json": {
       "model_id": "795aacafcde04ab08fda89bbccf4060e",
       "version_major": 2,
       "version_minor": 0
      },
      "text/plain": [
       "HBox(children=(HTML(value='Create Dictionary'), FloatProgress(value=0.0, max=49244.0), HTML(value='')))"
      ]
     },
     "metadata": {},
     "output_type": "display_data"
    },
    {
     "name": "stdout",
     "output_type": "stream",
     "text": [
      "\n"
     ]
    },
    {
     "data": {
      "application/vnd.jupyter.widget-view+json": {
       "model_id": "1350233d53104416a1f0ffc0182da02c",
       "version_major": 2,
       "version_minor": 0
      },
      "text/plain": [
       "HBox(children=(HTML(value='Update Probabilities'), FloatProgress(value=0.0, max=342319.0), HTML(value='')))"
      ]
     },
     "metadata": {},
     "output_type": "display_data"
    },
    {
     "name": "stdout",
     "output_type": "stream",
     "text": [
      "\n"
     ]
    },
    {
     "ename": "KeyError",
     "evalue": "34817",
     "output_type": "error",
     "traceback": [
      "\u001b[1;31m---------------------------------------------------------------------------\u001b[0m",
      "\u001b[1;31mKeyError\u001b[0m                                  Traceback (most recent call last)",
      "\u001b[1;32m~\\anaconda3\\lib\\site-packages\\pandas\\core\\indexes\\base.py\u001b[0m in \u001b[0;36mget_loc\u001b[1;34m(self, key, method, tolerance)\u001b[0m\n\u001b[0;32m   2894\u001b[0m             \u001b[1;32mtry\u001b[0m\u001b[1;33m:\u001b[0m\u001b[1;33m\u001b[0m\u001b[1;33m\u001b[0m\u001b[0m\n\u001b[1;32m-> 2895\u001b[1;33m                 \u001b[1;32mreturn\u001b[0m \u001b[0mself\u001b[0m\u001b[1;33m.\u001b[0m\u001b[0m_engine\u001b[0m\u001b[1;33m.\u001b[0m\u001b[0mget_loc\u001b[0m\u001b[1;33m(\u001b[0m\u001b[0mcasted_key\u001b[0m\u001b[1;33m)\u001b[0m\u001b[1;33m\u001b[0m\u001b[1;33m\u001b[0m\u001b[0m\n\u001b[0m\u001b[0;32m   2896\u001b[0m             \u001b[1;32mexcept\u001b[0m \u001b[0mKeyError\u001b[0m \u001b[1;32mas\u001b[0m \u001b[0merr\u001b[0m\u001b[1;33m:\u001b[0m\u001b[1;33m\u001b[0m\u001b[1;33m\u001b[0m\u001b[0m\n",
      "\u001b[1;32mpandas\\_libs\\index.pyx\u001b[0m in \u001b[0;36mpandas._libs.index.IndexEngine.get_loc\u001b[1;34m()\u001b[0m\n",
      "\u001b[1;32mpandas\\_libs\\index.pyx\u001b[0m in \u001b[0;36mpandas._libs.index.IndexEngine.get_loc\u001b[1;34m()\u001b[0m\n",
      "\u001b[1;32mpandas\\_libs\\hashtable_class_helper.pxi\u001b[0m in \u001b[0;36mpandas._libs.hashtable.Int64HashTable.get_item\u001b[1;34m()\u001b[0m\n",
      "\u001b[1;32mpandas\\_libs\\hashtable_class_helper.pxi\u001b[0m in \u001b[0;36mpandas._libs.hashtable.Int64HashTable.get_item\u001b[1;34m()\u001b[0m\n",
      "\u001b[1;31mKeyError\u001b[0m: 34817",
      "\nThe above exception was the direct cause of the following exception:\n",
      "\u001b[1;31mKeyError\u001b[0m                                  Traceback (most recent call last)",
      "\u001b[1;32m<ipython-input-23-47bcb59281ef>\u001b[0m in \u001b[0;36m<module>\u001b[1;34m\u001b[0m\n\u001b[0;32m      1\u001b[0m \u001b[0mreuters_model\u001b[0m \u001b[1;33m=\u001b[0m \u001b[0mTriGramLM\u001b[0m\u001b[1;33m(\u001b[0m\u001b[1;34m'REUTERS'\u001b[0m\u001b[1;33m)\u001b[0m\u001b[1;33m\u001b[0m\u001b[1;33m\u001b[0m\u001b[0m\n\u001b[0;32m      2\u001b[0m \u001b[0mreuters_model\u001b[0m\u001b[1;33m.\u001b[0m\u001b[0mfit\u001b[0m\u001b[1;33m(\u001b[0m\u001b[0mreuters_train\u001b[0m\u001b[1;33m[\u001b[0m\u001b[1;34m'tokens'\u001b[0m\u001b[1;33m]\u001b[0m\u001b[1;33m)\u001b[0m\u001b[1;33m\u001b[0m\u001b[1;33m\u001b[0m\u001b[0m\n\u001b[1;32m----> 3\u001b[1;33m \u001b[0mreuters_model\u001b[0m\u001b[1;33m.\u001b[0m\u001b[0mcorpus_sample\u001b[0m\u001b[1;33m(\u001b[0m\u001b[1;33m)\u001b[0m\u001b[1;33m\u001b[0m\u001b[1;33m\u001b[0m\u001b[0m\n\u001b[0m",
      "\u001b[1;32m<ipython-input-18-79fa5b038322>\u001b[0m in \u001b[0;36mcorpus_sample\u001b[1;34m(self)\u001b[0m\n\u001b[0;32m     32\u001b[0m \u001b[1;33m\u001b[0m\u001b[0m\n\u001b[0;32m     33\u001b[0m     \u001b[1;32mdef\u001b[0m \u001b[0mcorpus_sample\u001b[0m\u001b[1;33m(\u001b[0m\u001b[0mself\u001b[0m\u001b[1;33m)\u001b[0m\u001b[1;33m:\u001b[0m\u001b[1;33m\u001b[0m\u001b[1;33m\u001b[0m\u001b[0m\n\u001b[1;32m---> 34\u001b[1;33m         \u001b[0msample\u001b[0m \u001b[1;33m=\u001b[0m \u001b[0mrandom\u001b[0m\u001b[1;33m.\u001b[0m\u001b[0mchoice\u001b[0m\u001b[1;33m(\u001b[0m\u001b[0mself\u001b[0m\u001b[1;33m.\u001b[0m\u001b[0mdocuments\u001b[0m\u001b[1;33m)\u001b[0m\u001b[1;33m\u001b[0m\u001b[1;33m\u001b[0m\u001b[0m\n\u001b[0m\u001b[0;32m     35\u001b[0m \u001b[1;33m\u001b[0m\u001b[0m\n\u001b[0;32m     36\u001b[0m         \u001b[0mprint\u001b[0m\u001b[1;33m(\u001b[0m\u001b[1;34mf'{colored(self.label, attrs=[\"bold\"])}'\u001b[0m\u001b[1;33m)\u001b[0m\u001b[1;33m\u001b[0m\u001b[1;33m\u001b[0m\u001b[0m\n",
      "\u001b[1;32m~\\anaconda3\\lib\\random.py\u001b[0m in \u001b[0;36mchoice\u001b[1;34m(self, seq)\u001b[0m\n\u001b[0;32m    289\u001b[0m         \u001b[1;32mexcept\u001b[0m \u001b[0mValueError\u001b[0m\u001b[1;33m:\u001b[0m\u001b[1;33m\u001b[0m\u001b[1;33m\u001b[0m\u001b[0m\n\u001b[0;32m    290\u001b[0m             \u001b[1;32mraise\u001b[0m \u001b[0mIndexError\u001b[0m\u001b[1;33m(\u001b[0m\u001b[1;34m'Cannot choose from an empty sequence'\u001b[0m\u001b[1;33m)\u001b[0m \u001b[1;32mfrom\u001b[0m \u001b[1;32mNone\u001b[0m\u001b[1;33m\u001b[0m\u001b[1;33m\u001b[0m\u001b[0m\n\u001b[1;32m--> 291\u001b[1;33m         \u001b[1;32mreturn\u001b[0m \u001b[0mseq\u001b[0m\u001b[1;33m[\u001b[0m\u001b[0mi\u001b[0m\u001b[1;33m]\u001b[0m\u001b[1;33m\u001b[0m\u001b[1;33m\u001b[0m\u001b[0m\n\u001b[0m\u001b[0;32m    292\u001b[0m \u001b[1;33m\u001b[0m\u001b[0m\n\u001b[0;32m    293\u001b[0m     \u001b[1;32mdef\u001b[0m \u001b[0mshuffle\u001b[0m\u001b[1;33m(\u001b[0m\u001b[0mself\u001b[0m\u001b[1;33m,\u001b[0m \u001b[0mx\u001b[0m\u001b[1;33m,\u001b[0m \u001b[0mrandom\u001b[0m\u001b[1;33m=\u001b[0m\u001b[1;32mNone\u001b[0m\u001b[1;33m)\u001b[0m\u001b[1;33m:\u001b[0m\u001b[1;33m\u001b[0m\u001b[1;33m\u001b[0m\u001b[0m\n",
      "\u001b[1;32m~\\anaconda3\\lib\\site-packages\\pandas\\core\\series.py\u001b[0m in \u001b[0;36m__getitem__\u001b[1;34m(self, key)\u001b[0m\n\u001b[0;32m    880\u001b[0m \u001b[1;33m\u001b[0m\u001b[0m\n\u001b[0;32m    881\u001b[0m         \u001b[1;32melif\u001b[0m \u001b[0mkey_is_scalar\u001b[0m\u001b[1;33m:\u001b[0m\u001b[1;33m\u001b[0m\u001b[1;33m\u001b[0m\u001b[0m\n\u001b[1;32m--> 882\u001b[1;33m             \u001b[1;32mreturn\u001b[0m \u001b[0mself\u001b[0m\u001b[1;33m.\u001b[0m\u001b[0m_get_value\u001b[0m\u001b[1;33m(\u001b[0m\u001b[0mkey\u001b[0m\u001b[1;33m)\u001b[0m\u001b[1;33m\u001b[0m\u001b[1;33m\u001b[0m\u001b[0m\n\u001b[0m\u001b[0;32m    883\u001b[0m \u001b[1;33m\u001b[0m\u001b[0m\n\u001b[0;32m    884\u001b[0m         \u001b[1;32mif\u001b[0m \u001b[0mis_hashable\u001b[0m\u001b[1;33m(\u001b[0m\u001b[0mkey\u001b[0m\u001b[1;33m)\u001b[0m\u001b[1;33m:\u001b[0m\u001b[1;33m\u001b[0m\u001b[1;33m\u001b[0m\u001b[0m\n",
      "\u001b[1;32m~\\anaconda3\\lib\\site-packages\\pandas\\core\\series.py\u001b[0m in \u001b[0;36m_get_value\u001b[1;34m(self, label, takeable)\u001b[0m\n\u001b[0;32m    987\u001b[0m \u001b[1;33m\u001b[0m\u001b[0m\n\u001b[0;32m    988\u001b[0m         \u001b[1;31m# Similar to Index.get_value, but we do not fall back to positional\u001b[0m\u001b[1;33m\u001b[0m\u001b[1;33m\u001b[0m\u001b[1;33m\u001b[0m\u001b[0m\n\u001b[1;32m--> 989\u001b[1;33m         \u001b[0mloc\u001b[0m \u001b[1;33m=\u001b[0m \u001b[0mself\u001b[0m\u001b[1;33m.\u001b[0m\u001b[0mindex\u001b[0m\u001b[1;33m.\u001b[0m\u001b[0mget_loc\u001b[0m\u001b[1;33m(\u001b[0m\u001b[0mlabel\u001b[0m\u001b[1;33m)\u001b[0m\u001b[1;33m\u001b[0m\u001b[1;33m\u001b[0m\u001b[0m\n\u001b[0m\u001b[0;32m    990\u001b[0m         \u001b[1;32mreturn\u001b[0m \u001b[0mself\u001b[0m\u001b[1;33m.\u001b[0m\u001b[0mindex\u001b[0m\u001b[1;33m.\u001b[0m\u001b[0m_get_values_for_loc\u001b[0m\u001b[1;33m(\u001b[0m\u001b[0mself\u001b[0m\u001b[1;33m,\u001b[0m \u001b[0mloc\u001b[0m\u001b[1;33m,\u001b[0m \u001b[0mlabel\u001b[0m\u001b[1;33m)\u001b[0m\u001b[1;33m\u001b[0m\u001b[1;33m\u001b[0m\u001b[0m\n\u001b[0;32m    991\u001b[0m \u001b[1;33m\u001b[0m\u001b[0m\n",
      "\u001b[1;32m~\\anaconda3\\lib\\site-packages\\pandas\\core\\indexes\\base.py\u001b[0m in \u001b[0;36mget_loc\u001b[1;34m(self, key, method, tolerance)\u001b[0m\n\u001b[0;32m   2895\u001b[0m                 \u001b[1;32mreturn\u001b[0m \u001b[0mself\u001b[0m\u001b[1;33m.\u001b[0m\u001b[0m_engine\u001b[0m\u001b[1;33m.\u001b[0m\u001b[0mget_loc\u001b[0m\u001b[1;33m(\u001b[0m\u001b[0mcasted_key\u001b[0m\u001b[1;33m)\u001b[0m\u001b[1;33m\u001b[0m\u001b[1;33m\u001b[0m\u001b[0m\n\u001b[0;32m   2896\u001b[0m             \u001b[1;32mexcept\u001b[0m \u001b[0mKeyError\u001b[0m \u001b[1;32mas\u001b[0m \u001b[0merr\u001b[0m\u001b[1;33m:\u001b[0m\u001b[1;33m\u001b[0m\u001b[1;33m\u001b[0m\u001b[0m\n\u001b[1;32m-> 2897\u001b[1;33m                 \u001b[1;32mraise\u001b[0m \u001b[0mKeyError\u001b[0m\u001b[1;33m(\u001b[0m\u001b[0mkey\u001b[0m\u001b[1;33m)\u001b[0m \u001b[1;32mfrom\u001b[0m \u001b[0merr\u001b[0m\u001b[1;33m\u001b[0m\u001b[1;33m\u001b[0m\u001b[0m\n\u001b[0m\u001b[0;32m   2898\u001b[0m \u001b[1;33m\u001b[0m\u001b[0m\n\u001b[0;32m   2899\u001b[0m         \u001b[1;32mif\u001b[0m \u001b[0mtolerance\u001b[0m \u001b[1;32mis\u001b[0m \u001b[1;32mnot\u001b[0m \u001b[1;32mNone\u001b[0m\u001b[1;33m:\u001b[0m\u001b[1;33m\u001b[0m\u001b[1;33m\u001b[0m\u001b[0m\n",
      "\u001b[1;31mKeyError\u001b[0m: 34817"
     ]
    }
   ],
   "source": [
    "reuters_model = TriGramLM('REUTERS')\n",
    "reuters_model.fit(reuters_train['tokens'])\n",
    "reuters_model.corpus_sample()"
   ]
  },
  {
   "cell_type": "code",
   "execution_count": 24,
   "metadata": {
    "id": "RpCpeSA4ScV-"
   },
   "outputs": [],
   "source": [
    "clf = NaiveClassifier([brown_model, reuters_model])"
   ]
  },
  {
   "cell_type": "code",
   "execution_count": 25,
   "metadata": {
    "id": "wJee0st4ShrH"
   },
   "outputs": [
    {
     "data": {
      "application/vnd.jupyter.widget-view+json": {
       "model_id": "96e21d0d5e024538a37c6fc723cd4c2a",
       "version_major": 2,
       "version_minor": 0
      },
      "text/plain": [
       "HBox(children=(HTML(value=''), FloatProgress(value=0.0, max=11206.0), HTML(value='')))"
      ]
     },
     "metadata": {},
     "output_type": "display_data"
    },
    {
     "name": "stdout",
     "output_type": "stream",
     "text": [
      "\n"
     ]
    }
   ],
   "source": [
    "y_pred = clf.predict(X_test)"
   ]
  },
  {
   "cell_type": "code",
   "execution_count": 26,
   "metadata": {
    "id": "V__KT72aS7eC"
   },
   "outputs": [
    {
     "name": "stdout",
     "output_type": "stream",
     "text": [
      "              precision    recall  f1-score   support\n",
      "\n",
      "       BROWN       0.92      0.93      0.92      5734\n",
      "     REUTERS       0.92      0.91      0.92      5472\n",
      "\n",
      "    accuracy                           0.92     11206\n",
      "   macro avg       0.92      0.92      0.92     11206\n",
      "weighted avg       0.92      0.92      0.92     11206\n",
      "\n"
     ]
    }
   ],
   "source": [
    "from sklearn.metrics import classification_report\n",
    "\n",
    "print(classification_report(y_true=y_test, y_pred=y_pred))"
   ]
  },
  {
   "cell_type": "code",
   "execution_count": null,
   "metadata": {
    "id": "ZP1x0wocT9So"
   },
   "outputs": [],
   "source": []
  }
 ],
 "metadata": {
  "colab": {
   "collapsed_sections": [],
   "name": "N-Gram LM",
   "provenance": [],
   "toc_visible": true
  },
  "kernelspec": {
   "display_name": "Python 3",
   "language": "python",
   "name": "python3"
  },
  "language_info": {
   "codemirror_mode": {
    "name": "ipython",
    "version": 3
   },
   "file_extension": ".py",
   "mimetype": "text/x-python",
   "name": "python",
   "nbconvert_exporter": "python",
   "pygments_lexer": "ipython3",
   "version": "3.8.5"
  }
 },
 "nbformat": 4,
 "nbformat_minor": 1
}
