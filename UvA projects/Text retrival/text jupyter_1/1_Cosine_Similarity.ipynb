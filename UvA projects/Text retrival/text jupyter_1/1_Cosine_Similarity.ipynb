{
 "cells": [
  {
   "cell_type": "markdown",
   "metadata": {
    "id": "kWx7CBhu-a1A"
   },
   "source": [
    "# Cosine Similarity"
   ]
  },
  {
   "cell_type": "markdown",
   "metadata": {
    "id": "j0ley1oY-eMr"
   },
   "source": [
    "We will make extensive use of the cosine similarity, this notebook is a presentation of this central metric.\n",
    "\n",
    "Cosine similarity is a measure of the similarity of 2 numerical vectors.\n",
    "\n",
    "In this notebook:\n",
    "* What is cosine similarity?\n",
    "* Where does it come from?\n",
    "* How is it computed?\n",
    "* What is the link with the dot product?\n",
    "* How can we evaluate whether a change will increase or decrease similarity?"
   ]
  },
  {
   "cell_type": "markdown",
   "metadata": {
    "id": "DnbtiXbU-yvu"
   },
   "source": [
    "## Vectors"
   ]
  },
  {
   "cell_type": "markdown",
   "metadata": {
    "id": "8UDkrzUf-7Sh"
   },
   "source": [
    "We focus on **vectors of real numbers of finite dimensionality**\n",
    "* A **vector** $\\textrm{v}$ has $N$ **coefficients**\n",
    "* Each coefficient is a **real number**\n",
    "* $N$ is the **number of dimensions**\n",
    "* We write $\\textrm{v} = (v_1, v_2, v_3, ..., v_{N}) \\in \\mathbb{R}^N$"
   ]
  },
  {
   "cell_type": "markdown",
   "metadata": {
    "id": "jX4TscA0-pvH"
   },
   "source": [
    "We can easily represent 2-D vectors as arrows anchored at the origin point and pointing towards the coordinates.\n",
    "\n"
   ]
  },
  {
   "cell_type": "code",
   "execution_count": null,
   "metadata": {
    "colab": {
     "base_uri": "https://localhost:8080/",
     "height": 541
    },
    "id": "QHoD_O3w-q_4",
    "outputId": "8a834b08-63a3-48fe-f3eb-ff1efb483408"
   },
   "outputs": [
    {
     "data": {
      "image/png": "[encoded data removed]",
      "text/plain": [
       "<Figure size 648x648 with 1 Axes>"
      ]
     },
     "metadata": {
      "needs_background": "light",
      "tags": []
     },
     "output_type": "display_data"
    }
   ],
   "source": [
    "import numpy as np\n",
    "import matplotlib\n",
    "import matplotlib.pyplot as plt\n",
    "\n",
    "A = [1, 4]\n",
    "B = [4, 3]\n",
    "C = [2, 1]\n",
    "\n",
    "colors = ['r', 'g', 'b']\n",
    "\n",
    "V = np.array([A, B, C])\n",
    "origin = np.array([[0, 0, 0],[0, 0, 0]]) # origin point\n",
    "\n",
    "plt.figure(figsize=(9, 9))\n",
    "plt.quiver(*origin, V[:,0], V[:,1], color=colors, angles='xy', scale_units='xy', scale=1)\n",
    "for letter, x, y, color in zip('ABC', V[:, 0], V[:, 1], colors):\n",
    "    plt.text(x / 2., y / 2., letter, fontdict={'size': 20, 'color': color, 'weight': 'bold'}, verticalalignment='top')\n",
    "\n",
    "plt.xlim(0, 5)\n",
    "plt.ylim(0, 5)\n",
    "plt.grid()\n",
    "plt.show()"
   ]
  },
  {
   "cell_type": "markdown",
   "metadata": {
    "id": "OPbLuPFPH0TZ"
   },
   "source": [
    "## Vector Similarities"
   ]
  },
  {
   "cell_type": "markdown",
   "metadata": {
    "id": "gV-OhVniH2vy"
   },
   "source": [
    "**Problem Statement**\n",
    "\n",
    "Which of vectors A and C is the most similar to vector B ?\n",
    "\n",
    "To answer this, we need a framework to measure similarity.\n",
    "\n",
    "**Angle as a measure of similarity**\n",
    "\n",
    "We use the angle between 2 vectors to evaluate how similar they are. Their angle is indicative of the fact that they point towards a similar direction, and is independent of their relative length.\n",
    "* We favor the direction that vectors point towards\n",
    "* Angle is a measure of difference between 2 directions\n",
    "* We can use the Cosine of this angle:\n",
    "   * `0.0` indicates it is a 90-degree angle: most dissimilar\n",
    "   * `1.0` indicates it is a flat angle: most similar"
   ]
  },
  {
   "cell_type": "markdown",
   "metadata": {
    "id": "mA-v7oNsKKLJ"
   },
   "source": [
    "## Sklearn"
   ]
  },
  {
   "cell_type": "markdown",
   "metadata": {
    "id": "oYXweu9QKM3O"
   },
   "source": [
    "The function `cosine_similarity` works as follows:\n",
    "* Takes in 1 or 2 lists of vectors $N$ in the first list, $M$ in the second\n",
    "* $A$ is the first list, $B$ the second (if only 1 list, then both are $A$)\n",
    "* Outputs a $N \\times M$ matrix\n",
    "* $\\textrm{Sim}_{i,j} = cos(A_i, B_j)$\n",
    "* If only one matrix is given, then:\n",
    "   * $\\textrm{Sim}$ is square\n",
    "   * $\\textrm{Sim}$ is symetric\n",
    "   * The diagonal is made of `1`\n"
   ]
  },
  {
   "cell_type": "code",
   "execution_count": null,
   "metadata": {
    "id": "VkQ6Qcc4-Yjx"
   },
   "outputs": [],
   "source": [
    "from sklearn.metrics.pairwise import cosine_similarity\n",
    "\n",
    "sims = cosine_similarity([A, B, C])"
   ]
  },
  {
   "cell_type": "code",
   "execution_count": null,
   "metadata": {
    "id": "H64cV3apNj_s"
   },
   "outputs": [],
   "source": [
    "# from https://matplotlib.org/3.1.1/gallery/images_contours_and_fields/image_annotated_heatmap.html\n",
    "\n",
    "from mpl_toolkits.axes_grid1 import make_axes_locatable\n",
    "\n",
    "\n",
    "def heatmap(data, row_labels, col_labels, ax=None,\n",
    "            cbar_kw={}, cbarlabel=\"\", **kwargs):\n",
    "    \"\"\"\n",
    "    Create a heatmap from a numpy array and two lists of labels.\n",
    "\n",
    "    Parameters\n",
    "    ----------\n",
    "    data\n",
    "        A 2D numpy array of shape (N, M).\n",
    "    row_labels\n",
    "        A list or array of length N with the labels for the rows.\n",
    "    col_labels\n",
    "        A list or array of length M with the labels for the columns.\n",
    "    ax\n",
    "        A `matplotlib.axes.Axes` instance to which the heatmap is plotted.  If\n",
    "        not provided, use current axes or create a new one.  Optional.\n",
    "    cbar_kw\n",
    "        A dictionary with arguments to `matplotlib.Figure.colorbar`.  Optional.\n",
    "    cbarlabel\n",
    "        The label for the colorbar.  Optional.\n",
    "    **kwargs\n",
    "        All other arguments are forwarded to `imshow`.\n",
    "    \"\"\"\n",
    "\n",
    "    if not ax:\n",
    "        ax = plt.gca()\n",
    "\n",
    "    # Plot the heatmap\n",
    "    im = ax.imshow(data, **kwargs)\n",
    "\n",
    "    # Create colorbar\n",
    "\n",
    "    # We want to show all ticks...\n",
    "    ax.set_xticks(np.arange(data.shape[1]))\n",
    "    ax.set_yticks(np.arange(data.shape[0]))\n",
    "    # ... and label them with the respective list entries.\n",
    "    ax.set_xticklabels(col_labels, fontdict={'size': 20, 'weight': 'bold'})\n",
    "    ax.set_yticklabels(row_labels, fontdict={'size': 20, 'weight': 'bold'})\n",
    "\n",
    "    # Let the horizontal axes labeling appear on top.\n",
    "    ax.tick_params(top=True, bottom=False,\n",
    "                   labeltop=True, labelbottom=False)\n",
    "\n",
    "    ax.set_xticks(np.arange(data.shape[1]+1)-.5, minor=True)\n",
    "    ax.set_yticks(np.arange(data.shape[0]+1)-.5, minor=True)\n",
    "    ax.grid(which=\"minor\", linestyle='-', linewidth=1)\n",
    "    ax.tick_params(which=\"minor\", bottom=False, left=False)\n",
    "\n",
    "    return im\n",
    "\n",
    "\n",
    "def annotate_heatmap(im, data=None, valfmt=\"{x:.2f}\",\n",
    "                     textcolors=[\"black\", \"white\"],\n",
    "                     threshold=None, **textkw):\n",
    "    \"\"\"\n",
    "    A function to annotate a heatmap.\n",
    "\n",
    "    Parameters\n",
    "    ----------\n",
    "    im\n",
    "        The AxesImage to be labeled.\n",
    "    data\n",
    "        Data used to annotate.  If None, the image's data is used.  Optional.\n",
    "    valfmt\n",
    "        The format of the annotations inside the heatmap.  This should either\n",
    "        use the string format method, e.g. \"$ {x:.2f}\", or be a\n",
    "        `matplotlib.ticker.Formatter`.  Optional.\n",
    "    textcolors\n",
    "        A list or array of two color specifications.  The first is used for\n",
    "        values below a threshold, the second for those above.  Optional.\n",
    "    threshold\n",
    "        Value in data units according to which the colors from textcolors are\n",
    "        applied.  If None (the default) uses the middle of the colormap as\n",
    "        separation.  Optional.\n",
    "    **kwargs\n",
    "        All other arguments are forwarded to each call to `text` used to create\n",
    "        the text labels.\n",
    "    \"\"\"\n",
    "\n",
    "    if not isinstance(data, (list, np.ndarray)):\n",
    "        data = im.get_array()\n",
    "\n",
    "    # Normalize the threshold to the images color range.\n",
    "    if threshold is not None:\n",
    "        threshold = im.norm(threshold)\n",
    "    else:\n",
    "        threshold = im.norm(data.max())/2.\n",
    "\n",
    "    # Set default alignment to center, but allow it to be\n",
    "    # overwritten by textkw.\n",
    "    kw = dict(horizontalalignment=\"center\",\n",
    "              verticalalignment=\"center\")\n",
    "    kw.update(textkw)\n",
    "\n",
    "    # Get the formatter in case a string is supplied\n",
    "    if isinstance(valfmt, str):\n",
    "        valfmt = matplotlib.ticker.StrMethodFormatter(valfmt)\n",
    "\n",
    "    # Loop over the data and create a `Text` for each \"pixel\".\n",
    "    # Change the text's color depending on the data.\n",
    "    texts = []\n",
    "    for i in range(data.shape[0]):\n",
    "        for j in range(data.shape[1]):\n",
    "            kw.update(color=textcolors[int(im.norm(data[i, j]) > threshold)])\n",
    "            text = im.axes.text(j, i, valfmt(data[i, j], None), **kw)\n",
    "            texts.append(text)\n",
    "\n",
    "    return texts"
   ]
  },
  {
   "cell_type": "code",
   "execution_count": null,
   "metadata": {
    "colab": {
     "base_uri": "https://localhost:8080/",
     "height": 603
    },
    "id": "Ff3LrSIFKBqS",
    "outputId": "ad7eada2-85ba-41a7-cca1-503e6506c73f"
   },
   "outputs": [
    {
     "data": {
      "image/png": "[encoded data removed]",
      "text/plain": [
       "<Figure size 648x648 with 2 Axes>"
      ]
     },
     "metadata": {
      "needs_background": "light",
      "tags": []
     },
     "output_type": "display_data"
    }
   ],
   "source": [
    "fig, ax = plt.subplots(figsize=(9, 9))\n",
    "\n",
    "im = heatmap(sims, list('ABC'), list('ABC'), ax=ax,\n",
    "                   cmap=\"Blues\", cbarlabel=\"Cosine Similarity\", vmin=0.0, vmax=1.0)\n",
    "texts = annotate_heatmap(im, valfmt=\"{x:.2f}\")\n",
    "\n",
    "divider = make_axes_locatable(ax)\n",
    "cax = divider.append_axes(\"right\", size=\"5%\", pad=0.2)\n",
    "fig.colorbar(im, cax=cax)\n",
    "\n",
    "fig.tight_layout()\n",
    "plt.show()\n"
   ]
  },
  {
   "cell_type": "markdown",
   "metadata": {
    "id": "cL4Syx_3Xn3S"
   },
   "source": [
    "Under this definition of similarity, the vector $C$ is the most similar to $B$."
   ]
  },
  {
   "cell_type": "markdown",
   "metadata": {
    "id": "YPYBpjT0QQDd"
   },
   "source": [
    "# Mathematical Definition"
   ]
  },
  {
   "cell_type": "markdown",
   "metadata": {
    "id": "3UH3_oqdQSnw"
   },
   "source": [
    "Given 2 vectors of dimension $N$: $\\textrm{u, v}$ \n",
    "\n",
    "\n",
    "---\n",
    "\n",
    "\n",
    "\n",
    "**Dot Product**\n",
    "\n",
    "$\n",
    "\\begin{align}\n",
    "\\textrm{u} \\cdot \\textrm{v} = \\sum_{i=1}^{N} \\left( \\textrm{u}_i * \\textrm{v}_i \\right)\n",
    "\\end{align}\n",
    "$\n",
    "\n",
    "\n",
    "\n",
    "---\n",
    "\n",
    "**Norm**\n",
    "\n",
    "$\n",
    "\\begin{align}\n",
    "\\left\\Vert \\textrm{u} \\right\\Vert = \\sqrt{\\textrm{u} \\cdot \\textrm{u}} = \\sqrt{\\sum_{i=1}^N \\textrm{u}_i^2}\n",
    "\\end{align}\n",
    "$\n",
    "\n",
    "\n",
    "\n",
    "---\n",
    "\n",
    "**Cosine Similarity**\n",
    "\n",
    "$\n",
    "\\begin{align}\n",
    "cos \\left( \\textrm{u}, \\textrm{v} \\right) = \\frac{\\textrm{u} \\cdot \\textrm{v}}{\\left\\Vert \\textrm{u} \\right\\Vert * \\left\\Vert \\textrm{v} \\right\\Vert}\n",
    "\\end{align}\n",
    "$\n",
    "\n"
   ]
  },
  {
   "cell_type": "markdown",
   "metadata": {
    "id": "AUnoWLWWTQr3"
   },
   "source": [
    "# The story with the non-zeros in different dimensions"
   ]
  },
  {
   "cell_type": "markdown",
   "metadata": {
    "id": "6HlB7rejTYev"
   },
   "source": [
    "We will refer to this during the class, especially in link with Bag of Words techniques of text representations.\n",
    "\n",
    "Say we have 2 vectors:\n",
    "* $\\textrm{u} = (0, 2, 4, 1)\\; \\left\\Vert \\textrm{u} \\right\\Vert = 4.58 $\n",
    "* $\\textrm{v} = (2, 0, 4, 2)\\; \\left\\Vert \\textrm{v} \\right\\Vert = 4.90 $\n",
    "* $\\textrm{u} \\cdot \\textrm{v} = 18$\n",
    "* $cos(\\textrm{u}, \\textrm{v}) = 0.80$\n",
    "\n",
    "When these vectors are Bag of Words, each dimension is a word that we count in a text:\n",
    "* Dimension 1 is the count of `cat`\n",
    "* Dimension 2 is the count of `cats`\n",
    "\n",
    "Now if one text uses `cat` and the other `cats`, these dimensions will not contribute to the dot product, as $0*x=0$.\n"
   ]
  },
  {
   "cell_type": "code",
   "execution_count": null,
   "metadata": {
    "colab": {
     "base_uri": "https://localhost:8080/"
    },
    "id": "1jsgjcHrLbd5",
    "outputId": "0b57f4af-8671-4fe4-fdb1-8223ae083bb4"
   },
   "outputs": [
    {
     "name": "stdout",
     "output_type": "stream",
     "text": [
      "||u|| = 4.58\n",
      "||v|| = 4.90\n",
      "u . v = 18\n",
      "cos (u, v): 0.80\n"
     ]
    }
   ],
   "source": [
    "u = [0, 2, 4, 1]\n",
    "v = [2, 0, 4, 2]\n",
    "\n",
    "print(f'||u|| = {np.sqrt(sum(map(np.square, u))):>4.2f}')\n",
    "print(f'||v|| = {np.sqrt(sum(map(np.square, v))):>4.2f}')\n",
    "print(f'u . v = {np.dot(u, v)}')\n",
    "print(f'cos (u, v): {cosine_similarity([u], [v])[0][0]:>3.2f}')"
   ]
  },
  {
   "cell_type": "markdown",
   "metadata": {
    "id": "s1cJWlwfV7lC"
   },
   "source": [
    "We used stemming to count `cat` and `cats` under the same dimension:\n",
    "* $\\textrm{u} = (2, 4, 1)\\; \\left\\Vert \\textrm{u} \\right\\Vert = 4.58 $\n",
    "* $\\textrm{v} = (2, 4, 2)\\; \\left\\Vert \\textrm{v} \\right\\Vert = 4.90 $\n",
    "* $\\textrm{u} \\cdot \\textrm{v} = 22$\n",
    "* $cos(\\textrm{u}, \\textrm{v}) = 0.98$\n",
    "\n",
    "The norms of the vectors did not change, but the cosine similarity changed a lot, from $0.80$ to $0.98$, because the dot-product increased.\n"
   ]
  },
  {
   "cell_type": "code",
   "execution_count": null,
   "metadata": {
    "colab": {
     "base_uri": "https://localhost:8080/"
    },
    "id": "EnjyTfH3UGJp",
    "outputId": "bd83c548-0937-425e-a75a-5cc0d990c1f3"
   },
   "outputs": [
    {
     "name": "stdout",
     "output_type": "stream",
     "text": [
      "||u|| = 4.58\n",
      "||v|| = 4.90\n",
      "u . v = 22\n",
      "cos (u, v): 0.98\n"
     ]
    }
   ],
   "source": [
    "u = [2, 4, 1]\n",
    "v = [2, 4, 2]\n",
    "\n",
    "print(f'||u|| = {np.sqrt(sum(map(np.square, u))):>4.2f}')\n",
    "print(f'||v|| = {np.sqrt(sum(map(np.square, v))):>4.2f}')\n",
    "print(f'u . v = {np.dot(u, v)}')\n",
    "print(f'cos (u, v): {cosine_similarity([u], [v])[0][0]:>3.2f}')"
   ]
  },
  {
   "cell_type": "markdown",
   "metadata": {
    "id": "X3nUzyKYWTou"
   },
   "source": [
    "# Take-Away"
   ]
  },
  {
   "cell_type": "markdown",
   "metadata": {
    "id": "j_wC6ixMWWZd"
   },
   "source": [
    "As much as possible, we should align dimensions:\n",
    "* Similar things should be counted under the same dimension, to increase the dot-product, and therefore the cosine similarity, by aligning the non-zero values\n",
    "* Disimilar things should be counted on different dimensions, to favor the alignment of zero-values"
   ]
  },
  {
   "cell_type": "code",
   "execution_count": null,
   "metadata": {
    "id": "57nwGjpsVWVO"
   },
   "outputs": [],
   "source": []
  }
 ],
 "metadata": {
  "colab": {
   "collapsed_sections": [],
   "name": "Cosine Similarity",
   "provenance": []
  },
  "kernelspec": {
   "display_name": "Python 3",
   "language": "python",
   "name": "python3"
  },
  "language_info": {
   "codemirror_mode": {
    "name": "ipython",
    "version": 3
   },
   "file_extension": ".py",
   "mimetype": "text/x-python",
   "name": "python",
   "nbconvert_exporter": "python",
   "pygments_lexer": "ipython3",
   "version": "3.8.5"
  }
 },
 "nbformat": 4,
 "nbformat_minor": 1
}
