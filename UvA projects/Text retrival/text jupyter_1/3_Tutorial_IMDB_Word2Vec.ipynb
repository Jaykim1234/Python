{
  "nbformat": 4,
  "nbformat_minor": 0,
  "metadata": {
    "colab": {
      "name": "03 Tutorial IMDB - Word2Vec",
      "provenance": [],
      "collapsed_sections": []
    },
    "kernelspec": {
      "name": "python3",
      "display_name": "Python 3"
    },
    "widgets": {
      "application/vnd.jupyter.widget-state+json": {
        "9b7b946ba60f489887f09634c68497ec": {
          "model_module": "@jupyter-widgets/controls",
          "model_name": "HBoxModel",
          "state": {
            "_view_name": "HBoxView",
            "_dom_classes": [],
            "_model_name": "HBoxModel",
            "_view_module": "@jupyter-widgets/controls",
            "_model_module_version": "1.5.0",
            "_view_count": null,
            "_view_module_version": "1.5.0",
            "box_style": "",
            "layout": "IPY_MODEL_eb9719a292c949f8a499d249abd6a6ca",
            "_model_module": "@jupyter-widgets/controls",
            "children": [
              "IPY_MODEL_42c78073f168458c861f5ee05fce803d",
              "IPY_MODEL_d8d6f7fd913f4efab1d938c8d50dcebb"
            ]
          }
        },
        "eb9719a292c949f8a499d249abd6a6ca": {
          "model_module": "@jupyter-widgets/base",
          "model_name": "LayoutModel",
          "state": {
            "_view_name": "LayoutView",
            "grid_template_rows": null,
            "right": null,
            "justify_content": null,
            "_view_module": "@jupyter-widgets/base",
            "overflow": null,
            "_model_module_version": "1.2.0",
            "_view_count": null,
            "flex_flow": null,
            "width": null,
            "min_width": null,
            "border": null,
            "align_items": null,
            "bottom": null,
            "_model_module": "@jupyter-widgets/base",
            "top": null,
            "grid_column": null,
            "overflow_y": null,
            "overflow_x": null,
            "grid_auto_flow": null,
            "grid_area": null,
            "grid_template_columns": null,
            "flex": null,
            "_model_name": "LayoutModel",
            "justify_items": null,
            "grid_row": null,
            "max_height": null,
            "align_content": null,
            "visibility": null,
            "align_self": null,
            "height": null,
            "min_height": null,
            "padding": null,
            "grid_auto_rows": null,
            "grid_gap": null,
            "max_width": null,
            "order": null,
            "_view_module_version": "1.2.0",
            "grid_template_areas": null,
            "object_position": null,
            "object_fit": null,
            "grid_auto_columns": null,
            "margin": null,
            "display": null,
            "left": null
          }
        },
        "42c78073f168458c861f5ee05fce803d": {
          "model_module": "@jupyter-widgets/controls",
          "model_name": "FloatProgressModel",
          "state": {
            "_view_name": "ProgressView",
            "style": "IPY_MODEL_ee60bd20d47e45edbe6d8eac75e6c777",
            "_dom_classes": [],
            "description": "100%",
            "_model_name": "FloatProgressModel",
            "bar_style": "success",
            "max": 100019,
            "_view_module": "@jupyter-widgets/controls",
            "_model_module_version": "1.5.0",
            "value": 100019,
            "_view_count": null,
            "_view_module_version": "1.5.0",
            "orientation": "horizontal",
            "min": 0,
            "description_tooltip": null,
            "_model_module": "@jupyter-widgets/controls",
            "layout": "IPY_MODEL_b5a32ba5e7174ada952b52dcadcadb12"
          }
        },
        "d8d6f7fd913f4efab1d938c8d50dcebb": {
          "model_module": "@jupyter-widgets/controls",
          "model_name": "HTMLModel",
          "state": {
            "_view_name": "HTMLView",
            "style": "IPY_MODEL_018c306c0b9f47bd997c07f76d5cc588",
            "_dom_classes": [],
            "description": "",
            "_model_name": "HTMLModel",
            "placeholder": "​",
            "_view_module": "@jupyter-widgets/controls",
            "_model_module_version": "1.5.0",
            "value": " 100019/100019 [00:03&lt;00:00, 31580.75it/s]",
            "_view_count": null,
            "_view_module_version": "1.5.0",
            "description_tooltip": null,
            "_model_module": "@jupyter-widgets/controls",
            "layout": "IPY_MODEL_d13150ac9a6b488e8781ac877a90c442"
          }
        },
        "ee60bd20d47e45edbe6d8eac75e6c777": {
          "model_module": "@jupyter-widgets/controls",
          "model_name": "ProgressStyleModel",
          "state": {
            "_view_name": "StyleView",
            "_model_name": "ProgressStyleModel",
            "description_width": "initial",
            "_view_module": "@jupyter-widgets/base",
            "_model_module_version": "1.5.0",
            "_view_count": null,
            "_view_module_version": "1.2.0",
            "bar_color": null,
            "_model_module": "@jupyter-widgets/controls"
          }
        },
        "b5a32ba5e7174ada952b52dcadcadb12": {
          "model_module": "@jupyter-widgets/base",
          "model_name": "LayoutModel",
          "state": {
            "_view_name": "LayoutView",
            "grid_template_rows": null,
            "right": null,
            "justify_content": null,
            "_view_module": "@jupyter-widgets/base",
            "overflow": null,
            "_model_module_version": "1.2.0",
            "_view_count": null,
            "flex_flow": null,
            "width": null,
            "min_width": null,
            "border": null,
            "align_items": null,
            "bottom": null,
            "_model_module": "@jupyter-widgets/base",
            "top": null,
            "grid_column": null,
            "overflow_y": null,
            "overflow_x": null,
            "grid_auto_flow": null,
            "grid_area": null,
            "grid_template_columns": null,
            "flex": null,
            "_model_name": "LayoutModel",
            "justify_items": null,
            "grid_row": null,
            "max_height": null,
            "align_content": null,
            "visibility": null,
            "align_self": null,
            "height": null,
            "min_height": null,
            "padding": null,
            "grid_auto_rows": null,
            "grid_gap": null,
            "max_width": null,
            "order": null,
            "_view_module_version": "1.2.0",
            "grid_template_areas": null,
            "object_position": null,
            "object_fit": null,
            "grid_auto_columns": null,
            "margin": null,
            "display": null,
            "left": null
          }
        },
        "018c306c0b9f47bd997c07f76d5cc588": {
          "model_module": "@jupyter-widgets/controls",
          "model_name": "DescriptionStyleModel",
          "state": {
            "_view_name": "StyleView",
            "_model_name": "DescriptionStyleModel",
            "description_width": "",
            "_view_module": "@jupyter-widgets/base",
            "_model_module_version": "1.5.0",
            "_view_count": null,
            "_view_module_version": "1.2.0",
            "_model_module": "@jupyter-widgets/controls"
          }
        },
        "d13150ac9a6b488e8781ac877a90c442": {
          "model_module": "@jupyter-widgets/base",
          "model_name": "LayoutModel",
          "state": {
            "_view_name": "LayoutView",
            "grid_template_rows": null,
            "right": null,
            "justify_content": null,
            "_view_module": "@jupyter-widgets/base",
            "overflow": null,
            "_model_module_version": "1.2.0",
            "_view_count": null,
            "flex_flow": null,
            "width": null,
            "min_width": null,
            "border": null,
            "align_items": null,
            "bottom": null,
            "_model_module": "@jupyter-widgets/base",
            "top": null,
            "grid_column": null,
            "overflow_y": null,
            "overflow_x": null,
            "grid_auto_flow": null,
            "grid_area": null,
            "grid_template_columns": null,
            "flex": null,
            "_model_name": "LayoutModel",
            "justify_items": null,
            "grid_row": null,
            "max_height": null,
            "align_content": null,
            "visibility": null,
            "align_self": null,
            "height": null,
            "min_height": null,
            "padding": null,
            "grid_auto_rows": null,
            "grid_gap": null,
            "max_width": null,
            "order": null,
            "_view_module_version": "1.2.0",
            "grid_template_areas": null,
            "object_position": null,
            "object_fit": null,
            "grid_auto_columns": null,
            "margin": null,
            "display": null,
            "left": null
          }
        }
      }
    }
  },
  "cells": [
    {
      "cell_type": "markdown",
      "metadata": {
        "id": "ViSWXrxj0fA-"
      },
      "source": [
        "# Sentiment Analysis with Word2Vec"
      ]
    },
    {
      "cell_type": "markdown",
      "metadata": {
        "id": "sH5SkYKk0mF9"
      },
      "source": [
        "We are going to work with the [IMDB dataset](https://ai.stanford.edu/~amaas/data/sentiment/).\n",
        "\n",
        "Maas et al, (2011). \"Learning Word Vectors for Sentiment Analysis\"\n",
        "\n",
        "This is a collection of user generated movie reviews, each review being labelled as POSITIVE or NEGATIVE."
      ]
    },
    {
      "cell_type": "markdown",
      "metadata": {
        "id": "YYxGYv4f0_8U"
      },
      "source": [
        "# Download and Prepare Data"
      ]
    },
    {
      "cell_type": "code",
      "metadata": {
        "id": "ZN-JfwWrvj_D"
      },
      "source": [
        "import requests\n",
        "\n",
        "r = requests.get('https://ai.stanford.edu/~amaas/data/sentiment/aclImdb_v1.tar.gz')\n",
        "\n",
        "assert r.status_code == 200\n",
        "\n",
        "with open('imdb.tar.gz', 'wb') as out:\n",
        "    out.write(r.content)"
      ],
      "execution_count": null,
      "outputs": []
    },
    {
      "cell_type": "code",
      "metadata": {
        "id": "lstqce5pwCma",
        "colab": {
          "base_uri": "https://localhost:8080/",
          "height": 66,
          "referenced_widgets": [
            "9b7b946ba60f489887f09634c68497ec",
            "eb9719a292c949f8a499d249abd6a6ca",
            "42c78073f168458c861f5ee05fce803d",
            "d8d6f7fd913f4efab1d938c8d50dcebb",
            "ee60bd20d47e45edbe6d8eac75e6c777",
            "b5a32ba5e7174ada952b52dcadcadb12",
            "018c306c0b9f47bd997c07f76d5cc588",
            "d13150ac9a6b488e8781ac877a90c442"
          ]
        },
        "outputId": "f4d11ebe-de24-4650-e95f-417804e0d2ff"
      },
      "source": [
        "import tarfile\n",
        "import re\n",
        "\n",
        "from tqdm.notebook import tqdm\n",
        "\n",
        "data = []\n",
        "filename = re.compile(r'aclImdb/(?P<split>train|test)/(?P<label>neg|pos)/(?P<id>[0-9_]+)\\.txt$')\n",
        "\n",
        "with tarfile.open('imdb.tar.gz', 'r:gz') as tgz:\n",
        "    for f in tqdm(tgz.getmembers()):\n",
        "        m = filename.match(f.name)\n",
        "        if f.isfile() and m is not None:\n",
        "            data.append({\n",
        "                'id': m['id'],\n",
        "                'split': m['split'],\n",
        "                'text': tgz.extractfile(f).read().decode('utf-8'),\n",
        "                'label': m['label']\n",
        "            })"
      ],
      "execution_count": null,
      "outputs": [
        {
          "output_type": "display_data",
          "data": {
            "application/vnd.jupyter.widget-view+json": {
              "model_id": "9b7b946ba60f489887f09634c68497ec",
              "version_minor": 0,
              "version_major": 2
            },
            "text/plain": [
              "HBox(children=(FloatProgress(value=0.0, max=100019.0), HTML(value='')))"
            ]
          },
          "metadata": {
            "tags": []
          }
        },
        {
          "output_type": "stream",
          "text": [
            "\n"
          ],
          "name": "stdout"
        }
      ]
    },
    {
      "cell_type": "code",
      "metadata": {
        "id": "9Jb_-eaMz8fD",
        "colab": {
          "base_uri": "https://localhost:8080/",
          "height": 204
        },
        "outputId": "11addfa3-4142-4d00-839a-e15d982f43fe"
      },
      "source": [
        "import pandas as pd\n",
        "\n",
        "df = pd.DataFrame(data)\n",
        "df.head()"
      ],
      "execution_count": null,
      "outputs": [
        {
          "output_type": "execute_result",
          "data": {
            "text/html": [
              "<div>\n",
              "<style scoped>\n",
              "    .dataframe tbody tr th:only-of-type {\n",
              "        vertical-align: middle;\n",
              "    }\n",
              "\n",
              "    .dataframe tbody tr th {\n",
              "        vertical-align: top;\n",
              "    }\n",
              "\n",
              "    .dataframe thead th {\n",
              "        text-align: right;\n",
              "    }\n",
              "</style>\n",
              "<table border=\"1\" class=\"dataframe\">\n",
              "  <thead>\n",
              "    <tr style=\"text-align: right;\">\n",
              "      <th></th>\n",
              "      <th>id</th>\n",
              "      <th>split</th>\n",
              "      <th>text</th>\n",
              "      <th>label</th>\n",
              "    </tr>\n",
              "  </thead>\n",
              "  <tbody>\n",
              "    <tr>\n",
              "      <th>0</th>\n",
              "      <td>127_3</td>\n",
              "      <td>test</td>\n",
              "      <td>I love sci-fi and am willing to put up with a ...</td>\n",
              "      <td>neg</td>\n",
              "    </tr>\n",
              "    <tr>\n",
              "      <th>1</th>\n",
              "      <td>126_4</td>\n",
              "      <td>test</td>\n",
              "      <td>Worth the entertainment value of a rental, esp...</td>\n",
              "      <td>neg</td>\n",
              "    </tr>\n",
              "    <tr>\n",
              "      <th>2</th>\n",
              "      <td>125_3</td>\n",
              "      <td>test</td>\n",
              "      <td>its a totally average film with a few semi-alr...</td>\n",
              "      <td>neg</td>\n",
              "    </tr>\n",
              "    <tr>\n",
              "      <th>3</th>\n",
              "      <td>124_2</td>\n",
              "      <td>test</td>\n",
              "      <td>STAR RATING: ***** Saturday Night **** Friday ...</td>\n",
              "      <td>neg</td>\n",
              "    </tr>\n",
              "    <tr>\n",
              "      <th>4</th>\n",
              "      <td>123_4</td>\n",
              "      <td>test</td>\n",
              "      <td>First off let me say, If you haven't enjoyed a...</td>\n",
              "      <td>neg</td>\n",
              "    </tr>\n",
              "  </tbody>\n",
              "</table>\n",
              "</div>"
            ],
            "text/plain": [
              "      id split                                               text label\n",
              "0  127_3  test  I love sci-fi and am willing to put up with a ...   neg\n",
              "1  126_4  test  Worth the entertainment value of a rental, esp...   neg\n",
              "2  125_3  test  its a totally average film with a few semi-alr...   neg\n",
              "3  124_2  test  STAR RATING: ***** Saturday Night **** Friday ...   neg\n",
              "4  123_4  test  First off let me say, If you haven't enjoyed a...   neg"
            ]
          },
          "metadata": {
            "tags": []
          },
          "execution_count": 3
        }
      ]
    },
    {
      "cell_type": "code",
      "metadata": {
        "id": "qFJ26rPX0ITa"
      },
      "source": [
        "train = df[df['split'] == 'train']\n",
        "X_train = train['text']\n",
        "y_train = train['label']\n",
        "\n",
        "test = df[df['split'] == 'test']\n",
        "X_test = test['text']\n",
        "y_test = test['label']"
      ],
      "execution_count": null,
      "outputs": []
    },
    {
      "cell_type": "markdown",
      "metadata": {
        "id": "WZmbsikW1C_o"
      },
      "source": [
        "# Word2Vec"
      ]
    },
    {
      "cell_type": "markdown",
      "metadata": {
        "id": "comHK1da1FDa"
      },
      "source": [
        "We will use the Word2Vec pre-trained vectors provided by Google.\n",
        "\n",
        "For the document embedding, we will use the TFIDF weighted sum of word embeddings.\n",
        "\n",
        "$\\overrightarrow{doc} = \\sum_{t \\in doc}\\textrm{tfidf}(t, doc)*\\overrightarrow{t}$\n",
        "\n",
        "Here are the steps:\n",
        "* Fit a TFIDF vectorizer to the TRAIN data\n",
        "* Transform the TRAIN and TEST data into BoW\n",
        "* Get the vectors from a pretrained word2vec models\n",
        "* Create the document embeddings\n",
        "* Train a classifier"
      ]
    },
    {
      "cell_type": "code",
      "metadata": {
        "id": "iD2R4n1TTIO4"
      },
      "source": [
        "DIMS = 300"
      ],
      "execution_count": null,
      "outputs": []
    },
    {
      "cell_type": "code",
      "metadata": {
        "id": "wb3IEEzXQtve",
        "colab": {
          "base_uri": "https://localhost:8080/"
        },
        "outputId": "304a01cb-992f-4cd2-df5e-078a600ce9db"
      },
      "source": [
        "import gensim.downloader as api\n",
        "model = api.load('word2vec-google-news-300')"
      ],
      "execution_count": null,
      "outputs": [
        {
          "output_type": "stream",
          "text": [
            "[=================================================-] 99.8% 1659.8/1662.8MB downloaded\n"
          ],
          "name": "stdout"
        }
      ]
    },
    {
      "cell_type": "markdown",
      "metadata": {
        "id": "Vt_kwH0jVpAm"
      },
      "source": [
        "## TODO - TFIDF Vectorizer"
      ]
    },
    {
      "cell_type": "code",
      "metadata": {
        "id": "C7pqk6zWQxZr"
      },
      "source": [
        "from sklearn.feature_extraction.text import TfidfVectorizer\n",
        "\n",
        "\n",
        "tfidf = TfidfVectorizer(\n",
        "    # TODO\n",
        ")\n",
        "\n",
        "tfidf.fit(X_train)"
      ],
      "execution_count": null,
      "outputs": []
    },
    {
      "cell_type": "markdown",
      "metadata": {
        "id": "LWMxc6lGWhB2"
      },
      "source": [
        "## The Word-Word2Vec matrix"
      ]
    },
    {
      "cell_type": "markdown",
      "metadata": {
        "id": "E8qaO4sLWl0f"
      },
      "source": [
        "This matrix:\n",
        "* 1 row = 1 word of the vectorizer vocabulary\n",
        "* 1 row = the word2vec of this word"
      ]
    },
    {
      "cell_type": "code",
      "metadata": {
        "id": "cqueMrp8SkIK"
      },
      "source": [
        "import numpy as np\n",
        "\n",
        "vocab = tfidf.get_feature_names()\n",
        "word_vecs = np.zeros((len(vocab), DIMS))\n",
        "\n",
        "for i, w in enumerate(vocab):\n",
        "    try:\n",
        "        word_vecs[i, :] = model[w]\n",
        "    except KeyError:\n",
        "        pass"
      ],
      "execution_count": null,
      "outputs": []
    },
    {
      "cell_type": "markdown",
      "metadata": {
        "id": "DnaMergNWv1I"
      },
      "source": [
        "## TODO - Transform TRAIN and TEST into bow"
      ]
    },
    {
      "cell_type": "code",
      "metadata": {
        "id": "2-cNHbMwTSr_"
      },
      "source": [
        "X_train_bow = # TODO\n",
        "X_test_bow = # TODO"
      ],
      "execution_count": null,
      "outputs": []
    },
    {
      "cell_type": "markdown",
      "metadata": {
        "id": "5G-jSfJkW33O"
      },
      "source": [
        "## Transform into Doc Embeddings"
      ]
    },
    {
      "cell_type": "markdown",
      "metadata": {
        "id": "zlewcmcWXPrI"
      },
      "source": [
        "It turns out it is a simple matrix multiplication."
      ]
    },
    {
      "cell_type": "code",
      "metadata": {
        "id": "FaFoW5mbXGXm"
      },
      "source": [
        "X_train_vecs = X_train_bow.dot(word_vecs)  # Document embeddings\n",
        "X_test_vecs = X_test_bow.dot(word_vecs)    # Document embeddings"
      ],
      "execution_count": null,
      "outputs": []
    },
    {
      "cell_type": "markdown",
      "metadata": {
        "id": "p5Prw2JWXS3I"
      },
      "source": [
        "## TODO - Classification"
      ]
    },
    {
      "cell_type": "markdown",
      "metadata": {
        "id": "BaSWcGvEXXGx"
      },
      "source": [
        "* Create a LogisticRegression model\n",
        "* Fit it to the Document embeddings"
      ]
    },
    {
      "cell_type": "code",
      "metadata": {
        "id": "QDPMLtsYTscr"
      },
      "source": [
        "from sklearn.linear_model import LogisticRegression\n",
        "\n",
        "clf = LogisticRegression(max_iter=1e4)\n",
        "clf.fit(# TODO)"
      ],
      "execution_count": null,
      "outputs": []
    },
    {
      "cell_type": "code",
      "metadata": {
        "id": "66W9wYzCUqTZ"
      },
      "source": [
        "from sklearn.metrics import classification_report\n",
        "\n",
        "print(classification_report(y_true=y_test, y_pred=clf.predict(X_test_vecs)))"
      ],
      "execution_count": null,
      "outputs": []
    },
    {
      "cell_type": "code",
      "metadata": {
        "id": "9ioigdVbU3QU"
      },
      "source": [
        ""
      ],
      "execution_count": null,
      "outputs": []
    }
  ]
}