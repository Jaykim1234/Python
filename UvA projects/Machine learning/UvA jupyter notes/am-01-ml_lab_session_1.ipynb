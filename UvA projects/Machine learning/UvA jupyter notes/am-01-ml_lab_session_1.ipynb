{
 "cells": [
  {
   "cell_type": "markdown",
   "metadata": {},
   "source": [
    "#### Original Author: Rens Dimmendaal (TA on the course in 2017/2018)"
   ]
  },
  {
   "cell_type": "markdown",
   "metadata": {
    "nbgrader": {
     "grade": false,
     "grade_id": "jupyter",
     "locked": true,
     "schema_version": 1,
     "solution": false
    }
   },
   "source": [
    "For this problem set, we'll be using the Jupyter notebook:\n",
    "\n",
    "![](jupyter.png)"
   ]
  },
  {
   "cell_type": "markdown",
   "metadata": {},
   "source": [
    "# Week 1: Tutorial on Matplotlib and Pandas\n",
    "\n",
    "Welcome! In this week's tutorial you will learn to create visualizations with *matplotlib* and work with data tables with *pandas*.\n",
    "\n",
    "\n",
    "**Note: We assume you are able to open and work with these type Jupyter notebooks, if that's not the case please reach out to us.**"
   ]
  },
  {
   "cell_type": "markdown",
   "metadata": {},
   "source": [
    "## Useful resources\n",
    "\n",
    "Let's start off with some useful resources, keep them ready during this tutorial:\n",
    "\n",
    "* Cheatsheets (courtesy of datacamp.com):\n",
    "    * [Matplotlib](https://s3.amazonaws.com/assets.datacamp.com/blog_assets/Python_Matplotlib_Cheat_Sheet.pdf)\n",
    "    * [Pandas](https://s3.amazonaws.com/assets.datacamp.com/blog_assets/PandasPythonForDataScience.pdf)\n",
    "    * [Basic python](https://s3.amazonaws.com/assets.datacamp.com/blog_assets/PythonForDataScience.pdf)\n",
    "* Official tutorials (these websites also contain tbhe full documentation):\n",
    "    * [Matplotlib](https://matplotlib.org/users/pyplot_tutorial.html)\n",
    "    * [Pandas](http://pandas.pydata.org/pandas-docs/stable/10min.html#min)\n",
    "\n",
    "Extra: [Matplotlib gallery with sample code](https://matplotlib.org/gallery.html)\n",
    "    \n",
    "    \n",
    "**The idea of today's assignments is that you become self-sufficient in finding solutions to your problems, these documents and google are your new friends :-)**\n"
   ]
  },
  {
   "cell_type": "markdown",
   "metadata": {},
   "source": [
    "## Assumptions\n",
    "\n",
    "We assume you're running python 3 and have the ability to install packages with pip or conda where needed.\n",
    "\n",
    "Packages you will use today:\n",
    "\n",
    "* Matplotlib (for making plots)\n",
    "* Pandas (for working with tables)\n",
    "* Jupyter (for the interactive notebook)\n",
    "\n",
    "You can load the matplotlib and pandas capabilities into your jupyter notebook as follows:"
   ]
  },
  {
   "cell_type": "code",
   "execution_count": null,
   "metadata": {},
   "outputs": [],
   "source": [
    "import matplotlib.pyplot as plt\n",
    "import pandas as pd\n",
    "import numpy as np # a math library for some tests don't worry about it"
   ]
  },
  {
   "cell_type": "markdown",
   "metadata": {},
   "source": [
    "You can setup jupyter to immideately show plots within your notebook as follows:"
   ]
  },
  {
   "cell_type": "code",
   "execution_count": null,
   "metadata": {},
   "outputs": [],
   "source": [
    "%matplotlib inline\n",
    "# % matplotlib notebook # Or alternatively a notebook version"
   ]
  },
  {
   "cell_type": "markdown",
   "metadata": {},
   "source": [
    "Check if everything works by running the code below.\n",
    "You should see a plot with three red crosses"
   ]
  },
  {
   "cell_type": "code",
   "execution_count": null,
   "metadata": {},
   "outputs": [],
   "source": [
    "\"\"\"\n",
    "TEST CODE -- CHECK MANUALLY\n",
    "\"\"\"\n",
    "tf = pd.DataFrame({'x':[1,2,3],'y':[10,20,10]})\n",
    "plt.scatter(tf['x'],tf['y'],color='red',marker='+',s=300)\n",
    "plt.show()"
   ]
  },
  {
   "cell_type": "markdown",
   "metadata": {},
   "source": [
    "## Part (A) Matplotlib on Datacamp.com\n",
    "\n",
    "At the lectures on Tuesday you have heard about the basics of matplotlib. We warmly recommend you to complete all exercises from the notebook used for the lecture. \n",
    "\n",
    "Matplotlib is also a part of the “Intermediate Python for Data Science” and “Introduction to Data Visualization with Python” modules on DataCamp. If you would like more practice with matplotlib, those would be a good starting point.\n",
    "\n",
    "* [Matplotlib 1](https://www.datacamp.com/courses/intermediate-python-for-data-science)\n",
    "* [Matplotlib 2](https://www.datacamp.com/courses/introduction-to-data-visualization-with-python)"
   ]
  },
  {
   "cell_type": "markdown",
   "metadata": {},
   "source": [
    "## Part (B) Pandas\n",
    "\n",
    "Now we will learn to work with pandas, a package to work wiht tables in python.\n",
    "We will provide less 'hand holding' than Datacamp, so be sure to keep the cheat sheets ready!\n",
    "\n",
    "### Load data\n",
    "\n",
    "\n",
    "Let's start with loading some data from the CBS - Statistics Netherlands, which you can download from Canvas."
   ]
  },
  {
   "cell_type": "code",
   "execution_count": null,
   "metadata": {
    "nbgrader": {
     "grade": false,
     "grade_id": "load_csv",
     "locked": false,
     "schema_version": 1,
     "solution": true
    }
   },
   "outputs": [],
   "source": [
    "\"\"\"\n",
    "ASSIGNMENT: Load the csv file as a pandas DataFrame named df.\n",
    "HINT: Make sure you use the correct separator!\n",
    "\"\"\"\n",
    "df = None\n",
    "### BEGIN SOLUTION\n",
    "df = pd.read_csv('cbs_data.csv')\n",
    "### END SOLUTION"
   ]
  },
  {
   "cell_type": "code",
   "execution_count": null,
   "metadata": {
    "nbgrader": {
     "grade": true,
     "grade_id": "check_load_csv",
     "locked": true,
     "points": 1,
     "schema_version": 1,
     "solution": false
    }
   },
   "outputs": [],
   "source": [
    "\"\"\"\n",
    "CHECK\n",
    "\"\"\"\n",
    "assert df.columns.tolist() == ['province',\n",
    "                                 'year',\n",
    "                                 'total_population',\n",
    "                                 'nr_women',\n",
    "                                 'nr_younger_than_5',\n",
    "                                 'nr_between_5_and_10',\n",
    "                                 'nr_between_10_and_15',\n",
    "                                 'nr_between_15_and_20',\n",
    "                                 'nr_between_20_and_25',\n",
    "                                 'nr_between_25_and_45',\n",
    "                                 'nr_between_45_and_65',\n",
    "                                 'nr_between_65_and_80',\n",
    "                                 'nr_above_80',\n",
    "                                 'nr_in_urban_region',\n",
    "                                 'nr_buildings',\n",
    "                                 'nr_buildings_per_km2',\n",
    "                                 'nr_personal_vehicles',\n",
    "                                 'km_total_road',\n",
    "                                 'km_city_road',\n",
    "                                 'km_provincial_road',\n",
    "                                 'km_national_road']\n",
    "\n",
    "assert len(df) == 180"
   ]
  },
  {
   "cell_type": "markdown",
   "metadata": {},
   "source": [
    "### Inspecting data\n",
    "\n",
    "You can inspect the data by calling some summary functions.\n",
    "\n",
    "Try the following:\n",
    "    \n",
    "```\n",
    "k=5\n",
    "df.head(k)\n",
    "df.tail(k)\n",
    "df.describe()\n",
    "```\n",
    "\n",
    "Describe what each function does:"
   ]
  },
  {
   "cell_type": "code",
   "execution_count": null,
   "metadata": {},
   "outputs": [],
   "source": [
    "\"\"\"\n",
    "ASSIGNMENT: \n",
    "    1. Try out the functions mentioned above in this cell.\n",
    "    2. Describe what they do in the cell below\n",
    "\"\"\"\n",
    "\n",
    "### YOUR CODE HERE (just for trial and error)"
   ]
  },
  {
   "cell_type": "markdown",
   "metadata": {},
   "source": [
    "It's often useful to have some lists directly available. \n",
    "Extract them now and store them in separate variables.\n",
    "Create separate lists for:\n",
    "1. All provinces (unique)\n",
    "2. All years (unique)\n",
    "3. All variables (all columns, but not provinces and years)"
   ]
  },
  {
   "cell_type": "code",
   "execution_count": null,
   "metadata": {},
   "outputs": [],
   "source": [
    "df.columns"
   ]
  },
  {
   "cell_type": "code",
   "execution_count": null,
   "metadata": {
    "nbgrader": {
     "grade": false,
     "grade_id": "get_vars",
     "locked": false,
     "schema_version": 1,
     "solution": true
    }
   },
   "outputs": [],
   "source": [
    "\"\"\"\n",
    "ASSIGNMENT: Store the name of all provinces, years, and variables\n",
    "\"\"\"\n",
    "\n",
    "### BEGIN SOLUTION\n",
    "provinces = df.province.unique().tolist()\n",
    "years = df.year.unique().tolist()\n",
    "columns = df.columns.tolist()\n",
    "variables = columns[2:]\n",
    "### END SOLUTION"
   ]
  },
  {
   "cell_type": "code",
   "execution_count": null,
   "metadata": {},
   "outputs": [],
   "source": [
    "years == [x for x in range(2003,2018)]"
   ]
  },
  {
   "cell_type": "code",
   "execution_count": null,
   "metadata": {
    "nbgrader": {
     "grade": true,
     "grade_id": "check_get_vars",
     "locked": true,
     "points": 1,
     "schema_version": 1,
     "solution": false
    }
   },
   "outputs": [],
   "source": [
    "\"\"\"\n",
    "CHECK\n",
    "\"\"\"\n",
    "\n",
    "assert provinces == ['Groningen',\n",
    "                    'Friesland',\n",
    "                    'Drenthe',\n",
    "                    'Overijssel',\n",
    "                    'Flevoland',\n",
    "                    'Gelderland',\n",
    "                    'Utrecht',\n",
    "                    'Noord-Holland',\n",
    "                    'Zuid-Holland',\n",
    "                    'Zeeland',\n",
    "                    'Noord-Brabant',\n",
    "                    'Limburg']\n",
    "\n",
    "assert years == [x for x in range(2003,2018)]\n",
    "\n",
    "assert variables == ['total_population',\n",
    "                     'nr_women',\n",
    "                     'nr_younger_than_5',\n",
    "                     'nr_between_5_and_10',\n",
    "                     'nr_between_10_and_15',\n",
    "                     'nr_between_15_and_20',\n",
    "                     'nr_between_20_and_25',\n",
    "                     'nr_between_25_and_45',\n",
    "                     'nr_between_45_and_65',\n",
    "                     'nr_between_65_and_80',\n",
    "                     'nr_above_80',\n",
    "                     'nr_in_urban_region',\n",
    "                     'nr_buildings',\n",
    "                     'nr_buildings_per_km2',\n",
    "                     'nr_personal_vehicles',\n",
    "                     'km_total_road',\n",
    "                     'km_city_road',\n",
    "                     'km_provincial_road',\n",
    "                     'km_national_road']\n",
    "\n",
    "\n",
    "\n",
    "\n"
   ]
  },
  {
   "cell_type": "markdown",
   "metadata": {},
   "source": [
    "### Selecting rows\n",
    "\n",
    "You'll often only be interested in a subset of the data. \n",
    "Let's write a couple of functions for some specific queries"
   ]
  },
  {
   "cell_type": "code",
   "execution_count": null,
   "metadata": {
    "nbgrader": {
     "grade": false,
     "grade_id": "extract_province",
     "locked": false,
     "schema_version": 1,
     "solution": true
    }
   },
   "outputs": [],
   "source": [
    "def extract_province(df,province):\n",
    "    ### BEGIN SOLUTION\n",
    "    result = df.loc[df['province'] == province]\n",
    "    ### END SOLUTION\n",
    "    return result"
   ]
  },
  {
   "cell_type": "code",
   "execution_count": null,
   "metadata": {
    "nbgrader": {
     "grade": true,
     "grade_id": "check_extract_province",
     "locked": false,
     "points": 1,
     "schema_version": 1,
     "solution": true
    }
   },
   "outputs": [],
   "source": [
    "assert df.iloc[0:15].equals(extract_province(df,provinces[0]))\n",
    "\n",
    "### BEGIN HIDDEN TESTS\n",
    "for province in ['Limburg','Noord-Holland','Zuid-Holland','Friesland']:\n",
    "    assert df.loc[df['province'] == province].equals(extract_province(df,province))\n",
    "### END HIDDEN TESTS"
   ]
  },
  {
   "cell_type": "code",
   "execution_count": null,
   "metadata": {
    "nbgrader": {
     "grade": false,
     "grade_id": "extract_variables",
     "locked": false,
     "schema_version": 1,
     "solution": true
    }
   },
   "outputs": [],
   "source": [
    "\"\"\"\n",
    "ASSIGNMENT: Create a function to extract BOTH:\n",
    "    1. Variables of interest\n",
    "    2. Province & Year information\n",
    "\"\"\"\n",
    "def extract_variables(df,variables):\n",
    "    ### BEGIN SOLUTION\n",
    "    result = df[['province', 'year'] + variables]\n",
    "    ### END SOLUTION\n",
    "    return result"
   ]
  },
  {
   "cell_type": "code",
   "execution_count": null,
   "metadata": {
    "nbgrader": {
     "grade": true,
     "grade_id": "check_extract_variables",
     "locked": true,
     "points": 1,
     "schema_version": 1,
     "solution": false
    }
   },
   "outputs": [],
   "source": [
    "\"\"\"\n",
    "CHECK: extract_variables()\n",
    "\"\"\"\n",
    "test_cols = ['total_population','km_provincial_road']\n",
    "test = extract_variables(df,test_cols)\n",
    "assert test.columns.tolist() == ['province','year'] + test_cols\n",
    "assert len(test) == len(df)"
   ]
  },
  {
   "cell_type": "markdown",
   "metadata": {},
   "source": [
    "### Grouping rows\n",
    "\n",
    "We can use the groupby functionality to summarize our datasets by groups.\n",
    "Use this functionality to complete the following two functions:"
   ]
  },
  {
   "cell_type": "code",
   "execution_count": null,
   "metadata": {
    "nbgrader": {
     "grade": false,
     "grade_id": "year_total",
     "locked": false,
     "schema_version": 1,
     "solution": true
    }
   },
   "outputs": [],
   "source": [
    "\"\"\"\n",
    "Assignment: Create a function which shows the total (sum) for a set of variables per year\n",
    "\"\"\"\n",
    "\n",
    "def year_total(df,variables):\n",
    "    ### BEGIN SOLUTION\n",
    "    result = extract_variables(df,variables)\n",
    "    result = result.groupby('year').sum()\n",
    "    ### END SOLUTION\n",
    "    return result\n",
    "    "
   ]
  },
  {
   "cell_type": "code",
   "execution_count": null,
   "metadata": {},
   "outputs": [],
   "source": [
    "year_total(df,test_cols).values"
   ]
  },
  {
   "cell_type": "code",
   "execution_count": null,
   "metadata": {
    "nbgrader": {
     "grade": true,
     "grade_id": "check_year_total",
     "locked": true,
     "points": 1,
     "schema_version": 1,
     "solution": false
    }
   },
   "outputs": [],
   "source": [
    "automatic = year_total(df,test_cols).values\n",
    "manual = np.array([[16192572,     7858],\n",
    "               [16258032,     7800],\n",
    "               [16305526,     7744],\n",
    "               [16334210,     7746],\n",
    "               [16357992,     7898],\n",
    "               [16405399,     7850],\n",
    "               [16485787,     7835],\n",
    "               [16574989,     7861],\n",
    "               [16655799,     7863],\n",
    "               [16730348,     7803],\n",
    "               [16779575,     7778],\n",
    "               [16829289,     7750],\n",
    "               [16900726,     7738],\n",
    "               [16979120,     7758],\n",
    "               [17081507,     7756]])\n",
    "\n",
    "assert np.sum(automatic == manual) == manual.shape[0] * manual.shape[1]"
   ]
  },
  {
   "cell_type": "markdown",
   "metadata": {},
   "source": [
    "### Create new columns\n",
    "\n",
    "You'll often want to create new columns such as ratio's, growth percentages, or other transformations.\n",
    "\n",
    "You can simply pass a list as a new column as follows:\n",
    "\n",
    "```\n",
    "df['NEW_COLUMN_NAME'] = [x for x in range(len(df))]\n",
    "```\n",
    "\n",
    "Pandas series (one column is called a series) also understand list operations. For example:\n",
    "\n",
    "```\n",
    "df['Percentage_urban_population'] = df['Urban_population'] / df['Total_population']\n",
    "```\n",
    "\n",
    "Finally you can use a for loop to update a pandas data frame row by row. This is relatively slow, so avoid it when you can:\n",
    "\n",
    "```\n",
    "for idx, row in df.iterrows():\n",
    "    df.loc[idx,'NEW_COL'] = 'foo_' + str(idx)\n",
    "```\n"
   ]
  },
  {
   "cell_type": "code",
   "execution_count": null,
   "metadata": {},
   "outputs": [],
   "source": [
    "\"\"\"\n",
    "ASSIGNMENT: Just try and create some new variables in which you are interested\n",
    "Inspiration: ratio's, log transformations, GROWTH PERCENTAGES\n",
    "\"\"\""
   ]
  },
  {
   "cell_type": "markdown",
   "metadata": {},
   "source": [
    "### Summary \n",
    "\n",
    "You have now learned the basics of working with table data in pandas.\n",
    "You have also learend how to lookup operations you are not familiar with in the documentation."
   ]
  },
  {
   "cell_type": "markdown",
   "metadata": {},
   "source": [
    "## Part (C) Data exploration: combine data manipulation with visualization\n",
    "\n",
    "Now that you have learned how to plot, and how to load and manipulate data it is time to combine the two.\n",
    "Explore the data and create an *effective* and *engaging* visualization that leads you to learn something new from the data.\n",
    "\n",
    "Inspiration:\n",
    "\n",
    "* Create a panel for each province and show the population split per age group. Which province is the greyest?\n",
    "* Show how age groups change over time per province. Which provinces are 'aging' the fastest?\n",
    "* Show the growth rates of each age group over time per province. Any strange results? What might cause them?"
   ]
  },
  {
   "cell_type": "code",
   "execution_count": null,
   "metadata": {},
   "outputs": [],
   "source": [
    "# EXAMPLE\n",
    "age_groups = ['nr_younger_than_5',\n",
    "             'nr_between_5_and_10',\n",
    "             'nr_between_10_and_15',\n",
    "             'nr_between_15_and_20',\n",
    "             'nr_between_20_and_25',\n",
    "             'nr_between_25_and_45',\n",
    "             'nr_between_45_and_65',\n",
    "             'nr_between_65_and_80',\n",
    "             'nr_above_80']\n",
    "\n",
    "df['percentage_over_65'] = (df['nr_between_65_and_80'] + df['nr_above_80']) / df['total_population']\n",
    "\n"
   ]
  },
  {
   "cell_type": "code",
   "execution_count": null,
   "metadata": {},
   "outputs": [],
   "source": [
    "columns = columns + ['percentage_over_65']"
   ]
  },
  {
   "cell_type": "code",
   "execution_count": null,
   "metadata": {},
   "outputs": [],
   "source": [
    "col = 'percentage_over_65'\n",
    "\n",
    "fig, ax = plt.subplots()\n",
    "\n",
    "for province in provinces:\n",
    "    temp = df.loc[df.province == province]\n",
    "    ax.plot(temp['year'],temp[col],label=province)\n",
    "legend = ax.legend(loc='upper left', shadow=True)\n",
    "frame = legend.get_frame()\n",
    "\n"
   ]
  },
  {
   "cell_type": "code",
   "execution_count": null,
   "metadata": {},
   "outputs": [],
   "source": [
    "col = 'nr_buildings_per_km2'\n",
    "\n",
    "fig, ax = plt.subplots()\n",
    "\n",
    "sorted_provinces = df.loc[df.year == 2017].sort_values(by=col,ascending=False)['province'].tolist()\n",
    "\n",
    "for province in sorted_provinces:\n",
    "    temp = df.loc[df.province == province].sort_values(by='province',)\n",
    "    ax.plot(temp['year'],temp[col],label=province)\n",
    "legend = ax.legend(loc='upper left', shadow=True)\n",
    "frame = legend.get_frame()\n",
    "\n"
   ]
  },
  {
   "cell_type": "code",
   "execution_count": null,
   "metadata": {},
   "outputs": [],
   "source": [
    "fig, ax = plt.subplots()\n",
    "\n",
    "for province in sorted_provinces:\n",
    "    temp = df.loc[df.province == province].sort_values(by='province',)\n",
    "    ax.scatter(temp['nr_buildings_per_km2'],temp['percentage_over_65'],label=province)\n",
    "legend = ax.legend(loc='upper left', shadow=True,bbox_to_anchor=(1,1))\n",
    "frame = legend.get_frame()"
   ]
  },
  {
   "cell_type": "code",
   "execution_count": null,
   "metadata": {},
   "outputs": [],
   "source": []
  }
 ],
 "metadata": {
  "kernelspec": {
   "display_name": "Python 3",
   "language": "python",
   "name": "python3"
  },
  "language_info": {
   "codemirror_mode": {
    "name": "ipython",
    "version": 3
   },
   "file_extension": ".py",
   "mimetype": "text/x-python",
   "name": "python",
   "nbconvert_exporter": "python",
   "pygments_lexer": "ipython3",
   "version": "3.7.7"
  }
 },
 "nbformat": 4,
 "nbformat_minor": 1
}
