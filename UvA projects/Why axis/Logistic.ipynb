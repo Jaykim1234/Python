{
 "metadata": {
  "language_info": {
   "codemirror_mode": {
    "name": "ipython",
    "version": 3
   },
   "file_extension": ".py",
   "mimetype": "text/x-python",
   "name": "python",
   "nbconvert_exporter": "python",
   "pygments_lexer": "ipython3",
   "version": "3.8.3"
  },
  "orig_nbformat": 4,
  "kernelspec": {
   "name": "python3",
   "display_name": "Python 3.8.3 64-bit ('base': conda)"
  },
  "interpreter": {
   "hash": "55190f1d6766997e6fe66a2d967c7e368e4d70591b2d2de457c9046bb29ecf93"
  }
 },
 "nbformat": 4,
 "nbformat_minor": 2,
 "cells": [
  {
   "cell_type": "code",
   "execution_count": 25,
   "metadata": {},
   "outputs": [],
   "source": [
    "import pandas as pd\n",
    "# Read csv file\n",
    "\n",
    "data2 =pd.read_csv(\"./concisedataV3.csv\")\n",
    "\n",
    "# "
   ]
  },
  {
   "cell_type": "code",
   "execution_count": 26,
   "metadata": {},
   "outputs": [
    {
     "output_type": "execute_result",
     "data": {
      "text/plain": [
       "    Gender                             Major Country  COMMUNITY  WALL STREET  \\\n",
       "0     Male  Economics and Business Economics  Europe        1.0          NaN   \n",
       "1     Male           Business Administration  Europe        NaN          1.0   \n",
       "2   Female  Economics and Business Economics  Europe        NaN          1.0   \n",
       "3     Male           Business Administration  Europe        1.0          NaN   \n",
       "4   Female           Business Administration  Europe        NaN          1.0   \n",
       "..     ...                               ...     ...        ...          ...   \n",
       "82  Female                      Econometrics  Europe        1.0          NaN   \n",
       "83  Female           Business Administration    Asia        1.0          NaN   \n",
       "84  Female  Economics and Business Economics    Asia        1.0          NaN   \n",
       "85  Female           Business Administration  Europe        1.0          NaN   \n",
       "86    Male           Business Administration  Europe        NaN          1.0   \n",
       "\n",
       "    AVERAGE COMPETITIVENESS SCORE  Result  \n",
       "0                        3.428571       1  \n",
       "1                        4.142857       1  \n",
       "2                        3.714286       1  \n",
       "3                        4.714286       1  \n",
       "4                        2.000000       0  \n",
       "..                            ...     ...  \n",
       "82                       3.000000       1  \n",
       "83                       3.857143       0  \n",
       "84                       3.285714       1  \n",
       "85                       2.857143       0  \n",
       "86                       2.714286       0  \n",
       "\n",
       "[87 rows x 7 columns]"
      ],
      "text/html": "<div>\n<style scoped>\n    .dataframe tbody tr th:only-of-type {\n        vertical-align: middle;\n    }\n\n    .dataframe tbody tr th {\n        vertical-align: top;\n    }\n\n    .dataframe thead th {\n        text-align: right;\n    }\n</style>\n<table border=\"1\" class=\"dataframe\">\n  <thead>\n    <tr style=\"text-align: right;\">\n      <th></th>\n      <th>Gender</th>\n      <th>Major</th>\n      <th>Country</th>\n      <th>COMMUNITY</th>\n      <th>WALL STREET</th>\n      <th>AVERAGE COMPETITIVENESS SCORE</th>\n      <th>Result</th>\n    </tr>\n  </thead>\n  <tbody>\n    <tr>\n      <th>0</th>\n      <td>Male</td>\n      <td>Economics and Business Economics</td>\n      <td>Europe</td>\n      <td>1.0</td>\n      <td>NaN</td>\n      <td>3.428571</td>\n      <td>1</td>\n    </tr>\n    <tr>\n      <th>1</th>\n      <td>Male</td>\n      <td>Business Administration</td>\n      <td>Europe</td>\n      <td>NaN</td>\n      <td>1.0</td>\n      <td>4.142857</td>\n      <td>1</td>\n    </tr>\n    <tr>\n      <th>2</th>\n      <td>Female</td>\n      <td>Economics and Business Economics</td>\n      <td>Europe</td>\n      <td>NaN</td>\n      <td>1.0</td>\n      <td>3.714286</td>\n      <td>1</td>\n    </tr>\n    <tr>\n      <th>3</th>\n      <td>Male</td>\n      <td>Business Administration</td>\n      <td>Europe</td>\n      <td>1.0</td>\n      <td>NaN</td>\n      <td>4.714286</td>\n      <td>1</td>\n    </tr>\n    <tr>\n      <th>4</th>\n      <td>Female</td>\n      <td>Business Administration</td>\n      <td>Europe</td>\n      <td>NaN</td>\n      <td>1.0</td>\n      <td>2.000000</td>\n      <td>0</td>\n    </tr>\n    <tr>\n      <th>...</th>\n      <td>...</td>\n      <td>...</td>\n      <td>...</td>\n      <td>...</td>\n      <td>...</td>\n      <td>...</td>\n      <td>...</td>\n    </tr>\n    <tr>\n      <th>82</th>\n      <td>Female</td>\n      <td>Econometrics</td>\n      <td>Europe</td>\n      <td>1.0</td>\n      <td>NaN</td>\n      <td>3.000000</td>\n      <td>1</td>\n    </tr>\n    <tr>\n      <th>83</th>\n      <td>Female</td>\n      <td>Business Administration</td>\n      <td>Asia</td>\n      <td>1.0</td>\n      <td>NaN</td>\n      <td>3.857143</td>\n      <td>0</td>\n    </tr>\n    <tr>\n      <th>84</th>\n      <td>Female</td>\n      <td>Economics and Business Economics</td>\n      <td>Asia</td>\n      <td>1.0</td>\n      <td>NaN</td>\n      <td>3.285714</td>\n      <td>1</td>\n    </tr>\n    <tr>\n      <th>85</th>\n      <td>Female</td>\n      <td>Business Administration</td>\n      <td>Europe</td>\n      <td>1.0</td>\n      <td>NaN</td>\n      <td>2.857143</td>\n      <td>0</td>\n    </tr>\n    <tr>\n      <th>86</th>\n      <td>Male</td>\n      <td>Business Administration</td>\n      <td>Europe</td>\n      <td>NaN</td>\n      <td>1.0</td>\n      <td>2.714286</td>\n      <td>0</td>\n    </tr>\n  </tbody>\n</table>\n<p>87 rows × 7 columns</p>\n</div>"
     },
     "metadata": {},
     "execution_count": 26
    }
   ],
   "source": [
    "\n",
    "# 1 means defect\n",
    "# 0 menas cooperate\n",
    "\n",
    "data2"
   ]
  },
  {
   "cell_type": "code",
   "execution_count": 27,
   "metadata": {},
   "outputs": [
    {
     "output_type": "execute_result",
     "data": {
      "text/plain": [
       "    Gender                             Major Country  COMMUNITY  WALL STREET  \\\n",
       "0     Male  Economics and Business Economics  Europe        1.0          0.0   \n",
       "1     Male           Business Administration  Europe        0.0          1.0   \n",
       "2   Female  Economics and Business Economics  Europe        0.0          1.0   \n",
       "3     Male           Business Administration  Europe        1.0          0.0   \n",
       "4   Female           Business Administration  Europe        0.0          1.0   \n",
       "..     ...                               ...     ...        ...          ...   \n",
       "82  Female                      Econometrics  Europe        1.0          0.0   \n",
       "83  Female           Business Administration    Asia        1.0          0.0   \n",
       "84  Female  Economics and Business Economics    Asia        1.0          0.0   \n",
       "85  Female           Business Administration  Europe        1.0          0.0   \n",
       "86    Male           Business Administration  Europe        0.0          1.0   \n",
       "\n",
       "    AVERAGE COMPETITIVENESS SCORE  Result  \n",
       "0                        3.428571       1  \n",
       "1                        4.142857       1  \n",
       "2                        3.714286       1  \n",
       "3                        4.714286       1  \n",
       "4                        2.000000       0  \n",
       "..                            ...     ...  \n",
       "82                       3.000000       1  \n",
       "83                       3.857143       0  \n",
       "84                       3.285714       1  \n",
       "85                       2.857143       0  \n",
       "86                       2.714286       0  \n",
       "\n",
       "[87 rows x 7 columns]"
      ],
      "text/html": "<div>\n<style scoped>\n    .dataframe tbody tr th:only-of-type {\n        vertical-align: middle;\n    }\n\n    .dataframe tbody tr th {\n        vertical-align: top;\n    }\n\n    .dataframe thead th {\n        text-align: right;\n    }\n</style>\n<table border=\"1\" class=\"dataframe\">\n  <thead>\n    <tr style=\"text-align: right;\">\n      <th></th>\n      <th>Gender</th>\n      <th>Major</th>\n      <th>Country</th>\n      <th>COMMUNITY</th>\n      <th>WALL STREET</th>\n      <th>AVERAGE COMPETITIVENESS SCORE</th>\n      <th>Result</th>\n    </tr>\n  </thead>\n  <tbody>\n    <tr>\n      <th>0</th>\n      <td>Male</td>\n      <td>Economics and Business Economics</td>\n      <td>Europe</td>\n      <td>1.0</td>\n      <td>0.0</td>\n      <td>3.428571</td>\n      <td>1</td>\n    </tr>\n    <tr>\n      <th>1</th>\n      <td>Male</td>\n      <td>Business Administration</td>\n      <td>Europe</td>\n      <td>0.0</td>\n      <td>1.0</td>\n      <td>4.142857</td>\n      <td>1</td>\n    </tr>\n    <tr>\n      <th>2</th>\n      <td>Female</td>\n      <td>Economics and Business Economics</td>\n      <td>Europe</td>\n      <td>0.0</td>\n      <td>1.0</td>\n      <td>3.714286</td>\n      <td>1</td>\n    </tr>\n    <tr>\n      <th>3</th>\n      <td>Male</td>\n      <td>Business Administration</td>\n      <td>Europe</td>\n      <td>1.0</td>\n      <td>0.0</td>\n      <td>4.714286</td>\n      <td>1</td>\n    </tr>\n    <tr>\n      <th>4</th>\n      <td>Female</td>\n      <td>Business Administration</td>\n      <td>Europe</td>\n      <td>0.0</td>\n      <td>1.0</td>\n      <td>2.000000</td>\n      <td>0</td>\n    </tr>\n    <tr>\n      <th>...</th>\n      <td>...</td>\n      <td>...</td>\n      <td>...</td>\n      <td>...</td>\n      <td>...</td>\n      <td>...</td>\n      <td>...</td>\n    </tr>\n    <tr>\n      <th>82</th>\n      <td>Female</td>\n      <td>Econometrics</td>\n      <td>Europe</td>\n      <td>1.0</td>\n      <td>0.0</td>\n      <td>3.000000</td>\n      <td>1</td>\n    </tr>\n    <tr>\n      <th>83</th>\n      <td>Female</td>\n      <td>Business Administration</td>\n      <td>Asia</td>\n      <td>1.0</td>\n      <td>0.0</td>\n      <td>3.857143</td>\n      <td>0</td>\n    </tr>\n    <tr>\n      <th>84</th>\n      <td>Female</td>\n      <td>Economics and Business Economics</td>\n      <td>Asia</td>\n      <td>1.0</td>\n      <td>0.0</td>\n      <td>3.285714</td>\n      <td>1</td>\n    </tr>\n    <tr>\n      <th>85</th>\n      <td>Female</td>\n      <td>Business Administration</td>\n      <td>Europe</td>\n      <td>1.0</td>\n      <td>0.0</td>\n      <td>2.857143</td>\n      <td>0</td>\n    </tr>\n    <tr>\n      <th>86</th>\n      <td>Male</td>\n      <td>Business Administration</td>\n      <td>Europe</td>\n      <td>0.0</td>\n      <td>1.0</td>\n      <td>2.714286</td>\n      <td>0</td>\n    </tr>\n  </tbody>\n</table>\n<p>87 rows × 7 columns</p>\n</div>"
     },
     "metadata": {},
     "execution_count": 27
    }
   ],
   "source": [
    "data2[['COMMUNITY', 'WALL STREET']] = data2[['COMMUNITY','WALL STREET']].fillna(0)\n",
    "data2"
   ]
  },
  {
   "cell_type": "code",
   "execution_count": 28,
   "metadata": {},
   "outputs": [
    {
     "output_type": "execute_result",
     "data": {
      "text/plain": [
       "    COMMUNITY  WALL STREET  AVERAGE COMPETITIVENESS SCORE  Result  \\\n",
       "0         1.0          0.0                       3.428571       1   \n",
       "1         0.0          1.0                       4.142857       1   \n",
       "2         0.0          1.0                       3.714286       1   \n",
       "3         1.0          0.0                       4.714286       1   \n",
       "4         0.0          1.0                       2.000000       0   \n",
       "..        ...          ...                            ...     ...   \n",
       "82        1.0          0.0                       3.000000       1   \n",
       "83        1.0          0.0                       3.857143       0   \n",
       "84        1.0          0.0                       3.285714       1   \n",
       "85        1.0          0.0                       2.857143       0   \n",
       "86        0.0          1.0                       2.714286       0   \n",
       "\n",
       "    Gender_Female  Gender_Male  Major_Business Administration  \\\n",
       "0               0            1                              0   \n",
       "1               0            1                              1   \n",
       "2               1            0                              0   \n",
       "3               0            1                              1   \n",
       "4               1            0                              1   \n",
       "..            ...          ...                            ...   \n",
       "82              1            0                              0   \n",
       "83              1            0                              1   \n",
       "84              1            0                              0   \n",
       "85              1            0                              1   \n",
       "86              0            1                              1   \n",
       "\n",
       "    Major_Econometrics  Major_Economics and Business Economics  \\\n",
       "0                    0                                       1   \n",
       "1                    0                                       0   \n",
       "2                    0                                       1   \n",
       "3                    0                                       0   \n",
       "4                    0                                       0   \n",
       "..                 ...                                     ...   \n",
       "82                   1                                       0   \n",
       "83                   0                                       0   \n",
       "84                   0                                       1   \n",
       "85                   0                                       0   \n",
       "86                   0                                       0   \n",
       "\n",
       "    Country_Africa  Country_America  Country_Asia  Country_Europe  \n",
       "0                0                0             0               1  \n",
       "1                0                0             0               1  \n",
       "2                0                0             0               1  \n",
       "3                0                0             0               1  \n",
       "4                0                0             0               1  \n",
       "..             ...              ...           ...             ...  \n",
       "82               0                0             0               1  \n",
       "83               0                0             1               0  \n",
       "84               0                0             1               0  \n",
       "85               0                0             0               1  \n",
       "86               0                0             0               1  \n",
       "\n",
       "[87 rows x 13 columns]"
      ],
      "text/html": "<div>\n<style scoped>\n    .dataframe tbody tr th:only-of-type {\n        vertical-align: middle;\n    }\n\n    .dataframe tbody tr th {\n        vertical-align: top;\n    }\n\n    .dataframe thead th {\n        text-align: right;\n    }\n</style>\n<table border=\"1\" class=\"dataframe\">\n  <thead>\n    <tr style=\"text-align: right;\">\n      <th></th>\n      <th>COMMUNITY</th>\n      <th>WALL STREET</th>\n      <th>AVERAGE COMPETITIVENESS SCORE</th>\n      <th>Result</th>\n      <th>Gender_Female</th>\n      <th>Gender_Male</th>\n      <th>Major_Business Administration</th>\n      <th>Major_Econometrics</th>\n      <th>Major_Economics and Business Economics</th>\n      <th>Country_Africa</th>\n      <th>Country_America</th>\n      <th>Country_Asia</th>\n      <th>Country_Europe</th>\n    </tr>\n  </thead>\n  <tbody>\n    <tr>\n      <th>0</th>\n      <td>1.0</td>\n      <td>0.0</td>\n      <td>3.428571</td>\n      <td>1</td>\n      <td>0</td>\n      <td>1</td>\n      <td>0</td>\n      <td>0</td>\n      <td>1</td>\n      <td>0</td>\n      <td>0</td>\n      <td>0</td>\n      <td>1</td>\n    </tr>\n    <tr>\n      <th>1</th>\n      <td>0.0</td>\n      <td>1.0</td>\n      <td>4.142857</td>\n      <td>1</td>\n      <td>0</td>\n      <td>1</td>\n      <td>1</td>\n      <td>0</td>\n      <td>0</td>\n      <td>0</td>\n      <td>0</td>\n      <td>0</td>\n      <td>1</td>\n    </tr>\n    <tr>\n      <th>2</th>\n      <td>0.0</td>\n      <td>1.0</td>\n      <td>3.714286</td>\n      <td>1</td>\n      <td>1</td>\n      <td>0</td>\n      <td>0</td>\n      <td>0</td>\n      <td>1</td>\n      <td>0</td>\n      <td>0</td>\n      <td>0</td>\n      <td>1</td>\n    </tr>\n    <tr>\n      <th>3</th>\n      <td>1.0</td>\n      <td>0.0</td>\n      <td>4.714286</td>\n      <td>1</td>\n      <td>0</td>\n      <td>1</td>\n      <td>1</td>\n      <td>0</td>\n      <td>0</td>\n      <td>0</td>\n      <td>0</td>\n      <td>0</td>\n      <td>1</td>\n    </tr>\n    <tr>\n      <th>4</th>\n      <td>0.0</td>\n      <td>1.0</td>\n      <td>2.000000</td>\n      <td>0</td>\n      <td>1</td>\n      <td>0</td>\n      <td>1</td>\n      <td>0</td>\n      <td>0</td>\n      <td>0</td>\n      <td>0</td>\n      <td>0</td>\n      <td>1</td>\n    </tr>\n    <tr>\n      <th>...</th>\n      <td>...</td>\n      <td>...</td>\n      <td>...</td>\n      <td>...</td>\n      <td>...</td>\n      <td>...</td>\n      <td>...</td>\n      <td>...</td>\n      <td>...</td>\n      <td>...</td>\n      <td>...</td>\n      <td>...</td>\n      <td>...</td>\n    </tr>\n    <tr>\n      <th>82</th>\n      <td>1.0</td>\n      <td>0.0</td>\n      <td>3.000000</td>\n      <td>1</td>\n      <td>1</td>\n      <td>0</td>\n      <td>0</td>\n      <td>1</td>\n      <td>0</td>\n      <td>0</td>\n      <td>0</td>\n      <td>0</td>\n      <td>1</td>\n    </tr>\n    <tr>\n      <th>83</th>\n      <td>1.0</td>\n      <td>0.0</td>\n      <td>3.857143</td>\n      <td>0</td>\n      <td>1</td>\n      <td>0</td>\n      <td>1</td>\n      <td>0</td>\n      <td>0</td>\n      <td>0</td>\n      <td>0</td>\n      <td>1</td>\n      <td>0</td>\n    </tr>\n    <tr>\n      <th>84</th>\n      <td>1.0</td>\n      <td>0.0</td>\n      <td>3.285714</td>\n      <td>1</td>\n      <td>1</td>\n      <td>0</td>\n      <td>0</td>\n      <td>0</td>\n      <td>1</td>\n      <td>0</td>\n      <td>0</td>\n      <td>1</td>\n      <td>0</td>\n    </tr>\n    <tr>\n      <th>85</th>\n      <td>1.0</td>\n      <td>0.0</td>\n      <td>2.857143</td>\n      <td>0</td>\n      <td>1</td>\n      <td>0</td>\n      <td>1</td>\n      <td>0</td>\n      <td>0</td>\n      <td>0</td>\n      <td>0</td>\n      <td>0</td>\n      <td>1</td>\n    </tr>\n    <tr>\n      <th>86</th>\n      <td>0.0</td>\n      <td>1.0</td>\n      <td>2.714286</td>\n      <td>0</td>\n      <td>0</td>\n      <td>1</td>\n      <td>1</td>\n      <td>0</td>\n      <td>0</td>\n      <td>0</td>\n      <td>0</td>\n      <td>0</td>\n      <td>1</td>\n    </tr>\n  </tbody>\n</table>\n<p>87 rows × 13 columns</p>\n</div>"
     },
     "metadata": {},
     "execution_count": 28
    }
   ],
   "source": [
    "data2 = pd.get_dummies(data2, prefix=['Gender', 'Major','Country'])\n",
    "data2"
   ]
  },
  {
   "cell_type": "code",
   "execution_count": 29,
   "metadata": {},
   "outputs": [
    {
     "output_type": "stream",
     "name": "stdout",
     "text": [
      "Warning: Maximum number of iterations has been exceeded.\n",
      "         Current function value: 0.492904\n",
      "         Iterations: 35\n",
      "                                             Results: Logit\n",
      "=========================================================================================================\n",
      "Model:                             Logit                         Pseudo R-squared:              0.215    \n",
      "Dependent Variable:                Result                        AIC:                           103.7652 \n",
      "Date:                              2021-07-02 13:56              BIC:                           125.9584 \n",
      "No. Observations:                  87                            Log-Likelihood:                -42.883  \n",
      "Df Model:                          8                             LL-Null:                       -54.658  \n",
      "Df Residuals:                      78                            LLR p-value:                   0.0027255\n",
      "Converged:                         0.0000                        Scale:                         1.0000   \n",
      "No. Iterations:                    35.0000                                                               \n",
      "---------------------------------------------------------------------------------------------------------\n",
      "                                        Coef.      Std.Err.      z    P>|z|      [0.025         0.975]   \n",
      "---------------------------------------------------------------------------------------------------------\n",
      "COMMUNITY                               -2.2051 18100258.1237 -0.0000 1.0000 -35475856.2384 35475851.8282\n",
      "WALL STREET                             -2.2037 18100258.1237 -0.0000 1.0000 -35475856.2371 35475851.8296\n",
      "AVERAGE COMPETITIVENESS SCORE            0.4471        0.4501  0.9934 0.3205        -0.4350        1.3292\n",
      "Gender_Female                           -2.0690 14767539.4539 -0.0000 1.0000 -28943847.5389 28943843.4009\n",
      "Gender_Male                             -2.3398 14767539.4539 -0.0000 1.0000 -28943847.8097 28943843.1301\n",
      "Major_Business Administration           -2.8159 24360608.7668 -0.0000 1.0000 -47745918.6403 47745913.0085\n",
      "Major_Econometrics                      -1.1958 24360608.7668 -0.0000 1.0000 -47745917.0202 47745914.6286\n",
      "Major_Economics and Business Economics  -0.3971 24360608.7668 -0.0000 1.0000 -47745916.2215 47745915.4273\n",
      "Country_Africa                         -19.4449 17840413.1038 -0.0000 1.0000 -34966586.5976 34966547.7078\n",
      "Country_America                          4.4015 17837765.4033  0.0000 1.0000 -34961373.3537 34961382.1567\n",
      "Country_Asia                             5.2416 17837765.4033  0.0000 1.0000 -34961372.5136 34961382.9968\n",
      "Country_Europe                           5.3930 17837765.4033  0.0000 1.0000 -34961372.3622 34961383.1482\n",
      "=========================================================================================================\n",
      "\n",
      "C:\\Users\\user\\anaconda uva\\lib\\site-packages\\statsmodels\\base\\model.py:567: ConvergenceWarning: Maximum Likelihood optimization failed to converge. Check mle_retvals\n",
      "  warn(\"Maximum Likelihood optimization failed to converge. \"\n"
     ]
    }
   ],
   "source": [
    "import statsmodels.api as sm\n",
    "from sklearn.linear_model import LogisticRegression\n",
    "X=data2.drop(columns=['Result'])\n",
    "y=data2['Result']\n",
    "logit_model=sm.Logit(y,X)\n",
    "result=logit_model.fit()\n",
    "print(result.summary2())"
   ]
  },
  {
   "cell_type": "code",
   "execution_count": null,
   "metadata": {},
   "outputs": [],
   "source": []
  }
 ]
}