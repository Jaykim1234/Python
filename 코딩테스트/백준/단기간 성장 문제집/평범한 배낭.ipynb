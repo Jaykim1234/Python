{
 "cells": [
  {
   "cell_type": "code",
   "execution_count": null,
   "metadata": {},
   "outputs": [],
   "source": [
    "\"\"\"\n",
    "평범한 배낭\n",
    "시간 제한\t메모리 제한\t제출\t정답\t맞힌 사람\t정답 비율\n",
    "2 초\t512 MB\t57308\t21103\t13716\t35.368%\n",
    "문제\n",
    "이 문제는 아주 평범한 배낭에 관한 문제이다.\n",
    "\n",
    "한 달 후면 국가의 부름을 받게 되는 준서는 여행을 가려고 한다. 세상과의 단절을 슬퍼하며 최대한 즐기기 위한 여행이기 때문에, 가지고 다닐 배낭 또한 최대한 가치 있게 싸려고 한다.\n",
    "\n",
    "준서가 여행에 필요하다고 생각하는 N개의 물건이 있다. 각 물건은 무게 W와 가치 V를 가지는데, 해당 물건을 배낭에 넣어서 가면 준서가 V만큼 즐길 수 있다. 아직 행군을 해본 적이 없는 준서는 최대 K만큼의 무게만을 넣을 수 있는 배낭만 들고 다닐 수 있다. 준서가 최대한 즐거운 여행을 하기 위해 배낭에 넣을 수 있는 물건들의 가치의 최댓값을 알려주자.\n",
    "\n",
    "입력\n",
    "첫 줄에 물품의 수 N(1 ≤ N ≤ 100)과 준서가 버틸 수 있는 무게 K(1 ≤ K ≤ 100,000)가 주어진다. 두 번째 줄부터 N개의 줄에 거쳐 각 물건의 무게 W(1 ≤ W ≤ 100,000)와 해당 물건의 가치 V(0 ≤ V ≤ 1,000)가 주어진다.\n",
    "\n",
    "입력으로 주어지는 모든 수는 정수이다.\n",
    "\n",
    "출력\n",
    "한 줄에 배낭에 넣을 수 있는 물건들의 가치합의 최댓값을 출력한다.\n",
    "\n",
    "예제 입력 1 \n",
    "\n",
    "4 7\n",
    "6 13\n",
    "4 8\n",
    "3 6\n",
    "5 12\n",
    "\n",
    "예제 출력 1 \n",
    "14\n",
    "\n",
    "\"\"\"\n"
   ]
  },
  {
   "cell_type": "code",
   "execution_count": 6,
   "metadata": {},
   "outputs": [
    {
     "name": "stdout",
     "output_type": "stream",
     "text": [
      "[[([6, 13],), ([4, 8],), ([3, 6],), ([5, 12],)], [([6, 13], [4, 8]), ([6, 13], [3, 6]), ([6, 13], [5, 12]), ([4, 8], [3, 6]), ([4, 8], [5, 12]), ([3, 6], [5, 12])], [([6, 13], [4, 8], [3, 6]), ([6, 13], [4, 8], [5, 12]), ([6, 13], [3, 6], [5, 12]), ([4, 8], [3, 6], [5, 12])], [([6, 13], [4, 8], [3, 6], [5, 12])]]\n"
     ]
    }
   ],
   "source": [
    "from itertools import combinations\n",
    "\n",
    "n, w  = 4, 7\n",
    "wv = [[6,13], [4,8], [3,6], [5,12]]\n",
    "\n",
    "emp_lst = []\n",
    "for i in range(1, len(wv)+1):\n",
    "    for \n",
    "\n",
    "    emp_lst.append(comb)\n",
    "print(emp_lst)"
   ]
  },
  {
   "cell_type": "code",
   "execution_count": null,
   "metadata": {},
   "outputs": [],
   "source": [
    "# from sys import stdin\n",
    "# n, w = map(int, input().split())\n",
    "# weights, value = [] , []\n",
    "\n",
    "# for _ in n:\n",
    "#     a, b = map(int, input().split())\n",
    "#     weights.append(a)\n",
    "#     value.append(b)\n",
    "\n",
    "# print(list(map(lambda x: list(x) ,list(combinations(wv, 3)))))\n",
    "# wv.sort(key=lambda x: (x[1], x[0]), reverse = True)\n",
    "\n",
    "# print(wv)\n",
    "\n",
    "# lst = map(sorted(), wv)\n",
    "# value   = [7, 13, 8, 6, 12]\n",
    "# weights = [4, 6,  4, 3, 5]\n",
    "# logs.sort(key=lambda x: (x.split('_')[0], -int(x.split('_')[1])))\n"
   ]
  }
 ],
 "metadata": {
  "interpreter": {
   "hash": "b3ba2566441a7c06988d0923437866b63cedc61552a5af99d1f4fb67d367b25f"
  },
  "kernelspec": {
   "display_name": "Python 3 (ipykernel)",
   "language": "python",
   "name": "python3"
  },
  "language_info": {
   "codemirror_mode": {
    "name": "ipython",
    "version": 3
   },
   "file_extension": ".py",
   "mimetype": "text/x-python",
   "name": "python",
   "nbconvert_exporter": "python",
   "pygments_lexer": "ipython3",
   "version": "3.8.8"
  }
 },
 "nbformat": 4,
 "nbformat_minor": 2
}
