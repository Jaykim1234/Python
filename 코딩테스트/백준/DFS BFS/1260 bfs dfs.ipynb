{
 "cells": [
  {
   "cell_type": "markdown",
   "metadata": {},
   "source": [
    "DFS와 BFS\n",
    "시간 제한\t메모리 제한\t제출\t정답\t맞힌 사람\t정답 비율\n",
    "2 초\t128 MB\t175111\t62727\t37040\t35.023%\n",
    "문제\n",
    "그래프를 DFS로 탐색한 결과와 BFS로 탐색한 결과를 출력하는 프로그램을 작성하시오. 단, 방문할 수 있는 정점이 여러 개인 경우에는 정점 번호가 작은 것을 먼저 방문하고, 더 이상 방문할 수 있는 점이 없는 경우 종료한다. 정점 번호는 1번부터 N번까지이다.\n",
    "\n",
    "입력\n",
    "첫째 줄에 정점의 개수 N(1 ≤ N ≤ 1,000), 간선의 개수 M(1 ≤ M ≤ 10,000), 탐색을 시작할 정점의 번호 V가 주어진다. 다음 M개의 줄에는 간선이 연결하는 두 정점의 번호가 주어진다. 어떤 두 정점 사이에 여러 개의 간선이 있을 수 있다. 입력으로 주어지는 간선은 양방향이다.\n",
    "\n",
    "출력\n",
    "첫째 줄에 DFS를 수행한 결과를, 그 다음 줄에는 BFS를 수행한 결과를 출력한다. V부터 방문된 점을 순서대로 출력하면 된다.\n",
    "\n",
    "예제 입력 1 \n",
    "4 5 1\n",
    "1 2\n",
    "1 3\n",
    "1 4\n",
    "2 4\n",
    "3 4\n",
    "예제 출력 1 \n",
    "1 2 4 3\n",
    "1 2 3 4\n",
    "예제 입력 2 \n",
    "5 5 3\n",
    "5 4\n",
    "5 2\n",
    "1 2\n",
    "3 4\n",
    "3 1\n",
    "예제 출력 2 \n",
    "3 1 2 5 4\n",
    "3 1 4 2 5\n",
    "예제 입력 3 \n",
    "1000 1 1000\n",
    "999 1000\n",
    "예제 출력 3 \n",
    "1000 999\n",
    "1000 999"
   ]
  },
  {
   "cell_type": "code",
   "execution_count": null,
   "metadata": {},
   "outputs": [],
   "source": [
    "N, M, V = map(int, input().split())\n",
    "\n",
    "connect = []\n",
    "for _ in M:\n",
    "    a, b = map(int, input().split())\n",
    "    connect.append([a, b])"
   ]
  },
  {
   "cell_type": "markdown",
   "metadata": {},
   "source": []
  }
 ],
 "metadata": {
  "interpreter": {
   "hash": "b3ba2566441a7c06988d0923437866b63cedc61552a5af99d1f4fb67d367b25f"
  },
  "kernelspec": {
   "display_name": "Python 3.8.8 ('base')",
   "language": "python",
   "name": "python3"
  },
  "language_info": {
   "name": "python",
   "version": "3.8.8"
  },
  "orig_nbformat": 4
 },
 "nbformat": 4,
 "nbformat_minor": 2
}
