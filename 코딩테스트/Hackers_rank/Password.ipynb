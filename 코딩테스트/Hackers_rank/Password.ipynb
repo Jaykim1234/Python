{
 "cells": [
  {
   "cell_type": "code",
   "execution_count": 101,
   "metadata": {},
   "outputs": [
    {
     "data": {
      "text/plain": [
       "97"
      ]
     },
     "execution_count": 101,
     "metadata": {},
     "output_type": "execute_result"
    }
   ],
   "source": [
    "ord('a')"
   ]
  },
  {
   "cell_type": "code",
   "execution_count": 104,
   "metadata": {},
   "outputs": [
    {
     "ename": "SyntaxError",
     "evalue": "invalid syntax (4007420547.py, line 1)",
     "output_type": "error",
     "traceback": [
      "\u001b[0;36m  Input \u001b[0;32mIn [104]\u001b[0;36m\u001b[0m\n\u001b[0;31m    1. 해쉬로 바꾸는 함수 만들기\u001b[0m\n\u001b[0m       ^\u001b[0m\n\u001b[0;31mSyntaxError\u001b[0m\u001b[0;31m:\u001b[0m invalid syntax\n"
     ]
    }
   ],
   "source": [
    "1. 해쉬로 바꾸는 함수 만들기\n",
    "2. 해쉬로 만들고 가능한 해쉬 목록 구하기(하나 추가ㅆ을 때)\n",
    "3. 확인"
   ]
  },
  {
   "cell_type": "code",
   "execution_count": 126,
   "metadata": {},
   "outputs": [
    {
     "name": "stdout",
     "output_type": "stream",
     "text": [
      "s 1\n",
      "[49]\n",
      "[49, 6484, 6485, 6486, 6487, 6488, 6489, 6490, 6491, 6492, 6493, 6494, 6495, 6496, 6497, 6498, 6499, 6500, 6501, 6502, 6503, 6504, 6505, 6506, 6507, 6508, 6509, 6510, 6511, 6512, 6513, 6514, 6515, 6516, 6517, 6518, 6519, 6520, 6521, 6522, 6523, 6524, 6525, 6526, 6527, 6528, 6529, 6530, 6531, 6532, 6533, 6534, 6535, 6536, 6537, 6538, 6539, 6540, 6541, 6542, 6543, 6544, 6545]\n",
      "s 2\n",
      "[50]\n",
      "[50, 6615, 6616, 6617, 6618, 6619, 6620, 6621, 6622, 6623, 6624, 6625, 6626, 6627, 6628, 6629, 6630, 6631, 6632, 6633, 6634, 6635, 6636, 6637, 6638, 6639, 6640, 6641, 6642, 6643, 6644, 6645, 6646, 6647, 6648, 6649, 6650, 6651, 6652, 6653, 6654, 6655, 6656, 6657, 6658, 6659, 6660, 6661, 6662, 6663, 6664, 6665, 6666, 6667, 6668, 6669, 6670, 6671, 6672, 6673, 6674, 6675, 6676]\n",
      "s 3\n",
      "[51]\n",
      "[51, 6746, 6747, 6748, 6749, 6750, 6751, 6752, 6753, 6754, 6755, 6756, 6757, 6758, 6759, 6760, 6761, 6762, 6763, 6764, 6765, 6766, 6767, 6768, 6769, 6770, 6771, 6772, 6773, 6774, 6775, 6776, 6777, 6778, 6779, 6780, 6781, 6782, 6783, 6784, 6785, 6786, 6787, 6788, 6789, 6790, 6791, 6792, 6793, 6794, 6795, 6796, 6797, 6798, 6799, 6800, 6801, 6802, 6803, 6804, 6805, 6806, 6807]\n",
      "a 51\n",
      "1\n",
      "a 50\n",
      "0\n"
     ]
    }
   ],
   "source": [
    "import sys\n",
    "\n",
    "def solution():\n",
    "    \n",
    "    m = int(input())\n",
    "    n = int(input())\n",
    "\n",
    "    mod = 10**9 +7\n",
    "    \n",
    "    for _ in range(m):\n",
    "        input1, input2  = map(str, input().split())\n",
    "        print(input1, input2)\n",
    "        \n",
    "        if input1 == 's':\n",
    "            passwords = []\n",
    "            lengths = len(input2)    \n",
    "            password = 0\n",
    "            for k in range(lengths):\n",
    "                password += ord(input2[k])*131**(lengths-1-k)\n",
    "            passwords.append(password%mod)\n",
    "            \n",
    "            print(passwords)\n",
    "\n",
    "            lst_alphabet = []\n",
    "            for i in range(65,127):\n",
    "                lst_alphabet.append(chr(i))\n",
    "\n",
    "            lst_alphabet2 = list(map(lambda x: input2+ x, lst_alphabet))\n",
    "        \n",
    "            for password_add in lst_alphabet2:\n",
    "                    lengths = len(password_add)\n",
    "                    password = 0\n",
    "                    for k in range(lengths):\n",
    "                        password += ord(password_add[k])*131**(lengths-1-k)\n",
    "                    passwords.append(password%mod)\n",
    "            print(passwords)\n",
    "\n",
    "        else:\n",
    "            if int(input2) in passwords:\n",
    "                print(1)\n",
    "            else:\n",
    "                print(0)\n",
    "solution()        \n",
    "    "
   ]
  },
  {
   "cell_type": "code",
   "execution_count": null,
   "metadata": {},
   "outputs": [],
   "source": []
  }
 ],
 "metadata": {
  "interpreter": {
   "hash": "31f2aee4e71d21fbe5cf8b01ff0e069b9275f58929596ceb00d14d90e3e16cd6"
  },
  "kernelspec": {
   "display_name": "Python 3.8.9 64-bit",
   "language": "python",
   "name": "python3"
  },
  "language_info": {
   "codemirror_mode": {
    "name": "ipython",
    "version": 3
   },
   "file_extension": ".py",
   "mimetype": "text/x-python",
   "name": "python",
   "nbconvert_exporter": "python",
   "pygments_lexer": "ipython3",
   "version": "3.8.9"
  },
  "orig_nbformat": 4
 },
 "nbformat": 4,
 "nbformat_minor": 2
}
