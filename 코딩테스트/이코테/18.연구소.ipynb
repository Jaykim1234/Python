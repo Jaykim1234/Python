
#N,M = map(int, input().split(" "))
N,M = 4,6
spot = [(i,j) for i in range(N) for j in range(M)]
print(spot)

while N>0:
    lst1 = map(int, input().split(" "))
    N -= 1

lst2 = lst1
print(lst1)



