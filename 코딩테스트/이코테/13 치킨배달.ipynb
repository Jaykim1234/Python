{
 "cells": [
  {
   "cell_type": "code",
   "execution_count": 2,
   "metadata": {},
   "outputs": [
    {
     "name": "stdout",
     "output_type": "stream",
     "text": [
      "5 3\n"
     ]
    }
   ],
   "source": [
    "N, M = map(int, input().split(\" \"))"
   ]
  },
  {
   "cell_type": "markdown",
   "metadata": {},
   "source": [
    " 1 =< 집의 개수 =< 2N\n",
    " M =< 치킨집의 개수 =< 13"
   ]
  },
  {
   "cell_type": "code",
   "execution_count": 3,
   "metadata": {},
   "outputs": [
    {
     "name": "stdout",
     "output_type": "stream",
     "text": [
      "0 0 1 0 0\n",
      "0 0 2 0 1\n",
      "0 1 2 0 0\n",
      "0 0 1 0 0\n",
      "0 0 0 0 2\n"
     ]
    }
   ],
   "source": [
    "lst = []\n",
    "while N >0:\n",
    "    N -= 1\n",
    "    a= input().split(\" \")\n",
    "    lst.append(list(a))"
   ]
  },
  {
   "cell_type": "code",
   "execution_count": 4,
   "metadata": {},
   "outputs": [
    {
     "data": {
      "text/plain": [
       "[['0', '0', '1', '0', '0'],\n",
       " ['0', '0', '2', '0', '1'],\n",
       " ['0', '1', '2', '0', '0'],\n",
       " ['0', '0', '1', '0', '0'],\n",
       " ['0', '0', '0', '0', '2']]"
      ]
     },
     "execution_count": 4,
     "metadata": {},
     "output_type": "execute_result"
    }
   ],
   "source": [
    "lst"
   ]
  },
  {
   "cell_type": "code",
   "execution_count": 35,
   "metadata": {},
   "outputs": [],
   "source": [
    "N,M = 5,3\n",
    "\n",
    "lst = [['0', '0', '1', '0', '0'],\n",
    " ['0', '0', '2', '0', '1'],\n",
    " ['0', '1', '2', '0', '0'],\n",
    " ['0', '0', '1', '0', '0'],\n",
    " ['0', '0', '0', '0', '2']]"
   ]
  },
  {
   "cell_type": "code",
   "execution_count": 36,
   "metadata": {},
   "outputs": [],
   "source": [
    "index = [0,0]\n",
    "House= [] # 원소가 1 인 경우의 좌표만 다 넣는다.\n",
    "Chicken = [] # 원소가 2인 경우의 좌표만 다 넣는다\n",
    "\n",
    "for i in lst:\n",
    "    index[0] += 1\n",
    "    index[1] = 1\n",
    "    for j in i:\n",
    "        tmp = index\n",
    "        #print(tmp)\n",
    "        if j == '1':\n",
    "            House.append(list(index))\n",
    "        elif j == '2':\n",
    "            Chicken.append(list(index))\n",
    "        else:\n",
    "            pass\n",
    "        index[1] += 1\n",
    "        "
   ]
  },
  {
   "cell_type": "code",
   "execution_count": 37,
   "metadata": {},
   "outputs": [
    {
     "name": "stdout",
     "output_type": "stream",
     "text": [
      "[[1, 3], [2, 5], [3, 2], [4, 3]]\n",
      "[[2, 3], [3, 3], [5, 5]]\n"
     ]
    }
   ],
   "source": [
    "print(House)\n",
    "print(Chicken)"
   ]
  },
  {
   "cell_type": "code",
   "execution_count": 44,
   "metadata": {},
   "outputs": [],
   "source": [
    "N,M = 5,3\n",
    "\n",
    "#전체 치킨 거리의 합을 구하기\n",
    "\n",
    "\n",
    "find_shortest_dis = []\n",
    "sum_total_distance = []\n",
    "for i in House:\n",
    "    find_shortest_dist = [] # 한 가정에서 가장 가까운 치킨집을 찾고 새로 시작\n",
    "    for j in Chicken:\n",
    "        distance = abs(i[0]- j[0]) +abs(i[1]-j[1])\n",
    "        find_shortest_dist.append(distance)    \n",
    "    sum_total_distance.append(min(sorted(find_shortest_dist)[0:M]))\n",
    "\n",
    "sum_total_distance.sort(reverse= True)    "
   ]
  },
  {
   "cell_type": "code",
   "execution_count": 45,
   "metadata": {},
   "outputs": [
    {
     "data": {
      "text/plain": [
       "[2, 1, 1, 1]"
      ]
     },
     "execution_count": 45,
     "metadata": {},
     "output_type": "execute_result"
    }
   ],
   "source": [
    "sum_total_distance\n"
   ]
  },
  {
   "cell_type": "code",
   "execution_count": 15,
   "metadata": {},
   "outputs": [
    {
     "name": "stdout",
     "output_type": "stream",
     "text": [
      "0 2 0 1 0\n",
      "1 0 1 0 0\n",
      "0 0 0 0 0\n",
      "2 0 0 1 1\n",
      "2 2 0 1 2\n"
     ]
    }
   ],
   "source": [
    "N,M = 5, 2\n",
    "\n",
    "lst2 = []\n",
    "while N >0:\n",
    "    N -= 1\n",
    "    a= input().split(\" \")\n",
    "    lst2.append(list(a))"
   ]
  },
  {
   "cell_type": "code",
   "execution_count": 18,
   "metadata": {},
   "outputs": [],
   "source": [
    "lst2 = [['0', '2', '0', '1', '0'],\n",
    " ['1', '0', '1', '0', '0'],\n",
    " ['0', '0', '0', '0', '0'],\n",
    " ['2', '0', '0', '1', '1'],\n",
    " ['2', '2', '0', '1', '2']]"
   ]
  },
  {
   "cell_type": "code",
   "execution_count": 28,
   "metadata": {},
   "outputs": [
    {
     "data": {
      "text/plain": [
       "[[2, 5], [2, 2], [2, 4], [2, 3], [1, 4], [1, 2]]"
      ]
     },
     "execution_count": 28,
     "metadata": {},
     "output_type": "execute_result"
    }
   ],
   "source": [
    "index = [0,0]\n",
    "House= [] # 원소가 1 인 경우의 좌표만 다 넣는다.\n",
    "Chicken = [] # 원소가 2인 경우의 좌표만 다 넣는다\n",
    "\n",
    "for i in lst2:\n",
    "    index[0] += 1\n",
    "    index[1] = 1\n",
    "    for j in i:\n",
    "        tmp = index\n",
    "        # print(tmp)\n",
    "        if j == '1':\n",
    "            House.append(list(index))\n",
    "        elif j == '2':\n",
    "            Chicken.append(list(index))\n",
    "        else:\n",
    "            pass\n",
    "        index[1] += 1\n",
    "\n",
    "#전체 치킨 거리의 합을 구하기\n",
    "\n",
    "\n",
    "find_shortest_dis = []\n",
    "sum_total_distance = []\n",
    "for i in House:\n",
    "    find_shortest_dist = []\n",
    "    for j in Chicken:\n",
    "        distance = abs(i[0]- j[0]) +abs(i[1]-j[1])\n",
    "        find_shortest_dist.append(distance)    \n",
    "    sum_total_distance.append((sorted(find_shortest_dist)[0:M]))\n",
    "\n",
    "sum_total_distance          "
   ]
  },
  {
   "cell_type": "code",
   "execution_count": 114,
   "metadata": {},
   "outputs": [
    {
     "data": {
      "text/plain": [
       "[2, 2, 2, 2, 1, 1]"
      ]
     },
     "execution_count": 114,
     "metadata": {},
     "output_type": "execute_result"
    }
   ],
   "source": [
    "sum_total_distance"
   ]
  },
  {
   "cell_type": "code",
   "execution_count": 115,
   "metadata": {},
   "outputs": [
    {
     "name": "stdout",
     "output_type": "stream",
     "text": [
      "1 2 0 0 0\n",
      "1 2 0 0 0\n",
      "1 2 0 0 0\n",
      "1 2 0 0 0\n",
      "1 2 0 0 0\n"
     ]
    }
   ],
   "source": [
    "N,M = 5, 1\n",
    "\n",
    "lst3 = []\n",
    "while N >0:\n",
    "    N -= 1\n",
    "    a= input().split(\" \")\n",
    "    lst3.append(list(a))\n",
    "    \n",
    "index = [0,0]\n",
    "House= [] # 원소가 1 인 경우의 좌표만 다 넣는다.\n",
    "Chicken = [] # 원소가 2인 경우의 좌표만 다 넣는다\n",
    "\n",
    "for i in lst3:\n",
    "    index[0] += 1\n",
    "    index[1] = 1\n",
    "    for j in i:\n",
    "        tmp = index\n",
    "        # print(tmp)\n",
    "        if j == '1':\n",
    "            House.append(list(index))\n",
    "        elif j == '2':\n",
    "            Chicken.append(list(index))\n",
    "        else:\n",
    "            pass\n",
    "        index[1] += 1\n",
    "\n",
    "#전체 치킨 거리의 합을 구하기\n",
    "\n",
    "\n",
    "find_shortest_dis = []\n",
    "sum_total_distance = []\n",
    "for i in House:\n",
    "    find_shortest_dist = []\n",
    "    for j in Chicken:\n",
    "        distance = abs(i[0]- j[0]) +abs(i[1]-j[1])\n",
    "        find_shortest_dist.append(distance)    \n",
    "    sum_total_distance.append(min(find_shortest_dist))\n",
    "\n",
    "sum_total_distance.sort(reverse= True)  "
   ]
  },
  {
   "cell_type": "code",
   "execution_count": 117,
   "metadata": {},
   "outputs": [
    {
     "data": {
      "text/plain": [
       "[1, 1, 1, 1, 1]"
      ]
     },
     "execution_count": 117,
     "metadata": {},
     "output_type": "execute_result"
    }
   ],
   "source": [
    "sum_total_distance"
   ]
  },
  {
   "cell_type": "code",
   "execution_count": 118,
   "metadata": {},
   "outputs": [
    {
     "name": "stdout",
     "output_type": "stream",
     "text": [
      "[[1, 1], [2, 1], [3, 1], [4, 1], [5, 1]]\n"
     ]
    }
   ],
   "source": [
    "print(House)"
   ]
  }
 ],
 "metadata": {
  "kernelspec": {
   "display_name": "Python 3",
   "language": "python",
   "name": "python3"
  },
  "language_info": {
   "codemirror_mode": {
    "name": "ipython",
    "version": 3
   },
   "file_extension": ".py",
   "mimetype": "text/x-python",
   "name": "python",
   "nbconvert_exporter": "python",
   "pygments_lexer": "ipython3",
   "version": "3.8.5"
  }
 },
 "nbformat": 4,
 "nbformat_minor": 4
}
