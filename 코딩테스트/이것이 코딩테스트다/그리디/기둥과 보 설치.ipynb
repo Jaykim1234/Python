{
 "cells": [
  {
   "cell_type": "code",
   "execution_count": null,
   "metadata": {},
   "outputs": [],
   "source": [
    "# input\n",
    "# 보드\n",
    "\n",
    "\n",
    "\n",
    "# 그대로 설치\n",
    "\n",
    "# 제거"
   ]
  },
  {
   "cell_type": "code",
   "execution_count": null,
   "metadata": {},
   "outputs": [],
   "source": [
    "def solution(n, build_frame):\n",
    "    # input \n",
    "    # loop n\n",
    "        # build_frame\n",
    "\n",
    "    # 조건\n",
    "        # 1. 기둥\n",
    "        #   - 바닥 위\n",
    "        #   - 보의 한 쪽 끝\n",
    "        #   - 다른 기둥 위\n",
    "        # 2. 보\n",
    "        #   - 한쪽 끝 부분이 기둥 위\n",
    "        #   - 양쪽 끝이 다른 부분과 연결\n",
    "\n",
    "    # board\n",
    "\n",
    "    # 기둥 좌표\n",
    "\n",
    "    # 보 좌표\n",
    "\n",
    "    answer = [[]]\n",
    "    return answer"
   ]
  },
  {
   "cell_type": "code",
   "execution_count": null,
   "metadata": {},
   "outputs": [],
   "source": []
  }
 ],
 "metadata": {
  "interpreter": {
   "hash": "59b3f9f76e9d39472e16cf3a53ce4e989704feab3b597196af00ca205a7e526b"
  },
  "kernelspec": {
   "display_name": "Python 3.9.7 ('base')",
   "language": "python",
   "name": "python3"
  },
  "language_info": {
   "codemirror_mode": {
    "name": "ipython",
    "version": 3
   },
   "file_extension": ".py",
   "mimetype": "text/x-python",
   "name": "python",
   "nbconvert_exporter": "python",
   "pygments_lexer": "ipython3",
   "version": "3.9.7"
  },
  "orig_nbformat": 4
 },
 "nbformat": 4,
 "nbformat_minor": 2
}
