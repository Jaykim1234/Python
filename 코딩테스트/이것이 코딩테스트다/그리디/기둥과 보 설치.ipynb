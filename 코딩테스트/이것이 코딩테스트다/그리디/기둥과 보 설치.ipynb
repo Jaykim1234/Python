{
 "cells": [
  {
   "cell_type": "code",
   "execution_count": 44,
   "metadata": {},
   "outputs": [],
   "source": [
    "# input\n",
    "# 보드\n",
    "\n",
    "\n",
    "\n",
    "# 그대로 설치\n",
    "\n",
    "# 제거"
   ]
  },
  {
   "cell_type": "code",
   "execution_count": 74,
   "metadata": {},
   "outputs": [],
   "source": [
    "n = 5\n",
    "b = [[1,0,0,1],[1,1,1,1],[1,1,0,1],[2,2,1,1],[5,0,0,1],[5,1,0,1],[4,2,1,1],[3,2,1,1]]"
   ]
  },
  {
   "cell_type": "code",
   "execution_count": 77,
   "metadata": {},
   "outputs": [],
   "source": [
    "def solution(n, build_frame):\n",
    "\n",
    "    answer = []\n",
    "\n",
    "    # Loop n \n",
    "    for each in build_frame:\n",
    "        while True:\n",
    "            # 설치\n",
    "            # 보는 오른쪽 / 기둥은 위쪽방향\n",
    "            if each[3] == 1:\n",
    "            # 설치시 조건\n",
    "                \n",
    "            # 벽면을 벗어나면 안된다\n",
    "                # if 0<= each[0] <=n and 0<= each[1] <= n:      \n",
    "                    # 1. 기둥\n",
    "                    # if each[2] == 0:\n",
    "                    #   - 바닥 위\n",
    "\n",
    "\n",
    "                    #   - 보의 한 쪽 끝\n",
    "                    #   - 다른 기둥 위\n",
    "\n",
    "                    # 2. 보\n",
    "                    #   - 바닥에 설치하면 안된다\n",
    "                    #   - 한쪽 끝 부분이 기둥 위\n",
    "                    #   - 양쪽 끝이 다른 보과 연결\n",
    "\n",
    "                    answer.append(each[:3])\n",
    "            # 삭제\n",
    "            # 보는 오른쪽 / 기둥은 위쪽방향\n",
    "            else:\n",
    "                pass\n",
    "\n",
    "\n",
    "    answer = sorted(answer, key = lambda x: (x[0], x[1], x[2]))\n",
    "    \n",
    "    return answer\n"
   ]
  },
  {
   "cell_type": "code",
   "execution_count": 78,
   "metadata": {},
   "outputs": [
    {
     "name": "stdout",
     "output_type": "stream",
     "text": [
      "8\n"
     ]
    },
    {
     "data": {
      "text/plain": [
       "[[1, 0, 0],\n",
       " [1, 1, 0],\n",
       " [1, 1, 1],\n",
       " [2, 2, 1],\n",
       " [3, 2, 1],\n",
       " [4, 2, 1],\n",
       " [5, 0, 0],\n",
       " [5, 1, 0]]"
      ]
     },
     "execution_count": 78,
     "metadata": {},
     "output_type": "execute_result"
    }
   ],
   "source": [
    "print(len(list(solution(n, b))))\n",
    "solution(n, b)\n"
   ]
  },
  {
   "cell_type": "code",
   "execution_count": null,
   "metadata": {},
   "outputs": [],
   "source": [
    "b = [[1,0,0,1],[1,1,1,1],[2,1,0,1],[2,2,1,1],[5,0,0,1],[5,1,0,1],[4,2,1,1],[3,2,1,1]]"
   ]
  }
 ],
 "metadata": {
  "interpreter": {
   "hash": "59b3f9f76e9d39472e16cf3a53ce4e989704feab3b597196af00ca205a7e526b"
  },
  "kernelspec": {
   "display_name": "Python 3.9.7 ('base')",
   "language": "python",
   "name": "python3"
  },
  "language_info": {
   "codemirror_mode": {
    "name": "ipython",
    "version": 3
   },
   "file_extension": ".py",
   "mimetype": "text/x-python",
   "name": "python",
   "nbconvert_exporter": "python",
   "pygments_lexer": "ipython3",
   "version": "3.9.7"
  },
  "orig_nbformat": 4
 },
 "nbformat": 4,
 "nbformat_minor": 2
}
