{
 "cells": [
  {
   "cell_type": "code",
   "execution_count": 1,
   "metadata": {},
   "outputs": [],
   "source": [
    "ft = [3,1,2]\n",
    "k= 5"
   ]
  },
  {
   "cell_type": "code",
   "execution_count": 2,
   "metadata": {},
   "outputs": [
    {
     "name": "stdout",
     "output_type": "stream",
     "text": [
      "hi\n"
     ]
    }
   ],
   "source": [
    "print('hi')"
   ]
  },
  {
   "cell_type": "code",
   "execution_count": 123,
   "metadata": {},
   "outputs": [
    {
     "name": "stdout",
     "output_type": "stream",
     "text": [
      "처음 음식 현황: [3, 1, 2]\n",
      " \n",
      "방금 섭취한 음식 index :  0\n",
      "음식 현황              :  [2, 1, 2]\n",
      " \n",
      "방금 섭취한 음식 index :  1\n",
      "음식 현황              :  [2, 0, 2]\n",
      " \n",
      "방금 섭취한 음식 index :  2\n",
      "음식 현황              :  [2, 0, 1]\n",
      " \n",
      "방금 섭취한 음식 index :  0\n",
      "음식 현황              :  [1, 0, 1]\n",
      " \n",
      "방금 섭취한 음식 index :  2\n",
      "음식 현황              :  [1, 0, 0]\n",
      " \n",
      "0\n"
     ]
    }
   ],
   "source": [
    "index = 0\n",
    "\n",
    "print('처음 음식 현황:', ft)\n",
    "print(\" \")\n",
    "while k > 0:\n",
    "    k -=1\n",
    "    \n",
    "    \n",
    "    if ft[index] != 0:\n",
    "        ft[index] -= 1\n",
    "        print('방금 섭취한 음식 index : ' ,index)\n",
    "        print('음식 현황              : ',ft)\n",
    "        print(\" \")\n",
    "    \n",
    "    else:\n",
    "        #ft 가 0 이면 다음껄로 넘겨서 ft[index]을 -1을 한다.\n",
    "        index += 1\n",
    "        ft[index] -= 1\n",
    "        print('방금 섭취한 음식 index : ' ,index)\n",
    "        print('음식 현황              : ',ft)\n",
    "        \n",
    "        print(\" \")\n",
    "    \n",
    "    # 음식을 마지막 것을 섭취하면 처음 걸로 돌아갈 수 있도록 코딩\n",
    "    if index == len(ft) -1:\n",
    "        index = 0\n",
    "    else:\n",
    "        index += 1\n",
    "\n",
    "index = next_index\n",
    "\n",
    "if index == len(ft) -1:\n",
    "    next_index = 0\n",
    "else:\n",
    "    next_index += 1\n",
    "    \n",
    "print(next_index)"
   ]
  },
  {
   "cell_type": "code",
   "execution_count": 16,
   "metadata": {},
   "outputs": [],
   "source": [
    "#trial 1 런타임 에러\n",
    "\n",
    "def solution(ft,k):\n",
    "    \n",
    "    index = 0\n",
    "    print(\"start\")\n",
    "    print(\" \")\n",
    "    while k > 0 and set(ft) != {0}:\n",
    "        k -=1\n",
    "    \n",
    "    \n",
    "        if ft[index] != 0:\n",
    "            ft[index] -= 1\n",
    "            print('음식 현황              : ',ft)\n",
    "            print('방금 섭취한 음식 index : ' ,index)\n",
    "            print(\" \")\n",
    "    \n",
    "        else:\n",
    "            #ft 가 0 이면 다음껄로 넘겨서 ft[index]을 -1을 한다.\n",
    "            index += 1\n",
    "            ft[index] -= 1\n",
    "            #print('음식 현황              : ',ft)\n",
    "            #print('현재 섭취한 음식 index : ' ,index)\n",
    "            #print(\" \")\n",
    "    \n",
    "        # 음식을 마지막 것을 섭취하면 처음 걸로 돌아갈 수 있도록 코딩\n",
    "        if index == len(ft) -1:\n",
    "            index = 0\n",
    "        else:\n",
    "            index += 1\n",
    "\n",
    "    answer_next_index = index  \n",
    "\n",
    "    if index == len(ft) -1:\n",
    "        answer_next_index = 0\n",
    "    else:\n",
    "        answer_next_index += 1\n",
    "    \n",
    "    if set(ft) != {0}:\n",
    "        return -1\n",
    "    else:    \n",
    "        return answer_next_index"
   ]
  },
  {
   "cell_type": "code",
   "execution_count": 17,
   "metadata": {},
   "outputs": [
    {
     "name": "stdout",
     "output_type": "stream",
     "text": [
      "start\n",
      " \n",
      "음식 현황              :  [2, 1, 2]\n",
      "방금 섭취한 음식 index :  0\n",
      " \n",
      "음식 현황              :  [2, 0, 2]\n",
      "방금 섭취한 음식 index :  1\n",
      " \n",
      "음식 현황              :  [2, 0, 1]\n",
      "방금 섭취한 음식 index :  2\n",
      " \n",
      "음식 현황              :  [1, 0, 1]\n",
      "방금 섭취한 음식 index :  0\n",
      " \n"
     ]
    },
    {
     "data": {
      "text/plain": [
       "-1"
      ]
     },
     "execution_count": 17,
     "metadata": {},
     "output_type": "execute_result"
    }
   ],
   "source": [
    "solution([3,1,2],5)"
   ]
  },
  {
   "cell_type": "code",
   "execution_count": 14,
   "metadata": {},
   "outputs": [
    {
     "name": "stdout",
     "output_type": "stream",
     "text": [
      "start\n"
     ]
    },
    {
     "data": {
      "text/plain": [
       "1"
      ]
     },
     "execution_count": 14,
     "metadata": {},
     "output_type": "execute_result"
    }
   ],
   "source": [
    "solution([0,0,0],5)"
   ]
  },
  {
   "cell_type": "code",
   "execution_count": null,
   "metadata": {},
   "outputs": [],
   "source": []
  },
  {
   "cell_type": "code",
   "execution_count": null,
   "metadata": {},
   "outputs": [],
   "source": []
  },
  {
   "cell_type": "code",
   "execution_count": null,
   "metadata": {},
   "outputs": [],
   "source": []
  },
  {
   "cell_type": "code",
   "execution_count": null,
   "metadata": {},
   "outputs": [],
   "source": []
  }
 ],
 "metadata": {
  "kernelspec": {
   "display_name": "Python 3",
   "language": "python",
   "name": "python3"
  },
  "language_info": {
   "codemirror_mode": {
    "name": "ipython",
    "version": 3
   },
   "file_extension": ".py",
   "mimetype": "text/x-python",
   "name": "python",
   "nbconvert_exporter": "python",
   "pygments_lexer": "ipython3",
   "version": "3.9.7"
  }
 },
 "nbformat": 4,
 "nbformat_minor": 4
}
