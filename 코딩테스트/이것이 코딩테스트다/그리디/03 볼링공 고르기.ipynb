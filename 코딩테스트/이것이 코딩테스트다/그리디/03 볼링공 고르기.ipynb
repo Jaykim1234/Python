{
 "cells": [
  {
   "cell_type": "code",
   "execution_count": 2,
   "metadata": {},
   "outputs": [
    {
     "name": "stdout",
     "output_type": "stream",
     "text": [
      "5 3\n",
      "1 3 2 3 2\n"
     ]
    }
   ],
   "source": [
    "n = list(map(int,input().split(\" \")))\n",
    "m = list(map(int,input().split(\" \")))"
   ]
  },
  {
   "cell_type": "code",
   "execution_count": 6,
   "metadata": {},
   "outputs": [],
   "source": [
    "n =  [5,3]\n",
    "m = [1,3,2,3,2]"
   ]
  },
  {
   "cell_type": "code",
   "execution_count": 19,
   "metadata": {},
   "outputs": [],
   "source": [
    "n= [8,5]\n",
    "m = [1,5,4,3,2,4,5,2]"
   ]
  },
  {
   "cell_type": "code",
   "execution_count": 7,
   "metadata": {},
   "outputs": [
    {
     "name": "stdout",
     "output_type": "stream",
     "text": [
      "[5, 3]\n",
      "[1, 3, 2, 3, 2]\n"
     ]
    }
   ],
   "source": [
    "print(n)\n",
    "print(m)"
   ]
  },
  {
   "cell_type": "code",
   "execution_count": 8,
   "metadata": {},
   "outputs": [
    {
     "data": {
      "text/plain": [
       "[(1, 1), (2, 3), (3, 2), (4, 3), (5, 2)]"
      ]
     },
     "execution_count": 8,
     "metadata": {},
     "output_type": "execute_result"
    }
   ],
   "source": [
    "lst = []\n",
    "for j in enumerate(m, start =1):\n",
    "    # first number is index, second number is weight\n",
    "    lst.append(j)\n",
    "lst"
   ]
  },
  {
   "cell_type": "code",
   "execution_count": 18,
   "metadata": {},
   "outputs": [
    {
     "name": "stdout",
     "output_type": "stream",
     "text": [
      "[((1, 1), (2, 3)), ((1, 1), (3, 2)), ((1, 1), (4, 3)), ((1, 1), (5, 2)), ((2, 3), (3, 2)), ((2, 3), (5, 2)), ((3, 2), (4, 3)), ((4, 3), (5, 2))]\n",
      "8\n"
     ]
    }
   ],
   "source": [
    "from itertools import combinations\n",
    "\n",
    "lst2 = []\n",
    "for i in combinations(lst, 2):# to find all the combinations \n",
    "    # add to box only when the weights are different\n",
    "    if i[0][1] != i[1][1]: #\n",
    "        lst2.append(i)\n",
    "\n",
    "print(lst2)\n",
    "print(len(lst2))\n",
    "        \n"
   ]
  },
  {
   "cell_type": "code",
   "execution_count": 20,
   "metadata": {},
   "outputs": [
    {
     "name": "stdout",
     "output_type": "stream",
     "text": [
      "[((1, 1), (2, 5)), ((1, 1), (3, 4)), ((1, 1), (4, 3)), ((1, 1), (5, 2)), ((1, 1), (6, 4)), ((1, 1), (7, 5)), ((1, 1), (8, 2)), ((2, 5), (3, 4)), ((2, 5), (4, 3)), ((2, 5), (5, 2)), ((2, 5), (6, 4)), ((2, 5), (8, 2)), ((3, 4), (4, 3)), ((3, 4), (5, 2)), ((3, 4), (7, 5)), ((3, 4), (8, 2)), ((4, 3), (5, 2)), ((4, 3), (6, 4)), ((4, 3), (7, 5)), ((4, 3), (8, 2)), ((5, 2), (6, 4)), ((5, 2), (7, 5)), ((6, 4), (7, 5)), ((6, 4), (8, 2)), ((7, 5), (8, 2))]\n",
      "25\n"
     ]
    }
   ],
   "source": [
    "# full coding\n",
    "from itertools import combinations\n",
    "\n",
    "#n = list(map(int,input().split(\" \")))\n",
    "#m = list(map(int,input().split(\" \")))\n",
    "\n",
    "lst = []\n",
    "for j in enumerate(m, start =1):\n",
    "    # first number is index, second number is weight\n",
    "    lst.append(j)\n",
    "lst\n",
    "\n",
    "lst2 = []\n",
    "\n",
    "for i in combinations(lst, 2):# to find all the combinations \n",
    "    # add to box only when the weights are different\n",
    "    if i[0][1] != i[1][1]: #\n",
    "        lst2.append(i)\n",
    "\n",
    "print(lst2)\n",
    "print(len(lst2))"
   ]
  },
  {
   "cell_type": "code",
   "execution_count": null,
   "metadata": {},
   "outputs": [],
   "source": []
  },
  {
   "cell_type": "code",
   "execution_count": null,
   "metadata": {},
   "outputs": [],
   "source": [
    "#다른 풀이\n",
    "n,m = 8, 5\n",
    "bowl = [1,5,4,3,2,4,5,2]\n",
    "\n",
    "array = [0]*(m+1)\n",
    "for i in set(bowl):\n",
    "    array[i] = bowl.count(i)\n",
    "\n",
    "result = 0\n",
    "for i in set(bowl):\n",
    "    result += (array[i]*sum(array[i+1:]))\n",
    "\n",
    "    \n",
    "print(result)"
   ]
  }
 ],
 "metadata": {
  "kernelspec": {
   "display_name": "Python 3",
   "language": "python",
   "name": "python3"
  },
  "language_info": {
   "codemirror_mode": {
    "name": "ipython",
    "version": 3
   },
   "file_extension": ".py",
   "mimetype": "text/x-python",
   "name": "python",
   "nbconvert_exporter": "python",
   "pygments_lexer": "ipython3",
   "version": "3.8.5"
  }
 },
 "nbformat": 4,
 "nbformat_minor": 4
}
