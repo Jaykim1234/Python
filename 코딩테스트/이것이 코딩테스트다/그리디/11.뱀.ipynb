{
 "cells": [
  {
   "cell_type": "code",
   "execution_count": 2,
   "metadata": {},
   "outputs": [
    {
     "name": "stdout",
     "output_type": "stream",
     "text": [
      "[[3, 'D'], [15, 'L'], [17, 'D']]\n",
      "[[0, 0, 0, 0, 0, 0], [0, 0, 0, 0, 0, 0], [0, 0, 0, 0, 0, 0], [0, 0, 0, 0, 0, 0], [0, 0, 0, 0, 0, 0], [0, 0, 0, 0, 0, 0]]\n",
      "[[3, 4], [2, 5], [5, 3]]\n",
      "[[0, 0, 0, 0, 0, 0], [0, 0, 0, 0, 2, 0], [0, 0, 0, 2, 0, 0], [0, 0, 0, 0, 0, 0], [0, 0, 2, 0, 0, 0], [0, 0, 0, 0, 0, 0]]\n"
     ]
    }
   ],
   "source": [
    "m = int(input()) # board size\n",
    "n = int(input()) # the number of apples\n",
    "spots = []\n",
    "\n",
    "for _ in range(n):\n",
    "    j,k =  input().split( )\n",
    "    spots.append([int(j),int(k)])\n",
    "\n",
    "c = int(input()) # direction change\n",
    "\n",
    "# move\n",
    "moves = []\n",
    "for _ in range(c):\n",
    "    dis, dir = input().split( )\n",
    "    moves.append([int(dis), dir])\n",
    "print(moves)\n",
    "\n",
    "\n",
    "# make board\n",
    "board = [[0 for i in range(m)] for i in range(m)]\n",
    "print(board)\n",
    "\n",
    "#apple spot check\n",
    "print(spots)\n",
    "\n",
    "for row, col in spots:\n",
    "    board[row-1][col-1] = 2\n",
    "print(board)"
   ]
  },
  {
   "cell_type": "code",
   "execution_count": 3,
   "metadata": {},
   "outputs": [],
   "source": [
    "import copy\n",
    "\n",
    "board2= copy.deepcopy(board)\n",
    "moves2 =copy.deepcopy(moves)"
   ]
  },
  {
   "cell_type": "code",
   "execution_count": 17,
   "metadata": {},
   "outputs": [
    {
     "ename": "",
     "evalue": "",
     "output_type": "error",
     "traceback": [
      "\u001b[1;31mFailed to interrupt the Kernel. \n",
      "Canceled. \n",
      "View Jupyter <a href='command:jupyter.viewOutput'>log</a> for further details."
     ]
    },
    {
     "ename": "KeyboardInterrupt",
     "evalue": "",
     "output_type": "error",
     "traceback": [
      "\u001b[0;31m---------------------------------------------------------------------------\u001b[0m",
      "\u001b[0;31mKeyboardInterrupt\u001b[0m                         Traceback (most recent call last)",
      "\u001b[1;32m/Users/jinhyun/Documents/GitHub/Python/코딩테스트/이것이 코딩테스트다/그리디/11.뱀.ipynb Cell 6'\u001b[0m in \u001b[0;36m<cell line: 89>\u001b[0;34m()\u001b[0m\n\u001b[1;32m     <a href='vscode-notebook-cell:/Users/jinhyun/Documents/GitHub/Python/%EC%BD%94%EB%94%A9%ED%85%8C%EC%8A%A4%ED%8A%B8/%EC%9D%B4%EA%B2%83%EC%9D%B4%20%EC%BD%94%EB%94%A9%ED%85%8C%EC%8A%A4%ED%8A%B8%EB%8B%A4/%EA%B7%B8%EB%A6%AC%EB%94%94/11.%EB%B1%80.ipynb#ch0000005?line=80'>81</a>\u001b[0m             joint\u001b[39m.\u001b[39mappend(head)\n\u001b[1;32m     <a href='vscode-notebook-cell:/Users/jinhyun/Documents/GitHub/Python/%EC%BD%94%EB%94%A9%ED%85%8C%EC%8A%A4%ED%8A%B8/%EC%9D%B4%EA%B2%83%EC%9D%B4%20%EC%BD%94%EB%94%A9%ED%85%8C%EC%8A%A4%ED%8A%B8%EB%8B%A4/%EA%B7%B8%EB%A6%AC%EB%94%94/11.%EB%B1%80.ipynb#ch0000005?line=86'>87</a>\u001b[0m     \u001b[39mreturn\u001b[39;00m t\n\u001b[0;32m---> <a href='vscode-notebook-cell:/Users/jinhyun/Documents/GitHub/Python/%EC%BD%94%EB%94%A9%ED%85%8C%EC%8A%A4%ED%8A%B8/%EC%9D%B4%EA%B2%83%EC%9D%B4%20%EC%BD%94%EB%94%A9%ED%85%8C%EC%8A%A4%ED%8A%B8%EB%8B%A4/%EA%B7%B8%EB%A6%AC%EB%94%94/11.%EB%B1%80.ipynb#ch0000005?line=88'>89</a>\u001b[0m solve(board2, moves2)\n",
      "\u001b[1;32m/Users/jinhyun/Documents/GitHub/Python/코딩테스트/이것이 코딩테스트다/그리디/11.뱀.ipynb Cell 6'\u001b[0m in \u001b[0;36msolve\u001b[0;34m(board_input, moves_input)\u001b[0m\n\u001b[1;32m     <a href='vscode-notebook-cell:/Users/jinhyun/Documents/GitHub/Python/%EC%BD%94%EB%94%A9%ED%85%8C%EC%8A%A4%ED%8A%B8/%EC%9D%B4%EA%B2%83%EC%9D%B4%20%EC%BD%94%EB%94%A9%ED%85%8C%EC%8A%A4%ED%8A%B8%EB%8B%A4/%EA%B7%B8%EB%A6%AC%EB%94%94/11.%EB%B1%80.ipynb#ch0000005?line=42'>43</a>\u001b[0m joint \u001b[39m=\u001b[39m []\n\u001b[1;32m     <a href='vscode-notebook-cell:/Users/jinhyun/Documents/GitHub/Python/%EC%BD%94%EB%94%A9%ED%85%8C%EC%8A%A4%ED%8A%B8/%EC%9D%B4%EA%B2%83%EC%9D%B4%20%EC%BD%94%EB%94%A9%ED%85%8C%EC%8A%A4%ED%8A%B8%EB%8B%A4/%EA%B7%B8%EB%A6%AC%EB%94%94/11.%EB%B1%80.ipynb#ch0000005?line=44'>45</a>\u001b[0m \u001b[39mwhile\u001b[39;00m \u001b[39mTrue\u001b[39;00m:\n\u001b[0;32m---> <a href='vscode-notebook-cell:/Users/jinhyun/Documents/GitHub/Python/%EC%BD%94%EB%94%A9%ED%85%8C%EC%8A%A4%ED%8A%B8/%EC%9D%B4%EA%B2%83%EC%9D%B4%20%EC%BD%94%EB%94%A9%ED%85%8C%EC%8A%A4%ED%8A%B8%EB%8B%A4/%EA%B7%B8%EB%A6%AC%EB%94%94/11.%EB%B1%80.ipynb#ch0000005?line=45'>46</a>\u001b[0m     \u001b[39mprint\u001b[39;49m(board)\n\u001b[1;32m     <a href='vscode-notebook-cell:/Users/jinhyun/Documents/GitHub/Python/%EC%BD%94%EB%94%A9%ED%85%8C%EC%8A%A4%ED%8A%B8/%EC%9D%B4%EA%B2%83%EC%9D%B4%20%EC%BD%94%EB%94%A9%ED%85%8C%EC%8A%A4%ED%8A%B8%EB%8B%A4/%EA%B7%B8%EB%A6%AC%EB%94%94/11.%EB%B1%80.ipynb#ch0000005?line=46'>47</a>\u001b[0m     t \u001b[39m+\u001b[39m\u001b[39m=\u001b[39m \u001b[39m1\u001b[39m\n\u001b[1;32m     <a href='vscode-notebook-cell:/Users/jinhyun/Documents/GitHub/Python/%EC%BD%94%EB%94%A9%ED%85%8C%EC%8A%A4%ED%8A%B8/%EC%9D%B4%EA%B2%83%EC%9D%B4%20%EC%BD%94%EB%94%A9%ED%85%8C%EC%8A%A4%ED%8A%B8%EB%8B%A4/%EA%B7%B8%EB%A6%AC%EB%94%94/11.%EB%B1%80.ipynb#ch0000005?line=47'>48</a>\u001b[0m     head[\u001b[39m0\u001b[39m] \u001b[39m+\u001b[39m\u001b[39m=\u001b[39m dy[head_dir]\n",
      "File \u001b[0;32m~/Library/Python/3.8/lib/python/site-packages/ipykernel/iostream.py:562\u001b[0m, in \u001b[0;36mOutStream.write\u001b[0;34m(self, string)\u001b[0m\n\u001b[1;32m    <a href='file:///Users/jinhyun/Library/Python/3.8/lib/python/site-packages/ipykernel/iostream.py?line=559'>560</a>\u001b[0m         \u001b[39mself\u001b[39m\u001b[39m.\u001b[39mpub_thread\u001b[39m.\u001b[39mschedule(\u001b[39mself\u001b[39m\u001b[39m.\u001b[39m_flush)\n\u001b[1;32m    <a href='file:///Users/jinhyun/Library/Python/3.8/lib/python/site-packages/ipykernel/iostream.py?line=560'>561</a>\u001b[0m     \u001b[39melse\u001b[39;00m:\n\u001b[0;32m--> <a href='file:///Users/jinhyun/Library/Python/3.8/lib/python/site-packages/ipykernel/iostream.py?line=561'>562</a>\u001b[0m         \u001b[39mself\u001b[39;49m\u001b[39m.\u001b[39;49m_schedule_flush()\n\u001b[1;32m    <a href='file:///Users/jinhyun/Library/Python/3.8/lib/python/site-packages/ipykernel/iostream.py?line=563'>564</a>\u001b[0m \u001b[39mreturn\u001b[39;00m \u001b[39mlen\u001b[39m(string)\n",
      "File \u001b[0;32m~/Library/Python/3.8/lib/python/site-packages/ipykernel/iostream.py:455\u001b[0m, in \u001b[0;36mOutStream._schedule_flush\u001b[0;34m(self)\u001b[0m\n\u001b[1;32m    <a href='file:///Users/jinhyun/Library/Python/3.8/lib/python/site-packages/ipykernel/iostream.py?line=450'>451</a>\u001b[0m \u001b[39m@property\u001b[39m\n\u001b[1;32m    <a href='file:///Users/jinhyun/Library/Python/3.8/lib/python/site-packages/ipykernel/iostream.py?line=451'>452</a>\u001b[0m \u001b[39mdef\u001b[39;00m \u001b[39mclosed\u001b[39m(\u001b[39mself\u001b[39m):\n\u001b[1;32m    <a href='file:///Users/jinhyun/Library/Python/3.8/lib/python/site-packages/ipykernel/iostream.py?line=452'>453</a>\u001b[0m     \u001b[39mreturn\u001b[39;00m \u001b[39mself\u001b[39m\u001b[39m.\u001b[39mpub_thread \u001b[39mis\u001b[39;00m \u001b[39mNone\u001b[39;00m\n\u001b[0;32m--> <a href='file:///Users/jinhyun/Library/Python/3.8/lib/python/site-packages/ipykernel/iostream.py?line=454'>455</a>\u001b[0m \u001b[39mdef\u001b[39;00m \u001b[39m_schedule_flush\u001b[39m(\u001b[39mself\u001b[39m):\n\u001b[1;32m    <a href='file:///Users/jinhyun/Library/Python/3.8/lib/python/site-packages/ipykernel/iostream.py?line=455'>456</a>\u001b[0m     \u001b[39m\"\"\"schedule a flush in the IO thread\u001b[39;00m\n\u001b[1;32m    <a href='file:///Users/jinhyun/Library/Python/3.8/lib/python/site-packages/ipykernel/iostream.py?line=456'>457</a>\u001b[0m \n\u001b[1;32m    <a href='file:///Users/jinhyun/Library/Python/3.8/lib/python/site-packages/ipykernel/iostream.py?line=457'>458</a>\u001b[0m \u001b[39m    call this on write, to indicate that flush should be called soon.\u001b[39;00m\n\u001b[1;32m    <a href='file:///Users/jinhyun/Library/Python/3.8/lib/python/site-packages/ipykernel/iostream.py?line=458'>459</a>\u001b[0m \u001b[39m    \"\"\"\u001b[39;00m\n\u001b[1;32m    <a href='file:///Users/jinhyun/Library/Python/3.8/lib/python/site-packages/ipykernel/iostream.py?line=459'>460</a>\u001b[0m     \u001b[39mif\u001b[39;00m \u001b[39mself\u001b[39m\u001b[39m.\u001b[39m_flush_pending:\n",
      "File \u001b[0;32m~/Library/Python/3.8/lib/python/site-packages/debugpy/_vendored/pydevd/_pydevd_bundle/pydevd_trace_dispatch_regular.py:370\u001b[0m, in \u001b[0;36mThreadTracer.__call__\u001b[0;34m(self, frame, event, arg)\u001b[0m\n\u001b[1;32m    <a href='file:///Users/jinhyun/Library/Python/3.8/lib/python/site-packages/debugpy/_vendored/pydevd/_pydevd_bundle/pydevd_trace_dispatch_regular.py?line=365'>366</a>\u001b[0m     \u001b[39mreturn\u001b[39;00m \u001b[39mNone\u001b[39;00m \u001b[39mif\u001b[39;00m event \u001b[39m==\u001b[39m \u001b[39m'\u001b[39m\u001b[39mcall\u001b[39m\u001b[39m'\u001b[39m \u001b[39melse\u001b[39;00m NO_FTRACE\n\u001b[1;32m    <a href='file:///Users/jinhyun/Library/Python/3.8/lib/python/site-packages/debugpy/_vendored/pydevd/_pydevd_bundle/pydevd_trace_dispatch_regular.py?line=367'>368</a>\u001b[0m \u001b[39m# Note: it's important that the context name is also given because we may hit something once\u001b[39;00m\n\u001b[1;32m    <a href='file:///Users/jinhyun/Library/Python/3.8/lib/python/site-packages/debugpy/_vendored/pydevd/_pydevd_bundle/pydevd_trace_dispatch_regular.py?line=368'>369</a>\u001b[0m \u001b[39m# in the global context and another in the local context.\u001b[39;00m\n\u001b[0;32m--> <a href='file:///Users/jinhyun/Library/Python/3.8/lib/python/site-packages/debugpy/_vendored/pydevd/_pydevd_bundle/pydevd_trace_dispatch_regular.py?line=369'>370</a>\u001b[0m frame_cache_key \u001b[39m=\u001b[39m frame\u001b[39m.\u001b[39;49mf_code\n\u001b[1;32m    <a href='file:///Users/jinhyun/Library/Python/3.8/lib/python/site-packages/debugpy/_vendored/pydevd/_pydevd_bundle/pydevd_trace_dispatch_regular.py?line=370'>371</a>\u001b[0m \u001b[39mif\u001b[39;00m frame_cache_key \u001b[39min\u001b[39;00m cache_skips:\n\u001b[1;32m    <a href='file:///Users/jinhyun/Library/Python/3.8/lib/python/site-packages/debugpy/_vendored/pydevd/_pydevd_bundle/pydevd_trace_dispatch_regular.py?line=371'>372</a>\u001b[0m     \u001b[39mif\u001b[39;00m \u001b[39mnot\u001b[39;00m is_stepping:\n\u001b[1;32m    <a href='file:///Users/jinhyun/Library/Python/3.8/lib/python/site-packages/debugpy/_vendored/pydevd/_pydevd_bundle/pydevd_trace_dispatch_regular.py?line=372'>373</a>\u001b[0m         \u001b[39m# if DEBUG: print('skipped: trace_dispatch (cache hit)', frame_cache_key, frame.f_lineno, event, frame.f_code.co_name)\u001b[39;00m\n",
      "\u001b[0;31mKeyboardInterrupt\u001b[0m: "
     ]
    }
   ],
   "source": [
    "def turnright(d):\n",
    "    d += 1\n",
    "    if d>=4:\n",
    "        d -= 4\n",
    "    return d\n",
    "\n",
    "def turnleft(d):\n",
    "    d -= 1\n",
    "    if d<0:\n",
    "        d += 4\n",
    "        return d\n",
    "\n",
    "def solve(board_input, moves_input):\n",
    "\n",
    "    # 벽에 부딪힌 경우\n",
    "    def isend(y,x):\n",
    "        if y >= m or y <0 or x>=m or x <0:\n",
    "            return True\n",
    "\n",
    "        #자신과 부딪힌 경우\n",
    "        elif board_input[y][x] == 1:\n",
    "            return True\n",
    "\n",
    "        #지나간 부분을 1로 변경\n",
    "        else:\n",
    "            board_input[y][x] = 1\n",
    "\n",
    "    # 머리 기본 시작점 지정\n",
    "    head = [0,0]\n",
    "\n",
    "    # 꼬리 기본 시작점 지정\n",
    "    tail = [0,0]\n",
    "    \n",
    "    dy = [0 ,-1, 0, 1] # 왼 위 오 아래\n",
    "    dx = [-1, 0, 1, 0]\n",
    "\n",
    "    head_dir, tail_dir = 2, 2 # 처음 움직이는 방향을 오른쪽으로 지정\n",
    "\n",
    "    # 시작하는 포인트 1로 지정\n",
    "    board_input[0][0] = 1\n",
    "\n",
    "    t = 0 # 뱀이 움직이는 횟수를 나타내는 변수 생성\n",
    "    \n",
    "    joint = [] # 뱀이 방향 회전한 부분을 저장\n",
    "\n",
    "    while True:\n",
    "        # 횟수 카운트\n",
    "        t += 1 \n",
    "\n",
    "        while moves_input: # 방향 전환을 모두 완료할 때까지 지속\n",
    "            move = moves_input.pop(0)\n",
    "\n",
    "            for i in range(move[0]):            \n",
    "                t += 1\n",
    "            \n",
    "                # 머리 움직임 (처음에는 오른쪽으로 이동)\n",
    "                head[0] += dy[head_dir]\n",
    "                head[1] += dx[head_dir]\n",
    "\n",
    "                # 벽에 부딪쳤는지 또는 자기자신과 부딪쳤는지 확인\n",
    "                if isend(head[0], head[1]):\n",
    "                    break\n",
    "\n",
    "                if  board_input[head[0]][head[1]] != 2: #움직인 부분에 사과가 없다면\n",
    "                    board_input[tail[0]][tail[1]]  = 0 # 꼬리 부분을 0으로 만듬\n",
    "                    \n",
    "                    # 꼬리 이동\n",
    "                    tail[0] += dy[tail_dir] \n",
    "                    tail[1] += dx[tail_dir]\n",
    "\n",
    "            # 방향 전환\n",
    "            if len(joint) != 0 and tail== joint[0]:\n",
    "                if move[1] == 'L':\n",
    "                    tail_dir = turnleft(tail_dir)\n",
    "                else:\n",
    "                    tail_dir= turnright(tail_dir)\n",
    "                    \n",
    "            if move[1] == 'L':\n",
    "                head_dir = turnleft(head_dir)\n",
    "            else:\n",
    "                head_dir = turnright(head_dir)\n",
    "            \n",
    "            joint.append(head)\n",
    "    return t\n",
    "\n",
    "solve(board2, moves2)   "
   ]
  },
  {
   "cell_type": "code",
   "execution_count": null,
   "metadata": {},
   "outputs": [],
   "source": []
  },
  {
   "cell_type": "code",
   "execution_count": 6,
   "metadata": {},
   "outputs": [
    {
     "name": "stdout",
     "output_type": "stream",
     "text": [
      "[2, 3, 4]\n",
      "[3, 4]\n",
      "[4]\n",
      "[]\n"
     ]
    }
   ],
   "source": [
    "lst =[1,2,3,4]\n",
    "\n",
    "while lst:\n",
    "    lst.pop(0)\n",
    "    print(lst)\n"
   ]
  },
  {
   "cell_type": "code",
   "execution_count": 7,
   "metadata": {},
   "outputs": [
    {
     "name": "stdout",
     "output_type": "stream",
     "text": [
      "d\n",
      "d\n",
      "d\n"
     ]
    }
   ],
   "source": [
    "for i in range(3):\n",
    "    print('d')"
   ]
  },
  {
   "cell_type": "code",
   "execution_count": 5,
   "metadata": {},
   "outputs": [
    {
     "data": {
      "text/plain": [
       "[[1, 0, 0, 0, 0, 0],\n",
       " [0, 0, 0, 0, 2, 0],\n",
       " [0, 0, 0, 2, 0, 0],\n",
       " [0, 0, 0, 0, 0, 0],\n",
       " [0, 0, 2, 0, 0, 0],\n",
       " [0, 0, 0, 0, 0, 0]]"
      ]
     },
     "execution_count": 5,
     "metadata": {},
     "output_type": "execute_result"
    }
   ],
   "source": [
    "board"
   ]
  },
  {
   "cell_type": "code",
   "execution_count": null,
   "metadata": {},
   "outputs": [
    {
     "data": {
      "text/plain": [
       "[[1, 1, 0, 0, 1, 1],\n",
       " [0, 0, 0, 0, 1, 0],\n",
       " [0, 0, 0, 2, 1, 0],\n",
       " [0, 0, 0, 0, 1, 0],\n",
       " [0, 0, 2, 0, 1, 0],\n",
       " [0, 0, 0, 0, 0, 0]]"
      ]
     },
     "execution_count": 28,
     "metadata": {},
     "output_type": "execute_result"
    }
   ],
   "source": [
    "board"
   ]
  },
  {
   "cell_type": "code",
   "execution_count": 38,
   "metadata": {},
   "outputs": [
    {
     "name": "stdout",
     "output_type": "stream",
     "text": [
      "1\n",
      "1\n",
      "1\n"
     ]
    }
   ],
   "source": [
    "for i in range(3):\n",
    "    print('1')"
   ]
  },
  {
   "cell_type": "code",
   "execution_count": null,
   "metadata": {},
   "outputs": [],
   "source": [
    "\n",
    "#include <iostream>\n",
    "#include <vector>\n",
    "#include <queue>\n",
    "\n",
    "using namespace std;\n",
    "\n",
    "/* 변수 선언 */\n",
    "struct Pos // 위치 정보 자료형\n",
    "{\n",
    "    int y, x;\n",
    "};\n",
    "struct Dir // 방향 전환 정보 자료형\n",
    "{\n",
    "    int t;\n",
    "    char d;\n",
    "};\n",
    "struct Joint // 뱀의 꺾인 부분 자료형\n",
    "{\n",
    "    int y, x, d;\n",
    "};\n",
    "int board[101][101]; // 2차원 보드 배열\n",
    "int n, k, l;\n",
    "// 방향 : 0 왼쪽, 1 위 ,2 오른쪽, 3 아래\n",
    "int dy[4] = {0, -1, 0, 1};\n",
    "int dx[4] = {-1, 0, 1, 0};\n",
    "queue<Dir> direction;\n",
    "\n",
    "// 입력\n",
    "void input()\n",
    "{\n",
    "    ios_base::sync_with_stdio(false);\n",
    "    cin.tie(NULL);\n",
    "    cout.tie(NULL);\n",
    "\n",
    "    cin >> n >> k;\n",
    "    int y, x;\n",
    "    while (k--)\n",
    "    {\n",
    "        cin >> y >> x;\n",
    "        board[y][x] = 2;\n",
    "    }\n",
    "    cin >> l;\n",
    "    int t;\n",
    "    char d;\n",
    "    while (l--)\n",
    "    {\n",
    "        cin >> t >> d;\n",
    "        direction.push({t, d});\n",
    "    }\n",
    "}\n",
    "\n",
    "// 오른쪽 회전\n",
    "int turnRight(int d)\n",
    "{\n",
    "    d += 1;\n",
    "    d = d >= 4 ? d - 4 : d;\n",
    "    return d;\n",
    "}\n",
    "\n",
    "// 왼쪽 회전\n",
    "int turnLeft(int d)\n",
    "{\n",
    "    d -= 1;\n",
    "    d = d < 0 ? d + 4 : d;\n",
    "    return d;\n",
    "}\n",
    "\n",
    "// 벽이나 자신에게 부딪힌 경우 true 반환\n",
    "bool isEnd(int y, int x)\n",
    "{\n",
    "    // 벽에 부딪힌 경우\n",
    "    if (y > n || y <= 0 || x > n || x <= 0)\n",
    "    {\n",
    "        return true;\n",
    "    }\n",
    "    // 자신과 부딪힌 경우\n",
    "    if (board[y][x] == 1)\n",
    "    {\n",
    "        return true;\n",
    "    }\n",
    "    return false;\n",
    "}\n",
    "\n",
    "// 결과 값 출력\n",
    "void solve()\n",
    "{\n",
    "    int t = 0;                        // 결과 값\n",
    "    int head_dir = 2, tail_dir = 2;   // 초기 방향 오른쪽\n",
    "    Pos head = {1, 1}, tail = {1, 1}; // 머리와 꼬리의 위치 정보\n",
    "    queue<Joint> joint;               // 꺾인 부분 저장하는 큐\n",
    "    board[1][1] = 1;                  // 왼쪽 위 시작\n",
    "    while (true)\n",
    "    {\n",
    "        t++;\n",
    "        // 머리의 이동\n",
    "        head.y += dy[head_dir];\n",
    "        head.x += dx[head_dir];\n",
    "\n",
    "        // 부딪힌 경우 break;\n",
    "        if (isEnd(head.y, head.x))\n",
    "            break;\n",
    "\n",
    "        // 머리가 간 곳에 사과가 없으면 꼬리 한 칸 땡기기\n",
    "        if (board[head.y][head.x] != 2)\n",
    "        {\n",
    "            board[tail.y][tail.x] = 0;\n",
    "            tail.y += dy[tail_dir];\n",
    "            tail.x += dx[tail_dir];\n",
    "        }\n",
    "        board[head.y][head.x] = 1; // 머리가 이동 한 곳 1로 치환\n",
    "\n",
    "        // 머리 방향 전환\n",
    "        if (!direction.empty() && t == direction.front().t)\n",
    "        {\n",
    "            if (direction.front().d == 'L') // 왼쪽\n",
    "                head_dir = turnLeft(head_dir);\n",
    "            else // 오른쪽\n",
    "                head_dir = turnRight(head_dir);\n",
    "            joint.push({head.y, head.x, head_dir});\n",
    "\n",
    "            direction.pop();\n",
    "        }\n",
    "        // 꼬리가 뱀의 꺾인 부분에 도달하면 -> 꼬리 방향 전환\n",
    "        if (!joint.empty() && tail.y == joint.front().y && tail.x == joint.front().x)\n",
    "        {\n",
    "            tail_dir = joint.front().d;\n",
    "            joint.pop();\n",
    "        }\n",
    "    }\n",
    "    cout << t << '\\n';\n",
    "}\n",
    "\n",
    "int main()\n",
    "{\n",
    "    input();\n",
    "    solve();\n",
    "\n",
    "    return 0;\n"
   ]
  }
 ],
 "metadata": {
  "interpreter": {
   "hash": "59b3f9f76e9d39472e16cf3a53ce4e989704feab3b597196af00ca205a7e526b"
  },
  "kernelspec": {
   "display_name": "Python 3.9.7 ('base')",
   "language": "python",
   "name": "python3"
  },
  "language_info": {
   "codemirror_mode": {
    "name": "ipython",
    "version": 3
   },
   "file_extension": ".py",
   "mimetype": "text/x-python",
   "name": "python",
   "nbconvert_exporter": "python",
   "pygments_lexer": "ipython3",
   "version": "3.8.9"
  },
  "orig_nbformat": 4
 },
 "nbformat": 4,
 "nbformat_minor": 2
}
