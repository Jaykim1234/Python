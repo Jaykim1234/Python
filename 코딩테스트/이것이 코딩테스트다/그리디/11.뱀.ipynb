{
 "cells": [
  {
   "cell_type": "code",
   "execution_count": 4,
   "metadata": {},
   "outputs": [],
   "source": [
    "m = int(input()) # board size\n",
    "n = int(input()) # the number of apples\n",
    "spots = []\n",
    "\n",
    "for _ in range(n):\n",
    "    j,k =  input().split( )\n",
    "    spots.append([int(j),int(k)])\n",
    "\n",
    "c = int(input()) # direction change\n",
    "\n",
    "moves = []\n",
    "for _ in range(c):\n",
    "    dis, dir = input().split( )\n",
    "    moves.append([int(dis), dir])\n"
   ]
  },
  {
   "cell_type": "code",
   "execution_count": 14,
   "metadata": {},
   "outputs": [
    {
     "name": "stdout",
     "output_type": "stream",
     "text": [
      "[[0, 0, 0, 0, 0, 0], [0, 0, 0, 0, 0, 0], [0, 0, 0, 0, 0, 0], [0, 0, 0, 0, 0, 0], [0, 0, 0, 0, 0, 0], [0, 0, 0, 0, 0, 0]]\n"
     ]
    }
   ],
   "source": [
    "# make board\n",
    "board = [[0 for i in range(m)] for i in range(m)]\n",
    "print(board)"
   ]
  },
  {
   "cell_type": "code",
   "execution_count": 15,
   "metadata": {},
   "outputs": [
    {
     "name": "stdout",
     "output_type": "stream",
     "text": [
      "[[3, 4], [2, 5], [5, 3]]\n",
      "[[0, 0, 0, 0, 0, 0], [0, 0, 0, 0, 0, 0], [0, 0, 0, 1, 0, 0], [0, 0, 0, 0, 0, 0], [0, 0, 0, 0, 0, 0], [0, 0, 0, 0, 0, 0]]\n",
      "[[0, 0, 0, 0, 0, 0], [0, 0, 0, 0, 1, 0], [0, 0, 0, 1, 0, 0], [0, 0, 0, 0, 0, 0], [0, 0, 0, 0, 0, 0], [0, 0, 0, 0, 0, 0]]\n",
      "[[0, 0, 0, 0, 0, 0], [0, 0, 0, 0, 1, 0], [0, 0, 0, 1, 0, 0], [0, 0, 0, 0, 0, 0], [0, 0, 1, 0, 0, 0], [0, 0, 0, 0, 0, 0]]\n"
     ]
    }
   ],
   "source": [
    "#apple spot check\n",
    "print(spots)\n",
    "\n",
    "for row, col in spots:\n",
    "    board[row-1][col-1] = 1\n",
    "print(board)"
   ]
  },
  {
   "cell_type": "code",
   "execution_count": 17,
   "metadata": {},
   "outputs": [
    {
     "name": "stdout",
     "output_type": "stream",
     "text": [
      "[[3, 'D'], [15, 'L'], [17, 'D']]\n"
     ]
    }
   ],
   "source": [
    "# move\n",
    "print(moves)"
   ]
  },
  {
   "cell_type": "code",
   "execution_count": 9,
   "metadata": {},
   "outputs": [],
   "source": [
    "dy = [0,1,0,-1]\n",
    "dx = [1,0,-1,0]\n",
    "\n",
    "head_dir = 2\n",
    "tail_dir = 2\n",
    "\n",
    "head = [1,1]\n",
    "tail = [1,1]\n",
    "\n",
    "b= int(input())\n",
    "\n",
    "board = [[0]*b for i in range(b)]\n",
    "\n",
    "k = int(input())\n",
    "while k > 0:\n",
    "    y, x = input().split(\" \")\n",
    "    board[int(y)-1][int(x)-1] = 1\n",
    "    k -= 1\n",
    "\n",
    "l = int(input())\n",
    "\n",
    "direction = []\n",
    "\n",
    "while l>0:\n",
    "    t, d = input().split(\" \")\n",
    "    direction.append([int(t),d])\n",
    "    l -= 1\n",
    "\n",
    "\n"
   ]
  },
  {
   "cell_type": "code",
   "execution_count": null,
   "metadata": {},
   "outputs": [],
   "source": [
    "# 벽에 부딪힌 경우\n",
    "\n",
    "def isend(y,x):\n",
    "    if y >= b or y <0 or x>=b or x <0:\n",
    "        return True\n",
    "    #자신과 부딪힌 경우\n",
    "    elif board[y-1][x-1] == 1:\n",
    "        return True\n",
    "    return False"
   ]
  },
  {
   "cell_type": "code",
   "execution_count": null,
   "metadata": {},
   "outputs": [],
   "source": [
    "#오른쪽 회전\n",
    "def turnright(d):\n",
    "    d += 1\n",
    "    if d >= 4:\n",
    "        d -= 4\n",
    "    return d\n",
    "    \n",
    "#왼쪽 회전\n",
    "def turnleft(d):\n",
    "    d -= 1\n",
    "    if d <0:\n",
    "        d += 4\n",
    "    return d\n",
    "\n"
   ]
  },
  {
   "cell_type": "code",
   "execution_count": 10,
   "metadata": {},
   "outputs": [
    {
     "data": {
      "text/plain": [
       "[[0, 0, 0, 0, 0, 0],\n",
       " [0, 0, 0, 0, 1, 0],\n",
       " [0, 0, 0, 1, 0, 0],\n",
       " [0, 0, 0, 0, 0, 0],\n",
       " [0, 0, 1, 0, 0, 0],\n",
       " [0, 0, 0, 0, 0, 0]]"
      ]
     },
     "execution_count": 10,
     "metadata": {},
     "output_type": "execute_result"
    }
   ],
   "source": [
    "board\n"
   ]
  },
  {
   "cell_type": "code",
   "execution_count": null,
   "metadata": {},
   "outputs": [],
   "source": [
    "\n",
    "#include <iostream>\n",
    "#include <vector>\n",
    "#include <queue>\n",
    "\n",
    "using namespace std;\n",
    "\n",
    "/* 변수 선언 */\n",
    "struct Pos // 위치 정보 자료형\n",
    "{\n",
    "    int y, x;\n",
    "};\n",
    "struct Dir // 방향 전환 정보 자료형\n",
    "{\n",
    "    int t;\n",
    "    char d;\n",
    "};\n",
    "struct Joint // 뱀의 꺾인 부분 자료형\n",
    "{\n",
    "    int y, x, d;\n",
    "};\n",
    "int board[101][101]; // 2차원 보드 배열\n",
    "int n, k, l;\n",
    "// 방향 : 0 왼쪽, 1 위 ,2 오른쪽, 3 아래\n",
    "int dy[4] = {0, -1, 0, 1};\n",
    "int dx[4] = {-1, 0, 1, 0};\n",
    "queue<Dir> direction;\n",
    "\n",
    "// 입력\n",
    "void input()\n",
    "{\n",
    "    ios_base::sync_with_stdio(false);\n",
    "    cin.tie(NULL);\n",
    "    cout.tie(NULL);\n",
    "\n",
    "    cin >> n >> k;\n",
    "    int y, x;\n",
    "    while (k--)\n",
    "    {\n",
    "        cin >> y >> x;\n",
    "        board[y][x] = 2;\n",
    "    }\n",
    "    cin >> l;\n",
    "    int t;\n",
    "    char d;\n",
    "    while (l--)\n",
    "    {\n",
    "        cin >> t >> d;\n",
    "        direction.push({t, d});\n",
    "    }\n",
    "}\n",
    "\n",
    "// 오른쪽 회전\n",
    "int turnRight(int d)\n",
    "{\n",
    "    d += 1;\n",
    "    d = d >= 4 ? d - 4 : d;\n",
    "    return d;\n",
    "}\n",
    "\n",
    "// 왼쪽 회전\n",
    "int turnLeft(int d)\n",
    "{\n",
    "    d -= 1;\n",
    "    d = d < 0 ? d + 4 : d;\n",
    "    return d;\n",
    "}\n",
    "\n",
    "// 벽이나 자신에게 부딪힌 경우 true 반환\n",
    "bool isEnd(int y, int x)\n",
    "{\n",
    "    // 벽에 부딪힌 경우\n",
    "    if (y > n || y <= 0 || x > n || x <= 0)\n",
    "    {\n",
    "        return true;\n",
    "    }\n",
    "    // 자신과 부딪힌 경우\n",
    "    if (board[y][x] == 1)\n",
    "    {\n",
    "        return true;\n",
    "    }\n",
    "    return false;\n",
    "}\n",
    "\n",
    "// 결과 값 출력\n",
    "void solve()\n",
    "{\n",
    "    int t = 0;                        // 결과 값\n",
    "    int head_dir = 2, tail_dir = 2;   // 초기 방향 오른쪽\n",
    "    Pos head = {1, 1}, tail = {1, 1}; // 머리와 꼬리의 위치 정보\n",
    "    queue<Joint> joint;               // 꺾인 부분 저장하는 큐\n",
    "    board[1][1] = 1;                  // 왼쪽 위 시작\n",
    "    while (true)\n",
    "    {\n",
    "        t++;\n",
    "        // 머리의 이동\n",
    "        head.y += dy[head_dir];\n",
    "        head.x += dx[head_dir];\n",
    "\n",
    "        // 부딪힌 경우 break;\n",
    "        if (isEnd(head.y, head.x))\n",
    "            break;\n",
    "\n",
    "        // 머리가 간 곳에 사과가 없으면 꼬리 한 칸 땡기기\n",
    "        if (board[head.y][head.x] != 2)\n",
    "        {\n",
    "            board[tail.y][tail.x] = 0;\n",
    "            tail.y += dy[tail_dir];\n",
    "            tail.x += dx[tail_dir];\n",
    "        }\n",
    "        board[head.y][head.x] = 1; // 머리가 이동 한 곳 1로 치환\n",
    "\n",
    "        // 머리 방향 전환\n",
    "        if (!direction.empty() && t == direction.front().t)\n",
    "        {\n",
    "            if (direction.front().d == 'L') // 왼쪽\n",
    "                head_dir = turnLeft(head_dir);\n",
    "            else // 오른쪽\n",
    "                head_dir = turnRight(head_dir);\n",
    "            joint.push({head.y, head.x, head_dir});\n",
    "\n",
    "            direction.pop();\n",
    "        }\n",
    "        // 꼬리가 뱀의 꺾인 부분에 도달하면 -> 꼬리 방향 전환\n",
    "        if (!joint.empty() && tail.y == joint.front().y && tail.x == joint.front().x)\n",
    "        {\n",
    "            tail_dir = joint.front().d;\n",
    "            joint.pop();\n",
    "        }\n",
    "    }\n",
    "    cout << t << '\\n';\n",
    "}\n",
    "\n",
    "int main()\n",
    "{\n",
    "    input();\n",
    "    solve();\n",
    "\n",
    "    return 0;\n"
   ]
  }
 ],
 "metadata": {
  "interpreter": {
   "hash": "59b3f9f76e9d39472e16cf3a53ce4e989704feab3b597196af00ca205a7e526b"
  },
  "kernelspec": {
   "display_name": "Python 3.9.7 ('base')",
   "language": "python",
   "name": "python3"
  },
  "language_info": {
   "codemirror_mode": {
    "name": "ipython",
    "version": 3
   },
   "file_extension": ".py",
   "mimetype": "text/x-python",
   "name": "python",
   "nbconvert_exporter": "python",
   "pygments_lexer": "ipython3",
   "version": "3.9.7"
  },
  "orig_nbformat": 4
 },
 "nbformat": 4,
 "nbformat_minor": 2
}
