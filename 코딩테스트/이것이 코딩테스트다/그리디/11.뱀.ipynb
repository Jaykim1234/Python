{
 "cells": [
  {
   "cell_type": "code",
   "execution_count": 4,
   "metadata": {},
   "outputs": [],
   "source": [
    "m = int(input()) # board size\n",
    "n = int(input()) # the number of apples\n",
    "spots = []\n",
    "\n",
    "for _ in range(n):\n",
    "    j,k =  input().split( )\n",
    "    spots.append([int(j),int(k)])\n",
    "\n",
    "c = int(input()) # direction change\n",
    "\n",
    "moves = []\n",
    "for _ in range(c):\n",
    "    dis, dir = input().split( )\n",
    "    moves.append([int(dis), dir])\n"
   ]
  },
  {
   "cell_type": "code",
   "execution_count": 14,
   "metadata": {},
   "outputs": [
    {
     "name": "stdout",
     "output_type": "stream",
     "text": [
      "[[0, 0, 0, 0, 0, 0], [0, 0, 0, 0, 0, 0], [0, 0, 0, 0, 0, 0], [0, 0, 0, 0, 0, 0], [0, 0, 0, 0, 0, 0], [0, 0, 0, 0, 0, 0]]\n"
     ]
    }
   ],
   "source": [
    "# make board\n",
    "board = [[0 for i in range(m)] for i in range(m)]\n",
    "print(board)"
   ]
  },
  {
   "cell_type": "code",
   "execution_count": 15,
   "metadata": {},
   "outputs": [
    {
     "name": "stdout",
     "output_type": "stream",
     "text": [
      "[[3, 4], [2, 5], [5, 3]]\n",
      "[[0, 0, 0, 0, 0, 0], [0, 0, 0, 0, 0, 0], [0, 0, 0, 1, 0, 0], [0, 0, 0, 0, 0, 0], [0, 0, 0, 0, 0, 0], [0, 0, 0, 0, 0, 0]]\n",
      "[[0, 0, 0, 0, 0, 0], [0, 0, 0, 0, 1, 0], [0, 0, 0, 1, 0, 0], [0, 0, 0, 0, 0, 0], [0, 0, 0, 0, 0, 0], [0, 0, 0, 0, 0, 0]]\n",
      "[[0, 0, 0, 0, 0, 0], [0, 0, 0, 0, 1, 0], [0, 0, 0, 1, 0, 0], [0, 0, 0, 0, 0, 0], [0, 0, 1, 0, 0, 0], [0, 0, 0, 0, 0, 0]]\n"
     ]
    }
   ],
   "source": [
    "#apple spot check\n",
    "print(spots)\n",
    "\n",
    "for row, col in spots:\n",
    "    board[row-1][col-1] = 1\n",
    "print(board)"
   ]
  },
  {
   "cell_type": "code",
   "execution_count": 17,
   "metadata": {},
   "outputs": [
    {
     "name": "stdout",
     "output_type": "stream",
     "text": [
      "[[3, 'D'], [15, 'L'], [17, 'D']]\n"
     ]
    }
   ],
   "source": [
    "# move\n",
    "print(moves)"
   ]
  },
  {
   "cell_type": "code",
   "execution_count": 25,
   "metadata": {},
   "outputs": [
    {
     "name": "stdout",
     "output_type": "stream",
     "text": [
      "10\n"
     ]
    }
   ],
   "source": [
    "time = 0 \n",
    "spot = [0,0]\n",
    "row_col = 0 # 행또는 열이 움직임 / 현재는 행이 움직이는 것\n",
    "first = True # initial start\n",
    "\n",
    "# 각각의 움직임 반영\n",
    "for move, direction in moves:\n",
    "    if first:\n",
    "        # 처음에 과도하게 움직였을 경우 추가해야한다.\n",
    "        spot[0] += move # 행 이동\n",
    "        first = False\n",
    "\n",
    "    if direction ==  'D':\n",
    "        change = 1 # 90도로 전환\n",
    "    else:\n",
    "        change = -1\n",
    "\n",
    "    row_col += change  # 행 열 전환\n",
    "\n",
    "    if row_col ==  2: row_col = 0 # 열 움직임에서 행 움직임으로 전환\n",
    "    if row_col == -1: row_col = 1 # 행 움직임에서 열 움직임으로 전환\n",
    "\n",
    "    if spot[row_col] + move >= m: # board의 범위를 넘어선다면? (오른쪽, 아래쪽)\n",
    "        time += (m-1) - spot[row_col] # (m-1, m-1) 보드의 오른쪽 아래 끝 가장자리\n",
    "    \n",
    "    if spot[row_col] + move < 0: # board의 범위를 넘어선다면? (왼쪽, 위쪽)\n",
    "        time += spot[row_col] # (m-1, m-1) 보드의 오른쪽 아래 끝 가장자리\n",
    "\n",
    "print(time)\n"
   ]
  },
  {
   "cell_type": "code",
   "execution_count": null,
   "metadata": {},
   "outputs": [],
   "source": []
  },
  {
   "cell_type": "code",
   "execution_count": null,
   "metadata": {},
   "outputs": [],
   "source": []
  }
 ],
 "metadata": {
  "interpreter": {
   "hash": "59b3f9f76e9d39472e16cf3a53ce4e989704feab3b597196af00ca205a7e526b"
  },
  "kernelspec": {
   "display_name": "Python 3.9.7 ('base')",
   "language": "python",
   "name": "python3"
  },
  "language_info": {
   "codemirror_mode": {
    "name": "ipython",
    "version": 3
   },
   "file_extension": ".py",
   "mimetype": "text/x-python",
   "name": "python",
   "nbconvert_exporter": "python",
   "pygments_lexer": "ipython3",
   "version": "3.9.7"
  },
  "orig_nbformat": 4
 },
 "nbformat": 4,
 "nbformat_minor": 2
}
