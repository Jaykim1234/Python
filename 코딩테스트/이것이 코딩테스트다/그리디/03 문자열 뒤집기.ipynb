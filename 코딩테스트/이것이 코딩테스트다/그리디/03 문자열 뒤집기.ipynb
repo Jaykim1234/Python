{
 "cells": [
  {
   "cell_type": "markdown",
   "metadata": {},
   "source": [
    "문제\n",
    "다솜이는 0과 1로만 이루어진 문자열 S를 가지고 있다. 다솜이는 이 문자열 S에 있는 모든 숫자를 전부 같게 만들려고 한다. 다솜이가 할 수 있는 행동은 S에서 연속된 하나 이상의 숫자를 잡고 모두 뒤집는 것이다. 뒤집는 것은 1을 0으로, 0을 1로 바꾸는 것을 의미한다.\n",
    "\n",
    "예를 들어 S=0001100 일 때,\n",
    "\n",
    "전체를 뒤집으면 1110011이 된다.\n",
    "4번째 문자부터 5번째 문자까지 뒤집으면 1111111이 되어서 2번 만에 모두 같은 숫자로 만들 수 있다.\n",
    "하지만, 처음부터 4번째 문자부터 5번째 문자까지 문자를 뒤집으면 한 번에 0000000이 되어서 1번 만에 모두 같은 숫자로 만들 수 있다.\n",
    "\n",
    "문자열 S가 주어졌을 때, 다솜이가 해야하는 행동의 최소 횟수를 출력하시오.\n",
    "\n",
    "입력\n",
    "첫째 줄에 문자열 S가 주어진다. S의 길이는 100만보다 작다.\n",
    "\n",
    "출력\n",
    "첫째 줄에 다솜이가 해야하는 행동의 최소 횟수를 출력한다."
   ]
  },
  {
   "cell_type": "code",
   "execution_count": 49,
   "metadata": {},
   "outputs": [],
   "source": [
    "s = '0001100'\n"
   ]
  },
  {
   "cell_type": "code",
   "execution_count": 33,
   "metadata": {},
   "outputs": [],
   "source": [
    "k = s.split('1')\n",
    "[i for i in k if len(i)>0]\n",
    "\n",
    "def solution(s):\n",
    "    k = s.split('1')  \n",
    "    return len([i for i in k if len(i)>0])"
   ]
  },
  {
   "cell_type": "code",
   "execution_count": 3,
   "metadata": {},
   "outputs": [
    {
     "name": "stdout",
     "output_type": "stream",
     "text": [
      "k : ['000', '', '00']\n",
      "p : ['', '', '', '11', '', '']\n",
      "a:  ['000', '00']\n",
      "b:  ['11']\n"
     ]
    }
   ],
   "source": [
    "#s = input()\n",
    "s = '0001100'\n",
    "\n",
    "k = s.split('1')\n",
    "print('k :',k)\n",
    "\n",
    "p = s.split('0')\n",
    "print('p :',p)\n",
    "\n",
    "a = [i for i in k if len(i)>0]\n",
    "print('a: ',a)\n",
    "\n",
    "b = [i for i in p if len(i)>0]\n",
    "print('b: ',b)\n",
    "\n"
   ]
  },
  {
   "cell_type": "code",
   "execution_count": 53,
   "metadata": {},
   "outputs": [
    {
     "name": "stdout",
     "output_type": "stream",
     "text": [
      "1\n"
     ]
    }
   ],
   "source": [
    "print(min(len(a),len(b)))"
   ]
  },
  {
   "cell_type": "code",
   "execution_count": null,
   "metadata": {},
   "outputs": [],
   "source": [
    "print('asdf')"
   ]
  },
  {
   "cell_type": "code",
   "execution_count": 16,
   "metadata": {},
   "outputs": [
    {
     "name": "stdout",
     "output_type": "stream",
     "text": [
      "6\n",
      "4\n"
     ]
    }
   ],
   "source": [
    "#처음 풀이\n",
    "\n",
    "count = 0\n",
    "index = 0\n",
    "\n",
    "while index < len(s)-1:\n",
    "    if s[index] !=s[index+1]:\n",
    "        count += 1\n",
    "    index += 1 \n",
    "print(index)\n",
    "print(count)    "
   ]
  },
  {
   "cell_type": "code",
   "execution_count": null,
   "metadata": {},
   "outputs": [],
   "source": [
    "#다른 분 풀이\n",
    "\n",
    "s =\n"
   ]
  }
 ],
 "metadata": {
  "kernelspec": {
   "display_name": "Python 3",
   "language": "python",
   "name": "python3"
  },
  "language_info": {
   "codemirror_mode": {
    "name": "ipython",
    "version": 3
   },
   "file_extension": ".py",
   "mimetype": "text/x-python",
   "name": "python",
   "nbconvert_exporter": "python",
   "pygments_lexer": "ipython3",
   "version": "3.8.5"
  }
 },
 "nbformat": 4,
 "nbformat_minor": 4
}