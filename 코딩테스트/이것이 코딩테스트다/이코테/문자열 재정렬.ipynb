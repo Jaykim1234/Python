{
 "cells": [
  {
   "cell_type": "code",
   "execution_count": 73,
   "metadata": {},
   "outputs": [
    {
     "name": "stdout",
     "output_type": "stream",
     "text": [
      "K1KA5CB7\n"
     ]
    }
   ],
   "source": [
    "n = input()\n"
   ]
  },
  {
   "cell_type": "code",
   "execution_count": 74,
   "metadata": {},
   "outputs": [
    {
     "data": {
      "text/plain": [
       "['A', 'B', 'C', 'K', 'K']"
      ]
     },
     "execution_count": 74,
     "metadata": {},
     "output_type": "execute_result"
    }
   ],
   "source": [
    "lst1 = []\n",
    "lst2 = []\n",
    "for i in n:\n",
    "    if i.isdigit():\n",
    "        lst1.append(int(i))\n",
    "    else:\n",
    "        lst2.append(i)\n",
    "\n",
    "\n",
    "lst2 = sorted(lst2)\n",
    "lst2"
   ]
  },
  {
   "cell_type": "code",
   "execution_count": 75,
   "metadata": {},
   "outputs": [],
   "source": [
    "lst2.append(str(sum(lst1)))"
   ]
  },
  {
   "cell_type": "code",
   "execution_count": 76,
   "metadata": {},
   "outputs": [
    {
     "data": {
      "text/plain": [
       "['A', 'B', 'C', 'K', 'K', '13']"
      ]
     },
     "execution_count": 76,
     "metadata": {},
     "output_type": "execute_result"
    }
   ],
   "source": [
    "lst2"
   ]
  },
  {
   "cell_type": "code",
   "execution_count": 77,
   "metadata": {},
   "outputs": [
    {
     "name": "stdout",
     "output_type": "stream",
     "text": [
      "ABCKK13\n"
     ]
    }
   ],
   "source": [
    "answer = ''\n",
    "for i in lst2:\n",
    "    answer += i\n",
    "print(answer)    "
   ]
  },
  {
   "cell_type": "code",
   "execution_count": null,
   "metadata": {},
   "outputs": [],
   "source": []
  },
  {
   "cell_type": "code",
   "execution_count": 79,
   "metadata": {},
   "outputs": [
    {
     "name": "stdout",
     "output_type": "stream",
     "text": [
      "K1KA5CB7\n",
      "ABCKK13\n"
     ]
    }
   ],
   "source": [
    "n = input()\n",
    "lst1 = []\n",
    "lst2 = []\n",
    "for i in n:\n",
    "    if i.isdigit():\n",
    "        lst1.append(int(i))\n",
    "    else:\n",
    "        lst2.append(i)\n",
    "\n",
    "\n",
    "lst2 = sorted(lst2)\n",
    "lst2.append(str(sum(lst1)))\n",
    "\n",
    "\n",
    "\n",
    "answer = ''\n",
    "for i in lst2:\n",
    "    answer += i\n",
    "print(answer)  "
   ]
  },
  {
   "cell_type": "code",
   "execution_count": 80,
   "metadata": {},
   "outputs": [
    {
     "name": "stdout",
     "output_type": "stream",
     "text": [
      "AJKDLSI412K4JSJ9D\n",
      "ADDIJJJKKLSS20\n"
     ]
    }
   ],
   "source": [
    "n = input()\n",
    "lst1 = []\n",
    "lst2 = []\n",
    "for i in n:\n",
    "    if i.isdigit():\n",
    "        lst1.append(int(i))\n",
    "    else:\n",
    "        lst2.append(i)\n",
    "\n",
    "\n",
    "lst2 = sorted(lst2)\n",
    "lst2.append(str(sum(lst1)))\n",
    "\n",
    "\n",
    "\n",
    "answer = ''\n",
    "for i in lst2:\n",
    "    answer += i\n",
    "print(answer)  "
   ]
  },
  {
   "cell_type": "code",
   "execution_count": null,
   "metadata": {},
   "outputs": [],
   "source": []
  }
 ],
 "metadata": {
  "kernelspec": {
   "display_name": "Python 3",
   "language": "python",
   "name": "python3"
  },
  "language_info": {
   "codemirror_mode": {
    "name": "ipython",
    "version": 3
   },
   "file_extension": ".py",
   "mimetype": "text/x-python",
   "name": "python",
   "nbconvert_exporter": "python",
   "pygments_lexer": "ipython3",
   "version": "3.8.5"
  }
 },
 "nbformat": 4,
 "nbformat_minor": 4
}
