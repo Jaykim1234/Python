{
 "metadata": {
  "language_info": {
   "codemirror_mode": {
    "name": "ipython",
    "version": 3
   },
   "file_extension": ".py",
   "mimetype": "text/x-python",
   "name": "python",
   "nbconvert_exporter": "python",
   "pygments_lexer": "ipython3",
   "version": "3.8.3"
  },
  "orig_nbformat": 2,
  "kernelspec": {
   "name": "python383jvsc74a57bd055190f1d6766997e6fe66a2d967c7e368e4d70591b2d2de457c9046bb29ecf93",
   "display_name": "Python 3.8.3 64-bit ('base': conda)"
  }
 },
 "nbformat": 4,
 "nbformat_minor": 2,
 "cells": [
  {
   "cell_type": "code",
   "execution_count": 3,
   "metadata": {},
   "outputs": [],
   "source": [
    "\n",
    "N = int(input())\n",
    "locations = list(map(int, input().split()))\n",
    "\n"
   ]
  },
  {
   "cell_type": "code",
   "execution_count": 12,
   "metadata": {},
   "outputs": [
    {
     "output_type": "stream",
     "name": "stdout",
     "text": [
      "10\n"
     ]
    }
   ],
   "source": [
    "## 시간초과\n",
    "\n",
    "answer = 10**10\n",
    "\n",
    "for index,spot in enumerate(locations):\n",
    "    distance = sum([abs(location-spot) for location in locations ])\n",
    "    answer = min(distance,answer)\n",
    "\n",
    "print(answer)"
   ]
  },
  {
   "cell_type": "code",
   "execution_count": 6,
   "metadata": {},
   "outputs": [
    {
     "output_type": "stream",
     "name": "stdout",
     "text": [
      "[0.5, 4.5, 1.5, 3.5]\n0\n5\n"
     ]
    }
   ],
   "source": [
    "## 평균값에서 빼서 가장 작은 절대값을 가지는거 고름\n",
    "\n",
    "mean_loc = sum(locations)/len(locations)\n",
    "\n",
    "answer_index = 0\n",
    "\n",
    "distance = [abs(location-mean_loc) for location in locations]\n",
    "print(distance)\n",
    "print(distance.index(min(distance)))\n",
    "print(locations[distance.index(min(distance))])"
   ]
  },
  {
   "cell_type": "code",
   "execution_count": 11,
   "metadata": {},
   "outputs": [
    {
     "output_type": "stream",
     "name": "stdout",
     "text": [
      "[1, 5, 7, 9]\n5\n"
     ]
    }
   ],
   "source": [
    "## 중간값 고르기\n",
    "\n",
    "locations = sorted(locations)\n",
    "print(locations)\n",
    "print(locations[len(locations)//2 -1])\n"
   ]
  },
  {
   "cell_type": "code",
   "execution_count": null,
   "metadata": {},
   "outputs": [],
   "source": []
  }
 ]
}