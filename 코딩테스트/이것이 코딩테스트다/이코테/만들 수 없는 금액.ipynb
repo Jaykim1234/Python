{
 "cells": [
  {
   "cell_type": "code",
   "execution_count": 14,
   "metadata": {},
   "outputs": [
    {
     "name": "stdout",
     "output_type": "stream",
     "text": [
      "5\n",
      "3 2 1 1 9\n"
     ]
    }
   ],
   "source": [
    "n = int(input())\n",
    "s = list(map(int, input().split(\" \")))\n"
   ]
  },
  {
   "cell_type": "code",
   "execution_count": 43,
   "metadata": {},
   "outputs": [
    {
     "name": "stdout",
     "output_type": "stream",
     "text": [
      "8\n"
     ]
    }
   ],
   "source": [
    "all_subsets = chain(*map(lambda x: combinations(s, x), range(0, len(s)+1)))\n",
    "\n",
    "#*는 받는게 여러개일 때\n",
    "\n",
    "lst = []\n",
    "for subset in all_subsets:\n",
    "    lst.append(sum(subset))\n",
    "lst2 = set(lst)\n",
    "\n",
    "answer= 0\n",
    "\n",
    "while True:\n",
    "    if answer not in lst2:\n",
    "        break\n",
    "    answer += 1\n",
    "\n",
    "print(answer)"
   ]
  },
  {
   "cell_type": "code",
   "execution_count": null,
   "metadata": {},
   "outputs": [],
   "source": []
  },
  {
   "cell_type": "code",
   "execution_count": null,
   "metadata": {},
   "outputs": [],
   "source": []
  },
  {
   "cell_type": "code",
   "execution_count": null,
   "metadata": {},
   "outputs": [],
   "source": []
  },
  {
   "cell_type": "code",
   "execution_count": null,
   "metadata": {},
   "outputs": [],
   "source": []
  },
  {
   "cell_type": "code",
   "execution_count": null,
   "metadata": {},
   "outputs": [],
   "source": []
  },
  {
   "cell_type": "code",
   "execution_count": null,
   "metadata": {},
   "outputs": [],
   "source": []
  },
  {
   "cell_type": "code",
   "execution_count": null,
   "metadata": {},
   "outputs": [],
   "source": []
  },
  {
   "cell_type": "code",
   "execution_count": null,
   "metadata": {},
   "outputs": [],
   "source": []
  },
  {
   "cell_type": "code",
   "execution_count": null,
   "metadata": {},
   "outputs": [],
   "source": []
  },
  {
   "cell_type": "code",
   "execution_count": null,
   "metadata": {},
   "outputs": [],
   "source": []
  },
  {
   "cell_type": "code",
   "execution_count": 4,
   "metadata": {},
   "outputs": [
    {
     "data": {
      "text/plain": [
       "[(),\n",
       " (3,),\n",
       " (2,),\n",
       " (1,),\n",
       " (1,),\n",
       " (9,),\n",
       " (3, 2),\n",
       " (3, 1),\n",
       " (3, 1),\n",
       " (3, 9),\n",
       " (2, 1),\n",
       " (2, 1),\n",
       " (2, 9),\n",
       " (1, 1),\n",
       " (1, 9),\n",
       " (1, 9),\n",
       " (3, 2, 1),\n",
       " (3, 2, 1),\n",
       " (3, 2, 9),\n",
       " (3, 1, 1),\n",
       " (3, 1, 9),\n",
       " (3, 1, 9),\n",
       " (2, 1, 1),\n",
       " (2, 1, 9),\n",
       " (2, 1, 9),\n",
       " (1, 1, 9),\n",
       " (3, 2, 1, 1),\n",
       " (3, 2, 1, 9),\n",
       " (3, 2, 1, 9),\n",
       " (3, 1, 1, 9),\n",
       " (2, 1, 1, 9),\n",
       " (3, 2, 1, 1, 9)]"
      ]
     },
     "execution_count": 4,
     "metadata": {},
     "output_type": "execute_result"
    }
   ],
   "source": [
    "from itertools import chain, combinations\n",
    "\n",
    "s = [3,2,1,1,9]\n",
    "def all_subsets(ss):\n",
    "    return chain(*map(lambda x: combinations(ss, x), range(0, len(ss)+1)))\n",
    "list(all_subsets(s))"
   ]
  },
  {
   "cell_type": "code",
   "execution_count": 38,
   "metadata": {},
   "outputs": [
    {
     "name": "stdout",
     "output_type": "stream",
     "text": [
      "8\n"
     ]
    }
   ],
   "source": [
    "from itertools import chain, combinations\n",
    "\n",
    "def all_subsets(ss):\n",
    "    return chain(*map(lambda x: combinations(ss, x), range(0, len(ss)+1)))\n",
    "\n",
    "lst = []\n",
    "for subset in all_subsets(s):\n",
    "    lst.append(sum(subset))\n",
    "lst2 = set(lst)\n",
    "\n",
    "answer= 0\n",
    "\n",
    "while True:\n",
    "    if answer not in lst2:\n",
    "        break\n",
    "    answer += 1\n",
    "print(answer)"
   ]
  },
  {
   "cell_type": "code",
   "execution_count": null,
   "metadata": {},
   "outputs": [],
   "source": [
    "chain : chain(*iterable) 은 iterable한 객체들을 인수로 받아 하나의 iterator로 반환.\n",
    "\n",
    ">>> from itertools import chain\n",
    ">>> country = ['대한민국','스웨덴', '미국']\n",
    ">>> capital = ['서울','스톡홀름','워싱턴']\n",
    ">>> c = chain(country, capital)\n",
    ">>> next(c)\n",
    "'대한민국'\n",
    ">>> next(c)\n",
    "'스웨덴'\n",
    ">>> next(c)\n",
    "'미국'\n",
    ">>> next(c)\n",
    "'서울'\n",
    ">>> next(c)\n",
    "'스톡홀름'\n",
    ">>> next(c)\n",
    "'워싱턴'    "
   ]
  },
  {
   "cell_type": "code",
   "execution_count": null,
   "metadata": {},
   "outputs": [],
   "source": []
  },
  {
   "cell_type": "code",
   "execution_count": null,
   "metadata": {},
   "outputs": [],
   "source": [
    "https://qastack.kr/programming/464864/how-to-get-all-possible-combinations-of-a-list-s-elements"
   ]
  },
  {
   "cell_type": "code",
   "execution_count": null,
   "metadata": {},
   "outputs": [],
   "source": []
  },
  {
   "cell_type": "code",
   "execution_count": 8,
   "metadata": {},
   "outputs": [
    {
     "name": "stdout",
     "output_type": "stream",
     "text": [
      "coin : [1, 1, 2, 3, 9]\n",
      "1\n",
      "2\n",
      "3\n",
      "5\n"
     ]
    }
   ],
   "source": [
    "#수학적 풀이\n",
    "\n",
    "coin = [3,2,1,1,9]\n",
    "\n",
    "coin.sort()\n",
    "\n",
    "print('coin :', coin)\n",
    "\n",
    "target =1\n",
    "for c in coin:\n",
    "    if c<= target:\n",
    "        print(target)\n",
    "        target +=c\n",
    "        \n",
    "    else:\n",
    "        break\n",
    "        \n"
   ]
  },
  {
   "cell_type": "code",
   "execution_count": null,
   "metadata": {},
   "outputs": [],
   "source": []
  }
 ],
 "metadata": {
  "kernelspec": {
   "display_name": "Python 3",
   "language": "python",
   "name": "python3"
  },
  "language_info": {
   "codemirror_mode": {
    "name": "ipython",
    "version": 3
   },
   "file_extension": ".py",
   "mimetype": "text/x-python",
   "name": "python",
   "nbconvert_exporter": "python",
   "pygments_lexer": "ipython3",
   "version": "3.8.5"
  }
 },
 "nbformat": 4,
 "nbformat_minor": 4
}
