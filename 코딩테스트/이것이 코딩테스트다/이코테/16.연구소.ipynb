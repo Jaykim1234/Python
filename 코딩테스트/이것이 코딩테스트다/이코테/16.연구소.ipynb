{
 "cells": [
  {
   "cell_type": "code",
   "execution_count": 3,
   "metadata": {},
   "outputs": [],
   "source": [
    "import copy\n",
    "\n",
    "\n",
    "N,M = 7,7\n",
    "situation =[[2 ,0 ,0 ,0 ,1 ,1 ,0],[0 ,0 ,1 ,0 ,1 ,2 ,0],[0 ,1 ,1 ,0,1 ,0, 0],[0, 1, 0, 0, 0, 0, 0],[0, 0, 0, 0, 0, 1, 1],[0, 1, 0, 0, 0, 0, 0],[0, 1, 0 ,0 ,0 ,0, 0]]\n",
    "spots = [[i,j] for i in range(N) for j in range(M)]\n",
    "virus_spots= []\n",
    "wall_spots = []\n",
    "\n",
    "# virus\n",
    "\n",
    "for n in range(N):\n",
    "    for m in range(M):\n",
    "        if situation[n][m] == 2:\n",
    "            virus_spots.append([n,m])\n",
    "        elif situation[n][m] == 1:\n",
    "            wall_spots.append([n,m])\n"
   ]
  },
  {
   "cell_type": "code",
   "execution_count": 6,
   "metadata": {},
   "outputs": [
    {
     "output_type": "stream",
     "name": "stdout",
     "text": [
      "[[2, 2, 2, 2, 1, 1, 2], [2, 2, 1, 2, 1, 2, 2], [2, 1, 1, 2, 1, 2, 2], [2, 1, 2, 2, 2, 2, 2], [2, 2, 2, 2, 2, 1, 1], [2, 1, 2, 2, 2, 2, 2], [2, 1, 2, 2, 2, 2, 2]]\n"
     ]
    }
   ],
   "source": [
    "\n",
    "# moving\n",
    "\n",
    "m_r = [1,0,-1,0]\n",
    "m_c = [0,-1,0,1]\n",
    "\n",
    "def spread(row,col,sit):\n",
    "    if sit[row][col] == 2:\n",
    "        for i in range(4):\n",
    "            new_row = row + m_r[i]\n",
    "            new_col = col + m_c[i]\n",
    "            \n",
    "            if new_row >= 0 and new_row < N and new_col >= 0 and new_col < M:\n",
    "                if sit[new_row][new_col] == 0:\n",
    "                    sit[new_row][new_col] = 2 # spread virus\n",
    "                    spread(new_row,new_col,sit)\n",
    "            \n"
   ]
  },
  {
   "cell_type": "code",
   "execution_count": 9,
   "metadata": {},
   "outputs": [],
   "source": [
    "max_virus_count = 0\n",
    "\n",
    "def select_wall(start,count):\n",
    "    global virus_count\n",
    "    \n",
    "    if count == 3 : \n",
    "            copied_situation = copy.deepcopy(situation) # Make copied version of situation\n",
    "            for num in range(len(virus_spots)):\n",
    "                r, c = virus_list[num]\n",
    "                spread_virus(r, c, copied_situation)\n",
    "            safe_counts = sum(i.count(0) for i in copied_situation) \n",
    "            max_virus_count = max(max_virus_count,safe_counts)\n",
    "            return True\n",
    "\n",
    "    for i in range(start, N*M):\n",
    "        row = i // M\n",
    "        col = i % M\n",
    "        if situation[row][col] == 0 : \n",
    "            situation[row][col] = 1 \n",
    "            select_wall(i,count+1) # 여기서 if == 3으로 들어간다.\n",
    "            situation[row][col] = 0\n"
   ]
  },
  {
   "cell_type": "code",
   "execution_count": 17,
   "metadata": {},
   "outputs": [],
   "source": [
    "import copy\n",
    "input = sys.stdin.readline\n",
    " \n",
    "N, M = map(int, input().strip().split())\n",
    "situation = []\n",
    "for i in range(N):\n",
    "    L = list(map(int, input().strip().split()))\n",
    "    situation.append(L)\n",
    "\n",
    "spots = [[i,j] for i in range(N) for j in range(M)]\n",
    "virus_spots= []\n",
    "wall_spots = []\n",
    "max_virus_count = 0\n",
    "# virus\n",
    "\n",
    "for n in range(N):\n",
    "    for m in range(M):\n",
    "        if situation[n][m] == 2:\n",
    "            virus_spots.append([n,m])\n",
    "        elif situation[n][m] == 1:\n",
    "            wall_spots.append([n,m])\n",
    "# moving\n",
    "\n",
    "m_r = [1,0,-1,0]\n",
    "m_c = [0,-1,0,1]\n",
    "\n",
    "def spread(row,col,sit):\n",
    "    if sit[row][col] == 2:\n",
    "        for i in range(4):\n",
    "            new_row = row + m_r[i]\n",
    "            new_col = col + m_c[i]\n",
    "            \n",
    "            if new_row >= 0 and new_row < N and new_col >= 0 and new_col < M:\n",
    "                if sit[new_row][new_col] == 0:\n",
    "                    sit[new_row][new_col] = 2 # spread virus\n",
    "                    spread(new_row,new_col,sit)\n",
    "            \n",
    "def select_wall(start,count):\n",
    "    global max_virus_count\n",
    "    \n",
    "    if count == 3 : \n",
    "            copied_situation = copy.deepcopy(situation) # Make copied version of situation\n",
    "            for num in range(len(virus_spots)):\n",
    "                r, c = virus_spots[num]\n",
    "                spread(r, c, copied_situation)\n",
    "            safe_counts = sum(i.count(0) for i in copied_situation) \n",
    "            max_virus_count = max(max_virus_count,safe_counts)\n",
    "            return True\n",
    "\n",
    "    for i in range(start, N*M):\n",
    "        row = i // M\n",
    "        col = i % M\n",
    "        if situation[row][col] == 0 : \n",
    "            situation[row][col] = 1 \n",
    "            select_wall(i,count+1) # 여기서 if == 3으로 들어간다.\n",
    "            situation[row][col] = 0\n"
   ]
  },
  {
   "cell_type": "code",
   "execution_count": 20,
   "metadata": {},
   "outputs": [
    {
     "output_type": "stream",
     "name": "stdout",
     "text": [
      "27\n"
     ]
    }
   ],
   "source": [
    "select_wall(0,0)\n",
    "print(max_virus_count)"
   ]
  },
  {
   "cell_type": "code",
   "execution_count": null,
   "metadata": {},
   "outputs": [],
   "source": []
  },
  {
   "cell_type": "code",
   "execution_count": null,
   "metadata": {},
   "outputs": [],
   "source": []
  },
  {
   "cell_type": "code",
   "execution_count": null,
   "metadata": {},
   "outputs": [],
   "source": []
  },
  {
   "cell_type": "code",
   "execution_count": null,
   "metadata": {},
   "outputs": [],
   "source": []
  },
  {
   "cell_type": "code",
   "execution_count": 2,
   "metadata": {},
   "outputs": [
    {
     "output_type": "error",
     "ename": "SyntaxError",
     "evalue": "unexpected EOF while parsing (<ipython-input-2-b6100827257a>, line 12)",
     "traceback": [
      "\u001b[1;36m  File \u001b[1;32m\"<ipython-input-2-b6100827257a>\"\u001b[1;36m, line \u001b[1;32m12\u001b[0m\n\u001b[1;33m    # print(situation)\u001b[0m\n\u001b[1;37m                      ^\u001b[0m\n\u001b[1;31mSyntaxError\u001b[0m\u001b[1;31m:\u001b[0m unexpected EOF while parsing\n"
     ]
    }
   ],
   "source": [
    "for c_spot in virus_spots:\n",
    "    print(situation[c_spot[0]][c_spot[1]])\n",
    "    while situation[c_spot[0]][c_spot[1] != 1:\n",
    "        \n",
    "\n",
    "\n",
    "\n",
    "\n",
    "# for c_spot in virus_spots:\n",
    "#     while c_spot not in wall_spots:\n",
    "#         print(situation[1])\n",
    "# print(situation)"
   ]
  },
  {
   "cell_type": "code",
   "execution_count": 3,
   "metadata": {},
   "outputs": [
    {
     "output_type": "stream",
     "name": "stdout",
     "text": [
      "hi\n"
     ]
    }
   ],
   "source": [
    "print('hi')"
   ]
  },
  {
   "cell_type": "code",
   "execution_count": null,
   "metadata": {},
   "outputs": [],
   "source": []
  },
  {
   "cell_type": "code",
   "execution_count": null,
   "metadata": {},
   "outputs": [],
   "source": []
  },
  {
   "cell_type": "code",
   "execution_count": null,
   "metadata": {},
   "outputs": [],
   "source": []
  },
  {
   "cell_type": "code",
   "execution_count": 15,
   "metadata": {},
   "outputs": [],
   "source": [
    "# N,M = 7,7\n",
    "# situation =[[2 ,0 ,0 ,0 ,1 ,1 ,0],[0 ,0 ,1 ,0 ,1 ,2 ,0],[0 ,1 ,1 ,0,1 ,0, 0],[0, 1, 0, 0, 0, 0, 0],[0, 0, 0, 0, 0, 1, 1],[0, 1, 0, 0, 0, 0, 0],[0, 1, 0 ,0 ,0 ,0, 0]]\n",
    "# spots = [[i,j] for i in range(N) for j in range(M)]\n",
    "# virus_spots= []\n",
    "# wall_spots = []\n",
    "\n",
    "# location = [-1,-1]\n",
    "# for row in situation:\n",
    "#     location[0] += 1\n",
    "#     for i in row:\n",
    "#         location[1] += 1\n",
    "#         location \n",
    "#         if location[1] >= M:\n",
    "#             location[1] -= M\n",
    "            \n",
    "#         if i == 2:\n",
    "#             virus_spots += [location] # tuple을 안쓰면 외부변수가 바뀌면 내부 변수도 같이 변한다!! \n",
    "#         elif i == 1:\n",
    "#             wall_spots += [location]\n",
    "#         else:\n",
    "#             pass"
   ]
  },
  {
   "cell_type": "code",
   "execution_count": 4,
   "metadata": {},
   "outputs": [
    {
     "output_type": "error",
     "ename": "TypeError",
     "evalue": "'tuple' object does not support item assignment",
     "traceback": [
      "\u001b[1;31m---------------------------------------------------------------------------\u001b[0m",
      "\u001b[1;31mTypeError\u001b[0m                                 Traceback (most recent call last)",
      "\u001b[1;32m<ipython-input-4-8e14eceae94a>\u001b[0m in \u001b[0;36m<module>\u001b[1;34m\u001b[0m\n\u001b[0;32m      1\u001b[0m \u001b[1;32mfor\u001b[0m \u001b[0mc_spot\u001b[0m \u001b[1;32min\u001b[0m \u001b[0mvirus_spots\u001b[0m\u001b[1;33m:\u001b[0m\u001b[1;33m\u001b[0m\u001b[1;33m\u001b[0m\u001b[0m\n\u001b[0;32m      2\u001b[0m     \u001b[1;32mwhile\u001b[0m \u001b[0mc_spot\u001b[0m \u001b[1;32mnot\u001b[0m \u001b[1;32min\u001b[0m \u001b[0mwall_spots\u001b[0m\u001b[1;33m:\u001b[0m\u001b[1;33m\u001b[0m\u001b[1;33m\u001b[0m\u001b[0m\n\u001b[1;32m----> 3\u001b[1;33m         \u001b[0mc_spot\u001b[0m\u001b[1;33m[\u001b[0m\u001b[1;36m1\u001b[0m\u001b[1;33m]\u001b[0m \u001b[1;33m+=\u001b[0m \u001b[1;36m1\u001b[0m\u001b[1;33m\u001b[0m\u001b[1;33m\u001b[0m\u001b[0m\n\u001b[0m\u001b[0;32m      4\u001b[0m         \u001b[0msituation\u001b[0m\u001b[1;33m[\u001b[0m\u001b[0mc_spot\u001b[0m\u001b[1;33m[\u001b[0m\u001b[1;36m1\u001b[0m\u001b[1;33m]\u001b[0m\u001b[1;33m]\u001b[0m \u001b[1;33m=\u001b[0m \u001b[1;36m2\u001b[0m\u001b[1;33m\u001b[0m\u001b[1;33m\u001b[0m\u001b[0m\n\u001b[0;32m      5\u001b[0m \u001b[0mprint\u001b[0m\u001b[1;33m(\u001b[0m\u001b[0msituation\u001b[0m\u001b[1;33m)\u001b[0m\u001b[1;33m\u001b[0m\u001b[1;33m\u001b[0m\u001b[0m\n",
      "\u001b[1;31mTypeError\u001b[0m: 'tuple' object does not support item assignment"
     ]
    }
   ],
   "source": [
    "# for c_spot in virus_spots:\n",
    "#     while c_spot not in wall_spots:\n",
    "#         c_spot[1] += 1\n",
    "#         situation[c_spot[1]] = 2\n",
    "# print(situation)\n",
    "\n"
   ]
  },
  {
   "cell_type": "code",
   "execution_count": null,
   "metadata": {},
   "outputs": [],
   "source": []
  }
 ],
 "metadata": {
  "kernelspec": {
   "name": "python391jvsc74a57bd04624a21b9b8434bae3df04a441619bfbe200a00851628072ab16cfc646866db7",
   "display_name": "Python 3.9.1 64-bit ('crolling': virtualenvwrapper)"
  },
  "language_info": {
   "codemirror_mode": {
    "name": "ipython",
    "version": 3
   },
   "file_extension": ".py",
   "mimetype": "text/x-python",
   "name": "python",
   "nbconvert_exporter": "python",
   "pygments_lexer": "ipython3",
   "version": "3.9.1"
  }
 },
 "nbformat": 4,
 "nbformat_minor": 4
}