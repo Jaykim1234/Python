{
 "cells": [
  {
   "cell_type": "markdown",
   "metadata": {},
   "source": [
    "# Importing libraries"
   ]
  },
  {
   "cell_type": "code",
   "execution_count": null,
   "metadata": {},
   "outputs": [],
   "source": [
    "import pandas as pd\n",
    "import numpy as np\n",
    "import statsmodels.api as sm\n",
    "from matplotlib import pyplot as plt\n",
    "##ONLY IF you have not installed plotnine before##\n",
    "# !pip install plotnine (in anaconda prompt)\n",
    "from plotnine import *"
   ]
  },
  {
   "cell_type": "markdown",
   "metadata": {},
   "source": [
    "# Importing data"
   ]
  },
  {
   "cell_type": "code",
   "execution_count": null,
   "metadata": {},
   "outputs": [],
   "source": [
    "eu = pd.read_csv('~/YOUR_PATH/NL_FR_BE_data_monthly.csv')\n",
    "ff = pd.read_csv('~/YOUR_PATH/Europe_FF_Factors.csv')\n",
    "\n",
    "# look at the data\n",
    "display(eu)\n",
    "display(ff)"
   ]
  },
  {
   "cell_type": "markdown",
   "metadata": {},
   "source": [
    "# Defining sorting function"
   ]
  },
  {
   "cell_type": "code",
   "execution_count": null,
   "metadata": {},
   "outputs": [],
   "source": [
    "# arguments are\n",
    "# x: a vector of returns\n",
    "# P: the number of portfolios we want\n",
    "# we assign P=10 as a default value, so unless we want \n",
    "# a different number of portfolios than 10, \n",
    "# we do not need to set a value for P\n",
    "def sortPort(x, P = 10):\n",
    "    # assign a portfolio-number to each stock-observation in a particular month\n",
    "    ranks = pd.qcut(x , P, labels = False, duplicates ='drop') + 1\n",
    "    # return the portfolio-number and add a 'p' and a leading zero in front\n",
    "    ranks = ranks.apply(lambda x: 'p'+str(int(x)).zfill(2) \n",
    "                        if not pd.isnull(x) else x)\n",
    "    return ranks"
   ]
  },
  {
   "cell_type": "markdown",
   "metadata": {},
   "source": [
    "# Calculating momentum returns"
   ]
  },
  {
   "cell_type": "code",
   "execution_count": null,
   "metadata": {},
   "outputs": [],
   "source": [
    "# lag 11-month return by 2 months\n",
    "eu['RET11_lag2'] = eu.groupby('ISIN')['RET11'].shift(2)\n",
    "display(eu)"
   ]
  },
  {
   "cell_type": "code",
   "execution_count": null,
   "metadata": {},
   "outputs": [],
   "source": [
    "# apply our sortPort function to each month (groupby 'mdate') separately\n",
    "# here, we are using the lagged 11-month return as a sorting variable\n",
    "eu['momport'] = eu.groupby(['mdate'])['RET11_lag2'].apply(lambda x: \n",
    "                                                          sortPort(x))\n",
    "display(eu)"
   ]
  },
  {
   "cell_type": "code",
   "execution_count": null,
   "metadata": {},
   "outputs": [],
   "source": [
    "# calculate (equal weighted) portfolio returns \n",
    "# for each of the 10 portfolios in each month\n",
    "mom_portfolios = eu.groupby(['mdate','momport'])['RET'].mean()\n",
    "mom_portfolios = mom_portfolios.reset_index()\n",
    "display(mom_portfolios)"
   ]
  },
  {
   "cell_type": "code",
   "execution_count": null,
   "metadata": {},
   "outputs": [],
   "source": [
    "# convert from long to wide format\n",
    "mom_portfolios = mom_portfolios.pivot(index = 'mdate', \n",
    "                                      columns = 'momport', \n",
    "                                      values = 'RET')\n",
    "display(mom_portfolios)"
   ]
  },
  {
   "cell_type": "code",
   "execution_count": null,
   "metadata": {},
   "outputs": [],
   "source": [
    "# calculate long-short winner-loser portfolio (excess) return\n",
    "mom_portfolios['MOM'] = mom_portfolios['p10'] - mom_portfolios['p01']\n",
    "display(mom_portfolios)"
   ]
  },
  {
   "cell_type": "markdown",
   "metadata": {},
   "source": [
    "# Analyze momentum returns"
   ]
  },
  {
   "cell_type": "code",
   "execution_count": null,
   "metadata": {},
   "outputs": [],
   "source": [
    "# merge our portfolios with FF factors\n",
    "portfolios = mom_portfolios.merge(ff, on = 'mdate')\n",
    "display(portfolios)"
   ]
  },
  {
   "cell_type": "code",
   "execution_count": null,
   "metadata": {},
   "outputs": [],
   "source": [
    "# run a Fama-French 3-factor regression\n",
    "# notice: MOM is already an excess return (self-financing portfolio)\n",
    "# if you want to run the regression on another portfolio, \n",
    "# e.g., the winners (p10)\n",
    "# you need to sutract the risk-free rate! \n",
    "# => formula=\"p10-RF~MktRF+HML+SMB\"\n",
    "x = portfolios[['MktRF', 'HML', 'SMB']]\n",
    "x = sm.add_constant(x)\n",
    "reg = sm.OLS(portfolios['MOM'], x).fit(cov_type = 'HAC', \n",
    "                                       cov_kwds = {'maxlags': 11})\n",
    "\n",
    "# summarize the regression result\n",
    "display(reg.summary())"
   ]
  },
  {
   "cell_type": "code",
   "execution_count": null,
   "metadata": {},
   "outputs": [],
   "source": [
    "# calculate the standard deviation of the residuals (for the information ratio)\n",
    "residuals = reg.resid\n",
    "sigma_epsilon = np.std(residuals)\n",
    "\n",
    "# save regression coefficients\n",
    "coefs = reg.params"
   ]
  },
  {
   "cell_type": "code",
   "execution_count": null,
   "metadata": {},
   "outputs": [],
   "source": [
    "# Information Ratio (risk-adjusted abnormal returns)\n",
    "print('Information Ratio =', np.round(coefs[0]/sigma_epsilon*np.sqrt(12),4))\n",
    "\n",
    "# Sharpe Ratio (risk-adjusted returns)\n",
    "print('Sharpe Ratio =', np.round(np.mean(portfolios['MOM'])/\n",
    "                                 np.std(portfolios['MOM'])*np.sqrt(12),4))"
   ]
  },
  {
   "cell_type": "markdown",
   "metadata": {},
   "source": [
    "# Plotting cumulated returns"
   ]
  },
  {
   "cell_type": "code",
   "execution_count": null,
   "metadata": {},
   "outputs": [],
   "source": [
    "# convert portfolios returns to long format (plotnine ggplot requires this)\n",
    "plotdata = portfolios.melt(id_vars = ['mdate'], \n",
    "                           var_name = 'portfolio', \n",
    "                           value_name = 'RET')\n",
    "display(plotdata)"
   ]
  },
  {
   "cell_type": "code",
   "execution_count": null,
   "metadata": {},
   "outputs": [],
   "source": [
    "# merge each return with risk-free rate in that month\n",
    "plotdata = plotdata.merge(ff[['RF', 'mdate']], on = 'mdate')\n",
    "display(plotdata)"
   ]
  },
  {
   "cell_type": "code",
   "execution_count": null,
   "metadata": {},
   "outputs": [],
   "source": [
    "# calculate gross return = 1 + portfolio return (not excess!)\n",
    "# so, since all of the factors are long-short portfolios,\n",
    "# we need to add the risk-free rate \n",
    "# (that's what you earn on your collateral for the short-side)\n",
    "# if we want to plot the 10 past-return-sorted portfolios later\n",
    "# then we do not need to add the risk-free rate, \n",
    "# because these are not excess returns!\n",
    "# so we filter by saying, whenever the portfolio is NOT in \n",
    "# this list of portfolio names, by using \"in\" and \"not in\"\n",
    "\n",
    "ls_ports = ['MOM','MktRF','HML','SMB','WML']\n",
    "\n",
    "def makeGrossReturn(plotdata):\n",
    "    if plotdata['portfolio'] in ls_ports:\n",
    "        return 1 + plotdata['RET'] + plotdata['RF']\n",
    "    if plotdata['portfolio'] not in ls_ports:\n",
    "        return 1 + plotdata['RET']"
   ]
  },
  {
   "cell_type": "code",
   "execution_count": null,
   "metadata": {},
   "outputs": [],
   "source": [
    "plotdata['grossRET'] = plotdata.apply(makeGrossReturn, axis = 1)\n",
    "display(plotdata)"
   ]
  },
  {
   "cell_type": "code",
   "execution_count": null,
   "metadata": {},
   "outputs": [],
   "source": [
    "print(plotdata['mdate'].min())"
   ]
  },
  {
   "cell_type": "code",
   "execution_count": null,
   "metadata": {},
   "outputs": [],
   "source": [
    "# set 1 dollar for first date, i.e., end of July 1991 (your initial investment)\n",
    "initial_inv = plotdata.portfolio.unique()\n",
    "initial_inv = pd.DataFrame(initial_inv, columns = ['portfolio'])\n",
    "display(initial_inv)"
   ]
  },
  {
   "cell_type": "code",
   "execution_count": null,
   "metadata": {},
   "outputs": [],
   "source": [
    "initial_inv[['mdate','return','RF','grossRET']] = [199107, None, None, 1]\n",
    "display(initial_inv)"
   ]
  },
  {
   "cell_type": "code",
   "execution_count": null,
   "metadata": {},
   "outputs": [],
   "source": [
    "plotdata1 = pd.concat([initial_inv, plotdata])\n",
    "display(plotdata1.head(30))"
   ]
  },
  {
   "cell_type": "code",
   "execution_count": null,
   "metadata": {},
   "outputs": [],
   "source": [
    "# calculate cumulated return (that's why we needed the 1+ earlier)\n",
    "# now we get 1*(1+return_1stmonth)*(1+return_2ndmonth)*...\n",
    "# so the cumulated amount of dollars of that portfolio\n",
    "plotdata1['cumRET'] = plotdata1.groupby(['portfolio']).grossRET.cumprod()\n",
    "display(plotdata1)"
   ]
  },
  {
   "cell_type": "code",
   "execution_count": null,
   "metadata": {},
   "outputs": [],
   "source": [
    "# convert mdates to actual dates (plotnine ggplot then knows it is a date)\n",
    "plotdata1['date'] = pd.to_datetime(\n",
    "    plotdata1['mdate'],format='%Y%m') + pd.tseries.offsets.MonthEnd(1)\n",
    "display(plotdata1)"
   ]
  },
  {
   "cell_type": "code",
   "execution_count": null,
   "metadata": {},
   "outputs": [],
   "source": [
    "# define the portfolios to be plotted in 1st and 2nd plot\n",
    "ports1 = ['MOM','SMB','HML','MktRF','RF']\n",
    "ports2 = ['p01','p02','p03','p04','p05',\n",
    "         'p06','p07','p08','p09','p10']"
   ]
  },
  {
   "cell_type": "markdown",
   "metadata": {},
   "source": [
    "# Plots (Using plotnine)"
   ]
  },
  {
   "cell_type": "code",
   "execution_count": null,
   "metadata": {},
   "outputs": [],
   "source": [
    "# create two ggplots: one that plots the cumulated returns \n",
    "# (of just MOM, MktRF, HML, SMB and RF) with a log(10)-scale\n",
    "# and the second that plots p01 up to p10 also with a log(10)-scale\n",
    "plot1 = plotdata1[plotdata1['portfolio'].isin(ports1)]\n",
    "plot2 = plotdata1[plotdata1['portfolio'].isin(ports2)]"
   ]
  },
  {
   "cell_type": "code",
   "execution_count": null,
   "metadata": {},
   "outputs": [],
   "source": [
    "print(\n",
    "    ggplot(plot1)\n",
    "    + aes(x = 'date', y = 'cumRET', color = 'portfolio')\n",
    "    + geom_line()\n",
    "    + xlab('Date')\n",
    "    + ylab('Portfolio value in USD')\n",
    "    + scale_y_log10()\n",
    "    + scale_x_date(breaks = ('1 year'))\n",
    "    + theme(axis_text_x = element_text(rotation = 90))\n",
    ")"
   ]
  },
  {
   "cell_type": "code",
   "execution_count": null,
   "metadata": {},
   "outputs": [],
   "source": [
    "print(\n",
    "    ggplot(plot2)\n",
    "    + aes(x = 'date', y = 'cumRET', color = 'portfolio')\n",
    "    + geom_line()\n",
    "    + xlab('Date')\n",
    "    + ylab('Portfolio value in USD')\n",
    "    + scale_y_log10()\n",
    "    + scale_x_date(breaks = ('1 year'))\n",
    "    + theme(axis_text_x = element_text(rotation = 90))\n",
    ")"
   ]
  },
  {
   "cell_type": "markdown",
   "metadata": {},
   "source": [
    "# Plots (Using matplotlib)"
   ]
  },
  {
   "cell_type": "code",
   "execution_count": null,
   "metadata": {},
   "outputs": [],
   "source": [
    "# Convert portfolio values (plotdata1) to wide format (for matplotlib)\n",
    "pltdata = plotdata1.pivot_table(index=['date'], \n",
    "                                columns='portfolio', \n",
    "                                values='cumRET').reset_index()\n",
    "\n",
    "# create two ggplots: one that plots the cumulated returns \n",
    "# (of just MOM, MktRF, HML, SMB and RF) with a log(10)-scale\n",
    "# and the second that plots p01 up to p10 also with a log(10)-scale"
   ]
  },
  {
   "cell_type": "code",
   "execution_count": null,
   "metadata": {},
   "outputs": [],
   "source": [
    "plt.figure(figsize=(8,6))\n",
    "plt.title('Value of Investment')\n",
    "\n",
    "for portfolio in pltdata:\n",
    "    if portfolio in ports1:\n",
    "        plt.plot(pltdata.date, pltdata[portfolio], label = portfolio)\n",
    "\n",
    "plt.xlabel('Date')\n",
    "plt.ylabel('Portfolio value in USD')\n",
    "plt.legend()\n",
    "\n",
    "plt.yscale('log')\n",
    "\n",
    "plt.show()"
   ]
  },
  {
   "cell_type": "code",
   "execution_count": null,
   "metadata": {},
   "outputs": [],
   "source": [
    "plt.figure(figsize=(8,6))\n",
    "plt.title('Value of Investment')\n",
    "\n",
    "for portfolio in pltdata:\n",
    "    if portfolio != 'date':\n",
    "        if portfolio in ports2:\n",
    "            plt.plot(pltdata.date, \n",
    "                     pltdata[portfolio], \n",
    "                     label = portfolio)\n",
    "\n",
    "plt.xlabel('Date')\n",
    "plt.ylabel('Portfolio value in USD')\n",
    "plt.legend(loc = 'center left', bbox_to_anchor = (1, 0.5))\n",
    "\n",
    "plt.yscale('log')\n",
    "\n",
    "plt.show()"
   ]
  }
 ],
 "metadata": {
  "kernelspec": {
   "display_name": "Python 3",
   "language": "python",
   "name": "python3"
  },
  "language_info": {
   "codemirror_mode": {
    "name": "ipython",
    "version": 3
   },
   "file_extension": ".py",
   "mimetype": "text/x-python",
   "name": "python",
   "nbconvert_exporter": "python",
   "pygments_lexer": "ipython3",
   "version": "3.7.10"
  }
 },
 "nbformat": 4,
 "nbformat_minor": 4
}
