{
 "cells": [
  {
   "cell_type": "markdown",
   "metadata": {},
   "source": [
    "I have gathered all the reports from various institutions or companies. Here I would like to count the number of recommendations for each stocks."
   ]
  },
  {
   "cell_type": "code",
   "execution_count": null,
   "metadata": {},
   "outputs": [],
   "source": [
    "import pandas as pd\n",
    "import numpy as np\n",
    "import re\n",
    "# !pip install openpyxl"
   ]
  },
  {
   "cell_type": "code",
   "execution_count": 42,
   "metadata": {},
   "outputs": [],
   "source": [
    "df_all = pd.read_excel(r\"C:\\Users\\Jinhyun\\Documents\\GitHub\\Python\\Investment\\Jan stock summary\\data2.xlsx\", sheet_name=None, header = 1)"
   ]
  },
  {
   "cell_type": "code",
   "execution_count": 92,
   "metadata": {},
   "outputs": [
    {
     "name": "stdout",
     "output_type": "stream",
     "text": [
      "*************************************\n",
      "Warning!!\n",
      "No ticker or symbol\n",
      "Need an addittional action\n",
      "Report name:  Best Value-Stock Picks - Best V\n",
      "Report columns:  Index(['Stock', 'P/E ratio (based on trailing 12 months’ earnings)',\n",
      "       'Price/book ratio', 'Dividend yield'],\n",
      "      dtype='object')\n",
      "*************************************\n",
      "*************************************\n",
      "Counted TICKERS\n"
     ]
    },
    {
     "data": {
      "text/html": [
       "<div>\n",
       "<style scoped>\n",
       "    .dataframe tbody tr th:only-of-type {\n",
       "        vertical-align: middle;\n",
       "    }\n",
       "\n",
       "    .dataframe tbody tr th {\n",
       "        vertical-align: top;\n",
       "    }\n",
       "\n",
       "    .dataframe thead th {\n",
       "        text-align: right;\n",
       "    }\n",
       "</style>\n",
       "<table border=\"1\" class=\"dataframe\">\n",
       "  <thead>\n",
       "    <tr style=\"text-align: right;\">\n",
       "      <th></th>\n",
       "      <th>TICKER</th>\n",
       "      <th>COUNT</th>\n",
       "    </tr>\n",
       "  </thead>\n",
       "  <tbody>\n",
       "    <tr>\n",
       "      <th>0</th>\n",
       "      <td>PYPL</td>\n",
       "      <td>10</td>\n",
       "    </tr>\n",
       "    <tr>\n",
       "      <th>1</th>\n",
       "      <td>AMZN</td>\n",
       "      <td>10</td>\n",
       "    </tr>\n",
       "    <tr>\n",
       "      <th>2</th>\n",
       "      <td>CRM</td>\n",
       "      <td>9</td>\n",
       "    </tr>\n",
       "    <tr>\n",
       "      <th>3</th>\n",
       "      <td>DIS</td>\n",
       "      <td>8</td>\n",
       "    </tr>\n",
       "    <tr>\n",
       "      <th>4</th>\n",
       "      <td>AAPL</td>\n",
       "      <td>8</td>\n",
       "    </tr>\n",
       "    <tr>\n",
       "      <th>...</th>\n",
       "      <td>...</td>\n",
       "      <td>...</td>\n",
       "    </tr>\n",
       "    <tr>\n",
       "      <th>605</th>\n",
       "      <td>XRT</td>\n",
       "      <td>1</td>\n",
       "    </tr>\n",
       "    <tr>\n",
       "      <th>606</th>\n",
       "      <td>SPGI</td>\n",
       "      <td>1</td>\n",
       "    </tr>\n",
       "    <tr>\n",
       "      <th>607</th>\n",
       "      <td>POOL</td>\n",
       "      <td>1</td>\n",
       "    </tr>\n",
       "    <tr>\n",
       "      <th>608</th>\n",
       "      <td>ESTE</td>\n",
       "      <td>1</td>\n",
       "    </tr>\n",
       "    <tr>\n",
       "      <th>609</th>\n",
       "      <td>AMCR</td>\n",
       "      <td>1</td>\n",
       "    </tr>\n",
       "  </tbody>\n",
       "</table>\n",
       "<p>610 rows × 2 columns</p>\n",
       "</div>"
      ],
      "text/plain": [
       "    TICKER  COUNT\n",
       "0     PYPL     10\n",
       "1     AMZN     10\n",
       "2      CRM      9\n",
       "3      DIS      8\n",
       "4     AAPL      8\n",
       "..     ...    ...\n",
       "605    XRT      1\n",
       "606   SPGI      1\n",
       "607   POOL      1\n",
       "608   ESTE      1\n",
       "609   AMCR      1\n",
       "\n",
       "[610 rows x 2 columns]"
      ]
     },
     "execution_count": 92,
     "metadata": {},
     "output_type": "execute_result"
    }
   ],
   "source": [
    "def processing(df_all, min_count, save):\n",
    "    report_lst = list(df_all.keys())\n",
    "    emp_lst = []\n",
    "\n",
    "    for report in report_lst:\n",
    "        check = True\n",
    "        report_cols = list(df_all[report].columns)\n",
    "        for col in report_cols:\n",
    "            if col in ['SYMBOL','Symbol','TICKER', 'Ticker', 'Stock (ticker)', 'Company / Ticker']:\n",
    "                if '(' in str(list(df_all[report][col])[0]):\n",
    "                    tmp_lst = list(map(lambda x : re.findall('\\(([^)]+)', x), list(df_all[report][col])))\n",
    "                    emp_lst.append(sum(tmp_lst, []))\n",
    "                else:\n",
    "                    emp_lst.append(list(df_all[report][col]))\n",
    "                check = False\n",
    "\n",
    "        if check:\n",
    "            print(\"*************************************\")\n",
    "            print(\"Warning!!\")\n",
    "            print(\"No ticker or symbol\")\n",
    "            print(\"Need an addittional action\")\n",
    "            print(\"Report name: \", report)\n",
    "            print(\"Report columns: \", df_all[report].columns)\n",
    "            print(\"*************************************\")\n",
    "    print('*************************************')\n",
    "    print('Counted TICKERS')\n",
    "    result = sum(emp_lst,[])\n",
    "    # count_result =[(i, result.count(i)) for i in result if result.count(i) >= min_count]\n",
    "    count_result =[(i, result.count(i)) for i in result]\n",
    "    result_rank = pd.DataFrame(sorted(list(set(count_result)), key=lambda x : x[1], reverse = True), columns = ['TICKER','COUNT'])\n",
    "    # print(result)\n",
    "\n",
    "    if save.upper() == 'YES':\n",
    "        result_rank.to_excel(f'result_rank_all.xlsx')\n",
    "\n",
    "    return result_rank\n",
    "processing(df_all, 5,'yes')"
   ]
  },
  {
   "cell_type": "code",
   "execution_count": 90,
   "metadata": {},
   "outputs": [
    {
     "name": "stdout",
     "output_type": "stream",
     "text": [
      "*************************************\n",
      "Warning!!\n",
      "No ticker or symbol\n",
      "Need an addittional action\n",
      "Report name:  Best Value-Stock Picks - Best V\n",
      "Report columns:  Index(['Stock', 'P/E ratio (based on trailing 12 months’ earnings)',\n",
      "       'Price/book ratio', 'Dividend yield'],\n",
      "      dtype='object')\n",
      "*************************************\n",
      "*************************************\n",
      "Counted TICKERS\n",
      "{'Fastest-Growing Stocks Expectin': [], \"Analysts' Favorite S&P 500 Valu\": ['ALK'], 'Analysts’ Price Targets, S&P 50': ['AMZN'], 'Dividend Growth Stocks - Divide': [], 'Consumer Discretionary Sector -': ['AMZN'], 'MORGAN STANLEY’S FAVORITE STOCK': [], 'NASDAQ 100 REBOUND CANDIDATES -': ['AMZN', 'FB', 'PYPL'], 'Inflation-sensitive Stocks - In': ['AAPL', 'CRM', 'MSFT', 'PYPL'], 'WOLFE’S STOCK PICKS FOR A STEEP': [], 'THESE STOCKS CAN DO WELL WHEN I': ['DIS'], 'Top Value S&P 500 Stocks - Top ': [], 'GOLDMAN’S EARNINGS UPSIDE_DOWNS': ['BA'], 'EVERCORE ISI’S “AT THE MARGINS”': [], '25 Cheapest Stocks - 25 Cheapes': [], 'JPMORGAN_ JANUARY FOCUS LIST - ': ['ALK', 'FB', 'AAPL'], 'Stocks reporting next week usua': [], 'Worst S&P 500 performers from 5': ['PYPL'], 'Semiconductor stock screen - Se': [], 'Sector Themes in 2022 - Sector ': [], 'GOLDMAN SACHS’ CHEAP AND HIGH-V': ['FB'], 'RATE HIKE DOW WINNERS _ LOSERS ': ['BA', 'CRM'], '14 bank stocks expected to achi': [], 'Cheap Russell 1000 stocks based': [], 'BANK OF AMERICA’S FAVORITE SEMI': [], 'Russell 1000 companies with hig': [], 'Consistent winners when tech is': [], '39 stocks in the S&P 500 that h': ['CRM'], 'CREDIT SUISSE’S TOP PICKS FOR J': ['MSFT', 'AMZN', 'DIS'], 'Cash Cow Value Stocks - Cash Co': [], 'These big tech stocks have drop': ['PYPL', 'CRM'], 'DIVIDEND ETF TOP 10 STOCKS YTD ': [], 'RETURN DURING 7 BIGGEST MONTHLY': ['BA'], '20 cheap value stocks - 20 chea': [], 'RBC CAPITAL MARKETS_ TOP IDEAS ': ['AMZN'], '23 dividend stocks that can pas': [], 'BANK OF AMERICA’S TOP U.S. STOC': [], 'Goldman says to pick stocks in ': ['AAPL'], 'The ‘best’ dividend compounders': [], 'RBC’S LONG-TERM PICKS FOR PATIE': ['PYPL'], 'Goldman’s favorite dividend and': ['AAPL'], 'Wall Street analysts’ favorite ': ['CRM', 'BA', 'DIS', 'MSFT', 'AAPL', 'ALK', 'PYPL', 'CRM'], 'GOLDMAN SACHS_ TOP STOCKS FOR 2': ['AMZN', 'BA'], 'BANK OF AMERICA’S TOP PICKS FOR': ['DIS'], 'Stocks in bear markets that ana': ['ALK', 'PYPL', 'BA', 'DIS'], 'CHEAPEST STOCKS FOR 2022 - CHEA': ['ALK'], \"Wall Street's favorite Nasdaq s\": ['AMZN', 'MSFT'], \"Wall Street's favorite Dow stoc\": ['CRM', 'DIS', 'MSFT'], \"Barron's Stock Picks for 2022 -\": [], \"BofA's Top Stock Picks For 2022\": ['DIS'], 'WELLS FARGO’S DOWNSIDE PROTECTI': ['FB', 'MSFT', 'AAPL'], 'STOCKS WITH EARNINGS STABILITY ': ['FB', 'PYPL'], 'JEFFERIES TOP STOCK PICKS FOR 2': ['AMZN'], 'JPMORGAN’S TOP INTERNET STOCK P': ['AMZN', 'FB'], 'UBS’ HIGH CONVICTION STOCK PICK': ['ALK', 'MSFT'], 'Stocks that work well when the ': [], 'STOCKS WITH FAST REVENUE GROWTH': ['PYPL', 'FB'], \"S&P 500 Sectors' Cheapest Stock\": ['ALK'], 'JEFFERIES_ INFLATION STOCK PICK': ['BA'], 'Dividend-stock screen results -': [], 'S&P500, Market Cap $10bn, GPM 5': ['MSFT', 'FB'], 'JP Morgan’s Top Picks for 2022 ': ['AMZN', 'AAPL', 'DIS', 'PYPL'], 'MORGAN STANLEY’S LARGE CAP DEFE': [], 'Investors eagerly buy the dip —': ['CRM', 'BA', 'ALK'], 'STOCKS WITH EARNINGS UPSIDE FOR': [], 'GOLDMAN STOCK PICKS WITH HIGH P': [], 'UBS’ HIGH CONVICTION STOCKS WIT': ['CRM', 'AAPL'], \"Barclays' 2022 earnings revisio\": []}\n"
     ]
    }
   ],
   "source": [
    "def processing2(df_all, min_count, save):\n",
    "    report_lst = list(df_all.keys())\n",
    "    result_rank = list(processing(df_all, min_count, save)['TICKER'])\n",
    "    filter_lst = []\n",
    "    result_dic = {}\n",
    "    for report in report_lst:\n",
    "        emp_lst = []\n",
    "        report_cols = list(df_all[report].columns)\n",
    "        for col in report_cols:\n",
    "            if col in ['SYMBOL','Symbol','TICKER', 'Ticker', 'Stock (ticker)', 'Company / Ticker']:\n",
    "                if '(' in str(list(df_all[report][col])[0]):\n",
    "                    emp_lst.append(sum(list(map(lambda x : re.findall('\\(([^)]+)', x), list(df_all[report][col]))),[]))\n",
    "                else:\n",
    "                    emp_lst.append(list(df_all[report][col]))\n",
    "                \n",
    "                emp_lst = sum(emp_lst, [])\n",
    "                emp_lst = [i for i in emp_lst if i in result_rank]\n",
    "                result_dic[report] = emp_lst\n",
    "  \n",
    "    with open(f'stocks by report over {min_count} times.txt', 'w', encoding = 'UTF-8') as f:\n",
    "        for article, stocks in result_dic.items():\n",
    "            f.write(f'{article} : {stocks}\\n')\n",
    "    print(result_dic)\n",
    "\n",
    "\n",
    "processing2(df_all, 8,'yes')"
   ]
  },
  {
   "cell_type": "code",
   "execution_count": null,
   "metadata": {},
   "outputs": [],
   "source": []
  }
 ],
 "metadata": {
  "interpreter": {
   "hash": "7705c2ccca148da221e0e1afab93e7ead3fbbeadf8d47ae56fb7d81a9de51715"
  },
  "kernelspec": {
   "display_name": "Python 3.7.11 64-bit (conda)",
   "language": "python",
   "name": "python3"
  },
  "language_info": {
   "codemirror_mode": {
    "name": "ipython",
    "version": 3
   },
   "file_extension": ".py",
   "mimetype": "text/x-python",
   "name": "python",
   "nbconvert_exporter": "python",
   "pygments_lexer": "ipython3",
   "version": "3.7.11"
  },
  "orig_nbformat": 4
 },
 "nbformat": 4,
 "nbformat_minor": 2
}
