{
 "cells": [
  {
   "cell_type": "code",
   "execution_count": 34,
   "metadata": {},
   "outputs": [],
   "source": [
    "import pandas as pd\n",
    "import re\n",
    "# !pip install openpyxl"
   ]
  },
  {
   "cell_type": "code",
   "execution_count": 35,
   "metadata": {},
   "outputs": [],
   "source": [
    "df_all = pd.read_excel(r\"C:\\Users\\Jinhyun\\Documents\\GitHub\\Python\\Investment\\Stock size by sub-sector\\S&P500_Sector Breakdown - trimmed.xlsx\", sheet_name=None )\n"
   ]
  },
  {
   "cell_type": "code",
   "execution_count": 36,
   "metadata": {},
   "outputs": [
    {
     "data": {
      "text/plain": [
       "dict_keys(['S&P500 Sector - S&P500 Sector L'])"
      ]
     },
     "execution_count": 36,
     "metadata": {},
     "output_type": "execute_result"
    }
   ],
   "source": [
    "df_all.keys()"
   ]
  },
  {
   "cell_type": "code",
   "execution_count": 37,
   "metadata": {},
   "outputs": [
    {
     "data": {
      "text/html": [
       "<div>\n",
       "<style scoped>\n",
       "    .dataframe tbody tr th:only-of-type {\n",
       "        vertical-align: middle;\n",
       "    }\n",
       "\n",
       "    .dataframe tbody tr th {\n",
       "        vertical-align: top;\n",
       "    }\n",
       "\n",
       "    .dataframe thead th {\n",
       "        text-align: right;\n",
       "    }\n",
       "</style>\n",
       "<table border=\"1\" class=\"dataframe\">\n",
       "  <thead>\n",
       "    <tr style=\"text-align: right;\">\n",
       "      <th></th>\n",
       "      <th>SUB-SECTOR</th>\n",
       "      <th>#1</th>\n",
       "      <th>#2</th>\n",
       "      <th>#3</th>\n",
       "    </tr>\n",
       "  </thead>\n",
       "  <tbody>\n",
       "    <tr>\n",
       "      <th>0</th>\n",
       "      <td>Diversified Telecommunication Services</td>\n",
       "      <td>NaN</td>\n",
       "      <td>NaN</td>\n",
       "      <td>NaN</td>\n",
       "    </tr>\n",
       "    <tr>\n",
       "      <th>1</th>\n",
       "      <td>Wireless Telecommunication Services</td>\n",
       "      <td>NaN</td>\n",
       "      <td>NaN</td>\n",
       "      <td>NaN</td>\n",
       "    </tr>\n",
       "    <tr>\n",
       "      <th>2</th>\n",
       "      <td>Entertainment</td>\n",
       "      <td>CMCSA</td>\n",
       "      <td>DIS</td>\n",
       "      <td>NFLX</td>\n",
       "    </tr>\n",
       "    <tr>\n",
       "      <th>3</th>\n",
       "      <td>Media</td>\n",
       "      <td>NaN</td>\n",
       "      <td>NaN</td>\n",
       "      <td>NaN</td>\n",
       "    </tr>\n",
       "    <tr>\n",
       "      <th>4</th>\n",
       "      <td>Interactive Media &amp; Services</td>\n",
       "      <td>NaN</td>\n",
       "      <td>NaN</td>\n",
       "      <td>NaN</td>\n",
       "    </tr>\n",
       "    <tr>\n",
       "      <th>...</th>\n",
       "      <td>...</td>\n",
       "      <td>...</td>\n",
       "      <td>...</td>\n",
       "      <td>...</td>\n",
       "    </tr>\n",
       "    <tr>\n",
       "      <th>64</th>\n",
       "      <td>Electric Utilities Industry</td>\n",
       "      <td>NaN</td>\n",
       "      <td>NaN</td>\n",
       "      <td>NaN</td>\n",
       "    </tr>\n",
       "    <tr>\n",
       "      <th>65</th>\n",
       "      <td>Gas Utilities Industry</td>\n",
       "      <td>NaN</td>\n",
       "      <td>NaN</td>\n",
       "      <td>NaN</td>\n",
       "    </tr>\n",
       "    <tr>\n",
       "      <th>66</th>\n",
       "      <td>Independent Power and Renewable Electricity Pr...</td>\n",
       "      <td>NaN</td>\n",
       "      <td>NaN</td>\n",
       "      <td>NaN</td>\n",
       "    </tr>\n",
       "    <tr>\n",
       "      <th>67</th>\n",
       "      <td>Multi-Utilities Industry</td>\n",
       "      <td>NaN</td>\n",
       "      <td>NaN</td>\n",
       "      <td>NaN</td>\n",
       "    </tr>\n",
       "    <tr>\n",
       "      <th>68</th>\n",
       "      <td>Water Utilities Industry</td>\n",
       "      <td>NaN</td>\n",
       "      <td>NaN</td>\n",
       "      <td>NaN</td>\n",
       "    </tr>\n",
       "  </tbody>\n",
       "</table>\n",
       "<p>69 rows × 4 columns</p>\n",
       "</div>"
      ],
      "text/plain": [
       "                                           SUB-SECTOR     #1   #2    #3\n",
       "0              Diversified Telecommunication Services    NaN  NaN   NaN\n",
       "1                 Wireless Telecommunication Services    NaN  NaN   NaN\n",
       "2                                       Entertainment  CMCSA  DIS  NFLX\n",
       "3                                               Media    NaN  NaN   NaN\n",
       "4                        Interactive Media & Services    NaN  NaN   NaN\n",
       "..                                                ...    ...  ...   ...\n",
       "64                        Electric Utilities Industry    NaN  NaN   NaN\n",
       "65                             Gas Utilities Industry    NaN  NaN   NaN\n",
       "66  Independent Power and Renewable Electricity Pr...    NaN  NaN   NaN\n",
       "67                           Multi-Utilities Industry    NaN  NaN   NaN\n",
       "68                           Water Utilities Industry    NaN  NaN   NaN\n",
       "\n",
       "[69 rows x 4 columns]"
      ]
     },
     "execution_count": 37,
     "metadata": {},
     "output_type": "execute_result"
    }
   ],
   "source": [
    "df_all = df_all['S&P500 Sector - S&P500 Sector L']; \n",
    "df_all"
   ]
  },
  {
   "cell_type": "code",
   "execution_count": 38,
   "metadata": {},
   "outputs": [
    {
     "data": {
      "text/plain": [
       "Index(['SUB-SECTOR', '#1', '#2', '#3'], dtype='object')"
      ]
     },
     "execution_count": 38,
     "metadata": {},
     "output_type": "execute_result"
    }
   ],
   "source": [
    "df_all.columns"
   ]
  },
  {
   "cell_type": "code",
   "execution_count": 42,
   "metadata": {},
   "outputs": [
    {
     "data": {
      "text/plain": [
       "['Diversified Telecommunication Services',\n",
       " 'Wireless Telecommunication Services',\n",
       " 'Entertainment',\n",
       " 'Media',\n",
       " 'Interactive Media & Services',\n",
       " 'Automobile Components Industry',\n",
       " 'Automobiles Industry',\n",
       " 'Distributors Industry',\n",
       " 'Diversified Consumer Services Industry',\n",
       " 'Hotels, Restaurants & Leisure Industry',\n",
       " 'Household Durables Industry',\n",
       " 'Leisure Products Industry',\n",
       " 'Multiline Retail Industry',\n",
       " 'Specialty Retail Industry',\n",
       " 'Textile, Apparel & Luxury Goods Industry',\n",
       " 'Internet & Direct Marketing',\n",
       " 'Beverages Industry',\n",
       " 'Food & Staples Retailing Industry',\n",
       " 'Food Products Industry',\n",
       " 'Household Products Industry',\n",
       " 'Personal Products Industry',\n",
       " 'Tobacco Industry',\n",
       " 'Energy Equipment & Services Industry',\n",
       " 'Oil, Gas & Consumable Fuels Industry',\n",
       " 'Banking Industry',\n",
       " 'Capital Markets Industry',\n",
       " 'Consumer Finance Industry',\n",
       " 'Diversified Financial Services Industry',\n",
       " 'Insurance Industry',\n",
       " 'Mortgage Real Estate Investment Trusts (REITs) Industry',\n",
       " 'Thrifts & Mortgage Finance Industry',\n",
       " 'Biotechnology Industry',\n",
       " 'Health Care Equipment & Supplies Industry',\n",
       " 'Health Care Providers & Services Industry',\n",
       " 'Health Care Technology Industry',\n",
       " 'Life Sciences Tools & Services Industry',\n",
       " 'Pharmaceuticals Industry',\n",
       " 'Aerospace & Defense Industry',\n",
       " 'Air Freight & Logistics Industry',\n",
       " 'Airlines Industry',\n",
       " 'Building Products Industry',\n",
       " 'Commercial Services & Supplies Industry',\n",
       " 'Construction & Engineering Industry',\n",
       " 'Electrical Equipment Industry',\n",
       " 'Industrial Conglomerates Industry',\n",
       " 'Machinery Industry',\n",
       " 'Marine Industry',\n",
       " 'Professional Services Industry',\n",
       " 'Road & Rail Industry',\n",
       " 'Trading Companies & Distributors Industry',\n",
       " 'Transportation Infrastructure Industry',\n",
       " 'Communications Equipment Industry',\n",
       " 'Electronic Equipment, Instruments & Components Industry',\n",
       " 'IT Services Industry',\n",
       " 'Semiconductors & Semiconductor Equipment Industry',\n",
       " 'Software Industry',\n",
       " 'Technology Hardware, Storage & Peripherals Industry',\n",
       " 'Chemicals Industry',\n",
       " 'Construction Materials Industry',\n",
       " 'Containers & Packaging Industry',\n",
       " 'Metals & Mining Industry',\n",
       " 'Paper & Forest Products Industry',\n",
       " 'Equity Real Estate Investment Trusts',\n",
       " 'Real Estate Management & Development',\n",
       " 'Electric Utilities Industry',\n",
       " 'Gas Utilities Industry',\n",
       " 'Independent Power and Renewable Electricity Producers Industry',\n",
       " 'Multi-Utilities Industry',\n",
       " 'Water Utilities Industry']"
      ]
     },
     "execution_count": 42,
     "metadata": {},
     "output_type": "execute_result"
    }
   ],
   "source": [
    "sub_sector_lst = list(df_all['SUB-SECTOR']); sub_sector_lst"
   ]
  },
  {
   "cell_type": "code",
   "execution_count": null,
   "metadata": {},
   "outputs": [],
   "source": []
  }
 ],
 "metadata": {
  "interpreter": {
   "hash": "7705c2ccca148da221e0e1afab93e7ead3fbbeadf8d47ae56fb7d81a9de51715"
  },
  "kernelspec": {
   "display_name": "Python 3.7.11",
   "language": "python",
   "name": "python3"
  },
  "language_info": {
   "codemirror_mode": {
    "name": "ipython",
    "version": 3
   },
   "file_extension": ".py",
   "mimetype": "text/x-python",
   "name": "python",
   "nbconvert_exporter": "python",
   "pygments_lexer": "ipython3",
   "version": "3.7.11"
  },
  "orig_nbformat": 4
 },
 "nbformat": 4,
 "nbformat_minor": 2
}
